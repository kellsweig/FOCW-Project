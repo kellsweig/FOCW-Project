{
 "cells": [
  {
   "cell_type": "markdown",
   "id": "89f751fd-181b-4bea-96af-77063d9a3bf6",
   "metadata": {},
   "source": [
    "# Data Cleaning"
   ]
  },
  {
   "cell_type": "code",
   "execution_count": 2,
   "id": "1508860c-8d47-48b3-bbdf-78791c2984e8",
   "metadata": {
    "tags": []
   },
   "outputs": [],
   "source": [
    "# Imports \n",
    "import numpy as np\n",
    "import pandas as pd\n",
    "import matplotlib.pyplot as plt\n",
    "import seaborn as sns"
   ]
  },
  {
   "cell_type": "code",
   "execution_count": 793,
   "id": "0abcc460-fa4a-4581-a717-85b25a4f9bf2",
   "metadata": {
    "tags": []
   },
   "outputs": [],
   "source": [
    "# Reading in the 2021 and 2022 data\n",
    "df_2022 = pd.read_csv('data/FOCW_CBI_21_22_shift.csv')"
   ]
  },
  {
   "cell_type": "code",
   "execution_count": 794,
   "id": "09ba49f4-c1f6-45f1-87bb-50a67a30d7d8",
   "metadata": {
    "tags": []
   },
   "outputs": [],
   "source": [
    "# Reading the 2023 data\n",
    "df_2023 = pd.read_csv(\"data/SHIFTS (2).csv\")"
   ]
  },
  {
   "cell_type": "code",
   "execution_count": 795,
   "id": "01ae540d-d563-44d3-b94d-c38b975e6e26",
   "metadata": {
    "tags": []
   },
   "outputs": [
    {
     "data": {
      "text/html": [
       "<div>\n",
       "<style scoped>\n",
       "    .dataframe tbody tr th:only-of-type {\n",
       "        vertical-align: middle;\n",
       "    }\n",
       "\n",
       "    .dataframe tbody tr th {\n",
       "        vertical-align: top;\n",
       "    }\n",
       "\n",
       "    .dataframe thead th {\n",
       "        text-align: right;\n",
       "    }\n",
       "</style>\n",
       "<table border=\"1\" class=\"dataframe\">\n",
       "  <thead>\n",
       "    <tr style=\"text-align: right;\">\n",
       "      <th></th>\n",
       "      <th>objectid</th>\n",
       "      <th>YEAR</th>\n",
       "      <th>VISIT_DATE</th>\n",
       "      <th>DAY_OF_WEEK</th>\n",
       "      <th>AGENCY_DESC</th>\n",
       "      <th>AGENCY_ID</th>\n",
       "      <th>SITE_NAME</th>\n",
       "      <th>SITE_ID</th>\n",
       "      <th>LAT</th>\n",
       "      <th>LONG</th>\n",
       "      <th>...</th>\n",
       "      <th>PAY_VOL</th>\n",
       "      <th>START_SHIFT</th>\n",
       "      <th>TRAILERS</th>\n",
       "      <th>INSPECTIONS</th>\n",
       "      <th>END_SHIFT</th>\n",
       "      <th>SHIFT_LENGTH</th>\n",
       "      <th>SURVEY</th>\n",
       "      <th>COMMENTS</th>\n",
       "      <th>TOTALINSP</th>\n",
       "      <th>NUMINVASIVE</th>\n",
       "    </tr>\n",
       "  </thead>\n",
       "  <tbody>\n",
       "    <tr>\n",
       "      <th>0</th>\n",
       "      <td>8977</td>\n",
       "      <td>2021</td>\n",
       "      <td>5/28/2021</td>\n",
       "      <td>Fri</td>\n",
       "      <td>FOCW (Friends of the Cobbossee Watershed)</td>\n",
       "      <td>50</td>\n",
       "      <td>Launch Drive</td>\n",
       "      <td>376</td>\n",
       "      <td>44.23825</td>\n",
       "      <td>-69.96728</td>\n",
       "      <td>...</td>\n",
       "      <td>Paid</td>\n",
       "      <td>12:00</td>\n",
       "      <td>10.0</td>\n",
       "      <td>Yes</td>\n",
       "      <td>18:00</td>\n",
       "      <td>360</td>\n",
       "      <td>During shift/at ramp</td>\n",
       "      <td>NaN</td>\n",
       "      <td>33</td>\n",
       "      <td>NaN</td>\n",
       "    </tr>\n",
       "  </tbody>\n",
       "</table>\n",
       "<p>1 rows × 28 columns</p>\n",
       "</div>"
      ],
      "text/plain": [
       "   objectid  YEAR VISIT_DATE DAY_OF_WEEK  \\\n",
       "0      8977  2021  5/28/2021         Fri   \n",
       "\n",
       "                                 AGENCY_DESC  AGENCY_ID     SITE_NAME  \\\n",
       "0  FOCW (Friends of the Cobbossee Watershed)         50  Launch Drive   \n",
       "\n",
       "   SITE_ID       LAT      LONG  ... PAY_VOL  START_SHIFT TRAILERS  \\\n",
       "0      376  44.23825 -69.96728  ...    Paid        12:00     10.0   \n",
       "\n",
       "   INSPECTIONS END_SHIFT SHIFT_LENGTH                SURVEY  COMMENTS  \\\n",
       "0          Yes     18:00          360  During shift/at ramp       NaN   \n",
       "\n",
       "  TOTALINSP NUMINVASIVE  \n",
       "0        33         NaN  \n",
       "\n",
       "[1 rows x 28 columns]"
      ]
     },
     "execution_count": 795,
     "metadata": {},
     "output_type": "execute_result"
    }
   ],
   "source": [
    "df_2022.head(1)"
   ]
  },
  {
   "cell_type": "code",
   "execution_count": 796,
   "id": "a6f38777-88af-435b-8d5c-50a993959af3",
   "metadata": {
    "tags": []
   },
   "outputs": [
    {
     "data": {
      "text/html": [
       "<div>\n",
       "<style scoped>\n",
       "    .dataframe tbody tr th:only-of-type {\n",
       "        vertical-align: middle;\n",
       "    }\n",
       "\n",
       "    .dataframe tbody tr th {\n",
       "        vertical-align: top;\n",
       "    }\n",
       "\n",
       "    .dataframe thead th {\n",
       "        text-align: right;\n",
       "    }\n",
       "</style>\n",
       "<table border=\"1\" class=\"dataframe\">\n",
       "  <thead>\n",
       "    <tr style=\"text-align: right;\">\n",
       "      <th></th>\n",
       "      <th>ObjectID</th>\n",
       "      <th>DATE1</th>\n",
       "      <th>DAY_OF_WEEK</th>\n",
       "      <th>AGENCY_DESC</th>\n",
       "      <th>SITE_NAME</th>\n",
       "      <th>TOWN</th>\n",
       "      <th>WATERBODY</th>\n",
       "      <th>FNAME</th>\n",
       "      <th>LNAME</th>\n",
       "      <th>INSPECTOR_ID</th>\n",
       "      <th>...</th>\n",
       "      <th>SHIFT_LENGTH</th>\n",
       "      <th>TRAILERS</th>\n",
       "      <th>TOTAL_NM</th>\n",
       "      <th>TOTAL_M</th>\n",
       "      <th>TOTALINSP</th>\n",
       "      <th>COMMENTS</th>\n",
       "      <th>NUMINVASIVE</th>\n",
       "      <th>GlobalID</th>\n",
       "      <th>x</th>\n",
       "      <th>y</th>\n",
       "    </tr>\n",
       "  </thead>\n",
       "  <tbody>\n",
       "    <tr>\n",
       "      <th>0</th>\n",
       "      <td>71</td>\n",
       "      <td>5/12/2023</td>\n",
       "      <td>Fri</td>\n",
       "      <td>FOCW (Friends of the Cobbossee Watershed)</td>\n",
       "      <td>Launch Drive Cobbosseecontee</td>\n",
       "      <td>Monmouth</td>\n",
       "      <td>Cobbosseecontee Lake</td>\n",
       "      <td>Emily</td>\n",
       "      <td>Lucas</td>\n",
       "      <td>5305</td>\n",
       "      <td>...</td>\n",
       "      <td>190</td>\n",
       "      <td>2.0</td>\n",
       "      <td>0.0</td>\n",
       "      <td>5</td>\n",
       "      <td>5.0</td>\n",
       "      <td>\\r\\n</td>\n",
       "      <td>0.0</td>\n",
       "      <td>2efd8f58-5a9e-4b75-8e56-4cb720b404ab</td>\n",
       "      <td>-69.96728</td>\n",
       "      <td>44.23825</td>\n",
       "    </tr>\n",
       "  </tbody>\n",
       "</table>\n",
       "<p>1 rows × 23 columns</p>\n",
       "</div>"
      ],
      "text/plain": [
       "   ObjectID      DATE1 DAY_OF_WEEK                                AGENCY_DESC  \\\n",
       "0        71  5/12/2023         Fri  FOCW (Friends of the Cobbossee Watershed)   \n",
       "\n",
       "                      SITE_NAME      TOWN             WATERBODY  FNAME  LNAME  \\\n",
       "0  Launch Drive Cobbosseecontee  Monmouth  Cobbosseecontee Lake  Emily  Lucas   \n",
       "\n",
       "   INSPECTOR_ID  ... SHIFT_LENGTH TRAILERS TOTAL_NM  TOTAL_M  TOTALINSP  \\\n",
       "0          5305  ...          190      2.0      0.0        5        5.0   \n",
       "\n",
       "   COMMENTS  NUMINVASIVE                              GlobalID         x  \\\n",
       "0      \\r\\n          0.0  2efd8f58-5a9e-4b75-8e56-4cb720b404ab -69.96728   \n",
       "\n",
       "          y  \n",
       "0  44.23825  \n",
       "\n",
       "[1 rows x 23 columns]"
      ]
     },
     "execution_count": 796,
     "metadata": {},
     "output_type": "execute_result"
    }
   ],
   "source": [
    "df_2023.head(1)"
   ]
  },
  {
   "cell_type": "code",
   "execution_count": 797,
   "id": "ede59bbe-6f34-49c1-89c6-840d9e16fd4a",
   "metadata": {
    "tags": []
   },
   "outputs": [],
   "source": [
    "# Renaming variables from 2021/2022 data to match 2023 df names\n",
    "df_2022.rename(columns={'objectid': 'ObjectID', 'VISIT_DATE': 'DATE1', 'START_SHIFT': 'SHIFT_START', 'END_SHIFT': 'SHIFT_END'}, inplace=True)"
   ]
  },
  {
   "cell_type": "code",
   "execution_count": 798,
   "id": "3fa8c3e6-8f78-4a55-8aa0-4dd4f6072f97",
   "metadata": {
    "tags": []
   },
   "outputs": [],
   "source": [
    "df_2023.drop(columns=['ObjectID', 'AGENCY_DESC', 'FNAME', 'LNAME', 'NUMINVASIVE', 'TOTAL_NM', 'TOTAL_M', 'COMMENTS', 'GlobalID', 'x', 'y'], inplace=True)"
   ]
  },
  {
   "cell_type": "markdown",
   "id": "f5da53f9-13b0-4b5f-af6e-2d9493204131",
   "metadata": {},
   "source": [
    "The names of the inspectors aren't necessary and should be dropped to preserve employee privacy. The number of invasive species identified, the number of motorized vehicles, and the number of non-motorized vehicles are all variables that would not be known before a shift begins. These variables are actually dependent on the number of inspections (the dependent variable in the model) rather than predictive of this variable.\n",
    "\n",
    "Comments, IDs of the site, and longitutde/ latitude are all redundant with the site_name. "
   ]
  },
  {
   "cell_type": "code",
   "execution_count": 799,
   "id": "85e0e0bf-e48d-47a2-ab47-60b7e246ca62",
   "metadata": {
    "tags": []
   },
   "outputs": [],
   "source": [
    "df_2022.drop(columns=['ObjectID', 'YEAR', 'AGENCY_DESC', 'AGENCY_ID', 'SITE_ID', 'LAT', 'LONG', 'SURVEY', 'COMMENTS', 'NUMINVASIVE'], inplace=True)"
   ]
  },
  {
   "cell_type": "code",
   "execution_count": 800,
   "id": "8257c5d0-d418-4b22-9390-84d75e069bad",
   "metadata": {
    "tags": []
   },
   "outputs": [
    {
     "data": {
      "text/html": [
       "<div>\n",
       "<style scoped>\n",
       "    .dataframe tbody tr th:only-of-type {\n",
       "        vertical-align: middle;\n",
       "    }\n",
       "\n",
       "    .dataframe tbody tr th {\n",
       "        vertical-align: top;\n",
       "    }\n",
       "\n",
       "    .dataframe thead th {\n",
       "        text-align: right;\n",
       "    }\n",
       "</style>\n",
       "<table border=\"1\" class=\"dataframe\">\n",
       "  <thead>\n",
       "    <tr style=\"text-align: right;\">\n",
       "      <th></th>\n",
       "      <th>DATE1</th>\n",
       "      <th>DAY_OF_WEEK</th>\n",
       "      <th>SITE_NAME</th>\n",
       "      <th>TOWN</th>\n",
       "      <th>WATERBODY</th>\n",
       "      <th>INSPECTOR_ID</th>\n",
       "      <th>PAY_VOL</th>\n",
       "      <th>SHIFT_START</th>\n",
       "      <th>SHIFT_END</th>\n",
       "      <th>SHIFT_LENGTH</th>\n",
       "      <th>TRAILERS</th>\n",
       "      <th>TOTALINSP</th>\n",
       "    </tr>\n",
       "  </thead>\n",
       "  <tbody>\n",
       "    <tr>\n",
       "      <th>0</th>\n",
       "      <td>5/12/2023</td>\n",
       "      <td>Fri</td>\n",
       "      <td>Launch Drive Cobbosseecontee</td>\n",
       "      <td>Monmouth</td>\n",
       "      <td>Cobbosseecontee Lake</td>\n",
       "      <td>5305</td>\n",
       "      <td>Paid</td>\n",
       "      <td>08:50</td>\n",
       "      <td>12:00</td>\n",
       "      <td>190</td>\n",
       "      <td>2.0</td>\n",
       "      <td>5.0</td>\n",
       "    </tr>\n",
       "  </tbody>\n",
       "</table>\n",
       "</div>"
      ],
      "text/plain": [
       "       DATE1 DAY_OF_WEEK                     SITE_NAME      TOWN  \\\n",
       "0  5/12/2023         Fri  Launch Drive Cobbosseecontee  Monmouth   \n",
       "\n",
       "              WATERBODY  INSPECTOR_ID PAY_VOL SHIFT_START SHIFT_END  \\\n",
       "0  Cobbosseecontee Lake          5305    Paid       08:50     12:00   \n",
       "\n",
       "   SHIFT_LENGTH  TRAILERS  TOTALINSP  \n",
       "0           190       2.0        5.0  "
      ]
     },
     "execution_count": 800,
     "metadata": {},
     "output_type": "execute_result"
    }
   ],
   "source": [
    "df_2023.head(1)"
   ]
  },
  {
   "cell_type": "code",
   "execution_count": 801,
   "id": "020da766-49cc-4cd5-b26e-af13796c239b",
   "metadata": {
    "tags": []
   },
   "outputs": [
    {
     "data": {
      "text/html": [
       "<div>\n",
       "<style scoped>\n",
       "    .dataframe tbody tr th:only-of-type {\n",
       "        vertical-align: middle;\n",
       "    }\n",
       "\n",
       "    .dataframe tbody tr th {\n",
       "        vertical-align: top;\n",
       "    }\n",
       "\n",
       "    .dataframe thead th {\n",
       "        text-align: right;\n",
       "    }\n",
       "</style>\n",
       "<table border=\"1\" class=\"dataframe\">\n",
       "  <thead>\n",
       "    <tr style=\"text-align: right;\">\n",
       "      <th></th>\n",
       "      <th>DATE1</th>\n",
       "      <th>DAY_OF_WEEK</th>\n",
       "      <th>SITE_NAME</th>\n",
       "      <th>TOWN</th>\n",
       "      <th>WATER_REGION_ID</th>\n",
       "      <th>WATERBODY</th>\n",
       "      <th>MIDAS</th>\n",
       "      <th>NAME_FL</th>\n",
       "      <th>FNAME</th>\n",
       "      <th>LNAME</th>\n",
       "      <th>INSPECTOR_ID</th>\n",
       "      <th>PAY_VOL</th>\n",
       "      <th>SHIFT_START</th>\n",
       "      <th>TRAILERS</th>\n",
       "      <th>INSPECTIONS</th>\n",
       "      <th>SHIFT_END</th>\n",
       "      <th>SHIFT_LENGTH</th>\n",
       "      <th>TOTALINSP</th>\n",
       "    </tr>\n",
       "  </thead>\n",
       "  <tbody>\n",
       "    <tr>\n",
       "      <th>0</th>\n",
       "      <td>5/28/2021</td>\n",
       "      <td>Fri</td>\n",
       "      <td>Launch Drive</td>\n",
       "      <td>Monmouth</td>\n",
       "      <td>698</td>\n",
       "      <td>Cobbosseecontee Lake</td>\n",
       "      <td>5236</td>\n",
       "      <td>Kathryn Ross</td>\n",
       "      <td>Kathryn</td>\n",
       "      <td>Ross</td>\n",
       "      <td>4771</td>\n",
       "      <td>Paid</td>\n",
       "      <td>12:00</td>\n",
       "      <td>10.0</td>\n",
       "      <td>Yes</td>\n",
       "      <td>18:00</td>\n",
       "      <td>360</td>\n",
       "      <td>33</td>\n",
       "    </tr>\n",
       "  </tbody>\n",
       "</table>\n",
       "</div>"
      ],
      "text/plain": [
       "       DATE1 DAY_OF_WEEK     SITE_NAME      TOWN  WATER_REGION_ID  \\\n",
       "0  5/28/2021         Fri  Launch Drive  Monmouth              698   \n",
       "\n",
       "              WATERBODY  MIDAS       NAME_FL    FNAME LNAME  INSPECTOR_ID  \\\n",
       "0  Cobbosseecontee Lake   5236  Kathryn Ross  Kathryn  Ross          4771   \n",
       "\n",
       "  PAY_VOL SHIFT_START  TRAILERS INSPECTIONS SHIFT_END  SHIFT_LENGTH  TOTALINSP  \n",
       "0    Paid       12:00      10.0         Yes     18:00           360         33  "
      ]
     },
     "execution_count": 801,
     "metadata": {},
     "output_type": "execute_result"
    }
   ],
   "source": [
    "df_2022.head(1)"
   ]
  },
  {
   "cell_type": "code",
   "execution_count": 802,
   "id": "2bb1ee0a-7cc2-4968-89f8-e3f13421091e",
   "metadata": {
    "tags": []
   },
   "outputs": [],
   "source": [
    "df_2022.drop(columns=['WATER_REGION_ID', 'MIDAS', 'NAME_FL', 'FNAME', 'LNAME', 'INSPECTIONS'], inplace=True)"
   ]
  },
  {
   "cell_type": "code",
   "execution_count": 803,
   "id": "efa4202d-5949-4a43-b4f6-2722a99472dc",
   "metadata": {
    "tags": []
   },
   "outputs": [
    {
     "data": {
      "text/html": [
       "<div>\n",
       "<style scoped>\n",
       "    .dataframe tbody tr th:only-of-type {\n",
       "        vertical-align: middle;\n",
       "    }\n",
       "\n",
       "    .dataframe tbody tr th {\n",
       "        vertical-align: top;\n",
       "    }\n",
       "\n",
       "    .dataframe thead th {\n",
       "        text-align: right;\n",
       "    }\n",
       "</style>\n",
       "<table border=\"1\" class=\"dataframe\">\n",
       "  <thead>\n",
       "    <tr style=\"text-align: right;\">\n",
       "      <th></th>\n",
       "      <th>DATE1</th>\n",
       "      <th>DAY_OF_WEEK</th>\n",
       "      <th>SITE_NAME</th>\n",
       "      <th>TOWN</th>\n",
       "      <th>WATERBODY</th>\n",
       "      <th>INSPECTOR_ID</th>\n",
       "      <th>PAY_VOL</th>\n",
       "      <th>SHIFT_START</th>\n",
       "      <th>TRAILERS</th>\n",
       "      <th>SHIFT_END</th>\n",
       "      <th>SHIFT_LENGTH</th>\n",
       "      <th>TOTALINSP</th>\n",
       "    </tr>\n",
       "  </thead>\n",
       "  <tbody>\n",
       "    <tr>\n",
       "      <th>0</th>\n",
       "      <td>5/28/2021</td>\n",
       "      <td>Fri</td>\n",
       "      <td>Launch Drive</td>\n",
       "      <td>Monmouth</td>\n",
       "      <td>Cobbosseecontee Lake</td>\n",
       "      <td>4771</td>\n",
       "      <td>Paid</td>\n",
       "      <td>12:00</td>\n",
       "      <td>10.0</td>\n",
       "      <td>18:00</td>\n",
       "      <td>360</td>\n",
       "      <td>33</td>\n",
       "    </tr>\n",
       "  </tbody>\n",
       "</table>\n",
       "</div>"
      ],
      "text/plain": [
       "       DATE1 DAY_OF_WEEK     SITE_NAME      TOWN             WATERBODY  \\\n",
       "0  5/28/2021         Fri  Launch Drive  Monmouth  Cobbosseecontee Lake   \n",
       "\n",
       "   INSPECTOR_ID PAY_VOL SHIFT_START  TRAILERS SHIFT_END  SHIFT_LENGTH  \\\n",
       "0          4771    Paid       12:00      10.0     18:00           360   \n",
       "\n",
       "   TOTALINSP  \n",
       "0         33  "
      ]
     },
     "execution_count": 803,
     "metadata": {},
     "output_type": "execute_result"
    }
   ],
   "source": [
    "df_2022.head(1)"
   ]
  },
  {
   "cell_type": "code",
   "execution_count": 804,
   "id": "b7323615-d991-4d00-9430-99865bc10d95",
   "metadata": {
    "tags": []
   },
   "outputs": [],
   "source": [
    "# Concatenating the 2021, 2022, and 2023 data into 1 df\n",
    "shift_df = pd.concat([df_2022, df_2023], axis=0, ignore_index=False)"
   ]
  },
  {
   "cell_type": "code",
   "execution_count": 805,
   "id": "6483f235-95af-4063-a3a6-fd454a0f1007",
   "metadata": {},
   "outputs": [
    {
     "data": {
      "text/plain": [
       "DATE1            object\n",
       "DAY_OF_WEEK      object\n",
       "SITE_NAME        object\n",
       "TOWN             object\n",
       "WATERBODY        object\n",
       "INSPECTOR_ID      int64\n",
       "PAY_VOL          object\n",
       "SHIFT_START      object\n",
       "TRAILERS        float64\n",
       "SHIFT_END        object\n",
       "SHIFT_LENGTH      int64\n",
       "TOTALINSP       float64\n",
       "dtype: object"
      ]
     },
     "execution_count": 805,
     "metadata": {},
     "output_type": "execute_result"
    }
   ],
   "source": [
    "shift_df.dtypes"
   ]
  },
  {
   "cell_type": "code",
   "execution_count": 806,
   "id": "7f13b1a6-d007-40db-baca-28e17a1362e8",
   "metadata": {},
   "outputs": [
    {
     "data": {
      "text/plain": [
       "(2669, 12)"
      ]
     },
     "execution_count": 806,
     "metadata": {},
     "output_type": "execute_result"
    }
   ],
   "source": [
    "shift_df.shape"
   ]
  },
  {
   "cell_type": "markdown",
   "id": "860f50ac-b494-47b5-b083-19ea56843c55",
   "metadata": {},
   "source": [
    "### Data Cleaning"
   ]
  },
  {
   "cell_type": "code",
   "execution_count": 807,
   "id": "81ce6d13-650d-4b3f-b79a-45c5c1bec234",
   "metadata": {
    "tags": []
   },
   "outputs": [
    {
     "data": {
      "text/plain": [
       "Launch Drive Cobbosseecontee             437\n",
       "East Winthrop Cobbosseecontee            349\n",
       "Lakeside Marina Cobbosseecontee          348\n",
       "Old Kents Hill Road                      264\n",
       "Whippoorwill Road                        183\n",
       "Thorofare Rd                             168\n",
       "Rt 41 North Basin Maranacook             151\n",
       "Beach Road                               140\n",
       "Wilson Pond Road                         135\n",
       "Launch Drive                             132\n",
       "Norcross Point South Basin Maranacook    130\n",
       "Augusta West Kampground                  114\n",
       "East Winthrop                             63\n",
       "Holmes Road Annabessacook                 55\n",
       "Name: SITE_NAME, dtype: int64"
      ]
     },
     "execution_count": 807,
     "metadata": {},
     "output_type": "execute_result"
    }
   ],
   "source": [
    "shift_df.SITE_NAME.value_counts()"
   ]
  },
  {
   "cell_type": "code",
   "execution_count": 808,
   "id": "876e71ee-d0b8-4bbe-abf9-e87e9e7fd125",
   "metadata": {},
   "outputs": [],
   "source": [
    "site_name_dict = {'2022_name': '2023:name',\n",
    "                  'Beach Road': 'Beach Road',\n",
    "                  'East Winthrop Cobbosseecontee': 'East Winthrop Cobbosseecontee',\n",
    "                  'East Winthrop': 'East Winthrop Cobbosseecontee',\n",
    "                  'Holmes Road Annabessacook': 'Holmes Road Annabessacook',\n",
    "                  'Augusta West Kampground': 'Holmes Road Annabessacook',\n",
    "                  'Lakeside Marina Cobbosseecontee': 'Lakeside Marina Cobbosseecontee',\n",
    "                  'Launch Drive Cobbosseecontee': 'Launch Drive Cobbosseecontee',\n",
    "                  'Launch Drive': 'Launch Drive Cobbosseecontee',\n",
    "                  'Norcross Point South Basin Maranacook': 'Norcross Point South Basin Maranacook',\n",
    "                  'Old Kents Hill Road': 'Old Kents Hill Road',\n",
    "                  'Rt 41 North Basin Maranacook': 'Rt 41 North Basin Maranacook',\n",
    "                  'Thorofare Rd': 'Thorofare Rd',\n",
    "                  'Whippoorwill Road': 'Whippoorwill Road',\n",
    "                  'Wilson Pond Road': 'Wilson Pond Road'}\n",
    "\n"
   ]
  },
  {
   "cell_type": "code",
   "execution_count": 809,
   "id": "4100fa67-cd11-4d8b-87bd-a29dcda49b44",
   "metadata": {
    "tags": []
   },
   "outputs": [
    {
     "data": {
      "text/html": [
       "<div>\n",
       "<style scoped>\n",
       "    .dataframe tbody tr th:only-of-type {\n",
       "        vertical-align: middle;\n",
       "    }\n",
       "\n",
       "    .dataframe tbody tr th {\n",
       "        vertical-align: top;\n",
       "    }\n",
       "\n",
       "    .dataframe thead th {\n",
       "        text-align: right;\n",
       "    }\n",
       "</style>\n",
       "<table border=\"1\" class=\"dataframe\">\n",
       "  <thead>\n",
       "    <tr style=\"text-align: right;\">\n",
       "      <th></th>\n",
       "      <th>DATE1</th>\n",
       "      <th>DAY_OF_WEEK</th>\n",
       "      <th>SITE_NAME</th>\n",
       "      <th>TOWN</th>\n",
       "      <th>WATERBODY</th>\n",
       "      <th>INSPECTOR_ID</th>\n",
       "      <th>PAY_VOL</th>\n",
       "      <th>SHIFT_START</th>\n",
       "      <th>TRAILERS</th>\n",
       "      <th>SHIFT_END</th>\n",
       "      <th>SHIFT_LENGTH</th>\n",
       "      <th>TOTALINSP</th>\n",
       "    </tr>\n",
       "  </thead>\n",
       "  <tbody>\n",
       "    <tr>\n",
       "      <th>0</th>\n",
       "      <td>5/28/2021</td>\n",
       "      <td>Fri</td>\n",
       "      <td>Launch Drive Cobbosseecontee</td>\n",
       "      <td>Monmouth</td>\n",
       "      <td>Cobbosseecontee Lake</td>\n",
       "      <td>4771</td>\n",
       "      <td>Paid</td>\n",
       "      <td>12:00</td>\n",
       "      <td>10.0</td>\n",
       "      <td>18:00</td>\n",
       "      <td>360</td>\n",
       "      <td>33.0</td>\n",
       "    </tr>\n",
       "  </tbody>\n",
       "</table>\n",
       "</div>"
      ],
      "text/plain": [
       "       DATE1 DAY_OF_WEEK                     SITE_NAME      TOWN  \\\n",
       "0  5/28/2021         Fri  Launch Drive Cobbosseecontee  Monmouth   \n",
       "\n",
       "              WATERBODY  INSPECTOR_ID PAY_VOL SHIFT_START  TRAILERS SHIFT_END  \\\n",
       "0  Cobbosseecontee Lake          4771    Paid       12:00      10.0     18:00   \n",
       "\n",
       "   SHIFT_LENGTH  TOTALINSP  \n",
       "0           360       33.0  "
      ]
     },
     "execution_count": 809,
     "metadata": {},
     "output_type": "execute_result"
    }
   ],
   "source": [
    "shift_df['SITE_NAME'] = shift_df['SITE_NAME'].map(site_name_dict)\n",
    "shift_df.head(1)"
   ]
  },
  {
   "cell_type": "code",
   "execution_count": 810,
   "id": "c34f720e-8f23-4da7-aca1-9a6983bb6c38",
   "metadata": {
    "tags": []
   },
   "outputs": [
    {
     "data": {
      "text/plain": [
       "Launch Drive Cobbosseecontee             569\n",
       "East Winthrop Cobbosseecontee            412\n",
       "Lakeside Marina Cobbosseecontee          348\n",
       "Old Kents Hill Road                      264\n",
       "Whippoorwill Road                        183\n",
       "Holmes Road Annabessacook                169\n",
       "Thorofare Rd                             168\n",
       "Rt 41 North Basin Maranacook             151\n",
       "Beach Road                               140\n",
       "Wilson Pond Road                         135\n",
       "Norcross Point South Basin Maranacook    130\n",
       "Name: SITE_NAME, dtype: int64"
      ]
     },
     "execution_count": 810,
     "metadata": {},
     "output_type": "execute_result"
    }
   ],
   "source": [
    "shift_df.SITE_NAME.value_counts()"
   ]
  },
  {
   "cell_type": "code",
   "execution_count": 811,
   "id": "2b5a41e9-8934-49a9-aa61-24ee63907358",
   "metadata": {
    "tags": []
   },
   "outputs": [
    {
     "data": {
      "text/plain": [
       "(2321, 12)"
      ]
     },
     "execution_count": 811,
     "metadata": {},
     "output_type": "execute_result"
    }
   ],
   "source": [
    "shift_df = shift_df[shift_df['SITE_NAME'] != 'Lakeside Marina Cobbosseecontee'].copy()\n",
    "shift_df.shape"
   ]
  },
  {
   "cell_type": "code",
   "execution_count": 812,
   "id": "777a48c2-256c-425b-9e65-64ad8e0f90ba",
   "metadata": {
    "tags": []
   },
   "outputs": [
    {
     "data": {
      "text/plain": [
       "Launch Drive Cobbosseecontee             569\n",
       "East Winthrop Cobbosseecontee            412\n",
       "Old Kents Hill Road                      264\n",
       "Whippoorwill Road                        183\n",
       "Holmes Road Annabessacook                169\n",
       "Thorofare Rd                             168\n",
       "Rt 41 North Basin Maranacook             151\n",
       "Beach Road                               140\n",
       "Wilson Pond Road                         135\n",
       "Norcross Point South Basin Maranacook    130\n",
       "Name: SITE_NAME, dtype: int64"
      ]
     },
     "execution_count": 812,
     "metadata": {},
     "output_type": "execute_result"
    }
   ],
   "source": [
    "shift_df.SITE_NAME.value_counts()"
   ]
  },
  {
   "cell_type": "markdown",
   "id": "bb117535-4927-4676-a345-eeebc4fb50fa",
   "metadata": {},
   "source": [
    "### Combining shift data with weather data"
   ]
  },
  {
   "cell_type": "code",
   "execution_count": 822,
   "id": "f117293d-33e6-4661-85a3-4eaadc88fd10",
   "metadata": {
    "tags": []
   },
   "outputs": [],
   "source": [
    "# Reading in weather data\n",
    "weather = pd.read_csv('data/weather.csv')"
   ]
  },
  {
   "cell_type": "markdown",
   "id": "c3c5c48c-d1de-4a60-a760-f2f7309eb77c",
   "metadata": {},
   "source": [
    "Weather data was requested from the National Centers for Environmental Information https://www.ncei.noaa.gov/. Data was requested for the years 2021-2023 for Winthrop, ME. "
   ]
  },
  {
   "cell_type": "code",
   "execution_count": 823,
   "id": "61ed8fe5-c18c-43bf-8fce-aca0518b0704",
   "metadata": {
    "tags": []
   },
   "outputs": [
    {
     "data": {
      "text/html": [
       "<div>\n",
       "<style scoped>\n",
       "    .dataframe tbody tr th:only-of-type {\n",
       "        vertical-align: middle;\n",
       "    }\n",
       "\n",
       "    .dataframe tbody tr th {\n",
       "        vertical-align: top;\n",
       "    }\n",
       "\n",
       "    .dataframe thead th {\n",
       "        text-align: right;\n",
       "    }\n",
       "</style>\n",
       "<table border=\"1\" class=\"dataframe\">\n",
       "  <thead>\n",
       "    <tr style=\"text-align: right;\">\n",
       "      <th></th>\n",
       "      <th>STATION</th>\n",
       "      <th>NAME</th>\n",
       "      <th>LATITUDE</th>\n",
       "      <th>LONGITUDE</th>\n",
       "      <th>ELEVATION</th>\n",
       "      <th>DATE</th>\n",
       "      <th>DAPR</th>\n",
       "      <th>MDPR</th>\n",
       "      <th>PRCP</th>\n",
       "      <th>SNOW</th>\n",
       "      <th>SNWD</th>\n",
       "      <th>TMAX</th>\n",
       "      <th>TMIN</th>\n",
       "      <th>TOBS</th>\n",
       "      <th>WT01</th>\n",
       "      <th>WT03</th>\n",
       "      <th>WT04</th>\n",
       "      <th>WT05</th>\n",
       "      <th>WT06</th>\n",
       "      <th>WT11</th>\n",
       "    </tr>\n",
       "  </thead>\n",
       "  <tbody>\n",
       "    <tr>\n",
       "      <th>0</th>\n",
       "      <td>USC00179721</td>\n",
       "      <td>WINTHROP, ME US</td>\n",
       "      <td>44.30656</td>\n",
       "      <td>-69.97016</td>\n",
       "      <td>63.4</td>\n",
       "      <td>2021-01-01</td>\n",
       "      <td>NaN</td>\n",
       "      <td>NaN</td>\n",
       "      <td>0.0</td>\n",
       "      <td>0.0</td>\n",
       "      <td>0.0</td>\n",
       "      <td>42.0</td>\n",
       "      <td>20.0</td>\n",
       "      <td>25.0</td>\n",
       "      <td>NaN</td>\n",
       "      <td>NaN</td>\n",
       "      <td>NaN</td>\n",
       "      <td>NaN</td>\n",
       "      <td>NaN</td>\n",
       "      <td>NaN</td>\n",
       "    </tr>\n",
       "  </tbody>\n",
       "</table>\n",
       "</div>"
      ],
      "text/plain": [
       "       STATION             NAME  LATITUDE  LONGITUDE  ELEVATION        DATE  \\\n",
       "0  USC00179721  WINTHROP, ME US  44.30656  -69.97016       63.4  2021-01-01   \n",
       "\n",
       "   DAPR  MDPR  PRCP  SNOW  SNWD  TMAX  TMIN  TOBS  WT01  WT03  WT04  WT05  \\\n",
       "0   NaN   NaN   0.0   0.0   0.0  42.0  20.0  25.0   NaN   NaN   NaN   NaN   \n",
       "\n",
       "   WT06  WT11  \n",
       "0   NaN   NaN  "
      ]
     },
     "execution_count": 823,
     "metadata": {},
     "output_type": "execute_result"
    }
   ],
   "source": [
    "weather.head(1)"
   ]
  },
  {
   "cell_type": "code",
   "execution_count": 824,
   "id": "63c1f608-a3ca-4820-81ba-c5c48c2539da",
   "metadata": {
    "tags": []
   },
   "outputs": [],
   "source": [
    "weather.drop(columns=['STATION', 'LATITUDE', 'LONGITUDE', 'ELEVATION', 'DAPR', 'MDPR', 'SNWD', 'WT01', 'WT03', 'WT04', 'WT05', 'WT06', 'WT11', 'SNOW', 'TOBS'], inplace=True) "
   ]
  },
  {
   "cell_type": "code",
   "execution_count": 825,
   "id": "f2963576-f571-421a-bc01-b4d95b56cfd7",
   "metadata": {
    "tags": []
   },
   "outputs": [
    {
     "data": {
      "text/html": [
       "<div>\n",
       "<style scoped>\n",
       "    .dataframe tbody tr th:only-of-type {\n",
       "        vertical-align: middle;\n",
       "    }\n",
       "\n",
       "    .dataframe tbody tr th {\n",
       "        vertical-align: top;\n",
       "    }\n",
       "\n",
       "    .dataframe thead th {\n",
       "        text-align: right;\n",
       "    }\n",
       "</style>\n",
       "<table border=\"1\" class=\"dataframe\">\n",
       "  <thead>\n",
       "    <tr style=\"text-align: right;\">\n",
       "      <th></th>\n",
       "      <th>NAME</th>\n",
       "      <th>DATE</th>\n",
       "      <th>PRCP</th>\n",
       "      <th>TMAX</th>\n",
       "      <th>TMIN</th>\n",
       "    </tr>\n",
       "  </thead>\n",
       "  <tbody>\n",
       "    <tr>\n",
       "      <th>0</th>\n",
       "      <td>WINTHROP, ME US</td>\n",
       "      <td>2021-01-01</td>\n",
       "      <td>0.00</td>\n",
       "      <td>42.0</td>\n",
       "      <td>20.0</td>\n",
       "    </tr>\n",
       "    <tr>\n",
       "      <th>1</th>\n",
       "      <td>WINTHROP, ME US</td>\n",
       "      <td>2021-01-03</td>\n",
       "      <td>NaN</td>\n",
       "      <td>NaN</td>\n",
       "      <td>NaN</td>\n",
       "    </tr>\n",
       "    <tr>\n",
       "      <th>2</th>\n",
       "      <td>WINTHROP, ME US</td>\n",
       "      <td>2021-01-04</td>\n",
       "      <td>0.00</td>\n",
       "      <td>34.0</td>\n",
       "      <td>26.0</td>\n",
       "    </tr>\n",
       "    <tr>\n",
       "      <th>3</th>\n",
       "      <td>WINTHROP, ME US</td>\n",
       "      <td>2021-01-05</td>\n",
       "      <td>0.04</td>\n",
       "      <td>35.0</td>\n",
       "      <td>28.0</td>\n",
       "    </tr>\n",
       "    <tr>\n",
       "      <th>4</th>\n",
       "      <td>WINTHROP, ME US</td>\n",
       "      <td>2021-01-06</td>\n",
       "      <td>0.03</td>\n",
       "      <td>32.0</td>\n",
       "      <td>25.0</td>\n",
       "    </tr>\n",
       "  </tbody>\n",
       "</table>\n",
       "</div>"
      ],
      "text/plain": [
       "              NAME        DATE  PRCP  TMAX  TMIN\n",
       "0  WINTHROP, ME US  2021-01-01  0.00  42.0  20.0\n",
       "1  WINTHROP, ME US  2021-01-03   NaN   NaN   NaN\n",
       "2  WINTHROP, ME US  2021-01-04  0.00  34.0  26.0\n",
       "3  WINTHROP, ME US  2021-01-05  0.04  35.0  28.0\n",
       "4  WINTHROP, ME US  2021-01-06  0.03  32.0  25.0"
      ]
     },
     "execution_count": 825,
     "metadata": {},
     "output_type": "execute_result"
    }
   ],
   "source": [
    "weather.head()"
   ]
  },
  {
   "cell_type": "code",
   "execution_count": 826,
   "id": "64b99754-8d05-4047-a3b4-ac7411253a97",
   "metadata": {
    "tags": []
   },
   "outputs": [
    {
     "data": {
      "text/plain": [
       "READFIELD 2.0 NNE, ME US    1050\n",
       "WINTHROP, ME US             1037\n",
       "WAYNE 3.2 SSE, ME US         988\n",
       "WINTHROP 1.8 WSW, ME US      301\n",
       "WINTHROP 5.8 NE, ME US       107\n",
       "Name: NAME, dtype: int64"
      ]
     },
     "execution_count": 826,
     "metadata": {},
     "output_type": "execute_result"
    }
   ],
   "source": [
    "weather.NAME.value_counts()"
   ]
  },
  {
   "cell_type": "code",
   "execution_count": 827,
   "id": "12af89f0-d750-4a92-a36c-fc1e12a16a03",
   "metadata": {
    "tags": []
   },
   "outputs": [
    {
     "data": {
      "text/plain": [
       "NAME       0\n",
       "DATE       0\n",
       "PRCP      44\n",
       "TMAX    2542\n",
       "TMIN    2537\n",
       "dtype: int64"
      ]
     },
     "execution_count": 827,
     "metadata": {},
     "output_type": "execute_result"
    }
   ],
   "source": [
    "weather.isna().sum()"
   ]
  },
  {
   "cell_type": "code",
   "execution_count": 828,
   "id": "207a2957-6c2f-4a07-9469-610f75d28998",
   "metadata": {
    "tags": []
   },
   "outputs": [
    {
     "data": {
      "text/plain": [
       "(3483, 5)"
      ]
     },
     "execution_count": 828,
     "metadata": {},
     "output_type": "execute_result"
    }
   ],
   "source": [
    "weather.shape"
   ]
  },
  {
   "cell_type": "code",
   "execution_count": 743,
   "id": "7abc7315-8837-4100-9e17-344c8fa70107",
   "metadata": {
    "tags": []
   },
   "outputs": [],
   "source": [
    "#weather.dropna(inplace=True)"
   ]
  },
  {
   "cell_type": "code",
   "execution_count": 744,
   "id": "d46876b6-9d79-4414-8e79-01b423b38942",
   "metadata": {
    "tags": []
   },
   "outputs": [],
   "source": [
    "#weather.shape"
   ]
  },
  {
   "cell_type": "code",
   "execution_count": 745,
   "id": "15303e78-b34d-4201-bb37-a3fe15c2699d",
   "metadata": {
    "tags": []
   },
   "outputs": [
    {
     "data": {
      "text/html": [
       "<div>\n",
       "<style scoped>\n",
       "    .dataframe tbody tr th:only-of-type {\n",
       "        vertical-align: middle;\n",
       "    }\n",
       "\n",
       "    .dataframe tbody tr th {\n",
       "        vertical-align: top;\n",
       "    }\n",
       "\n",
       "    .dataframe thead th {\n",
       "        text-align: right;\n",
       "    }\n",
       "</style>\n",
       "<table border=\"1\" class=\"dataframe\">\n",
       "  <thead>\n",
       "    <tr style=\"text-align: right;\">\n",
       "      <th></th>\n",
       "      <th>PRCP</th>\n",
       "      <th>TMAX</th>\n",
       "      <th>TMIN</th>\n",
       "    </tr>\n",
       "  </thead>\n",
       "  <tbody>\n",
       "    <tr>\n",
       "      <th>count</th>\n",
       "      <td>3439.000000</td>\n",
       "      <td>941.000000</td>\n",
       "      <td>946.000000</td>\n",
       "    </tr>\n",
       "    <tr>\n",
       "      <th>mean</th>\n",
       "      <td>0.131329</td>\n",
       "      <td>61.587673</td>\n",
       "      <td>41.734672</td>\n",
       "    </tr>\n",
       "    <tr>\n",
       "      <th>std</th>\n",
       "      <td>0.345630</td>\n",
       "      <td>19.305771</td>\n",
       "      <td>18.332104</td>\n",
       "    </tr>\n",
       "    <tr>\n",
       "      <th>min</th>\n",
       "      <td>0.000000</td>\n",
       "      <td>8.000000</td>\n",
       "      <td>-17.000000</td>\n",
       "    </tr>\n",
       "    <tr>\n",
       "      <th>25%</th>\n",
       "      <td>0.000000</td>\n",
       "      <td>46.000000</td>\n",
       "      <td>28.000000</td>\n",
       "    </tr>\n",
       "    <tr>\n",
       "      <th>50%</th>\n",
       "      <td>0.000000</td>\n",
       "      <td>65.000000</td>\n",
       "      <td>44.500000</td>\n",
       "    </tr>\n",
       "    <tr>\n",
       "      <th>75%</th>\n",
       "      <td>0.080000</td>\n",
       "      <td>78.000000</td>\n",
       "      <td>57.000000</td>\n",
       "    </tr>\n",
       "    <tr>\n",
       "      <th>max</th>\n",
       "      <td>5.150000</td>\n",
       "      <td>95.000000</td>\n",
       "      <td>74.000000</td>\n",
       "    </tr>\n",
       "  </tbody>\n",
       "</table>\n",
       "</div>"
      ],
      "text/plain": [
       "              PRCP        TMAX        TMIN\n",
       "count  3439.000000  941.000000  946.000000\n",
       "mean      0.131329   61.587673   41.734672\n",
       "std       0.345630   19.305771   18.332104\n",
       "min       0.000000    8.000000  -17.000000\n",
       "25%       0.000000   46.000000   28.000000\n",
       "50%       0.000000   65.000000   44.500000\n",
       "75%       0.080000   78.000000   57.000000\n",
       "max       5.150000   95.000000   74.000000"
      ]
     },
     "execution_count": 745,
     "metadata": {},
     "output_type": "execute_result"
    }
   ],
   "source": [
    "weather.describe()"
   ]
  },
  {
   "cell_type": "code",
   "execution_count": 746,
   "id": "7a7aa1f3-3e00-4f60-9d2f-bd4cf7b97c11",
   "metadata": {
    "tags": []
   },
   "outputs": [],
   "source": [
    "weather = weather[weather['NAME']== 'WINTHROP, ME US']"
   ]
  },
  {
   "cell_type": "code",
   "execution_count": 747,
   "id": "71551f86-3f09-4500-861d-cdbf62da4112",
   "metadata": {
    "tags": []
   },
   "outputs": [
    {
     "data": {
      "text/plain": [
       "(1037, 5)"
      ]
     },
     "execution_count": 747,
     "metadata": {},
     "output_type": "execute_result"
    }
   ],
   "source": [
    "weather.shape"
   ]
  },
  {
   "cell_type": "code",
   "execution_count": 748,
   "id": "ac72ac52-abee-4b11-aada-c45536f19490",
   "metadata": {
    "tags": []
   },
   "outputs": [
    {
     "data": {
      "text/plain": [
       "NAME     0\n",
       "DATE     0\n",
       "PRCP    22\n",
       "TMAX    96\n",
       "TMIN    91\n",
       "dtype: int64"
      ]
     },
     "execution_count": 748,
     "metadata": {},
     "output_type": "execute_result"
    }
   ],
   "source": [
    "weather.isna().sum()"
   ]
  },
  {
   "cell_type": "code",
   "execution_count": 749,
   "id": "01a0367d-0352-4cab-9aab-896f494e1aab",
   "metadata": {
    "tags": []
   },
   "outputs": [],
   "source": [
    "# The precipitation and temperature data for some dates is missing.\n",
    "weather.fillna(method='bfill', inplace=True)"
   ]
  },
  {
   "cell_type": "markdown",
   "id": "f1420ef2-41d4-465b-9008-cc00d03b69da",
   "metadata": {},
   "source": [
    "#### Dealing with missing Weather Data:\n",
    "There are 4 potential solutions for dealing with the missing weather data:\n",
    "1. Dropping the missing data since there are less than 100 days with missing data\n",
    "    - Downsides: **will also need to drop dates from what-if scenarios if weather data is missing**, reduces the size of the data\n",
    "    - Upsides: higher model metrics compared to ffill and comparable to bfill\n",
    "2. Back-filling the data from other dates\n",
    "    - Downsides: multiple dates in a row with missing data, does not capture sudden changes in weather common in Maine, especially precipitation\n",
    "    - Upsides: may be somewhat accurate for temperature which wouldn't change as much day to day, better metrics than ffill\n",
    "3. Forward-filling the data from other dates\n",
    "    - Downsides: multiple dates in a row with missing data, issues capturing accurate precipitation data, worst model metrics\n",
    "    - Upsides: may be useful in conjunction with bfill for sequences of multiple days of missing data\n",
    "4. Combination of forward-filling and back-filling\n",
    "    - Need to try and determine impact on model\n",
    "    - Still may not be effective at estimating missing precipitation data\n",
    "5. Using weather data from other nearby stations to fill in the missing days\n",
    "    - Need to determine if the data for those dates is also missing at other sites"
   ]
  },
  {
   "cell_type": "code",
   "execution_count": 750,
   "id": "e5cdc504-7aab-47f6-aec5-8d913d4217b6",
   "metadata": {
    "tags": []
   },
   "outputs": [
    {
     "data": {
      "text/plain": [
       "NAME    0\n",
       "DATE    0\n",
       "PRCP    0\n",
       "TMAX    0\n",
       "TMIN    0\n",
       "dtype: int64"
      ]
     },
     "execution_count": 750,
     "metadata": {},
     "output_type": "execute_result"
    }
   ],
   "source": [
    "weather.isna().sum()"
   ]
  },
  {
   "cell_type": "code",
   "execution_count": 751,
   "id": "dc96f741-896d-43fe-907a-de81fd2f71d7",
   "metadata": {
    "tags": []
   },
   "outputs": [
    {
     "data": {
      "text/html": [
       "<div>\n",
       "<style scoped>\n",
       "    .dataframe tbody tr th:only-of-type {\n",
       "        vertical-align: middle;\n",
       "    }\n",
       "\n",
       "    .dataframe tbody tr th {\n",
       "        vertical-align: top;\n",
       "    }\n",
       "\n",
       "    .dataframe thead th {\n",
       "        text-align: right;\n",
       "    }\n",
       "</style>\n",
       "<table border=\"1\" class=\"dataframe\">\n",
       "  <thead>\n",
       "    <tr style=\"text-align: right;\">\n",
       "      <th></th>\n",
       "      <th>NAME</th>\n",
       "      <th>DATE</th>\n",
       "      <th>PRCP</th>\n",
       "      <th>TMAX</th>\n",
       "      <th>TMIN</th>\n",
       "    </tr>\n",
       "  </thead>\n",
       "  <tbody>\n",
       "    <tr>\n",
       "      <th>0</th>\n",
       "      <td>WINTHROP, ME US</td>\n",
       "      <td>2021-01-01</td>\n",
       "      <td>0.00</td>\n",
       "      <td>42.0</td>\n",
       "      <td>20.0</td>\n",
       "    </tr>\n",
       "    <tr>\n",
       "      <th>1</th>\n",
       "      <td>WINTHROP, ME US</td>\n",
       "      <td>2021-01-03</td>\n",
       "      <td>0.00</td>\n",
       "      <td>34.0</td>\n",
       "      <td>26.0</td>\n",
       "    </tr>\n",
       "    <tr>\n",
       "      <th>2</th>\n",
       "      <td>WINTHROP, ME US</td>\n",
       "      <td>2021-01-04</td>\n",
       "      <td>0.00</td>\n",
       "      <td>34.0</td>\n",
       "      <td>26.0</td>\n",
       "    </tr>\n",
       "    <tr>\n",
       "      <th>3</th>\n",
       "      <td>WINTHROP, ME US</td>\n",
       "      <td>2021-01-05</td>\n",
       "      <td>0.04</td>\n",
       "      <td>35.0</td>\n",
       "      <td>28.0</td>\n",
       "    </tr>\n",
       "    <tr>\n",
       "      <th>4</th>\n",
       "      <td>WINTHROP, ME US</td>\n",
       "      <td>2021-01-06</td>\n",
       "      <td>0.03</td>\n",
       "      <td>32.0</td>\n",
       "      <td>25.0</td>\n",
       "    </tr>\n",
       "    <tr>\n",
       "      <th>5</th>\n",
       "      <td>WINTHROP, ME US</td>\n",
       "      <td>2021-01-07</td>\n",
       "      <td>0.00</td>\n",
       "      <td>39.0</td>\n",
       "      <td>25.0</td>\n",
       "    </tr>\n",
       "    <tr>\n",
       "      <th>6</th>\n",
       "      <td>WINTHROP, ME US</td>\n",
       "      <td>2021-01-08</td>\n",
       "      <td>0.00</td>\n",
       "      <td>40.0</td>\n",
       "      <td>23.0</td>\n",
       "    </tr>\n",
       "    <tr>\n",
       "      <th>7</th>\n",
       "      <td>WINTHROP, ME US</td>\n",
       "      <td>2021-01-09</td>\n",
       "      <td>0.00</td>\n",
       "      <td>33.0</td>\n",
       "      <td>15.0</td>\n",
       "    </tr>\n",
       "    <tr>\n",
       "      <th>8</th>\n",
       "      <td>WINTHROP, ME US</td>\n",
       "      <td>2021-01-10</td>\n",
       "      <td>0.00</td>\n",
       "      <td>33.0</td>\n",
       "      <td>15.0</td>\n",
       "    </tr>\n",
       "    <tr>\n",
       "      <th>9</th>\n",
       "      <td>WINTHROP, ME US</td>\n",
       "      <td>2021-01-11</td>\n",
       "      <td>0.00</td>\n",
       "      <td>33.0</td>\n",
       "      <td>15.0</td>\n",
       "    </tr>\n",
       "    <tr>\n",
       "      <th>10</th>\n",
       "      <td>WINTHROP, ME US</td>\n",
       "      <td>2021-01-12</td>\n",
       "      <td>0.01</td>\n",
       "      <td>33.0</td>\n",
       "      <td>15.0</td>\n",
       "    </tr>\n",
       "    <tr>\n",
       "      <th>11</th>\n",
       "      <td>WINTHROP, ME US</td>\n",
       "      <td>2021-01-13</td>\n",
       "      <td>0.00</td>\n",
       "      <td>41.0</td>\n",
       "      <td>25.0</td>\n",
       "    </tr>\n",
       "    <tr>\n",
       "      <th>12</th>\n",
       "      <td>WINTHROP, ME US</td>\n",
       "      <td>2021-01-14</td>\n",
       "      <td>0.00</td>\n",
       "      <td>37.0</td>\n",
       "      <td>22.0</td>\n",
       "    </tr>\n",
       "    <tr>\n",
       "      <th>13</th>\n",
       "      <td>WINTHROP, ME US</td>\n",
       "      <td>2021-01-15</td>\n",
       "      <td>0.00</td>\n",
       "      <td>38.0</td>\n",
       "      <td>24.0</td>\n",
       "    </tr>\n",
       "    <tr>\n",
       "      <th>14</th>\n",
       "      <td>WINTHROP, ME US</td>\n",
       "      <td>2021-01-16</td>\n",
       "      <td>0.00</td>\n",
       "      <td>42.0</td>\n",
       "      <td>27.0</td>\n",
       "    </tr>\n",
       "    <tr>\n",
       "      <th>15</th>\n",
       "      <td>WINTHROP, ME US</td>\n",
       "      <td>2021-01-18</td>\n",
       "      <td>0.00</td>\n",
       "      <td>39.0</td>\n",
       "      <td>17.0</td>\n",
       "    </tr>\n",
       "    <tr>\n",
       "      <th>16</th>\n",
       "      <td>WINTHROP, ME US</td>\n",
       "      <td>2021-01-19</td>\n",
       "      <td>0.00</td>\n",
       "      <td>39.0</td>\n",
       "      <td>17.0</td>\n",
       "    </tr>\n",
       "    <tr>\n",
       "      <th>17</th>\n",
       "      <td>WINTHROP, ME US</td>\n",
       "      <td>2021-01-20</td>\n",
       "      <td>0.00</td>\n",
       "      <td>31.0</td>\n",
       "      <td>19.0</td>\n",
       "    </tr>\n",
       "    <tr>\n",
       "      <th>18</th>\n",
       "      <td>WINTHROP, ME US</td>\n",
       "      <td>2021-01-21</td>\n",
       "      <td>0.00</td>\n",
       "      <td>34.0</td>\n",
       "      <td>12.0</td>\n",
       "    </tr>\n",
       "    <tr>\n",
       "      <th>19</th>\n",
       "      <td>WINTHROP, ME US</td>\n",
       "      <td>2021-01-22</td>\n",
       "      <td>0.03</td>\n",
       "      <td>26.0</td>\n",
       "      <td>14.0</td>\n",
       "    </tr>\n",
       "    <tr>\n",
       "      <th>20</th>\n",
       "      <td>WINTHROP, ME US</td>\n",
       "      <td>2021-01-23</td>\n",
       "      <td>0.00</td>\n",
       "      <td>33.0</td>\n",
       "      <td>21.0</td>\n",
       "    </tr>\n",
       "    <tr>\n",
       "      <th>21</th>\n",
       "      <td>WINTHROP, ME US</td>\n",
       "      <td>2021-01-24</td>\n",
       "      <td>0.00</td>\n",
       "      <td>33.0</td>\n",
       "      <td>10.0</td>\n",
       "    </tr>\n",
       "    <tr>\n",
       "      <th>22</th>\n",
       "      <td>WINTHROP, ME US</td>\n",
       "      <td>2021-01-25</td>\n",
       "      <td>0.00</td>\n",
       "      <td>33.0</td>\n",
       "      <td>10.0</td>\n",
       "    </tr>\n",
       "    <tr>\n",
       "      <th>23</th>\n",
       "      <td>WINTHROP, ME US</td>\n",
       "      <td>2021-01-26</td>\n",
       "      <td>0.00</td>\n",
       "      <td>33.0</td>\n",
       "      <td>10.0</td>\n",
       "    </tr>\n",
       "    <tr>\n",
       "      <th>24</th>\n",
       "      <td>WINTHROP, ME US</td>\n",
       "      <td>2021-01-27</td>\n",
       "      <td>0.18</td>\n",
       "      <td>35.0</td>\n",
       "      <td>12.0</td>\n",
       "    </tr>\n",
       "  </tbody>\n",
       "</table>\n",
       "</div>"
      ],
      "text/plain": [
       "               NAME        DATE  PRCP  TMAX  TMIN\n",
       "0   WINTHROP, ME US  2021-01-01  0.00  42.0  20.0\n",
       "1   WINTHROP, ME US  2021-01-03  0.00  34.0  26.0\n",
       "2   WINTHROP, ME US  2021-01-04  0.00  34.0  26.0\n",
       "3   WINTHROP, ME US  2021-01-05  0.04  35.0  28.0\n",
       "4   WINTHROP, ME US  2021-01-06  0.03  32.0  25.0\n",
       "5   WINTHROP, ME US  2021-01-07  0.00  39.0  25.0\n",
       "6   WINTHROP, ME US  2021-01-08  0.00  40.0  23.0\n",
       "7   WINTHROP, ME US  2021-01-09  0.00  33.0  15.0\n",
       "8   WINTHROP, ME US  2021-01-10  0.00  33.0  15.0\n",
       "9   WINTHROP, ME US  2021-01-11  0.00  33.0  15.0\n",
       "10  WINTHROP, ME US  2021-01-12  0.01  33.0  15.0\n",
       "11  WINTHROP, ME US  2021-01-13  0.00  41.0  25.0\n",
       "12  WINTHROP, ME US  2021-01-14  0.00  37.0  22.0\n",
       "13  WINTHROP, ME US  2021-01-15  0.00  38.0  24.0\n",
       "14  WINTHROP, ME US  2021-01-16  0.00  42.0  27.0\n",
       "15  WINTHROP, ME US  2021-01-18  0.00  39.0  17.0\n",
       "16  WINTHROP, ME US  2021-01-19  0.00  39.0  17.0\n",
       "17  WINTHROP, ME US  2021-01-20  0.00  31.0  19.0\n",
       "18  WINTHROP, ME US  2021-01-21  0.00  34.0  12.0\n",
       "19  WINTHROP, ME US  2021-01-22  0.03  26.0  14.0\n",
       "20  WINTHROP, ME US  2021-01-23  0.00  33.0  21.0\n",
       "21  WINTHROP, ME US  2021-01-24  0.00  33.0  10.0\n",
       "22  WINTHROP, ME US  2021-01-25  0.00  33.0  10.0\n",
       "23  WINTHROP, ME US  2021-01-26  0.00  33.0  10.0\n",
       "24  WINTHROP, ME US  2021-01-27  0.18  35.0  12.0"
      ]
     },
     "execution_count": 751,
     "metadata": {},
     "output_type": "execute_result"
    }
   ],
   "source": [
    "weather.head(25)"
   ]
  },
  {
   "cell_type": "code",
   "execution_count": 752,
   "id": "87b6a83c-01ec-4e37-afe5-b49443765d44",
   "metadata": {
    "tags": []
   },
   "outputs": [],
   "source": [
    "# Renaming column to match inspections column\n",
    "weather.rename(columns={'DATE': 'DATE1'}, inplace=True)"
   ]
  },
  {
   "cell_type": "code",
   "execution_count": 753,
   "id": "3fb4cdae-b2db-4be1-9cb0-d7bb9b102916",
   "metadata": {
    "tags": []
   },
   "outputs": [
    {
     "data": {
      "text/html": [
       "<div>\n",
       "<style scoped>\n",
       "    .dataframe tbody tr th:only-of-type {\n",
       "        vertical-align: middle;\n",
       "    }\n",
       "\n",
       "    .dataframe tbody tr th {\n",
       "        vertical-align: top;\n",
       "    }\n",
       "\n",
       "    .dataframe thead th {\n",
       "        text-align: right;\n",
       "    }\n",
       "</style>\n",
       "<table border=\"1\" class=\"dataframe\">\n",
       "  <thead>\n",
       "    <tr style=\"text-align: right;\">\n",
       "      <th></th>\n",
       "      <th>NAME</th>\n",
       "      <th>DATE1</th>\n",
       "      <th>PRCP</th>\n",
       "      <th>TMAX</th>\n",
       "      <th>TMIN</th>\n",
       "    </tr>\n",
       "  </thead>\n",
       "  <tbody>\n",
       "    <tr>\n",
       "      <th>0</th>\n",
       "      <td>WINTHROP, ME US</td>\n",
       "      <td>2021-01-01</td>\n",
       "      <td>0.0</td>\n",
       "      <td>42.0</td>\n",
       "      <td>20.0</td>\n",
       "    </tr>\n",
       "  </tbody>\n",
       "</table>\n",
       "</div>"
      ],
      "text/plain": [
       "              NAME       DATE1  PRCP  TMAX  TMIN\n",
       "0  WINTHROP, ME US  2021-01-01   0.0  42.0  20.0"
      ]
     },
     "execution_count": 753,
     "metadata": {},
     "output_type": "execute_result"
    }
   ],
   "source": [
    "weather.head(1)"
   ]
  },
  {
   "cell_type": "code",
   "execution_count": 754,
   "id": "31dee370-e3f4-47c5-857a-f95c6fa7afd0",
   "metadata": {
    "tags": []
   },
   "outputs": [],
   "source": [
    "weather['DATE1'] = pd.to_datetime(weather['DATE1'])"
   ]
  },
  {
   "cell_type": "code",
   "execution_count": 755,
   "id": "1a0c1f76-51c8-4dd7-91d8-9c9d4cca4a0b",
   "metadata": {
    "tags": []
   },
   "outputs": [
    {
     "data": {
      "text/html": [
       "<div>\n",
       "<style scoped>\n",
       "    .dataframe tbody tr th:only-of-type {\n",
       "        vertical-align: middle;\n",
       "    }\n",
       "\n",
       "    .dataframe tbody tr th {\n",
       "        vertical-align: top;\n",
       "    }\n",
       "\n",
       "    .dataframe thead th {\n",
       "        text-align: right;\n",
       "    }\n",
       "</style>\n",
       "<table border=\"1\" class=\"dataframe\">\n",
       "  <thead>\n",
       "    <tr style=\"text-align: right;\">\n",
       "      <th></th>\n",
       "      <th>NAME</th>\n",
       "      <th>DATE1</th>\n",
       "      <th>PRCP</th>\n",
       "      <th>TMAX</th>\n",
       "      <th>TMIN</th>\n",
       "    </tr>\n",
       "  </thead>\n",
       "  <tbody>\n",
       "    <tr>\n",
       "      <th>0</th>\n",
       "      <td>WINTHROP, ME US</td>\n",
       "      <td>2021-01-01</td>\n",
       "      <td>0.0</td>\n",
       "      <td>42.0</td>\n",
       "      <td>20.0</td>\n",
       "    </tr>\n",
       "  </tbody>\n",
       "</table>\n",
       "</div>"
      ],
      "text/plain": [
       "              NAME      DATE1  PRCP  TMAX  TMIN\n",
       "0  WINTHROP, ME US 2021-01-01   0.0  42.0  20.0"
      ]
     },
     "execution_count": 755,
     "metadata": {},
     "output_type": "execute_result"
    }
   ],
   "source": [
    "weather.head(1)"
   ]
  },
  {
   "cell_type": "code",
   "execution_count": 756,
   "id": "551a8c99-f4c3-4d13-a4cc-9b1061f809d5",
   "metadata": {
    "tags": []
   },
   "outputs": [],
   "source": [
    "weather['DATE1'] = weather['DATE1'].dt.strftime('%m/%d/%Y')"
   ]
  },
  {
   "cell_type": "code",
   "execution_count": 757,
   "id": "f13702c4-a274-4f63-ab92-6df3d38f6465",
   "metadata": {
    "tags": []
   },
   "outputs": [],
   "source": [
    "weather['DATE1']=pd.to_datetime(weather['DATE1'])"
   ]
  },
  {
   "cell_type": "code",
   "execution_count": 758,
   "id": "2ac1308e-9d0b-4275-996c-ff23c496b3b0",
   "metadata": {
    "tags": []
   },
   "outputs": [
    {
     "data": {
      "text/plain": [
       "NAME             object\n",
       "DATE1    datetime64[ns]\n",
       "PRCP            float64\n",
       "TMAX            float64\n",
       "TMIN            float64\n",
       "dtype: object"
      ]
     },
     "execution_count": 758,
     "metadata": {},
     "output_type": "execute_result"
    }
   ],
   "source": [
    "weather.dtypes"
   ]
  },
  {
   "cell_type": "code",
   "execution_count": 759,
   "id": "f1012713-4171-4115-b016-4f26ef919797",
   "metadata": {
    "tags": []
   },
   "outputs": [],
   "source": [
    "weather.drop(columns=['NAME'], inplace=True)"
   ]
  },
  {
   "cell_type": "code",
   "execution_count": 760,
   "id": "935f4924-07fd-4b76-b84f-f70cc6cea7c2",
   "metadata": {
    "tags": []
   },
   "outputs": [
    {
     "data": {
      "text/html": [
       "<div>\n",
       "<style scoped>\n",
       "    .dataframe tbody tr th:only-of-type {\n",
       "        vertical-align: middle;\n",
       "    }\n",
       "\n",
       "    .dataframe tbody tr th {\n",
       "        vertical-align: top;\n",
       "    }\n",
       "\n",
       "    .dataframe thead th {\n",
       "        text-align: right;\n",
       "    }\n",
       "</style>\n",
       "<table border=\"1\" class=\"dataframe\">\n",
       "  <thead>\n",
       "    <tr style=\"text-align: right;\">\n",
       "      <th></th>\n",
       "      <th>DATE1</th>\n",
       "      <th>PRCP</th>\n",
       "      <th>TMAX</th>\n",
       "      <th>TMIN</th>\n",
       "    </tr>\n",
       "  </thead>\n",
       "  <tbody>\n",
       "    <tr>\n",
       "      <th>0</th>\n",
       "      <td>2021-01-01</td>\n",
       "      <td>0.0</td>\n",
       "      <td>42.0</td>\n",
       "      <td>20.0</td>\n",
       "    </tr>\n",
       "  </tbody>\n",
       "</table>\n",
       "</div>"
      ],
      "text/plain": [
       "       DATE1  PRCP  TMAX  TMIN\n",
       "0 2021-01-01   0.0  42.0  20.0"
      ]
     },
     "execution_count": 760,
     "metadata": {},
     "output_type": "execute_result"
    }
   ],
   "source": [
    "weather.head(1)"
   ]
  },
  {
   "cell_type": "code",
   "execution_count": 761,
   "id": "7d0c24d4-9cba-4274-a0c6-522684057b16",
   "metadata": {
    "tags": []
   },
   "outputs": [],
   "source": [
    "shift_df['DATE1'] = pd.to_datetime(shift_df['DATE1'])"
   ]
  },
  {
   "cell_type": "code",
   "execution_count": null,
   "id": "e1c6f93f-02c3-448e-bd6f-73a07cf666ac",
   "metadata": {},
   "outputs": [],
   "source": []
  },
  {
   "cell_type": "code",
   "execution_count": 762,
   "id": "19c52869-7e2b-420e-9265-e9000c36f1ba",
   "metadata": {
    "tags": []
   },
   "outputs": [],
   "source": [
    "# Merging weather data with inspection data\n",
    "df = pd.merge(left=shift_df, right=weather, how='left', on='DATE1')"
   ]
  },
  {
   "cell_type": "code",
   "execution_count": 763,
   "id": "6b093f89-05dd-4c1b-8ee4-a65f01b5f084",
   "metadata": {
    "tags": []
   },
   "outputs": [
    {
     "data": {
      "text/plain": [
       "DATE1             0\n",
       "DAY_OF_WEEK       0\n",
       "SITE_NAME         0\n",
       "TOWN              0\n",
       "WATERBODY         0\n",
       "INSPECTOR_ID      0\n",
       "PAY_VOL           0\n",
       "SHIFT_START       0\n",
       "TRAILERS        204\n",
       "SHIFT_END         0\n",
       "SHIFT_LENGTH      0\n",
       "TOTALINSP         2\n",
       "PRCP              0\n",
       "TMAX              0\n",
       "TMIN              0\n",
       "dtype: int64"
      ]
     },
     "execution_count": 763,
     "metadata": {},
     "output_type": "execute_result"
    }
   ],
   "source": [
    "df.isna().sum()"
   ]
  },
  {
   "cell_type": "code",
   "execution_count": 764,
   "id": "e925557e-2d07-40f9-878e-40e8e0bb40a7",
   "metadata": {
    "tags": []
   },
   "outputs": [
    {
     "data": {
      "text/html": [
       "<div>\n",
       "<style scoped>\n",
       "    .dataframe tbody tr th:only-of-type {\n",
       "        vertical-align: middle;\n",
       "    }\n",
       "\n",
       "    .dataframe tbody tr th {\n",
       "        vertical-align: top;\n",
       "    }\n",
       "\n",
       "    .dataframe thead th {\n",
       "        text-align: right;\n",
       "    }\n",
       "</style>\n",
       "<table border=\"1\" class=\"dataframe\">\n",
       "  <thead>\n",
       "    <tr style=\"text-align: right;\">\n",
       "      <th></th>\n",
       "      <th>DATE1</th>\n",
       "      <th>DAY_OF_WEEK</th>\n",
       "      <th>SITE_NAME</th>\n",
       "      <th>TOWN</th>\n",
       "      <th>WATERBODY</th>\n",
       "      <th>INSPECTOR_ID</th>\n",
       "      <th>PAY_VOL</th>\n",
       "      <th>SHIFT_START</th>\n",
       "      <th>TRAILERS</th>\n",
       "      <th>SHIFT_END</th>\n",
       "      <th>SHIFT_LENGTH</th>\n",
       "      <th>TOTALINSP</th>\n",
       "      <th>PRCP</th>\n",
       "      <th>TMAX</th>\n",
       "      <th>TMIN</th>\n",
       "    </tr>\n",
       "  </thead>\n",
       "  <tbody>\n",
       "    <tr>\n",
       "      <th>0</th>\n",
       "      <td>2021-05-28</td>\n",
       "      <td>Fri</td>\n",
       "      <td>Launch Drive Cobbosseecontee</td>\n",
       "      <td>Monmouth</td>\n",
       "      <td>Cobbosseecontee Lake</td>\n",
       "      <td>4771</td>\n",
       "      <td>Paid</td>\n",
       "      <td>12:00</td>\n",
       "      <td>10.0</td>\n",
       "      <td>18:00</td>\n",
       "      <td>360</td>\n",
       "      <td>33.0</td>\n",
       "      <td>0.00</td>\n",
       "      <td>72.0</td>\n",
       "      <td>45.0</td>\n",
       "    </tr>\n",
       "    <tr>\n",
       "      <th>1</th>\n",
       "      <td>2021-05-28</td>\n",
       "      <td>Fri</td>\n",
       "      <td>Whippoorwill Road</td>\n",
       "      <td>Litchfield</td>\n",
       "      <td>Woodbury Pond</td>\n",
       "      <td>4174</td>\n",
       "      <td>Paid</td>\n",
       "      <td>12:00</td>\n",
       "      <td>1.0</td>\n",
       "      <td>18:00</td>\n",
       "      <td>360</td>\n",
       "      <td>13.0</td>\n",
       "      <td>0.00</td>\n",
       "      <td>72.0</td>\n",
       "      <td>45.0</td>\n",
       "    </tr>\n",
       "    <tr>\n",
       "      <th>2</th>\n",
       "      <td>2021-05-28</td>\n",
       "      <td>Fri</td>\n",
       "      <td>Holmes Road Annabessacook</td>\n",
       "      <td>Winthrop</td>\n",
       "      <td>Annabessacook Lake</td>\n",
       "      <td>4769</td>\n",
       "      <td>Paid</td>\n",
       "      <td>12:00</td>\n",
       "      <td>0.0</td>\n",
       "      <td>18:00</td>\n",
       "      <td>360</td>\n",
       "      <td>1.0</td>\n",
       "      <td>0.00</td>\n",
       "      <td>72.0</td>\n",
       "      <td>45.0</td>\n",
       "    </tr>\n",
       "    <tr>\n",
       "      <th>3</th>\n",
       "      <td>2021-05-28</td>\n",
       "      <td>Fri</td>\n",
       "      <td>East Winthrop Cobbosseecontee</td>\n",
       "      <td>Winthrop</td>\n",
       "      <td>Cobbosseecontee Lake</td>\n",
       "      <td>4485</td>\n",
       "      <td>Paid</td>\n",
       "      <td>12:00</td>\n",
       "      <td>1.0</td>\n",
       "      <td>18:00</td>\n",
       "      <td>360</td>\n",
       "      <td>2.0</td>\n",
       "      <td>0.00</td>\n",
       "      <td>72.0</td>\n",
       "      <td>45.0</td>\n",
       "    </tr>\n",
       "    <tr>\n",
       "      <th>4</th>\n",
       "      <td>2021-05-29</td>\n",
       "      <td>Sat</td>\n",
       "      <td>Thorofare Rd</td>\n",
       "      <td>Litchfield</td>\n",
       "      <td>Pleasant Pond</td>\n",
       "      <td>4944</td>\n",
       "      <td>Paid</td>\n",
       "      <td>7:00</td>\n",
       "      <td>1.0</td>\n",
       "      <td>17:00</td>\n",
       "      <td>600</td>\n",
       "      <td>11.0</td>\n",
       "      <td>0.02</td>\n",
       "      <td>62.0</td>\n",
       "      <td>45.0</td>\n",
       "    </tr>\n",
       "  </tbody>\n",
       "</table>\n",
       "</div>"
      ],
      "text/plain": [
       "       DATE1 DAY_OF_WEEK                      SITE_NAME        TOWN  \\\n",
       "0 2021-05-28         Fri   Launch Drive Cobbosseecontee    Monmouth   \n",
       "1 2021-05-28         Fri              Whippoorwill Road  Litchfield   \n",
       "2 2021-05-28         Fri      Holmes Road Annabessacook    Winthrop   \n",
       "3 2021-05-28         Fri  East Winthrop Cobbosseecontee    Winthrop   \n",
       "4 2021-05-29         Sat                   Thorofare Rd  Litchfield   \n",
       "\n",
       "              WATERBODY  INSPECTOR_ID PAY_VOL SHIFT_START  TRAILERS SHIFT_END  \\\n",
       "0  Cobbosseecontee Lake          4771    Paid       12:00      10.0     18:00   \n",
       "1         Woodbury Pond          4174    Paid       12:00       1.0     18:00   \n",
       "2    Annabessacook Lake          4769    Paid       12:00       0.0     18:00   \n",
       "3  Cobbosseecontee Lake          4485    Paid       12:00       1.0     18:00   \n",
       "4         Pleasant Pond          4944    Paid        7:00       1.0     17:00   \n",
       "\n",
       "   SHIFT_LENGTH  TOTALINSP  PRCP  TMAX  TMIN  \n",
       "0           360       33.0  0.00  72.0  45.0  \n",
       "1           360       13.0  0.00  72.0  45.0  \n",
       "2           360        1.0  0.00  72.0  45.0  \n",
       "3           360        2.0  0.00  72.0  45.0  \n",
       "4           600       11.0  0.02  62.0  45.0  "
      ]
     },
     "execution_count": 764,
     "metadata": {},
     "output_type": "execute_result"
    }
   ],
   "source": [
    "df.head()"
   ]
  },
  {
   "cell_type": "code",
   "execution_count": 765,
   "id": "5a4a1e41-4108-422f-9e70-b11c636828e9",
   "metadata": {
    "tags": []
   },
   "outputs": [
    {
     "data": {
      "text/plain": [
       "(2321, 15)"
      ]
     },
     "execution_count": 765,
     "metadata": {},
     "output_type": "execute_result"
    }
   ],
   "source": [
    "df.shape"
   ]
  },
  {
   "cell_type": "code",
   "execution_count": 766,
   "id": "ce52bb1a-db09-47bf-b0ed-f2d4d407a424",
   "metadata": {
    "tags": []
   },
   "outputs": [],
   "source": [
    "df.reset_index(drop=True, inplace=True)"
   ]
  },
  {
   "cell_type": "code",
   "execution_count": 767,
   "id": "39f9b203-94fb-4ddd-9b05-9e4e768ee8fe",
   "metadata": {
    "tags": []
   },
   "outputs": [
    {
     "data": {
      "text/plain": [
       "(2321, 15)"
      ]
     },
     "execution_count": 767,
     "metadata": {},
     "output_type": "execute_result"
    }
   ],
   "source": [
    "df.shape"
   ]
  },
  {
   "cell_type": "code",
   "execution_count": 768,
   "id": "80d983c8-1a93-4634-bb8c-d3bdc68433fd",
   "metadata": {
    "tags": []
   },
   "outputs": [
    {
     "name": "stdout",
     "output_type": "stream",
     "text": [
      "Empty DataFrame\n",
      "Columns: [DATE1, DAY_OF_WEEK, SITE_NAME, TOWN, WATERBODY, INSPECTOR_ID, PAY_VOL, SHIFT_START, TRAILERS, SHIFT_END, SHIFT_LENGTH, TOTALINSP, PRCP, TMAX, TMIN]\n",
      "Index: []\n"
     ]
    }
   ],
   "source": [
    "duplicate_rows = df.duplicated()\n",
    "print(df[duplicate_rows])"
   ]
  },
  {
   "cell_type": "markdown",
   "id": "ae2dd378-3897-4f0a-a009-85b81c4e329a",
   "metadata": {},
   "source": [
    "# Feature Engineering"
   ]
  },
  {
   "cell_type": "markdown",
   "id": "48770bc9-1f6e-4a95-8253-96c829e0ea48",
   "metadata": {
    "tags": []
   },
   "source": [
    "### Capturing impact of time of day\n",
    "Goal: Create columns for the part of the day when a shift starts and ends"
   ]
  },
  {
   "cell_type": "markdown",
   "id": "8cc2fd15-9be3-4083-b5fb-c7a9a70ba796",
   "metadata": {},
   "source": [
    "#### Creating month, year, and start and end shifts by daypart columns:"
   ]
  },
  {
   "cell_type": "code",
   "execution_count": 769,
   "id": "bdbb3604-78d0-42e8-9b1e-56ba8d0bf789",
   "metadata": {},
   "outputs": [],
   "source": [
    "# Convert 'date1' to datetime\n",
    "df['DATE'] = pd.to_datetime(df['DATE1'], format='%Y/%m/%d')\n",
    "\n",
    "# Create 'month' and 'year' columns\n",
    "df['month'] = df['DATE'].dt.month\n",
    "df['year'] = df['DATE'].dt.year"
   ]
  },
  {
   "cell_type": "code",
   "execution_count": 770,
   "id": "79a9d4da-f8bd-443a-a19a-5fb91d3e4103",
   "metadata": {},
   "outputs": [],
   "source": [
    "df.SHIFT_START = pd.to_datetime(df.SHIFT_START, format='%H:%M')\n",
    "df.SHIFT_END = pd.to_datetime(df.SHIFT_END)"
   ]
  },
  {
   "cell_type": "code",
   "execution_count": 771,
   "id": "275f71aa-c21e-4108-85c6-da913bd6193a",
   "metadata": {},
   "outputs": [],
   "source": [
    "df['SHIFT_START_CATEGORY'] = pd.cut(pd.to_datetime(df['SHIFT_START'], format='%H:%M').dt.hour,\n",
    "                                    bins =[-1, 8, 11, 14, 17, 24],\n",
    "                                    labels=['Early Morning', 'Morning', 'Afternoon', 'Late Afternoon', 'Evening'])\n",
    "                        "
   ]
  },
  {
   "cell_type": "code",
   "execution_count": 772,
   "id": "fde436c0-d838-4f2d-b86e-0ec30e6b7d5d",
   "metadata": {},
   "outputs": [],
   "source": [
    "df['SHIFT_END_CATEGORY'] = pd.cut(pd.to_datetime(df['SHIFT_END'], format='%H:%M').dt.hour,\n",
    "                                    bins =[-1, 8, 11, 14, 17, 19, 24],\n",
    "                                    labels=['Early Morning', 'Morning', 'Afternoon', 'Late Afternoon', 'Evening', 'Night'])\n",
    "                        "
   ]
  },
  {
   "cell_type": "code",
   "execution_count": 773,
   "id": "4dbe91a8-2963-498c-b980-7bb89adbd745",
   "metadata": {},
   "outputs": [
    {
     "data": {
      "text/plain": [
       "Early Morning     1138\n",
       "Afternoon          844\n",
       "Morning            276\n",
       "Late Afternoon      63\n",
       "Evening              0\n",
       "Name: SHIFT_START_CATEGORY, dtype: int64"
      ]
     },
     "execution_count": 773,
     "metadata": {},
     "output_type": "execute_result"
    }
   ],
   "source": [
    "df.SHIFT_START_CATEGORY.value_counts()"
   ]
  },
  {
   "cell_type": "code",
   "execution_count": 774,
   "id": "5c6e80c2-259f-4b8f-b5f7-a93e09d1a9b2",
   "metadata": {},
   "outputs": [
    {
     "data": {
      "text/plain": [
       "Evening           983\n",
       "Afternoon         749\n",
       "Late Afternoon    422\n",
       "Early Morning      78\n",
       "Morning            63\n",
       "Night              26\n",
       "Name: SHIFT_END_CATEGORY, dtype: int64"
      ]
     },
     "execution_count": 774,
     "metadata": {},
     "output_type": "execute_result"
    }
   ],
   "source": [
    "df.SHIFT_END_CATEGORY.value_counts()"
   ]
  },
  {
   "cell_type": "code",
   "execution_count": 775,
   "id": "25546e4c-056d-4c8b-9e30-eee8c8015e40",
   "metadata": {
    "tags": []
   },
   "outputs": [
    {
     "data": {
      "text/plain": [
       "DATE1                     0\n",
       "DAY_OF_WEEK               0\n",
       "SITE_NAME                 0\n",
       "TOWN                      0\n",
       "WATERBODY                 0\n",
       "INSPECTOR_ID              0\n",
       "PAY_VOL                   0\n",
       "SHIFT_START               0\n",
       "TRAILERS                204\n",
       "SHIFT_END                 0\n",
       "SHIFT_LENGTH              0\n",
       "TOTALINSP                 2\n",
       "PRCP                      0\n",
       "TMAX                      0\n",
       "TMIN                      0\n",
       "DATE                      0\n",
       "month                     0\n",
       "year                      0\n",
       "SHIFT_START_CATEGORY      0\n",
       "SHIFT_END_CATEGORY        0\n",
       "dtype: int64"
      ]
     },
     "execution_count": 775,
     "metadata": {},
     "output_type": "execute_result"
    }
   ],
   "source": [
    "df.isna().sum()"
   ]
  },
  {
   "cell_type": "code",
   "execution_count": 776,
   "id": "b6e876e2-3193-41e1-8e8f-04e7da377850",
   "metadata": {
    "tags": []
   },
   "outputs": [
    {
     "data": {
      "text/html": [
       "<div>\n",
       "<style scoped>\n",
       "    .dataframe tbody tr th:only-of-type {\n",
       "        vertical-align: middle;\n",
       "    }\n",
       "\n",
       "    .dataframe tbody tr th {\n",
       "        vertical-align: top;\n",
       "    }\n",
       "\n",
       "    .dataframe thead th {\n",
       "        text-align: right;\n",
       "    }\n",
       "</style>\n",
       "<table border=\"1\" class=\"dataframe\">\n",
       "  <thead>\n",
       "    <tr style=\"text-align: right;\">\n",
       "      <th></th>\n",
       "      <th>DATE1</th>\n",
       "      <th>DAY_OF_WEEK</th>\n",
       "      <th>SITE_NAME</th>\n",
       "      <th>TOWN</th>\n",
       "      <th>WATERBODY</th>\n",
       "      <th>INSPECTOR_ID</th>\n",
       "      <th>PAY_VOL</th>\n",
       "      <th>SHIFT_START</th>\n",
       "      <th>TRAILERS</th>\n",
       "      <th>SHIFT_END</th>\n",
       "      <th>SHIFT_LENGTH</th>\n",
       "      <th>TOTALINSP</th>\n",
       "      <th>PRCP</th>\n",
       "      <th>TMAX</th>\n",
       "      <th>TMIN</th>\n",
       "      <th>DATE</th>\n",
       "      <th>month</th>\n",
       "      <th>year</th>\n",
       "      <th>SHIFT_START_CATEGORY</th>\n",
       "      <th>SHIFT_END_CATEGORY</th>\n",
       "    </tr>\n",
       "  </thead>\n",
       "  <tbody>\n",
       "    <tr>\n",
       "      <th>0</th>\n",
       "      <td>2021-05-28</td>\n",
       "      <td>Fri</td>\n",
       "      <td>Launch Drive Cobbosseecontee</td>\n",
       "      <td>Monmouth</td>\n",
       "      <td>Cobbosseecontee Lake</td>\n",
       "      <td>4771</td>\n",
       "      <td>Paid</td>\n",
       "      <td>1900-01-01 12:00:00</td>\n",
       "      <td>10.0</td>\n",
       "      <td>2023-12-05 18:00:00</td>\n",
       "      <td>360</td>\n",
       "      <td>33.0</td>\n",
       "      <td>0.00</td>\n",
       "      <td>72.0</td>\n",
       "      <td>45.0</td>\n",
       "      <td>2021-05-28</td>\n",
       "      <td>5</td>\n",
       "      <td>2021</td>\n",
       "      <td>Afternoon</td>\n",
       "      <td>Evening</td>\n",
       "    </tr>\n",
       "    <tr>\n",
       "      <th>1</th>\n",
       "      <td>2021-05-28</td>\n",
       "      <td>Fri</td>\n",
       "      <td>Whippoorwill Road</td>\n",
       "      <td>Litchfield</td>\n",
       "      <td>Woodbury Pond</td>\n",
       "      <td>4174</td>\n",
       "      <td>Paid</td>\n",
       "      <td>1900-01-01 12:00:00</td>\n",
       "      <td>1.0</td>\n",
       "      <td>2023-12-05 18:00:00</td>\n",
       "      <td>360</td>\n",
       "      <td>13.0</td>\n",
       "      <td>0.00</td>\n",
       "      <td>72.0</td>\n",
       "      <td>45.0</td>\n",
       "      <td>2021-05-28</td>\n",
       "      <td>5</td>\n",
       "      <td>2021</td>\n",
       "      <td>Afternoon</td>\n",
       "      <td>Evening</td>\n",
       "    </tr>\n",
       "    <tr>\n",
       "      <th>2</th>\n",
       "      <td>2021-05-28</td>\n",
       "      <td>Fri</td>\n",
       "      <td>Holmes Road Annabessacook</td>\n",
       "      <td>Winthrop</td>\n",
       "      <td>Annabessacook Lake</td>\n",
       "      <td>4769</td>\n",
       "      <td>Paid</td>\n",
       "      <td>1900-01-01 12:00:00</td>\n",
       "      <td>0.0</td>\n",
       "      <td>2023-12-05 18:00:00</td>\n",
       "      <td>360</td>\n",
       "      <td>1.0</td>\n",
       "      <td>0.00</td>\n",
       "      <td>72.0</td>\n",
       "      <td>45.0</td>\n",
       "      <td>2021-05-28</td>\n",
       "      <td>5</td>\n",
       "      <td>2021</td>\n",
       "      <td>Afternoon</td>\n",
       "      <td>Evening</td>\n",
       "    </tr>\n",
       "    <tr>\n",
       "      <th>3</th>\n",
       "      <td>2021-05-28</td>\n",
       "      <td>Fri</td>\n",
       "      <td>East Winthrop Cobbosseecontee</td>\n",
       "      <td>Winthrop</td>\n",
       "      <td>Cobbosseecontee Lake</td>\n",
       "      <td>4485</td>\n",
       "      <td>Paid</td>\n",
       "      <td>1900-01-01 12:00:00</td>\n",
       "      <td>1.0</td>\n",
       "      <td>2023-12-05 18:00:00</td>\n",
       "      <td>360</td>\n",
       "      <td>2.0</td>\n",
       "      <td>0.00</td>\n",
       "      <td>72.0</td>\n",
       "      <td>45.0</td>\n",
       "      <td>2021-05-28</td>\n",
       "      <td>5</td>\n",
       "      <td>2021</td>\n",
       "      <td>Afternoon</td>\n",
       "      <td>Evening</td>\n",
       "    </tr>\n",
       "    <tr>\n",
       "      <th>4</th>\n",
       "      <td>2021-05-29</td>\n",
       "      <td>Sat</td>\n",
       "      <td>Thorofare Rd</td>\n",
       "      <td>Litchfield</td>\n",
       "      <td>Pleasant Pond</td>\n",
       "      <td>4944</td>\n",
       "      <td>Paid</td>\n",
       "      <td>1900-01-01 07:00:00</td>\n",
       "      <td>1.0</td>\n",
       "      <td>2023-12-05 17:00:00</td>\n",
       "      <td>600</td>\n",
       "      <td>11.0</td>\n",
       "      <td>0.02</td>\n",
       "      <td>62.0</td>\n",
       "      <td>45.0</td>\n",
       "      <td>2021-05-29</td>\n",
       "      <td>5</td>\n",
       "      <td>2021</td>\n",
       "      <td>Early Morning</td>\n",
       "      <td>Late Afternoon</td>\n",
       "    </tr>\n",
       "  </tbody>\n",
       "</table>\n",
       "</div>"
      ],
      "text/plain": [
       "       DATE1 DAY_OF_WEEK                      SITE_NAME        TOWN  \\\n",
       "0 2021-05-28         Fri   Launch Drive Cobbosseecontee    Monmouth   \n",
       "1 2021-05-28         Fri              Whippoorwill Road  Litchfield   \n",
       "2 2021-05-28         Fri      Holmes Road Annabessacook    Winthrop   \n",
       "3 2021-05-28         Fri  East Winthrop Cobbosseecontee    Winthrop   \n",
       "4 2021-05-29         Sat                   Thorofare Rd  Litchfield   \n",
       "\n",
       "              WATERBODY  INSPECTOR_ID PAY_VOL         SHIFT_START  TRAILERS  \\\n",
       "0  Cobbosseecontee Lake          4771    Paid 1900-01-01 12:00:00      10.0   \n",
       "1         Woodbury Pond          4174    Paid 1900-01-01 12:00:00       1.0   \n",
       "2    Annabessacook Lake          4769    Paid 1900-01-01 12:00:00       0.0   \n",
       "3  Cobbosseecontee Lake          4485    Paid 1900-01-01 12:00:00       1.0   \n",
       "4         Pleasant Pond          4944    Paid 1900-01-01 07:00:00       1.0   \n",
       "\n",
       "            SHIFT_END  SHIFT_LENGTH  TOTALINSP  PRCP  TMAX  TMIN       DATE  \\\n",
       "0 2023-12-05 18:00:00           360       33.0  0.00  72.0  45.0 2021-05-28   \n",
       "1 2023-12-05 18:00:00           360       13.0  0.00  72.0  45.0 2021-05-28   \n",
       "2 2023-12-05 18:00:00           360        1.0  0.00  72.0  45.0 2021-05-28   \n",
       "3 2023-12-05 18:00:00           360        2.0  0.00  72.0  45.0 2021-05-28   \n",
       "4 2023-12-05 17:00:00           600       11.0  0.02  62.0  45.0 2021-05-29   \n",
       "\n",
       "   month  year SHIFT_START_CATEGORY SHIFT_END_CATEGORY  \n",
       "0      5  2021            Afternoon            Evening  \n",
       "1      5  2021            Afternoon            Evening  \n",
       "2      5  2021            Afternoon            Evening  \n",
       "3      5  2021            Afternoon            Evening  \n",
       "4      5  2021        Early Morning     Late Afternoon  "
      ]
     },
     "execution_count": 776,
     "metadata": {},
     "output_type": "execute_result"
    }
   ],
   "source": [
    "df.head()"
   ]
  },
  {
   "cell_type": "code",
   "execution_count": 777,
   "id": "b8a5a974-d463-4cd9-96e2-680c376d391a",
   "metadata": {},
   "outputs": [
    {
     "data": {
      "text/html": [
       "<div>\n",
       "<style scoped>\n",
       "    .dataframe tbody tr th:only-of-type {\n",
       "        vertical-align: middle;\n",
       "    }\n",
       "\n",
       "    .dataframe tbody tr th {\n",
       "        vertical-align: top;\n",
       "    }\n",
       "\n",
       "    .dataframe thead th {\n",
       "        text-align: right;\n",
       "    }\n",
       "</style>\n",
       "<table border=\"1\" class=\"dataframe\">\n",
       "  <thead>\n",
       "    <tr style=\"text-align: right;\">\n",
       "      <th></th>\n",
       "      <th>DATE1</th>\n",
       "      <th>DAY_OF_WEEK</th>\n",
       "      <th>SITE_NAME</th>\n",
       "      <th>TOWN</th>\n",
       "      <th>WATERBODY</th>\n",
       "      <th>INSPECTOR_ID</th>\n",
       "      <th>PAY_VOL</th>\n",
       "      <th>SHIFT_START</th>\n",
       "      <th>TRAILERS</th>\n",
       "      <th>SHIFT_END</th>\n",
       "      <th>SHIFT_LENGTH</th>\n",
       "      <th>TOTALINSP</th>\n",
       "      <th>PRCP</th>\n",
       "      <th>TMAX</th>\n",
       "      <th>TMIN</th>\n",
       "      <th>DATE</th>\n",
       "      <th>month</th>\n",
       "      <th>year</th>\n",
       "      <th>SHIFT_START_CATEGORY</th>\n",
       "      <th>SHIFT_END_CATEGORY</th>\n",
       "    </tr>\n",
       "  </thead>\n",
       "  <tbody>\n",
       "    <tr>\n",
       "      <th>0</th>\n",
       "      <td>2021-05-28</td>\n",
       "      <td>Fri</td>\n",
       "      <td>Launch Drive Cobbosseecontee</td>\n",
       "      <td>Monmouth</td>\n",
       "      <td>Cobbosseecontee Lake</td>\n",
       "      <td>4771</td>\n",
       "      <td>Paid</td>\n",
       "      <td>1900-01-01 12:00:00</td>\n",
       "      <td>10.0</td>\n",
       "      <td>2023-12-05 18:00:00</td>\n",
       "      <td>360</td>\n",
       "      <td>33.0</td>\n",
       "      <td>0.00</td>\n",
       "      <td>72.0</td>\n",
       "      <td>45.0</td>\n",
       "      <td>2021-05-28</td>\n",
       "      <td>5</td>\n",
       "      <td>2021</td>\n",
       "      <td>Afternoon</td>\n",
       "      <td>Evening</td>\n",
       "    </tr>\n",
       "    <tr>\n",
       "      <th>1</th>\n",
       "      <td>2021-05-28</td>\n",
       "      <td>Fri</td>\n",
       "      <td>Whippoorwill Road</td>\n",
       "      <td>Litchfield</td>\n",
       "      <td>Woodbury Pond</td>\n",
       "      <td>4174</td>\n",
       "      <td>Paid</td>\n",
       "      <td>1900-01-01 12:00:00</td>\n",
       "      <td>1.0</td>\n",
       "      <td>2023-12-05 18:00:00</td>\n",
       "      <td>360</td>\n",
       "      <td>13.0</td>\n",
       "      <td>0.00</td>\n",
       "      <td>72.0</td>\n",
       "      <td>45.0</td>\n",
       "      <td>2021-05-28</td>\n",
       "      <td>5</td>\n",
       "      <td>2021</td>\n",
       "      <td>Afternoon</td>\n",
       "      <td>Evening</td>\n",
       "    </tr>\n",
       "    <tr>\n",
       "      <th>2</th>\n",
       "      <td>2021-05-28</td>\n",
       "      <td>Fri</td>\n",
       "      <td>Holmes Road Annabessacook</td>\n",
       "      <td>Winthrop</td>\n",
       "      <td>Annabessacook Lake</td>\n",
       "      <td>4769</td>\n",
       "      <td>Paid</td>\n",
       "      <td>1900-01-01 12:00:00</td>\n",
       "      <td>0.0</td>\n",
       "      <td>2023-12-05 18:00:00</td>\n",
       "      <td>360</td>\n",
       "      <td>1.0</td>\n",
       "      <td>0.00</td>\n",
       "      <td>72.0</td>\n",
       "      <td>45.0</td>\n",
       "      <td>2021-05-28</td>\n",
       "      <td>5</td>\n",
       "      <td>2021</td>\n",
       "      <td>Afternoon</td>\n",
       "      <td>Evening</td>\n",
       "    </tr>\n",
       "    <tr>\n",
       "      <th>3</th>\n",
       "      <td>2021-05-28</td>\n",
       "      <td>Fri</td>\n",
       "      <td>East Winthrop Cobbosseecontee</td>\n",
       "      <td>Winthrop</td>\n",
       "      <td>Cobbosseecontee Lake</td>\n",
       "      <td>4485</td>\n",
       "      <td>Paid</td>\n",
       "      <td>1900-01-01 12:00:00</td>\n",
       "      <td>1.0</td>\n",
       "      <td>2023-12-05 18:00:00</td>\n",
       "      <td>360</td>\n",
       "      <td>2.0</td>\n",
       "      <td>0.00</td>\n",
       "      <td>72.0</td>\n",
       "      <td>45.0</td>\n",
       "      <td>2021-05-28</td>\n",
       "      <td>5</td>\n",
       "      <td>2021</td>\n",
       "      <td>Afternoon</td>\n",
       "      <td>Evening</td>\n",
       "    </tr>\n",
       "    <tr>\n",
       "      <th>4</th>\n",
       "      <td>2021-05-29</td>\n",
       "      <td>Sat</td>\n",
       "      <td>Thorofare Rd</td>\n",
       "      <td>Litchfield</td>\n",
       "      <td>Pleasant Pond</td>\n",
       "      <td>4944</td>\n",
       "      <td>Paid</td>\n",
       "      <td>1900-01-01 07:00:00</td>\n",
       "      <td>1.0</td>\n",
       "      <td>2023-12-05 17:00:00</td>\n",
       "      <td>600</td>\n",
       "      <td>11.0</td>\n",
       "      <td>0.02</td>\n",
       "      <td>62.0</td>\n",
       "      <td>45.0</td>\n",
       "      <td>2021-05-29</td>\n",
       "      <td>5</td>\n",
       "      <td>2021</td>\n",
       "      <td>Early Morning</td>\n",
       "      <td>Late Afternoon</td>\n",
       "    </tr>\n",
       "  </tbody>\n",
       "</table>\n",
       "</div>"
      ],
      "text/plain": [
       "       DATE1 DAY_OF_WEEK                      SITE_NAME        TOWN  \\\n",
       "0 2021-05-28         Fri   Launch Drive Cobbosseecontee    Monmouth   \n",
       "1 2021-05-28         Fri              Whippoorwill Road  Litchfield   \n",
       "2 2021-05-28         Fri      Holmes Road Annabessacook    Winthrop   \n",
       "3 2021-05-28         Fri  East Winthrop Cobbosseecontee    Winthrop   \n",
       "4 2021-05-29         Sat                   Thorofare Rd  Litchfield   \n",
       "\n",
       "              WATERBODY  INSPECTOR_ID PAY_VOL         SHIFT_START  TRAILERS  \\\n",
       "0  Cobbosseecontee Lake          4771    Paid 1900-01-01 12:00:00      10.0   \n",
       "1         Woodbury Pond          4174    Paid 1900-01-01 12:00:00       1.0   \n",
       "2    Annabessacook Lake          4769    Paid 1900-01-01 12:00:00       0.0   \n",
       "3  Cobbosseecontee Lake          4485    Paid 1900-01-01 12:00:00       1.0   \n",
       "4         Pleasant Pond          4944    Paid 1900-01-01 07:00:00       1.0   \n",
       "\n",
       "            SHIFT_END  SHIFT_LENGTH  TOTALINSP  PRCP  TMAX  TMIN       DATE  \\\n",
       "0 2023-12-05 18:00:00           360       33.0  0.00  72.0  45.0 2021-05-28   \n",
       "1 2023-12-05 18:00:00           360       13.0  0.00  72.0  45.0 2021-05-28   \n",
       "2 2023-12-05 18:00:00           360        1.0  0.00  72.0  45.0 2021-05-28   \n",
       "3 2023-12-05 18:00:00           360        2.0  0.00  72.0  45.0 2021-05-28   \n",
       "4 2023-12-05 17:00:00           600       11.0  0.02  62.0  45.0 2021-05-29   \n",
       "\n",
       "   month  year SHIFT_START_CATEGORY SHIFT_END_CATEGORY  \n",
       "0      5  2021            Afternoon            Evening  \n",
       "1      5  2021            Afternoon            Evening  \n",
       "2      5  2021            Afternoon            Evening  \n",
       "3      5  2021            Afternoon            Evening  \n",
       "4      5  2021        Early Morning     Late Afternoon  "
      ]
     },
     "execution_count": 777,
     "metadata": {},
     "output_type": "execute_result"
    }
   ],
   "source": [
    "df.head()"
   ]
  },
  {
   "cell_type": "code",
   "execution_count": 778,
   "id": "a5725c36-287e-45ca-8d61-cb8107ac64d6",
   "metadata": {
    "tags": []
   },
   "outputs": [
    {
     "data": {
      "text/plain": [
       "4174    131\n",
       "5670    116\n",
       "3796    113\n",
       "5006    111\n",
       "3504    109\n",
       "       ... \n",
       "5144      1\n",
       "5672      1\n",
       "4729      1\n",
       "5655      1\n",
       "5652      1\n",
       "Name: INSPECTOR_ID, Length: 103, dtype: int64"
      ]
     },
     "execution_count": 778,
     "metadata": {},
     "output_type": "execute_result"
    }
   ],
   "source": [
    "df.INSPECTOR_ID.value_counts()"
   ]
  },
  {
   "cell_type": "markdown",
   "id": "3a5654ac-afdc-4ab7-8a25-e234754663bc",
   "metadata": {},
   "source": [
    "### Handling Inspector_ID:\n",
    "- Some inspectors are more experienced than others, returning from prior years, working more shifts, and receiving higher pay\n",
    "- According to the program coordinator, there were some issues in 2023 with inspectors not inspecting all present boats\n",
    "- Goal: create a variable to capture the experience level of the inspector stationed for that shift"
   ]
  },
  {
   "cell_type": "code",
   "execution_count": 779,
   "id": "021eb5d7-f1d1-4fae-97ed-ac6cb2d70d44",
   "metadata": {
    "tags": []
   },
   "outputs": [],
   "source": [
    "df['ID_COUNT'] = df.groupby('INSPECTOR_ID')['INSPECTOR_ID'].transform('count')"
   ]
  },
  {
   "cell_type": "code",
   "execution_count": 780,
   "id": "70d0b67c-b2bf-4a3e-98e8-00a73a852337",
   "metadata": {
    "tags": []
   },
   "outputs": [
    {
     "data": {
      "text/html": [
       "<div>\n",
       "<style scoped>\n",
       "    .dataframe tbody tr th:only-of-type {\n",
       "        vertical-align: middle;\n",
       "    }\n",
       "\n",
       "    .dataframe tbody tr th {\n",
       "        vertical-align: top;\n",
       "    }\n",
       "\n",
       "    .dataframe thead th {\n",
       "        text-align: right;\n",
       "    }\n",
       "</style>\n",
       "<table border=\"1\" class=\"dataframe\">\n",
       "  <thead>\n",
       "    <tr style=\"text-align: right;\">\n",
       "      <th></th>\n",
       "      <th>DATE1</th>\n",
       "      <th>DAY_OF_WEEK</th>\n",
       "      <th>SITE_NAME</th>\n",
       "      <th>TOWN</th>\n",
       "      <th>WATERBODY</th>\n",
       "      <th>INSPECTOR_ID</th>\n",
       "      <th>PAY_VOL</th>\n",
       "      <th>SHIFT_START</th>\n",
       "      <th>TRAILERS</th>\n",
       "      <th>SHIFT_END</th>\n",
       "      <th>...</th>\n",
       "      <th>TOTALINSP</th>\n",
       "      <th>PRCP</th>\n",
       "      <th>TMAX</th>\n",
       "      <th>TMIN</th>\n",
       "      <th>DATE</th>\n",
       "      <th>month</th>\n",
       "      <th>year</th>\n",
       "      <th>SHIFT_START_CATEGORY</th>\n",
       "      <th>SHIFT_END_CATEGORY</th>\n",
       "      <th>ID_COUNT</th>\n",
       "    </tr>\n",
       "  </thead>\n",
       "  <tbody>\n",
       "    <tr>\n",
       "      <th>0</th>\n",
       "      <td>2021-05-28</td>\n",
       "      <td>Fri</td>\n",
       "      <td>Launch Drive Cobbosseecontee</td>\n",
       "      <td>Monmouth</td>\n",
       "      <td>Cobbosseecontee Lake</td>\n",
       "      <td>4771</td>\n",
       "      <td>Paid</td>\n",
       "      <td>1900-01-01 12:00:00</td>\n",
       "      <td>10.0</td>\n",
       "      <td>2023-12-05 18:00:00</td>\n",
       "      <td>...</td>\n",
       "      <td>33.0</td>\n",
       "      <td>0.00</td>\n",
       "      <td>72.0</td>\n",
       "      <td>45.0</td>\n",
       "      <td>2021-05-28</td>\n",
       "      <td>5</td>\n",
       "      <td>2021</td>\n",
       "      <td>Afternoon</td>\n",
       "      <td>Evening</td>\n",
       "      <td>55</td>\n",
       "    </tr>\n",
       "    <tr>\n",
       "      <th>1</th>\n",
       "      <td>2021-05-28</td>\n",
       "      <td>Fri</td>\n",
       "      <td>Whippoorwill Road</td>\n",
       "      <td>Litchfield</td>\n",
       "      <td>Woodbury Pond</td>\n",
       "      <td>4174</td>\n",
       "      <td>Paid</td>\n",
       "      <td>1900-01-01 12:00:00</td>\n",
       "      <td>1.0</td>\n",
       "      <td>2023-12-05 18:00:00</td>\n",
       "      <td>...</td>\n",
       "      <td>13.0</td>\n",
       "      <td>0.00</td>\n",
       "      <td>72.0</td>\n",
       "      <td>45.0</td>\n",
       "      <td>2021-05-28</td>\n",
       "      <td>5</td>\n",
       "      <td>2021</td>\n",
       "      <td>Afternoon</td>\n",
       "      <td>Evening</td>\n",
       "      <td>131</td>\n",
       "    </tr>\n",
       "    <tr>\n",
       "      <th>2</th>\n",
       "      <td>2021-05-28</td>\n",
       "      <td>Fri</td>\n",
       "      <td>Holmes Road Annabessacook</td>\n",
       "      <td>Winthrop</td>\n",
       "      <td>Annabessacook Lake</td>\n",
       "      <td>4769</td>\n",
       "      <td>Paid</td>\n",
       "      <td>1900-01-01 12:00:00</td>\n",
       "      <td>0.0</td>\n",
       "      <td>2023-12-05 18:00:00</td>\n",
       "      <td>...</td>\n",
       "      <td>1.0</td>\n",
       "      <td>0.00</td>\n",
       "      <td>72.0</td>\n",
       "      <td>45.0</td>\n",
       "      <td>2021-05-28</td>\n",
       "      <td>5</td>\n",
       "      <td>2021</td>\n",
       "      <td>Afternoon</td>\n",
       "      <td>Evening</td>\n",
       "      <td>56</td>\n",
       "    </tr>\n",
       "    <tr>\n",
       "      <th>3</th>\n",
       "      <td>2021-05-28</td>\n",
       "      <td>Fri</td>\n",
       "      <td>East Winthrop Cobbosseecontee</td>\n",
       "      <td>Winthrop</td>\n",
       "      <td>Cobbosseecontee Lake</td>\n",
       "      <td>4485</td>\n",
       "      <td>Paid</td>\n",
       "      <td>1900-01-01 12:00:00</td>\n",
       "      <td>1.0</td>\n",
       "      <td>2023-12-05 18:00:00</td>\n",
       "      <td>...</td>\n",
       "      <td>2.0</td>\n",
       "      <td>0.00</td>\n",
       "      <td>72.0</td>\n",
       "      <td>45.0</td>\n",
       "      <td>2021-05-28</td>\n",
       "      <td>5</td>\n",
       "      <td>2021</td>\n",
       "      <td>Afternoon</td>\n",
       "      <td>Evening</td>\n",
       "      <td>16</td>\n",
       "    </tr>\n",
       "    <tr>\n",
       "      <th>4</th>\n",
       "      <td>2021-05-29</td>\n",
       "      <td>Sat</td>\n",
       "      <td>Thorofare Rd</td>\n",
       "      <td>Litchfield</td>\n",
       "      <td>Pleasant Pond</td>\n",
       "      <td>4944</td>\n",
       "      <td>Paid</td>\n",
       "      <td>1900-01-01 07:00:00</td>\n",
       "      <td>1.0</td>\n",
       "      <td>2023-12-05 17:00:00</td>\n",
       "      <td>...</td>\n",
       "      <td>11.0</td>\n",
       "      <td>0.02</td>\n",
       "      <td>62.0</td>\n",
       "      <td>45.0</td>\n",
       "      <td>2021-05-29</td>\n",
       "      <td>5</td>\n",
       "      <td>2021</td>\n",
       "      <td>Early Morning</td>\n",
       "      <td>Late Afternoon</td>\n",
       "      <td>57</td>\n",
       "    </tr>\n",
       "  </tbody>\n",
       "</table>\n",
       "<p>5 rows × 21 columns</p>\n",
       "</div>"
      ],
      "text/plain": [
       "       DATE1 DAY_OF_WEEK                      SITE_NAME        TOWN  \\\n",
       "0 2021-05-28         Fri   Launch Drive Cobbosseecontee    Monmouth   \n",
       "1 2021-05-28         Fri              Whippoorwill Road  Litchfield   \n",
       "2 2021-05-28         Fri      Holmes Road Annabessacook    Winthrop   \n",
       "3 2021-05-28         Fri  East Winthrop Cobbosseecontee    Winthrop   \n",
       "4 2021-05-29         Sat                   Thorofare Rd  Litchfield   \n",
       "\n",
       "              WATERBODY  INSPECTOR_ID PAY_VOL         SHIFT_START  TRAILERS  \\\n",
       "0  Cobbosseecontee Lake          4771    Paid 1900-01-01 12:00:00      10.0   \n",
       "1         Woodbury Pond          4174    Paid 1900-01-01 12:00:00       1.0   \n",
       "2    Annabessacook Lake          4769    Paid 1900-01-01 12:00:00       0.0   \n",
       "3  Cobbosseecontee Lake          4485    Paid 1900-01-01 12:00:00       1.0   \n",
       "4         Pleasant Pond          4944    Paid 1900-01-01 07:00:00       1.0   \n",
       "\n",
       "            SHIFT_END  ...  TOTALINSP  PRCP  TMAX  TMIN       DATE month  \\\n",
       "0 2023-12-05 18:00:00  ...       33.0  0.00  72.0  45.0 2021-05-28     5   \n",
       "1 2023-12-05 18:00:00  ...       13.0  0.00  72.0  45.0 2021-05-28     5   \n",
       "2 2023-12-05 18:00:00  ...        1.0  0.00  72.0  45.0 2021-05-28     5   \n",
       "3 2023-12-05 18:00:00  ...        2.0  0.00  72.0  45.0 2021-05-28     5   \n",
       "4 2023-12-05 17:00:00  ...       11.0  0.02  62.0  45.0 2021-05-29     5   \n",
       "\n",
       "   year  SHIFT_START_CATEGORY SHIFT_END_CATEGORY ID_COUNT  \n",
       "0  2021             Afternoon            Evening       55  \n",
       "1  2021             Afternoon            Evening      131  \n",
       "2  2021             Afternoon            Evening       56  \n",
       "3  2021             Afternoon            Evening       16  \n",
       "4  2021         Early Morning     Late Afternoon       57  \n",
       "\n",
       "[5 rows x 21 columns]"
      ]
     },
     "execution_count": 780,
     "metadata": {},
     "output_type": "execute_result"
    }
   ],
   "source": [
    "df.head()"
   ]
  },
  {
   "cell_type": "code",
   "execution_count": 781,
   "id": "bf13a4c0-dafa-4a78-b56f-28bf6b460acb",
   "metadata": {
    "tags": []
   },
   "outputs": [
    {
     "data": {
      "text/html": [
       "<div>\n",
       "<style scoped>\n",
       "    .dataframe tbody tr th:only-of-type {\n",
       "        vertical-align: middle;\n",
       "    }\n",
       "\n",
       "    .dataframe tbody tr th {\n",
       "        vertical-align: top;\n",
       "    }\n",
       "\n",
       "    .dataframe thead th {\n",
       "        text-align: right;\n",
       "    }\n",
       "</style>\n",
       "<table border=\"1\" class=\"dataframe\">\n",
       "  <thead>\n",
       "    <tr style=\"text-align: right;\">\n",
       "      <th></th>\n",
       "      <th>INSPECTOR_ID</th>\n",
       "      <th>TRAILERS</th>\n",
       "      <th>SHIFT_LENGTH</th>\n",
       "      <th>TOTALINSP</th>\n",
       "      <th>PRCP</th>\n",
       "      <th>TMAX</th>\n",
       "      <th>TMIN</th>\n",
       "      <th>month</th>\n",
       "      <th>year</th>\n",
       "      <th>ID_COUNT</th>\n",
       "    </tr>\n",
       "  </thead>\n",
       "  <tbody>\n",
       "    <tr>\n",
       "      <th>count</th>\n",
       "      <td>2321.000000</td>\n",
       "      <td>2117.000000</td>\n",
       "      <td>2321.000000</td>\n",
       "      <td>2319.000000</td>\n",
       "      <td>2321.000000</td>\n",
       "      <td>2321.000000</td>\n",
       "      <td>2321.000000</td>\n",
       "      <td>2321.000000</td>\n",
       "      <td>2321.000000</td>\n",
       "      <td>2321.000000</td>\n",
       "    </tr>\n",
       "    <tr>\n",
       "      <th>mean</th>\n",
       "      <td>4954.877639</td>\n",
       "      <td>4.420406</td>\n",
       "      <td>380.367514</td>\n",
       "      <td>16.492454</td>\n",
       "      <td>0.123593</td>\n",
       "      <td>79.532960</td>\n",
       "      <td>59.227919</td>\n",
       "      <td>7.197760</td>\n",
       "      <td>2022.075399</td>\n",
       "      <td>58.291685</td>\n",
       "    </tr>\n",
       "    <tr>\n",
       "      <th>std</th>\n",
       "      <td>1108.499935</td>\n",
       "      <td>28.791702</td>\n",
       "      <td>137.667067</td>\n",
       "      <td>17.135173</td>\n",
       "      <td>0.312013</td>\n",
       "      <td>8.551561</td>\n",
       "      <td>6.630534</td>\n",
       "      <td>1.074434</td>\n",
       "      <td>0.791061</td>\n",
       "      <td>39.012197</td>\n",
       "    </tr>\n",
       "    <tr>\n",
       "      <th>min</th>\n",
       "      <td>1103.000000</td>\n",
       "      <td>0.000000</td>\n",
       "      <td>14.000000</td>\n",
       "      <td>0.000000</td>\n",
       "      <td>0.000000</td>\n",
       "      <td>50.000000</td>\n",
       "      <td>40.000000</td>\n",
       "      <td>5.000000</td>\n",
       "      <td>2021.000000</td>\n",
       "      <td>1.000000</td>\n",
       "    </tr>\n",
       "    <tr>\n",
       "      <th>25%</th>\n",
       "      <td>4715.000000</td>\n",
       "      <td>1.000000</td>\n",
       "      <td>360.000000</td>\n",
       "      <td>4.000000</td>\n",
       "      <td>0.000000</td>\n",
       "      <td>75.000000</td>\n",
       "      <td>54.000000</td>\n",
       "      <td>6.000000</td>\n",
       "      <td>2021.000000</td>\n",
       "      <td>28.000000</td>\n",
       "    </tr>\n",
       "    <tr>\n",
       "      <th>50%</th>\n",
       "      <td>5353.000000</td>\n",
       "      <td>2.000000</td>\n",
       "      <td>360.000000</td>\n",
       "      <td>11.000000</td>\n",
       "      <td>0.000000</td>\n",
       "      <td>81.000000</td>\n",
       "      <td>60.000000</td>\n",
       "      <td>7.000000</td>\n",
       "      <td>2022.000000</td>\n",
       "      <td>55.000000</td>\n",
       "    </tr>\n",
       "    <tr>\n",
       "      <th>75%</th>\n",
       "      <td>5648.000000</td>\n",
       "      <td>5.000000</td>\n",
       "      <td>375.000000</td>\n",
       "      <td>23.000000</td>\n",
       "      <td>0.080000</td>\n",
       "      <td>86.000000</td>\n",
       "      <td>64.000000</td>\n",
       "      <td>8.000000</td>\n",
       "      <td>2023.000000</td>\n",
       "      <td>82.000000</td>\n",
       "    </tr>\n",
       "    <tr>\n",
       "      <th>max</th>\n",
       "      <td>6112.000000</td>\n",
       "      <td>1300.000000</td>\n",
       "      <td>720.000000</td>\n",
       "      <td>105.000000</td>\n",
       "      <td>2.320000</td>\n",
       "      <td>95.000000</td>\n",
       "      <td>73.000000</td>\n",
       "      <td>10.000000</td>\n",
       "      <td>2023.000000</td>\n",
       "      <td>131.000000</td>\n",
       "    </tr>\n",
       "  </tbody>\n",
       "</table>\n",
       "</div>"
      ],
      "text/plain": [
       "       INSPECTOR_ID     TRAILERS  SHIFT_LENGTH    TOTALINSP         PRCP  \\\n",
       "count   2321.000000  2117.000000   2321.000000  2319.000000  2321.000000   \n",
       "mean    4954.877639     4.420406    380.367514    16.492454     0.123593   \n",
       "std     1108.499935    28.791702    137.667067    17.135173     0.312013   \n",
       "min     1103.000000     0.000000     14.000000     0.000000     0.000000   \n",
       "25%     4715.000000     1.000000    360.000000     4.000000     0.000000   \n",
       "50%     5353.000000     2.000000    360.000000    11.000000     0.000000   \n",
       "75%     5648.000000     5.000000    375.000000    23.000000     0.080000   \n",
       "max     6112.000000  1300.000000    720.000000   105.000000     2.320000   \n",
       "\n",
       "              TMAX         TMIN        month         year     ID_COUNT  \n",
       "count  2321.000000  2321.000000  2321.000000  2321.000000  2321.000000  \n",
       "mean     79.532960    59.227919     7.197760  2022.075399    58.291685  \n",
       "std       8.551561     6.630534     1.074434     0.791061    39.012197  \n",
       "min      50.000000    40.000000     5.000000  2021.000000     1.000000  \n",
       "25%      75.000000    54.000000     6.000000  2021.000000    28.000000  \n",
       "50%      81.000000    60.000000     7.000000  2022.000000    55.000000  \n",
       "75%      86.000000    64.000000     8.000000  2023.000000    82.000000  \n",
       "max      95.000000    73.000000    10.000000  2023.000000   131.000000  "
      ]
     },
     "execution_count": 781,
     "metadata": {},
     "output_type": "execute_result"
    }
   ],
   "source": [
    "df.describe()"
   ]
  },
  {
   "cell_type": "code",
   "execution_count": 782,
   "id": "d476db2c-35f4-411c-bbc1-7250401b57d7",
   "metadata": {
    "tags": []
   },
   "outputs": [
    {
     "data": {
      "text/html": [
       "<div>\n",
       "<style scoped>\n",
       "    .dataframe tbody tr th:only-of-type {\n",
       "        vertical-align: middle;\n",
       "    }\n",
       "\n",
       "    .dataframe tbody tr th {\n",
       "        vertical-align: top;\n",
       "    }\n",
       "\n",
       "    .dataframe thead th {\n",
       "        text-align: right;\n",
       "    }\n",
       "</style>\n",
       "<table border=\"1\" class=\"dataframe\">\n",
       "  <thead>\n",
       "    <tr style=\"text-align: right;\">\n",
       "      <th></th>\n",
       "      <th>DATE1</th>\n",
       "      <th>DAY_OF_WEEK</th>\n",
       "      <th>SITE_NAME</th>\n",
       "      <th>TOWN</th>\n",
       "      <th>WATERBODY</th>\n",
       "      <th>INSPECTOR_ID</th>\n",
       "      <th>PAY_VOL</th>\n",
       "      <th>SHIFT_START</th>\n",
       "      <th>TRAILERS</th>\n",
       "      <th>SHIFT_END</th>\n",
       "      <th>...</th>\n",
       "      <th>TOTALINSP</th>\n",
       "      <th>PRCP</th>\n",
       "      <th>TMAX</th>\n",
       "      <th>TMIN</th>\n",
       "      <th>DATE</th>\n",
       "      <th>month</th>\n",
       "      <th>year</th>\n",
       "      <th>SHIFT_START_CATEGORY</th>\n",
       "      <th>SHIFT_END_CATEGORY</th>\n",
       "      <th>ID_COUNT</th>\n",
       "    </tr>\n",
       "  </thead>\n",
       "  <tbody>\n",
       "    <tr>\n",
       "      <th>0</th>\n",
       "      <td>2021-05-28</td>\n",
       "      <td>Fri</td>\n",
       "      <td>Launch Drive Cobbosseecontee</td>\n",
       "      <td>Monmouth</td>\n",
       "      <td>Cobbosseecontee Lake</td>\n",
       "      <td>4771</td>\n",
       "      <td>Paid</td>\n",
       "      <td>1900-01-01 12:00:00</td>\n",
       "      <td>10.0</td>\n",
       "      <td>2023-12-05 18:00:00</td>\n",
       "      <td>...</td>\n",
       "      <td>33.0</td>\n",
       "      <td>0.00</td>\n",
       "      <td>72.0</td>\n",
       "      <td>45.0</td>\n",
       "      <td>2021-05-28</td>\n",
       "      <td>5</td>\n",
       "      <td>2021</td>\n",
       "      <td>Afternoon</td>\n",
       "      <td>Evening</td>\n",
       "      <td>55</td>\n",
       "    </tr>\n",
       "    <tr>\n",
       "      <th>1</th>\n",
       "      <td>2021-05-28</td>\n",
       "      <td>Fri</td>\n",
       "      <td>Whippoorwill Road</td>\n",
       "      <td>Litchfield</td>\n",
       "      <td>Woodbury Pond</td>\n",
       "      <td>4174</td>\n",
       "      <td>Paid</td>\n",
       "      <td>1900-01-01 12:00:00</td>\n",
       "      <td>1.0</td>\n",
       "      <td>2023-12-05 18:00:00</td>\n",
       "      <td>...</td>\n",
       "      <td>13.0</td>\n",
       "      <td>0.00</td>\n",
       "      <td>72.0</td>\n",
       "      <td>45.0</td>\n",
       "      <td>2021-05-28</td>\n",
       "      <td>5</td>\n",
       "      <td>2021</td>\n",
       "      <td>Afternoon</td>\n",
       "      <td>Evening</td>\n",
       "      <td>131</td>\n",
       "    </tr>\n",
       "    <tr>\n",
       "      <th>2</th>\n",
       "      <td>2021-05-28</td>\n",
       "      <td>Fri</td>\n",
       "      <td>Holmes Road Annabessacook</td>\n",
       "      <td>Winthrop</td>\n",
       "      <td>Annabessacook Lake</td>\n",
       "      <td>4769</td>\n",
       "      <td>Paid</td>\n",
       "      <td>1900-01-01 12:00:00</td>\n",
       "      <td>0.0</td>\n",
       "      <td>2023-12-05 18:00:00</td>\n",
       "      <td>...</td>\n",
       "      <td>1.0</td>\n",
       "      <td>0.00</td>\n",
       "      <td>72.0</td>\n",
       "      <td>45.0</td>\n",
       "      <td>2021-05-28</td>\n",
       "      <td>5</td>\n",
       "      <td>2021</td>\n",
       "      <td>Afternoon</td>\n",
       "      <td>Evening</td>\n",
       "      <td>56</td>\n",
       "    </tr>\n",
       "    <tr>\n",
       "      <th>3</th>\n",
       "      <td>2021-05-28</td>\n",
       "      <td>Fri</td>\n",
       "      <td>East Winthrop Cobbosseecontee</td>\n",
       "      <td>Winthrop</td>\n",
       "      <td>Cobbosseecontee Lake</td>\n",
       "      <td>4485</td>\n",
       "      <td>Paid</td>\n",
       "      <td>1900-01-01 12:00:00</td>\n",
       "      <td>1.0</td>\n",
       "      <td>2023-12-05 18:00:00</td>\n",
       "      <td>...</td>\n",
       "      <td>2.0</td>\n",
       "      <td>0.00</td>\n",
       "      <td>72.0</td>\n",
       "      <td>45.0</td>\n",
       "      <td>2021-05-28</td>\n",
       "      <td>5</td>\n",
       "      <td>2021</td>\n",
       "      <td>Afternoon</td>\n",
       "      <td>Evening</td>\n",
       "      <td>16</td>\n",
       "    </tr>\n",
       "    <tr>\n",
       "      <th>4</th>\n",
       "      <td>2021-05-29</td>\n",
       "      <td>Sat</td>\n",
       "      <td>Thorofare Rd</td>\n",
       "      <td>Litchfield</td>\n",
       "      <td>Pleasant Pond</td>\n",
       "      <td>4944</td>\n",
       "      <td>Paid</td>\n",
       "      <td>1900-01-01 07:00:00</td>\n",
       "      <td>1.0</td>\n",
       "      <td>2023-12-05 17:00:00</td>\n",
       "      <td>...</td>\n",
       "      <td>11.0</td>\n",
       "      <td>0.02</td>\n",
       "      <td>62.0</td>\n",
       "      <td>45.0</td>\n",
       "      <td>2021-05-29</td>\n",
       "      <td>5</td>\n",
       "      <td>2021</td>\n",
       "      <td>Early Morning</td>\n",
       "      <td>Late Afternoon</td>\n",
       "      <td>57</td>\n",
       "    </tr>\n",
       "  </tbody>\n",
       "</table>\n",
       "<p>5 rows × 21 columns</p>\n",
       "</div>"
      ],
      "text/plain": [
       "       DATE1 DAY_OF_WEEK                      SITE_NAME        TOWN  \\\n",
       "0 2021-05-28         Fri   Launch Drive Cobbosseecontee    Monmouth   \n",
       "1 2021-05-28         Fri              Whippoorwill Road  Litchfield   \n",
       "2 2021-05-28         Fri      Holmes Road Annabessacook    Winthrop   \n",
       "3 2021-05-28         Fri  East Winthrop Cobbosseecontee    Winthrop   \n",
       "4 2021-05-29         Sat                   Thorofare Rd  Litchfield   \n",
       "\n",
       "              WATERBODY  INSPECTOR_ID PAY_VOL         SHIFT_START  TRAILERS  \\\n",
       "0  Cobbosseecontee Lake          4771    Paid 1900-01-01 12:00:00      10.0   \n",
       "1         Woodbury Pond          4174    Paid 1900-01-01 12:00:00       1.0   \n",
       "2    Annabessacook Lake          4769    Paid 1900-01-01 12:00:00       0.0   \n",
       "3  Cobbosseecontee Lake          4485    Paid 1900-01-01 12:00:00       1.0   \n",
       "4         Pleasant Pond          4944    Paid 1900-01-01 07:00:00       1.0   \n",
       "\n",
       "            SHIFT_END  ...  TOTALINSP  PRCP  TMAX  TMIN       DATE month  \\\n",
       "0 2023-12-05 18:00:00  ...       33.0  0.00  72.0  45.0 2021-05-28     5   \n",
       "1 2023-12-05 18:00:00  ...       13.0  0.00  72.0  45.0 2021-05-28     5   \n",
       "2 2023-12-05 18:00:00  ...        1.0  0.00  72.0  45.0 2021-05-28     5   \n",
       "3 2023-12-05 18:00:00  ...        2.0  0.00  72.0  45.0 2021-05-28     5   \n",
       "4 2023-12-05 17:00:00  ...       11.0  0.02  62.0  45.0 2021-05-29     5   \n",
       "\n",
       "   year  SHIFT_START_CATEGORY SHIFT_END_CATEGORY ID_COUNT  \n",
       "0  2021             Afternoon            Evening       55  \n",
       "1  2021             Afternoon            Evening      131  \n",
       "2  2021             Afternoon            Evening       56  \n",
       "3  2021             Afternoon            Evening       16  \n",
       "4  2021         Early Morning     Late Afternoon       57  \n",
       "\n",
       "[5 rows x 21 columns]"
      ]
     },
     "execution_count": 782,
     "metadata": {},
     "output_type": "execute_result"
    }
   ],
   "source": [
    "df.head()"
   ]
  },
  {
   "cell_type": "code",
   "execution_count": 783,
   "id": "2f5d0334-2170-480b-bd1d-b46102e5dae5",
   "metadata": {
    "tags": []
   },
   "outputs": [
    {
     "data": {
      "image/png": "[encoded data removed]",
      "text/plain": [
       "<Figure size 640x480 with 1 Axes>"
      ]
     },
     "metadata": {},
     "output_type": "display_data"
    }
   ],
   "source": [
    "df['TOTALINSP'].hist(bins=30, color='skyblue', edgecolor='black')\n",
    "\n",
    "# Add labels and title\n",
    "plt.xlabel('Values')\n",
    "plt.ylabel('Frequency')\n",
    "plt.title('Histogram of Values')\n",
    "plt.show();"
   ]
  },
  {
   "cell_type": "markdown",
   "id": "05067c3b-9a05-4c89-8a16-95c920458904",
   "metadata": {
    "tags": []
   },
   "source": [
    "### Capturing impact of holidays\n",
    "Goal: Engineer a column for weather the date is a holiday or part of a holiday weekend"
   ]
  },
  {
   "cell_type": "code",
   "execution_count": 784,
   "id": "2d419d44-d43d-41fa-a1aa-c0e6286000b7",
   "metadata": {},
   "outputs": [],
   "source": [
    "# List of holidays\n",
    "# 2021: Monday, May 31 Memorial Day, Sunday July 4 (Observed Monday), Monday September 6 (Labor Day), Sunday May 9 (Mother's Day), Father's Day (Sunday, June 20)\n",
    "# 2022: Sunday May 08, Mother's Day, 'Monday May 30 Memorial Day, Monday September 5 Labor Day, Monday July 4, Sunday June 19 Father's Day\n",
    "# 2023: Monday, May 29 Memorial Day, Monday June19 Juneteenth, Tuesday, July 04, Monday September 04 Labor Day, Mother's Day Sunday May 14, Father's Day Sunday June 18\n",
    "#'2021-05-09', '2022-05-30', , '2023-06-19'\n",
    "holiday_list = ['2021-05-31', '2021-07-04', '2021-09-06', '2021-06-20',\n",
    "                '2022-05-08', '2022-05-30', '2022-07-04', '2022-06-19',\n",
    "                '2023-05-29', '2023-07-04', '2023-09-04', '2023-06-18']\n"
   ]
  },
  {
   "cell_type": "code",
   "execution_count": 785,
   "id": "74df8326-7004-4543-ad48-685b40a70a5c",
   "metadata": {},
   "outputs": [],
   "source": [
    "#df['holiday']= np.where(df['DATE1'].isin(holiday_list), 1, 0)"
   ]
  },
  {
   "cell_type": "code",
   "execution_count": 786,
   "id": "3d688019-2134-446b-a448-01a39d35e5c5",
   "metadata": {},
   "outputs": [],
   "source": [
    "# List of holidays\n",
    "# 2021: Monday, May 31 Memorial Day, Sunday July 4 (Observed Monday), Monday September 6 (Labor Day), Sunday May 9 (Mother's Day), Father's Day (Sunday, June 20)\n",
    "# 2022: Sunday May 08, Mother's Day, 'Monday May 30 Memorial Day, Monday September 5 Labor Day, Monday July 4, Sunday June 19 Father's Day\n",
    "# 2023: Monday, May 29 Memorial Day, Monday June19 Juneteenth, Tuesday, July 04, Monday September 04 Labor Day, Mother's Day Sunday May 14, Father's Day Sunday June 18\n",
    "#'2021-05-09', '2022-05-08', , '2023-06-19'\n",
    "holiday_list_weekends = ['2021-05-31', '2021-05-29', '2021-05-30', '2021-07-04', '2021-07-03', '2021-07-05', '2021-09-06', '2021-09-04', '2021-09-05', '2021-06-19', '2021-06-20',\n",
    "                '2022-05-28', '2022-05-29', '2022-05-30', '2022-07-02', '2022-07-03', '2022-07-04', '2022-06-19', '2022-09-03', '2022-09-04', '2022-06-18',\n",
    "                '2023-05-29', '2023-05-27', '2023-05-28', '2023-07-01', '2023-07-02', '2023-07-04', '2023-09-02', '2023-09-03', '2023-09-04', '2023-06-18', '2023-06-17']"
   ]
  },
  {
   "cell_type": "code",
   "execution_count": 787,
   "id": "aeb0507b-1550-4c7c-b1aa-bfea91732972",
   "metadata": {},
   "outputs": [],
   "source": [
    "#df['holiday_weekends']= np.where(df['DATE1'].isin(holiday_list_weekends), 1, 0)"
   ]
  },
  {
   "cell_type": "code",
   "execution_count": 788,
   "id": "138b2ca9-6260-4a2f-b96f-d0321a6c25e7",
   "metadata": {},
   "outputs": [],
   "source": [
    "holiday_list_weekends = ['2021-05-31', '2021-05-29', '2021-05-30', '2021-07-04', '2021-07-03', '2021-07-05', '2021-09-06', '2021-09-04', '2021-09-05', '2021-06-19', '2021-06-20',\n",
    "                '2022-05-28', '2022-05-29', '2022-05-30', '2022-07-02', '2022-07-03', '2022-07-04', '2022-06-19', '2022-09-03', '2022-09-04', '2022-06-18',\n",
    "                '2023-05-29', '2023-05-27', '2023-05-28', '2023-07-01', '2023-07-02', '2023-07-04', '2023-09-02', '2023-09-03', '2023-09-04', '2023-06-18', '2023-06-17']\n",
    "df['holiday']= np.where(df['DATE1'].isin(holiday_list_weekends), 1, 0)"
   ]
  },
  {
   "cell_type": "code",
   "execution_count": 789,
   "id": "67ed246c-9ea0-4a5c-8d49-d3facc727318",
   "metadata": {},
   "outputs": [],
   "source": [
    "# Taking father's day out of the holiday weekend\n",
    "holiday_list_weekends = ['2021-05-31', '2021-05-29', '2021-05-30', '2021-07-04', '2021-07-03', '2021-07-05', '2021-09-06', '2021-09-04', '2021-09-05',\n",
    "                '2022-05-28', '2022-05-29', '2022-05-30', '2022-07-02', '2022-07-03', '2022-07-04', '2022-09-03', '2022-09-04',\n",
    "                '2023-05-29', '2023-05-27', '2023-05-28', '2023-07-01', '2023-07-02', '2023-07-04', '2023-09-02', '2023-09-03', '2023-09-04']\n",
    "#df['holiday']= np.where(df['DATE'].isin(holiday_list_weekends), 1, 0)"
   ]
  },
  {
   "cell_type": "code",
   "execution_count": 790,
   "id": "264e800c-40d7-4f2d-ab5c-9984bdadaab7",
   "metadata": {},
   "outputs": [],
   "source": [
    "df.to_csv('data/df2_with_weather.csv', index=False)"
   ]
  },
  {
   "cell_type": "code",
   "execution_count": 791,
   "id": "73b57fa1-98f8-43b0-aa49-437a31db5711",
   "metadata": {
    "tags": []
   },
   "outputs": [],
   "source": [
    "#df.to_csv('data/df1_with_weather1.csv', index=False)"
   ]
  },
  {
   "cell_type": "code",
   "execution_count": 3,
   "id": "4024be39-ffbd-4896-ae34-21c36029f3b6",
   "metadata": {
    "tags": []
   },
   "outputs": [],
   "source": [
    "df = pd.read_csv('data/df2_with_weather.csv')"
   ]
  },
  {
   "cell_type": "code",
   "execution_count": 5,
   "id": "10086fd8-11b9-4490-ad69-32eac5fcce77",
   "metadata": {
    "tags": []
   },
   "outputs": [
    {
     "data": {
      "text/plain": [
       "DATE1                    object\n",
       "DAY_OF_WEEK              object\n",
       "SITE_NAME                object\n",
       "TOWN                     object\n",
       "WATERBODY                object\n",
       "INSPECTOR_ID              int64\n",
       "PAY_VOL                  object\n",
       "SHIFT_START              object\n",
       "TRAILERS                float64\n",
       "SHIFT_END                object\n",
       "SHIFT_LENGTH              int64\n",
       "TOTALINSP               float64\n",
       "PRCP                    float64\n",
       "TMAX                    float64\n",
       "TMIN                    float64\n",
       "DATE                     object\n",
       "month                     int64\n",
       "year                      int64\n",
       "SHIFT_START_CATEGORY     object\n",
       "SHIFT_END_CATEGORY       object\n",
       "ID_COUNT                  int64\n",
       "holiday                   int64\n",
       "early_morning             int64\n",
       "morning                   int64\n",
       "afternoon                 int64\n",
       "late_afternoon            int64\n",
       "evening                   int64\n",
       "dtype: object"
      ]
     },
     "execution_count": 5,
     "metadata": {},
     "output_type": "execute_result"
    }
   ],
   "source": [
    "df.dtypes"
   ]
  },
  {
   "cell_type": "code",
   "execution_count": 6,
   "id": "84eef855-23e6-42ab-9800-f2a404938ff7",
   "metadata": {
    "tags": []
   },
   "outputs": [
    {
     "data": {
      "text/html": [
       "<div>\n",
       "<style scoped>\n",
       "    .dataframe tbody tr th:only-of-type {\n",
       "        vertical-align: middle;\n",
       "    }\n",
       "\n",
       "    .dataframe tbody tr th {\n",
       "        vertical-align: top;\n",
       "    }\n",
       "\n",
       "    .dataframe thead th {\n",
       "        text-align: right;\n",
       "    }\n",
       "</style>\n",
       "<table border=\"1\" class=\"dataframe\">\n",
       "  <thead>\n",
       "    <tr style=\"text-align: right;\">\n",
       "      <th></th>\n",
       "      <th>DATE1</th>\n",
       "      <th>DAY_OF_WEEK</th>\n",
       "      <th>SITE_NAME</th>\n",
       "      <th>TOWN</th>\n",
       "      <th>WATERBODY</th>\n",
       "      <th>INSPECTOR_ID</th>\n",
       "      <th>PAY_VOL</th>\n",
       "      <th>SHIFT_START</th>\n",
       "      <th>TRAILERS</th>\n",
       "      <th>SHIFT_END</th>\n",
       "      <th>...</th>\n",
       "      <th>year</th>\n",
       "      <th>SHIFT_START_CATEGORY</th>\n",
       "      <th>SHIFT_END_CATEGORY</th>\n",
       "      <th>ID_COUNT</th>\n",
       "      <th>holiday</th>\n",
       "      <th>early_morning</th>\n",
       "      <th>morning</th>\n",
       "      <th>afternoon</th>\n",
       "      <th>late_afternoon</th>\n",
       "      <th>evening</th>\n",
       "    </tr>\n",
       "  </thead>\n",
       "  <tbody>\n",
       "    <tr>\n",
       "      <th>0</th>\n",
       "      <td>2021-05-28</td>\n",
       "      <td>Fri</td>\n",
       "      <td>Launch Drive Cobbosseecontee</td>\n",
       "      <td>Monmouth</td>\n",
       "      <td>Cobbosseecontee Lake</td>\n",
       "      <td>4771</td>\n",
       "      <td>Paid</td>\n",
       "      <td>1900-01-01 12:00:00</td>\n",
       "      <td>10.0</td>\n",
       "      <td>2023-12-05 18:00:00</td>\n",
       "      <td>...</td>\n",
       "      <td>2021</td>\n",
       "      <td>Afternoon</td>\n",
       "      <td>Evening</td>\n",
       "      <td>55</td>\n",
       "      <td>0</td>\n",
       "      <td>0</td>\n",
       "      <td>0</td>\n",
       "      <td>0</td>\n",
       "      <td>0</td>\n",
       "      <td>0</td>\n",
       "    </tr>\n",
       "    <tr>\n",
       "      <th>1</th>\n",
       "      <td>2021-05-28</td>\n",
       "      <td>Fri</td>\n",
       "      <td>Whippoorwill Road</td>\n",
       "      <td>Litchfield</td>\n",
       "      <td>Woodbury Pond</td>\n",
       "      <td>4174</td>\n",
       "      <td>Paid</td>\n",
       "      <td>1900-01-01 12:00:00</td>\n",
       "      <td>1.0</td>\n",
       "      <td>2023-12-05 18:00:00</td>\n",
       "      <td>...</td>\n",
       "      <td>2021</td>\n",
       "      <td>Afternoon</td>\n",
       "      <td>Evening</td>\n",
       "      <td>131</td>\n",
       "      <td>0</td>\n",
       "      <td>0</td>\n",
       "      <td>0</td>\n",
       "      <td>0</td>\n",
       "      <td>0</td>\n",
       "      <td>0</td>\n",
       "    </tr>\n",
       "    <tr>\n",
       "      <th>2</th>\n",
       "      <td>2021-05-28</td>\n",
       "      <td>Fri</td>\n",
       "      <td>Holmes Road Annabessacook</td>\n",
       "      <td>Winthrop</td>\n",
       "      <td>Annabessacook Lake</td>\n",
       "      <td>4769</td>\n",
       "      <td>Paid</td>\n",
       "      <td>1900-01-01 12:00:00</td>\n",
       "      <td>0.0</td>\n",
       "      <td>2023-12-05 18:00:00</td>\n",
       "      <td>...</td>\n",
       "      <td>2021</td>\n",
       "      <td>Afternoon</td>\n",
       "      <td>Evening</td>\n",
       "      <td>56</td>\n",
       "      <td>0</td>\n",
       "      <td>0</td>\n",
       "      <td>0</td>\n",
       "      <td>0</td>\n",
       "      <td>0</td>\n",
       "      <td>0</td>\n",
       "    </tr>\n",
       "    <tr>\n",
       "      <th>3</th>\n",
       "      <td>2021-05-28</td>\n",
       "      <td>Fri</td>\n",
       "      <td>East Winthrop Cobbosseecontee</td>\n",
       "      <td>Winthrop</td>\n",
       "      <td>Cobbosseecontee Lake</td>\n",
       "      <td>4485</td>\n",
       "      <td>Paid</td>\n",
       "      <td>1900-01-01 12:00:00</td>\n",
       "      <td>1.0</td>\n",
       "      <td>2023-12-05 18:00:00</td>\n",
       "      <td>...</td>\n",
       "      <td>2021</td>\n",
       "      <td>Afternoon</td>\n",
       "      <td>Evening</td>\n",
       "      <td>16</td>\n",
       "      <td>0</td>\n",
       "      <td>0</td>\n",
       "      <td>0</td>\n",
       "      <td>0</td>\n",
       "      <td>0</td>\n",
       "      <td>0</td>\n",
       "    </tr>\n",
       "    <tr>\n",
       "      <th>4</th>\n",
       "      <td>2021-05-29</td>\n",
       "      <td>Sat</td>\n",
       "      <td>Thorofare Rd</td>\n",
       "      <td>Litchfield</td>\n",
       "      <td>Pleasant Pond</td>\n",
       "      <td>4944</td>\n",
       "      <td>Paid</td>\n",
       "      <td>1900-01-01 07:00:00</td>\n",
       "      <td>1.0</td>\n",
       "      <td>2023-12-05 17:00:00</td>\n",
       "      <td>...</td>\n",
       "      <td>2021</td>\n",
       "      <td>Early Morning</td>\n",
       "      <td>Late Afternoon</td>\n",
       "      <td>57</td>\n",
       "      <td>1</td>\n",
       "      <td>0</td>\n",
       "      <td>0</td>\n",
       "      <td>0</td>\n",
       "      <td>0</td>\n",
       "      <td>0</td>\n",
       "    </tr>\n",
       "  </tbody>\n",
       "</table>\n",
       "<p>5 rows × 27 columns</p>\n",
       "</div>"
      ],
      "text/plain": [
       "        DATE1 DAY_OF_WEEK                      SITE_NAME        TOWN  \\\n",
       "0  2021-05-28         Fri   Launch Drive Cobbosseecontee    Monmouth   \n",
       "1  2021-05-28         Fri              Whippoorwill Road  Litchfield   \n",
       "2  2021-05-28         Fri      Holmes Road Annabessacook    Winthrop   \n",
       "3  2021-05-28         Fri  East Winthrop Cobbosseecontee    Winthrop   \n",
       "4  2021-05-29         Sat                   Thorofare Rd  Litchfield   \n",
       "\n",
       "              WATERBODY  INSPECTOR_ID PAY_VOL          SHIFT_START  TRAILERS  \\\n",
       "0  Cobbosseecontee Lake          4771    Paid  1900-01-01 12:00:00      10.0   \n",
       "1         Woodbury Pond          4174    Paid  1900-01-01 12:00:00       1.0   \n",
       "2    Annabessacook Lake          4769    Paid  1900-01-01 12:00:00       0.0   \n",
       "3  Cobbosseecontee Lake          4485    Paid  1900-01-01 12:00:00       1.0   \n",
       "4         Pleasant Pond          4944    Paid  1900-01-01 07:00:00       1.0   \n",
       "\n",
       "             SHIFT_END  ...  year  SHIFT_START_CATEGORY  SHIFT_END_CATEGORY  \\\n",
       "0  2023-12-05 18:00:00  ...  2021             Afternoon             Evening   \n",
       "1  2023-12-05 18:00:00  ...  2021             Afternoon             Evening   \n",
       "2  2023-12-05 18:00:00  ...  2021             Afternoon             Evening   \n",
       "3  2023-12-05 18:00:00  ...  2021             Afternoon             Evening   \n",
       "4  2023-12-05 17:00:00  ...  2021         Early Morning      Late Afternoon   \n",
       "\n",
       "   ID_COUNT  holiday early_morning  morning  afternoon late_afternoon evening  \n",
       "0        55        0             0        0          0              0       0  \n",
       "1       131        0             0        0          0              0       0  \n",
       "2        56        0             0        0          0              0       0  \n",
       "3        16        0             0        0          0              0       0  \n",
       "4        57        1             0        0          0              0       0  \n",
       "\n",
       "[5 rows x 27 columns]"
      ]
     },
     "execution_count": 6,
     "metadata": {},
     "output_type": "execute_result"
    }
   ],
   "source": [
    "df.head()"
   ]
  },
  {
   "cell_type": "code",
   "execution_count": 7,
   "id": "2f66f8aa-27a8-4b9c-831a-bc1a50dbba2d",
   "metadata": {
    "tags": []
   },
   "outputs": [],
   "source": [
    "df['SHIFT_START'] = pd.to_datetime(df['SHIFT_START']).dt.time\n",
    "df['SHIFT_END'] = pd.to_datetime(df['SHIFT_END']).dt.time"
   ]
  },
  {
   "cell_type": "code",
   "execution_count": 8,
   "id": "7d2e5243-ec62-4513-aae5-44784fab4123",
   "metadata": {
    "tags": []
   },
   "outputs": [
    {
     "data": {
      "text/html": [
       "<div>\n",
       "<style scoped>\n",
       "    .dataframe tbody tr th:only-of-type {\n",
       "        vertical-align: middle;\n",
       "    }\n",
       "\n",
       "    .dataframe tbody tr th {\n",
       "        vertical-align: top;\n",
       "    }\n",
       "\n",
       "    .dataframe thead th {\n",
       "        text-align: right;\n",
       "    }\n",
       "</style>\n",
       "<table border=\"1\" class=\"dataframe\">\n",
       "  <thead>\n",
       "    <tr style=\"text-align: right;\">\n",
       "      <th></th>\n",
       "      <th>DATE1</th>\n",
       "      <th>DAY_OF_WEEK</th>\n",
       "      <th>SITE_NAME</th>\n",
       "      <th>TOWN</th>\n",
       "      <th>WATERBODY</th>\n",
       "      <th>INSPECTOR_ID</th>\n",
       "      <th>PAY_VOL</th>\n",
       "      <th>SHIFT_START</th>\n",
       "      <th>TRAILERS</th>\n",
       "      <th>SHIFT_END</th>\n",
       "      <th>...</th>\n",
       "      <th>year</th>\n",
       "      <th>SHIFT_START_CATEGORY</th>\n",
       "      <th>SHIFT_END_CATEGORY</th>\n",
       "      <th>ID_COUNT</th>\n",
       "      <th>holiday</th>\n",
       "      <th>early_morning</th>\n",
       "      <th>morning</th>\n",
       "      <th>afternoon</th>\n",
       "      <th>late_afternoon</th>\n",
       "      <th>evening</th>\n",
       "    </tr>\n",
       "  </thead>\n",
       "  <tbody>\n",
       "    <tr>\n",
       "      <th>0</th>\n",
       "      <td>2021-05-28</td>\n",
       "      <td>Fri</td>\n",
       "      <td>Launch Drive Cobbosseecontee</td>\n",
       "      <td>Monmouth</td>\n",
       "      <td>Cobbosseecontee Lake</td>\n",
       "      <td>4771</td>\n",
       "      <td>Paid</td>\n",
       "      <td>12:00:00</td>\n",
       "      <td>10.0</td>\n",
       "      <td>18:00:00</td>\n",
       "      <td>...</td>\n",
       "      <td>2021</td>\n",
       "      <td>Afternoon</td>\n",
       "      <td>Evening</td>\n",
       "      <td>55</td>\n",
       "      <td>0</td>\n",
       "      <td>0</td>\n",
       "      <td>0</td>\n",
       "      <td>0</td>\n",
       "      <td>0</td>\n",
       "      <td>0</td>\n",
       "    </tr>\n",
       "    <tr>\n",
       "      <th>1</th>\n",
       "      <td>2021-05-28</td>\n",
       "      <td>Fri</td>\n",
       "      <td>Whippoorwill Road</td>\n",
       "      <td>Litchfield</td>\n",
       "      <td>Woodbury Pond</td>\n",
       "      <td>4174</td>\n",
       "      <td>Paid</td>\n",
       "      <td>12:00:00</td>\n",
       "      <td>1.0</td>\n",
       "      <td>18:00:00</td>\n",
       "      <td>...</td>\n",
       "      <td>2021</td>\n",
       "      <td>Afternoon</td>\n",
       "      <td>Evening</td>\n",
       "      <td>131</td>\n",
       "      <td>0</td>\n",
       "      <td>0</td>\n",
       "      <td>0</td>\n",
       "      <td>0</td>\n",
       "      <td>0</td>\n",
       "      <td>0</td>\n",
       "    </tr>\n",
       "    <tr>\n",
       "      <th>2</th>\n",
       "      <td>2021-05-28</td>\n",
       "      <td>Fri</td>\n",
       "      <td>Holmes Road Annabessacook</td>\n",
       "      <td>Winthrop</td>\n",
       "      <td>Annabessacook Lake</td>\n",
       "      <td>4769</td>\n",
       "      <td>Paid</td>\n",
       "      <td>12:00:00</td>\n",
       "      <td>0.0</td>\n",
       "      <td>18:00:00</td>\n",
       "      <td>...</td>\n",
       "      <td>2021</td>\n",
       "      <td>Afternoon</td>\n",
       "      <td>Evening</td>\n",
       "      <td>56</td>\n",
       "      <td>0</td>\n",
       "      <td>0</td>\n",
       "      <td>0</td>\n",
       "      <td>0</td>\n",
       "      <td>0</td>\n",
       "      <td>0</td>\n",
       "    </tr>\n",
       "    <tr>\n",
       "      <th>3</th>\n",
       "      <td>2021-05-28</td>\n",
       "      <td>Fri</td>\n",
       "      <td>East Winthrop Cobbosseecontee</td>\n",
       "      <td>Winthrop</td>\n",
       "      <td>Cobbosseecontee Lake</td>\n",
       "      <td>4485</td>\n",
       "      <td>Paid</td>\n",
       "      <td>12:00:00</td>\n",
       "      <td>1.0</td>\n",
       "      <td>18:00:00</td>\n",
       "      <td>...</td>\n",
       "      <td>2021</td>\n",
       "      <td>Afternoon</td>\n",
       "      <td>Evening</td>\n",
       "      <td>16</td>\n",
       "      <td>0</td>\n",
       "      <td>0</td>\n",
       "      <td>0</td>\n",
       "      <td>0</td>\n",
       "      <td>0</td>\n",
       "      <td>0</td>\n",
       "    </tr>\n",
       "    <tr>\n",
       "      <th>4</th>\n",
       "      <td>2021-05-29</td>\n",
       "      <td>Sat</td>\n",
       "      <td>Thorofare Rd</td>\n",
       "      <td>Litchfield</td>\n",
       "      <td>Pleasant Pond</td>\n",
       "      <td>4944</td>\n",
       "      <td>Paid</td>\n",
       "      <td>07:00:00</td>\n",
       "      <td>1.0</td>\n",
       "      <td>17:00:00</td>\n",
       "      <td>...</td>\n",
       "      <td>2021</td>\n",
       "      <td>Early Morning</td>\n",
       "      <td>Late Afternoon</td>\n",
       "      <td>57</td>\n",
       "      <td>1</td>\n",
       "      <td>0</td>\n",
       "      <td>0</td>\n",
       "      <td>0</td>\n",
       "      <td>0</td>\n",
       "      <td>0</td>\n",
       "    </tr>\n",
       "  </tbody>\n",
       "</table>\n",
       "<p>5 rows × 27 columns</p>\n",
       "</div>"
      ],
      "text/plain": [
       "        DATE1 DAY_OF_WEEK                      SITE_NAME        TOWN  \\\n",
       "0  2021-05-28         Fri   Launch Drive Cobbosseecontee    Monmouth   \n",
       "1  2021-05-28         Fri              Whippoorwill Road  Litchfield   \n",
       "2  2021-05-28         Fri      Holmes Road Annabessacook    Winthrop   \n",
       "3  2021-05-28         Fri  East Winthrop Cobbosseecontee    Winthrop   \n",
       "4  2021-05-29         Sat                   Thorofare Rd  Litchfield   \n",
       "\n",
       "              WATERBODY  INSPECTOR_ID PAY_VOL SHIFT_START  TRAILERS SHIFT_END  \\\n",
       "0  Cobbosseecontee Lake          4771    Paid    12:00:00      10.0  18:00:00   \n",
       "1         Woodbury Pond          4174    Paid    12:00:00       1.0  18:00:00   \n",
       "2    Annabessacook Lake          4769    Paid    12:00:00       0.0  18:00:00   \n",
       "3  Cobbosseecontee Lake          4485    Paid    12:00:00       1.0  18:00:00   \n",
       "4         Pleasant Pond          4944    Paid    07:00:00       1.0  17:00:00   \n",
       "\n",
       "   ...  year  SHIFT_START_CATEGORY  SHIFT_END_CATEGORY  ID_COUNT  holiday  \\\n",
       "0  ...  2021             Afternoon             Evening        55        0   \n",
       "1  ...  2021             Afternoon             Evening       131        0   \n",
       "2  ...  2021             Afternoon             Evening        56        0   \n",
       "3  ...  2021             Afternoon             Evening        16        0   \n",
       "4  ...  2021         Early Morning      Late Afternoon        57        1   \n",
       "\n",
       "  early_morning  morning  afternoon late_afternoon evening  \n",
       "0             0        0          0              0       0  \n",
       "1             0        0          0              0       0  \n",
       "2             0        0          0              0       0  \n",
       "3             0        0          0              0       0  \n",
       "4             0        0          0              0       0  \n",
       "\n",
       "[5 rows x 27 columns]"
      ]
     },
     "execution_count": 8,
     "metadata": {},
     "output_type": "execute_result"
    }
   ],
   "source": [
    "df.head()"
   ]
  },
  {
   "cell_type": "code",
   "execution_count": 14,
   "id": "e939dfd6-3912-4fe1-9595-7797872f2f15",
   "metadata": {
    "tags": []
   },
   "outputs": [],
   "source": [
    "# More feature engineering\n",
    "\n",
    "df['early_morning'] = 0\n",
    "df['morning'] = 0\n",
    "df['afternoon'] = 0\n",
    "df['late_afternoon'] = 0\n",
    "df['evening'] = 0\n",
    "df['night'] =0\n",
    "\n",
    "# Define function to set values based on shift start and end times\n",
    "def set_shift_coverage(row):\n",
    "    start_hour = row['SHIFT_START'].hour\n",
    "    end_hour = row['SHIFT_END'].hour\n",
    "    \n",
    "    if start_hour < 8 and end_hour >= 8:\n",
    "        row['early_morning'] = 1\n",
    "    if start_hour <= 8 and end_hour >= 11:\n",
    "        row['morning'] = 1\n",
    "    if start_hour < 11 and end_hour >= 14:\n",
    "        row['afternoon'] = 1\n",
    "    if start_hour < 14 and end_hour >= 17:\n",
    "        row['late_afternoon'] = 1\n",
    "    if start_hour < 17 and end_hour >= 19:\n",
    "        row['evening'] = 1\n",
    "    if start_hour < 19 and end_hour >= 20:\n",
    "        row['evening'] = 1\n",
    "    \n",
    "    return row\n",
    "\n",
    "# Apply the function to each row\n",
    "df = df.apply(set_shift_coverage, axis=1)\n"
   ]
  },
  {
   "cell_type": "code",
   "execution_count": 15,
   "id": "4885590b-5b2f-4e41-911c-df358428ca00",
   "metadata": {
    "tags": []
   },
   "outputs": [
    {
     "data": {
      "text/html": [
       "<div>\n",
       "<style scoped>\n",
       "    .dataframe tbody tr th:only-of-type {\n",
       "        vertical-align: middle;\n",
       "    }\n",
       "\n",
       "    .dataframe tbody tr th {\n",
       "        vertical-align: top;\n",
       "    }\n",
       "\n",
       "    .dataframe thead th {\n",
       "        text-align: right;\n",
       "    }\n",
       "</style>\n",
       "<table border=\"1\" class=\"dataframe\">\n",
       "  <thead>\n",
       "    <tr style=\"text-align: right;\">\n",
       "      <th></th>\n",
       "      <th>DATE1</th>\n",
       "      <th>DAY_OF_WEEK</th>\n",
       "      <th>SITE_NAME</th>\n",
       "      <th>TOWN</th>\n",
       "      <th>WATERBODY</th>\n",
       "      <th>INSPECTOR_ID</th>\n",
       "      <th>PAY_VOL</th>\n",
       "      <th>SHIFT_START</th>\n",
       "      <th>TRAILERS</th>\n",
       "      <th>SHIFT_END</th>\n",
       "      <th>...</th>\n",
       "      <th>SHIFT_START_CATEGORY</th>\n",
       "      <th>SHIFT_END_CATEGORY</th>\n",
       "      <th>ID_COUNT</th>\n",
       "      <th>holiday</th>\n",
       "      <th>early_morning</th>\n",
       "      <th>morning</th>\n",
       "      <th>afternoon</th>\n",
       "      <th>late_afternoon</th>\n",
       "      <th>evening</th>\n",
       "      <th>night</th>\n",
       "    </tr>\n",
       "  </thead>\n",
       "  <tbody>\n",
       "    <tr>\n",
       "      <th>0</th>\n",
       "      <td>2021-05-28</td>\n",
       "      <td>Fri</td>\n",
       "      <td>Launch Drive Cobbosseecontee</td>\n",
       "      <td>Monmouth</td>\n",
       "      <td>Cobbosseecontee Lake</td>\n",
       "      <td>4771</td>\n",
       "      <td>Paid</td>\n",
       "      <td>12:00:00</td>\n",
       "      <td>10.0</td>\n",
       "      <td>18:00:00</td>\n",
       "      <td>...</td>\n",
       "      <td>Afternoon</td>\n",
       "      <td>Evening</td>\n",
       "      <td>55</td>\n",
       "      <td>0</td>\n",
       "      <td>0</td>\n",
       "      <td>0</td>\n",
       "      <td>0</td>\n",
       "      <td>1</td>\n",
       "      <td>0</td>\n",
       "      <td>0</td>\n",
       "    </tr>\n",
       "    <tr>\n",
       "      <th>1</th>\n",
       "      <td>2021-05-28</td>\n",
       "      <td>Fri</td>\n",
       "      <td>Whippoorwill Road</td>\n",
       "      <td>Litchfield</td>\n",
       "      <td>Woodbury Pond</td>\n",
       "      <td>4174</td>\n",
       "      <td>Paid</td>\n",
       "      <td>12:00:00</td>\n",
       "      <td>1.0</td>\n",
       "      <td>18:00:00</td>\n",
       "      <td>...</td>\n",
       "      <td>Afternoon</td>\n",
       "      <td>Evening</td>\n",
       "      <td>131</td>\n",
       "      <td>0</td>\n",
       "      <td>0</td>\n",
       "      <td>0</td>\n",
       "      <td>0</td>\n",
       "      <td>1</td>\n",
       "      <td>0</td>\n",
       "      <td>0</td>\n",
       "    </tr>\n",
       "    <tr>\n",
       "      <th>2</th>\n",
       "      <td>2021-05-28</td>\n",
       "      <td>Fri</td>\n",
       "      <td>Holmes Road Annabessacook</td>\n",
       "      <td>Winthrop</td>\n",
       "      <td>Annabessacook Lake</td>\n",
       "      <td>4769</td>\n",
       "      <td>Paid</td>\n",
       "      <td>12:00:00</td>\n",
       "      <td>0.0</td>\n",
       "      <td>18:00:00</td>\n",
       "      <td>...</td>\n",
       "      <td>Afternoon</td>\n",
       "      <td>Evening</td>\n",
       "      <td>56</td>\n",
       "      <td>0</td>\n",
       "      <td>0</td>\n",
       "      <td>0</td>\n",
       "      <td>0</td>\n",
       "      <td>1</td>\n",
       "      <td>0</td>\n",
       "      <td>0</td>\n",
       "    </tr>\n",
       "    <tr>\n",
       "      <th>3</th>\n",
       "      <td>2021-05-28</td>\n",
       "      <td>Fri</td>\n",
       "      <td>East Winthrop Cobbosseecontee</td>\n",
       "      <td>Winthrop</td>\n",
       "      <td>Cobbosseecontee Lake</td>\n",
       "      <td>4485</td>\n",
       "      <td>Paid</td>\n",
       "      <td>12:00:00</td>\n",
       "      <td>1.0</td>\n",
       "      <td>18:00:00</td>\n",
       "      <td>...</td>\n",
       "      <td>Afternoon</td>\n",
       "      <td>Evening</td>\n",
       "      <td>16</td>\n",
       "      <td>0</td>\n",
       "      <td>0</td>\n",
       "      <td>0</td>\n",
       "      <td>0</td>\n",
       "      <td>1</td>\n",
       "      <td>0</td>\n",
       "      <td>0</td>\n",
       "    </tr>\n",
       "    <tr>\n",
       "      <th>4</th>\n",
       "      <td>2021-05-29</td>\n",
       "      <td>Sat</td>\n",
       "      <td>Thorofare Rd</td>\n",
       "      <td>Litchfield</td>\n",
       "      <td>Pleasant Pond</td>\n",
       "      <td>4944</td>\n",
       "      <td>Paid</td>\n",
       "      <td>07:00:00</td>\n",
       "      <td>1.0</td>\n",
       "      <td>17:00:00</td>\n",
       "      <td>...</td>\n",
       "      <td>Early Morning</td>\n",
       "      <td>Late Afternoon</td>\n",
       "      <td>57</td>\n",
       "      <td>1</td>\n",
       "      <td>1</td>\n",
       "      <td>1</td>\n",
       "      <td>1</td>\n",
       "      <td>1</td>\n",
       "      <td>0</td>\n",
       "      <td>0</td>\n",
       "    </tr>\n",
       "  </tbody>\n",
       "</table>\n",
       "<p>5 rows × 28 columns</p>\n",
       "</div>"
      ],
      "text/plain": [
       "        DATE1 DAY_OF_WEEK                      SITE_NAME        TOWN  \\\n",
       "0  2021-05-28         Fri   Launch Drive Cobbosseecontee    Monmouth   \n",
       "1  2021-05-28         Fri              Whippoorwill Road  Litchfield   \n",
       "2  2021-05-28         Fri      Holmes Road Annabessacook    Winthrop   \n",
       "3  2021-05-28         Fri  East Winthrop Cobbosseecontee    Winthrop   \n",
       "4  2021-05-29         Sat                   Thorofare Rd  Litchfield   \n",
       "\n",
       "              WATERBODY  INSPECTOR_ID PAY_VOL SHIFT_START  TRAILERS SHIFT_END  \\\n",
       "0  Cobbosseecontee Lake          4771    Paid    12:00:00      10.0  18:00:00   \n",
       "1         Woodbury Pond          4174    Paid    12:00:00       1.0  18:00:00   \n",
       "2    Annabessacook Lake          4769    Paid    12:00:00       0.0  18:00:00   \n",
       "3  Cobbosseecontee Lake          4485    Paid    12:00:00       1.0  18:00:00   \n",
       "4         Pleasant Pond          4944    Paid    07:00:00       1.0  17:00:00   \n",
       "\n",
       "   ...  SHIFT_START_CATEGORY  SHIFT_END_CATEGORY  ID_COUNT  holiday  \\\n",
       "0  ...             Afternoon             Evening        55        0   \n",
       "1  ...             Afternoon             Evening       131        0   \n",
       "2  ...             Afternoon             Evening        56        0   \n",
       "3  ...             Afternoon             Evening        16        0   \n",
       "4  ...         Early Morning      Late Afternoon        57        1   \n",
       "\n",
       "   early_morning morning  afternoon  late_afternoon evening night  \n",
       "0              0       0          0               1       0     0  \n",
       "1              0       0          0               1       0     0  \n",
       "2              0       0          0               1       0     0  \n",
       "3              0       0          0               1       0     0  \n",
       "4              1       1          1               1       0     0  \n",
       "\n",
       "[5 rows x 28 columns]"
      ]
     },
     "execution_count": 15,
     "metadata": {},
     "output_type": "execute_result"
    }
   ],
   "source": [
    "df.head()"
   ]
  },
  {
   "cell_type": "code",
   "execution_count": 16,
   "id": "8160de50-0337-48e8-a574-6345b02c3e51",
   "metadata": {
    "tags": []
   },
   "outputs": [],
   "source": [
    "df.to_csv('data/df3_with_weather.csv', index= False)"
   ]
  },
  {
   "cell_type": "code",
   "execution_count": 17,
   "id": "d9841bce-7847-4fb5-ad2c-2b732796a46b",
   "metadata": {
    "tags": []
   },
   "outputs": [],
   "source": [
    "# Adding the shift coverage categories made the model worse not better"
   ]
  },
  {
   "cell_type": "code",
   "execution_count": null,
   "id": "533ccec2-bf0b-4f16-91bb-e882eea35d1e",
   "metadata": {},
   "outputs": [],
   "source": []
  },
  {
   "cell_type": "code",
   "execution_count": 18,
   "id": "9e32f99e-5e7c-419a-897d-9885574d2154",
   "metadata": {
    "tags": []
   },
   "outputs": [],
   "source": [
    "# More data engineering on ID_COUNT\n",
    "\n",
    "df = pd.read_csv('data/df2_with_weather.csv')"
   ]
  },
  {
   "cell_type": "code",
   "execution_count": 19,
   "id": "ddeef7af-666c-4c33-887f-f230ce0af88d",
   "metadata": {
    "tags": []
   },
   "outputs": [
    {
     "data": {
      "text/html": [
       "<div>\n",
       "<style scoped>\n",
       "    .dataframe tbody tr th:only-of-type {\n",
       "        vertical-align: middle;\n",
       "    }\n",
       "\n",
       "    .dataframe tbody tr th {\n",
       "        vertical-align: top;\n",
       "    }\n",
       "\n",
       "    .dataframe thead th {\n",
       "        text-align: right;\n",
       "    }\n",
       "</style>\n",
       "<table border=\"1\" class=\"dataframe\">\n",
       "  <thead>\n",
       "    <tr style=\"text-align: right;\">\n",
       "      <th></th>\n",
       "      <th>INSPECTOR_ID</th>\n",
       "      <th>TRAILERS</th>\n",
       "      <th>SHIFT_LENGTH</th>\n",
       "      <th>TOTALINSP</th>\n",
       "      <th>PRCP</th>\n",
       "      <th>TMAX</th>\n",
       "      <th>TMIN</th>\n",
       "      <th>month</th>\n",
       "      <th>year</th>\n",
       "      <th>ID_COUNT</th>\n",
       "      <th>holiday</th>\n",
       "    </tr>\n",
       "  </thead>\n",
       "  <tbody>\n",
       "    <tr>\n",
       "      <th>count</th>\n",
       "      <td>2321.000000</td>\n",
       "      <td>2117.000000</td>\n",
       "      <td>2321.000000</td>\n",
       "      <td>2319.000000</td>\n",
       "      <td>2321.000000</td>\n",
       "      <td>2321.000000</td>\n",
       "      <td>2321.000000</td>\n",
       "      <td>2321.000000</td>\n",
       "      <td>2321.000000</td>\n",
       "      <td>2321.000000</td>\n",
       "      <td>2321.000000</td>\n",
       "    </tr>\n",
       "    <tr>\n",
       "      <th>mean</th>\n",
       "      <td>4954.877639</td>\n",
       "      <td>4.420406</td>\n",
       "      <td>380.367514</td>\n",
       "      <td>16.492454</td>\n",
       "      <td>0.123593</td>\n",
       "      <td>79.532960</td>\n",
       "      <td>59.227919</td>\n",
       "      <td>7.197760</td>\n",
       "      <td>2022.075399</td>\n",
       "      <td>58.291685</td>\n",
       "      <td>0.176217</td>\n",
       "    </tr>\n",
       "    <tr>\n",
       "      <th>std</th>\n",
       "      <td>1108.499935</td>\n",
       "      <td>28.791702</td>\n",
       "      <td>137.667067</td>\n",
       "      <td>17.135173</td>\n",
       "      <td>0.312013</td>\n",
       "      <td>8.551561</td>\n",
       "      <td>6.630534</td>\n",
       "      <td>1.074434</td>\n",
       "      <td>0.791061</td>\n",
       "      <td>39.012197</td>\n",
       "      <td>0.381087</td>\n",
       "    </tr>\n",
       "    <tr>\n",
       "      <th>min</th>\n",
       "      <td>1103.000000</td>\n",
       "      <td>0.000000</td>\n",
       "      <td>14.000000</td>\n",
       "      <td>0.000000</td>\n",
       "      <td>0.000000</td>\n",
       "      <td>50.000000</td>\n",
       "      <td>40.000000</td>\n",
       "      <td>5.000000</td>\n",
       "      <td>2021.000000</td>\n",
       "      <td>1.000000</td>\n",
       "      <td>0.000000</td>\n",
       "    </tr>\n",
       "    <tr>\n",
       "      <th>25%</th>\n",
       "      <td>4715.000000</td>\n",
       "      <td>1.000000</td>\n",
       "      <td>360.000000</td>\n",
       "      <td>4.000000</td>\n",
       "      <td>0.000000</td>\n",
       "      <td>75.000000</td>\n",
       "      <td>54.000000</td>\n",
       "      <td>6.000000</td>\n",
       "      <td>2021.000000</td>\n",
       "      <td>28.000000</td>\n",
       "      <td>0.000000</td>\n",
       "    </tr>\n",
       "    <tr>\n",
       "      <th>50%</th>\n",
       "      <td>5353.000000</td>\n",
       "      <td>2.000000</td>\n",
       "      <td>360.000000</td>\n",
       "      <td>11.000000</td>\n",
       "      <td>0.000000</td>\n",
       "      <td>81.000000</td>\n",
       "      <td>60.000000</td>\n",
       "      <td>7.000000</td>\n",
       "      <td>2022.000000</td>\n",
       "      <td>55.000000</td>\n",
       "      <td>0.000000</td>\n",
       "    </tr>\n",
       "    <tr>\n",
       "      <th>75%</th>\n",
       "      <td>5648.000000</td>\n",
       "      <td>5.000000</td>\n",
       "      <td>375.000000</td>\n",
       "      <td>23.000000</td>\n",
       "      <td>0.080000</td>\n",
       "      <td>86.000000</td>\n",
       "      <td>64.000000</td>\n",
       "      <td>8.000000</td>\n",
       "      <td>2023.000000</td>\n",
       "      <td>82.000000</td>\n",
       "      <td>0.000000</td>\n",
       "    </tr>\n",
       "    <tr>\n",
       "      <th>max</th>\n",
       "      <td>6112.000000</td>\n",
       "      <td>1300.000000</td>\n",
       "      <td>720.000000</td>\n",
       "      <td>105.000000</td>\n",
       "      <td>2.320000</td>\n",
       "      <td>95.000000</td>\n",
       "      <td>73.000000</td>\n",
       "      <td>10.000000</td>\n",
       "      <td>2023.000000</td>\n",
       "      <td>131.000000</td>\n",
       "      <td>1.000000</td>\n",
       "    </tr>\n",
       "  </tbody>\n",
       "</table>\n",
       "</div>"
      ],
      "text/plain": [
       "       INSPECTOR_ID     TRAILERS  SHIFT_LENGTH    TOTALINSP         PRCP  \\\n",
       "count   2321.000000  2117.000000   2321.000000  2319.000000  2321.000000   \n",
       "mean    4954.877639     4.420406    380.367514    16.492454     0.123593   \n",
       "std     1108.499935    28.791702    137.667067    17.135173     0.312013   \n",
       "min     1103.000000     0.000000     14.000000     0.000000     0.000000   \n",
       "25%     4715.000000     1.000000    360.000000     4.000000     0.000000   \n",
       "50%     5353.000000     2.000000    360.000000    11.000000     0.000000   \n",
       "75%     5648.000000     5.000000    375.000000    23.000000     0.080000   \n",
       "max     6112.000000  1300.000000    720.000000   105.000000     2.320000   \n",
       "\n",
       "              TMAX         TMIN        month         year     ID_COUNT  \\\n",
       "count  2321.000000  2321.000000  2321.000000  2321.000000  2321.000000   \n",
       "mean     79.532960    59.227919     7.197760  2022.075399    58.291685   \n",
       "std       8.551561     6.630534     1.074434     0.791061    39.012197   \n",
       "min      50.000000    40.000000     5.000000  2021.000000     1.000000   \n",
       "25%      75.000000    54.000000     6.000000  2021.000000    28.000000   \n",
       "50%      81.000000    60.000000     7.000000  2022.000000    55.000000   \n",
       "75%      86.000000    64.000000     8.000000  2023.000000    82.000000   \n",
       "max      95.000000    73.000000    10.000000  2023.000000   131.000000   \n",
       "\n",
       "           holiday  \n",
       "count  2321.000000  \n",
       "mean      0.176217  \n",
       "std       0.381087  \n",
       "min       0.000000  \n",
       "25%       0.000000  \n",
       "50%       0.000000  \n",
       "75%       0.000000  \n",
       "max       1.000000  "
      ]
     },
     "execution_count": 19,
     "metadata": {},
     "output_type": "execute_result"
    }
   ],
   "source": [
    "df.describe()"
   ]
  },
  {
   "cell_type": "code",
   "execution_count": null,
   "id": "43c94fb8-ec40-4f8b-addc-e39542f629bb",
   "metadata": {},
   "outputs": [],
   "source": []
  }
 ],
 "metadata": {
  "kernelspec": {
   "display_name": "Python 3 (ipykernel)",
   "language": "python",
   "name": "python3"
  },
  "language_info": {
   "codemirror_mode": {
    "name": "ipython",
    "version": 3
   },
   "file_extension": ".py",
   "mimetype": "text/x-python",
   "name": "python",
   "nbconvert_exporter": "python",
   "pygments_lexer": "ipython3",
   "version": "3.11.4"
  }
 },
 "nbformat": 4,
 "nbformat_minor": 5
}
