{
 "cells": [
  {
   "cell_type": "code",
   "execution_count": 2,
   "id": "a4f6b684-117f-4ba4-8206-58746e73fb4d",
   "metadata": {
    "tags": []
   },
   "outputs": [],
   "source": [
    "# imports \n",
    "\n",
    "import numpy as np\n",
    "import pandas as pd\n",
    "import matplotlib.pyplot as plt\n",
    "\n",
    "from datetime import datetime, timedelta\n",
    "\n",
    "import pickle\n",
    "\n",
    "from mapie.regression import MapieRegressor\n",
    "from mapie.metrics import regression_coverage_score_v2"
   ]
  },
  {
   "cell_type": "markdown",
   "id": "f748f72c-858f-4d67-8e47-d3ccd18bc0bd",
   "metadata": {},
   "source": [
    "# Creating Budget & Inspection Projections\n",
    "\n"
   ]
  },
  {
   "cell_type": "markdown",
   "id": "0a3cda98-94fb-4dd2-a355-7e3e8b074897",
   "metadata": {},
   "source": [
    "Now that I have a model, I will deploy that model on multiple what-if scenarios to gain insights into how to optimize the process of increasing shift coverage. I will create these scenarios by examining shifts that were not covered in 2023. In each scenario I will simulate covering 100 extra shifts. In the first scenario, all shift variables were filled randomly based on the proportions of values in the original dataset and then merged with the weather data for that date. In the second scenario, start time was set to be 7 am for a 4 hour shift. In the third scenario, the start time remained the same but for an 8 hour shift. In the fourth scenario, I simulated 8 hour shifts that begin at 9:30 (the mean start_time in the 2023 data). \n",
    "\n",
    "### Scenario Creation Process\n",
    "1. Identify shifts that were not covered in 2023\n",
    "2. Create a dataset of just the uncovered shifts\n",
    "3. Develop each step of the process of filling this data (merging with weather, setting start times, feature engineering)\n",
    "4. Create a function to fill in the values of each scenario\n",
    "\n",
    "### Prediction Process\n",
    "1. Use the pickled model to predict values for the what-if scenarios\n",
    "2. Sum the predictions\n",
    "3. Use bootstrapping to create a prediction_interval (95%)\n",
    "\n",
    "\n"
   ]
  },
  {
   "cell_type": "code",
   "execution_count": 3,
   "id": "0f301456-843c-4724-8d58-f61870bb719a",
   "metadata": {
    "tags": []
   },
   "outputs": [],
   "source": [
    "df = pd.read_csv('data/df2_with_weather.csv')"
   ]
  },
  {
   "cell_type": "code",
   "execution_count": null,
   "id": "c674a33a-f95d-4c18-91a3-84e3b5d33a80",
   "metadata": {},
   "outputs": [],
   "source": []
  },
  {
   "cell_type": "code",
   "execution_count": 4,
   "id": "21adaf2c-094b-41ec-8495-9fefddaed594",
   "metadata": {
    "tags": []
   },
   "outputs": [
    {
     "data": {
      "text/html": [
       "<div>\n",
       "<style scoped>\n",
       "    .dataframe tbody tr th:only-of-type {\n",
       "        vertical-align: middle;\n",
       "    }\n",
       "\n",
       "    .dataframe tbody tr th {\n",
       "        vertical-align: top;\n",
       "    }\n",
       "\n",
       "    .dataframe thead th {\n",
       "        text-align: right;\n",
       "    }\n",
       "</style>\n",
       "<table border=\"1\" class=\"dataframe\">\n",
       "  <thead>\n",
       "    <tr style=\"text-align: right;\">\n",
       "      <th></th>\n",
       "      <th>DATE1</th>\n",
       "      <th>DAY_OF_WEEK</th>\n",
       "      <th>SITE_NAME</th>\n",
       "      <th>TOWN</th>\n",
       "      <th>WATERBODY</th>\n",
       "      <th>INSPECTOR_ID</th>\n",
       "      <th>PAY_VOL</th>\n",
       "      <th>SHIFT_START</th>\n",
       "      <th>TRAILERS</th>\n",
       "      <th>SHIFT_END</th>\n",
       "      <th>...</th>\n",
       "      <th>PRCP</th>\n",
       "      <th>TMAX</th>\n",
       "      <th>TMIN</th>\n",
       "      <th>DATE</th>\n",
       "      <th>month</th>\n",
       "      <th>year</th>\n",
       "      <th>SHIFT_START_CATEGORY</th>\n",
       "      <th>SHIFT_END_CATEGORY</th>\n",
       "      <th>ID_COUNT</th>\n",
       "      <th>holiday</th>\n",
       "    </tr>\n",
       "  </thead>\n",
       "  <tbody>\n",
       "    <tr>\n",
       "      <th>0</th>\n",
       "      <td>2021-05-28</td>\n",
       "      <td>Fri</td>\n",
       "      <td>Launch Drive Cobbosseecontee</td>\n",
       "      <td>Monmouth</td>\n",
       "      <td>Cobbosseecontee Lake</td>\n",
       "      <td>4771</td>\n",
       "      <td>Paid</td>\n",
       "      <td>1900-01-01 12:00:00</td>\n",
       "      <td>10.0</td>\n",
       "      <td>2023-12-05 18:00:00</td>\n",
       "      <td>...</td>\n",
       "      <td>0.00</td>\n",
       "      <td>72.0</td>\n",
       "      <td>45.0</td>\n",
       "      <td>2021-05-28</td>\n",
       "      <td>5</td>\n",
       "      <td>2021</td>\n",
       "      <td>Afternoon</td>\n",
       "      <td>Evening</td>\n",
       "      <td>55</td>\n",
       "      <td>0</td>\n",
       "    </tr>\n",
       "    <tr>\n",
       "      <th>1</th>\n",
       "      <td>2021-05-28</td>\n",
       "      <td>Fri</td>\n",
       "      <td>Whippoorwill Road</td>\n",
       "      <td>Litchfield</td>\n",
       "      <td>Woodbury Pond</td>\n",
       "      <td>4174</td>\n",
       "      <td>Paid</td>\n",
       "      <td>1900-01-01 12:00:00</td>\n",
       "      <td>1.0</td>\n",
       "      <td>2023-12-05 18:00:00</td>\n",
       "      <td>...</td>\n",
       "      <td>0.00</td>\n",
       "      <td>72.0</td>\n",
       "      <td>45.0</td>\n",
       "      <td>2021-05-28</td>\n",
       "      <td>5</td>\n",
       "      <td>2021</td>\n",
       "      <td>Afternoon</td>\n",
       "      <td>Evening</td>\n",
       "      <td>131</td>\n",
       "      <td>0</td>\n",
       "    </tr>\n",
       "    <tr>\n",
       "      <th>2</th>\n",
       "      <td>2021-05-28</td>\n",
       "      <td>Fri</td>\n",
       "      <td>Holmes Road Annabessacook</td>\n",
       "      <td>Winthrop</td>\n",
       "      <td>Annabessacook Lake</td>\n",
       "      <td>4769</td>\n",
       "      <td>Paid</td>\n",
       "      <td>1900-01-01 12:00:00</td>\n",
       "      <td>0.0</td>\n",
       "      <td>2023-12-05 18:00:00</td>\n",
       "      <td>...</td>\n",
       "      <td>0.00</td>\n",
       "      <td>72.0</td>\n",
       "      <td>45.0</td>\n",
       "      <td>2021-05-28</td>\n",
       "      <td>5</td>\n",
       "      <td>2021</td>\n",
       "      <td>Afternoon</td>\n",
       "      <td>Evening</td>\n",
       "      <td>56</td>\n",
       "      <td>0</td>\n",
       "    </tr>\n",
       "    <tr>\n",
       "      <th>3</th>\n",
       "      <td>2021-05-28</td>\n",
       "      <td>Fri</td>\n",
       "      <td>East Winthrop Cobbosseecontee</td>\n",
       "      <td>Winthrop</td>\n",
       "      <td>Cobbosseecontee Lake</td>\n",
       "      <td>4485</td>\n",
       "      <td>Paid</td>\n",
       "      <td>1900-01-01 12:00:00</td>\n",
       "      <td>1.0</td>\n",
       "      <td>2023-12-05 18:00:00</td>\n",
       "      <td>...</td>\n",
       "      <td>0.00</td>\n",
       "      <td>72.0</td>\n",
       "      <td>45.0</td>\n",
       "      <td>2021-05-28</td>\n",
       "      <td>5</td>\n",
       "      <td>2021</td>\n",
       "      <td>Afternoon</td>\n",
       "      <td>Evening</td>\n",
       "      <td>16</td>\n",
       "      <td>0</td>\n",
       "    </tr>\n",
       "    <tr>\n",
       "      <th>4</th>\n",
       "      <td>2021-05-29</td>\n",
       "      <td>Sat</td>\n",
       "      <td>Thorofare Rd</td>\n",
       "      <td>Litchfield</td>\n",
       "      <td>Pleasant Pond</td>\n",
       "      <td>4944</td>\n",
       "      <td>Paid</td>\n",
       "      <td>1900-01-01 07:00:00</td>\n",
       "      <td>1.0</td>\n",
       "      <td>2023-12-05 17:00:00</td>\n",
       "      <td>...</td>\n",
       "      <td>0.02</td>\n",
       "      <td>62.0</td>\n",
       "      <td>45.0</td>\n",
       "      <td>2021-05-29</td>\n",
       "      <td>5</td>\n",
       "      <td>2021</td>\n",
       "      <td>Early Morning</td>\n",
       "      <td>Late Afternoon</td>\n",
       "      <td>57</td>\n",
       "      <td>1</td>\n",
       "    </tr>\n",
       "  </tbody>\n",
       "</table>\n",
       "<p>5 rows × 22 columns</p>\n",
       "</div>"
      ],
      "text/plain": [
       "        DATE1 DAY_OF_WEEK                      SITE_NAME        TOWN  \\\n",
       "0  2021-05-28         Fri   Launch Drive Cobbosseecontee    Monmouth   \n",
       "1  2021-05-28         Fri              Whippoorwill Road  Litchfield   \n",
       "2  2021-05-28         Fri      Holmes Road Annabessacook    Winthrop   \n",
       "3  2021-05-28         Fri  East Winthrop Cobbosseecontee    Winthrop   \n",
       "4  2021-05-29         Sat                   Thorofare Rd  Litchfield   \n",
       "\n",
       "              WATERBODY  INSPECTOR_ID PAY_VOL          SHIFT_START  TRAILERS  \\\n",
       "0  Cobbosseecontee Lake          4771    Paid  1900-01-01 12:00:00      10.0   \n",
       "1         Woodbury Pond          4174    Paid  1900-01-01 12:00:00       1.0   \n",
       "2    Annabessacook Lake          4769    Paid  1900-01-01 12:00:00       0.0   \n",
       "3  Cobbosseecontee Lake          4485    Paid  1900-01-01 12:00:00       1.0   \n",
       "4         Pleasant Pond          4944    Paid  1900-01-01 07:00:00       1.0   \n",
       "\n",
       "             SHIFT_END  ...  PRCP  TMAX  TMIN        DATE  month  year  \\\n",
       "0  2023-12-05 18:00:00  ...  0.00  72.0  45.0  2021-05-28      5  2021   \n",
       "1  2023-12-05 18:00:00  ...  0.00  72.0  45.0  2021-05-28      5  2021   \n",
       "2  2023-12-05 18:00:00  ...  0.00  72.0  45.0  2021-05-28      5  2021   \n",
       "3  2023-12-05 18:00:00  ...  0.00  72.0  45.0  2021-05-28      5  2021   \n",
       "4  2023-12-05 17:00:00  ...  0.02  62.0  45.0  2021-05-29      5  2021   \n",
       "\n",
       "   SHIFT_START_CATEGORY  SHIFT_END_CATEGORY ID_COUNT holiday  \n",
       "0             Afternoon             Evening       55       0  \n",
       "1             Afternoon             Evening      131       0  \n",
       "2             Afternoon             Evening       56       0  \n",
       "3             Afternoon             Evening       16       0  \n",
       "4         Early Morning      Late Afternoon       57       1  \n",
       "\n",
       "[5 rows x 22 columns]"
      ]
     },
     "execution_count": 4,
     "metadata": {},
     "output_type": "execute_result"
    }
   ],
   "source": [
    "df.head()"
   ]
  },
  {
   "cell_type": "code",
   "execution_count": 5,
   "id": "12c69cad-9a59-435e-bb56-6f104cc2af3b",
   "metadata": {
    "tags": []
   },
   "outputs": [
    {
     "data": {
      "text/plain": [
       "DATE1                    object\n",
       "DAY_OF_WEEK              object\n",
       "SITE_NAME                object\n",
       "TOWN                     object\n",
       "WATERBODY                object\n",
       "INSPECTOR_ID              int64\n",
       "PAY_VOL                  object\n",
       "SHIFT_START              object\n",
       "TRAILERS                float64\n",
       "SHIFT_END                object\n",
       "SHIFT_LENGTH              int64\n",
       "TOTALINSP               float64\n",
       "PRCP                    float64\n",
       "TMAX                    float64\n",
       "TMIN                    float64\n",
       "DATE                     object\n",
       "month                     int64\n",
       "year                      int64\n",
       "SHIFT_START_CATEGORY     object\n",
       "SHIFT_END_CATEGORY       object\n",
       "ID_COUNT                  int64\n",
       "holiday                   int64\n",
       "dtype: object"
      ]
     },
     "execution_count": 5,
     "metadata": {},
     "output_type": "execute_result"
    }
   ],
   "source": [
    "df.dtypes"
   ]
  },
  {
   "cell_type": "code",
   "execution_count": 6,
   "id": "920d0bc5-4cac-4166-b892-ef53c5af8092",
   "metadata": {
    "tags": []
   },
   "outputs": [],
   "source": [
    "df['DATE'] = pd.to_datetime(df['DATE'])\n",
    "\n",
    "# Define the start and end dates for Memorial Day weekend through Labor Day weekend\n",
    "#start_date_2021 = datetime(2021, 5, 28)  # Friday before Memorial Day \n",
    "#end_date_2021 = datetime(2021, 9, 6)  # Monday Labor Day\n",
    "\n",
    "#start_date_2022 = datetime(2022, 5, 27)  # Friday before Memorial Day \n",
    "#end_date_2022 = datetime(2022, 9, 5)  # Monday Labor Day\n",
    "\n",
    "# For now I will just make projections for 2023\n",
    "start_date_2023 = datetime(2023, 5, 26)  # Friday before Memorial Day \n",
    "end_date_2023 = datetime(2023, 9, 4)  # Monday Labor Day\n",
    "\n",
    "# Create a date range for the specified period\n",
    "date_range = pd.date_range(start=start_date_2023, end=end_date_2023)\n",
    "\n",
    "# Create a DataFrame with all combinations of dates and SITE_NAME\n",
    "new_df = pd.DataFrame([(date, site) for date in date_range for site in df['SITE_NAME'].unique()],\n",
    "                       columns=['DATE', 'SITE_NAME'])\n"
   ]
  },
  {
   "cell_type": "code",
   "execution_count": 7,
   "id": "a2c023b6-11c2-468f-8ef0-4ce8c01c0d4b",
   "metadata": {
    "tags": []
   },
   "outputs": [
    {
     "data": {
      "text/html": [
       "<div>\n",
       "<style scoped>\n",
       "    .dataframe tbody tr th:only-of-type {\n",
       "        vertical-align: middle;\n",
       "    }\n",
       "\n",
       "    .dataframe tbody tr th {\n",
       "        vertical-align: top;\n",
       "    }\n",
       "\n",
       "    .dataframe thead th {\n",
       "        text-align: right;\n",
       "    }\n",
       "</style>\n",
       "<table border=\"1\" class=\"dataframe\">\n",
       "  <thead>\n",
       "    <tr style=\"text-align: right;\">\n",
       "      <th></th>\n",
       "      <th>DATE</th>\n",
       "      <th>SITE_NAME</th>\n",
       "    </tr>\n",
       "  </thead>\n",
       "  <tbody>\n",
       "    <tr>\n",
       "      <th>0</th>\n",
       "      <td>2023-05-26</td>\n",
       "      <td>Launch Drive Cobbosseecontee</td>\n",
       "    </tr>\n",
       "    <tr>\n",
       "      <th>1</th>\n",
       "      <td>2023-05-26</td>\n",
       "      <td>Whippoorwill Road</td>\n",
       "    </tr>\n",
       "    <tr>\n",
       "      <th>2</th>\n",
       "      <td>2023-05-26</td>\n",
       "      <td>Holmes Road Annabessacook</td>\n",
       "    </tr>\n",
       "    <tr>\n",
       "      <th>3</th>\n",
       "      <td>2023-05-26</td>\n",
       "      <td>East Winthrop Cobbosseecontee</td>\n",
       "    </tr>\n",
       "    <tr>\n",
       "      <th>4</th>\n",
       "      <td>2023-05-26</td>\n",
       "      <td>Thorofare Rd</td>\n",
       "    </tr>\n",
       "  </tbody>\n",
       "</table>\n",
       "</div>"
      ],
      "text/plain": [
       "        DATE                      SITE_NAME\n",
       "0 2023-05-26   Launch Drive Cobbosseecontee\n",
       "1 2023-05-26              Whippoorwill Road\n",
       "2 2023-05-26      Holmes Road Annabessacook\n",
       "3 2023-05-26  East Winthrop Cobbosseecontee\n",
       "4 2023-05-26                   Thorofare Rd"
      ]
     },
     "execution_count": 7,
     "metadata": {},
     "output_type": "execute_result"
    }
   ],
   "source": [
    "new_df.head()"
   ]
  },
  {
   "cell_type": "code",
   "execution_count": 8,
   "id": "096ca9f3-718f-42b9-bf6d-0942b2641dc7",
   "metadata": {
    "tags": []
   },
   "outputs": [
    {
     "data": {
      "text/plain": [
       "(1020, 2)"
      ]
     },
     "execution_count": 8,
     "metadata": {},
     "output_type": "execute_result"
    }
   ],
   "source": [
    "new_df.shape"
   ]
  },
  {
   "cell_type": "code",
   "execution_count": 9,
   "id": "a1f30ad9-a743-4514-a521-f3b3db8b622f",
   "metadata": {
    "tags": []
   },
   "outputs": [
    {
     "data": {
      "text/plain": [
       "(2321, 22)"
      ]
     },
     "execution_count": 9,
     "metadata": {},
     "output_type": "execute_result"
    }
   ],
   "source": [
    "df.shape"
   ]
  },
  {
   "cell_type": "code",
   "execution_count": 10,
   "id": "91bb3dec-1ca3-4138-a3b5-b4f5e3f7fda9",
   "metadata": {
    "tags": []
   },
   "outputs": [],
   "source": [
    "# Outer Merge with the original DataFrame (or left with new_df as the left?)\n",
    "combined_df = pd.merge(new_df, df, how='outer', on=['DATE', 'SITE_NAME'])\n",
    "\n",
    "# Create a binary column indicating whether there was a match during the merge (this will be used to define which rows are part of the scenarios)\n",
    "# INSPECTOR_ID is not missing in any shift data so this is a good choice for\n",
    "combined_df['MATCH'] = pd.notna(combined_df['INSPECTOR_ID'])"
   ]
  },
  {
   "cell_type": "code",
   "execution_count": 11,
   "id": "d54d0beb-5fe0-49f3-9afa-97a921120848",
   "metadata": {
    "tags": []
   },
   "outputs": [
    {
     "data": {
      "text/plain": [
       "True     2321\n",
       "False     517\n",
       "Name: MATCH, dtype: int64"
      ]
     },
     "execution_count": 11,
     "metadata": {},
     "output_type": "execute_result"
    }
   ],
   "source": [
    "combined_df.MATCH.value_counts()"
   ]
  },
  {
   "cell_type": "code",
   "execution_count": 12,
   "id": "a7d91e42-6f6d-4dfd-9412-c8bf816614a9",
   "metadata": {
    "tags": []
   },
   "outputs": [
    {
     "data": {
      "text/html": [
       "<div>\n",
       "<style scoped>\n",
       "    .dataframe tbody tr th:only-of-type {\n",
       "        vertical-align: middle;\n",
       "    }\n",
       "\n",
       "    .dataframe tbody tr th {\n",
       "        vertical-align: top;\n",
       "    }\n",
       "\n",
       "    .dataframe thead th {\n",
       "        text-align: right;\n",
       "    }\n",
       "</style>\n",
       "<table border=\"1\" class=\"dataframe\">\n",
       "  <thead>\n",
       "    <tr style=\"text-align: right;\">\n",
       "      <th></th>\n",
       "      <th>DATE</th>\n",
       "      <th>SITE_NAME</th>\n",
       "      <th>DATE1</th>\n",
       "      <th>DAY_OF_WEEK</th>\n",
       "      <th>TOWN</th>\n",
       "      <th>WATERBODY</th>\n",
       "      <th>INSPECTOR_ID</th>\n",
       "      <th>PAY_VOL</th>\n",
       "      <th>SHIFT_START</th>\n",
       "      <th>TRAILERS</th>\n",
       "      <th>...</th>\n",
       "      <th>PRCP</th>\n",
       "      <th>TMAX</th>\n",
       "      <th>TMIN</th>\n",
       "      <th>month</th>\n",
       "      <th>year</th>\n",
       "      <th>SHIFT_START_CATEGORY</th>\n",
       "      <th>SHIFT_END_CATEGORY</th>\n",
       "      <th>ID_COUNT</th>\n",
       "      <th>holiday</th>\n",
       "      <th>MATCH</th>\n",
       "    </tr>\n",
       "  </thead>\n",
       "  <tbody>\n",
       "    <tr>\n",
       "      <th>0</th>\n",
       "      <td>2023-05-26</td>\n",
       "      <td>Launch Drive Cobbosseecontee</td>\n",
       "      <td>2023-05-26</td>\n",
       "      <td>Fri</td>\n",
       "      <td>Monmouth</td>\n",
       "      <td>Cobbosseecontee Lake</td>\n",
       "      <td>5670.0</td>\n",
       "      <td>Paid</td>\n",
       "      <td>1900-01-01 12:00:00</td>\n",
       "      <td>4.0</td>\n",
       "      <td>...</td>\n",
       "      <td>0.0</td>\n",
       "      <td>66.0</td>\n",
       "      <td>40.0</td>\n",
       "      <td>5.0</td>\n",
       "      <td>2023.0</td>\n",
       "      <td>Afternoon</td>\n",
       "      <td>Evening</td>\n",
       "      <td>116.0</td>\n",
       "      <td>0.0</td>\n",
       "      <td>True</td>\n",
       "    </tr>\n",
       "    <tr>\n",
       "      <th>1</th>\n",
       "      <td>2023-05-26</td>\n",
       "      <td>Whippoorwill Road</td>\n",
       "      <td>2023-05-26</td>\n",
       "      <td>Fri</td>\n",
       "      <td>Litchfield</td>\n",
       "      <td>Woodbury Pond</td>\n",
       "      <td>5714.0</td>\n",
       "      <td>Paid</td>\n",
       "      <td>1900-01-01 12:00:00</td>\n",
       "      <td>3.0</td>\n",
       "      <td>...</td>\n",
       "      <td>0.0</td>\n",
       "      <td>66.0</td>\n",
       "      <td>40.0</td>\n",
       "      <td>5.0</td>\n",
       "      <td>2023.0</td>\n",
       "      <td>Afternoon</td>\n",
       "      <td>Evening</td>\n",
       "      <td>23.0</td>\n",
       "      <td>0.0</td>\n",
       "      <td>True</td>\n",
       "    </tr>\n",
       "    <tr>\n",
       "      <th>2</th>\n",
       "      <td>2023-05-26</td>\n",
       "      <td>Holmes Road Annabessacook</td>\n",
       "      <td>NaN</td>\n",
       "      <td>NaN</td>\n",
       "      <td>NaN</td>\n",
       "      <td>NaN</td>\n",
       "      <td>NaN</td>\n",
       "      <td>NaN</td>\n",
       "      <td>NaN</td>\n",
       "      <td>NaN</td>\n",
       "      <td>...</td>\n",
       "      <td>NaN</td>\n",
       "      <td>NaN</td>\n",
       "      <td>NaN</td>\n",
       "      <td>NaN</td>\n",
       "      <td>NaN</td>\n",
       "      <td>NaN</td>\n",
       "      <td>NaN</td>\n",
       "      <td>NaN</td>\n",
       "      <td>NaN</td>\n",
       "      <td>False</td>\n",
       "    </tr>\n",
       "    <tr>\n",
       "      <th>3</th>\n",
       "      <td>2023-05-26</td>\n",
       "      <td>East Winthrop Cobbosseecontee</td>\n",
       "      <td>NaN</td>\n",
       "      <td>NaN</td>\n",
       "      <td>NaN</td>\n",
       "      <td>NaN</td>\n",
       "      <td>NaN</td>\n",
       "      <td>NaN</td>\n",
       "      <td>NaN</td>\n",
       "      <td>NaN</td>\n",
       "      <td>...</td>\n",
       "      <td>NaN</td>\n",
       "      <td>NaN</td>\n",
       "      <td>NaN</td>\n",
       "      <td>NaN</td>\n",
       "      <td>NaN</td>\n",
       "      <td>NaN</td>\n",
       "      <td>NaN</td>\n",
       "      <td>NaN</td>\n",
       "      <td>NaN</td>\n",
       "      <td>False</td>\n",
       "    </tr>\n",
       "    <tr>\n",
       "      <th>4</th>\n",
       "      <td>2023-05-26</td>\n",
       "      <td>Thorofare Rd</td>\n",
       "      <td>2023-05-26</td>\n",
       "      <td>Fri</td>\n",
       "      <td>Litchfield</td>\n",
       "      <td>Pleasant Pond</td>\n",
       "      <td>5983.0</td>\n",
       "      <td>Paid</td>\n",
       "      <td>1900-01-01 12:00:00</td>\n",
       "      <td>4.0</td>\n",
       "      <td>...</td>\n",
       "      <td>0.0</td>\n",
       "      <td>66.0</td>\n",
       "      <td>40.0</td>\n",
       "      <td>5.0</td>\n",
       "      <td>2023.0</td>\n",
       "      <td>Afternoon</td>\n",
       "      <td>Evening</td>\n",
       "      <td>33.0</td>\n",
       "      <td>0.0</td>\n",
       "      <td>True</td>\n",
       "    </tr>\n",
       "  </tbody>\n",
       "</table>\n",
       "<p>5 rows × 23 columns</p>\n",
       "</div>"
      ],
      "text/plain": [
       "        DATE                      SITE_NAME       DATE1 DAY_OF_WEEK  \\\n",
       "0 2023-05-26   Launch Drive Cobbosseecontee  2023-05-26         Fri   \n",
       "1 2023-05-26              Whippoorwill Road  2023-05-26         Fri   \n",
       "2 2023-05-26      Holmes Road Annabessacook         NaN         NaN   \n",
       "3 2023-05-26  East Winthrop Cobbosseecontee         NaN         NaN   \n",
       "4 2023-05-26                   Thorofare Rd  2023-05-26         Fri   \n",
       "\n",
       "         TOWN             WATERBODY  INSPECTOR_ID PAY_VOL  \\\n",
       "0    Monmouth  Cobbosseecontee Lake        5670.0    Paid   \n",
       "1  Litchfield         Woodbury Pond        5714.0    Paid   \n",
       "2         NaN                   NaN           NaN     NaN   \n",
       "3         NaN                   NaN           NaN     NaN   \n",
       "4  Litchfield         Pleasant Pond        5983.0    Paid   \n",
       "\n",
       "           SHIFT_START  TRAILERS  ... PRCP  TMAX  TMIN  month    year  \\\n",
       "0  1900-01-01 12:00:00       4.0  ...  0.0  66.0  40.0    5.0  2023.0   \n",
       "1  1900-01-01 12:00:00       3.0  ...  0.0  66.0  40.0    5.0  2023.0   \n",
       "2                  NaN       NaN  ...  NaN   NaN   NaN    NaN     NaN   \n",
       "3                  NaN       NaN  ...  NaN   NaN   NaN    NaN     NaN   \n",
       "4  1900-01-01 12:00:00       4.0  ...  0.0  66.0  40.0    5.0  2023.0   \n",
       "\n",
       "   SHIFT_START_CATEGORY  SHIFT_END_CATEGORY  ID_COUNT holiday  MATCH  \n",
       "0             Afternoon             Evening     116.0     0.0   True  \n",
       "1             Afternoon             Evening      23.0     0.0   True  \n",
       "2                   NaN                 NaN       NaN     NaN  False  \n",
       "3                   NaN                 NaN       NaN     NaN  False  \n",
       "4             Afternoon             Evening      33.0     0.0   True  \n",
       "\n",
       "[5 rows x 23 columns]"
      ]
     },
     "execution_count": 12,
     "metadata": {},
     "output_type": "execute_result"
    }
   ],
   "source": [
    "combined_df.head()"
   ]
  },
  {
   "cell_type": "code",
   "execution_count": 47,
   "id": "767e9ac6-f752-414d-ad7b-8c43a6452fed",
   "metadata": {
    "tags": []
   },
   "outputs": [],
   "source": [
    "launch_drive = combined_df[combined_df['SITE_NAME']=='Launch Drive Cobbosseecontee']"
   ]
  },
  {
   "cell_type": "code",
   "execution_count": 48,
   "id": "fe59d045-f50c-4da0-8a1e-45f4e4872aed",
   "metadata": {
    "tags": []
   },
   "outputs": [
    {
     "data": {
      "text/plain": [
       "(569, 23)"
      ]
     },
     "execution_count": 48,
     "metadata": {},
     "output_type": "execute_result"
    }
   ],
   "source": [
    "launch_drive.shape"
   ]
  },
  {
   "cell_type": "code",
   "execution_count": 49,
   "id": "761e7cb1-cfd1-4b34-b938-b58afc2ab4f5",
   "metadata": {
    "tags": []
   },
   "outputs": [
    {
     "data": {
      "text/plain": [
       "DATE                     0\n",
       "SITE_NAME                0\n",
       "DATE1                    0\n",
       "DAY_OF_WEEK              0\n",
       "TOWN                     0\n",
       "WATERBODY                0\n",
       "INSPECTOR_ID             0\n",
       "PAY_VOL                  0\n",
       "SHIFT_START              0\n",
       "TRAILERS                80\n",
       "SHIFT_END                0\n",
       "SHIFT_LENGTH             0\n",
       "TOTALINSP                0\n",
       "PRCP                     0\n",
       "TMAX                     0\n",
       "TMIN                     0\n",
       "month                    0\n",
       "year                     0\n",
       "SHIFT_START_CATEGORY     0\n",
       "SHIFT_END_CATEGORY       0\n",
       "ID_COUNT                 0\n",
       "holiday                  0\n",
       "MATCH                    0\n",
       "dtype: int64"
      ]
     },
     "execution_count": 49,
     "metadata": {},
     "output_type": "execute_result"
    }
   ],
   "source": [
    "launch_drive.isna().sum()"
   ]
  },
  {
   "cell_type": "code",
   "execution_count": 13,
   "id": "960ec95f-bc0f-4bed-a567-eba4978e2e51",
   "metadata": {
    "tags": []
   },
   "outputs": [],
   "source": [
    "scenario1 = combined_df[combined_df['MATCH'] == False].copy()"
   ]
  },
  {
   "cell_type": "code",
   "execution_count": 14,
   "id": "377dd65a-639a-42cd-a853-df8f535afc75",
   "metadata": {
    "tags": []
   },
   "outputs": [
    {
     "data": {
      "text/plain": [
       "(517, 23)"
      ]
     },
     "execution_count": 14,
     "metadata": {},
     "output_type": "execute_result"
    }
   ],
   "source": [
    "scenario1.shape"
   ]
  },
  {
   "cell_type": "code",
   "execution_count": 15,
   "id": "de2e5e4a-40cb-4dc0-9c56-a652e6979489",
   "metadata": {
    "tags": []
   },
   "outputs": [],
   "source": [
    "scenario1.drop(columns= ['INSPECTOR_ID', 'TRAILERS', 'TOTALINSP', 'DATE1', 'TOWN', 'WATERBODY', 'MATCH'], inplace = True)"
   ]
  },
  {
   "cell_type": "code",
   "execution_count": 16,
   "id": "0b1c4f25-db45-4ac6-b59f-70c53dc08207",
   "metadata": {
    "tags": []
   },
   "outputs": [],
   "source": [
    "scenario1['DATE'] = pd.to_datetime(scenario1['DATE'])"
   ]
  },
  {
   "cell_type": "code",
   "execution_count": 17,
   "id": "bb7f4627-5866-44d2-9e76-9d5bf17f4ec2",
   "metadata": {
    "tags": []
   },
   "outputs": [
    {
     "data": {
      "text/html": [
       "<div>\n",
       "<style scoped>\n",
       "    .dataframe tbody tr th:only-of-type {\n",
       "        vertical-align: middle;\n",
       "    }\n",
       "\n",
       "    .dataframe tbody tr th {\n",
       "        vertical-align: top;\n",
       "    }\n",
       "\n",
       "    .dataframe thead th {\n",
       "        text-align: right;\n",
       "    }\n",
       "</style>\n",
       "<table border=\"1\" class=\"dataframe\">\n",
       "  <thead>\n",
       "    <tr style=\"text-align: right;\">\n",
       "      <th></th>\n",
       "      <th>DATE</th>\n",
       "      <th>SITE_NAME</th>\n",
       "      <th>DAY_OF_WEEK</th>\n",
       "      <th>PAY_VOL</th>\n",
       "      <th>SHIFT_START</th>\n",
       "      <th>SHIFT_END</th>\n",
       "      <th>SHIFT_LENGTH</th>\n",
       "      <th>PRCP</th>\n",
       "      <th>TMAX</th>\n",
       "      <th>TMIN</th>\n",
       "      <th>month</th>\n",
       "      <th>year</th>\n",
       "      <th>SHIFT_START_CATEGORY</th>\n",
       "      <th>SHIFT_END_CATEGORY</th>\n",
       "      <th>ID_COUNT</th>\n",
       "      <th>holiday</th>\n",
       "    </tr>\n",
       "  </thead>\n",
       "  <tbody>\n",
       "    <tr>\n",
       "      <th>2</th>\n",
       "      <td>2023-05-26</td>\n",
       "      <td>Holmes Road Annabessacook</td>\n",
       "      <td>NaN</td>\n",
       "      <td>NaN</td>\n",
       "      <td>NaN</td>\n",
       "      <td>NaN</td>\n",
       "      <td>NaN</td>\n",
       "      <td>NaN</td>\n",
       "      <td>NaN</td>\n",
       "      <td>NaN</td>\n",
       "      <td>NaN</td>\n",
       "      <td>NaN</td>\n",
       "      <td>NaN</td>\n",
       "      <td>NaN</td>\n",
       "      <td>NaN</td>\n",
       "      <td>0</td>\n",
       "    </tr>\n",
       "    <tr>\n",
       "      <th>3</th>\n",
       "      <td>2023-05-26</td>\n",
       "      <td>East Winthrop Cobbosseecontee</td>\n",
       "      <td>NaN</td>\n",
       "      <td>NaN</td>\n",
       "      <td>NaN</td>\n",
       "      <td>NaN</td>\n",
       "      <td>NaN</td>\n",
       "      <td>NaN</td>\n",
       "      <td>NaN</td>\n",
       "      <td>NaN</td>\n",
       "      <td>NaN</td>\n",
       "      <td>NaN</td>\n",
       "      <td>NaN</td>\n",
       "      <td>NaN</td>\n",
       "      <td>NaN</td>\n",
       "      <td>0</td>\n",
       "    </tr>\n",
       "    <tr>\n",
       "      <th>5</th>\n",
       "      <td>2023-05-26</td>\n",
       "      <td>Old Kents Hill Road</td>\n",
       "      <td>NaN</td>\n",
       "      <td>NaN</td>\n",
       "      <td>NaN</td>\n",
       "      <td>NaN</td>\n",
       "      <td>NaN</td>\n",
       "      <td>NaN</td>\n",
       "      <td>NaN</td>\n",
       "      <td>NaN</td>\n",
       "      <td>NaN</td>\n",
       "      <td>NaN</td>\n",
       "      <td>NaN</td>\n",
       "      <td>NaN</td>\n",
       "      <td>NaN</td>\n",
       "      <td>0</td>\n",
       "    </tr>\n",
       "    <tr>\n",
       "      <th>6</th>\n",
       "      <td>2023-05-26</td>\n",
       "      <td>Rt 41 North Basin Maranacook</td>\n",
       "      <td>NaN</td>\n",
       "      <td>NaN</td>\n",
       "      <td>NaN</td>\n",
       "      <td>NaN</td>\n",
       "      <td>NaN</td>\n",
       "      <td>NaN</td>\n",
       "      <td>NaN</td>\n",
       "      <td>NaN</td>\n",
       "      <td>NaN</td>\n",
       "      <td>NaN</td>\n",
       "      <td>NaN</td>\n",
       "      <td>NaN</td>\n",
       "      <td>NaN</td>\n",
       "      <td>0</td>\n",
       "    </tr>\n",
       "    <tr>\n",
       "      <th>7</th>\n",
       "      <td>2023-05-26</td>\n",
       "      <td>Wilson Pond Road</td>\n",
       "      <td>NaN</td>\n",
       "      <td>NaN</td>\n",
       "      <td>NaN</td>\n",
       "      <td>NaN</td>\n",
       "      <td>NaN</td>\n",
       "      <td>NaN</td>\n",
       "      <td>NaN</td>\n",
       "      <td>NaN</td>\n",
       "      <td>NaN</td>\n",
       "      <td>NaN</td>\n",
       "      <td>NaN</td>\n",
       "      <td>NaN</td>\n",
       "      <td>NaN</td>\n",
       "      <td>0</td>\n",
       "    </tr>\n",
       "    <tr>\n",
       "      <th>...</th>\n",
       "      <td>...</td>\n",
       "      <td>...</td>\n",
       "      <td>...</td>\n",
       "      <td>...</td>\n",
       "      <td>...</td>\n",
       "      <td>...</td>\n",
       "      <td>...</td>\n",
       "      <td>...</td>\n",
       "      <td>...</td>\n",
       "      <td>...</td>\n",
       "      <td>...</td>\n",
       "      <td>...</td>\n",
       "      <td>...</td>\n",
       "      <td>...</td>\n",
       "      <td>...</td>\n",
       "      <td>...</td>\n",
       "    </tr>\n",
       "    <tr>\n",
       "      <th>1232</th>\n",
       "      <td>2023-09-01</td>\n",
       "      <td>Beach Road</td>\n",
       "      <td>NaN</td>\n",
       "      <td>NaN</td>\n",
       "      <td>NaN</td>\n",
       "      <td>NaN</td>\n",
       "      <td>NaN</td>\n",
       "      <td>NaN</td>\n",
       "      <td>NaN</td>\n",
       "      <td>NaN</td>\n",
       "      <td>NaN</td>\n",
       "      <td>NaN</td>\n",
       "      <td>NaN</td>\n",
       "      <td>NaN</td>\n",
       "      <td>NaN</td>\n",
       "      <td>0</td>\n",
       "    </tr>\n",
       "    <tr>\n",
       "      <th>1233</th>\n",
       "      <td>2023-09-01</td>\n",
       "      <td>Norcross Point South Basin Maranacook</td>\n",
       "      <td>NaN</td>\n",
       "      <td>NaN</td>\n",
       "      <td>NaN</td>\n",
       "      <td>NaN</td>\n",
       "      <td>NaN</td>\n",
       "      <td>NaN</td>\n",
       "      <td>NaN</td>\n",
       "      <td>NaN</td>\n",
       "      <td>NaN</td>\n",
       "      <td>NaN</td>\n",
       "      <td>NaN</td>\n",
       "      <td>NaN</td>\n",
       "      <td>NaN</td>\n",
       "      <td>0</td>\n",
       "    </tr>\n",
       "    <tr>\n",
       "      <th>1240</th>\n",
       "      <td>2023-09-02</td>\n",
       "      <td>Thorofare Rd</td>\n",
       "      <td>NaN</td>\n",
       "      <td>NaN</td>\n",
       "      <td>NaN</td>\n",
       "      <td>NaN</td>\n",
       "      <td>NaN</td>\n",
       "      <td>NaN</td>\n",
       "      <td>NaN</td>\n",
       "      <td>NaN</td>\n",
       "      <td>NaN</td>\n",
       "      <td>NaN</td>\n",
       "      <td>NaN</td>\n",
       "      <td>NaN</td>\n",
       "      <td>NaN</td>\n",
       "      <td>1</td>\n",
       "    </tr>\n",
       "    <tr>\n",
       "      <th>1254</th>\n",
       "      <td>2023-09-03</td>\n",
       "      <td>Rt 41 North Basin Maranacook</td>\n",
       "      <td>NaN</td>\n",
       "      <td>NaN</td>\n",
       "      <td>NaN</td>\n",
       "      <td>NaN</td>\n",
       "      <td>NaN</td>\n",
       "      <td>NaN</td>\n",
       "      <td>NaN</td>\n",
       "      <td>NaN</td>\n",
       "      <td>NaN</td>\n",
       "      <td>NaN</td>\n",
       "      <td>NaN</td>\n",
       "      <td>NaN</td>\n",
       "      <td>NaN</td>\n",
       "      <td>1</td>\n",
       "    </tr>\n",
       "    <tr>\n",
       "      <th>1266</th>\n",
       "      <td>2023-09-04</td>\n",
       "      <td>Rt 41 North Basin Maranacook</td>\n",
       "      <td>NaN</td>\n",
       "      <td>NaN</td>\n",
       "      <td>NaN</td>\n",
       "      <td>NaN</td>\n",
       "      <td>NaN</td>\n",
       "      <td>NaN</td>\n",
       "      <td>NaN</td>\n",
       "      <td>NaN</td>\n",
       "      <td>NaN</td>\n",
       "      <td>NaN</td>\n",
       "      <td>NaN</td>\n",
       "      <td>NaN</td>\n",
       "      <td>NaN</td>\n",
       "      <td>1</td>\n",
       "    </tr>\n",
       "  </tbody>\n",
       "</table>\n",
       "<p>517 rows × 16 columns</p>\n",
       "</div>"
      ],
      "text/plain": [
       "           DATE                              SITE_NAME DAY_OF_WEEK PAY_VOL  \\\n",
       "2    2023-05-26              Holmes Road Annabessacook         NaN     NaN   \n",
       "3    2023-05-26          East Winthrop Cobbosseecontee         NaN     NaN   \n",
       "5    2023-05-26                    Old Kents Hill Road         NaN     NaN   \n",
       "6    2023-05-26           Rt 41 North Basin Maranacook         NaN     NaN   \n",
       "7    2023-05-26                       Wilson Pond Road         NaN     NaN   \n",
       "...         ...                                    ...         ...     ...   \n",
       "1232 2023-09-01                             Beach Road         NaN     NaN   \n",
       "1233 2023-09-01  Norcross Point South Basin Maranacook         NaN     NaN   \n",
       "1240 2023-09-02                           Thorofare Rd         NaN     NaN   \n",
       "1254 2023-09-03           Rt 41 North Basin Maranacook         NaN     NaN   \n",
       "1266 2023-09-04           Rt 41 North Basin Maranacook         NaN     NaN   \n",
       "\n",
       "     SHIFT_START SHIFT_END  SHIFT_LENGTH  PRCP  TMAX  TMIN  month  year  \\\n",
       "2            NaN       NaN           NaN   NaN   NaN   NaN    NaN   NaN   \n",
       "3            NaN       NaN           NaN   NaN   NaN   NaN    NaN   NaN   \n",
       "5            NaN       NaN           NaN   NaN   NaN   NaN    NaN   NaN   \n",
       "6            NaN       NaN           NaN   NaN   NaN   NaN    NaN   NaN   \n",
       "7            NaN       NaN           NaN   NaN   NaN   NaN    NaN   NaN   \n",
       "...          ...       ...           ...   ...   ...   ...    ...   ...   \n",
       "1232         NaN       NaN           NaN   NaN   NaN   NaN    NaN   NaN   \n",
       "1233         NaN       NaN           NaN   NaN   NaN   NaN    NaN   NaN   \n",
       "1240         NaN       NaN           NaN   NaN   NaN   NaN    NaN   NaN   \n",
       "1254         NaN       NaN           NaN   NaN   NaN   NaN    NaN   NaN   \n",
       "1266         NaN       NaN           NaN   NaN   NaN   NaN    NaN   NaN   \n",
       "\n",
       "     SHIFT_START_CATEGORY SHIFT_END_CATEGORY  ID_COUNT  holiday  \n",
       "2                     NaN                NaN       NaN        0  \n",
       "3                     NaN                NaN       NaN        0  \n",
       "5                     NaN                NaN       NaN        0  \n",
       "6                     NaN                NaN       NaN        0  \n",
       "7                     NaN                NaN       NaN        0  \n",
       "...                   ...                ...       ...      ...  \n",
       "1232                  NaN                NaN       NaN        0  \n",
       "1233                  NaN                NaN       NaN        0  \n",
       "1240                  NaN                NaN       NaN        1  \n",
       "1254                  NaN                NaN       NaN        1  \n",
       "1266                  NaN                NaN       NaN        1  \n",
       "\n",
       "[517 rows x 16 columns]"
      ]
     },
     "execution_count": 17,
     "metadata": {},
     "output_type": "execute_result"
    }
   ],
   "source": [
    "# Filling holiday values\n",
    "holiday_list_weekends = ['2021-05-31', '2021-05-29', '2021-05-30', '2021-07-04', '2021-07-03', '2021-07-05', '2021-09-06', '2021-09-04', '2021-09-05', '2021-06-19', '2021-06-20',\n",
    "                '2022-05-28', '2022-05-29', '2022-05-30', '2022-07-02', '2022-07-03', '2022-07-04', '2022-06-19', '2022-09-03', '2022-09-04', '2022-06-18',\n",
    "                '2023-05-29', '2023-05-27', '2023-05-28', '2023-07-01', '2023-07-02', '2023-07-04', '2023-09-02', '2023-09-03', '2023-09-04', '2023-06-18', '2023-06-17']\n",
    "scenario1['holiday']= np.where(scenario1['DATE'].isin(holiday_list_weekends), 1, 0)\n",
    "scenario1"
   ]
  },
  {
   "cell_type": "code",
   "execution_count": 18,
   "id": "4afad336-d8d8-413c-895e-dda1e18a28fc",
   "metadata": {
    "tags": []
   },
   "outputs": [],
   "source": [
    "# Fill in ID_COUNT with median of ID_COUNT from original df\n",
    "#scenario1['ID_COUNT'] = np.median(df['ID_COUNT'])\n",
    "\n",
    "# Fill in month and year from the date category\n",
    "scenario1['month'] = scenario1['DATE'].dt.month\n",
    "scenario1['year'] = scenario1['DATE'].dt.year\n",
    "scenario1['DAY_OF_WEEK'] = scenario1['DATE'].dt.day_name()\n",
    "\n",
    "# Re-merge with weather data? "
   ]
  },
  {
   "cell_type": "code",
   "execution_count": 19,
   "id": "11d2450f-a110-48cf-9470-1e8e4fc870f8",
   "metadata": {
    "tags": []
   },
   "outputs": [
    {
     "data": {
      "text/plain": [
       "DATE1                           object\n",
       "DAY_OF_WEEK                     object\n",
       "SITE_NAME                       object\n",
       "TOWN                            object\n",
       "WATERBODY                       object\n",
       "INSPECTOR_ID                     int64\n",
       "PAY_VOL                         object\n",
       "SHIFT_START                     object\n",
       "TRAILERS                       float64\n",
       "SHIFT_END                       object\n",
       "SHIFT_LENGTH                     int64\n",
       "TOTALINSP                      float64\n",
       "PRCP                           float64\n",
       "TMAX                           float64\n",
       "TMIN                           float64\n",
       "DATE                    datetime64[ns]\n",
       "month                            int64\n",
       "year                             int64\n",
       "SHIFT_START_CATEGORY            object\n",
       "SHIFT_END_CATEGORY              object\n",
       "ID_COUNT                         int64\n",
       "holiday                          int64\n",
       "dtype: object"
      ]
     },
     "execution_count": 19,
     "metadata": {},
     "output_type": "execute_result"
    }
   ],
   "source": [
    "df.dtypes"
   ]
  },
  {
   "cell_type": "code",
   "execution_count": 20,
   "id": "0b43e107-b072-4361-96f7-9c1566992867",
   "metadata": {
    "tags": []
   },
   "outputs": [
    {
     "data": {
      "text/plain": [
       "DATE1                     0\n",
       "DAY_OF_WEEK               0\n",
       "SITE_NAME                 0\n",
       "TOWN                      0\n",
       "WATERBODY                 0\n",
       "INSPECTOR_ID              0\n",
       "PAY_VOL                   0\n",
       "SHIFT_START               0\n",
       "TRAILERS                204\n",
       "SHIFT_END                 0\n",
       "SHIFT_LENGTH              0\n",
       "TOTALINSP                 2\n",
       "PRCP                      0\n",
       "TMAX                      0\n",
       "TMIN                      0\n",
       "DATE                      0\n",
       "month                     0\n",
       "year                      0\n",
       "SHIFT_START_CATEGORY      0\n",
       "SHIFT_END_CATEGORY        0\n",
       "ID_COUNT                  0\n",
       "holiday                   0\n",
       "dtype: int64"
      ]
     },
     "execution_count": 20,
     "metadata": {},
     "output_type": "execute_result"
    }
   ],
   "source": [
    "df.isna().sum()"
   ]
  },
  {
   "cell_type": "code",
   "execution_count": null,
   "id": "aeb126b4-dd7e-42c5-b95b-0f38949c444c",
   "metadata": {},
   "outputs": [],
   "source": []
  },
  {
   "cell_type": "code",
   "execution_count": 21,
   "id": "1ff2fd36-bb76-46a8-b97d-7bef9aea3373",
   "metadata": {
    "tags": []
   },
   "outputs": [],
   "source": [
    "# Fill in values of PAY_VOL, ID_COUNT, SHIFT_START_CATEGORY, SHIFT_END_CATEGORY using the proportions of values from the original df\n",
    "\n",
    "columns_to_fill = ['PAY_VOL', 'ID_COUNT', 'SHIFT_START', 'SHIFT_END']\n",
    "\n",
    "# Calculate proportions in the original df\n",
    "proportions = df[columns_to_fill].count() / len(df)\n",
    "\n",
    "# Create a function to fill the missing values from selected columns based on proportions\n",
    "def fill_missing(row, proportions, columns_to_fill):\n",
    "    for col in columns_to_fill:\n",
    "        if pd.isna(row[col]):\n",
    "            # Fill missing value based on the type of column\n",
    "            if pd.api.types.is_numeric_dtype(df[col].dtype):\n",
    "                # If the column is numeric, fill with the median value\n",
    "                row[col] = df[col].median()\n",
    "            else:\n",
    "                # If the column is not numeric, fill randomly based on proportions\n",
    "                choices = df[col].dropna()\n",
    "                if not choices.empty:\n",
    "                    if pd.api.types.is_numeric_dtype(choices.dtype):\n",
    "                        row[col] = np.random.choice(choices, p=proportions[col])\n",
    "                    else:\n",
    "                        # Extract only the time part if the column represents datetime values\n",
    "                        if pd.api.types.is_datetime64_any_dtype(choices.dtype):\n",
    "                            row[col] = np.random.choice(choices.dt.time)\n",
    "                        else:\n",
    "                            row[col] = np.random.choice(choices)\n",
    "    return row\n",
    "\n",
    "# Apply the filling function to each row in the target DataFrame\n",
    "scenario1 = scenario1.apply(lambda row: fill_missing(row, proportions, columns_to_fill), axis=1)"
   ]
  },
  {
   "cell_type": "code",
   "execution_count": 22,
   "id": "37062a63-0489-4adb-8cdf-e7e01cf1d9f8",
   "metadata": {
    "tags": []
   },
   "outputs": [
    {
     "data": {
      "text/html": [
       "<div>\n",
       "<style scoped>\n",
       "    .dataframe tbody tr th:only-of-type {\n",
       "        vertical-align: middle;\n",
       "    }\n",
       "\n",
       "    .dataframe tbody tr th {\n",
       "        vertical-align: top;\n",
       "    }\n",
       "\n",
       "    .dataframe thead th {\n",
       "        text-align: right;\n",
       "    }\n",
       "</style>\n",
       "<table border=\"1\" class=\"dataframe\">\n",
       "  <thead>\n",
       "    <tr style=\"text-align: right;\">\n",
       "      <th></th>\n",
       "      <th>DATE</th>\n",
       "      <th>SITE_NAME</th>\n",
       "      <th>DAY_OF_WEEK</th>\n",
       "      <th>PAY_VOL</th>\n",
       "      <th>SHIFT_START</th>\n",
       "      <th>SHIFT_END</th>\n",
       "      <th>SHIFT_LENGTH</th>\n",
       "      <th>PRCP</th>\n",
       "      <th>TMAX</th>\n",
       "      <th>TMIN</th>\n",
       "      <th>month</th>\n",
       "      <th>year</th>\n",
       "      <th>SHIFT_START_CATEGORY</th>\n",
       "      <th>SHIFT_END_CATEGORY</th>\n",
       "      <th>ID_COUNT</th>\n",
       "      <th>holiday</th>\n",
       "    </tr>\n",
       "  </thead>\n",
       "  <tbody>\n",
       "    <tr>\n",
       "      <th>2</th>\n",
       "      <td>2023-05-26</td>\n",
       "      <td>Holmes Road Annabessacook</td>\n",
       "      <td>Friday</td>\n",
       "      <td>Paid</td>\n",
       "      <td>1900-01-01 07:00:00</td>\n",
       "      <td>2023-12-05 19:00:00</td>\n",
       "      <td>NaN</td>\n",
       "      <td>NaN</td>\n",
       "      <td>NaN</td>\n",
       "      <td>NaN</td>\n",
       "      <td>5</td>\n",
       "      <td>2023</td>\n",
       "      <td>NaN</td>\n",
       "      <td>NaN</td>\n",
       "      <td>55.0</td>\n",
       "      <td>0</td>\n",
       "    </tr>\n",
       "    <tr>\n",
       "      <th>3</th>\n",
       "      <td>2023-05-26</td>\n",
       "      <td>East Winthrop Cobbosseecontee</td>\n",
       "      <td>Friday</td>\n",
       "      <td>Paid</td>\n",
       "      <td>1900-01-01 13:00:00</td>\n",
       "      <td>2023-12-05 19:00:00</td>\n",
       "      <td>NaN</td>\n",
       "      <td>NaN</td>\n",
       "      <td>NaN</td>\n",
       "      <td>NaN</td>\n",
       "      <td>5</td>\n",
       "      <td>2023</td>\n",
       "      <td>NaN</td>\n",
       "      <td>NaN</td>\n",
       "      <td>55.0</td>\n",
       "      <td>0</td>\n",
       "    </tr>\n",
       "    <tr>\n",
       "      <th>5</th>\n",
       "      <td>2023-05-26</td>\n",
       "      <td>Old Kents Hill Road</td>\n",
       "      <td>Friday</td>\n",
       "      <td>Paid</td>\n",
       "      <td>1900-01-01 07:00:00</td>\n",
       "      <td>2023-12-05 13:00:00</td>\n",
       "      <td>NaN</td>\n",
       "      <td>NaN</td>\n",
       "      <td>NaN</td>\n",
       "      <td>NaN</td>\n",
       "      <td>5</td>\n",
       "      <td>2023</td>\n",
       "      <td>NaN</td>\n",
       "      <td>NaN</td>\n",
       "      <td>55.0</td>\n",
       "      <td>0</td>\n",
       "    </tr>\n",
       "    <tr>\n",
       "      <th>6</th>\n",
       "      <td>2023-05-26</td>\n",
       "      <td>Rt 41 North Basin Maranacook</td>\n",
       "      <td>Friday</td>\n",
       "      <td>Paid</td>\n",
       "      <td>1900-01-01 09:00:00</td>\n",
       "      <td>2023-12-05 13:00:00</td>\n",
       "      <td>NaN</td>\n",
       "      <td>NaN</td>\n",
       "      <td>NaN</td>\n",
       "      <td>NaN</td>\n",
       "      <td>5</td>\n",
       "      <td>2023</td>\n",
       "      <td>NaN</td>\n",
       "      <td>NaN</td>\n",
       "      <td>55.0</td>\n",
       "      <td>0</td>\n",
       "    </tr>\n",
       "    <tr>\n",
       "      <th>7</th>\n",
       "      <td>2023-05-26</td>\n",
       "      <td>Wilson Pond Road</td>\n",
       "      <td>Friday</td>\n",
       "      <td>Paid</td>\n",
       "      <td>1900-01-01 13:00:00</td>\n",
       "      <td>2023-12-05 13:00:00</td>\n",
       "      <td>NaN</td>\n",
       "      <td>NaN</td>\n",
       "      <td>NaN</td>\n",
       "      <td>NaN</td>\n",
       "      <td>5</td>\n",
       "      <td>2023</td>\n",
       "      <td>NaN</td>\n",
       "      <td>NaN</td>\n",
       "      <td>55.0</td>\n",
       "      <td>0</td>\n",
       "    </tr>\n",
       "  </tbody>\n",
       "</table>\n",
       "</div>"
      ],
      "text/plain": [
       "        DATE                      SITE_NAME DAY_OF_WEEK PAY_VOL  \\\n",
       "2 2023-05-26      Holmes Road Annabessacook      Friday    Paid   \n",
       "3 2023-05-26  East Winthrop Cobbosseecontee      Friday    Paid   \n",
       "5 2023-05-26            Old Kents Hill Road      Friday    Paid   \n",
       "6 2023-05-26   Rt 41 North Basin Maranacook      Friday    Paid   \n",
       "7 2023-05-26               Wilson Pond Road      Friday    Paid   \n",
       "\n",
       "           SHIFT_START            SHIFT_END  SHIFT_LENGTH  PRCP  TMAX  TMIN  \\\n",
       "2  1900-01-01 07:00:00  2023-12-05 19:00:00           NaN   NaN   NaN   NaN   \n",
       "3  1900-01-01 13:00:00  2023-12-05 19:00:00           NaN   NaN   NaN   NaN   \n",
       "5  1900-01-01 07:00:00  2023-12-05 13:00:00           NaN   NaN   NaN   NaN   \n",
       "6  1900-01-01 09:00:00  2023-12-05 13:00:00           NaN   NaN   NaN   NaN   \n",
       "7  1900-01-01 13:00:00  2023-12-05 13:00:00           NaN   NaN   NaN   NaN   \n",
       "\n",
       "   month  year  SHIFT_START_CATEGORY  SHIFT_END_CATEGORY  ID_COUNT  holiday  \n",
       "2      5  2023                   NaN                 NaN      55.0        0  \n",
       "3      5  2023                   NaN                 NaN      55.0        0  \n",
       "5      5  2023                   NaN                 NaN      55.0        0  \n",
       "6      5  2023                   NaN                 NaN      55.0        0  \n",
       "7      5  2023                   NaN                 NaN      55.0        0  "
      ]
     },
     "execution_count": 22,
     "metadata": {},
     "output_type": "execute_result"
    }
   ],
   "source": [
    "scenario1.head()"
   ]
  },
  {
   "cell_type": "code",
   "execution_count": 23,
   "id": "c97df3f8-b3b6-416d-bf7c-f6c509ae3dbc",
   "metadata": {
    "tags": []
   },
   "outputs": [
    {
     "data": {
      "text/plain": [
       "DATE                    datetime64[ns]\n",
       "SITE_NAME                       object\n",
       "DAY_OF_WEEK                     object\n",
       "PAY_VOL                         object\n",
       "SHIFT_START                     object\n",
       "SHIFT_END                       object\n",
       "SHIFT_LENGTH                   float64\n",
       "PRCP                           float64\n",
       "TMAX                           float64\n",
       "TMIN                           float64\n",
       "month                            int64\n",
       "year                             int64\n",
       "SHIFT_START_CATEGORY           float64\n",
       "SHIFT_END_CATEGORY             float64\n",
       "ID_COUNT                       float64\n",
       "holiday                          int64\n",
       "dtype: object"
      ]
     },
     "execution_count": 23,
     "metadata": {},
     "output_type": "execute_result"
    }
   ],
   "source": [
    "scenario1.dtypes"
   ]
  },
  {
   "cell_type": "code",
   "execution_count": 24,
   "id": "86ac973c-be06-46aa-a16c-87945c707f83",
   "metadata": {
    "tags": []
   },
   "outputs": [],
   "source": [
    "# Use Shift_start and Shift_end to create shift_start_category, shift_end category and shift_length\n",
    "scenario1['SHIFT_START'] = pd.to_datetime(scenario1['SHIFT_START']).dt.time\n",
    "scenario1['SHIFT_END'] = pd.to_datetime(scenario1['SHIFT_END']).dt.time\n",
    "\n",
    "scenario1['SHIFT_START_CATEGORY'] = pd.cut(pd.to_datetime(scenario1['SHIFT_START'].astype(str), format='%H:%M:%S').dt.hour,\n",
    "                                    bins=[-1, 8, 11, 14, 17, 24],\n",
    "                                    labels=['Early Morning', 'Morning', 'Afternoon', 'Late Afternoon', 'Evening'])\n",
    "\n",
    "scenario1['SHIFT_END_CATEGORY'] = pd.cut(pd.to_datetime(scenario1['SHIFT_END'].astype(str), format='%H:%M:%S').dt.hour,\n",
    "                                    bins=[-1, 8, 11, 14, 17, 19, 24],\n",
    "                                    labels=['Early Morning', 'Morning', 'Afternoon', 'Late Afternoon', 'Evening', 'Night'])\n",
    "\n",
    "scenario1['SHIFT_LENGTH'] = (pd.to_datetime(scenario1['SHIFT_END'].astype(str), format='%H:%M:%S') - pd.to_datetime(scenario1['SHIFT_START'].astype(str), format='%H:%M:%S')).dt.total_seconds() / 60\n"
   ]
  },
  {
   "cell_type": "code",
   "execution_count": 25,
   "id": "52943169-e733-42d2-bbea-c0c728a2ba40",
   "metadata": {
    "tags": []
   },
   "outputs": [],
   "source": [
    "# I can create a function to complete the above column transformations to repeat this process for other scenarios\n",
    "\n",
    "def create_shift_features(df, start_col='SHIFT_START', end_col='SHIFT_END'):\n",
    "    # Convert to datetime and extract time\n",
    "    df[start_col] = pd.to_datetime(df[start_col]).dt.time\n",
    "    df[end_col] = pd.to_datetime(df[end_col]).dt.time\n",
    "\n",
    "    # Create shift_start_category\n",
    "    df['SHIFT_START_CATEGORY'] = pd.cut(pd.to_datetime(df[start_col].astype(str), format='%H:%M:%S').dt.hour,\n",
    "                                        bins=[-1, 8, 11, 14, 17, 24],\n",
    "                                        labels=['Early Morning', 'Morning', 'Afternoon', 'Late Afternoon', 'Evening'])\n",
    "\n",
    "    # Create shift_end_category\n",
    "    df['SHIFT_END_CATEGORY'] = pd.cut(pd.to_datetime(df[end_col].astype(str), format='%H:%M:%S').dt.hour,\n",
    "                                      bins=[-1, 8, 11, 14, 17, 19, 24],\n",
    "                                      labels=['Early Morning', 'Morning', 'Afternoon', 'Late Afternoon', 'Evening', 'Night'])\n",
    "\n",
    "    # Create shift_length\n",
    "    df['SHIFT_LENGTH'] = (pd.to_datetime(df[end_col].astype(str), format='%H:%M:%S') - \n",
    "                          pd.to_datetime(df[start_col].astype(str), format='%H:%M:%S')).dt.total_seconds() / 60\n",
    "\n",
    "    return df\n"
   ]
  },
  {
   "cell_type": "code",
   "execution_count": 26,
   "id": "0b91fef9-67a5-40e0-808b-c6fdf0340e02",
   "metadata": {
    "tags": []
   },
   "outputs": [
    {
     "data": {
      "text/html": [
       "<div>\n",
       "<style scoped>\n",
       "    .dataframe tbody tr th:only-of-type {\n",
       "        vertical-align: middle;\n",
       "    }\n",
       "\n",
       "    .dataframe tbody tr th {\n",
       "        vertical-align: top;\n",
       "    }\n",
       "\n",
       "    .dataframe thead th {\n",
       "        text-align: right;\n",
       "    }\n",
       "</style>\n",
       "<table border=\"1\" class=\"dataframe\">\n",
       "  <thead>\n",
       "    <tr style=\"text-align: right;\">\n",
       "      <th></th>\n",
       "      <th>DATE</th>\n",
       "      <th>SITE_NAME</th>\n",
       "      <th>DAY_OF_WEEK</th>\n",
       "      <th>PAY_VOL</th>\n",
       "      <th>SHIFT_START</th>\n",
       "      <th>SHIFT_END</th>\n",
       "      <th>SHIFT_LENGTH</th>\n",
       "      <th>PRCP</th>\n",
       "      <th>TMAX</th>\n",
       "      <th>TMIN</th>\n",
       "      <th>month</th>\n",
       "      <th>year</th>\n",
       "      <th>SHIFT_START_CATEGORY</th>\n",
       "      <th>SHIFT_END_CATEGORY</th>\n",
       "      <th>ID_COUNT</th>\n",
       "      <th>holiday</th>\n",
       "    </tr>\n",
       "  </thead>\n",
       "  <tbody>\n",
       "    <tr>\n",
       "      <th>2</th>\n",
       "      <td>2023-05-26</td>\n",
       "      <td>Holmes Road Annabessacook</td>\n",
       "      <td>Friday</td>\n",
       "      <td>Paid</td>\n",
       "      <td>07:00:00</td>\n",
       "      <td>19:00:00</td>\n",
       "      <td>720.0</td>\n",
       "      <td>NaN</td>\n",
       "      <td>NaN</td>\n",
       "      <td>NaN</td>\n",
       "      <td>5</td>\n",
       "      <td>2023</td>\n",
       "      <td>Early Morning</td>\n",
       "      <td>Evening</td>\n",
       "      <td>55.0</td>\n",
       "      <td>0</td>\n",
       "    </tr>\n",
       "    <tr>\n",
       "      <th>3</th>\n",
       "      <td>2023-05-26</td>\n",
       "      <td>East Winthrop Cobbosseecontee</td>\n",
       "      <td>Friday</td>\n",
       "      <td>Paid</td>\n",
       "      <td>13:00:00</td>\n",
       "      <td>19:00:00</td>\n",
       "      <td>360.0</td>\n",
       "      <td>NaN</td>\n",
       "      <td>NaN</td>\n",
       "      <td>NaN</td>\n",
       "      <td>5</td>\n",
       "      <td>2023</td>\n",
       "      <td>Afternoon</td>\n",
       "      <td>Evening</td>\n",
       "      <td>55.0</td>\n",
       "      <td>0</td>\n",
       "    </tr>\n",
       "    <tr>\n",
       "      <th>5</th>\n",
       "      <td>2023-05-26</td>\n",
       "      <td>Old Kents Hill Road</td>\n",
       "      <td>Friday</td>\n",
       "      <td>Paid</td>\n",
       "      <td>07:00:00</td>\n",
       "      <td>13:00:00</td>\n",
       "      <td>360.0</td>\n",
       "      <td>NaN</td>\n",
       "      <td>NaN</td>\n",
       "      <td>NaN</td>\n",
       "      <td>5</td>\n",
       "      <td>2023</td>\n",
       "      <td>Early Morning</td>\n",
       "      <td>Afternoon</td>\n",
       "      <td>55.0</td>\n",
       "      <td>0</td>\n",
       "    </tr>\n",
       "    <tr>\n",
       "      <th>6</th>\n",
       "      <td>2023-05-26</td>\n",
       "      <td>Rt 41 North Basin Maranacook</td>\n",
       "      <td>Friday</td>\n",
       "      <td>Paid</td>\n",
       "      <td>09:00:00</td>\n",
       "      <td>13:00:00</td>\n",
       "      <td>240.0</td>\n",
       "      <td>NaN</td>\n",
       "      <td>NaN</td>\n",
       "      <td>NaN</td>\n",
       "      <td>5</td>\n",
       "      <td>2023</td>\n",
       "      <td>Morning</td>\n",
       "      <td>Afternoon</td>\n",
       "      <td>55.0</td>\n",
       "      <td>0</td>\n",
       "    </tr>\n",
       "    <tr>\n",
       "      <th>7</th>\n",
       "      <td>2023-05-26</td>\n",
       "      <td>Wilson Pond Road</td>\n",
       "      <td>Friday</td>\n",
       "      <td>Paid</td>\n",
       "      <td>13:00:00</td>\n",
       "      <td>13:00:00</td>\n",
       "      <td>0.0</td>\n",
       "      <td>NaN</td>\n",
       "      <td>NaN</td>\n",
       "      <td>NaN</td>\n",
       "      <td>5</td>\n",
       "      <td>2023</td>\n",
       "      <td>Afternoon</td>\n",
       "      <td>Afternoon</td>\n",
       "      <td>55.0</td>\n",
       "      <td>0</td>\n",
       "    </tr>\n",
       "  </tbody>\n",
       "</table>\n",
       "</div>"
      ],
      "text/plain": [
       "        DATE                      SITE_NAME DAY_OF_WEEK PAY_VOL SHIFT_START  \\\n",
       "2 2023-05-26      Holmes Road Annabessacook      Friday    Paid    07:00:00   \n",
       "3 2023-05-26  East Winthrop Cobbosseecontee      Friday    Paid    13:00:00   \n",
       "5 2023-05-26            Old Kents Hill Road      Friday    Paid    07:00:00   \n",
       "6 2023-05-26   Rt 41 North Basin Maranacook      Friday    Paid    09:00:00   \n",
       "7 2023-05-26               Wilson Pond Road      Friday    Paid    13:00:00   \n",
       "\n",
       "  SHIFT_END  SHIFT_LENGTH  PRCP  TMAX  TMIN  month  year SHIFT_START_CATEGORY  \\\n",
       "2  19:00:00         720.0   NaN   NaN   NaN      5  2023        Early Morning   \n",
       "3  19:00:00         360.0   NaN   NaN   NaN      5  2023            Afternoon   \n",
       "5  13:00:00         360.0   NaN   NaN   NaN      5  2023        Early Morning   \n",
       "6  13:00:00         240.0   NaN   NaN   NaN      5  2023              Morning   \n",
       "7  13:00:00           0.0   NaN   NaN   NaN      5  2023            Afternoon   \n",
       "\n",
       "  SHIFT_END_CATEGORY  ID_COUNT  holiday  \n",
       "2            Evening      55.0        0  \n",
       "3            Evening      55.0        0  \n",
       "5          Afternoon      55.0        0  \n",
       "6          Afternoon      55.0        0  \n",
       "7          Afternoon      55.0        0  "
      ]
     },
     "execution_count": 26,
     "metadata": {},
     "output_type": "execute_result"
    }
   ],
   "source": [
    "scenario1.head()"
   ]
  },
  {
   "cell_type": "code",
   "execution_count": 27,
   "id": "6614e7fe-2658-4eef-971c-94b0b8f8a869",
   "metadata": {
    "tags": []
   },
   "outputs": [],
   "source": [
    "scenario1['DATE'] = pd.to_datetime(scenario1['DATE'])"
   ]
  },
  {
   "cell_type": "code",
   "execution_count": 28,
   "id": "129fbb6b-5a39-4009-a752-06d7dbecff6f",
   "metadata": {
    "tags": []
   },
   "outputs": [],
   "source": [
    "scenario1.drop(columns=['PRCP', 'TMAX', 'TMIN'], inplace=True)"
   ]
  },
  {
   "cell_type": "code",
   "execution_count": 29,
   "id": "b705b7b8-344f-4870-a8b1-b9118ade902a",
   "metadata": {
    "tags": []
   },
   "outputs": [],
   "source": [
    "# Read in the complete weather data and merge with scenario1\n",
    "\n",
    "# Reading in weather data\n",
    "weather = pd.read_csv('data/weather.csv')\n",
    "weather.drop(columns=['STATION', 'LATITUDE', 'LONGITUDE', 'ELEVATION', 'DAPR', 'MDPR', 'SNWD', 'WT01', 'WT03', 'WT04', 'WT05', 'WT06', 'WT11', 'SNOW', 'TOBS'], inplace=True)\n",
    "weather = weather[weather['NAME']== 'WINTHROP, ME US']\n",
    "weather.fillna(method='bfill', inplace=True)"
   ]
  },
  {
   "cell_type": "code",
   "execution_count": null,
   "id": "d75317b5-9431-427d-8000-d816ff035523",
   "metadata": {},
   "outputs": [],
   "source": []
  },
  {
   "cell_type": "code",
   "execution_count": 30,
   "id": "88dcb317-174e-41e2-8567-f99ee20d372f",
   "metadata": {
    "tags": []
   },
   "outputs": [
    {
     "data": {
      "text/html": [
       "<div>\n",
       "<style scoped>\n",
       "    .dataframe tbody tr th:only-of-type {\n",
       "        vertical-align: middle;\n",
       "    }\n",
       "\n",
       "    .dataframe tbody tr th {\n",
       "        vertical-align: top;\n",
       "    }\n",
       "\n",
       "    .dataframe thead th {\n",
       "        text-align: right;\n",
       "    }\n",
       "</style>\n",
       "<table border=\"1\" class=\"dataframe\">\n",
       "  <thead>\n",
       "    <tr style=\"text-align: right;\">\n",
       "      <th></th>\n",
       "      <th>NAME</th>\n",
       "      <th>DATE</th>\n",
       "      <th>PRCP</th>\n",
       "      <th>TMAX</th>\n",
       "      <th>TMIN</th>\n",
       "    </tr>\n",
       "  </thead>\n",
       "  <tbody>\n",
       "    <tr>\n",
       "      <th>0</th>\n",
       "      <td>WINTHROP, ME US</td>\n",
       "      <td>2021-01-01</td>\n",
       "      <td>0.00</td>\n",
       "      <td>42.0</td>\n",
       "      <td>20.0</td>\n",
       "    </tr>\n",
       "    <tr>\n",
       "      <th>1</th>\n",
       "      <td>WINTHROP, ME US</td>\n",
       "      <td>2021-01-03</td>\n",
       "      <td>0.00</td>\n",
       "      <td>34.0</td>\n",
       "      <td>26.0</td>\n",
       "    </tr>\n",
       "    <tr>\n",
       "      <th>2</th>\n",
       "      <td>WINTHROP, ME US</td>\n",
       "      <td>2021-01-04</td>\n",
       "      <td>0.00</td>\n",
       "      <td>34.0</td>\n",
       "      <td>26.0</td>\n",
       "    </tr>\n",
       "    <tr>\n",
       "      <th>3</th>\n",
       "      <td>WINTHROP, ME US</td>\n",
       "      <td>2021-01-05</td>\n",
       "      <td>0.04</td>\n",
       "      <td>35.0</td>\n",
       "      <td>28.0</td>\n",
       "    </tr>\n",
       "    <tr>\n",
       "      <th>4</th>\n",
       "      <td>WINTHROP, ME US</td>\n",
       "      <td>2021-01-06</td>\n",
       "      <td>0.03</td>\n",
       "      <td>32.0</td>\n",
       "      <td>25.0</td>\n",
       "    </tr>\n",
       "  </tbody>\n",
       "</table>\n",
       "</div>"
      ],
      "text/plain": [
       "              NAME        DATE  PRCP  TMAX  TMIN\n",
       "0  WINTHROP, ME US  2021-01-01  0.00  42.0  20.0\n",
       "1  WINTHROP, ME US  2021-01-03  0.00  34.0  26.0\n",
       "2  WINTHROP, ME US  2021-01-04  0.00  34.0  26.0\n",
       "3  WINTHROP, ME US  2021-01-05  0.04  35.0  28.0\n",
       "4  WINTHROP, ME US  2021-01-06  0.03  32.0  25.0"
      ]
     },
     "execution_count": 30,
     "metadata": {},
     "output_type": "execute_result"
    }
   ],
   "source": [
    "weather.head()"
   ]
  },
  {
   "cell_type": "code",
   "execution_count": 31,
   "id": "a5f26c68-e0ba-4512-a5ff-db8a0daa7045",
   "metadata": {
    "tags": []
   },
   "outputs": [],
   "source": [
    "weather['DATE'] = pd.to_datetime(weather['DATE'])\n",
    "#weather['DATE'] = weather['DATE'].dt.strftime('%Y/%m/%d')\n",
    "weather['DATE']=pd.to_datetime(weather['DATE'])\n",
    "weather.drop(columns=['NAME'], inplace=True)\n",
    "\n",
    "scenario1 = pd.merge(left=scenario1, right=weather, how='left', on='DATE')"
   ]
  },
  {
   "cell_type": "code",
   "execution_count": 32,
   "id": "ac6517c3-46be-4289-b153-9fb15076fbb9",
   "metadata": {
    "tags": []
   },
   "outputs": [
    {
     "data": {
      "text/html": [
       "<div>\n",
       "<style scoped>\n",
       "    .dataframe tbody tr th:only-of-type {\n",
       "        vertical-align: middle;\n",
       "    }\n",
       "\n",
       "    .dataframe tbody tr th {\n",
       "        vertical-align: top;\n",
       "    }\n",
       "\n",
       "    .dataframe thead th {\n",
       "        text-align: right;\n",
       "    }\n",
       "</style>\n",
       "<table border=\"1\" class=\"dataframe\">\n",
       "  <thead>\n",
       "    <tr style=\"text-align: right;\">\n",
       "      <th></th>\n",
       "      <th>DATE</th>\n",
       "      <th>SITE_NAME</th>\n",
       "      <th>DAY_OF_WEEK</th>\n",
       "      <th>PAY_VOL</th>\n",
       "      <th>SHIFT_START</th>\n",
       "      <th>SHIFT_END</th>\n",
       "      <th>SHIFT_LENGTH</th>\n",
       "      <th>month</th>\n",
       "      <th>year</th>\n",
       "      <th>SHIFT_START_CATEGORY</th>\n",
       "      <th>SHIFT_END_CATEGORY</th>\n",
       "      <th>ID_COUNT</th>\n",
       "      <th>holiday</th>\n",
       "      <th>PRCP</th>\n",
       "      <th>TMAX</th>\n",
       "      <th>TMIN</th>\n",
       "    </tr>\n",
       "  </thead>\n",
       "  <tbody>\n",
       "    <tr>\n",
       "      <th>0</th>\n",
       "      <td>2023-05-26</td>\n",
       "      <td>Holmes Road Annabessacook</td>\n",
       "      <td>Friday</td>\n",
       "      <td>Paid</td>\n",
       "      <td>07:00:00</td>\n",
       "      <td>19:00:00</td>\n",
       "      <td>720.0</td>\n",
       "      <td>5</td>\n",
       "      <td>2023</td>\n",
       "      <td>Early Morning</td>\n",
       "      <td>Evening</td>\n",
       "      <td>55.0</td>\n",
       "      <td>0</td>\n",
       "      <td>0.0</td>\n",
       "      <td>66.0</td>\n",
       "      <td>40.0</td>\n",
       "    </tr>\n",
       "    <tr>\n",
       "      <th>1</th>\n",
       "      <td>2023-05-26</td>\n",
       "      <td>East Winthrop Cobbosseecontee</td>\n",
       "      <td>Friday</td>\n",
       "      <td>Paid</td>\n",
       "      <td>13:00:00</td>\n",
       "      <td>19:00:00</td>\n",
       "      <td>360.0</td>\n",
       "      <td>5</td>\n",
       "      <td>2023</td>\n",
       "      <td>Afternoon</td>\n",
       "      <td>Evening</td>\n",
       "      <td>55.0</td>\n",
       "      <td>0</td>\n",
       "      <td>0.0</td>\n",
       "      <td>66.0</td>\n",
       "      <td>40.0</td>\n",
       "    </tr>\n",
       "    <tr>\n",
       "      <th>2</th>\n",
       "      <td>2023-05-26</td>\n",
       "      <td>Old Kents Hill Road</td>\n",
       "      <td>Friday</td>\n",
       "      <td>Paid</td>\n",
       "      <td>07:00:00</td>\n",
       "      <td>13:00:00</td>\n",
       "      <td>360.0</td>\n",
       "      <td>5</td>\n",
       "      <td>2023</td>\n",
       "      <td>Early Morning</td>\n",
       "      <td>Afternoon</td>\n",
       "      <td>55.0</td>\n",
       "      <td>0</td>\n",
       "      <td>0.0</td>\n",
       "      <td>66.0</td>\n",
       "      <td>40.0</td>\n",
       "    </tr>\n",
       "    <tr>\n",
       "      <th>3</th>\n",
       "      <td>2023-05-26</td>\n",
       "      <td>Rt 41 North Basin Maranacook</td>\n",
       "      <td>Friday</td>\n",
       "      <td>Paid</td>\n",
       "      <td>09:00:00</td>\n",
       "      <td>13:00:00</td>\n",
       "      <td>240.0</td>\n",
       "      <td>5</td>\n",
       "      <td>2023</td>\n",
       "      <td>Morning</td>\n",
       "      <td>Afternoon</td>\n",
       "      <td>55.0</td>\n",
       "      <td>0</td>\n",
       "      <td>0.0</td>\n",
       "      <td>66.0</td>\n",
       "      <td>40.0</td>\n",
       "    </tr>\n",
       "    <tr>\n",
       "      <th>4</th>\n",
       "      <td>2023-05-26</td>\n",
       "      <td>Wilson Pond Road</td>\n",
       "      <td>Friday</td>\n",
       "      <td>Paid</td>\n",
       "      <td>13:00:00</td>\n",
       "      <td>13:00:00</td>\n",
       "      <td>0.0</td>\n",
       "      <td>5</td>\n",
       "      <td>2023</td>\n",
       "      <td>Afternoon</td>\n",
       "      <td>Afternoon</td>\n",
       "      <td>55.0</td>\n",
       "      <td>0</td>\n",
       "      <td>0.0</td>\n",
       "      <td>66.0</td>\n",
       "      <td>40.0</td>\n",
       "    </tr>\n",
       "  </tbody>\n",
       "</table>\n",
       "</div>"
      ],
      "text/plain": [
       "        DATE                      SITE_NAME DAY_OF_WEEK PAY_VOL SHIFT_START  \\\n",
       "0 2023-05-26      Holmes Road Annabessacook      Friday    Paid    07:00:00   \n",
       "1 2023-05-26  East Winthrop Cobbosseecontee      Friday    Paid    13:00:00   \n",
       "2 2023-05-26            Old Kents Hill Road      Friday    Paid    07:00:00   \n",
       "3 2023-05-26   Rt 41 North Basin Maranacook      Friday    Paid    09:00:00   \n",
       "4 2023-05-26               Wilson Pond Road      Friday    Paid    13:00:00   \n",
       "\n",
       "  SHIFT_END  SHIFT_LENGTH  month  year SHIFT_START_CATEGORY  \\\n",
       "0  19:00:00         720.0      5  2023        Early Morning   \n",
       "1  19:00:00         360.0      5  2023            Afternoon   \n",
       "2  13:00:00         360.0      5  2023        Early Morning   \n",
       "3  13:00:00         240.0      5  2023              Morning   \n",
       "4  13:00:00           0.0      5  2023            Afternoon   \n",
       "\n",
       "  SHIFT_END_CATEGORY  ID_COUNT  holiday  PRCP  TMAX  TMIN  \n",
       "0            Evening      55.0        0   0.0  66.0  40.0  \n",
       "1            Evening      55.0        0   0.0  66.0  40.0  \n",
       "2          Afternoon      55.0        0   0.0  66.0  40.0  \n",
       "3          Afternoon      55.0        0   0.0  66.0  40.0  \n",
       "4          Afternoon      55.0        0   0.0  66.0  40.0  "
      ]
     },
     "execution_count": 32,
     "metadata": {},
     "output_type": "execute_result"
    }
   ],
   "source": [
    "scenario1.head()"
   ]
  },
  {
   "cell_type": "code",
   "execution_count": 33,
   "id": "c42dc0e1-ee6c-46c5-926a-ef38f82fbd83",
   "metadata": {
    "tags": []
   },
   "outputs": [
    {
     "data": {
      "text/plain": [
       "DATE                    0\n",
       "SITE_NAME               0\n",
       "DAY_OF_WEEK             0\n",
       "PAY_VOL                 0\n",
       "SHIFT_START             0\n",
       "SHIFT_END               0\n",
       "SHIFT_LENGTH            0\n",
       "month                   0\n",
       "year                    0\n",
       "SHIFT_START_CATEGORY    0\n",
       "SHIFT_END_CATEGORY      0\n",
       "ID_COUNT                0\n",
       "holiday                 0\n",
       "PRCP                    0\n",
       "TMAX                    0\n",
       "TMIN                    0\n",
       "dtype: int64"
      ]
     },
     "execution_count": 33,
     "metadata": {},
     "output_type": "execute_result"
    }
   ],
   "source": [
    "scenario1.isna().sum()"
   ]
  },
  {
   "cell_type": "code",
   "execution_count": null,
   "id": "8dde5478-2c5f-4939-a1ff-b82b7cabe544",
   "metadata": {},
   "outputs": [],
   "source": []
  },
  {
   "cell_type": "code",
   "execution_count": 34,
   "id": "22478c71-1c39-4f9b-9731-6ac19ce94739",
   "metadata": {
    "tags": []
   },
   "outputs": [
    {
     "name": "stderr",
     "output_type": "stream",
     "text": [
      "C:\\Users\\kaitl\\anaconda3\\Lib\\site-packages\\sklearn\\preprocessing\\_encoders.py:227: UserWarning: Found unknown categories in columns [1] during transform. These unknown categories will be encoded as all zeros\n",
      "  warnings.warn(\n"
     ]
    }
   ],
   "source": [
    "# Define X for scenario data\n",
    "X = scenario1.drop(columns=['DATE', 'SHIFT_START', 'SHIFT_END'])\n",
    "\n",
    "\n",
    "# Specify categorical columns\n",
    "categorical_columns = ['SITE_NAME', 'DAY_OF_WEEK', 'month', 'year', 'PAY_VOL', 'SHIFT_START_CATEGORY', 'SHIFT_END_CATEGORY']\n",
    "\n",
    "# Pre-processing steps\n",
    "with open('models/one_hot_encoder.pkl', 'rb') as file:\n",
    "    oh = pickle.load(file)\n",
    "\n",
    "X_transformed = oh.transform(X[categorical_columns])"
   ]
  },
  {
   "cell_type": "code",
   "execution_count": 35,
   "id": "b46f407a-d615-4920-b0ae-c9951298d8b1",
   "metadata": {
    "tags": []
   },
   "outputs": [],
   "source": [
    "# Load pickled model\n",
    "with open('models/grad_1.pkl', 'rb') as file:\n",
    "    model = pickle.load(file)"
   ]
  },
  {
   "cell_type": "code",
   "execution_count": 36,
   "id": "5d7fb574-4b85-4ee9-9a21-6b9356e3107c",
   "metadata": {
    "tags": []
   },
   "outputs": [],
   "source": [
    "# make predictions on scenario data\n",
    "predictions = model.predict(X_transformed)\n",
    "\n",
    "# Ensure there are no negative values\n",
    "predictions = np.maximum(predictions, 0)"
   ]
  },
  {
   "cell_type": "code",
   "execution_count": 37,
   "id": "ae418589-33a5-4023-8e48-df9cf2312345",
   "metadata": {
    "tags": []
   },
   "outputs": [],
   "source": [
    "scenario1['Predictions'] = predictions"
   ]
  },
  {
   "cell_type": "code",
   "execution_count": 38,
   "id": "4267cfc8-3f10-4d68-a10f-4c3822799d99",
   "metadata": {
    "tags": []
   },
   "outputs": [
    {
     "name": "stdout",
     "output_type": "stream",
     "text": [
      "Prediction Interval if all missed shifts were covered: (5019.665851589381, 5833.649542459826)\n"
     ]
    }
   ],
   "source": [
    "# Use Boostrapping/ resampling to create a prediction interval\n",
    "# Source: https://otexts.com/fpp2/aggregates.html\n",
    "# https://www.cs.cornell.edu/courses/cs1380/2018sp/textbook/chapters/14/3/prediction-intervals.html\n",
    "\n",
    "# Number of bootstrap samples\n",
    "num_bootstraps = 1000\n",
    "\n",
    "# Create an array to store the summed predictions\n",
    "summed_predictions = np.zeros(num_bootstraps)\n",
    "\n",
    "# Perform bootstrapping\n",
    "for i in range(num_bootstraps):\n",
    "    # Randomly sample with replacement from the predicted values\n",
    "    bootstrap_sample = np.random.choice(predictions, size=len(predictions), replace=True)\n",
    "    \n",
    "    # Sum the predictions for the bootstrap sample\n",
    "    summed_predictions[i] = np.sum(bootstrap_sample)\n",
    "\n",
    "# Calculate prediction intervals\n",
    "lower_bound = np.percentile(summed_predictions, 2.5)\n",
    "upper_bound = np.percentile(summed_predictions, 97.5)\n",
    "\n",
    "print(f\"Prediction Interval if all missed shifts were covered: ({lower_bound}, {upper_bound})\")"
   ]
  },
  {
   "cell_type": "code",
   "execution_count": 39,
   "id": "b9ea7ca1-780a-4ce8-a31a-20aa072a4101",
   "metadata": {
    "tags": []
   },
   "outputs": [
    {
     "data": {
      "text/html": [
       "<div>\n",
       "<style scoped>\n",
       "    .dataframe tbody tr th:only-of-type {\n",
       "        vertical-align: middle;\n",
       "    }\n",
       "\n",
       "    .dataframe tbody tr th {\n",
       "        vertical-align: top;\n",
       "    }\n",
       "\n",
       "    .dataframe thead th {\n",
       "        text-align: right;\n",
       "    }\n",
       "</style>\n",
       "<table border=\"1\" class=\"dataframe\">\n",
       "  <thead>\n",
       "    <tr style=\"text-align: right;\">\n",
       "      <th></th>\n",
       "      <th>DATE</th>\n",
       "      <th>SITE_NAME</th>\n",
       "      <th>DAY_OF_WEEK</th>\n",
       "      <th>PAY_VOL</th>\n",
       "      <th>SHIFT_START</th>\n",
       "      <th>SHIFT_END</th>\n",
       "      <th>SHIFT_LENGTH</th>\n",
       "      <th>month</th>\n",
       "      <th>year</th>\n",
       "      <th>SHIFT_START_CATEGORY</th>\n",
       "      <th>SHIFT_END_CATEGORY</th>\n",
       "      <th>ID_COUNT</th>\n",
       "      <th>holiday</th>\n",
       "      <th>PRCP</th>\n",
       "      <th>TMAX</th>\n",
       "      <th>TMIN</th>\n",
       "      <th>Predictions</th>\n",
       "    </tr>\n",
       "  </thead>\n",
       "  <tbody>\n",
       "    <tr>\n",
       "      <th>0</th>\n",
       "      <td>2023-05-26</td>\n",
       "      <td>Holmes Road Annabessacook</td>\n",
       "      <td>Friday</td>\n",
       "      <td>Paid</td>\n",
       "      <td>07:00:00</td>\n",
       "      <td>19:00:00</td>\n",
       "      <td>720.0</td>\n",
       "      <td>5</td>\n",
       "      <td>2023</td>\n",
       "      <td>Early Morning</td>\n",
       "      <td>Evening</td>\n",
       "      <td>55.0</td>\n",
       "      <td>0</td>\n",
       "      <td>0.0</td>\n",
       "      <td>66.0</td>\n",
       "      <td>40.0</td>\n",
       "      <td>15.773332</td>\n",
       "    </tr>\n",
       "    <tr>\n",
       "      <th>1</th>\n",
       "      <td>2023-05-26</td>\n",
       "      <td>East Winthrop Cobbosseecontee</td>\n",
       "      <td>Friday</td>\n",
       "      <td>Paid</td>\n",
       "      <td>13:00:00</td>\n",
       "      <td>19:00:00</td>\n",
       "      <td>360.0</td>\n",
       "      <td>5</td>\n",
       "      <td>2023</td>\n",
       "      <td>Afternoon</td>\n",
       "      <td>Evening</td>\n",
       "      <td>55.0</td>\n",
       "      <td>0</td>\n",
       "      <td>0.0</td>\n",
       "      <td>66.0</td>\n",
       "      <td>40.0</td>\n",
       "      <td>9.583063</td>\n",
       "    </tr>\n",
       "    <tr>\n",
       "      <th>2</th>\n",
       "      <td>2023-05-26</td>\n",
       "      <td>Old Kents Hill Road</td>\n",
       "      <td>Friday</td>\n",
       "      <td>Paid</td>\n",
       "      <td>07:00:00</td>\n",
       "      <td>13:00:00</td>\n",
       "      <td>360.0</td>\n",
       "      <td>5</td>\n",
       "      <td>2023</td>\n",
       "      <td>Early Morning</td>\n",
       "      <td>Afternoon</td>\n",
       "      <td>55.0</td>\n",
       "      <td>0</td>\n",
       "      <td>0.0</td>\n",
       "      <td>66.0</td>\n",
       "      <td>40.0</td>\n",
       "      <td>4.291591</td>\n",
       "    </tr>\n",
       "    <tr>\n",
       "      <th>3</th>\n",
       "      <td>2023-05-26</td>\n",
       "      <td>Rt 41 North Basin Maranacook</td>\n",
       "      <td>Friday</td>\n",
       "      <td>Paid</td>\n",
       "      <td>09:00:00</td>\n",
       "      <td>13:00:00</td>\n",
       "      <td>240.0</td>\n",
       "      <td>5</td>\n",
       "      <td>2023</td>\n",
       "      <td>Morning</td>\n",
       "      <td>Afternoon</td>\n",
       "      <td>55.0</td>\n",
       "      <td>0</td>\n",
       "      <td>0.0</td>\n",
       "      <td>66.0</td>\n",
       "      <td>40.0</td>\n",
       "      <td>14.061646</td>\n",
       "    </tr>\n",
       "    <tr>\n",
       "      <th>4</th>\n",
       "      <td>2023-05-26</td>\n",
       "      <td>Wilson Pond Road</td>\n",
       "      <td>Friday</td>\n",
       "      <td>Paid</td>\n",
       "      <td>13:00:00</td>\n",
       "      <td>13:00:00</td>\n",
       "      <td>0.0</td>\n",
       "      <td>5</td>\n",
       "      <td>2023</td>\n",
       "      <td>Afternoon</td>\n",
       "      <td>Afternoon</td>\n",
       "      <td>55.0</td>\n",
       "      <td>0</td>\n",
       "      <td>0.0</td>\n",
       "      <td>66.0</td>\n",
       "      <td>40.0</td>\n",
       "      <td>0.000000</td>\n",
       "    </tr>\n",
       "  </tbody>\n",
       "</table>\n",
       "</div>"
      ],
      "text/plain": [
       "        DATE                      SITE_NAME DAY_OF_WEEK PAY_VOL SHIFT_START  \\\n",
       "0 2023-05-26      Holmes Road Annabessacook      Friday    Paid    07:00:00   \n",
       "1 2023-05-26  East Winthrop Cobbosseecontee      Friday    Paid    13:00:00   \n",
       "2 2023-05-26            Old Kents Hill Road      Friday    Paid    07:00:00   \n",
       "3 2023-05-26   Rt 41 North Basin Maranacook      Friday    Paid    09:00:00   \n",
       "4 2023-05-26               Wilson Pond Road      Friday    Paid    13:00:00   \n",
       "\n",
       "  SHIFT_END  SHIFT_LENGTH  month  year SHIFT_START_CATEGORY  \\\n",
       "0  19:00:00         720.0      5  2023        Early Morning   \n",
       "1  19:00:00         360.0      5  2023            Afternoon   \n",
       "2  13:00:00         360.0      5  2023        Early Morning   \n",
       "3  13:00:00         240.0      5  2023              Morning   \n",
       "4  13:00:00           0.0      5  2023            Afternoon   \n",
       "\n",
       "  SHIFT_END_CATEGORY  ID_COUNT  holiday  PRCP  TMAX  TMIN  Predictions  \n",
       "0            Evening      55.0        0   0.0  66.0  40.0    15.773332  \n",
       "1            Evening      55.0        0   0.0  66.0  40.0     9.583063  \n",
       "2          Afternoon      55.0        0   0.0  66.0  40.0     4.291591  \n",
       "3          Afternoon      55.0        0   0.0  66.0  40.0    14.061646  \n",
       "4          Afternoon      55.0        0   0.0  66.0  40.0     0.000000  "
      ]
     },
     "execution_count": 39,
     "metadata": {},
     "output_type": "execute_result"
    }
   ],
   "source": [
    "scenario1.head()"
   ]
  },
  {
   "cell_type": "code",
   "execution_count": 40,
   "id": "4d0857aa-ffc8-4aa0-a197-41f7e4cdf78d",
   "metadata": {
    "tags": []
   },
   "outputs": [
    {
     "data": {
      "text/html": [
       "<div>\n",
       "<style scoped>\n",
       "    .dataframe tbody tr th:only-of-type {\n",
       "        vertical-align: middle;\n",
       "    }\n",
       "\n",
       "    .dataframe tbody tr th {\n",
       "        vertical-align: top;\n",
       "    }\n",
       "\n",
       "    .dataframe thead th {\n",
       "        text-align: right;\n",
       "    }\n",
       "</style>\n",
       "<table border=\"1\" class=\"dataframe\">\n",
       "  <thead>\n",
       "    <tr style=\"text-align: right;\">\n",
       "      <th></th>\n",
       "      <th>SHIFT_LENGTH</th>\n",
       "      <th>month</th>\n",
       "      <th>year</th>\n",
       "      <th>ID_COUNT</th>\n",
       "      <th>holiday</th>\n",
       "      <th>PRCP</th>\n",
       "      <th>TMAX</th>\n",
       "      <th>TMIN</th>\n",
       "      <th>Predictions</th>\n",
       "    </tr>\n",
       "  </thead>\n",
       "  <tbody>\n",
       "    <tr>\n",
       "      <th>count</th>\n",
       "      <td>517.000000</td>\n",
       "      <td>517.000000</td>\n",
       "      <td>517.0</td>\n",
       "      <td>517.0</td>\n",
       "      <td>517.000000</td>\n",
       "      <td>517.000000</td>\n",
       "      <td>517.000000</td>\n",
       "      <td>517.000000</td>\n",
       "      <td>517.000000</td>\n",
       "    </tr>\n",
       "    <tr>\n",
       "      <th>mean</th>\n",
       "      <td>390.661509</td>\n",
       "      <td>6.943907</td>\n",
       "      <td>2023.0</td>\n",
       "      <td>55.0</td>\n",
       "      <td>0.015474</td>\n",
       "      <td>0.208375</td>\n",
       "      <td>77.765957</td>\n",
       "      <td>59.098646</td>\n",
       "      <td>10.516243</td>\n",
       "    </tr>\n",
       "    <tr>\n",
       "      <th>std</th>\n",
       "      <td>263.774282</td>\n",
       "      <td>0.945587</td>\n",
       "      <td>0.0</td>\n",
       "      <td>0.0</td>\n",
       "      <td>0.123547</td>\n",
       "      <td>0.417303</td>\n",
       "      <td>8.070028</td>\n",
       "      <td>6.503721</td>\n",
       "      <td>8.993156</td>\n",
       "    </tr>\n",
       "    <tr>\n",
       "      <th>min</th>\n",
       "      <td>-360.000000</td>\n",
       "      <td>5.000000</td>\n",
       "      <td>2023.0</td>\n",
       "      <td>55.0</td>\n",
       "      <td>0.000000</td>\n",
       "      <td>0.000000</td>\n",
       "      <td>52.000000</td>\n",
       "      <td>40.000000</td>\n",
       "      <td>0.000000</td>\n",
       "    </tr>\n",
       "    <tr>\n",
       "      <th>25%</th>\n",
       "      <td>240.000000</td>\n",
       "      <td>6.000000</td>\n",
       "      <td>2023.0</td>\n",
       "      <td>55.0</td>\n",
       "      <td>0.000000</td>\n",
       "      <td>0.000000</td>\n",
       "      <td>72.000000</td>\n",
       "      <td>54.000000</td>\n",
       "      <td>1.825075</td>\n",
       "    </tr>\n",
       "    <tr>\n",
       "      <th>50%</th>\n",
       "      <td>360.000000</td>\n",
       "      <td>7.000000</td>\n",
       "      <td>2023.0</td>\n",
       "      <td>55.0</td>\n",
       "      <td>0.000000</td>\n",
       "      <td>0.010000</td>\n",
       "      <td>78.000000</td>\n",
       "      <td>59.000000</td>\n",
       "      <td>8.726347</td>\n",
       "    </tr>\n",
       "    <tr>\n",
       "      <th>75%</th>\n",
       "      <td>630.000000</td>\n",
       "      <td>8.000000</td>\n",
       "      <td>2023.0</td>\n",
       "      <td>55.0</td>\n",
       "      <td>0.000000</td>\n",
       "      <td>0.150000</td>\n",
       "      <td>83.000000</td>\n",
       "      <td>65.000000</td>\n",
       "      <td>16.134713</td>\n",
       "    </tr>\n",
       "    <tr>\n",
       "      <th>max</th>\n",
       "      <td>871.000000</td>\n",
       "      <td>9.000000</td>\n",
       "      <td>2023.0</td>\n",
       "      <td>55.0</td>\n",
       "      <td>1.000000</td>\n",
       "      <td>1.970000</td>\n",
       "      <td>95.000000</td>\n",
       "      <td>71.000000</td>\n",
       "      <td>34.767948</td>\n",
       "    </tr>\n",
       "  </tbody>\n",
       "</table>\n",
       "</div>"
      ],
      "text/plain": [
       "       SHIFT_LENGTH       month    year  ID_COUNT     holiday        PRCP  \\\n",
       "count    517.000000  517.000000   517.0     517.0  517.000000  517.000000   \n",
       "mean     390.661509    6.943907  2023.0      55.0    0.015474    0.208375   \n",
       "std      263.774282    0.945587     0.0       0.0    0.123547    0.417303   \n",
       "min     -360.000000    5.000000  2023.0      55.0    0.000000    0.000000   \n",
       "25%      240.000000    6.000000  2023.0      55.0    0.000000    0.000000   \n",
       "50%      360.000000    7.000000  2023.0      55.0    0.000000    0.010000   \n",
       "75%      630.000000    8.000000  2023.0      55.0    0.000000    0.150000   \n",
       "max      871.000000    9.000000  2023.0      55.0    1.000000    1.970000   \n",
       "\n",
       "             TMAX        TMIN  Predictions  \n",
       "count  517.000000  517.000000   517.000000  \n",
       "mean    77.765957   59.098646    10.516243  \n",
       "std      8.070028    6.503721     8.993156  \n",
       "min     52.000000   40.000000     0.000000  \n",
       "25%     72.000000   54.000000     1.825075  \n",
       "50%     78.000000   59.000000     8.726347  \n",
       "75%     83.000000   65.000000    16.134713  \n",
       "max     95.000000   71.000000    34.767948  "
      ]
     },
     "execution_count": 40,
     "metadata": {},
     "output_type": "execute_result"
    }
   ],
   "source": [
    "scenario1.describe()"
   ]
  },
  {
   "cell_type": "code",
   "execution_count": 41,
   "id": "60b38e5a-0067-456f-827b-6e335d8b0e30",
   "metadata": {
    "tags": []
   },
   "outputs": [
    {
     "data": {
      "text/plain": [
       "(517, 17)"
      ]
     },
     "execution_count": 41,
     "metadata": {},
     "output_type": "execute_result"
    }
   ],
   "source": [
    "scenario1.shape"
   ]
  },
  {
   "cell_type": "code",
   "execution_count": 42,
   "id": "0cecbae2-b859-4a16-8b5c-bf4946265c04",
   "metadata": {
    "tags": []
   },
   "outputs": [
    {
     "data": {
      "text/plain": [
       "Rt 41 North Basin Maranacook             76\n",
       "Beach Road                               69\n",
       "Norcross Point South Basin Maranacook    69\n",
       "Wilson Pond Road                         66\n",
       "Old Kents Hill Road                      62\n",
       "Thorofare Rd                             61\n",
       "Whippoorwill Road                        57\n",
       "Holmes Road Annabessacook                55\n",
       "East Winthrop Cobbosseecontee             2\n",
       "Name: SITE_NAME, dtype: int64"
      ]
     },
     "execution_count": 42,
     "metadata": {},
     "output_type": "execute_result"
    }
   ],
   "source": [
    "scenario1.SITE_NAME.value_counts()"
   ]
  },
  {
   "cell_type": "code",
   "execution_count": 43,
   "id": "3f30e6ff-ffa7-4ba7-9c53-317cb1c34fc4",
   "metadata": {},
   "outputs": [],
   "source": [
    "# Now I want to cover ~100 shifts prioritizing top or top few sites\n",
    "# Then compare that to covering ~100 shifts bottom few sites\n",
    "\n",
    "# Get the predictions of number of inspections\n",
    "# Add the total number of hours/ shift length\n",
    "# Chart this with the potential labor cost"
   ]
  },
  {
   "cell_type": "code",
   "execution_count": 51,
   "id": "20e73f53-47c4-404e-b231-105f70fb4e7d",
   "metadata": {
    "tags": []
   },
   "outputs": [],
   "source": [
    "# 100 shifts from Whippoorwill Road and Old Kents Hill Road\n",
    "site_name_filter1 = (scenario1['SITE_NAME'] == 'Whippoorwill Road') | (scenario1['SITE_NAME'] == 'Old Kents Hill Road')\n",
    "scenario1_sub1 = scenario1[site_name_filter1].copy().sample(n=100, random_state=42)"
   ]
  },
  {
   "cell_type": "code",
   "execution_count": 52,
   "id": "94b92d87-5d02-428e-b2e6-aec6242156e3",
   "metadata": {
    "tags": []
   },
   "outputs": [],
   "source": [
    "scenario1_sub2 = scenario1.sample(n=100, random_state=42)"
   ]
  },
  {
   "cell_type": "code",
   "execution_count": 44,
   "id": "422de685-5944-4e5b-8755-f9d4f94e7b8d",
   "metadata": {},
   "outputs": [
    {
     "name": "stdout",
     "output_type": "stream",
     "text": [
      "Prediction Interval if all missed shifts were covered: (5057.815889318792, 5858.901253935112)\n"
     ]
    }
   ],
   "source": [
    "# Number of bootstrap samples\n",
    "num_bootstraps = 1000\n",
    "\n",
    "# Create an array to store the summed predictions\n",
    "summed_predictions = np.zeros(num_bootstraps)\n",
    "\n",
    "# Perform bootstrapping\n",
    "for i in range(num_bootstraps):\n",
    "    # Randomly sample with replacement from the predicted values\n",
    "    bootstrap_sample = np.random.choice(predictions, size=len(predictions), replace=True)\n",
    "    \n",
    "    # Sum the predictions for the bootstrap sample\n",
    "    summed_predictions[i] = np.sum(bootstrap_sample)\n",
    "\n",
    "# Calculate prediction intervals\n",
    "lower_bound = np.percentile(summed_predictions, 2.5)\n",
    "upper_bound = np.percentile(summed_predictions, 97.5)\n",
    "\n",
    "print(f\"Prediction Interval if all missed shifts were covered: ({lower_bound}, {upper_bound})\")"
   ]
  },
  {
   "cell_type": "code",
   "execution_count": 56,
   "id": "5fd0653a-1dfb-4191-8020-420c909cb22e",
   "metadata": {},
   "outputs": [],
   "source": [
    "def create_predictions_interval(df):\n",
    "    #Define X\n",
    "    X = df.drop(columns=['DATE', 'SHIFT_START', 'SHIFT_END'])\n",
    "    #Pre-processing steps\n",
    "    categorical_columns = ['SITE_NAME', 'DAY_OF_WEEK', 'month', 'year', 'PAY_VOL', 'SHIFT_START_CATEGORY', 'SHIFT_END_CATEGORY']\n",
    "    with open('models/one_hot_encoder.pkl', 'rb') as file:\n",
    "        oh = pickle.load(file)\n",
    "    X_transformed = oh.transform(X[categorical_columns])\n",
    "    # Make predictions\n",
    "    predictions = model.predict(X_transformed)\n",
    "    predictions = np.maximum(predictions, 0)\n",
    "    num_bootsraps = 1000\n",
    "    summed_predictions = np.zeros(num_bootstraps)\n",
    "    for i in range(num_bootstraps):\n",
    "        bootstrap_sample = np.random.choice(predictions, size=len(predictions), replace=True)\n",
    "        summed_predictions[i] = np.sum(bootstrap_sample)\n",
    "    lower_bound = np.percentile(summed_predictions, 2.5)\n",
    "    upper_bound = np.percentile(summed_predictions, 97.5)\n",
    "    estimate_total = np.sum(predictions)\n",
    "    labor_hours = np.sum(df['SHIFT_LENGTH'])/60\n",
    "    print(lower_bound, estimate_total, upper_bound, labor_hours)\n",
    "    "
   ]
  },
  {
   "cell_type": "code",
   "execution_count": 57,
   "id": "4550f9c9-739a-4e15-982f-c31a16691b22",
   "metadata": {
    "tags": []
   },
   "outputs": [
    {
     "name": "stdout",
     "output_type": "stream",
     "text": [
      "964.3708887996487 1135.6719170751442 1323.6634186930894 708.15\n"
     ]
    },
    {
     "name": "stderr",
     "output_type": "stream",
     "text": [
      "C:\\Users\\kaitl\\anaconda3\\Lib\\site-packages\\sklearn\\preprocessing\\_encoders.py:227: UserWarning: Found unknown categories in columns [1] during transform. These unknown categories will be encoded as all zeros\n",
      "  warnings.warn(\n"
     ]
    }
   ],
   "source": [
    "create_predictions_interval(scenario1_sub1)"
   ]
  },
  {
   "cell_type": "code",
   "execution_count": 58,
   "id": "ed3b834d-ed43-4e10-bddf-4ae9b923b6d9",
   "metadata": {
    "tags": []
   },
   "outputs": [
    {
     "name": "stdout",
     "output_type": "stream",
     "text": [
      "960.7480741153654 1142.601323544001 1321.7486809410734 715.0666666666667\n"
     ]
    },
    {
     "name": "stderr",
     "output_type": "stream",
     "text": [
      "C:\\Users\\kaitl\\anaconda3\\Lib\\site-packages\\sklearn\\preprocessing\\_encoders.py:227: UserWarning: Found unknown categories in columns [1] during transform. These unknown categories will be encoded as all zeros\n",
      "  warnings.warn(\n"
     ]
    }
   ],
   "source": [
    "create_predictions_interval(scenario1_sub2)"
   ]
  },
  {
   "cell_type": "code",
   "execution_count": 91,
   "id": "3784512f-a94c-446f-be94-ea4c94987850",
   "metadata": {
    "tags": []
   },
   "outputs": [],
   "source": [
    "holiday_list_weekends = ['2021-05-31', '2021-05-29', '2021-05-30', '2021-07-04', '2021-07-03', '2021-07-05', '2021-09-06', '2021-09-04', '2021-09-05', '2021-06-19', '2021-06-20',\n",
    "                '2022-05-28', '2022-05-29', '2022-05-30', '2022-07-02', '2022-07-03', '2022-07-04', '2022-06-19', '2022-09-03', '2022-09-04', '2022-06-18',\n",
    "                '2023-05-29', '2023-05-27', '2023-05-28', '2023-07-01', '2023-07-02', '2023-07-04', '2023-09-02', '2023-09-03', '2023-09-04', '2023-06-18', '2023-06-17']\n",
    "\n",
    "def make_scenario(scenario_df, columns_to_fill, start_time, end_time):\n",
    "    scenario_df.drop(columns= ['INSPECTOR_ID', 'TRAILERS', 'TOTALINSP', 'DATE1', 'TOWN', 'WATERBODY', 'MATCH'], inplace = True)\n",
    "    scenario_df['DATE'] = pd.to_datetime(scenario_df['DATE'])\n",
    "    scenario_df['holiday']= np.where(scenario_df['DATE'].isin(holiday_list_weekends), 1, 0)\n",
    "    \n",
    "    # Fill in month and year from the date category\n",
    "    scenario_df['month'] = scenario_df['DATE'].dt.month\n",
    "    scenario_df['year'] = scenario_df['DATE'].dt.year\n",
    "    scenario_df['DAY_OF_WEEK'] = scenario_df['DATE'].dt.day_name()\n",
    "    \n",
    "    columns_to_fill = ['PAY_VOL', 'ID_COUNT']\n",
    "    \n",
    "    # Fill start_time and end_time\n",
    "    scenario_df['SHIFT_START'] = start_time\n",
    "    scenario_df['SHIFT_END'] = end_time\n",
    "\n",
    "    \n",
    "    # Fill in whichever columns based on df proportions\n",
    "    proportions = df[columns_to_fill].count() / len(df)\n",
    "    scenario_df = scenario_df.apply(lambda row: fill_missing(row, proportions, columns_to_fill), axis=1)\n",
    "    \n",
    "    scenario_df= create_shift_features(scenario_df, start_col='SHIFT_START', end_col='SHIFT_END')\n",
    "    \n",
    "    # Merge in weather data\n",
    "    scenario_df['DATE'] = pd.to_datetime(scenario_df['DATE'])\n",
    "    scenario_df.drop(columns=['PRCP', 'TMAX', 'TMIN'], inplace=True)\n",
    "\n",
    "    weather = pd.read_csv('data/weather.csv')\n",
    "    weather.drop(columns=['STATION', 'LATITUDE', 'LONGITUDE', 'ELEVATION', 'DAPR', 'MDPR', 'SNWD', 'WT01', 'WT03', 'WT04', 'WT05', 'WT06', 'WT11', 'SNOW', 'TOBS'], inplace=True)\n",
    "    weather = weather[weather['NAME']== 'WINTHROP, ME US']\n",
    "    weather.fillna(method='bfill', inplace=True)\n",
    "    \n",
    "    weather['DATE'] = pd.to_datetime(weather['DATE'])\n",
    "    #weather['DATE'] = weather['DATE'].dt.strftime('%Y/%m/%d')\n",
    "    weather['DATE']=pd.to_datetime(weather['DATE'])\n",
    "    weather.drop(columns=['NAME'], inplace=True)\n",
    "\n",
    "    scenario_df = pd.merge(left=scenario_df, right=weather, how='left', on='DATE')\n",
    "\n",
    "    # Returning all three DataFrames\n",
    "    return scenario_df\n",
    "    "
   ]
  },
  {
   "cell_type": "code",
   "execution_count": 98,
   "id": "2de93b95-fd0e-45a9-b868-9821473c687d",
   "metadata": {},
   "outputs": [],
   "source": [
    "# Scenario 2: Instead of random filling based on proportions, random fill the ID_COUNT and pay_vol, and enter morning shift starts with a standard shift_length\n",
    "scenario2 = combined_df[combined_df['MATCH'] == False].copy()"
   ]
  },
  {
   "cell_type": "code",
   "execution_count": null,
   "id": "e96d3c49-54c4-4393-a083-a17702ca585a",
   "metadata": {},
   "outputs": [],
   "source": []
  },
  {
   "cell_type": "code",
   "execution_count": 99,
   "id": "0ee48b55-edb6-4f46-8556-170a463d8bd5",
   "metadata": {
    "tags": []
   },
   "outputs": [],
   "source": [
    "columns_to_fill = ['PAY_VOL', 'ID_COUNT']\n",
    "\n",
    "scenario2 = make_scenario(scenario2, columns_to_fill, '7:00', '11:00')"
   ]
  },
  {
   "cell_type": "code",
   "execution_count": 100,
   "id": "8a5d6d54-8275-4bc6-881c-1380390d5def",
   "metadata": {
    "tags": []
   },
   "outputs": [
    {
     "data": {
      "text/html": [
       "<div>\n",
       "<style scoped>\n",
       "    .dataframe tbody tr th:only-of-type {\n",
       "        vertical-align: middle;\n",
       "    }\n",
       "\n",
       "    .dataframe tbody tr th {\n",
       "        vertical-align: top;\n",
       "    }\n",
       "\n",
       "    .dataframe thead th {\n",
       "        text-align: right;\n",
       "    }\n",
       "</style>\n",
       "<table border=\"1\" class=\"dataframe\">\n",
       "  <thead>\n",
       "    <tr style=\"text-align: right;\">\n",
       "      <th></th>\n",
       "      <th>DATE</th>\n",
       "      <th>SITE_NAME</th>\n",
       "      <th>DAY_OF_WEEK</th>\n",
       "      <th>PAY_VOL</th>\n",
       "      <th>SHIFT_START</th>\n",
       "      <th>SHIFT_END</th>\n",
       "      <th>SHIFT_LENGTH</th>\n",
       "      <th>month</th>\n",
       "      <th>year</th>\n",
       "      <th>SHIFT_START_CATEGORY</th>\n",
       "      <th>SHIFT_END_CATEGORY</th>\n",
       "      <th>ID_COUNT</th>\n",
       "      <th>holiday</th>\n",
       "      <th>PRCP</th>\n",
       "      <th>TMAX</th>\n",
       "      <th>TMIN</th>\n",
       "    </tr>\n",
       "  </thead>\n",
       "  <tbody>\n",
       "    <tr>\n",
       "      <th>0</th>\n",
       "      <td>2023-05-26</td>\n",
       "      <td>Holmes Road Annabessacook</td>\n",
       "      <td>Friday</td>\n",
       "      <td>Volunteer</td>\n",
       "      <td>07:00:00</td>\n",
       "      <td>11:00:00</td>\n",
       "      <td>240.0</td>\n",
       "      <td>5</td>\n",
       "      <td>2023</td>\n",
       "      <td>Early Morning</td>\n",
       "      <td>Morning</td>\n",
       "      <td>55.0</td>\n",
       "      <td>0</td>\n",
       "      <td>0.0</td>\n",
       "      <td>66.0</td>\n",
       "      <td>40.0</td>\n",
       "    </tr>\n",
       "    <tr>\n",
       "      <th>1</th>\n",
       "      <td>2023-05-26</td>\n",
       "      <td>East Winthrop Cobbosseecontee</td>\n",
       "      <td>Friday</td>\n",
       "      <td>Paid</td>\n",
       "      <td>07:00:00</td>\n",
       "      <td>11:00:00</td>\n",
       "      <td>240.0</td>\n",
       "      <td>5</td>\n",
       "      <td>2023</td>\n",
       "      <td>Early Morning</td>\n",
       "      <td>Morning</td>\n",
       "      <td>55.0</td>\n",
       "      <td>0</td>\n",
       "      <td>0.0</td>\n",
       "      <td>66.0</td>\n",
       "      <td>40.0</td>\n",
       "    </tr>\n",
       "    <tr>\n",
       "      <th>2</th>\n",
       "      <td>2023-05-26</td>\n",
       "      <td>Old Kents Hill Road</td>\n",
       "      <td>Friday</td>\n",
       "      <td>Paid</td>\n",
       "      <td>07:00:00</td>\n",
       "      <td>11:00:00</td>\n",
       "      <td>240.0</td>\n",
       "      <td>5</td>\n",
       "      <td>2023</td>\n",
       "      <td>Early Morning</td>\n",
       "      <td>Morning</td>\n",
       "      <td>55.0</td>\n",
       "      <td>0</td>\n",
       "      <td>0.0</td>\n",
       "      <td>66.0</td>\n",
       "      <td>40.0</td>\n",
       "    </tr>\n",
       "    <tr>\n",
       "      <th>3</th>\n",
       "      <td>2023-05-26</td>\n",
       "      <td>Rt 41 North Basin Maranacook</td>\n",
       "      <td>Friday</td>\n",
       "      <td>Paid</td>\n",
       "      <td>07:00:00</td>\n",
       "      <td>11:00:00</td>\n",
       "      <td>240.0</td>\n",
       "      <td>5</td>\n",
       "      <td>2023</td>\n",
       "      <td>Early Morning</td>\n",
       "      <td>Morning</td>\n",
       "      <td>55.0</td>\n",
       "      <td>0</td>\n",
       "      <td>0.0</td>\n",
       "      <td>66.0</td>\n",
       "      <td>40.0</td>\n",
       "    </tr>\n",
       "    <tr>\n",
       "      <th>4</th>\n",
       "      <td>2023-05-26</td>\n",
       "      <td>Wilson Pond Road</td>\n",
       "      <td>Friday</td>\n",
       "      <td>Paid</td>\n",
       "      <td>07:00:00</td>\n",
       "      <td>11:00:00</td>\n",
       "      <td>240.0</td>\n",
       "      <td>5</td>\n",
       "      <td>2023</td>\n",
       "      <td>Early Morning</td>\n",
       "      <td>Morning</td>\n",
       "      <td>55.0</td>\n",
       "      <td>0</td>\n",
       "      <td>0.0</td>\n",
       "      <td>66.0</td>\n",
       "      <td>40.0</td>\n",
       "    </tr>\n",
       "    <tr>\n",
       "      <th>...</th>\n",
       "      <td>...</td>\n",
       "      <td>...</td>\n",
       "      <td>...</td>\n",
       "      <td>...</td>\n",
       "      <td>...</td>\n",
       "      <td>...</td>\n",
       "      <td>...</td>\n",
       "      <td>...</td>\n",
       "      <td>...</td>\n",
       "      <td>...</td>\n",
       "      <td>...</td>\n",
       "      <td>...</td>\n",
       "      <td>...</td>\n",
       "      <td>...</td>\n",
       "      <td>...</td>\n",
       "      <td>...</td>\n",
       "    </tr>\n",
       "    <tr>\n",
       "      <th>512</th>\n",
       "      <td>2023-09-01</td>\n",
       "      <td>Beach Road</td>\n",
       "      <td>Friday</td>\n",
       "      <td>Paid</td>\n",
       "      <td>07:00:00</td>\n",
       "      <td>11:00:00</td>\n",
       "      <td>240.0</td>\n",
       "      <td>9</td>\n",
       "      <td>2023</td>\n",
       "      <td>Early Morning</td>\n",
       "      <td>Morning</td>\n",
       "      <td>55.0</td>\n",
       "      <td>0</td>\n",
       "      <td>0.0</td>\n",
       "      <td>72.0</td>\n",
       "      <td>48.0</td>\n",
       "    </tr>\n",
       "    <tr>\n",
       "      <th>513</th>\n",
       "      <td>2023-09-01</td>\n",
       "      <td>Norcross Point South Basin Maranacook</td>\n",
       "      <td>Friday</td>\n",
       "      <td>Paid</td>\n",
       "      <td>07:00:00</td>\n",
       "      <td>11:00:00</td>\n",
       "      <td>240.0</td>\n",
       "      <td>9</td>\n",
       "      <td>2023</td>\n",
       "      <td>Early Morning</td>\n",
       "      <td>Morning</td>\n",
       "      <td>55.0</td>\n",
       "      <td>0</td>\n",
       "      <td>0.0</td>\n",
       "      <td>72.0</td>\n",
       "      <td>48.0</td>\n",
       "    </tr>\n",
       "    <tr>\n",
       "      <th>514</th>\n",
       "      <td>2023-09-02</td>\n",
       "      <td>Thorofare Rd</td>\n",
       "      <td>Saturday</td>\n",
       "      <td>Volunteer</td>\n",
       "      <td>07:00:00</td>\n",
       "      <td>11:00:00</td>\n",
       "      <td>240.0</td>\n",
       "      <td>9</td>\n",
       "      <td>2023</td>\n",
       "      <td>Early Morning</td>\n",
       "      <td>Morning</td>\n",
       "      <td>55.0</td>\n",
       "      <td>1</td>\n",
       "      <td>0.0</td>\n",
       "      <td>78.0</td>\n",
       "      <td>53.0</td>\n",
       "    </tr>\n",
       "    <tr>\n",
       "      <th>515</th>\n",
       "      <td>2023-09-03</td>\n",
       "      <td>Rt 41 North Basin Maranacook</td>\n",
       "      <td>Sunday</td>\n",
       "      <td>Paid</td>\n",
       "      <td>07:00:00</td>\n",
       "      <td>11:00:00</td>\n",
       "      <td>240.0</td>\n",
       "      <td>9</td>\n",
       "      <td>2023</td>\n",
       "      <td>Early Morning</td>\n",
       "      <td>Morning</td>\n",
       "      <td>55.0</td>\n",
       "      <td>1</td>\n",
       "      <td>0.0</td>\n",
       "      <td>78.0</td>\n",
       "      <td>58.0</td>\n",
       "    </tr>\n",
       "    <tr>\n",
       "      <th>516</th>\n",
       "      <td>2023-09-04</td>\n",
       "      <td>Rt 41 North Basin Maranacook</td>\n",
       "      <td>Monday</td>\n",
       "      <td>Volunteer</td>\n",
       "      <td>07:00:00</td>\n",
       "      <td>11:00:00</td>\n",
       "      <td>240.0</td>\n",
       "      <td>9</td>\n",
       "      <td>2023</td>\n",
       "      <td>Early Morning</td>\n",
       "      <td>Morning</td>\n",
       "      <td>55.0</td>\n",
       "      <td>1</td>\n",
       "      <td>0.0</td>\n",
       "      <td>85.0</td>\n",
       "      <td>61.0</td>\n",
       "    </tr>\n",
       "  </tbody>\n",
       "</table>\n",
       "<p>517 rows × 16 columns</p>\n",
       "</div>"
      ],
      "text/plain": [
       "          DATE                              SITE_NAME DAY_OF_WEEK    PAY_VOL  \\\n",
       "0   2023-05-26              Holmes Road Annabessacook      Friday  Volunteer   \n",
       "1   2023-05-26          East Winthrop Cobbosseecontee      Friday       Paid   \n",
       "2   2023-05-26                    Old Kents Hill Road      Friday       Paid   \n",
       "3   2023-05-26           Rt 41 North Basin Maranacook      Friday       Paid   \n",
       "4   2023-05-26                       Wilson Pond Road      Friday       Paid   \n",
       "..         ...                                    ...         ...        ...   \n",
       "512 2023-09-01                             Beach Road      Friday       Paid   \n",
       "513 2023-09-01  Norcross Point South Basin Maranacook      Friday       Paid   \n",
       "514 2023-09-02                           Thorofare Rd    Saturday  Volunteer   \n",
       "515 2023-09-03           Rt 41 North Basin Maranacook      Sunday       Paid   \n",
       "516 2023-09-04           Rt 41 North Basin Maranacook      Monday  Volunteer   \n",
       "\n",
       "    SHIFT_START SHIFT_END  SHIFT_LENGTH  month  year SHIFT_START_CATEGORY  \\\n",
       "0      07:00:00  11:00:00         240.0      5  2023        Early Morning   \n",
       "1      07:00:00  11:00:00         240.0      5  2023        Early Morning   \n",
       "2      07:00:00  11:00:00         240.0      5  2023        Early Morning   \n",
       "3      07:00:00  11:00:00         240.0      5  2023        Early Morning   \n",
       "4      07:00:00  11:00:00         240.0      5  2023        Early Morning   \n",
       "..          ...       ...           ...    ...   ...                  ...   \n",
       "512    07:00:00  11:00:00         240.0      9  2023        Early Morning   \n",
       "513    07:00:00  11:00:00         240.0      9  2023        Early Morning   \n",
       "514    07:00:00  11:00:00         240.0      9  2023        Early Morning   \n",
       "515    07:00:00  11:00:00         240.0      9  2023        Early Morning   \n",
       "516    07:00:00  11:00:00         240.0      9  2023        Early Morning   \n",
       "\n",
       "    SHIFT_END_CATEGORY  ID_COUNT  holiday  PRCP  TMAX  TMIN  \n",
       "0              Morning      55.0        0   0.0  66.0  40.0  \n",
       "1              Morning      55.0        0   0.0  66.0  40.0  \n",
       "2              Morning      55.0        0   0.0  66.0  40.0  \n",
       "3              Morning      55.0        0   0.0  66.0  40.0  \n",
       "4              Morning      55.0        0   0.0  66.0  40.0  \n",
       "..                 ...       ...      ...   ...   ...   ...  \n",
       "512            Morning      55.0        0   0.0  72.0  48.0  \n",
       "513            Morning      55.0        0   0.0  72.0  48.0  \n",
       "514            Morning      55.0        1   0.0  78.0  53.0  \n",
       "515            Morning      55.0        1   0.0  78.0  58.0  \n",
       "516            Morning      55.0        1   0.0  85.0  61.0  \n",
       "\n",
       "[517 rows x 16 columns]"
      ]
     },
     "execution_count": 100,
     "metadata": {},
     "output_type": "execute_result"
    }
   ],
   "source": [
    "scenario2"
   ]
  },
  {
   "cell_type": "code",
   "execution_count": 101,
   "id": "32307e35-d53a-45dc-afb3-a5d53bf464a0",
   "metadata": {
    "tags": []
   },
   "outputs": [
    {
     "data": {
      "text/plain": [
       "DATE                    0\n",
       "SITE_NAME               0\n",
       "DAY_OF_WEEK             0\n",
       "PAY_VOL                 0\n",
       "SHIFT_START             0\n",
       "SHIFT_END               0\n",
       "SHIFT_LENGTH            0\n",
       "month                   0\n",
       "year                    0\n",
       "SHIFT_START_CATEGORY    0\n",
       "SHIFT_END_CATEGORY      0\n",
       "ID_COUNT                0\n",
       "holiday                 0\n",
       "PRCP                    0\n",
       "TMAX                    0\n",
       "TMIN                    0\n",
       "dtype: int64"
      ]
     },
     "execution_count": 101,
     "metadata": {},
     "output_type": "execute_result"
    }
   ],
   "source": [
    "scenario2.isna().sum()"
   ]
  },
  {
   "cell_type": "code",
   "execution_count": 103,
   "id": "986890d7-36b7-43b9-81da-28a27b967665",
   "metadata": {
    "tags": []
   },
   "outputs": [],
   "source": [
    "# Create sub scenarios:\n",
    "\n",
    "site_name_filter1 = (scenario1['SITE_NAME'] == 'Whippoorwill Road') | (scenario1['SITE_NAME'] == 'Old Kents Hill Road')\n",
    "scenario2_sub1 = scenario2[site_name_filter1].copy().sample(n=100, random_state=42)\n",
    "scenario2_sub2 = scenario2.sample(n=100, random_state=42)"
   ]
  },
  {
   "cell_type": "code",
   "execution_count": 107,
   "id": "e3b3bf68-fd43-4cb2-bd3a-9e1908efee21",
   "metadata": {
    "tags": []
   },
   "outputs": [
    {
     "data": {
      "text/plain": [
       "(100, 16)"
      ]
     },
     "execution_count": 107,
     "metadata": {},
     "output_type": "execute_result"
    }
   ],
   "source": [
    "scenario2_sub1.shape"
   ]
  },
  {
   "cell_type": "code",
   "execution_count": 106,
   "id": "4690c187-3185-4d62-bf0d-54782f3bb071",
   "metadata": {
    "tags": []
   },
   "outputs": [
    {
     "data": {
      "text/plain": [
       "(100, 16)"
      ]
     },
     "execution_count": 106,
     "metadata": {},
     "output_type": "execute_result"
    }
   ],
   "source": [
    "scenario2_sub2.shape"
   ]
  },
  {
   "cell_type": "code",
   "execution_count": 104,
   "id": "95fa6eab-1b5f-4cf1-a118-5472ac677981",
   "metadata": {
    "tags": []
   },
   "outputs": [
    {
     "name": "stdout",
     "output_type": "stream",
     "text": [
      "229.37188536068118 286.54507481297884 345.8568770759994 400.0\n"
     ]
    },
    {
     "name": "stderr",
     "output_type": "stream",
     "text": [
      "C:\\Users\\kaitl\\anaconda3\\Lib\\site-packages\\sklearn\\preprocessing\\_encoders.py:227: UserWarning: Found unknown categories in columns [1] during transform. These unknown categories will be encoded as all zeros\n",
      "  warnings.warn(\n"
     ]
    }
   ],
   "source": [
    "create_predictions_interval(scenario2_sub1)"
   ]
  },
  {
   "cell_type": "code",
   "execution_count": 105,
   "id": "a94f83ca-e19a-4c9e-adf0-1c95e420a95b",
   "metadata": {
    "tags": []
   },
   "outputs": [
    {
     "name": "stdout",
     "output_type": "stream",
     "text": [
      "162.95997963003748 216.3637654594787 271.52483484729 400.0\n"
     ]
    },
    {
     "name": "stderr",
     "output_type": "stream",
     "text": [
      "C:\\Users\\kaitl\\anaconda3\\Lib\\site-packages\\sklearn\\preprocessing\\_encoders.py:227: UserWarning: Found unknown categories in columns [1] during transform. These unknown categories will be encoded as all zeros\n",
      "  warnings.warn(\n"
     ]
    }
   ],
   "source": [
    "create_predictions_interval(scenario2_sub2)"
   ]
  },
  {
   "cell_type": "code",
   "execution_count": 111,
   "id": "55a19958-0973-451c-bc5e-70ecca3e0ea1",
   "metadata": {
    "tags": []
   },
   "outputs": [],
   "source": [
    "# Create scenario 3:\n",
    "scenario3 = combined_df[combined_df['MATCH'] == False].copy()"
   ]
  },
  {
   "cell_type": "code",
   "execution_count": 112,
   "id": "18c28bff-0ab3-4164-9e0c-83803bc61837",
   "metadata": {
    "tags": []
   },
   "outputs": [],
   "source": [
    "columns_to_fill = ['PAY_VOL', 'ID_COUNT']\n",
    "\n",
    "scenario3 = make_scenario(scenario3, columns_to_fill, '7:00', '15:00')"
   ]
  },
  {
   "cell_type": "code",
   "execution_count": 114,
   "id": "980d9dbb-bf54-4b77-8f1e-0d059ff465c3",
   "metadata": {
    "tags": []
   },
   "outputs": [],
   "source": [
    "# Create sub scenarios:\n",
    "\n",
    "site_name_filter1 = (scenario1['SITE_NAME'] == 'Whippoorwill Road') | (scenario1['SITE_NAME'] == 'Old Kents Hill Road')\n",
    "scenario3_sub1 = scenario3[site_name_filter1].copy().sample(n=100, random_state=42)\n",
    "scenario3_sub2 = scenario3.sample(n=100, random_state=42)"
   ]
  },
  {
   "cell_type": "code",
   "execution_count": 115,
   "id": "39fc65ec-316b-483b-8b1b-c74e967132c4",
   "metadata": {
    "tags": []
   },
   "outputs": [
    {
     "name": "stdout",
     "output_type": "stream",
     "text": [
      "1203.1270575004742 1344.2891496186123 1478.5513685639787 800.0\n"
     ]
    },
    {
     "name": "stderr",
     "output_type": "stream",
     "text": [
      "C:\\Users\\kaitl\\anaconda3\\Lib\\site-packages\\sklearn\\preprocessing\\_encoders.py:227: UserWarning: Found unknown categories in columns [1] during transform. These unknown categories will be encoded as all zeros\n",
      "  warnings.warn(\n"
     ]
    }
   ],
   "source": [
    "create_predictions_interval(scenario3_sub1)"
   ]
  },
  {
   "cell_type": "code",
   "execution_count": 116,
   "id": "eb57d1f3-a368-44ae-b090-986b31ea8f00",
   "metadata": {
    "tags": []
   },
   "outputs": [
    {
     "name": "stdout",
     "output_type": "stream",
     "text": [
      "1535.17272232188 1682.4466051319096 1833.7994316984157 800.0\n"
     ]
    },
    {
     "name": "stderr",
     "output_type": "stream",
     "text": [
      "C:\\Users\\kaitl\\anaconda3\\Lib\\site-packages\\sklearn\\preprocessing\\_encoders.py:227: UserWarning: Found unknown categories in columns [1] during transform. These unknown categories will be encoded as all zeros\n",
      "  warnings.warn(\n"
     ]
    }
   ],
   "source": [
    "create_predictions_interval(scenario3_sub2)"
   ]
  },
  {
   "cell_type": "code",
   "execution_count": 119,
   "id": "1076701b-cb48-422f-aafa-8f6a46d3f78c",
   "metadata": {
    "tags": []
   },
   "outputs": [],
   "source": [
    "# Scenario 4: 9:30 start\n",
    "scenario4 = combined_df[combined_df['MATCH'] == False].copy()"
   ]
  },
  {
   "cell_type": "code",
   "execution_count": 120,
   "id": "aa5166cf-2a64-453c-9191-eb93c8338f14",
   "metadata": {
    "tags": []
   },
   "outputs": [],
   "source": [
    "columns_to_fill = ['PAY_VOL', 'ID_COUNT']\n",
    "\n",
    "scenario4 = make_scenario(scenario4, columns_to_fill, '9:30', '17:30')"
   ]
  },
  {
   "cell_type": "code",
   "execution_count": 121,
   "id": "9dc2e2bf-e457-4294-8d39-6b3922ec0d67",
   "metadata": {
    "tags": []
   },
   "outputs": [],
   "source": [
    "site_name_filter1 = (scenario1['SITE_NAME'] == 'Whippoorwill Road') | (scenario1['SITE_NAME'] == 'Old Kents Hill Road')\n",
    "scenario4_sub1 = scenario4[site_name_filter1].copy().sample(n=100, random_state=42)\n",
    "scenario4_sub2 = scenario4.sample(n=100, random_state=42)"
   ]
  },
  {
   "cell_type": "code",
   "execution_count": 122,
   "id": "2f1afccc-3942-4dfc-9921-d0e4bca84f4c",
   "metadata": {
    "tags": []
   },
   "outputs": [
    {
     "name": "stdout",
     "output_type": "stream",
     "text": [
      "1334.179050571834 1504.8229154744995 1682.1909445913006 800.0\n"
     ]
    },
    {
     "name": "stderr",
     "output_type": "stream",
     "text": [
      "C:\\Users\\kaitl\\anaconda3\\Lib\\site-packages\\sklearn\\preprocessing\\_encoders.py:227: UserWarning: Found unknown categories in columns [1] during transform. These unknown categories will be encoded as all zeros\n",
      "  warnings.warn(\n"
     ]
    }
   ],
   "source": [
    "create_predictions_interval(scenario4_sub1)"
   ]
  },
  {
   "cell_type": "code",
   "execution_count": 123,
   "id": "17840bf2-9967-42dd-a18e-e63c03d9ffcc",
   "metadata": {
    "tags": []
   },
   "outputs": [
    {
     "name": "stdout",
     "output_type": "stream",
     "text": [
      "1326.3165661999908 1457.3794945412521 1607.6537690475432 800.0\n"
     ]
    },
    {
     "name": "stderr",
     "output_type": "stream",
     "text": [
      "C:\\Users\\kaitl\\anaconda3\\Lib\\site-packages\\sklearn\\preprocessing\\_encoders.py:227: UserWarning: Found unknown categories in columns [1] during transform. These unknown categories will be encoded as all zeros\n",
      "  warnings.warn(\n"
     ]
    }
   ],
   "source": [
    "create_predictions_interval(scenario4_sub2)"
   ]
  },
  {
   "cell_type": "code",
   "execution_count": 46,
   "id": "b3889cb4-e90b-49c8-89bd-6e525c4db170",
   "metadata": {},
   "outputs": [],
   "source": [
    "# Can i create a bigger function to run through each scenario and then create a dataframe of the expected hours, shifts, cost etc?"
   ]
  }
 ],
 "metadata": {
  "kernelspec": {
   "display_name": "Python 3 (ipykernel)",
   "language": "python",
   "name": "python3"
  },
  "language_info": {
   "codemirror_mode": {
    "name": "ipython",
    "version": 3
   },
   "file_extension": ".py",
   "mimetype": "text/x-python",
   "name": "python",
   "nbconvert_exporter": "python",
   "pygments_lexer": "ipython3",
   "version": "3.11.4"
  }
 },
 "nbformat": 4,
 "nbformat_minor": 5
}
