{
 "cells": [
  {
   "cell_type": "code",
   "execution_count": 1,
   "id": "d40afdad-88b1-4040-a344-fb92987d365d",
   "metadata": {
    "tags": []
   },
   "outputs": [],
   "source": [
    "import numpy as np\n",
    "import pandas as pd\n",
    "import matplotlib.pyplot as plt"
   ]
  },
  {
   "cell_type": "code",
   "execution_count": 2,
   "id": "88745a7b-200b-4a8e-b96d-1c156d1c7598",
   "metadata": {
    "tags": []
   },
   "outputs": [],
   "source": [
    "# Read in 2023 dataset and merge with webscraped data\n",
    "\n",
    "df_2023 = pd.read_csv('data/SHIFTS (2).csv')\n",
    "\n",
    "df_2022 = pd.read_csv('data/shift_details.csv')"
   ]
  },
  {
   "cell_type": "code",
   "execution_count": 3,
   "id": "963dd492-11f9-49a3-98a5-74751ea219a6",
   "metadata": {
    "tags": []
   },
   "outputs": [
    {
     "data": {
      "text/html": [
       "<div>\n",
       "<style scoped>\n",
       "    .dataframe tbody tr th:only-of-type {\n",
       "        vertical-align: middle;\n",
       "    }\n",
       "\n",
       "    .dataframe tbody tr th {\n",
       "        vertical-align: top;\n",
       "    }\n",
       "\n",
       "    .dataframe thead th {\n",
       "        text-align: right;\n",
       "    }\n",
       "</style>\n",
       "<table border=\"1\" class=\"dataframe\">\n",
       "  <thead>\n",
       "    <tr style=\"text-align: right;\">\n",
       "      <th></th>\n",
       "      <th>ObjectID</th>\n",
       "      <th>DATE1</th>\n",
       "      <th>DAY_OF_WEEK</th>\n",
       "      <th>AGENCY_DESC</th>\n",
       "      <th>SITE_NAME</th>\n",
       "      <th>TOWN</th>\n",
       "      <th>WATERBODY</th>\n",
       "      <th>FNAME</th>\n",
       "      <th>LNAME</th>\n",
       "      <th>INSPECTOR_ID</th>\n",
       "      <th>...</th>\n",
       "      <th>SHIFT_LENGTH</th>\n",
       "      <th>TRAILERS</th>\n",
       "      <th>TOTAL_NM</th>\n",
       "      <th>TOTAL_M</th>\n",
       "      <th>TOTALINSP</th>\n",
       "      <th>COMMENTS</th>\n",
       "      <th>NUMINVASIVE</th>\n",
       "      <th>GlobalID</th>\n",
       "      <th>x</th>\n",
       "      <th>y</th>\n",
       "    </tr>\n",
       "  </thead>\n",
       "  <tbody>\n",
       "    <tr>\n",
       "      <th>0</th>\n",
       "      <td>71</td>\n",
       "      <td>5/12/2023</td>\n",
       "      <td>Fri</td>\n",
       "      <td>FOCW (Friends of the Cobbossee Watershed)</td>\n",
       "      <td>Launch Drive Cobbosseecontee</td>\n",
       "      <td>Monmouth</td>\n",
       "      <td>Cobbosseecontee Lake</td>\n",
       "      <td>Emily</td>\n",
       "      <td>Lucas</td>\n",
       "      <td>5305</td>\n",
       "      <td>...</td>\n",
       "      <td>190</td>\n",
       "      <td>2.0</td>\n",
       "      <td>0.0</td>\n",
       "      <td>5</td>\n",
       "      <td>5.0</td>\n",
       "      <td>\\n</td>\n",
       "      <td>0.0</td>\n",
       "      <td>2efd8f58-5a9e-4b75-8e56-4cb720b404ab</td>\n",
       "      <td>-69.96728</td>\n",
       "      <td>44.23825</td>\n",
       "    </tr>\n",
       "    <tr>\n",
       "      <th>1</th>\n",
       "      <td>87</td>\n",
       "      <td>5/15/2023</td>\n",
       "      <td>Mon</td>\n",
       "      <td>FOCW (Friends of the Cobbossee Watershed)</td>\n",
       "      <td>Launch Drive Cobbosseecontee</td>\n",
       "      <td>Monmouth</td>\n",
       "      <td>Cobbosseecontee Lake</td>\n",
       "      <td>Jo</td>\n",
       "      <td>Parker</td>\n",
       "      <td>5582</td>\n",
       "      <td>...</td>\n",
       "      <td>177</td>\n",
       "      <td>3.0</td>\n",
       "      <td>1.0</td>\n",
       "      <td>4</td>\n",
       "      <td>5.0</td>\n",
       "      <td>NaN</td>\n",
       "      <td>0.0</td>\n",
       "      <td>79e8dad7-953c-44ea-a755-5ae798d88a0e</td>\n",
       "      <td>-69.96728</td>\n",
       "      <td>44.23825</td>\n",
       "    </tr>\n",
       "    <tr>\n",
       "      <th>2</th>\n",
       "      <td>140</td>\n",
       "      <td>5/26/2023</td>\n",
       "      <td>Fri</td>\n",
       "      <td>FOCW (Friends of the Cobbossee Watershed)</td>\n",
       "      <td>Whippoorwill Road</td>\n",
       "      <td>Litchfield</td>\n",
       "      <td>Woodbury Pond</td>\n",
       "      <td>Georgia</td>\n",
       "      <td>Howe</td>\n",
       "      <td>5714</td>\n",
       "      <td>...</td>\n",
       "      <td>420</td>\n",
       "      <td>3.0</td>\n",
       "      <td>0.0</td>\n",
       "      <td>12</td>\n",
       "      <td>12.0</td>\n",
       "      <td>NaN</td>\n",
       "      <td>0.0</td>\n",
       "      <td>0e7817d3-1b58-4126-b74e-63633c56c9b7</td>\n",
       "      <td>-69.93623</td>\n",
       "      <td>44.21212</td>\n",
       "    </tr>\n",
       "    <tr>\n",
       "      <th>3</th>\n",
       "      <td>148</td>\n",
       "      <td>5/26/2023</td>\n",
       "      <td>Fri</td>\n",
       "      <td>FOCW (Friends of the Cobbossee Watershed)</td>\n",
       "      <td>Norcross Point South Basin Maranacook</td>\n",
       "      <td>Winthrop</td>\n",
       "      <td>Maranacook Lake</td>\n",
       "      <td>Jasper</td>\n",
       "      <td>Balano-Stott</td>\n",
       "      <td>4174</td>\n",
       "      <td>...</td>\n",
       "      <td>315</td>\n",
       "      <td>0.0</td>\n",
       "      <td>0.0</td>\n",
       "      <td>8</td>\n",
       "      <td>8.0</td>\n",
       "      <td>NaN</td>\n",
       "      <td>0.0</td>\n",
       "      <td>fc2638c6-255b-4dd4-8a07-dfbaa8243f64</td>\n",
       "      <td>-69.97390</td>\n",
       "      <td>44.31010</td>\n",
       "    </tr>\n",
       "    <tr>\n",
       "      <th>4</th>\n",
       "      <td>149</td>\n",
       "      <td>5/26/2023</td>\n",
       "      <td>Fri</td>\n",
       "      <td>FOCW (Friends of the Cobbossee Watershed)</td>\n",
       "      <td>Launch Drive Cobbosseecontee</td>\n",
       "      <td>Monmouth</td>\n",
       "      <td>Cobbosseecontee Lake</td>\n",
       "      <td>Steve</td>\n",
       "      <td>Lambert</td>\n",
       "      <td>5670</td>\n",
       "      <td>...</td>\n",
       "      <td>420</td>\n",
       "      <td>4.0</td>\n",
       "      <td>0.0</td>\n",
       "      <td>31</td>\n",
       "      <td>31.0</td>\n",
       "      <td>NaN</td>\n",
       "      <td>0.0</td>\n",
       "      <td>2ae48858-7783-465d-8b28-a1f2b4eaa446</td>\n",
       "      <td>-69.96728</td>\n",
       "      <td>44.23825</td>\n",
       "    </tr>\n",
       "  </tbody>\n",
       "</table>\n",
       "<p>5 rows × 23 columns</p>\n",
       "</div>"
      ],
      "text/plain": [
       "   ObjectID      DATE1 DAY_OF_WEEK                                AGENCY_DESC  \\\n",
       "0        71  5/12/2023         Fri  FOCW (Friends of the Cobbossee Watershed)   \n",
       "1        87  5/15/2023         Mon  FOCW (Friends of the Cobbossee Watershed)   \n",
       "2       140  5/26/2023         Fri  FOCW (Friends of the Cobbossee Watershed)   \n",
       "3       148  5/26/2023         Fri  FOCW (Friends of the Cobbossee Watershed)   \n",
       "4       149  5/26/2023         Fri  FOCW (Friends of the Cobbossee Watershed)   \n",
       "\n",
       "                               SITE_NAME        TOWN             WATERBODY  \\\n",
       "0           Launch Drive Cobbosseecontee    Monmouth  Cobbosseecontee Lake   \n",
       "1           Launch Drive Cobbosseecontee    Monmouth  Cobbosseecontee Lake   \n",
       "2                      Whippoorwill Road  Litchfield         Woodbury Pond   \n",
       "3  Norcross Point South Basin Maranacook    Winthrop       Maranacook Lake   \n",
       "4           Launch Drive Cobbosseecontee    Monmouth  Cobbosseecontee Lake   \n",
       "\n",
       "     FNAME         LNAME  INSPECTOR_ID  ... SHIFT_LENGTH TRAILERS TOTAL_NM  \\\n",
       "0    Emily         Lucas          5305  ...          190      2.0      0.0   \n",
       "1       Jo        Parker          5582  ...          177      3.0      1.0   \n",
       "2  Georgia          Howe          5714  ...          420      3.0      0.0   \n",
       "3   Jasper  Balano-Stott          4174  ...          315      0.0      0.0   \n",
       "4    Steve       Lambert          5670  ...          420      4.0      0.0   \n",
       "\n",
       "   TOTAL_M  TOTALINSP  COMMENTS  NUMINVASIVE  \\\n",
       "0        5        5.0        \\n          0.0   \n",
       "1        4        5.0       NaN          0.0   \n",
       "2       12       12.0       NaN          0.0   \n",
       "3        8        8.0       NaN          0.0   \n",
       "4       31       31.0       NaN          0.0   \n",
       "\n",
       "                               GlobalID         x         y  \n",
       "0  2efd8f58-5a9e-4b75-8e56-4cb720b404ab -69.96728  44.23825  \n",
       "1  79e8dad7-953c-44ea-a755-5ae798d88a0e -69.96728  44.23825  \n",
       "2  0e7817d3-1b58-4126-b74e-63633c56c9b7 -69.93623  44.21212  \n",
       "3  fc2638c6-255b-4dd4-8a07-dfbaa8243f64 -69.97390  44.31010  \n",
       "4  2ae48858-7783-465d-8b28-a1f2b4eaa446 -69.96728  44.23825  \n",
       "\n",
       "[5 rows x 23 columns]"
      ]
     },
     "execution_count": 3,
     "metadata": {},
     "output_type": "execute_result"
    }
   ],
   "source": [
    "df_2023.head()"
   ]
  },
  {
   "cell_type": "code",
   "execution_count": 4,
   "id": "7606b511-6227-42e1-95ef-81679fbcdcb3",
   "metadata": {
    "tags": []
   },
   "outputs": [
    {
     "data": {
      "text/html": [
       "<div>\n",
       "<style scoped>\n",
       "    .dataframe tbody tr th:only-of-type {\n",
       "        vertical-align: middle;\n",
       "    }\n",
       "\n",
       "    .dataframe tbody tr th {\n",
       "        vertical-align: top;\n",
       "    }\n",
       "\n",
       "    .dataframe thead th {\n",
       "        text-align: right;\n",
       "    }\n",
       "</style>\n",
       "<table border=\"1\" class=\"dataframe\">\n",
       "  <thead>\n",
       "    <tr style=\"text-align: right;\">\n",
       "      <th></th>\n",
       "      <th>SITE_NAME</th>\n",
       "      <th>DATE</th>\n",
       "      <th>DAY</th>\n",
       "      <th>INSPECTOR_ID</th>\n",
       "      <th>PAID</th>\n",
       "      <th>START_SHIFT</th>\n",
       "      <th>END_SHIFT</th>\n",
       "      <th>INSPECTIONS</th>\n",
       "      <th>TOTALINSP</th>\n",
       "      <th>NUMINVASIVE</th>\n",
       "    </tr>\n",
       "  </thead>\n",
       "  <tbody>\n",
       "    <tr>\n",
       "      <th>0</th>\n",
       "      <td>Augusta West Kampground</td>\n",
       "      <td>08/15/2021</td>\n",
       "      <td>Sun</td>\n",
       "      <td>4769</td>\n",
       "      <td>Paid</td>\n",
       "      <td>08:00</td>\n",
       "      <td>18:00</td>\n",
       "      <td>Yes</td>\n",
       "      <td>13</td>\n",
       "      <td>NaN</td>\n",
       "    </tr>\n",
       "    <tr>\n",
       "      <th>1</th>\n",
       "      <td>Launch Drive</td>\n",
       "      <td>08/15/2021</td>\n",
       "      <td>Sun</td>\n",
       "      <td>3796</td>\n",
       "      <td>Paid</td>\n",
       "      <td>07:00</td>\n",
       "      <td>17:00</td>\n",
       "      <td>Yes</td>\n",
       "      <td>95</td>\n",
       "      <td>NaN</td>\n",
       "    </tr>\n",
       "    <tr>\n",
       "      <th>2</th>\n",
       "      <td>Old Kents Hill Road</td>\n",
       "      <td>08/15/2021</td>\n",
       "      <td>Sun</td>\n",
       "      <td>5006</td>\n",
       "      <td>Paid</td>\n",
       "      <td>13:00</td>\n",
       "      <td>19:00</td>\n",
       "      <td>Yes</td>\n",
       "      <td>4</td>\n",
       "      <td>NaN</td>\n",
       "    </tr>\n",
       "    <tr>\n",
       "      <th>3</th>\n",
       "      <td>Wilson Pond Road</td>\n",
       "      <td>08/15/2021</td>\n",
       "      <td>Sun</td>\n",
       "      <td>4174</td>\n",
       "      <td>Paid</td>\n",
       "      <td>13:00</td>\n",
       "      <td>19:00</td>\n",
       "      <td>Yes</td>\n",
       "      <td>15</td>\n",
       "      <td>NaN</td>\n",
       "    </tr>\n",
       "    <tr>\n",
       "      <th>4</th>\n",
       "      <td>Rt 41 North Basin Maranacook</td>\n",
       "      <td>08/15/2021</td>\n",
       "      <td>Sun</td>\n",
       "      <td>5353</td>\n",
       "      <td>Paid</td>\n",
       "      <td>13:00</td>\n",
       "      <td>19:00</td>\n",
       "      <td>Yes</td>\n",
       "      <td>32</td>\n",
       "      <td>NaN</td>\n",
       "    </tr>\n",
       "  </tbody>\n",
       "</table>\n",
       "</div>"
      ],
      "text/plain": [
       "                      SITE_NAME        DATE  DAY  INSPECTOR_ID  PAID  \\\n",
       "0       Augusta West Kampground  08/15/2021  Sun          4769  Paid   \n",
       "1                  Launch Drive  08/15/2021  Sun          3796  Paid   \n",
       "2           Old Kents Hill Road  08/15/2021  Sun          5006  Paid   \n",
       "3              Wilson Pond Road  08/15/2021  Sun          4174  Paid   \n",
       "4  Rt 41 North Basin Maranacook  08/15/2021  Sun          5353  Paid   \n",
       "\n",
       "  START_SHIFT END_SHIFT INSPECTIONS  TOTALINSP  NUMINVASIVE  \n",
       "0       08:00     18:00         Yes         13          NaN  \n",
       "1       07:00     17:00         Yes         95          NaN  \n",
       "2       13:00     19:00         Yes          4          NaN  \n",
       "3       13:00     19:00         Yes         15          NaN  \n",
       "4       13:00     19:00         Yes         32          NaN  "
      ]
     },
     "execution_count": 4,
     "metadata": {},
     "output_type": "execute_result"
    }
   ],
   "source": [
    "df_2022.head()"
   ]
  },
  {
   "cell_type": "code",
   "execution_count": 5,
   "id": "fd5bc460-73d2-4357-ae93-4399d79027dc",
   "metadata": {
    "tags": []
   },
   "outputs": [
    {
     "data": {
      "text/plain": [
       "(1642, 10)"
      ]
     },
     "execution_count": 5,
     "metadata": {},
     "output_type": "execute_result"
    }
   ],
   "source": [
    "df_2022.shape"
   ]
  },
  {
   "cell_type": "code",
   "execution_count": 8,
   "id": "4f4fbd98-c24a-4b64-90bb-ab9a74ccf6f7",
   "metadata": {
    "tags": []
   },
   "outputs": [
    {
     "data": {
      "text/plain": [
       "(984, 23)"
      ]
     },
     "execution_count": 8,
     "metadata": {},
     "output_type": "execute_result"
    }
   ],
   "source": [
    "df_2023.shape"
   ]
  },
  {
   "cell_type": "code",
   "execution_count": 9,
   "id": "07d47eee-458c-4860-92f2-73112abf04e7",
   "metadata": {
    "tags": []
   },
   "outputs": [
    {
     "data": {
      "text/plain": [
       "SITE_NAME         0\n",
       "DATE              0\n",
       "DAY               0\n",
       "INSPECTOR_ID      0\n",
       "PAID              0\n",
       "START_SHIFT       0\n",
       "END_SHIFT         0\n",
       "INSPECTIONS       0\n",
       "TOTALINSP         0\n",
       "NUMINVASIVE     671\n",
       "dtype: int64"
      ]
     },
     "execution_count": 9,
     "metadata": {},
     "output_type": "execute_result"
    }
   ],
   "source": [
    "df_2022.isna().sum()"
   ]
  },
  {
   "cell_type": "code",
   "execution_count": 11,
   "id": "c6d36e6b-a091-46f6-b9ac-054eec5ae5cd",
   "metadata": {
    "tags": []
   },
   "outputs": [
    {
     "data": {
      "text/plain": [
       "ObjectID          0\n",
       "DATE1             0\n",
       "DAY_OF_WEEK       0\n",
       "AGENCY_DESC       0\n",
       "SITE_NAME         0\n",
       "TOWN              0\n",
       "WATERBODY         0\n",
       "FNAME             0\n",
       "LNAME             0\n",
       "INSPECTOR_ID      0\n",
       "PAY_VOL           0\n",
       "SHIFT_START       0\n",
       "SHIFT_END         0\n",
       "SHIFT_LENGTH      0\n",
       "TRAILERS        178\n",
       "TOTAL_NM          2\n",
       "TOTAL_M           0\n",
       "TOTALINSP         2\n",
       "COMMENTS        896\n",
       "NUMINVASIVE       1\n",
       "GlobalID          0\n",
       "x                 0\n",
       "y                 0\n",
       "dtype: int64"
      ]
     },
     "execution_count": 11,
     "metadata": {},
     "output_type": "execute_result"
    }
   ],
   "source": [
    "df_2023.isna().sum()"
   ]
  },
  {
   "cell_type": "markdown",
   "id": "82baad82-8f5f-4a66-8e26-e8ca50c6ce92",
   "metadata": {},
   "source": [
    "## Data Cleaning Steps\n",
    "\n",
    "\n",
    "#### I need to drop the columns from 2023 that i don't have info for in 2022 & 2021\n",
    "- ObjectId?\n",
    "- FNAME\n",
    "- LNAME\n",
    "- TOTAL_NM\n",
    "- TOTAL_M\n",
    "- TRAILERS\n",
    "- GLOBAL_ID\n",
    "- x\n",
    "- y\n",
    "- COMMENTS\n",
    "\n",
    "#### I need to rename columns in webscraped data:\n",
    "- START_SHIFT: SHIFT_START\n",
    "- END_SHIFT: SHIFT_END\n",
    "- PAID: PAY_VOL\n",
    "- DATE: DATE1\n",
    "- DAY: DAY_OF_WEEK\n",
    "\n",
    "#### Data Cleaning df_2022:\n",
    "- I need to fill in the values for town, waterbody using df_2023\n",
    "- Create the shift length column from shift_start and shift_end\n",
    "\n",
    "\n",
    "#### Concatenate 2 dataframes then more cleaning\n",
    "- Create a new column of just month? \n",
    "- Drop if site = Lakeside Marina Cobbosseecontee\n",
    "- Drop NUM_INVASIVE or fill with 0s? (won't be used to predict number of inspections anyway...?)"
   ]
  },
  {
   "cell_type": "code",
   "execution_count": null,
   "id": "99e44e90-1e7d-4c1b-9c1a-595f4212c5ff",
   "metadata": {},
   "outputs": [],
   "source": []
  }
 ],
 "metadata": {
  "kernelspec": {
   "display_name": "Python 3 (ipykernel)",
   "language": "python",
   "name": "python3"
  },
  "language_info": {
   "codemirror_mode": {
    "name": "ipython",
    "version": 3
   },
   "file_extension": ".py",
   "mimetype": "text/x-python",
   "name": "python",
   "nbconvert_exporter": "python",
   "pygments_lexer": "ipython3",
   "version": "3.11.4"
  }
 },
 "nbformat": 4,
 "nbformat_minor": 5
}
