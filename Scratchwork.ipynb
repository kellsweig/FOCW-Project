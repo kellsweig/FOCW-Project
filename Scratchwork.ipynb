{
 "cells": [
  {
   "cell_type": "code",
   "execution_count": 1,
   "id": "af7c7cf0-38e3-48e0-a410-274c0c168228",
   "metadata": {
    "tags": []
   },
   "outputs": [
    {
     "ename": "NameError",
     "evalue": "name 'Scratchwork' is not defined",
     "output_type": "error",
     "traceback": [
      "\u001b[1;31m---------------------------------------------------------------------------\u001b[0m",
      "\u001b[1;31mNameError\u001b[0m                                 Traceback (most recent call last)",
      "Cell \u001b[1;32mIn[1], line 1\u001b[0m\n\u001b[1;32m----> 1\u001b[0m Scratchwork\n",
      "\u001b[1;31mNameError\u001b[0m: name 'Scratchwork' is not defined"
     ]
    }
   ],
   "source": [
    "# Scratchwork"
   ]
  },
  {
   "cell_type": "code",
   "execution_count": null,
   "id": "03256e92-f1b6-4368-91a0-8c6599420b9a",
   "metadata": {},
   "outputs": [],
   "source": []
  },
  {
   "cell_type": "code",
   "execution_count": null,
   "id": "3a1df29b-2e0a-40a4-bbd9-ec8f7d2be6fc",
   "metadata": {},
   "outputs": [],
   "source": [
    "# This method didn't work\n",
    "\n",
    "def extract_data_from_row(row):\n",
    "    headers = ['SITE_NAME', 'DATE', 'DAY', 'INSPECTOR_ID', 'PAY_VOL', 'START_SHIFT', 'END_SHIFT', 'INSPECTIONS', 'TOTALINSP', 'NUMINVASIVE']\n",
    "    data = {}\n",
    "    for header in headers:\n",
    "        th_tag = row.find('th', text=header)\n",
    "        td_tag = row.find('td', {'class': f'esri-feature-fields__field-data esri-feature-fields__field-data--{header.lower()}'})\n",
    "        data[header.lower()] = td_tag.text.strip() if td_tag else None\n",
    "    return data\n",
    "\n",
    "def scrape_page(url, date_range, organization):\n",
    "    # Set up Chrome WebDriver\n",
    "    driver = webdriver.Chrome()\n",
    "    driver.get(url)\n",
    "\n",
    "    try:\n",
    "        # Interaction: Select date range\n",
    "        date_range_element = WebDriverWait(driver, 10).until(\n",
    "            EC.presence_of_element_located((By.XPATH, '//span[text()=\"Select Date or Date Range\"]'))\n",
    "        )\n",
    "        date_range_element.click()\n",
    "        \n",
    "        # Assuming there's an input field for the start and end date, fill them out\n",
    "        start_date_input = driver.find_element(By.NAME, 'start_date_input')  # Replace with the actual name or identifier\n",
    "        start_date_input.clear()\n",
    "        start_date_input.send_keys(start_date)\n",
    "        \n",
    "        end_date_input = driver.find_element(By.NAME, 'end_date_input')  # Replace with the actual name or identifier\n",
    "        end_date_input.clear()\n",
    "        end_date_input.send_keys(end_date)\n",
    "\n",
    "        # Interaction: Select organization\n",
    "        organization_element = driver.find_element(By.XPATH, f'//span[text()=\"{organization}\"]')\n",
    "        organization_element.click()\n",
    "\n",
    "        # # Assuming there's a button to submit the form, click it\n",
    "        # submit_button = driver.find_element(By.XPATH, '//button[text()=\"Submit\"]')  # Replace with the actual text or identifier\n",
    "        # submit_button.click()\n",
    "\n",
    "        # Wait for the page to load after the interactions\n",
    "        time.sleep(5)  # Adjust the sleep time based on your page's loading time\n",
    "\n",
    "        # Extract data from the table\n",
    "        soup = BeautifulSoup(driver.page_source, 'html.parser')\n",
    "        table = soup.find('table', {'class': 'esri-widget__table'})\n",
    "        if not table:\n",
    "            print(\"Table not found.\")\n",
    "            return\n",
    "\n",
    "        rows = table.find_all('th')\n",
    "        for row in rows:\n",
    "            data = extract_data_from_row(row)\n",
    "            if data:\n",
    "                print(data)\n",
    "\n",
    "    finally:\n",
    "        # Close the browser\n",
    "        driver.quit()"
   ]
  },
  {
   "cell_type": "code",
   "execution_count": null,
   "id": "7993b863-b135-4051-83d5-1ec5c1c0f2b9",
   "metadata": {},
   "outputs": [],
   "source": []
  },
  {
   "cell_type": "code",
   "execution_count": 52,
   "id": "0be4f83b-c7d5-443a-9c7d-8a3010dff3f8",
   "metadata": {
    "tags": []
   },
   "outputs": [
    {
     "name": "stdout",
     "output_type": "stream",
     "text": [
      "Done sleeping\n"
     ]
    },
    {
     "ename": "NameError",
     "evalue": "name 'FOCW' is not defined",
     "output_type": "error",
     "traceback": [
      "\u001b[1;31m---------------------------------------------------------------------------\u001b[0m",
      "\u001b[1;31mNameError\u001b[0m                                 Traceback (most recent call last)",
      "Cell \u001b[1;32mIn[52], line 14\u001b[0m\n\u001b[0;32m     11\u001b[0m time\u001b[38;5;241m.\u001b[39msleep(\u001b[38;5;241m10\u001b[39m)\n\u001b[0;32m     13\u001b[0m \u001b[38;5;66;03m# Find the element using CSS selector (assuming it's a table cell with the specified aria-class)\u001b[39;00m\n\u001b[1;32m---> 14\u001b[0m element \u001b[38;5;241m=\u001b[39m driver\u001b[38;5;241m.\u001b[39mfind_element(By\u001b[38;5;241m.\u001b[39mXPATH, \u001b[38;5;124mf\u001b[39m\u001b[38;5;124m'\u001b[39m\u001b[38;5;124m//span[text()=\u001b[39m\u001b[38;5;124m\"\u001b[39m\u001b[38;5;132;01m{\u001b[39;00mFOCW\u001b[38;5;132;01m}\u001b[39;00m\u001b[38;5;124m\"\u001b[39m\u001b[38;5;124m]\u001b[39m\u001b[38;5;124m'\u001b[39m)\n\u001b[0;32m     15\u001b[0m elemnt\u001b[38;5;241m.\u001b[39mclick()\n\u001b[0;32m     17\u001b[0m time\u001b[38;5;241m.\u001b[39msleep(\u001b[38;5;241m10\u001b[39m)\n",
      "\u001b[1;31mNameError\u001b[0m: name 'FOCW' is not defined"
     ]
    }
   ],
   "source": [
    "# This method also didn't work\n",
    "\n",
    "driver = webdriver.Chrome()\n",
    "driver.get(url)\n",
    "time.sleep(10)\n",
    "print(\"Done sleeping\")\n",
    "\n",
    "# Find the button using CSS selector and click it\n",
    "btn = driver.find_element('css selector', 'span.text-ellipsis[title=\"Select Organization\"]')\n",
    "btn.click()\n",
    "\n",
    "# Sleep to allow time for the next action\n",
    "time.sleep(10)\n",
    "\n",
    "# Find the element using CSS selector (assuming it's a table cell with the specified aria-class)\n",
    "element = driver.find_element(By.XPATH, f'//span[text()=\"{FOCW}\"]')\n",
    "elemnt.click()\n",
    "\n",
    "time.sleep(10)"
   ]
  },
  {
   "cell_type": "code",
   "execution_count": null,
   "id": "972112a2-badd-4798-ac46-d081950d1d24",
   "metadata": {},
   "outputs": [],
   "source": [
    "# Didn't use this/ didn't work\n",
    "\n",
    "def extract_data_from_row(row):\n",
    "    headers = ['SITE_NAME', 'DATE', 'DAY', 'INSPECTOR_ID', 'PAY_VOL', 'START_SHIFT', 'END_SHIFT', 'INSPECTIONS', 'TOTALINSP', 'NUMINVASIVE']\n",
    "    data = {}\n",
    "    for header in headers:\n",
    "        th_tag = row.find('th', text=header)\n",
    "        td_tag = row.find('td', {'class': f'esri-feature-fields__field-data esri-feature-fields__field-data--{header.lower()}'})\n",
    "        data[header.lower()] = td_tag.text.strip() if td_tag else None\n",
    "    return data\n",
    "\n",
    "\n",
    "\n",
    "# Find the button using CSS selector and click it\n",
    "btn = driver.find_element('css selector', 'span.text-ellipsis[title=\"Select Organization\"]')\n",
    "btn.click()\n",
    "\n",
    "# Sleep to allow time for the next action\n",
    "time.sleep(10)\n",
    "\n",
    "# Find the element using CSS selector (assuming it's a table cell with the specified aria-class)\n",
    "element = driver.find_element(By.XPATH, f'//span[text()=\"{FOCW}\"]')\n",
    "elemnt.click()\n",
    "\n",
    "time.sleep(10)"
   ]
  },
  {
   "cell_type": "code",
   "execution_count": null,
   "id": "90d1ec81-53f4-4046-9a6b-1640798c9d05",
   "metadata": {},
   "outputs": [],
   "source": [
    "# Also didn't work\n",
    "driver = webdriver.Chrome()\n",
    "driver.get(url)\n",
    "time.sleep(10)\n",
    "print(\"Done sleeping\")\n",
    "\n",
    "# Find the button using CSS selector and click it\n",
    "btn = driver.find_element('css selector', 'span.text-ellipsis[title=\"Select Organization\"]')\n",
    "btn.click()\n",
    "\n",
    "# Sleep to allow time for the next action\n",
    "time.sleep(10)\n",
    "\n",
    "# Find the element using CSS selector (assuming it's a table cell with the specified aria-class)\n",
    "element = driver.find_element(By.XPATH, f'//span[text()=\"{FOCW}\"]')\n",
    "elemnt.click()\n",
    "\n",
    "time.sleep(10)"
   ]
  }
 ],
 "metadata": {
  "kernelspec": {
   "display_name": "Python 3 (ipykernel)",
   "language": "python",
   "name": "python3"
  },
  "language_info": {
   "codemirror_mode": {
    "name": "ipython",
    "version": 3
   },
   "file_extension": ".py",
   "mimetype": "text/x-python",
   "name": "python",
   "nbconvert_exporter": "python",
   "pygments_lexer": "ipython3",
   "version": "3.11.4"
  }
 },
 "nbformat": 4,
 "nbformat_minor": 5
}
