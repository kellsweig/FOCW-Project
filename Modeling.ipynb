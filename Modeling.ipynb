{
 "cells": [
  {
   "cell_type": "markdown",
   "id": "1abce18e-5b52-414a-baa4-12c0569f8951",
   "metadata": {},
   "source": [
    "# Model Development"
   ]
  },
  {
   "cell_type": "code",
   "execution_count": 9,
   "id": "61c4b192-eb67-4c49-aba9-0c1d4871be46",
   "metadata": {
    "tags": []
   },
   "outputs": [],
   "source": [
    "# Imports\n",
    "\n",
    "import numpy as np\n",
    "import pandas as pd\n",
    "import matplotlib.pyplot as plt\n",
    "\n",
    "from sklearn.linear_model import LinearRegression, ElasticNet\n",
    "from sklearn.model_selection import train_test_split, cross_val_score, GridSearchCV, RandomizedSearchCV, KFold\n",
    "from sklearn import metrics\n",
    "import statsmodels.api as sm\n",
    "\n",
    "from sklearn.preprocessing import OneHotEncoder, StandardScaler, PolynomialFeatures\n",
    "\n",
    "from sklearn.neighbors import KNeighborsRegressor\n",
    "\n",
    "from sklearn.tree import DecisionTreeRegressor, plot_tree\n",
    "from sklearn.ensemble import BaggingRegressor, VotingRegressor\n",
    "\n",
    "from sklearn.ensemble import RandomForestRegressor, ExtraTreesRegressor\n",
    "from sklearn.ensemble import AdaBoostRegressor, GradientBoostingRegressor\n",
    "\n",
    "from sklearn.pipeline import make_pipeline, Pipeline\n",
    "from scipy.stats import uniform\n",
    "\n",
    "import pickle"
   ]
  },
  {
   "cell_type": "code",
   "execution_count": 2,
   "id": "b5f78b67-e9c4-4a61-8730-a7d1b90619de",
   "metadata": {
    "tags": []
   },
   "outputs": [],
   "source": [
    "# Read in the first merged shift dataset (2021, 2022,2023) without weather or any data engineering\n",
    "shift_df = pd.read_csv('data/shift_details.csv')"
   ]
  },
  {
   "cell_type": "code",
   "execution_count": 3,
   "id": "11b17ade-a8f3-4bcc-b7de-58f11783d21b",
   "metadata": {
    "tags": []
   },
   "outputs": [
    {
     "data": {
      "text/html": [
       "<div>\n",
       "<style scoped>\n",
       "    .dataframe tbody tr th:only-of-type {\n",
       "        vertical-align: middle;\n",
       "    }\n",
       "\n",
       "    .dataframe tbody tr th {\n",
       "        vertical-align: top;\n",
       "    }\n",
       "\n",
       "    .dataframe thead th {\n",
       "        text-align: right;\n",
       "    }\n",
       "</style>\n",
       "<table border=\"1\" class=\"dataframe\">\n",
       "  <thead>\n",
       "    <tr style=\"text-align: right;\">\n",
       "      <th></th>\n",
       "      <th>SITE_NAME</th>\n",
       "      <th>DATE1</th>\n",
       "      <th>DAY_OF_WEEK</th>\n",
       "      <th>INSPECTOR_ID</th>\n",
       "      <th>PAY_VOL</th>\n",
       "      <th>SHIFT_START</th>\n",
       "      <th>SHIFT_END</th>\n",
       "      <th>TOTALINSP</th>\n",
       "      <th>NUMINVASIVE</th>\n",
       "      <th>TOWN</th>\n",
       "      <th>WATERBODY</th>\n",
       "      <th>SHIFT_LENGTH</th>\n",
       "      <th>DATE</th>\n",
       "      <th>month</th>\n",
       "      <th>year</th>\n",
       "    </tr>\n",
       "  </thead>\n",
       "  <tbody>\n",
       "    <tr>\n",
       "      <th>0</th>\n",
       "      <td>Launch Drive</td>\n",
       "      <td>05/28/2021</td>\n",
       "      <td>Fri</td>\n",
       "      <td>4771</td>\n",
       "      <td>1</td>\n",
       "      <td>12:00</td>\n",
       "      <td>18:00</td>\n",
       "      <td>33.0</td>\n",
       "      <td>0.0</td>\n",
       "      <td>Launch Drive</td>\n",
       "      <td>Cobbosseecontee Lake</td>\n",
       "      <td>360.0</td>\n",
       "      <td>2021-05-28</td>\n",
       "      <td>5</td>\n",
       "      <td>2021</td>\n",
       "    </tr>\n",
       "    <tr>\n",
       "      <th>1</th>\n",
       "      <td>East Winthrop</td>\n",
       "      <td>05/28/2021</td>\n",
       "      <td>Fri</td>\n",
       "      <td>4485</td>\n",
       "      <td>1</td>\n",
       "      <td>12:00</td>\n",
       "      <td>18:00</td>\n",
       "      <td>2.0</td>\n",
       "      <td>0.0</td>\n",
       "      <td>Winthrop</td>\n",
       "      <td>Cobbosseecontee Lake</td>\n",
       "      <td>360.0</td>\n",
       "      <td>2021-05-28</td>\n",
       "      <td>5</td>\n",
       "      <td>2021</td>\n",
       "    </tr>\n",
       "    <tr>\n",
       "      <th>2</th>\n",
       "      <td>Augusta West Kampground</td>\n",
       "      <td>05/28/2021</td>\n",
       "      <td>Fri</td>\n",
       "      <td>4769</td>\n",
       "      <td>1</td>\n",
       "      <td>12:00</td>\n",
       "      <td>18:00</td>\n",
       "      <td>1.0</td>\n",
       "      <td>0.0</td>\n",
       "      <td>Winthrop</td>\n",
       "      <td>Annabessacook Lake</td>\n",
       "      <td>360.0</td>\n",
       "      <td>2021-05-28</td>\n",
       "      <td>5</td>\n",
       "      <td>2021</td>\n",
       "    </tr>\n",
       "    <tr>\n",
       "      <th>3</th>\n",
       "      <td>Whippoorwill Road</td>\n",
       "      <td>05/28/2021</td>\n",
       "      <td>Fri</td>\n",
       "      <td>4174</td>\n",
       "      <td>1</td>\n",
       "      <td>12:00</td>\n",
       "      <td>18:00</td>\n",
       "      <td>13.0</td>\n",
       "      <td>0.0</td>\n",
       "      <td>Litchfield</td>\n",
       "      <td>Woodbury Pond</td>\n",
       "      <td>360.0</td>\n",
       "      <td>2021-05-28</td>\n",
       "      <td>5</td>\n",
       "      <td>2021</td>\n",
       "    </tr>\n",
       "    <tr>\n",
       "      <th>4</th>\n",
       "      <td>Thorofare Rd</td>\n",
       "      <td>05/29/2021</td>\n",
       "      <td>Sat</td>\n",
       "      <td>4944</td>\n",
       "      <td>1</td>\n",
       "      <td>07:00</td>\n",
       "      <td>17:00</td>\n",
       "      <td>11.0</td>\n",
       "      <td>0.0</td>\n",
       "      <td>Litchfield</td>\n",
       "      <td>Pleasant Pond</td>\n",
       "      <td>600.0</td>\n",
       "      <td>2021-05-29</td>\n",
       "      <td>5</td>\n",
       "      <td>2021</td>\n",
       "    </tr>\n",
       "  </tbody>\n",
       "</table>\n",
       "</div>"
      ],
      "text/plain": [
       "                 SITE_NAME       DATE1 DAY_OF_WEEK  INSPECTOR_ID  PAY_VOL  \\\n",
       "0             Launch Drive  05/28/2021         Fri          4771        1   \n",
       "1            East Winthrop  05/28/2021         Fri          4485        1   \n",
       "2  Augusta West Kampground  05/28/2021         Fri          4769        1   \n",
       "3        Whippoorwill Road  05/28/2021         Fri          4174        1   \n",
       "4             Thorofare Rd  05/29/2021         Sat          4944        1   \n",
       "\n",
       "  SHIFT_START SHIFT_END  TOTALINSP  NUMINVASIVE          TOWN  \\\n",
       "0       12:00     18:00       33.0          0.0  Launch Drive   \n",
       "1       12:00     18:00        2.0          0.0      Winthrop   \n",
       "2       12:00     18:00        1.0          0.0      Winthrop   \n",
       "3       12:00     18:00       13.0          0.0    Litchfield   \n",
       "4       07:00     17:00       11.0          0.0    Litchfield   \n",
       "\n",
       "              WATERBODY  SHIFT_LENGTH        DATE  month  year  \n",
       "0  Cobbosseecontee Lake         360.0  2021-05-28      5  2021  \n",
       "1  Cobbosseecontee Lake         360.0  2021-05-28      5  2021  \n",
       "2    Annabessacook Lake         360.0  2021-05-28      5  2021  \n",
       "3         Woodbury Pond         360.0  2021-05-28      5  2021  \n",
       "4         Pleasant Pond         600.0  2021-05-29      5  2021  "
      ]
     },
     "execution_count": 3,
     "metadata": {},
     "output_type": "execute_result"
    }
   ],
   "source": [
    "shift_df.head()"
   ]
  },
  {
   "cell_type": "code",
   "execution_count": 4,
   "id": "70de58d2-64c0-430b-ae76-3cf11eb361ea",
   "metadata": {
    "tags": []
   },
   "outputs": [],
   "source": [
    "# Defining X and y\n",
    "y = shift_df['TOTALINSP']\n",
    "X = shift_df.drop(columns=['DATE1', 'TOTALINSP', 'NUMINVASIVE', 'TOWN', 'WATERBODY', 'DATE', 'INSPECTOR_ID'])"
   ]
  },
  {
   "cell_type": "code",
   "execution_count": 5,
   "id": "4f93b44a-8a78-4812-b05d-797d433341de",
   "metadata": {
    "tags": []
   },
   "outputs": [],
   "source": [
    "# Train test split for evaluating model performance\n",
    "X_train, X_test, y_train, y_test = train_test_split(X, y, random_state=42, test_size=.3)"
   ]
  },
  {
   "cell_type": "code",
   "execution_count": 37,
   "id": "f2da001d-56e5-4146-a3db-cb2830686bac",
   "metadata": {
    "tags": []
   },
   "outputs": [
    {
     "data": {
      "text/html": [
       "<div>\n",
       "<style scoped>\n",
       "    .dataframe tbody tr th:only-of-type {\n",
       "        vertical-align: middle;\n",
       "    }\n",
       "\n",
       "    .dataframe tbody tr th {\n",
       "        vertical-align: top;\n",
       "    }\n",
       "\n",
       "    .dataframe thead th {\n",
       "        text-align: right;\n",
       "    }\n",
       "</style>\n",
       "<table border=\"1\" class=\"dataframe\">\n",
       "  <thead>\n",
       "    <tr style=\"text-align: right;\">\n",
       "      <th></th>\n",
       "      <th>SITE_NAME</th>\n",
       "      <th>DAY_OF_WEEK</th>\n",
       "      <th>PAY_VOL</th>\n",
       "      <th>SHIFT_START</th>\n",
       "      <th>SHIFT_END</th>\n",
       "      <th>SHIFT_LENGTH</th>\n",
       "      <th>month</th>\n",
       "      <th>year</th>\n",
       "    </tr>\n",
       "  </thead>\n",
       "  <tbody>\n",
       "    <tr>\n",
       "      <th>1510</th>\n",
       "      <td>Old Kents Hill Road</td>\n",
       "      <td>Mon</td>\n",
       "      <td>1</td>\n",
       "      <td>09:00</td>\n",
       "      <td>19:00</td>\n",
       "      <td>600.0</td>\n",
       "      <td>5</td>\n",
       "      <td>2023</td>\n",
       "    </tr>\n",
       "    <tr>\n",
       "      <th>1061</th>\n",
       "      <td>Launch Drive Cobbosseecontee</td>\n",
       "      <td>Sun</td>\n",
       "      <td>1</td>\n",
       "      <td>13:00</td>\n",
       "      <td>19:00</td>\n",
       "      <td>360.0</td>\n",
       "      <td>7</td>\n",
       "      <td>2022</td>\n",
       "    </tr>\n",
       "    <tr>\n",
       "      <th>2040</th>\n",
       "      <td>East Winthrop Cobbosseecontee</td>\n",
       "      <td>Thu</td>\n",
       "      <td>1</td>\n",
       "      <td>13:00</td>\n",
       "      <td>19:00</td>\n",
       "      <td>360.0</td>\n",
       "      <td>8</td>\n",
       "      <td>2023</td>\n",
       "    </tr>\n",
       "    <tr>\n",
       "      <th>123</th>\n",
       "      <td>Whippoorwill Road</td>\n",
       "      <td>Sun</td>\n",
       "      <td>1</td>\n",
       "      <td>13:00</td>\n",
       "      <td>19:00</td>\n",
       "      <td>360.0</td>\n",
       "      <td>6</td>\n",
       "      <td>2021</td>\n",
       "    </tr>\n",
       "    <tr>\n",
       "      <th>729</th>\n",
       "      <td>Rt 41 North Basin Maranacook</td>\n",
       "      <td>Sun</td>\n",
       "      <td>1</td>\n",
       "      <td>13:00</td>\n",
       "      <td>19:00</td>\n",
       "      <td>360.0</td>\n",
       "      <td>6</td>\n",
       "      <td>2022</td>\n",
       "    </tr>\n",
       "    <tr>\n",
       "      <th>...</th>\n",
       "      <td>...</td>\n",
       "      <td>...</td>\n",
       "      <td>...</td>\n",
       "      <td>...</td>\n",
       "      <td>...</td>\n",
       "      <td>...</td>\n",
       "      <td>...</td>\n",
       "      <td>...</td>\n",
       "    </tr>\n",
       "    <tr>\n",
       "      <th>1638</th>\n",
       "      <td>East Winthrop Cobbosseecontee</td>\n",
       "      <td>Tue</td>\n",
       "      <td>1</td>\n",
       "      <td>13:00</td>\n",
       "      <td>19:00</td>\n",
       "      <td>360.0</td>\n",
       "      <td>6</td>\n",
       "      <td>2023</td>\n",
       "    </tr>\n",
       "    <tr>\n",
       "      <th>1095</th>\n",
       "      <td>Launch Drive Cobbosseecontee</td>\n",
       "      <td>Fri</td>\n",
       "      <td>1</td>\n",
       "      <td>07:00</td>\n",
       "      <td>13:00</td>\n",
       "      <td>360.0</td>\n",
       "      <td>7</td>\n",
       "      <td>2022</td>\n",
       "    </tr>\n",
       "    <tr>\n",
       "      <th>1130</th>\n",
       "      <td>Rt 41 North Basin Maranacook</td>\n",
       "      <td>Sun</td>\n",
       "      <td>1</td>\n",
       "      <td>07:00</td>\n",
       "      <td>13:00</td>\n",
       "      <td>360.0</td>\n",
       "      <td>7</td>\n",
       "      <td>2022</td>\n",
       "    </tr>\n",
       "    <tr>\n",
       "      <th>1294</th>\n",
       "      <td>Rt 41 North Basin Maranacook</td>\n",
       "      <td>Sun</td>\n",
       "      <td>1</td>\n",
       "      <td>13:00</td>\n",
       "      <td>19:00</td>\n",
       "      <td>360.0</td>\n",
       "      <td>8</td>\n",
       "      <td>2022</td>\n",
       "    </tr>\n",
       "    <tr>\n",
       "      <th>860</th>\n",
       "      <td>Thorofare Rd</td>\n",
       "      <td>Sat</td>\n",
       "      <td>1</td>\n",
       "      <td>07:00</td>\n",
       "      <td>13:00</td>\n",
       "      <td>360.0</td>\n",
       "      <td>7</td>\n",
       "      <td>2022</td>\n",
       "    </tr>\n",
       "  </tbody>\n",
       "</table>\n",
       "<p>1596 rows × 8 columns</p>\n",
       "</div>"
      ],
      "text/plain": [
       "                          SITE_NAME DAY_OF_WEEK  PAY_VOL SHIFT_START  \\\n",
       "1510            Old Kents Hill Road         Mon        1       09:00   \n",
       "1061   Launch Drive Cobbosseecontee         Sun        1       13:00   \n",
       "2040  East Winthrop Cobbosseecontee         Thu        1       13:00   \n",
       "123               Whippoorwill Road         Sun        1       13:00   \n",
       "729    Rt 41 North Basin Maranacook         Sun        1       13:00   \n",
       "...                             ...         ...      ...         ...   \n",
       "1638  East Winthrop Cobbosseecontee         Tue        1       13:00   \n",
       "1095   Launch Drive Cobbosseecontee         Fri        1       07:00   \n",
       "1130   Rt 41 North Basin Maranacook         Sun        1       07:00   \n",
       "1294   Rt 41 North Basin Maranacook         Sun        1       13:00   \n",
       "860                    Thorofare Rd         Sat        1       07:00   \n",
       "\n",
       "     SHIFT_END  SHIFT_LENGTH  month  year  \n",
       "1510     19:00         600.0      5  2023  \n",
       "1061     19:00         360.0      7  2022  \n",
       "2040     19:00         360.0      8  2023  \n",
       "123      19:00         360.0      6  2021  \n",
       "729      19:00         360.0      6  2022  \n",
       "...        ...           ...    ...   ...  \n",
       "1638     19:00         360.0      6  2023  \n",
       "1095     13:00         360.0      7  2022  \n",
       "1130     13:00         360.0      7  2022  \n",
       "1294     19:00         360.0      8  2022  \n",
       "860      13:00         360.0      7  2022  \n",
       "\n",
       "[1596 rows x 8 columns]"
      ]
     },
     "execution_count": 37,
     "metadata": {},
     "output_type": "execute_result"
    }
   ],
   "source": [
    "X_train"
   ]
  },
  {
   "cell_type": "code",
   "execution_count": 12,
   "id": "92f245f2-3744-4753-ac3d-82342ec5c683",
   "metadata": {
    "tags": []
   },
   "outputs": [],
   "source": [
    "# Calculate the baseline r**2\n",
    "shift_df['y_preds'] = np.mean(shift_df.TOTALINSP)"
   ]
  },
  {
   "cell_type": "code",
   "execution_count": 13,
   "id": "fbae059a-f884-4879-9949-747832de013f",
   "metadata": {
    "tags": []
   },
   "outputs": [
    {
     "data": {
      "text/plain": [
       "294.8412280701754"
      ]
     },
     "execution_count": 13,
     "metadata": {},
     "output_type": "execute_result"
    }
   ],
   "source": [
    "metrics.mean_squared_error(shift_df.TOTALINSP, shift_df.y_preds)"
   ]
  },
  {
   "cell_type": "code",
   "execution_count": 15,
   "id": "842ac5d4-dca1-4bd7-96d6-611ab3d2bca1",
   "metadata": {
    "tags": []
   },
   "outputs": [
    {
     "data": {
      "text/plain": [
       "0.0"
      ]
     },
     "execution_count": 15,
     "metadata": {},
     "output_type": "execute_result"
    }
   ],
   "source": [
    "metrics.r2_score(shift_df.TOTALINSP, shift_df.y_preds)"
   ]
  },
  {
   "cell_type": "markdown",
   "id": "b6b9b44e-4342-4529-be06-6b572f143a14",
   "metadata": {},
   "source": [
    "The baseline r2 is very low. This means it will be very easy to outperform the baseline, though this will be a very low bar. \n",
    "\n",
    "### Modeling Steps:\n",
    "\n",
    "1. Create benchmark models using the default parameters and without any feature engineering or weather data\n",
    "2. Add in the weather data and re-run models\n",
    "3. Add in the engineered variables and re-run models\n",
    "4. Grid-search and random search over the parameters of the most promising models. "
   ]
  },
  {
   "cell_type": "code",
   "execution_count": 6,
   "id": "91a83b0c-70a1-464d-9db0-643b6c91ae59",
   "metadata": {
    "tags": []
   },
   "outputs": [],
   "source": [
    "# Pre-processing\n",
    "\n",
    "categorical_columns = ['SITE_NAME', 'DAY_OF_WEEK', 'month', 'year']\n",
    "oh = OneHotEncoder(handle_unknown='ignore', drop='first')\n",
    "X_train_transformed = oh.fit_transform(X_train[categorical_columns])\n",
    "X_test_transformed= oh.transform(X_test[categorical_columns])"
   ]
  },
  {
   "cell_type": "code",
   "execution_count": 43,
   "id": "46f509bf-4cb6-4676-96a7-da8c172530d2",
   "metadata": {
    "tags": []
   },
   "outputs": [
    {
     "data": {
      "text/html": [
       "<style>#sk-container-id-1 {color: black;}#sk-container-id-1 pre{padding: 0;}#sk-container-id-1 div.sk-toggleable {background-color: white;}#sk-container-id-1 label.sk-toggleable__label {cursor: pointer;display: block;width: 100%;margin-bottom: 0;padding: 0.3em;box-sizing: border-box;text-align: center;}#sk-container-id-1 label.sk-toggleable__label-arrow:before {content: \"▸\";float: left;margin-right: 0.25em;color: #696969;}#sk-container-id-1 label.sk-toggleable__label-arrow:hover:before {color: black;}#sk-container-id-1 div.sk-estimator:hover label.sk-toggleable__label-arrow:before {color: black;}#sk-container-id-1 div.sk-toggleable__content {max-height: 0;max-width: 0;overflow: hidden;text-align: left;background-color: #f0f8ff;}#sk-container-id-1 div.sk-toggleable__content pre {margin: 0.2em;color: black;border-radius: 0.25em;background-color: #f0f8ff;}#sk-container-id-1 input.sk-toggleable__control:checked~div.sk-toggleable__content {max-height: 200px;max-width: 100%;overflow: auto;}#sk-container-id-1 input.sk-toggleable__control:checked~label.sk-toggleable__label-arrow:before {content: \"▾\";}#sk-container-id-1 div.sk-estimator input.sk-toggleable__control:checked~label.sk-toggleable__label {background-color: #d4ebff;}#sk-container-id-1 div.sk-label input.sk-toggleable__control:checked~label.sk-toggleable__label {background-color: #d4ebff;}#sk-container-id-1 input.sk-hidden--visually {border: 0;clip: rect(1px 1px 1px 1px);clip: rect(1px, 1px, 1px, 1px);height: 1px;margin: -1px;overflow: hidden;padding: 0;position: absolute;width: 1px;}#sk-container-id-1 div.sk-estimator {font-family: monospace;background-color: #f0f8ff;border: 1px dotted black;border-radius: 0.25em;box-sizing: border-box;margin-bottom: 0.5em;}#sk-container-id-1 div.sk-estimator:hover {background-color: #d4ebff;}#sk-container-id-1 div.sk-parallel-item::after {content: \"\";width: 100%;border-bottom: 1px solid gray;flex-grow: 1;}#sk-container-id-1 div.sk-label:hover label.sk-toggleable__label {background-color: #d4ebff;}#sk-container-id-1 div.sk-serial::before {content: \"\";position: absolute;border-left: 1px solid gray;box-sizing: border-box;top: 0;bottom: 0;left: 50%;z-index: 0;}#sk-container-id-1 div.sk-serial {display: flex;flex-direction: column;align-items: center;background-color: white;padding-right: 0.2em;padding-left: 0.2em;position: relative;}#sk-container-id-1 div.sk-item {position: relative;z-index: 1;}#sk-container-id-1 div.sk-parallel {display: flex;align-items: stretch;justify-content: center;background-color: white;position: relative;}#sk-container-id-1 div.sk-item::before, #sk-container-id-1 div.sk-parallel-item::before {content: \"\";position: absolute;border-left: 1px solid gray;box-sizing: border-box;top: 0;bottom: 0;left: 50%;z-index: -1;}#sk-container-id-1 div.sk-parallel-item {display: flex;flex-direction: column;z-index: 1;position: relative;background-color: white;}#sk-container-id-1 div.sk-parallel-item:first-child::after {align-self: flex-end;width: 50%;}#sk-container-id-1 div.sk-parallel-item:last-child::after {align-self: flex-start;width: 50%;}#sk-container-id-1 div.sk-parallel-item:only-child::after {width: 0;}#sk-container-id-1 div.sk-dashed-wrapped {border: 1px dashed gray;margin: 0 0.4em 0.5em 0.4em;box-sizing: border-box;padding-bottom: 0.4em;background-color: white;}#sk-container-id-1 div.sk-label label {font-family: monospace;font-weight: bold;display: inline-block;line-height: 1.2em;}#sk-container-id-1 div.sk-label-container {text-align: center;}#sk-container-id-1 div.sk-container {/* jupyter's `normalize.less` sets `[hidden] { display: none; }` but bootstrap.min.css set `[hidden] { display: none !important; }` so we also need the `!important` here to be able to override the default hidden behavior on the sphinx rendered scikit-learn.org. See: https://github.com/scikit-learn/scikit-learn/issues/21755 */display: inline-block !important;position: relative;}#sk-container-id-1 div.sk-text-repr-fallback {display: none;}</style><div id=\"sk-container-id-1\" class=\"sk-top-container\"><div class=\"sk-text-repr-fallback\"><pre>LinearRegression()</pre><b>In a Jupyter environment, please rerun this cell to show the HTML representation or trust the notebook. <br />On GitHub, the HTML representation is unable to render, please try loading this page with nbviewer.org.</b></div><div class=\"sk-container\" hidden><div class=\"sk-item\"><div class=\"sk-estimator sk-toggleable\"><input class=\"sk-toggleable__control sk-hidden--visually\" id=\"sk-estimator-id-1\" type=\"checkbox\" checked><label for=\"sk-estimator-id-1\" class=\"sk-toggleable__label sk-toggleable__label-arrow\">LinearRegression</label><div class=\"sk-toggleable__content\"><pre>LinearRegression()</pre></div></div></div></div></div>"
      ],
      "text/plain": [
       "LinearRegression()"
      ]
     },
     "execution_count": 43,
     "metadata": {},
     "output_type": "execute_result"
    }
   ],
   "source": [
    "# Basic Linear Regression Model\n",
    "lr = LinearRegression()\n",
    "lr.fit(X_train_transformed, y_train)"
   ]
  },
  {
   "cell_type": "code",
   "execution_count": 44,
   "id": "0c542433-111b-4375-a30b-c19d7e983ad5",
   "metadata": {
    "tags": []
   },
   "outputs": [
    {
     "data": {
      "text/plain": [
       "0.3142477893028155"
      ]
     },
     "execution_count": 44,
     "metadata": {},
     "output_type": "execute_result"
    }
   ],
   "source": [
    "lr.score(X_train_transformed, y_train)"
   ]
  },
  {
   "cell_type": "code",
   "execution_count": 46,
   "id": "2217d7a7-5d9d-4984-a1be-3983cc17a928",
   "metadata": {
    "tags": []
   },
   "outputs": [
    {
     "data": {
      "text/plain": [
       "0.26526984756509553"
      ]
     },
     "execution_count": 46,
     "metadata": {},
     "output_type": "execute_result"
    }
   ],
   "source": [
    "lr.score(X_test_transformed, y_test)"
   ]
  },
  {
   "cell_type": "code",
   "execution_count": null,
   "id": "53a069d3-76b2-4da6-aa93-6dd5d002792c",
   "metadata": {},
   "outputs": [],
   "source": []
  },
  {
   "cell_type": "code",
   "execution_count": 16,
   "id": "9c9208c7-b135-4bea-9124-2a722447485b",
   "metadata": {
    "tags": []
   },
   "outputs": [
    {
     "name": "stdout",
     "output_type": "stream",
     "text": [
      "0.5823881813796656\n",
      "0.28061943955375523\n"
     ]
    }
   ],
   "source": [
    "# Random forest model\n",
    "rf = RandomForestRegressor(n_estimators=100, n_jobs=2, random_state=42, oob_score=True)\n",
    "rf.fit(X_train_transformed, y_train)\n",
    "print(rf.score(X_train_transformed, y_train))\n",
    "print(rf.score(X_test_transformed, y_test))"
   ]
  },
  {
   "cell_type": "code",
   "execution_count": null,
   "id": "2d3edde8-a874-429f-9738-f6ce7ff558cd",
   "metadata": {},
   "outputs": [],
   "source": []
  },
  {
   "cell_type": "code",
   "execution_count": 17,
   "id": "94be441e-da3e-4422-99b3-17c77db4e7a7",
   "metadata": {
    "tags": []
   },
   "outputs": [
    {
     "name": "stdout",
     "output_type": "stream",
     "text": [
      "0.5982039094617482\n",
      "0.19747301885075785\n"
     ]
    }
   ],
   "source": [
    "# Extra Trees model\n",
    "et = ExtraTreesRegressor(n_estimators=100, n_jobs=2, random_state=42)\n",
    "et.fit(X_train_transformed, y_train)\n",
    "print(et.score(X_train_transformed, y_train))\n",
    "print(et.score(X_test_transformed, y_test))"
   ]
  },
  {
   "cell_type": "markdown",
   "id": "8b27b17a-62b4-4e21-9239-c1c5db9a6adc",
   "metadata": {},
   "source": [
    "Both tree models are very ovefit- adding regularization and gridsearching over to find best params could improve the models and improve the testing r2. However, despite being overfit, the random forest model with an r2 of .28 is promising. Both models are potentially decent starting points and using a combination of new data (weather) and feature engineering (holidays and inspector experience) could further improve the models' success. "
   ]
  },
  {
   "cell_type": "code",
   "execution_count": 20,
   "id": "e850db90-1a2f-4a2c-b739-73f5f7e817c4",
   "metadata": {
    "tags": []
   },
   "outputs": [
    {
     "name": "stdout",
     "output_type": "stream",
     "text": [
      "0.1631178499776783\n",
      "0.057888955598118574\n"
     ]
    }
   ],
   "source": [
    "# AdaBoost Model\n",
    "ada = AdaBoostRegressor()\n",
    "ada.fit(X_train_transformed, y_train)\n",
    "print(ada.score(X_train_transformed, y_train))\n",
    "print(ada.score(X_test_transformed, y_test))"
   ]
  },
  {
   "cell_type": "code",
   "execution_count": 22,
   "id": "c168fe7e-0803-4afa-9ae1-547826dc49de",
   "metadata": {
    "tags": []
   },
   "outputs": [
    {
     "name": "stdout",
     "output_type": "stream",
     "text": [
      "0.4110300421256725\n",
      "0.2711720175379255\n"
     ]
    }
   ],
   "source": [
    "# Gradient Boost Model\n",
    "grad = GradientBoostingRegressor()\n",
    "grad.fit(X_train_transformed, y_train)\n",
    "print(grad.score(X_train_transformed, y_train))\n",
    "print(grad.score(X_test_transformed, y_test))"
   ]
  },
  {
   "cell_type": "code",
   "execution_count": null,
   "id": "e6bf174c-843f-444d-96b6-74eef3d1e35f",
   "metadata": {},
   "outputs": [],
   "source": []
  },
  {
   "cell_type": "code",
   "execution_count": 45,
   "id": "bd8217b6-eb76-43e6-b627-c775734dbb23",
   "metadata": {
    "tags": []
   },
   "outputs": [
    {
     "name": "stdout",
     "output_type": "stream",
     "text": [
      "0.5545984630282782\n",
      "0.41081113978621897\n"
     ]
    }
   ],
   "source": [
    "# KNN model\n",
    "sc = StandardScaler(with_mean=False)\n",
    "sc.fit(X2_train_transformed)\n",
    "X_train_sc = sc.transform(X2_train_transformed)\n",
    "X_test_sc = sc.transform(X2_test_transformed)\n",
    "\n",
    "knn = KNeighborsRegressor()\n",
    "knn.fit(X_train_sc, y2_train)\n",
    "print(knn.score(X_train_sc, y2_train))\n",
    "print(knn.score(X_test_sc, y2_test))"
   ]
  },
  {
   "cell_type": "code",
   "execution_count": 49,
   "id": "78ed2f84-04a6-4cf5-8bbb-0e20ce869063",
   "metadata": {
    "tags": []
   },
   "outputs": [],
   "source": [
    "param_grid = {\n",
    "    'n_neighbors': [3, 5, 7, 9, 11, 13, 15],\n",
    "    'weights': ['uniform', 'distance'],\n",
    "    'p': [1, 2, 3, 4]\n",
    "}\n",
    "# Create the KNN model\n",
    "knn = GridSearchCV(knn, param_grid, cv=5, scoring='r2')\n",
    "\n",
    "# Create GridSearchCV object\n",
    "grid_search = GridSearchCV(knn, param_grid, cv=5, scoring='r2')\n"
   ]
  },
  {
   "cell_type": "code",
   "execution_count": 50,
   "id": "a6abcb78-aad7-4ca5-98b8-475f7eef2463",
   "metadata": {
    "tags": []
   },
   "outputs": [
    {
     "ename": "ValueError",
     "evalue": "Invalid parameter 'n_neighbors' for estimator GridSearchCV(cv=5, estimator=KNeighborsRegressor(),\n             param_grid={'n_neighbors': [3, 5, 7, 9, 11, 13, 15],\n                         'p': [1, 2, 3, 4],\n                         'weights': ['uniform', 'distance']},\n             scoring='r2'). Valid parameters are: ['cv', 'error_score', 'estimator', 'n_jobs', 'param_grid', 'pre_dispatch', 'refit', 'return_train_score', 'scoring', 'verbose'].",
     "output_type": "error",
     "traceback": [
      "\u001b[1;31m---------------------------------------------------------------------------\u001b[0m",
      "\u001b[1;31mValueError\u001b[0m                                Traceback (most recent call last)",
      "File \u001b[1;32m<timed exec>:1\u001b[0m\n",
      "File \u001b[1;32m~\\anaconda3\\Lib\\site-packages\\sklearn\\base.py:1151\u001b[0m, in \u001b[0;36m_fit_context.<locals>.decorator.<locals>.wrapper\u001b[1;34m(estimator, *args, **kwargs)\u001b[0m\n\u001b[0;32m   1144\u001b[0m     estimator\u001b[38;5;241m.\u001b[39m_validate_params()\n\u001b[0;32m   1146\u001b[0m \u001b[38;5;28;01mwith\u001b[39;00m config_context(\n\u001b[0;32m   1147\u001b[0m     skip_parameter_validation\u001b[38;5;241m=\u001b[39m(\n\u001b[0;32m   1148\u001b[0m         prefer_skip_nested_validation \u001b[38;5;129;01mor\u001b[39;00m global_skip_validation\n\u001b[0;32m   1149\u001b[0m     )\n\u001b[0;32m   1150\u001b[0m ):\n\u001b[1;32m-> 1151\u001b[0m     \u001b[38;5;28;01mreturn\u001b[39;00m fit_method(estimator, \u001b[38;5;241m*\u001b[39margs, \u001b[38;5;241m*\u001b[39m\u001b[38;5;241m*\u001b[39mkwargs)\n",
      "File \u001b[1;32m~\\anaconda3\\Lib\\site-packages\\sklearn\\model_selection\\_search.py:898\u001b[0m, in \u001b[0;36mBaseSearchCV.fit\u001b[1;34m(self, X, y, groups, **fit_params)\u001b[0m\n\u001b[0;32m    892\u001b[0m     results \u001b[38;5;241m=\u001b[39m \u001b[38;5;28mself\u001b[39m\u001b[38;5;241m.\u001b[39m_format_results(\n\u001b[0;32m    893\u001b[0m         all_candidate_params, n_splits, all_out, all_more_results\n\u001b[0;32m    894\u001b[0m     )\n\u001b[0;32m    896\u001b[0m     \u001b[38;5;28;01mreturn\u001b[39;00m results\n\u001b[1;32m--> 898\u001b[0m \u001b[38;5;28mself\u001b[39m\u001b[38;5;241m.\u001b[39m_run_search(evaluate_candidates)\n\u001b[0;32m    900\u001b[0m \u001b[38;5;66;03m# multimetric is determined here because in the case of a callable\u001b[39;00m\n\u001b[0;32m    901\u001b[0m \u001b[38;5;66;03m# self.scoring the return type is only known after calling\u001b[39;00m\n\u001b[0;32m    902\u001b[0m first_test_score \u001b[38;5;241m=\u001b[39m all_out[\u001b[38;5;241m0\u001b[39m][\u001b[38;5;124m\"\u001b[39m\u001b[38;5;124mtest_scores\u001b[39m\u001b[38;5;124m\"\u001b[39m]\n",
      "File \u001b[1;32m~\\anaconda3\\Lib\\site-packages\\sklearn\\model_selection\\_search.py:1419\u001b[0m, in \u001b[0;36mGridSearchCV._run_search\u001b[1;34m(self, evaluate_candidates)\u001b[0m\n\u001b[0;32m   1417\u001b[0m \u001b[38;5;28;01mdef\u001b[39;00m \u001b[38;5;21m_run_search\u001b[39m(\u001b[38;5;28mself\u001b[39m, evaluate_candidates):\n\u001b[0;32m   1418\u001b[0m \u001b[38;5;250m    \u001b[39m\u001b[38;5;124;03m\"\"\"Search all candidates in param_grid\"\"\"\u001b[39;00m\n\u001b[1;32m-> 1419\u001b[0m     evaluate_candidates(ParameterGrid(\u001b[38;5;28mself\u001b[39m\u001b[38;5;241m.\u001b[39mparam_grid))\n",
      "File \u001b[1;32m~\\anaconda3\\Lib\\site-packages\\sklearn\\model_selection\\_search.py:845\u001b[0m, in \u001b[0;36mBaseSearchCV.fit.<locals>.evaluate_candidates\u001b[1;34m(candidate_params, cv, more_results)\u001b[0m\n\u001b[0;32m    837\u001b[0m \u001b[38;5;28;01mif\u001b[39;00m \u001b[38;5;28mself\u001b[39m\u001b[38;5;241m.\u001b[39mverbose \u001b[38;5;241m>\u001b[39m \u001b[38;5;241m0\u001b[39m:\n\u001b[0;32m    838\u001b[0m     \u001b[38;5;28mprint\u001b[39m(\n\u001b[0;32m    839\u001b[0m         \u001b[38;5;124m\"\u001b[39m\u001b[38;5;124mFitting \u001b[39m\u001b[38;5;132;01m{0}\u001b[39;00m\u001b[38;5;124m folds for each of \u001b[39m\u001b[38;5;132;01m{1}\u001b[39;00m\u001b[38;5;124m candidates,\u001b[39m\u001b[38;5;124m\"\u001b[39m\n\u001b[0;32m    840\u001b[0m         \u001b[38;5;124m\"\u001b[39m\u001b[38;5;124m totalling \u001b[39m\u001b[38;5;132;01m{2}\u001b[39;00m\u001b[38;5;124m fits\u001b[39m\u001b[38;5;124m\"\u001b[39m\u001b[38;5;241m.\u001b[39mformat(\n\u001b[0;32m    841\u001b[0m             n_splits, n_candidates, n_candidates \u001b[38;5;241m*\u001b[39m n_splits\n\u001b[0;32m    842\u001b[0m         )\n\u001b[0;32m    843\u001b[0m     )\n\u001b[1;32m--> 845\u001b[0m out \u001b[38;5;241m=\u001b[39m parallel(\n\u001b[0;32m    846\u001b[0m     delayed(_fit_and_score)(\n\u001b[0;32m    847\u001b[0m         clone(base_estimator),\n\u001b[0;32m    848\u001b[0m         X,\n\u001b[0;32m    849\u001b[0m         y,\n\u001b[0;32m    850\u001b[0m         train\u001b[38;5;241m=\u001b[39mtrain,\n\u001b[0;32m    851\u001b[0m         test\u001b[38;5;241m=\u001b[39mtest,\n\u001b[0;32m    852\u001b[0m         parameters\u001b[38;5;241m=\u001b[39mparameters,\n\u001b[0;32m    853\u001b[0m         split_progress\u001b[38;5;241m=\u001b[39m(split_idx, n_splits),\n\u001b[0;32m    854\u001b[0m         candidate_progress\u001b[38;5;241m=\u001b[39m(cand_idx, n_candidates),\n\u001b[0;32m    855\u001b[0m         \u001b[38;5;241m*\u001b[39m\u001b[38;5;241m*\u001b[39mfit_and_score_kwargs,\n\u001b[0;32m    856\u001b[0m     )\n\u001b[0;32m    857\u001b[0m     \u001b[38;5;28;01mfor\u001b[39;00m (cand_idx, parameters), (split_idx, (train, test)) \u001b[38;5;129;01min\u001b[39;00m product(\n\u001b[0;32m    858\u001b[0m         \u001b[38;5;28menumerate\u001b[39m(candidate_params), \u001b[38;5;28menumerate\u001b[39m(cv\u001b[38;5;241m.\u001b[39msplit(X, y, groups))\n\u001b[0;32m    859\u001b[0m     )\n\u001b[0;32m    860\u001b[0m )\n\u001b[0;32m    862\u001b[0m \u001b[38;5;28;01mif\u001b[39;00m \u001b[38;5;28mlen\u001b[39m(out) \u001b[38;5;241m<\u001b[39m \u001b[38;5;241m1\u001b[39m:\n\u001b[0;32m    863\u001b[0m     \u001b[38;5;28;01mraise\u001b[39;00m \u001b[38;5;167;01mValueError\u001b[39;00m(\n\u001b[0;32m    864\u001b[0m         \u001b[38;5;124m\"\u001b[39m\u001b[38;5;124mNo fits were performed. \u001b[39m\u001b[38;5;124m\"\u001b[39m\n\u001b[0;32m    865\u001b[0m         \u001b[38;5;124m\"\u001b[39m\u001b[38;5;124mWas the CV iterator empty? \u001b[39m\u001b[38;5;124m\"\u001b[39m\n\u001b[0;32m    866\u001b[0m         \u001b[38;5;124m\"\u001b[39m\u001b[38;5;124mWere there no candidates?\u001b[39m\u001b[38;5;124m\"\u001b[39m\n\u001b[0;32m    867\u001b[0m     )\n",
      "File \u001b[1;32m~\\anaconda3\\Lib\\site-packages\\sklearn\\utils\\parallel.py:65\u001b[0m, in \u001b[0;36mParallel.__call__\u001b[1;34m(self, iterable)\u001b[0m\n\u001b[0;32m     60\u001b[0m config \u001b[38;5;241m=\u001b[39m get_config()\n\u001b[0;32m     61\u001b[0m iterable_with_config \u001b[38;5;241m=\u001b[39m (\n\u001b[0;32m     62\u001b[0m     (_with_config(delayed_func, config), args, kwargs)\n\u001b[0;32m     63\u001b[0m     \u001b[38;5;28;01mfor\u001b[39;00m delayed_func, args, kwargs \u001b[38;5;129;01min\u001b[39;00m iterable\n\u001b[0;32m     64\u001b[0m )\n\u001b[1;32m---> 65\u001b[0m \u001b[38;5;28;01mreturn\u001b[39;00m \u001b[38;5;28msuper\u001b[39m()\u001b[38;5;241m.\u001b[39m\u001b[38;5;21m__call__\u001b[39m(iterable_with_config)\n",
      "File \u001b[1;32m~\\anaconda3\\Lib\\site-packages\\joblib\\parallel.py:1085\u001b[0m, in \u001b[0;36mParallel.__call__\u001b[1;34m(self, iterable)\u001b[0m\n\u001b[0;32m   1076\u001b[0m \u001b[38;5;28;01mtry\u001b[39;00m:\n\u001b[0;32m   1077\u001b[0m     \u001b[38;5;66;03m# Only set self._iterating to True if at least a batch\u001b[39;00m\n\u001b[0;32m   1078\u001b[0m     \u001b[38;5;66;03m# was dispatched. In particular this covers the edge\u001b[39;00m\n\u001b[1;32m   (...)\u001b[0m\n\u001b[0;32m   1082\u001b[0m     \u001b[38;5;66;03m# was very quick and its callback already dispatched all the\u001b[39;00m\n\u001b[0;32m   1083\u001b[0m     \u001b[38;5;66;03m# remaining jobs.\u001b[39;00m\n\u001b[0;32m   1084\u001b[0m     \u001b[38;5;28mself\u001b[39m\u001b[38;5;241m.\u001b[39m_iterating \u001b[38;5;241m=\u001b[39m \u001b[38;5;28;01mFalse\u001b[39;00m\n\u001b[1;32m-> 1085\u001b[0m     \u001b[38;5;28;01mif\u001b[39;00m \u001b[38;5;28mself\u001b[39m\u001b[38;5;241m.\u001b[39mdispatch_one_batch(iterator):\n\u001b[0;32m   1086\u001b[0m         \u001b[38;5;28mself\u001b[39m\u001b[38;5;241m.\u001b[39m_iterating \u001b[38;5;241m=\u001b[39m \u001b[38;5;28mself\u001b[39m\u001b[38;5;241m.\u001b[39m_original_iterator \u001b[38;5;129;01mis\u001b[39;00m \u001b[38;5;129;01mnot\u001b[39;00m \u001b[38;5;28;01mNone\u001b[39;00m\n\u001b[0;32m   1088\u001b[0m     \u001b[38;5;28;01mwhile\u001b[39;00m \u001b[38;5;28mself\u001b[39m\u001b[38;5;241m.\u001b[39mdispatch_one_batch(iterator):\n",
      "File \u001b[1;32m~\\anaconda3\\Lib\\site-packages\\joblib\\parallel.py:901\u001b[0m, in \u001b[0;36mParallel.dispatch_one_batch\u001b[1;34m(self, iterator)\u001b[0m\n\u001b[0;32m    899\u001b[0m     \u001b[38;5;28;01mreturn\u001b[39;00m \u001b[38;5;28;01mFalse\u001b[39;00m\n\u001b[0;32m    900\u001b[0m \u001b[38;5;28;01melse\u001b[39;00m:\n\u001b[1;32m--> 901\u001b[0m     \u001b[38;5;28mself\u001b[39m\u001b[38;5;241m.\u001b[39m_dispatch(tasks)\n\u001b[0;32m    902\u001b[0m     \u001b[38;5;28;01mreturn\u001b[39;00m \u001b[38;5;28;01mTrue\u001b[39;00m\n",
      "File \u001b[1;32m~\\anaconda3\\Lib\\site-packages\\joblib\\parallel.py:819\u001b[0m, in \u001b[0;36mParallel._dispatch\u001b[1;34m(self, batch)\u001b[0m\n\u001b[0;32m    817\u001b[0m \u001b[38;5;28;01mwith\u001b[39;00m \u001b[38;5;28mself\u001b[39m\u001b[38;5;241m.\u001b[39m_lock:\n\u001b[0;32m    818\u001b[0m     job_idx \u001b[38;5;241m=\u001b[39m \u001b[38;5;28mlen\u001b[39m(\u001b[38;5;28mself\u001b[39m\u001b[38;5;241m.\u001b[39m_jobs)\n\u001b[1;32m--> 819\u001b[0m     job \u001b[38;5;241m=\u001b[39m \u001b[38;5;28mself\u001b[39m\u001b[38;5;241m.\u001b[39m_backend\u001b[38;5;241m.\u001b[39mapply_async(batch, callback\u001b[38;5;241m=\u001b[39mcb)\n\u001b[0;32m    820\u001b[0m     \u001b[38;5;66;03m# A job can complete so quickly than its callback is\u001b[39;00m\n\u001b[0;32m    821\u001b[0m     \u001b[38;5;66;03m# called before we get here, causing self._jobs to\u001b[39;00m\n\u001b[0;32m    822\u001b[0m     \u001b[38;5;66;03m# grow. To ensure correct results ordering, .insert is\u001b[39;00m\n\u001b[0;32m    823\u001b[0m     \u001b[38;5;66;03m# used (rather than .append) in the following line\u001b[39;00m\n\u001b[0;32m    824\u001b[0m     \u001b[38;5;28mself\u001b[39m\u001b[38;5;241m.\u001b[39m_jobs\u001b[38;5;241m.\u001b[39minsert(job_idx, job)\n",
      "File \u001b[1;32m~\\anaconda3\\Lib\\site-packages\\joblib\\_parallel_backends.py:208\u001b[0m, in \u001b[0;36mSequentialBackend.apply_async\u001b[1;34m(self, func, callback)\u001b[0m\n\u001b[0;32m    206\u001b[0m \u001b[38;5;28;01mdef\u001b[39;00m \u001b[38;5;21mapply_async\u001b[39m(\u001b[38;5;28mself\u001b[39m, func, callback\u001b[38;5;241m=\u001b[39m\u001b[38;5;28;01mNone\u001b[39;00m):\n\u001b[0;32m    207\u001b[0m \u001b[38;5;250m    \u001b[39m\u001b[38;5;124;03m\"\"\"Schedule a func to be run\"\"\"\u001b[39;00m\n\u001b[1;32m--> 208\u001b[0m     result \u001b[38;5;241m=\u001b[39m ImmediateResult(func)\n\u001b[0;32m    209\u001b[0m     \u001b[38;5;28;01mif\u001b[39;00m callback:\n\u001b[0;32m    210\u001b[0m         callback(result)\n",
      "File \u001b[1;32m~\\anaconda3\\Lib\\site-packages\\joblib\\_parallel_backends.py:597\u001b[0m, in \u001b[0;36mImmediateResult.__init__\u001b[1;34m(self, batch)\u001b[0m\n\u001b[0;32m    594\u001b[0m \u001b[38;5;28;01mdef\u001b[39;00m \u001b[38;5;21m__init__\u001b[39m(\u001b[38;5;28mself\u001b[39m, batch):\n\u001b[0;32m    595\u001b[0m     \u001b[38;5;66;03m# Don't delay the application, to avoid keeping the input\u001b[39;00m\n\u001b[0;32m    596\u001b[0m     \u001b[38;5;66;03m# arguments in memory\u001b[39;00m\n\u001b[1;32m--> 597\u001b[0m     \u001b[38;5;28mself\u001b[39m\u001b[38;5;241m.\u001b[39mresults \u001b[38;5;241m=\u001b[39m batch()\n",
      "File \u001b[1;32m~\\anaconda3\\Lib\\site-packages\\joblib\\parallel.py:288\u001b[0m, in \u001b[0;36mBatchedCalls.__call__\u001b[1;34m(self)\u001b[0m\n\u001b[0;32m    284\u001b[0m \u001b[38;5;28;01mdef\u001b[39;00m \u001b[38;5;21m__call__\u001b[39m(\u001b[38;5;28mself\u001b[39m):\n\u001b[0;32m    285\u001b[0m     \u001b[38;5;66;03m# Set the default nested backend to self._backend but do not set the\u001b[39;00m\n\u001b[0;32m    286\u001b[0m     \u001b[38;5;66;03m# change the default number of processes to -1\u001b[39;00m\n\u001b[0;32m    287\u001b[0m     \u001b[38;5;28;01mwith\u001b[39;00m parallel_backend(\u001b[38;5;28mself\u001b[39m\u001b[38;5;241m.\u001b[39m_backend, n_jobs\u001b[38;5;241m=\u001b[39m\u001b[38;5;28mself\u001b[39m\u001b[38;5;241m.\u001b[39m_n_jobs):\n\u001b[1;32m--> 288\u001b[0m         \u001b[38;5;28;01mreturn\u001b[39;00m [func(\u001b[38;5;241m*\u001b[39margs, \u001b[38;5;241m*\u001b[39m\u001b[38;5;241m*\u001b[39mkwargs)\n\u001b[0;32m    289\u001b[0m                 \u001b[38;5;28;01mfor\u001b[39;00m func, args, kwargs \u001b[38;5;129;01min\u001b[39;00m \u001b[38;5;28mself\u001b[39m\u001b[38;5;241m.\u001b[39mitems]\n",
      "File \u001b[1;32m~\\anaconda3\\Lib\\site-packages\\joblib\\parallel.py:288\u001b[0m, in \u001b[0;36m<listcomp>\u001b[1;34m(.0)\u001b[0m\n\u001b[0;32m    284\u001b[0m \u001b[38;5;28;01mdef\u001b[39;00m \u001b[38;5;21m__call__\u001b[39m(\u001b[38;5;28mself\u001b[39m):\n\u001b[0;32m    285\u001b[0m     \u001b[38;5;66;03m# Set the default nested backend to self._backend but do not set the\u001b[39;00m\n\u001b[0;32m    286\u001b[0m     \u001b[38;5;66;03m# change the default number of processes to -1\u001b[39;00m\n\u001b[0;32m    287\u001b[0m     \u001b[38;5;28;01mwith\u001b[39;00m parallel_backend(\u001b[38;5;28mself\u001b[39m\u001b[38;5;241m.\u001b[39m_backend, n_jobs\u001b[38;5;241m=\u001b[39m\u001b[38;5;28mself\u001b[39m\u001b[38;5;241m.\u001b[39m_n_jobs):\n\u001b[1;32m--> 288\u001b[0m         \u001b[38;5;28;01mreturn\u001b[39;00m [func(\u001b[38;5;241m*\u001b[39margs, \u001b[38;5;241m*\u001b[39m\u001b[38;5;241m*\u001b[39mkwargs)\n\u001b[0;32m    289\u001b[0m                 \u001b[38;5;28;01mfor\u001b[39;00m func, args, kwargs \u001b[38;5;129;01min\u001b[39;00m \u001b[38;5;28mself\u001b[39m\u001b[38;5;241m.\u001b[39mitems]\n",
      "File \u001b[1;32m~\\anaconda3\\Lib\\site-packages\\sklearn\\utils\\parallel.py:127\u001b[0m, in \u001b[0;36m_FuncWrapper.__call__\u001b[1;34m(self, *args, **kwargs)\u001b[0m\n\u001b[0;32m    125\u001b[0m     config \u001b[38;5;241m=\u001b[39m {}\n\u001b[0;32m    126\u001b[0m \u001b[38;5;28;01mwith\u001b[39;00m config_context(\u001b[38;5;241m*\u001b[39m\u001b[38;5;241m*\u001b[39mconfig):\n\u001b[1;32m--> 127\u001b[0m     \u001b[38;5;28;01mreturn\u001b[39;00m \u001b[38;5;28mself\u001b[39m\u001b[38;5;241m.\u001b[39mfunction(\u001b[38;5;241m*\u001b[39margs, \u001b[38;5;241m*\u001b[39m\u001b[38;5;241m*\u001b[39mkwargs)\n",
      "File \u001b[1;32m~\\anaconda3\\Lib\\site-packages\\sklearn\\model_selection\\_validation.py:720\u001b[0m, in \u001b[0;36m_fit_and_score\u001b[1;34m(estimator, X, y, scorer, train, test, verbose, parameters, fit_params, return_train_score, return_parameters, return_n_test_samples, return_times, return_estimator, split_progress, candidate_progress, error_score)\u001b[0m\n\u001b[0;32m    717\u001b[0m     \u001b[38;5;28;01mfor\u001b[39;00m k, v \u001b[38;5;129;01min\u001b[39;00m parameters\u001b[38;5;241m.\u001b[39mitems():\n\u001b[0;32m    718\u001b[0m         cloned_parameters[k] \u001b[38;5;241m=\u001b[39m clone(v, safe\u001b[38;5;241m=\u001b[39m\u001b[38;5;28;01mFalse\u001b[39;00m)\n\u001b[1;32m--> 720\u001b[0m     estimator \u001b[38;5;241m=\u001b[39m estimator\u001b[38;5;241m.\u001b[39mset_params(\u001b[38;5;241m*\u001b[39m\u001b[38;5;241m*\u001b[39mcloned_parameters)\n\u001b[0;32m    722\u001b[0m start_time \u001b[38;5;241m=\u001b[39m time\u001b[38;5;241m.\u001b[39mtime()\n\u001b[0;32m    724\u001b[0m X_train, y_train \u001b[38;5;241m=\u001b[39m _safe_split(estimator, X, y, train)\n",
      "File \u001b[1;32m~\\anaconda3\\Lib\\site-packages\\sklearn\\base.py:229\u001b[0m, in \u001b[0;36mBaseEstimator.set_params\u001b[1;34m(self, **params)\u001b[0m\n\u001b[0;32m    227\u001b[0m \u001b[38;5;28;01mif\u001b[39;00m key \u001b[38;5;129;01mnot\u001b[39;00m \u001b[38;5;129;01min\u001b[39;00m valid_params:\n\u001b[0;32m    228\u001b[0m     local_valid_params \u001b[38;5;241m=\u001b[39m \u001b[38;5;28mself\u001b[39m\u001b[38;5;241m.\u001b[39m_get_param_names()\n\u001b[1;32m--> 229\u001b[0m     \u001b[38;5;28;01mraise\u001b[39;00m \u001b[38;5;167;01mValueError\u001b[39;00m(\n\u001b[0;32m    230\u001b[0m         \u001b[38;5;124mf\u001b[39m\u001b[38;5;124m\"\u001b[39m\u001b[38;5;124mInvalid parameter \u001b[39m\u001b[38;5;132;01m{\u001b[39;00mkey\u001b[38;5;132;01m!r}\u001b[39;00m\u001b[38;5;124m for estimator \u001b[39m\u001b[38;5;132;01m{\u001b[39;00m\u001b[38;5;28mself\u001b[39m\u001b[38;5;132;01m}\u001b[39;00m\u001b[38;5;124m. \u001b[39m\u001b[38;5;124m\"\u001b[39m\n\u001b[0;32m    231\u001b[0m         \u001b[38;5;124mf\u001b[39m\u001b[38;5;124m\"\u001b[39m\u001b[38;5;124mValid parameters are: \u001b[39m\u001b[38;5;132;01m{\u001b[39;00mlocal_valid_params\u001b[38;5;132;01m!r}\u001b[39;00m\u001b[38;5;124m.\u001b[39m\u001b[38;5;124m\"\u001b[39m\n\u001b[0;32m    232\u001b[0m     )\n\u001b[0;32m    234\u001b[0m \u001b[38;5;28;01mif\u001b[39;00m delim:\n\u001b[0;32m    235\u001b[0m     nested_params[key][sub_key] \u001b[38;5;241m=\u001b[39m value\n",
      "\u001b[1;31mValueError\u001b[0m: Invalid parameter 'n_neighbors' for estimator GridSearchCV(cv=5, estimator=KNeighborsRegressor(),\n             param_grid={'n_neighbors': [3, 5, 7, 9, 11, 13, 15],\n                         'p': [1, 2, 3, 4],\n                         'weights': ['uniform', 'distance']},\n             scoring='r2'). Valid parameters are: ['cv', 'error_score', 'estimator', 'n_jobs', 'param_grid', 'pre_dispatch', 'refit', 'return_train_score', 'scoring', 'verbose']."
     ]
    }
   ],
   "source": [
    "%%time\n",
    "grid_search.fit(X_train_sc, y2_train)\n",
    "print(grid_search.score(X_train_sc, y2_train))\n",
    "print(grid_search.score(X_test_sc, y2_test))\n",
    "print(\"Best Parameters:\", grid_search.best_params_)\n",
    "print(\"Best R^2 Score:\", grid_search.best_score_)"
   ]
  },
  {
   "cell_type": "code",
   "execution_count": 51,
   "id": "35243fc2-efe4-4605-8abb-713ef6361119",
   "metadata": {
    "tags": []
   },
   "outputs": [
    {
     "name": "stdout",
     "output_type": "stream",
     "text": [
      "CPU times: total: 13.9 s\n",
      "Wall time: 7.44 s\n",
      "0.4861729171213851\n",
      "0.4115539078442356\n",
      "Best Parameters: {'n_neighbors': 11, 'p': 2, 'weights': 'uniform'}\n",
      "Best R^2 Score: 0.38692820928209193\n"
     ]
    },
    {
     "name": "stderr",
     "output_type": "stream",
     "text": [
      "C:\\Users\\kaitl\\anaconda3\\Lib\\site-packages\\sklearn\\model_selection\\_validation.py:425: FitFailedWarning: \n",
      "140 fits failed out of a total of 280.\n",
      "The score on these train-test partitions for these parameters will be set to nan.\n",
      "If these failures are not expected, you can try to debug them by setting error_score='raise'.\n",
      "\n",
      "Below are more details about the failures:\n",
      "--------------------------------------------------------------------------------\n",
      "140 fits failed with the following error:\n",
      "Traceback (most recent call last):\n",
      "  File \"C:\\Users\\kaitl\\anaconda3\\Lib\\site-packages\\sklearn\\model_selection\\_validation.py\", line 732, in _fit_and_score\n",
      "    estimator.fit(X_train, y_train, **fit_params)\n",
      "  File \"C:\\Users\\kaitl\\anaconda3\\Lib\\site-packages\\sklearn\\base.py\", line 1151, in wrapper\n",
      "    return fit_method(estimator, *args, **kwargs)\n",
      "           ^^^^^^^^^^^^^^^^^^^^^^^^^^^^^^^^^^^^^^\n",
      "  File \"C:\\Users\\kaitl\\anaconda3\\Lib\\site-packages\\sklearn\\neighbors\\_regression.py\", line 218, in fit\n",
      "    return self._fit(X, y)\n",
      "           ^^^^^^^^^^^^^^^\n",
      "  File \"C:\\Users\\kaitl\\anaconda3\\Lib\\site-packages\\sklearn\\neighbors\\_base.py\", line 569, in _fit\n",
      "    raise ValueError(\n",
      "ValueError: Metric 'minkowski' not valid for sparse input. Use sorted(sklearn.neighbors.VALID_METRICS_SPARSE['brute']) to get valid options. Metric can also be a callable function.\n",
      "\n",
      "  warnings.warn(some_fits_failed_message, FitFailedWarning)\n",
      "C:\\Users\\kaitl\\anaconda3\\Lib\\site-packages\\sklearn\\model_selection\\_search.py:976: UserWarning: One or more of the test scores are non-finite: [0.23919613 0.13466452 0.25990083 0.15350671        nan        nan\n",
      "        nan        nan 0.31158666 0.17760951 0.32050729 0.18677719\n",
      "        nan        nan        nan        nan 0.35382343 0.19330158\n",
      " 0.35953865 0.19763455        nan        nan        nan        nan\n",
      " 0.37496193 0.20943319 0.37442911 0.20745473        nan        nan\n",
      "        nan        nan 0.38514777 0.21364671 0.38692821 0.21296074\n",
      "        nan        nan        nan        nan 0.38226735 0.21614644\n",
      " 0.378411   0.21663002        nan        nan        nan        nan\n",
      " 0.38140335 0.21819962 0.3787639  0.22000236        nan        nan\n",
      "        nan        nan]\n",
      "  warnings.warn(\n"
     ]
    }
   ],
   "source": [
    "param_grid = {\n",
    "    'n_neighbors': [3, 5, 7, 9, 11, 13, 15],\n",
    "    'weights': ['uniform', 'distance'],\n",
    "    'p': [1, 2, 3, 4]\n",
    "}\n",
    "\n",
    "# Create the KNN model\n",
    "knn = KNeighborsRegressor()\n",
    "\n",
    "# Create StandardScaler\n",
    "sc = StandardScaler(with_mean=False)\n",
    "sc.fit(X2_train_transformed)\n",
    "X_train_sc = sc.transform(X2_train_transformed)\n",
    "X_test_sc = sc.transform(X2_test_transformed)\n",
    "\n",
    "# Create GridSearchCV object\n",
    "grid_search = GridSearchCV(knn, param_grid, cv=5, scoring='r2')\n",
    "%time grid_search.fit(X_train_sc, y2_train)\n",
    "\n",
    "print(grid_search.score(X_train_sc, y2_train))\n",
    "print(grid_search.score(X_test_sc, y2_test))\n",
    "print(\"Best Parameters:\", grid_search.best_params_)\n",
    "print(\"Best R^2 Score:\", grid_search.best_score_)"
   ]
  },
  {
   "cell_type": "markdown",
   "id": "8c039359-0622-4d19-b3ee-bbb6085e16df",
   "metadata": {},
   "source": [
    "### Adding weather data"
   ]
  },
  {
   "cell_type": "code",
   "execution_count": 2,
   "id": "c52a266a-2b6b-4202-be6b-07e3b428ce9e",
   "metadata": {},
   "outputs": [],
   "source": [
    "# Reading in the initial df with weather\n",
    "\n",
    "df = pd.read_csv('data/df_with_weather.csv')"
   ]
  },
  {
   "cell_type": "code",
   "execution_count": 3,
   "id": "7306d7ea-22a1-4493-85b6-e417c0b0956d",
   "metadata": {
    "tags": []
   },
   "outputs": [
    {
     "data": {
      "text/html": [
       "<div>\n",
       "<style scoped>\n",
       "    .dataframe tbody tr th:only-of-type {\n",
       "        vertical-align: middle;\n",
       "    }\n",
       "\n",
       "    .dataframe tbody tr th {\n",
       "        vertical-align: top;\n",
       "    }\n",
       "\n",
       "    .dataframe thead th {\n",
       "        text-align: right;\n",
       "    }\n",
       "</style>\n",
       "<table border=\"1\" class=\"dataframe\">\n",
       "  <thead>\n",
       "    <tr style=\"text-align: right;\">\n",
       "      <th></th>\n",
       "      <th>DATE1</th>\n",
       "      <th>DAY_OF_WEEK</th>\n",
       "      <th>SITE_NAME</th>\n",
       "      <th>TOWN</th>\n",
       "      <th>WATERBODY</th>\n",
       "      <th>INSPECTOR_ID</th>\n",
       "      <th>PAY_VOL</th>\n",
       "      <th>SHIFT_START</th>\n",
       "      <th>TRAILERS</th>\n",
       "      <th>SHIFT_END</th>\n",
       "      <th>SHIFT_LENGTH</th>\n",
       "      <th>TOTALINSP</th>\n",
       "      <th>PRCP</th>\n",
       "      <th>TMAX</th>\n",
       "      <th>TMIN</th>\n",
       "      <th>TOBS</th>\n",
       "    </tr>\n",
       "  </thead>\n",
       "  <tbody>\n",
       "    <tr>\n",
       "      <th>0</th>\n",
       "      <td>2021-05-28</td>\n",
       "      <td>Fri</td>\n",
       "      <td>Launch Drive</td>\n",
       "      <td>Monmouth</td>\n",
       "      <td>Cobbosseecontee Lake</td>\n",
       "      <td>4771</td>\n",
       "      <td>Paid</td>\n",
       "      <td>12:00</td>\n",
       "      <td>10.0</td>\n",
       "      <td>18:00</td>\n",
       "      <td>360</td>\n",
       "      <td>33.0</td>\n",
       "      <td>0.00</td>\n",
       "      <td>72.0</td>\n",
       "      <td>45.0</td>\n",
       "      <td>49.0</td>\n",
       "    </tr>\n",
       "    <tr>\n",
       "      <th>1</th>\n",
       "      <td>2021-05-28</td>\n",
       "      <td>Fri</td>\n",
       "      <td>Whippoorwill Road</td>\n",
       "      <td>Litchfield</td>\n",
       "      <td>Woodbury Pond</td>\n",
       "      <td>4174</td>\n",
       "      <td>Paid</td>\n",
       "      <td>12:00</td>\n",
       "      <td>1.0</td>\n",
       "      <td>18:00</td>\n",
       "      <td>360</td>\n",
       "      <td>13.0</td>\n",
       "      <td>0.00</td>\n",
       "      <td>72.0</td>\n",
       "      <td>45.0</td>\n",
       "      <td>49.0</td>\n",
       "    </tr>\n",
       "    <tr>\n",
       "      <th>2</th>\n",
       "      <td>2021-05-28</td>\n",
       "      <td>Fri</td>\n",
       "      <td>Augusta West Kampground</td>\n",
       "      <td>Winthrop</td>\n",
       "      <td>Annabessacook Lake</td>\n",
       "      <td>4769</td>\n",
       "      <td>Paid</td>\n",
       "      <td>12:00</td>\n",
       "      <td>0.0</td>\n",
       "      <td>18:00</td>\n",
       "      <td>360</td>\n",
       "      <td>1.0</td>\n",
       "      <td>0.00</td>\n",
       "      <td>72.0</td>\n",
       "      <td>45.0</td>\n",
       "      <td>49.0</td>\n",
       "    </tr>\n",
       "    <tr>\n",
       "      <th>3</th>\n",
       "      <td>2021-05-28</td>\n",
       "      <td>Fri</td>\n",
       "      <td>East Winthrop</td>\n",
       "      <td>Winthrop</td>\n",
       "      <td>Cobbosseecontee Lake</td>\n",
       "      <td>4485</td>\n",
       "      <td>Paid</td>\n",
       "      <td>12:00</td>\n",
       "      <td>1.0</td>\n",
       "      <td>18:00</td>\n",
       "      <td>360</td>\n",
       "      <td>2.0</td>\n",
       "      <td>0.00</td>\n",
       "      <td>72.0</td>\n",
       "      <td>45.0</td>\n",
       "      <td>49.0</td>\n",
       "    </tr>\n",
       "    <tr>\n",
       "      <th>4</th>\n",
       "      <td>2021-05-29</td>\n",
       "      <td>Sat</td>\n",
       "      <td>Thorofare Rd</td>\n",
       "      <td>Litchfield</td>\n",
       "      <td>Pleasant Pond</td>\n",
       "      <td>4944</td>\n",
       "      <td>Paid</td>\n",
       "      <td>7:00</td>\n",
       "      <td>1.0</td>\n",
       "      <td>17:00</td>\n",
       "      <td>600</td>\n",
       "      <td>11.0</td>\n",
       "      <td>0.02</td>\n",
       "      <td>62.0</td>\n",
       "      <td>45.0</td>\n",
       "      <td>46.0</td>\n",
       "    </tr>\n",
       "  </tbody>\n",
       "</table>\n",
       "</div>"
      ],
      "text/plain": [
       "        DATE1 DAY_OF_WEEK                SITE_NAME        TOWN  \\\n",
       "0  2021-05-28         Fri             Launch Drive    Monmouth   \n",
       "1  2021-05-28         Fri        Whippoorwill Road  Litchfield   \n",
       "2  2021-05-28         Fri  Augusta West Kampground    Winthrop   \n",
       "3  2021-05-28         Fri            East Winthrop    Winthrop   \n",
       "4  2021-05-29         Sat             Thorofare Rd  Litchfield   \n",
       "\n",
       "              WATERBODY  INSPECTOR_ID PAY_VOL SHIFT_START  TRAILERS SHIFT_END  \\\n",
       "0  Cobbosseecontee Lake          4771    Paid       12:00      10.0     18:00   \n",
       "1         Woodbury Pond          4174    Paid       12:00       1.0     18:00   \n",
       "2    Annabessacook Lake          4769    Paid       12:00       0.0     18:00   \n",
       "3  Cobbosseecontee Lake          4485    Paid       12:00       1.0     18:00   \n",
       "4         Pleasant Pond          4944    Paid        7:00       1.0     17:00   \n",
       "\n",
       "   SHIFT_LENGTH  TOTALINSP  PRCP  TMAX  TMIN  TOBS  \n",
       "0           360       33.0  0.00  72.0  45.0  49.0  \n",
       "1           360       13.0  0.00  72.0  45.0  49.0  \n",
       "2           360        1.0  0.00  72.0  45.0  49.0  \n",
       "3           360        2.0  0.00  72.0  45.0  49.0  \n",
       "4           600       11.0  0.02  62.0  45.0  46.0  "
      ]
     },
     "execution_count": 3,
     "metadata": {},
     "output_type": "execute_result"
    }
   ],
   "source": [
    "df.head()"
   ]
  },
  {
   "cell_type": "code",
   "execution_count": 96,
   "id": "53d6fa3a-864e-4e62-8818-94042504e08d",
   "metadata": {
    "tags": []
   },
   "outputs": [],
   "source": [
    "df.drop(columns=['TRAILERS'], inplace=True)"
   ]
  },
  {
   "cell_type": "code",
   "execution_count": 97,
   "id": "4b8e4bf7-9aa1-470c-a7b7-5070c2a4fa20",
   "metadata": {
    "tags": []
   },
   "outputs": [
    {
     "data": {
      "text/plain": [
       "DATE1            0\n",
       "DAY_OF_WEEK      0\n",
       "SITE_NAME        0\n",
       "TOWN             0\n",
       "WATERBODY        0\n",
       "INSPECTOR_ID     0\n",
       "PAY_VOL          0\n",
       "SHIFT_START      0\n",
       "SHIFT_END        0\n",
       "SHIFT_LENGTH     0\n",
       "TOTALINSP        2\n",
       "PRCP            27\n",
       "TMAX            91\n",
       "TMIN            95\n",
       "TOBS            55\n",
       "dtype: int64"
      ]
     },
     "execution_count": 97,
     "metadata": {},
     "output_type": "execute_result"
    }
   ],
   "source": [
    "df.isna().sum()"
   ]
  },
  {
   "cell_type": "code",
   "execution_count": 98,
   "id": "4acce550-45ee-41f2-94a8-48af5899121c",
   "metadata": {
    "tags": []
   },
   "outputs": [
    {
     "data": {
      "text/plain": [
       "(2669, 15)"
      ]
     },
     "execution_count": 98,
     "metadata": {},
     "output_type": "execute_result"
    }
   ],
   "source": [
    "df.shape"
   ]
  },
  {
   "cell_type": "code",
   "execution_count": 99,
   "id": "3e3416dc-0a38-4072-aab3-4fc88d9d94b8",
   "metadata": {
    "tags": []
   },
   "outputs": [],
   "source": [
    "df.dropna(inplace=True)"
   ]
  },
  {
   "cell_type": "code",
   "execution_count": 100,
   "id": "5be123fd-4aef-4d8b-b984-cb93c7d810b1",
   "metadata": {
    "tags": []
   },
   "outputs": [
    {
     "data": {
      "text/plain": [
       "DATE1           0\n",
       "DAY_OF_WEEK     0\n",
       "SITE_NAME       0\n",
       "TOWN            0\n",
       "WATERBODY       0\n",
       "INSPECTOR_ID    0\n",
       "PAY_VOL         0\n",
       "SHIFT_START     0\n",
       "SHIFT_END       0\n",
       "SHIFT_LENGTH    0\n",
       "TOTALINSP       0\n",
       "PRCP            0\n",
       "TMAX            0\n",
       "TMIN            0\n",
       "TOBS            0\n",
       "dtype: int64"
      ]
     },
     "execution_count": 100,
     "metadata": {},
     "output_type": "execute_result"
    }
   ],
   "source": [
    "df.isna().sum()"
   ]
  },
  {
   "cell_type": "code",
   "execution_count": 101,
   "id": "cc984333-1a09-4690-b294-c3f5f1f83a27",
   "metadata": {
    "tags": []
   },
   "outputs": [
    {
     "data": {
      "text/plain": [
       "(2565, 15)"
      ]
     },
     "execution_count": 101,
     "metadata": {},
     "output_type": "execute_result"
    }
   ],
   "source": [
    "df.shape"
   ]
  },
  {
   "cell_type": "code",
   "execution_count": 102,
   "id": "3563a2bb-08ab-4c0f-8c3d-325183999f7f",
   "metadata": {
    "tags": []
   },
   "outputs": [
    {
     "data": {
      "text/html": [
       "<div>\n",
       "<style scoped>\n",
       "    .dataframe tbody tr th:only-of-type {\n",
       "        vertical-align: middle;\n",
       "    }\n",
       "\n",
       "    .dataframe tbody tr th {\n",
       "        vertical-align: top;\n",
       "    }\n",
       "\n",
       "    .dataframe thead th {\n",
       "        text-align: right;\n",
       "    }\n",
       "</style>\n",
       "<table border=\"1\" class=\"dataframe\">\n",
       "  <thead>\n",
       "    <tr style=\"text-align: right;\">\n",
       "      <th></th>\n",
       "      <th>DATE1</th>\n",
       "      <th>DAY_OF_WEEK</th>\n",
       "      <th>SITE_NAME</th>\n",
       "      <th>TOWN</th>\n",
       "      <th>WATERBODY</th>\n",
       "      <th>INSPECTOR_ID</th>\n",
       "      <th>PAY_VOL</th>\n",
       "      <th>SHIFT_START</th>\n",
       "      <th>SHIFT_END</th>\n",
       "      <th>SHIFT_LENGTH</th>\n",
       "      <th>TOTALINSP</th>\n",
       "      <th>PRCP</th>\n",
       "      <th>TMAX</th>\n",
       "      <th>TMIN</th>\n",
       "      <th>TOBS</th>\n",
       "    </tr>\n",
       "  </thead>\n",
       "  <tbody>\n",
       "    <tr>\n",
       "      <th>0</th>\n",
       "      <td>2021-05-28</td>\n",
       "      <td>Fri</td>\n",
       "      <td>Launch Drive</td>\n",
       "      <td>Monmouth</td>\n",
       "      <td>Cobbosseecontee Lake</td>\n",
       "      <td>4771</td>\n",
       "      <td>Paid</td>\n",
       "      <td>12:00</td>\n",
       "      <td>18:00</td>\n",
       "      <td>360</td>\n",
       "      <td>33.0</td>\n",
       "      <td>0.00</td>\n",
       "      <td>72.0</td>\n",
       "      <td>45.0</td>\n",
       "      <td>49.0</td>\n",
       "    </tr>\n",
       "    <tr>\n",
       "      <th>1</th>\n",
       "      <td>2021-05-28</td>\n",
       "      <td>Fri</td>\n",
       "      <td>Whippoorwill Road</td>\n",
       "      <td>Litchfield</td>\n",
       "      <td>Woodbury Pond</td>\n",
       "      <td>4174</td>\n",
       "      <td>Paid</td>\n",
       "      <td>12:00</td>\n",
       "      <td>18:00</td>\n",
       "      <td>360</td>\n",
       "      <td>13.0</td>\n",
       "      <td>0.00</td>\n",
       "      <td>72.0</td>\n",
       "      <td>45.0</td>\n",
       "      <td>49.0</td>\n",
       "    </tr>\n",
       "    <tr>\n",
       "      <th>2</th>\n",
       "      <td>2021-05-28</td>\n",
       "      <td>Fri</td>\n",
       "      <td>Augusta West Kampground</td>\n",
       "      <td>Winthrop</td>\n",
       "      <td>Annabessacook Lake</td>\n",
       "      <td>4769</td>\n",
       "      <td>Paid</td>\n",
       "      <td>12:00</td>\n",
       "      <td>18:00</td>\n",
       "      <td>360</td>\n",
       "      <td>1.0</td>\n",
       "      <td>0.00</td>\n",
       "      <td>72.0</td>\n",
       "      <td>45.0</td>\n",
       "      <td>49.0</td>\n",
       "    </tr>\n",
       "    <tr>\n",
       "      <th>3</th>\n",
       "      <td>2021-05-28</td>\n",
       "      <td>Fri</td>\n",
       "      <td>East Winthrop</td>\n",
       "      <td>Winthrop</td>\n",
       "      <td>Cobbosseecontee Lake</td>\n",
       "      <td>4485</td>\n",
       "      <td>Paid</td>\n",
       "      <td>12:00</td>\n",
       "      <td>18:00</td>\n",
       "      <td>360</td>\n",
       "      <td>2.0</td>\n",
       "      <td>0.00</td>\n",
       "      <td>72.0</td>\n",
       "      <td>45.0</td>\n",
       "      <td>49.0</td>\n",
       "    </tr>\n",
       "    <tr>\n",
       "      <th>4</th>\n",
       "      <td>2021-05-29</td>\n",
       "      <td>Sat</td>\n",
       "      <td>Thorofare Rd</td>\n",
       "      <td>Litchfield</td>\n",
       "      <td>Pleasant Pond</td>\n",
       "      <td>4944</td>\n",
       "      <td>Paid</td>\n",
       "      <td>7:00</td>\n",
       "      <td>17:00</td>\n",
       "      <td>600</td>\n",
       "      <td>11.0</td>\n",
       "      <td>0.02</td>\n",
       "      <td>62.0</td>\n",
       "      <td>45.0</td>\n",
       "      <td>46.0</td>\n",
       "    </tr>\n",
       "  </tbody>\n",
       "</table>\n",
       "</div>"
      ],
      "text/plain": [
       "        DATE1 DAY_OF_WEEK                SITE_NAME        TOWN  \\\n",
       "0  2021-05-28         Fri             Launch Drive    Monmouth   \n",
       "1  2021-05-28         Fri        Whippoorwill Road  Litchfield   \n",
       "2  2021-05-28         Fri  Augusta West Kampground    Winthrop   \n",
       "3  2021-05-28         Fri            East Winthrop    Winthrop   \n",
       "4  2021-05-29         Sat             Thorofare Rd  Litchfield   \n",
       "\n",
       "              WATERBODY  INSPECTOR_ID PAY_VOL SHIFT_START SHIFT_END  \\\n",
       "0  Cobbosseecontee Lake          4771    Paid       12:00     18:00   \n",
       "1         Woodbury Pond          4174    Paid       12:00     18:00   \n",
       "2    Annabessacook Lake          4769    Paid       12:00     18:00   \n",
       "3  Cobbosseecontee Lake          4485    Paid       12:00     18:00   \n",
       "4         Pleasant Pond          4944    Paid        7:00     17:00   \n",
       "\n",
       "   SHIFT_LENGTH  TOTALINSP  PRCP  TMAX  TMIN  TOBS  \n",
       "0           360       33.0  0.00  72.0  45.0  49.0  \n",
       "1           360       13.0  0.00  72.0  45.0  49.0  \n",
       "2           360        1.0  0.00  72.0  45.0  49.0  \n",
       "3           360        2.0  0.00  72.0  45.0  49.0  \n",
       "4           600       11.0  0.02  62.0  45.0  46.0  "
      ]
     },
     "execution_count": 102,
     "metadata": {},
     "output_type": "execute_result"
    }
   ],
   "source": [
    "df.head()"
   ]
  },
  {
   "cell_type": "code",
   "execution_count": 103,
   "id": "76a934c0-15ee-452b-b927-54724c464eb2",
   "metadata": {
    "tags": []
   },
   "outputs": [],
   "source": [
    "# Convert 'date1' to datetime\n",
    "df['DATE'] = pd.to_datetime(df['DATE1'], format='%Y/%m/%d')\n",
    "\n",
    "# Create 'month' and 'year' columns\n",
    "df['month'] = df['DATE'].dt.month\n",
    "df['year'] = df['DATE'].dt.year"
   ]
  },
  {
   "cell_type": "code",
   "execution_count": 104,
   "id": "08643394-b41d-4d20-8a7e-076ef5b24629",
   "metadata": {
    "tags": []
   },
   "outputs": [
    {
     "data": {
      "text/html": [
       "<div>\n",
       "<style scoped>\n",
       "    .dataframe tbody tr th:only-of-type {\n",
       "        vertical-align: middle;\n",
       "    }\n",
       "\n",
       "    .dataframe tbody tr th {\n",
       "        vertical-align: top;\n",
       "    }\n",
       "\n",
       "    .dataframe thead th {\n",
       "        text-align: right;\n",
       "    }\n",
       "</style>\n",
       "<table border=\"1\" class=\"dataframe\">\n",
       "  <thead>\n",
       "    <tr style=\"text-align: right;\">\n",
       "      <th></th>\n",
       "      <th>DATE1</th>\n",
       "      <th>DAY_OF_WEEK</th>\n",
       "      <th>SITE_NAME</th>\n",
       "      <th>TOWN</th>\n",
       "      <th>WATERBODY</th>\n",
       "      <th>INSPECTOR_ID</th>\n",
       "      <th>PAY_VOL</th>\n",
       "      <th>SHIFT_START</th>\n",
       "      <th>SHIFT_END</th>\n",
       "      <th>SHIFT_LENGTH</th>\n",
       "      <th>TOTALINSP</th>\n",
       "      <th>PRCP</th>\n",
       "      <th>TMAX</th>\n",
       "      <th>TMIN</th>\n",
       "      <th>TOBS</th>\n",
       "      <th>DATE</th>\n",
       "      <th>month</th>\n",
       "      <th>year</th>\n",
       "    </tr>\n",
       "  </thead>\n",
       "  <tbody>\n",
       "    <tr>\n",
       "      <th>0</th>\n",
       "      <td>2021-05-28</td>\n",
       "      <td>Fri</td>\n",
       "      <td>Launch Drive</td>\n",
       "      <td>Monmouth</td>\n",
       "      <td>Cobbosseecontee Lake</td>\n",
       "      <td>4771</td>\n",
       "      <td>Paid</td>\n",
       "      <td>12:00</td>\n",
       "      <td>18:00</td>\n",
       "      <td>360</td>\n",
       "      <td>33.0</td>\n",
       "      <td>0.00</td>\n",
       "      <td>72.0</td>\n",
       "      <td>45.0</td>\n",
       "      <td>49.0</td>\n",
       "      <td>2021-05-28</td>\n",
       "      <td>5</td>\n",
       "      <td>2021</td>\n",
       "    </tr>\n",
       "    <tr>\n",
       "      <th>1</th>\n",
       "      <td>2021-05-28</td>\n",
       "      <td>Fri</td>\n",
       "      <td>Whippoorwill Road</td>\n",
       "      <td>Litchfield</td>\n",
       "      <td>Woodbury Pond</td>\n",
       "      <td>4174</td>\n",
       "      <td>Paid</td>\n",
       "      <td>12:00</td>\n",
       "      <td>18:00</td>\n",
       "      <td>360</td>\n",
       "      <td>13.0</td>\n",
       "      <td>0.00</td>\n",
       "      <td>72.0</td>\n",
       "      <td>45.0</td>\n",
       "      <td>49.0</td>\n",
       "      <td>2021-05-28</td>\n",
       "      <td>5</td>\n",
       "      <td>2021</td>\n",
       "    </tr>\n",
       "    <tr>\n",
       "      <th>2</th>\n",
       "      <td>2021-05-28</td>\n",
       "      <td>Fri</td>\n",
       "      <td>Augusta West Kampground</td>\n",
       "      <td>Winthrop</td>\n",
       "      <td>Annabessacook Lake</td>\n",
       "      <td>4769</td>\n",
       "      <td>Paid</td>\n",
       "      <td>12:00</td>\n",
       "      <td>18:00</td>\n",
       "      <td>360</td>\n",
       "      <td>1.0</td>\n",
       "      <td>0.00</td>\n",
       "      <td>72.0</td>\n",
       "      <td>45.0</td>\n",
       "      <td>49.0</td>\n",
       "      <td>2021-05-28</td>\n",
       "      <td>5</td>\n",
       "      <td>2021</td>\n",
       "    </tr>\n",
       "    <tr>\n",
       "      <th>3</th>\n",
       "      <td>2021-05-28</td>\n",
       "      <td>Fri</td>\n",
       "      <td>East Winthrop</td>\n",
       "      <td>Winthrop</td>\n",
       "      <td>Cobbosseecontee Lake</td>\n",
       "      <td>4485</td>\n",
       "      <td>Paid</td>\n",
       "      <td>12:00</td>\n",
       "      <td>18:00</td>\n",
       "      <td>360</td>\n",
       "      <td>2.0</td>\n",
       "      <td>0.00</td>\n",
       "      <td>72.0</td>\n",
       "      <td>45.0</td>\n",
       "      <td>49.0</td>\n",
       "      <td>2021-05-28</td>\n",
       "      <td>5</td>\n",
       "      <td>2021</td>\n",
       "    </tr>\n",
       "    <tr>\n",
       "      <th>4</th>\n",
       "      <td>2021-05-29</td>\n",
       "      <td>Sat</td>\n",
       "      <td>Thorofare Rd</td>\n",
       "      <td>Litchfield</td>\n",
       "      <td>Pleasant Pond</td>\n",
       "      <td>4944</td>\n",
       "      <td>Paid</td>\n",
       "      <td>7:00</td>\n",
       "      <td>17:00</td>\n",
       "      <td>600</td>\n",
       "      <td>11.0</td>\n",
       "      <td>0.02</td>\n",
       "      <td>62.0</td>\n",
       "      <td>45.0</td>\n",
       "      <td>46.0</td>\n",
       "      <td>2021-05-29</td>\n",
       "      <td>5</td>\n",
       "      <td>2021</td>\n",
       "    </tr>\n",
       "  </tbody>\n",
       "</table>\n",
       "</div>"
      ],
      "text/plain": [
       "        DATE1 DAY_OF_WEEK                SITE_NAME        TOWN  \\\n",
       "0  2021-05-28         Fri             Launch Drive    Monmouth   \n",
       "1  2021-05-28         Fri        Whippoorwill Road  Litchfield   \n",
       "2  2021-05-28         Fri  Augusta West Kampground    Winthrop   \n",
       "3  2021-05-28         Fri            East Winthrop    Winthrop   \n",
       "4  2021-05-29         Sat             Thorofare Rd  Litchfield   \n",
       "\n",
       "              WATERBODY  INSPECTOR_ID PAY_VOL SHIFT_START SHIFT_END  \\\n",
       "0  Cobbosseecontee Lake          4771    Paid       12:00     18:00   \n",
       "1         Woodbury Pond          4174    Paid       12:00     18:00   \n",
       "2    Annabessacook Lake          4769    Paid       12:00     18:00   \n",
       "3  Cobbosseecontee Lake          4485    Paid       12:00     18:00   \n",
       "4         Pleasant Pond          4944    Paid        7:00     17:00   \n",
       "\n",
       "   SHIFT_LENGTH  TOTALINSP  PRCP  TMAX  TMIN  TOBS       DATE  month  year  \n",
       "0           360       33.0  0.00  72.0  45.0  49.0 2021-05-28      5  2021  \n",
       "1           360       13.0  0.00  72.0  45.0  49.0 2021-05-28      5  2021  \n",
       "2           360        1.0  0.00  72.0  45.0  49.0 2021-05-28      5  2021  \n",
       "3           360        2.0  0.00  72.0  45.0  49.0 2021-05-28      5  2021  \n",
       "4           600       11.0  0.02  62.0  45.0  46.0 2021-05-29      5  2021  "
      ]
     },
     "execution_count": 104,
     "metadata": {},
     "output_type": "execute_result"
    }
   ],
   "source": [
    "df.head()"
   ]
  },
  {
   "cell_type": "code",
   "execution_count": 105,
   "id": "d5214dd4-8d2a-4851-bf6c-953ca1fd1ce5",
   "metadata": {
    "tags": []
   },
   "outputs": [],
   "source": [
    "df.SHIFT_START = pd.to_datetime(df.SHIFT_START, format='%H:%M')"
   ]
  },
  {
   "cell_type": "code",
   "execution_count": 106,
   "id": "efb4160b-d9a7-4a8e-ac0e-b75321fecb18",
   "metadata": {
    "tags": []
   },
   "outputs": [],
   "source": [
    "df.SHIFT_END = pd.to_datetime(df.SHIFT_END)"
   ]
  },
  {
   "cell_type": "code",
   "execution_count": 107,
   "id": "1f90cb88-33c7-4517-a613-a42588a0a0d5",
   "metadata": {
    "tags": []
   },
   "outputs": [],
   "source": [
    "X = df.drop(columns=['DATE1', 'TOWN', 'WATERBODY', 'INSPECTOR_ID', 'TOTALINSP', 'TOBS', 'DATE'])\n",
    "y = df.TOTALINSP            "
   ]
  },
  {
   "cell_type": "code",
   "execution_count": 108,
   "id": "16f15fd8-b02a-49bf-8dd7-4ebce55079ec",
   "metadata": {
    "tags": []
   },
   "outputs": [],
   "source": [
    "X_train, X_test, y_train, y_test = train_test_split(X, y, random_state=42, test_size=.2)"
   ]
  },
  {
   "cell_type": "code",
   "execution_count": 109,
   "id": "9e6a3498-f143-456b-bea8-bc3124718a38",
   "metadata": {
    "tags": []
   },
   "outputs": [],
   "source": [
    "categorical_columns = ['SITE_NAME', 'DAY_OF_WEEK', 'month', 'year', 'PAY_VOL']\n",
    "oh = OneHotEncoder(handle_unknown='ignore', drop='first')\n",
    "X_train_transformed = oh.fit_transform(X_train[categorical_columns])\n",
    "X_test_transformed= oh.transform(X_test[categorical_columns])"
   ]
  },
  {
   "cell_type": "code",
   "execution_count": 110,
   "id": "0ae5ba6d-c369-4ace-a250-b8b7ec052f14",
   "metadata": {
    "tags": []
   },
   "outputs": [
    {
     "name": "stdout",
     "output_type": "stream",
     "text": [
      "0.3513358726642821\n",
      "0.33841873049366566\n"
     ]
    }
   ],
   "source": [
    "lr = LinearRegression()\n",
    "lr.fit(X_train_transformed, y_train)\n",
    "print(lr.score(X_train_transformed, y_train))\n",
    "print(lr.score(X_test_transformed, y_test))"
   ]
  },
  {
   "cell_type": "code",
   "execution_count": 111,
   "id": "780afcbe-adb9-44a6-baba-2c2e729b4e51",
   "metadata": {
    "tags": []
   },
   "outputs": [
    {
     "name": "stdout",
     "output_type": "stream",
     "text": [
      "0.6434682293497731\n",
      "0.3232590228474176\n"
     ]
    }
   ],
   "source": [
    "rf = RandomForestRegressor()\n",
    "rf.fit(X_train_transformed, y_train)\n",
    "print(rf.score(X_train_transformed, y_train))\n",
    "print(rf.score(X_test_transformed, y_test))      "
   ]
  },
  {
   "cell_type": "code",
   "execution_count": 112,
   "id": "b0dc4878-af9e-4b0d-bccd-c0daaba62015",
   "metadata": {
    "tags": []
   },
   "outputs": [
    {
     "name": "stdout",
     "output_type": "stream",
     "text": [
      "0.6573212547527139\n",
      "0.25420966053172644\n"
     ]
    }
   ],
   "source": [
    "et = ExtraTreesRegressor()\n",
    "et.fit(X_train_transformed, y_train)\n",
    "print(et.score(X_train_transformed, y_train))\n",
    "print(et.score(X_test_transformed, y_test))"
   ]
  },
  {
   "cell_type": "markdown",
   "id": "d353607d-cd94-46e3-a175-c46c608e2c34",
   "metadata": {},
   "source": [
    "From these initial models, adding weather data seems to improve the model performance significantly. The models become significantly less overfit. The next step will be to try to add in the holidays as another column, and then to use feature engineering with shift length, shift start and shift end to attempt to somehow capture time of day.\n",
    "\n",
    "The models were all less overfit, however the tree models are still overfit. Parameter optimization could help reduce the overfit as well to balance out the metrics of the tree based models between the training and test scores. "
   ]
  },
  {
   "cell_type": "markdown",
   "id": "7cf40984-e20f-40e6-bc1a-deac4883afab",
   "metadata": {},
   "source": [
    "### Running models with Engineered columns"
   ]
  },
  {
   "cell_type": "code",
   "execution_count": 113,
   "id": "2229035a-566f-4b51-8e37-9c2b1b1e77aa",
   "metadata": {},
   "outputs": [
    {
     "data": {
      "text/html": [
       "<div>\n",
       "<style scoped>\n",
       "    .dataframe tbody tr th:only-of-type {\n",
       "        vertical-align: middle;\n",
       "    }\n",
       "\n",
       "    .dataframe tbody tr th {\n",
       "        vertical-align: top;\n",
       "    }\n",
       "\n",
       "    .dataframe thead th {\n",
       "        text-align: right;\n",
       "    }\n",
       "</style>\n",
       "<table border=\"1\" class=\"dataframe\">\n",
       "  <thead>\n",
       "    <tr style=\"text-align: right;\">\n",
       "      <th></th>\n",
       "      <th>DATE1</th>\n",
       "      <th>DAY_OF_WEEK</th>\n",
       "      <th>SITE_NAME</th>\n",
       "      <th>TOWN</th>\n",
       "      <th>WATERBODY</th>\n",
       "      <th>INSPECTOR_ID</th>\n",
       "      <th>PAY_VOL</th>\n",
       "      <th>SHIFT_START</th>\n",
       "      <th>SHIFT_END</th>\n",
       "      <th>SHIFT_LENGTH</th>\n",
       "      <th>TOTALINSP</th>\n",
       "      <th>PRCP</th>\n",
       "      <th>TMAX</th>\n",
       "      <th>TMIN</th>\n",
       "      <th>TOBS</th>\n",
       "      <th>DATE</th>\n",
       "      <th>month</th>\n",
       "      <th>year</th>\n",
       "    </tr>\n",
       "  </thead>\n",
       "  <tbody>\n",
       "    <tr>\n",
       "      <th>0</th>\n",
       "      <td>2021-05-28</td>\n",
       "      <td>Fri</td>\n",
       "      <td>Launch Drive</td>\n",
       "      <td>Monmouth</td>\n",
       "      <td>Cobbosseecontee Lake</td>\n",
       "      <td>4771</td>\n",
       "      <td>Paid</td>\n",
       "      <td>1900-01-01 12:00:00</td>\n",
       "      <td>2023-12-03 18:00:00</td>\n",
       "      <td>360</td>\n",
       "      <td>33.0</td>\n",
       "      <td>0.0</td>\n",
       "      <td>72.0</td>\n",
       "      <td>45.0</td>\n",
       "      <td>49.0</td>\n",
       "      <td>2021-05-28</td>\n",
       "      <td>5</td>\n",
       "      <td>2021</td>\n",
       "    </tr>\n",
       "  </tbody>\n",
       "</table>\n",
       "</div>"
      ],
      "text/plain": [
       "        DATE1 DAY_OF_WEEK     SITE_NAME      TOWN             WATERBODY  \\\n",
       "0  2021-05-28         Fri  Launch Drive  Monmouth  Cobbosseecontee Lake   \n",
       "\n",
       "   INSPECTOR_ID PAY_VOL         SHIFT_START           SHIFT_END  SHIFT_LENGTH  \\\n",
       "0          4771    Paid 1900-01-01 12:00:00 2023-12-03 18:00:00           360   \n",
       "\n",
       "   TOTALINSP  PRCP  TMAX  TMIN  TOBS       DATE  month  year  \n",
       "0       33.0   0.0  72.0  45.0  49.0 2021-05-28      5  2021  "
      ]
     },
     "execution_count": 113,
     "metadata": {},
     "output_type": "execute_result"
    }
   ],
   "source": [
    "# Converting times to 'time of day'\n",
    "df.head(1)"
   ]
  },
  {
   "cell_type": "code",
   "execution_count": 114,
   "id": "514432b6-a53b-4a92-a3a0-f33e40a8b8ff",
   "metadata": {
    "tags": []
   },
   "outputs": [
    {
     "data": {
      "text/plain": [
       "1900-01-01 07:00:00    902\n",
       "1900-01-01 13:00:00    604\n",
       "1900-01-01 09:00:00    241\n",
       "1900-01-01 12:00:00    164\n",
       "1900-01-01 08:00:00    119\n",
       "                      ... \n",
       "1900-01-01 08:17:00      1\n",
       "1900-01-01 07:40:00      1\n",
       "1900-01-01 04:41:00      1\n",
       "1900-01-01 12:55:00      1\n",
       "1900-01-01 09:40:00      1\n",
       "Name: SHIFT_START, Length: 139, dtype: int64"
      ]
     },
     "execution_count": 114,
     "metadata": {},
     "output_type": "execute_result"
    }
   ],
   "source": [
    "df.SHIFT_START.value_counts()"
   ]
  },
  {
   "cell_type": "code",
   "execution_count": 115,
   "id": "e89879d3-ebdd-4546-8e5b-df1ac3f7675f",
   "metadata": {
    "tags": []
   },
   "outputs": [
    {
     "data": {
      "text/plain": [
       "DATE1                   object\n",
       "DAY_OF_WEEK             object\n",
       "SITE_NAME               object\n",
       "TOWN                    object\n",
       "WATERBODY               object\n",
       "INSPECTOR_ID             int64\n",
       "PAY_VOL                 object\n",
       "SHIFT_START     datetime64[ns]\n",
       "SHIFT_END       datetime64[ns]\n",
       "SHIFT_LENGTH             int64\n",
       "TOTALINSP              float64\n",
       "PRCP                   float64\n",
       "TMAX                   float64\n",
       "TMIN                   float64\n",
       "TOBS                   float64\n",
       "DATE            datetime64[ns]\n",
       "month                    int64\n",
       "year                     int64\n",
       "dtype: object"
      ]
     },
     "execution_count": 115,
     "metadata": {},
     "output_type": "execute_result"
    }
   ],
   "source": [
    "df.dtypes"
   ]
  },
  {
   "cell_type": "code",
   "execution_count": 116,
   "id": "c9bd8461-14d1-481e-b3de-d839dfa2061b",
   "metadata": {
    "tags": []
   },
   "outputs": [],
   "source": [
    "df['SHIFT_START_CATEGORY'] = pd.cut(pd.to_datetime(df['SHIFT_START'], format='%H:%M').dt.hour,\n",
    "                                    bins =[-1, 8, 11, 14, 17, 24],\n",
    "                                    labels=['Early Morning', 'Morning', 'Afternoon', 'Late Afternoon', 'Evening'])\n",
    "                        "
   ]
  },
  {
   "cell_type": "code",
   "execution_count": 117,
   "id": "0a93b20a-0829-463d-a52d-81098252a017",
   "metadata": {
    "tags": []
   },
   "outputs": [
    {
     "data": {
      "text/plain": [
       "DATE1                   0\n",
       "DAY_OF_WEEK             0\n",
       "SITE_NAME               0\n",
       "TOWN                    0\n",
       "WATERBODY               0\n",
       "INSPECTOR_ID            0\n",
       "PAY_VOL                 0\n",
       "SHIFT_START             0\n",
       "SHIFT_END               0\n",
       "SHIFT_LENGTH            0\n",
       "TOTALINSP               0\n",
       "PRCP                    0\n",
       "TMAX                    0\n",
       "TMIN                    0\n",
       "TOBS                    0\n",
       "DATE                    0\n",
       "month                   0\n",
       "year                    0\n",
       "SHIFT_START_CATEGORY    0\n",
       "dtype: int64"
      ]
     },
     "execution_count": 117,
     "metadata": {},
     "output_type": "execute_result"
    }
   ],
   "source": [
    "df.isna().sum()"
   ]
  },
  {
   "cell_type": "code",
   "execution_count": 118,
   "id": "5603d8e0-9ac1-4d91-8016-92a737ad52a2",
   "metadata": {
    "tags": []
   },
   "outputs": [
    {
     "data": {
      "text/plain": [
       "Early Morning     1202\n",
       "Afternoon          871\n",
       "Morning            371\n",
       "Late Afternoon     105\n",
       "Evening             16\n",
       "Name: SHIFT_START_CATEGORY, dtype: int64"
      ]
     },
     "execution_count": 118,
     "metadata": {},
     "output_type": "execute_result"
    }
   ],
   "source": [
    "df.SHIFT_START_CATEGORY.value_counts()"
   ]
  },
  {
   "cell_type": "code",
   "execution_count": 119,
   "id": "0611a30e-3551-4394-be17-386a584526da",
   "metadata": {
    "tags": []
   },
   "outputs": [],
   "source": [
    "df['SHIFT_END_CATEGORY'] = pd.cut(pd.to_datetime(df['SHIFT_END'], format='%H:%M').dt.hour,\n",
    "                                    bins =[-1, 8, 11, 14, 17, 19, 24],\n",
    "                                    labels=['Early Morning', 'Morning', 'Afternoon', 'Late Afternoon', 'Evening', 'Night'])\n",
    "                        "
   ]
  },
  {
   "cell_type": "code",
   "execution_count": 120,
   "id": "4b3de237-1788-414f-a38d-09453ffd8ac7",
   "metadata": {
    "tags": []
   },
   "outputs": [
    {
     "data": {
      "text/plain": [
       "Evening           1004\n",
       "Afternoon          810\n",
       "Late Afternoon     511\n",
       "Morning            108\n",
       "Early Morning       88\n",
       "Night               44\n",
       "Name: SHIFT_END_CATEGORY, dtype: int64"
      ]
     },
     "execution_count": 120,
     "metadata": {},
     "output_type": "execute_result"
    }
   ],
   "source": [
    "df.SHIFT_END_CATEGORY.value_counts()"
   ]
  },
  {
   "cell_type": "code",
   "execution_count": 121,
   "id": "bbc031bd-96ee-4a9b-a7eb-d9afda3dc4c9",
   "metadata": {
    "tags": []
   },
   "outputs": [],
   "source": [
    "X1 = df.drop(columns=['DATE1', 'TOWN', 'WATERBODY', 'INSPECTOR_ID', 'TOTALINSP', 'TOBS', 'DATE', 'SHIFT_START', 'SHIFT_END'])\n",
    "y1 = df.TOTALINSP            \n",
    "\n",
    "X1_train, X1_test, y1_train, y1_test = train_test_split(X1, y1, random_state=42, test_size=.2)"
   ]
  },
  {
   "cell_type": "code",
   "execution_count": 122,
   "id": "9b778fe8-18b6-4c60-9571-a2baa5e2c38f",
   "metadata": {
    "tags": []
   },
   "outputs": [],
   "source": [
    "categorical_columns = ['SITE_NAME', 'DAY_OF_WEEK', 'month', 'year', 'PAY_VOL', 'SHIFT_START_CATEGORY', 'SHIFT_END_CATEGORY']\n",
    "oh = OneHotEncoder(handle_unknown='ignore', drop='first')\n",
    "X1_train_transformed = oh.fit_transform(X1_train[categorical_columns])\n",
    "X1_test_transformed= oh.transform(X1_test[categorical_columns])"
   ]
  },
  {
   "cell_type": "markdown",
   "id": "859b8f4f-cfac-42fe-850d-42590346cea6",
   "metadata": {},
   "source": [
    "#### Adding in daypart categories"
   ]
  },
  {
   "cell_type": "code",
   "execution_count": 123,
   "id": "05de4d6f-347a-4627-8027-57ac15466636",
   "metadata": {
    "tags": []
   },
   "outputs": [
    {
     "name": "stdout",
     "output_type": "stream",
     "text": [
      "0.43299897430845313\n",
      "0.45589238044822944\n"
     ]
    }
   ],
   "source": [
    "lr1 = LinearRegression()\n",
    "lr1.fit(X1_train_transformed, y1_train)\n",
    "print(lr1.score(X1_train_transformed, y1_train))\n",
    "print(lr1.score(X1_test_transformed, y1_test))"
   ]
  },
  {
   "cell_type": "code",
   "execution_count": 124,
   "id": "e7020d39-14ff-478b-bcad-89b65c15f507",
   "metadata": {
    "tags": []
   },
   "outputs": [
    {
     "name": "stdout",
     "output_type": "stream",
     "text": [
      "0.7985128527367691\n",
      "0.3845439939140577\n"
     ]
    }
   ],
   "source": [
    "rf1 = RandomForestRegressor()\n",
    "rf1.fit(X1_train_transformed, y1_train)\n",
    "print(rf1.score(X1_train_transformed, y1_train))\n",
    "print(rf1.score(X1_test_transformed, y1_test))     "
   ]
  },
  {
   "cell_type": "code",
   "execution_count": 125,
   "id": "d4a00175-366a-4555-b744-e2305a130ab0",
   "metadata": {
    "tags": []
   },
   "outputs": [
    {
     "name": "stdout",
     "output_type": "stream",
     "text": [
      "0.8333177482959641\n",
      "0.18467138568428598\n"
     ]
    }
   ],
   "source": [
    "et1 =ExtraTreesRegressor()\n",
    "et1.fit(X1_train_transformed, y1_train)\n",
    "print(et1.score(X1_train_transformed, y1_train))\n",
    "print(et1.score(X1_test_transformed, y1_test))      "
   ]
  },
  {
   "cell_type": "markdown",
   "id": "b903b854-7da0-4e52-8c33-728f23bc15f6",
   "metadata": {},
   "source": [
    "#### Adding in holidays"
   ]
  },
  {
   "cell_type": "code",
   "execution_count": 126,
   "id": "f1330b66-7293-4791-91aa-9aee9970a064",
   "metadata": {
    "tags": []
   },
   "outputs": [],
   "source": [
    "# List of holidays\n",
    "# 2021: Monday, May 31 Memorial Day, Sunday July 4 (Observed Monday), Monday September 6 (Labor Day), Sunday May 9 (Mother's Day), Father's Day (Sunday, June 20)\n",
    "# 2022: Sunday May 08, Mother's Day, 'Monday May 30 Memorial Day, Monday September 5 Labor Day, Monday July 4, Sunday June 19 Father's Day\n",
    "# 2023: Monday, May 29 Memorial Day, Monday June19 Juneteenth, Tuesday, July 04, Monday September 04 Labor Day, Mother's Day Sunday May 14, Father's Day Sunday June 18\n",
    "#'2021-05-09', '2022-05-30', , '2023-06-19'\n",
    "holiday_list = ['2021-05-31', '2021-07-04', '2021-09-06', '2021-06-20',\n",
    "                '2022-05-08', '2022-05-30', '2022-07-04', '2022-06-19',\n",
    "                '2023-05-29', '2023-07-04', '2023-09-04', '2023-06-18']\n"
   ]
  },
  {
   "cell_type": "code",
   "execution_count": 127,
   "id": "2dbf4c0e-e4ed-4069-b0bf-e4d5f1b74dbf",
   "metadata": {
    "tags": []
   },
   "outputs": [],
   "source": [
    "df['holiday']= np.where(df['DATE'].isin(holiday_list), 1, 0)"
   ]
  },
  {
   "cell_type": "code",
   "execution_count": 128,
   "id": "5e8e5cfe-b92b-404c-b19a-33eaa3d55f13",
   "metadata": {
    "tags": []
   },
   "outputs": [
    {
     "data": {
      "text/html": [
       "<div>\n",
       "<style scoped>\n",
       "    .dataframe tbody tr th:only-of-type {\n",
       "        vertical-align: middle;\n",
       "    }\n",
       "\n",
       "    .dataframe tbody tr th {\n",
       "        vertical-align: top;\n",
       "    }\n",
       "\n",
       "    .dataframe thead th {\n",
       "        text-align: right;\n",
       "    }\n",
       "</style>\n",
       "<table border=\"1\" class=\"dataframe\">\n",
       "  <thead>\n",
       "    <tr style=\"text-align: right;\">\n",
       "      <th></th>\n",
       "      <th>DATE1</th>\n",
       "      <th>DAY_OF_WEEK</th>\n",
       "      <th>SITE_NAME</th>\n",
       "      <th>TOWN</th>\n",
       "      <th>WATERBODY</th>\n",
       "      <th>INSPECTOR_ID</th>\n",
       "      <th>PAY_VOL</th>\n",
       "      <th>SHIFT_START</th>\n",
       "      <th>SHIFT_END</th>\n",
       "      <th>SHIFT_LENGTH</th>\n",
       "      <th>...</th>\n",
       "      <th>PRCP</th>\n",
       "      <th>TMAX</th>\n",
       "      <th>TMIN</th>\n",
       "      <th>TOBS</th>\n",
       "      <th>DATE</th>\n",
       "      <th>month</th>\n",
       "      <th>year</th>\n",
       "      <th>SHIFT_START_CATEGORY</th>\n",
       "      <th>SHIFT_END_CATEGORY</th>\n",
       "      <th>holiday</th>\n",
       "    </tr>\n",
       "  </thead>\n",
       "  <tbody>\n",
       "    <tr>\n",
       "      <th>272</th>\n",
       "      <td>2021-07-16</td>\n",
       "      <td>Fri</td>\n",
       "      <td>Augusta West Kampground</td>\n",
       "      <td>Winthrop</td>\n",
       "      <td>Annabessacook Lake</td>\n",
       "      <td>4769</td>\n",
       "      <td>Paid</td>\n",
       "      <td>1900-01-01 12:00:00</td>\n",
       "      <td>2023-12-03 18:00:00</td>\n",
       "      <td>360</td>\n",
       "      <td>...</td>\n",
       "      <td>0.00</td>\n",
       "      <td>88.0</td>\n",
       "      <td>67.0</td>\n",
       "      <td>74.0</td>\n",
       "      <td>2021-07-16</td>\n",
       "      <td>7</td>\n",
       "      <td>2021</td>\n",
       "      <td>Afternoon</td>\n",
       "      <td>Evening</td>\n",
       "      <td>0</td>\n",
       "    </tr>\n",
       "    <tr>\n",
       "      <th>1523</th>\n",
       "      <td>2022-08-28</td>\n",
       "      <td>Sun</td>\n",
       "      <td>Launch Drive Cobbosseecontee</td>\n",
       "      <td>Monmouth</td>\n",
       "      <td>Cobbosseecontee Lake</td>\n",
       "      <td>5580</td>\n",
       "      <td>Paid</td>\n",
       "      <td>1900-01-01 07:00:00</td>\n",
       "      <td>2023-12-03 13:00:00</td>\n",
       "      <td>360</td>\n",
       "      <td>...</td>\n",
       "      <td>0.00</td>\n",
       "      <td>78.0</td>\n",
       "      <td>62.0</td>\n",
       "      <td>67.0</td>\n",
       "      <td>2022-08-28</td>\n",
       "      <td>8</td>\n",
       "      <td>2022</td>\n",
       "      <td>Early Morning</td>\n",
       "      <td>Afternoon</td>\n",
       "      <td>0</td>\n",
       "    </tr>\n",
       "    <tr>\n",
       "      <th>1671</th>\n",
       "      <td>2022-09-17</td>\n",
       "      <td>Sat</td>\n",
       "      <td>East Winthrop Cobbosseecontee</td>\n",
       "      <td>Winthrop</td>\n",
       "      <td>Cobbosseecontee Lake</td>\n",
       "      <td>3504</td>\n",
       "      <td>Paid</td>\n",
       "      <td>1900-01-01 13:00:00</td>\n",
       "      <td>2023-12-03 19:00:00</td>\n",
       "      <td>360</td>\n",
       "      <td>...</td>\n",
       "      <td>0.00</td>\n",
       "      <td>67.0</td>\n",
       "      <td>44.0</td>\n",
       "      <td>50.0</td>\n",
       "      <td>2022-09-17</td>\n",
       "      <td>9</td>\n",
       "      <td>2022</td>\n",
       "      <td>Afternoon</td>\n",
       "      <td>Evening</td>\n",
       "      <td>0</td>\n",
       "    </tr>\n",
       "    <tr>\n",
       "      <th>2043</th>\n",
       "      <td>2023-07-09</td>\n",
       "      <td>Sun</td>\n",
       "      <td>Holmes Road Annabessacook</td>\n",
       "      <td>Winthrop</td>\n",
       "      <td>Annabessacook Lake</td>\n",
       "      <td>5648</td>\n",
       "      <td>Paid</td>\n",
       "      <td>1900-01-01 13:00:00</td>\n",
       "      <td>2023-12-03 19:00:00</td>\n",
       "      <td>360</td>\n",
       "      <td>...</td>\n",
       "      <td>0.01</td>\n",
       "      <td>79.0</td>\n",
       "      <td>68.0</td>\n",
       "      <td>70.0</td>\n",
       "      <td>2023-07-09</td>\n",
       "      <td>7</td>\n",
       "      <td>2023</td>\n",
       "      <td>Afternoon</td>\n",
       "      <td>Evening</td>\n",
       "      <td>0</td>\n",
       "    </tr>\n",
       "    <tr>\n",
       "      <th>2199</th>\n",
       "      <td>2023-07-26</td>\n",
       "      <td>Wed</td>\n",
       "      <td>East Winthrop Cobbosseecontee</td>\n",
       "      <td>Winthrop</td>\n",
       "      <td>Cobbosseecontee Lake</td>\n",
       "      <td>5670</td>\n",
       "      <td>Paid</td>\n",
       "      <td>1900-01-01 07:00:00</td>\n",
       "      <td>2023-12-03 13:00:00</td>\n",
       "      <td>360</td>\n",
       "      <td>...</td>\n",
       "      <td>1.24</td>\n",
       "      <td>88.0</td>\n",
       "      <td>65.0</td>\n",
       "      <td>71.0</td>\n",
       "      <td>2023-07-26</td>\n",
       "      <td>7</td>\n",
       "      <td>2023</td>\n",
       "      <td>Early Morning</td>\n",
       "      <td>Afternoon</td>\n",
       "      <td>0</td>\n",
       "    </tr>\n",
       "    <tr>\n",
       "      <th>361</th>\n",
       "      <td>2021-07-31</td>\n",
       "      <td>Sat</td>\n",
       "      <td>East Winthrop</td>\n",
       "      <td>Winthrop</td>\n",
       "      <td>Cobbosseecontee Lake</td>\n",
       "      <td>5367</td>\n",
       "      <td>Paid</td>\n",
       "      <td>1900-01-01 07:00:00</td>\n",
       "      <td>2023-12-03 13:00:00</td>\n",
       "      <td>360</td>\n",
       "      <td>...</td>\n",
       "      <td>0.00</td>\n",
       "      <td>75.0</td>\n",
       "      <td>56.0</td>\n",
       "      <td>63.0</td>\n",
       "      <td>2021-07-31</td>\n",
       "      <td>7</td>\n",
       "      <td>2021</td>\n",
       "      <td>Early Morning</td>\n",
       "      <td>Afternoon</td>\n",
       "      <td>0</td>\n",
       "    </tr>\n",
       "    <tr>\n",
       "      <th>561</th>\n",
       "      <td>2021-08-28</td>\n",
       "      <td>Sat</td>\n",
       "      <td>Wilson Pond Road</td>\n",
       "      <td>Monmouth</td>\n",
       "      <td>Wilson Pond</td>\n",
       "      <td>4770</td>\n",
       "      <td>Paid</td>\n",
       "      <td>1900-01-01 07:00:00</td>\n",
       "      <td>2023-12-03 17:00:00</td>\n",
       "      <td>600</td>\n",
       "      <td>...</td>\n",
       "      <td>0.00</td>\n",
       "      <td>84.0</td>\n",
       "      <td>54.0</td>\n",
       "      <td>62.0</td>\n",
       "      <td>2021-08-28</td>\n",
       "      <td>8</td>\n",
       "      <td>2021</td>\n",
       "      <td>Early Morning</td>\n",
       "      <td>Late Afternoon</td>\n",
       "      <td>0</td>\n",
       "    </tr>\n",
       "    <tr>\n",
       "      <th>484</th>\n",
       "      <td>2021-08-15</td>\n",
       "      <td>Sun</td>\n",
       "      <td>Augusta West Kampground</td>\n",
       "      <td>Winthrop</td>\n",
       "      <td>Annabessacook Lake</td>\n",
       "      <td>4769</td>\n",
       "      <td>Paid</td>\n",
       "      <td>1900-01-01 08:00:00</td>\n",
       "      <td>2023-12-03 18:00:00</td>\n",
       "      <td>600</td>\n",
       "      <td>...</td>\n",
       "      <td>0.34</td>\n",
       "      <td>89.0</td>\n",
       "      <td>60.0</td>\n",
       "      <td>65.0</td>\n",
       "      <td>2021-08-15</td>\n",
       "      <td>8</td>\n",
       "      <td>2021</td>\n",
       "      <td>Early Morning</td>\n",
       "      <td>Evening</td>\n",
       "      <td>0</td>\n",
       "    </tr>\n",
       "    <tr>\n",
       "      <th>570</th>\n",
       "      <td>2021-08-28</td>\n",
       "      <td>Sat</td>\n",
       "      <td>Old Kents Hill Road</td>\n",
       "      <td>Readfield</td>\n",
       "      <td>Torsey Lake</td>\n",
       "      <td>5451</td>\n",
       "      <td>Volunteer</td>\n",
       "      <td>1900-01-01 15:00:00</td>\n",
       "      <td>2023-12-03 17:00:00</td>\n",
       "      <td>120</td>\n",
       "      <td>...</td>\n",
       "      <td>0.00</td>\n",
       "      <td>84.0</td>\n",
       "      <td>54.0</td>\n",
       "      <td>62.0</td>\n",
       "      <td>2021-08-28</td>\n",
       "      <td>8</td>\n",
       "      <td>2021</td>\n",
       "      <td>Late Afternoon</td>\n",
       "      <td>Late Afternoon</td>\n",
       "      <td>0</td>\n",
       "    </tr>\n",
       "    <tr>\n",
       "      <th>744</th>\n",
       "      <td>2022-06-12</td>\n",
       "      <td>Sun</td>\n",
       "      <td>Launch Drive Cobbosseecontee</td>\n",
       "      <td>Monmouth</td>\n",
       "      <td>Cobbosseecontee Lake</td>\n",
       "      <td>5005</td>\n",
       "      <td>Paid</td>\n",
       "      <td>1900-01-01 13:00:00</td>\n",
       "      <td>2023-12-03 19:00:00</td>\n",
       "      <td>360</td>\n",
       "      <td>...</td>\n",
       "      <td>0.01</td>\n",
       "      <td>78.0</td>\n",
       "      <td>53.0</td>\n",
       "      <td>68.0</td>\n",
       "      <td>2022-06-12</td>\n",
       "      <td>6</td>\n",
       "      <td>2022</td>\n",
       "      <td>Afternoon</td>\n",
       "      <td>Evening</td>\n",
       "      <td>0</td>\n",
       "    </tr>\n",
       "    <tr>\n",
       "      <th>2483</th>\n",
       "      <td>2023-08-11</td>\n",
       "      <td>Fri</td>\n",
       "      <td>Lakeside Marina Cobbosseecontee</td>\n",
       "      <td>Winthrop</td>\n",
       "      <td>Cobbosseecontee Lake</td>\n",
       "      <td>5652</td>\n",
       "      <td>Paid</td>\n",
       "      <td>1900-01-01 15:00:00</td>\n",
       "      <td>2023-12-03 17:00:00</td>\n",
       "      <td>120</td>\n",
       "      <td>...</td>\n",
       "      <td>0.24</td>\n",
       "      <td>86.0</td>\n",
       "      <td>63.0</td>\n",
       "      <td>69.0</td>\n",
       "      <td>2023-08-11</td>\n",
       "      <td>8</td>\n",
       "      <td>2023</td>\n",
       "      <td>Late Afternoon</td>\n",
       "      <td>Late Afternoon</td>\n",
       "      <td>0</td>\n",
       "    </tr>\n",
       "    <tr>\n",
       "      <th>2479</th>\n",
       "      <td>2023-08-06</td>\n",
       "      <td>Sun</td>\n",
       "      <td>Lakeside Marina Cobbosseecontee</td>\n",
       "      <td>Winthrop</td>\n",
       "      <td>Cobbosseecontee Lake</td>\n",
       "      <td>5652</td>\n",
       "      <td>Paid</td>\n",
       "      <td>1900-01-01 10:00:00</td>\n",
       "      <td>2023-12-03 11:00:00</td>\n",
       "      <td>60</td>\n",
       "      <td>...</td>\n",
       "      <td>0.03</td>\n",
       "      <td>80.0</td>\n",
       "      <td>57.0</td>\n",
       "      <td>65.0</td>\n",
       "      <td>2023-08-06</td>\n",
       "      <td>8</td>\n",
       "      <td>2023</td>\n",
       "      <td>Morning</td>\n",
       "      <td>Morning</td>\n",
       "      <td>0</td>\n",
       "    </tr>\n",
       "    <tr>\n",
       "      <th>282</th>\n",
       "      <td>2021-07-17</td>\n",
       "      <td>Sat</td>\n",
       "      <td>East Winthrop</td>\n",
       "      <td>Winthrop</td>\n",
       "      <td>Cobbosseecontee Lake</td>\n",
       "      <td>3504</td>\n",
       "      <td>Paid</td>\n",
       "      <td>1900-01-01 13:00:00</td>\n",
       "      <td>2023-12-03 19:00:00</td>\n",
       "      <td>360</td>\n",
       "      <td>...</td>\n",
       "      <td>0.00</td>\n",
       "      <td>89.0</td>\n",
       "      <td>66.0</td>\n",
       "      <td>69.0</td>\n",
       "      <td>2021-07-17</td>\n",
       "      <td>7</td>\n",
       "      <td>2021</td>\n",
       "      <td>Afternoon</td>\n",
       "      <td>Evening</td>\n",
       "      <td>0</td>\n",
       "    </tr>\n",
       "    <tr>\n",
       "      <th>1116</th>\n",
       "      <td>2022-07-21</td>\n",
       "      <td>Thu</td>\n",
       "      <td>East Winthrop Cobbosseecontee</td>\n",
       "      <td>Winthrop</td>\n",
       "      <td>Cobbosseecontee Lake</td>\n",
       "      <td>5670</td>\n",
       "      <td>Paid</td>\n",
       "      <td>1900-01-01 13:00:00</td>\n",
       "      <td>2023-12-03 19:00:00</td>\n",
       "      <td>360</td>\n",
       "      <td>...</td>\n",
       "      <td>0.00</td>\n",
       "      <td>92.0</td>\n",
       "      <td>69.0</td>\n",
       "      <td>75.0</td>\n",
       "      <td>2022-07-21</td>\n",
       "      <td>7</td>\n",
       "      <td>2022</td>\n",
       "      <td>Afternoon</td>\n",
       "      <td>Evening</td>\n",
       "      <td>0</td>\n",
       "    </tr>\n",
       "    <tr>\n",
       "      <th>835</th>\n",
       "      <td>2022-06-26</td>\n",
       "      <td>Sun</td>\n",
       "      <td>East Winthrop Cobbosseecontee</td>\n",
       "      <td>Winthrop</td>\n",
       "      <td>Cobbosseecontee Lake</td>\n",
       "      <td>5305</td>\n",
       "      <td>Paid</td>\n",
       "      <td>1900-01-01 07:00:00</td>\n",
       "      <td>2023-12-03 13:00:00</td>\n",
       "      <td>360</td>\n",
       "      <td>...</td>\n",
       "      <td>0.00</td>\n",
       "      <td>92.0</td>\n",
       "      <td>64.0</td>\n",
       "      <td>76.0</td>\n",
       "      <td>2022-06-26</td>\n",
       "      <td>6</td>\n",
       "      <td>2022</td>\n",
       "      <td>Early Morning</td>\n",
       "      <td>Afternoon</td>\n",
       "      <td>0</td>\n",
       "    </tr>\n",
       "    <tr>\n",
       "      <th>2546</th>\n",
       "      <td>2023-06-15</td>\n",
       "      <td>Thu</td>\n",
       "      <td>Lakeside Marina Cobbosseecontee</td>\n",
       "      <td>Winthrop</td>\n",
       "      <td>Cobbosseecontee Lake</td>\n",
       "      <td>5652</td>\n",
       "      <td>Paid</td>\n",
       "      <td>1900-01-01 11:00:00</td>\n",
       "      <td>2023-12-03 16:00:00</td>\n",
       "      <td>300</td>\n",
       "      <td>...</td>\n",
       "      <td>0.08</td>\n",
       "      <td>75.0</td>\n",
       "      <td>58.0</td>\n",
       "      <td>60.0</td>\n",
       "      <td>2023-06-15</td>\n",
       "      <td>6</td>\n",
       "      <td>2023</td>\n",
       "      <td>Morning</td>\n",
       "      <td>Late Afternoon</td>\n",
       "      <td>0</td>\n",
       "    </tr>\n",
       "    <tr>\n",
       "      <th>1942</th>\n",
       "      <td>2023-06-30</td>\n",
       "      <td>Fri</td>\n",
       "      <td>East Winthrop Cobbosseecontee</td>\n",
       "      <td>Winthrop</td>\n",
       "      <td>Cobbosseecontee Lake</td>\n",
       "      <td>5006</td>\n",
       "      <td>Paid</td>\n",
       "      <td>1900-01-01 07:00:00</td>\n",
       "      <td>2023-12-03 13:00:00</td>\n",
       "      <td>360</td>\n",
       "      <td>...</td>\n",
       "      <td>0.34</td>\n",
       "      <td>81.0</td>\n",
       "      <td>65.0</td>\n",
       "      <td>66.0</td>\n",
       "      <td>2023-06-30</td>\n",
       "      <td>6</td>\n",
       "      <td>2023</td>\n",
       "      <td>Early Morning</td>\n",
       "      <td>Afternoon</td>\n",
       "      <td>0</td>\n",
       "    </tr>\n",
       "    <tr>\n",
       "      <th>1580</th>\n",
       "      <td>2022-09-03</td>\n",
       "      <td>Sat</td>\n",
       "      <td>Rt 41 North Basin Maranacook</td>\n",
       "      <td>Readfield</td>\n",
       "      <td>Maranacook Lake</td>\n",
       "      <td>5644</td>\n",
       "      <td>Paid</td>\n",
       "      <td>1900-01-01 07:00:00</td>\n",
       "      <td>2023-12-03 13:00:00</td>\n",
       "      <td>360</td>\n",
       "      <td>...</td>\n",
       "      <td>0.00</td>\n",
       "      <td>77.0</td>\n",
       "      <td>50.0</td>\n",
       "      <td>57.0</td>\n",
       "      <td>2022-09-03</td>\n",
       "      <td>9</td>\n",
       "      <td>2022</td>\n",
       "      <td>Early Morning</td>\n",
       "      <td>Afternoon</td>\n",
       "      <td>0</td>\n",
       "    </tr>\n",
       "    <tr>\n",
       "      <th>1741</th>\n",
       "      <td>2023-06-02</td>\n",
       "      <td>Fri</td>\n",
       "      <td>Launch Drive Cobbosseecontee</td>\n",
       "      <td>Monmouth</td>\n",
       "      <td>Cobbosseecontee Lake</td>\n",
       "      <td>5714</td>\n",
       "      <td>Paid</td>\n",
       "      <td>1900-01-01 09:00:00</td>\n",
       "      <td>2023-12-03 19:00:00</td>\n",
       "      <td>600</td>\n",
       "      <td>...</td>\n",
       "      <td>0.00</td>\n",
       "      <td>95.0</td>\n",
       "      <td>63.0</td>\n",
       "      <td>78.0</td>\n",
       "      <td>2023-06-02</td>\n",
       "      <td>6</td>\n",
       "      <td>2023</td>\n",
       "      <td>Morning</td>\n",
       "      <td>Evening</td>\n",
       "      <td>0</td>\n",
       "    </tr>\n",
       "    <tr>\n",
       "      <th>1344</th>\n",
       "      <td>2022-08-08</td>\n",
       "      <td>Mon</td>\n",
       "      <td>Launch Drive Cobbosseecontee</td>\n",
       "      <td>Monmouth</td>\n",
       "      <td>Cobbosseecontee Lake</td>\n",
       "      <td>5305</td>\n",
       "      <td>Paid</td>\n",
       "      <td>1900-01-01 07:00:00</td>\n",
       "      <td>2023-12-03 13:00:00</td>\n",
       "      <td>360</td>\n",
       "      <td>...</td>\n",
       "      <td>0.03</td>\n",
       "      <td>91.0</td>\n",
       "      <td>72.0</td>\n",
       "      <td>75.0</td>\n",
       "      <td>2022-08-08</td>\n",
       "      <td>8</td>\n",
       "      <td>2022</td>\n",
       "      <td>Early Morning</td>\n",
       "      <td>Afternoon</td>\n",
       "      <td>0</td>\n",
       "    </tr>\n",
       "    <tr>\n",
       "      <th>1639</th>\n",
       "      <td>2022-09-09</td>\n",
       "      <td>Fri</td>\n",
       "      <td>Launch Drive Cobbosseecontee</td>\n",
       "      <td>Monmouth</td>\n",
       "      <td>Cobbosseecontee Lake</td>\n",
       "      <td>5714</td>\n",
       "      <td>Paid</td>\n",
       "      <td>1900-01-01 07:00:00</td>\n",
       "      <td>2023-12-03 13:00:00</td>\n",
       "      <td>360</td>\n",
       "      <td>...</td>\n",
       "      <td>0.00</td>\n",
       "      <td>79.0</td>\n",
       "      <td>52.0</td>\n",
       "      <td>58.0</td>\n",
       "      <td>2022-09-09</td>\n",
       "      <td>9</td>\n",
       "      <td>2022</td>\n",
       "      <td>Early Morning</td>\n",
       "      <td>Afternoon</td>\n",
       "      <td>0</td>\n",
       "    </tr>\n",
       "    <tr>\n",
       "      <th>29</th>\n",
       "      <td>2021-06-04</td>\n",
       "      <td>Fri</td>\n",
       "      <td>Thorofare Rd</td>\n",
       "      <td>Litchfield</td>\n",
       "      <td>Pleasant Pond</td>\n",
       "      <td>3504</td>\n",
       "      <td>Paid</td>\n",
       "      <td>1900-01-01 12:00:00</td>\n",
       "      <td>2023-12-03 18:00:00</td>\n",
       "      <td>360</td>\n",
       "      <td>...</td>\n",
       "      <td>0.08</td>\n",
       "      <td>77.0</td>\n",
       "      <td>63.0</td>\n",
       "      <td>67.0</td>\n",
       "      <td>2021-06-04</td>\n",
       "      <td>6</td>\n",
       "      <td>2021</td>\n",
       "      <td>Afternoon</td>\n",
       "      <td>Evening</td>\n",
       "      <td>0</td>\n",
       "    </tr>\n",
       "    <tr>\n",
       "      <th>2446</th>\n",
       "      <td>2023-08-24</td>\n",
       "      <td>Thu</td>\n",
       "      <td>Launch Drive Cobbosseecontee</td>\n",
       "      <td>Monmouth</td>\n",
       "      <td>Cobbosseecontee Lake</td>\n",
       "      <td>5987</td>\n",
       "      <td>Paid</td>\n",
       "      <td>1900-01-01 07:00:00</td>\n",
       "      <td>2023-12-03 13:00:00</td>\n",
       "      <td>360</td>\n",
       "      <td>...</td>\n",
       "      <td>0.00</td>\n",
       "      <td>81.0</td>\n",
       "      <td>55.0</td>\n",
       "      <td>60.0</td>\n",
       "      <td>2023-08-24</td>\n",
       "      <td>8</td>\n",
       "      <td>2023</td>\n",
       "      <td>Early Morning</td>\n",
       "      <td>Afternoon</td>\n",
       "      <td>0</td>\n",
       "    </tr>\n",
       "    <tr>\n",
       "      <th>477</th>\n",
       "      <td>2021-08-15</td>\n",
       "      <td>Sun</td>\n",
       "      <td>Thorofare Rd</td>\n",
       "      <td>Litchfield</td>\n",
       "      <td>Pleasant Pond</td>\n",
       "      <td>4944</td>\n",
       "      <td>Paid</td>\n",
       "      <td>1900-01-01 07:00:00</td>\n",
       "      <td>2023-12-03 13:00:00</td>\n",
       "      <td>360</td>\n",
       "      <td>...</td>\n",
       "      <td>0.34</td>\n",
       "      <td>89.0</td>\n",
       "      <td>60.0</td>\n",
       "      <td>65.0</td>\n",
       "      <td>2021-08-15</td>\n",
       "      <td>8</td>\n",
       "      <td>2021</td>\n",
       "      <td>Early Morning</td>\n",
       "      <td>Afternoon</td>\n",
       "      <td>0</td>\n",
       "    </tr>\n",
       "    <tr>\n",
       "      <th>817</th>\n",
       "      <td>2022-06-25</td>\n",
       "      <td>Sat</td>\n",
       "      <td>Launch Drive Cobbosseecontee</td>\n",
       "      <td>Monmouth</td>\n",
       "      <td>Cobbosseecontee Lake</td>\n",
       "      <td>3796</td>\n",
       "      <td>Paid</td>\n",
       "      <td>1900-01-01 13:00:00</td>\n",
       "      <td>2023-12-03 19:00:00</td>\n",
       "      <td>360</td>\n",
       "      <td>...</td>\n",
       "      <td>0.00</td>\n",
       "      <td>83.0</td>\n",
       "      <td>58.0</td>\n",
       "      <td>73.0</td>\n",
       "      <td>2022-06-25</td>\n",
       "      <td>6</td>\n",
       "      <td>2022</td>\n",
       "      <td>Afternoon</td>\n",
       "      <td>Evening</td>\n",
       "      <td>0</td>\n",
       "    </tr>\n",
       "  </tbody>\n",
       "</table>\n",
       "<p>25 rows × 21 columns</p>\n",
       "</div>"
      ],
      "text/plain": [
       "           DATE1 DAY_OF_WEEK                        SITE_NAME        TOWN  \\\n",
       "272   2021-07-16         Fri          Augusta West Kampground    Winthrop   \n",
       "1523  2022-08-28         Sun     Launch Drive Cobbosseecontee    Monmouth   \n",
       "1671  2022-09-17         Sat    East Winthrop Cobbosseecontee    Winthrop   \n",
       "2043  2023-07-09         Sun        Holmes Road Annabessacook    Winthrop   \n",
       "2199  2023-07-26         Wed    East Winthrop Cobbosseecontee    Winthrop   \n",
       "361   2021-07-31         Sat                    East Winthrop    Winthrop   \n",
       "561   2021-08-28         Sat                 Wilson Pond Road    Monmouth   \n",
       "484   2021-08-15         Sun          Augusta West Kampground    Winthrop   \n",
       "570   2021-08-28         Sat              Old Kents Hill Road   Readfield   \n",
       "744   2022-06-12         Sun     Launch Drive Cobbosseecontee    Monmouth   \n",
       "2483  2023-08-11         Fri  Lakeside Marina Cobbosseecontee    Winthrop   \n",
       "2479  2023-08-06         Sun  Lakeside Marina Cobbosseecontee    Winthrop   \n",
       "282   2021-07-17         Sat                    East Winthrop    Winthrop   \n",
       "1116  2022-07-21         Thu    East Winthrop Cobbosseecontee    Winthrop   \n",
       "835   2022-06-26         Sun    East Winthrop Cobbosseecontee    Winthrop   \n",
       "2546  2023-06-15         Thu  Lakeside Marina Cobbosseecontee    Winthrop   \n",
       "1942  2023-06-30         Fri    East Winthrop Cobbosseecontee    Winthrop   \n",
       "1580  2022-09-03         Sat     Rt 41 North Basin Maranacook   Readfield   \n",
       "1741  2023-06-02         Fri     Launch Drive Cobbosseecontee    Monmouth   \n",
       "1344  2022-08-08         Mon     Launch Drive Cobbosseecontee    Monmouth   \n",
       "1639  2022-09-09         Fri     Launch Drive Cobbosseecontee    Monmouth   \n",
       "29    2021-06-04         Fri                     Thorofare Rd  Litchfield   \n",
       "2446  2023-08-24         Thu     Launch Drive Cobbosseecontee    Monmouth   \n",
       "477   2021-08-15         Sun                     Thorofare Rd  Litchfield   \n",
       "817   2022-06-25         Sat     Launch Drive Cobbosseecontee    Monmouth   \n",
       "\n",
       "                 WATERBODY  INSPECTOR_ID    PAY_VOL         SHIFT_START  \\\n",
       "272     Annabessacook Lake          4769       Paid 1900-01-01 12:00:00   \n",
       "1523  Cobbosseecontee Lake          5580       Paid 1900-01-01 07:00:00   \n",
       "1671  Cobbosseecontee Lake          3504       Paid 1900-01-01 13:00:00   \n",
       "2043    Annabessacook Lake          5648       Paid 1900-01-01 13:00:00   \n",
       "2199  Cobbosseecontee Lake          5670       Paid 1900-01-01 07:00:00   \n",
       "361   Cobbosseecontee Lake          5367       Paid 1900-01-01 07:00:00   \n",
       "561            Wilson Pond          4770       Paid 1900-01-01 07:00:00   \n",
       "484     Annabessacook Lake          4769       Paid 1900-01-01 08:00:00   \n",
       "570            Torsey Lake          5451  Volunteer 1900-01-01 15:00:00   \n",
       "744   Cobbosseecontee Lake          5005       Paid 1900-01-01 13:00:00   \n",
       "2483  Cobbosseecontee Lake          5652       Paid 1900-01-01 15:00:00   \n",
       "2479  Cobbosseecontee Lake          5652       Paid 1900-01-01 10:00:00   \n",
       "282   Cobbosseecontee Lake          3504       Paid 1900-01-01 13:00:00   \n",
       "1116  Cobbosseecontee Lake          5670       Paid 1900-01-01 13:00:00   \n",
       "835   Cobbosseecontee Lake          5305       Paid 1900-01-01 07:00:00   \n",
       "2546  Cobbosseecontee Lake          5652       Paid 1900-01-01 11:00:00   \n",
       "1942  Cobbosseecontee Lake          5006       Paid 1900-01-01 07:00:00   \n",
       "1580       Maranacook Lake          5644       Paid 1900-01-01 07:00:00   \n",
       "1741  Cobbosseecontee Lake          5714       Paid 1900-01-01 09:00:00   \n",
       "1344  Cobbosseecontee Lake          5305       Paid 1900-01-01 07:00:00   \n",
       "1639  Cobbosseecontee Lake          5714       Paid 1900-01-01 07:00:00   \n",
       "29           Pleasant Pond          3504       Paid 1900-01-01 12:00:00   \n",
       "2446  Cobbosseecontee Lake          5987       Paid 1900-01-01 07:00:00   \n",
       "477          Pleasant Pond          4944       Paid 1900-01-01 07:00:00   \n",
       "817   Cobbosseecontee Lake          3796       Paid 1900-01-01 13:00:00   \n",
       "\n",
       "               SHIFT_END  SHIFT_LENGTH  ...  PRCP  TMAX  TMIN  TOBS  \\\n",
       "272  2023-12-03 18:00:00           360  ...  0.00  88.0  67.0  74.0   \n",
       "1523 2023-12-03 13:00:00           360  ...  0.00  78.0  62.0  67.0   \n",
       "1671 2023-12-03 19:00:00           360  ...  0.00  67.0  44.0  50.0   \n",
       "2043 2023-12-03 19:00:00           360  ...  0.01  79.0  68.0  70.0   \n",
       "2199 2023-12-03 13:00:00           360  ...  1.24  88.0  65.0  71.0   \n",
       "361  2023-12-03 13:00:00           360  ...  0.00  75.0  56.0  63.0   \n",
       "561  2023-12-03 17:00:00           600  ...  0.00  84.0  54.0  62.0   \n",
       "484  2023-12-03 18:00:00           600  ...  0.34  89.0  60.0  65.0   \n",
       "570  2023-12-03 17:00:00           120  ...  0.00  84.0  54.0  62.0   \n",
       "744  2023-12-03 19:00:00           360  ...  0.01  78.0  53.0  68.0   \n",
       "2483 2023-12-03 17:00:00           120  ...  0.24  86.0  63.0  69.0   \n",
       "2479 2023-12-03 11:00:00            60  ...  0.03  80.0  57.0  65.0   \n",
       "282  2023-12-03 19:00:00           360  ...  0.00  89.0  66.0  69.0   \n",
       "1116 2023-12-03 19:00:00           360  ...  0.00  92.0  69.0  75.0   \n",
       "835  2023-12-03 13:00:00           360  ...  0.00  92.0  64.0  76.0   \n",
       "2546 2023-12-03 16:00:00           300  ...  0.08  75.0  58.0  60.0   \n",
       "1942 2023-12-03 13:00:00           360  ...  0.34  81.0  65.0  66.0   \n",
       "1580 2023-12-03 13:00:00           360  ...  0.00  77.0  50.0  57.0   \n",
       "1741 2023-12-03 19:00:00           600  ...  0.00  95.0  63.0  78.0   \n",
       "1344 2023-12-03 13:00:00           360  ...  0.03  91.0  72.0  75.0   \n",
       "1639 2023-12-03 13:00:00           360  ...  0.00  79.0  52.0  58.0   \n",
       "29   2023-12-03 18:00:00           360  ...  0.08  77.0  63.0  67.0   \n",
       "2446 2023-12-03 13:00:00           360  ...  0.00  81.0  55.0  60.0   \n",
       "477  2023-12-03 13:00:00           360  ...  0.34  89.0  60.0  65.0   \n",
       "817  2023-12-03 19:00:00           360  ...  0.00  83.0  58.0  73.0   \n",
       "\n",
       "           DATE month  year  SHIFT_START_CATEGORY SHIFT_END_CATEGORY holiday  \n",
       "272  2021-07-16     7  2021             Afternoon            Evening       0  \n",
       "1523 2022-08-28     8  2022         Early Morning          Afternoon       0  \n",
       "1671 2022-09-17     9  2022             Afternoon            Evening       0  \n",
       "2043 2023-07-09     7  2023             Afternoon            Evening       0  \n",
       "2199 2023-07-26     7  2023         Early Morning          Afternoon       0  \n",
       "361  2021-07-31     7  2021         Early Morning          Afternoon       0  \n",
       "561  2021-08-28     8  2021         Early Morning     Late Afternoon       0  \n",
       "484  2021-08-15     8  2021         Early Morning            Evening       0  \n",
       "570  2021-08-28     8  2021        Late Afternoon     Late Afternoon       0  \n",
       "744  2022-06-12     6  2022             Afternoon            Evening       0  \n",
       "2483 2023-08-11     8  2023        Late Afternoon     Late Afternoon       0  \n",
       "2479 2023-08-06     8  2023               Morning            Morning       0  \n",
       "282  2021-07-17     7  2021             Afternoon            Evening       0  \n",
       "1116 2022-07-21     7  2022             Afternoon            Evening       0  \n",
       "835  2022-06-26     6  2022         Early Morning          Afternoon       0  \n",
       "2546 2023-06-15     6  2023               Morning     Late Afternoon       0  \n",
       "1942 2023-06-30     6  2023         Early Morning          Afternoon       0  \n",
       "1580 2022-09-03     9  2022         Early Morning          Afternoon       0  \n",
       "1741 2023-06-02     6  2023               Morning            Evening       0  \n",
       "1344 2022-08-08     8  2022         Early Morning          Afternoon       0  \n",
       "1639 2022-09-09     9  2022         Early Morning          Afternoon       0  \n",
       "29   2021-06-04     6  2021             Afternoon            Evening       0  \n",
       "2446 2023-08-24     8  2023         Early Morning          Afternoon       0  \n",
       "477  2021-08-15     8  2021         Early Morning          Afternoon       0  \n",
       "817  2022-06-25     6  2022             Afternoon            Evening       0  \n",
       "\n",
       "[25 rows x 21 columns]"
      ]
     },
     "execution_count": 128,
     "metadata": {},
     "output_type": "execute_result"
    }
   ],
   "source": [
    "df.sample(25)"
   ]
  },
  {
   "cell_type": "code",
   "execution_count": 129,
   "id": "613ed277-120d-4443-a917-671c59d2fb2d",
   "metadata": {
    "tags": []
   },
   "outputs": [],
   "source": [
    "X2 = df.drop(columns=['DATE1', 'TOWN', 'WATERBODY', 'INSPECTOR_ID', 'TOTALINSP', 'TOBS', 'DATE', 'SHIFT_START', 'SHIFT_END'])\n",
    "y2 = df.TOTALINSP            \n",
    "\n",
    "X2_train, X2_test, y2_train, y2_test = train_test_split(X2, y2, random_state=42, test_size=.2)"
   ]
  },
  {
   "cell_type": "code",
   "execution_count": 130,
   "id": "715ddaad-b278-4514-a99a-26e72e27af8a",
   "metadata": {
    "tags": []
   },
   "outputs": [],
   "source": [
    "categorical_columns = ['SITE_NAME', 'DAY_OF_WEEK', 'month', 'year', 'PAY_VOL', 'SHIFT_START_CATEGORY', 'SHIFT_END_CATEGORY']\n",
    "oh = OneHotEncoder(handle_unknown='ignore', drop='first')\n",
    "X2_train_transformed = oh.fit_transform(X2_train[categorical_columns])\n",
    "X2_test_transformed= oh.transform(X2_test[categorical_columns])"
   ]
  },
  {
   "cell_type": "code",
   "execution_count": 131,
   "id": "11b41c9b-acd4-47bc-afa5-c9f1bd588d07",
   "metadata": {
    "tags": []
   },
   "outputs": [
    {
     "name": "stdout",
     "output_type": "stream",
     "text": [
      "0.43299897430845313\n",
      "0.45589238044822944\n"
     ]
    }
   ],
   "source": [
    "lr2 = LinearRegression()\n",
    "lr2.fit(X2_train_transformed, y2_train)\n",
    "print(lr2.score(X2_train_transformed, y2_train))\n",
    "print(lr2.score(X2_test_transformed, y2_test))"
   ]
  },
  {
   "cell_type": "code",
   "execution_count": 132,
   "id": "0bf347bf-8609-472c-a106-20413631c271",
   "metadata": {
    "tags": []
   },
   "outputs": [
    {
     "name": "stdout",
     "output_type": "stream",
     "text": [
      "0.7988425326030364\n",
      "0.3845439939140577\n"
     ]
    }
   ],
   "source": [
    "rf2 = RandomForestRegressor()\n",
    "rf2.fit(X2_train_transformed, y2_train)\n",
    "print(rf2.score(X2_train_transformed, y2_train))\n",
    "print(rf1.score(X2_test_transformed, y2_test))    "
   ]
  },
  {
   "cell_type": "code",
   "execution_count": 133,
   "id": "8506b11e-c80f-41b3-9db2-fbe00c5cced8",
   "metadata": {
    "tags": []
   },
   "outputs": [
    {
     "name": "stdout",
     "output_type": "stream",
     "text": [
      "0.8333177482959641\n",
      "0.18351178227378473\n"
     ]
    }
   ],
   "source": [
    "et2 =ExtraTreesRegressor()\n",
    "et2.fit(X2_train_transformed, y2_train)\n",
    "print(et2.score(X2_train_transformed, y2_train))\n",
    "print(et2.score(X2_test_transformed, y2_test))     "
   ]
  },
  {
   "cell_type": "code",
   "execution_count": 134,
   "id": "6856be61-e36c-4d62-a330-b54dafbb9f67",
   "metadata": {},
   "outputs": [],
   "source": [
    "# List of holidays\n",
    "# 2021: Monday, May 31 Memorial Day, Sunday July 4 (Observed Monday), Monday September 6 (Labor Day), Sunday May 9 (Mother's Day), Father's Day (Sunday, June 20)\n",
    "# 2022: Sunday May 08, Mother's Day, 'Monday May 30 Memorial Day, Monday September 5 Labor Day, Monday July 4, Sunday June 19 Father's Day\n",
    "# 2023: Monday, May 29 Memorial Day, Monday June19 Juneteenth, Tuesday, July 04, Monday September 04 Labor Day, Mother's Day Sunday May 14, Father's Day Sunday June 18\n",
    "#'2021-05-09', '2022-05-08', , '2023-06-19'\n",
    "holiday_list_weekends = ['2021-05-31', '2021-05-29', '2021-05-30', '2021-07-04', '2021-07-03', '2021-07-05', '2021-09-06', '2021-09-04', '2021-09-05', '2021-06-19', '2021-06-20',\n",
    "                '2022-05-28', '2022-05-29', '2022-05-30', '2022-07-02', '2022-07-03', '2022-07-04', '2022-06-19', '2022-09-03', '2022-09-04', '2022-06-18',\n",
    "                '2023-05-29', '2023-05-27', '2023-05-28', '2023-07-01', '2023-07-02', '2023-07-04', '2023-09-02', '2023-09-03', '2023-09-04', '2023-06-18', '2023-06-17']"
   ]
  },
  {
   "cell_type": "code",
   "execution_count": 135,
   "id": "85e66ce0-d716-4236-9ed0-dc9276b7dd55",
   "metadata": {
    "tags": []
   },
   "outputs": [],
   "source": [
    "df['holiday']= np.where(df['DATE'].isin(holiday_list_weekends), 1, 0)"
   ]
  },
  {
   "cell_type": "code",
   "execution_count": 136,
   "id": "060bd833-f733-41ee-9c56-af97441c884f",
   "metadata": {
    "tags": []
   },
   "outputs": [],
   "source": [
    "X3 = df.drop(columns=['DATE1', 'TOWN', 'WATERBODY', 'INSPECTOR_ID', 'TOTALINSP', 'TOBS', 'DATE', 'SHIFT_START', 'SHIFT_END'])\n",
    "y3 = df.TOTALINSP            \n",
    "\n",
    "X3_train, X3_test, y3_train, y3_test = train_test_split(X3, y3, random_state=42, test_size=.2)"
   ]
  },
  {
   "cell_type": "code",
   "execution_count": 137,
   "id": "0cac1148-1799-4a27-a327-9cf1d34cd646",
   "metadata": {
    "tags": []
   },
   "outputs": [],
   "source": [
    "categorical_columns = ['SITE_NAME', 'DAY_OF_WEEK', 'month', 'year', 'PAY_VOL', 'SHIFT_START_CATEGORY', 'SHIFT_END_CATEGORY']\n",
    "oh = OneHotEncoder(handle_unknown='ignore', drop='first')\n",
    "X3_train_transformed = oh.fit_transform(X3_train[categorical_columns])\n",
    "X3_test_transformed= oh.transform(X3_test[categorical_columns])"
   ]
  },
  {
   "cell_type": "code",
   "execution_count": 138,
   "id": "0ff59fd4-c2fc-4c8b-89d9-6d3540ecc491",
   "metadata": {
    "tags": []
   },
   "outputs": [
    {
     "name": "stdout",
     "output_type": "stream",
     "text": [
      "0.43299897430845313\n",
      "0.45589238044822944\n"
     ]
    }
   ],
   "source": [
    "lr3 = LinearRegression()\n",
    "lr3.fit(X3_train_transformed, y3_train)\n",
    "print(lr3.score(X3_train_transformed, y3_train))\n",
    "print(lr3.score(X3_test_transformed, y3_test))"
   ]
  },
  {
   "cell_type": "code",
   "execution_count": 139,
   "id": "89b89897-fd89-43fd-874f-d535950811a2",
   "metadata": {
    "tags": []
   },
   "outputs": [
    {
     "name": "stdout",
     "output_type": "stream",
     "text": [
      "0.7988694185175699\n",
      "0.3861419926788837\n"
     ]
    }
   ],
   "source": [
    "rf3 = RandomForestRegressor()\n",
    "rf3.fit(X3_train_transformed, y3_train)\n",
    "print(rf3.score(X3_train_transformed, y3_train))\n",
    "print(rf3.score(X3_test_transformed, y3_test))    "
   ]
  },
  {
   "cell_type": "code",
   "execution_count": 140,
   "id": "7868093f-9b36-4d7c-9708-56b7105c9b80",
   "metadata": {
    "tags": []
   },
   "outputs": [
    {
     "name": "stdout",
     "output_type": "stream",
     "text": [
      "0.8333177482959641\n",
      "0.187679792316212\n"
     ]
    }
   ],
   "source": [
    "et3 =ExtraTreesRegressor()\n",
    "et3.fit(X3_train_transformed, y3_train)\n",
    "print(et3.score(X3_train_transformed, y3_train))\n",
    "print(et3.score(X3_test_transformed, y3_test))     "
   ]
  },
  {
   "cell_type": "code",
   "execution_count": 46,
   "id": "d01e0e00-c423-4377-a11a-cd665971eac3",
   "metadata": {
    "tags": []
   },
   "outputs": [
    {
     "data": {
      "text/plain": [
       "0    2139\n",
       "1     426\n",
       "Name: holiday, dtype: int64"
      ]
     },
     "execution_count": 46,
     "metadata": {},
     "output_type": "execute_result"
    }
   ],
   "source": [
    "df['holiday'].value_counts()"
   ]
  },
  {
   "cell_type": "code",
   "execution_count": null,
   "id": "68168f7d-dbbb-4c90-a0e8-481a35fb5077",
   "metadata": {},
   "outputs": [],
   "source": [
    "# Filling in the weather data using forward fill rather than dropping made the models worse not better.\n",
    "# Filling in the weather data using back fill was better than forward fil- compare to dropping and compare to fill using other station if possible"
   ]
  },
  {
   "cell_type": "code",
   "execution_count": 2,
   "id": "2277fe10-e4aa-45a1-bc95-4ef493eedb7b",
   "metadata": {
    "tags": []
   },
   "outputs": [],
   "source": [
    "df1 = pd.read_csv('data/df1_with_weather1.csv')"
   ]
  },
  {
   "cell_type": "code",
   "execution_count": 3,
   "id": "3bc4593d-dc91-4a21-9696-0908eac825f5",
   "metadata": {
    "tags": []
   },
   "outputs": [
    {
     "data": {
      "text/html": [
       "<div>\n",
       "<style scoped>\n",
       "    .dataframe tbody tr th:only-of-type {\n",
       "        vertical-align: middle;\n",
       "    }\n",
       "\n",
       "    .dataframe tbody tr th {\n",
       "        vertical-align: top;\n",
       "    }\n",
       "\n",
       "    .dataframe thead th {\n",
       "        text-align: right;\n",
       "    }\n",
       "</style>\n",
       "<table border=\"1\" class=\"dataframe\">\n",
       "  <thead>\n",
       "    <tr style=\"text-align: right;\">\n",
       "      <th></th>\n",
       "      <th>DATE1</th>\n",
       "      <th>DAY_OF_WEEK</th>\n",
       "      <th>SITE_NAME</th>\n",
       "      <th>TOWN</th>\n",
       "      <th>WATERBODY</th>\n",
       "      <th>INSPECTOR_ID</th>\n",
       "      <th>PAY_VOL</th>\n",
       "      <th>SHIFT_START</th>\n",
       "      <th>TRAILERS</th>\n",
       "      <th>SHIFT_END</th>\n",
       "      <th>SHIFT_LENGTH</th>\n",
       "      <th>TOTALINSP</th>\n",
       "      <th>NAME</th>\n",
       "      <th>PRCP</th>\n",
       "      <th>TMAX</th>\n",
       "      <th>TMIN</th>\n",
       "      <th>ID_COUNT</th>\n",
       "    </tr>\n",
       "  </thead>\n",
       "  <tbody>\n",
       "    <tr>\n",
       "      <th>0</th>\n",
       "      <td>2021-05-28</td>\n",
       "      <td>Fri</td>\n",
       "      <td>Launch Drive</td>\n",
       "      <td>Monmouth</td>\n",
       "      <td>Cobbosseecontee Lake</td>\n",
       "      <td>4771</td>\n",
       "      <td>Paid</td>\n",
       "      <td>12:00</td>\n",
       "      <td>10.0</td>\n",
       "      <td>18:00</td>\n",
       "      <td>360</td>\n",
       "      <td>33.0</td>\n",
       "      <td>WINTHROP, ME US</td>\n",
       "      <td>0.00</td>\n",
       "      <td>72.0</td>\n",
       "      <td>45.0</td>\n",
       "      <td>55</td>\n",
       "    </tr>\n",
       "    <tr>\n",
       "      <th>1</th>\n",
       "      <td>2021-05-28</td>\n",
       "      <td>Fri</td>\n",
       "      <td>Whippoorwill Road</td>\n",
       "      <td>Litchfield</td>\n",
       "      <td>Woodbury Pond</td>\n",
       "      <td>4174</td>\n",
       "      <td>Paid</td>\n",
       "      <td>12:00</td>\n",
       "      <td>1.0</td>\n",
       "      <td>18:00</td>\n",
       "      <td>360</td>\n",
       "      <td>13.0</td>\n",
       "      <td>WINTHROP, ME US</td>\n",
       "      <td>0.00</td>\n",
       "      <td>72.0</td>\n",
       "      <td>45.0</td>\n",
       "      <td>131</td>\n",
       "    </tr>\n",
       "    <tr>\n",
       "      <th>2</th>\n",
       "      <td>2021-05-28</td>\n",
       "      <td>Fri</td>\n",
       "      <td>Augusta West Kampground</td>\n",
       "      <td>Winthrop</td>\n",
       "      <td>Annabessacook Lake</td>\n",
       "      <td>4769</td>\n",
       "      <td>Paid</td>\n",
       "      <td>12:00</td>\n",
       "      <td>0.0</td>\n",
       "      <td>18:00</td>\n",
       "      <td>360</td>\n",
       "      <td>1.0</td>\n",
       "      <td>WINTHROP, ME US</td>\n",
       "      <td>0.00</td>\n",
       "      <td>72.0</td>\n",
       "      <td>45.0</td>\n",
       "      <td>56</td>\n",
       "    </tr>\n",
       "    <tr>\n",
       "      <th>3</th>\n",
       "      <td>2021-05-28</td>\n",
       "      <td>Fri</td>\n",
       "      <td>East Winthrop</td>\n",
       "      <td>Winthrop</td>\n",
       "      <td>Cobbosseecontee Lake</td>\n",
       "      <td>4485</td>\n",
       "      <td>Paid</td>\n",
       "      <td>12:00</td>\n",
       "      <td>1.0</td>\n",
       "      <td>18:00</td>\n",
       "      <td>360</td>\n",
       "      <td>2.0</td>\n",
       "      <td>WINTHROP, ME US</td>\n",
       "      <td>0.00</td>\n",
       "      <td>72.0</td>\n",
       "      <td>45.0</td>\n",
       "      <td>16</td>\n",
       "    </tr>\n",
       "    <tr>\n",
       "      <th>4</th>\n",
       "      <td>2021-05-29</td>\n",
       "      <td>Sat</td>\n",
       "      <td>Thorofare Rd</td>\n",
       "      <td>Litchfield</td>\n",
       "      <td>Pleasant Pond</td>\n",
       "      <td>4944</td>\n",
       "      <td>Paid</td>\n",
       "      <td>7:00</td>\n",
       "      <td>1.0</td>\n",
       "      <td>17:00</td>\n",
       "      <td>600</td>\n",
       "      <td>11.0</td>\n",
       "      <td>WINTHROP, ME US</td>\n",
       "      <td>0.02</td>\n",
       "      <td>62.0</td>\n",
       "      <td>45.0</td>\n",
       "      <td>57</td>\n",
       "    </tr>\n",
       "  </tbody>\n",
       "</table>\n",
       "</div>"
      ],
      "text/plain": [
       "        DATE1 DAY_OF_WEEK                SITE_NAME        TOWN  \\\n",
       "0  2021-05-28         Fri             Launch Drive    Monmouth   \n",
       "1  2021-05-28         Fri        Whippoorwill Road  Litchfield   \n",
       "2  2021-05-28         Fri  Augusta West Kampground    Winthrop   \n",
       "3  2021-05-28         Fri            East Winthrop    Winthrop   \n",
       "4  2021-05-29         Sat             Thorofare Rd  Litchfield   \n",
       "\n",
       "              WATERBODY  INSPECTOR_ID PAY_VOL SHIFT_START  TRAILERS SHIFT_END  \\\n",
       "0  Cobbosseecontee Lake          4771    Paid       12:00      10.0     18:00   \n",
       "1         Woodbury Pond          4174    Paid       12:00       1.0     18:00   \n",
       "2    Annabessacook Lake          4769    Paid       12:00       0.0     18:00   \n",
       "3  Cobbosseecontee Lake          4485    Paid       12:00       1.0     18:00   \n",
       "4         Pleasant Pond          4944    Paid        7:00       1.0     17:00   \n",
       "\n",
       "   SHIFT_LENGTH  TOTALINSP             NAME  PRCP  TMAX  TMIN  ID_COUNT  \n",
       "0           360       33.0  WINTHROP, ME US  0.00  72.0  45.0        55  \n",
       "1           360       13.0  WINTHROP, ME US  0.00  72.0  45.0       131  \n",
       "2           360        1.0  WINTHROP, ME US  0.00  72.0  45.0        56  \n",
       "3           360        2.0  WINTHROP, ME US  0.00  72.0  45.0        16  \n",
       "4           600       11.0  WINTHROP, ME US  0.02  62.0  45.0        57  "
      ]
     },
     "execution_count": 3,
     "metadata": {},
     "output_type": "execute_result"
    }
   ],
   "source": [
    "df1.head()"
   ]
  },
  {
   "cell_type": "code",
   "execution_count": 4,
   "id": "4e7ecc73-57e8-47b9-99a4-d0109f0090df",
   "metadata": {
    "tags": []
   },
   "outputs": [],
   "source": [
    "df1.drop(columns=['TRAILERS'], inplace=True)\n",
    "df1.dropna(inplace=True)"
   ]
  },
  {
   "cell_type": "code",
   "execution_count": 5,
   "id": "f1668f71-6a95-4d33-9fe3-9ed26b287021",
   "metadata": {
    "tags": []
   },
   "outputs": [],
   "source": [
    "# Convert 'date1' to datetime\n",
    "df1['DATE'] = pd.to_datetime(df1['DATE1'], format='%Y/%m/%d')\n",
    "\n",
    "# Create 'month' and 'year' columns\n",
    "df1['month'] = df1['DATE'].dt.month\n",
    "df1['year'] = df1['DATE'].dt.year"
   ]
  },
  {
   "cell_type": "code",
   "execution_count": 6,
   "id": "00e08479-68b8-4b42-acfd-f6ada10a506f",
   "metadata": {
    "tags": []
   },
   "outputs": [],
   "source": [
    "df1.SHIFT_START = pd.to_datetime(df1.SHIFT_START, format='%H:%M')\n",
    "df1.SHIFT_END = pd.to_datetime(df1.SHIFT_END)"
   ]
  },
  {
   "cell_type": "code",
   "execution_count": 7,
   "id": "fa55d658-85af-4947-a952-56dfe2748488",
   "metadata": {
    "tags": []
   },
   "outputs": [],
   "source": [
    "df1['SHIFT_START_CATEGORY'] = pd.cut(pd.to_datetime(df1['SHIFT_START'], format='%H:%M').dt.hour,\n",
    "                                    bins =[-1, 8, 11, 14, 17, 24],\n",
    "                                    labels=['Early Morning', 'Morning', 'Afternoon', 'Late Afternoon', 'Evening'])\n",
    "           "
   ]
  },
  {
   "cell_type": "code",
   "execution_count": 8,
   "id": "73c738e2-b469-43b9-80bc-e6aa394a2cdc",
   "metadata": {
    "tags": []
   },
   "outputs": [],
   "source": [
    "df1['SHIFT_END_CATEGORY'] = pd.cut(pd.to_datetime(df1['SHIFT_END'], format='%H:%M').dt.hour,\n",
    "                                    bins =[-1, 8, 11, 14, 17, 19, 24],\n",
    "                                    labels=['Early Morning', 'Morning', 'Afternoon', 'Late Afternoon', 'Evening', 'Night'])\n",
    "                        "
   ]
  },
  {
   "cell_type": "code",
   "execution_count": 48,
   "id": "ba505b30-c472-48cc-a4de-62bcf1d840bc",
   "metadata": {
    "tags": []
   },
   "outputs": [],
   "source": [
    "holiday_list_weekends = ['2021-05-31', '2021-05-29', '2021-05-30', '2021-07-04', '2021-07-03', '2021-07-05', '2021-09-06', '2021-09-04', '2021-09-05', '2021-06-19', '2021-06-20',\n",
    "                '2022-05-28', '2022-05-29', '2022-05-30', '2022-07-02', '2022-07-03', '2022-07-04', '2022-06-19', '2022-09-03', '2022-09-04', '2022-06-18',\n",
    "                '2023-05-29', '2023-05-27', '2023-05-28', '2023-07-01', '2023-07-02', '2023-07-04', '2023-09-02', '2023-09-03', '2023-09-04', '2023-06-18', '2023-06-17']\n",
    "df1['holiday']= np.where(df1['DATE'].isin(holiday_list_weekends), 1, 0)"
   ]
  },
  {
   "cell_type": "code",
   "execution_count": 49,
   "id": "b47ce5b2-3107-41a3-be99-666c69514a6f",
   "metadata": {
    "tags": []
   },
   "outputs": [],
   "source": [
    "X1 = df1.drop(columns=['DATE1', 'TOWN', 'WATERBODY', 'INSPECTOR_ID', 'TOTALINSP', 'DATE', 'SHIFT_START', 'SHIFT_END'])\n",
    "y1 = df1.TOTALINSP            \n",
    "\n",
    "X1_train, X1_test, y1_train, y1_test = train_test_split(X1, y1, random_state=42, test_size=.2)"
   ]
  },
  {
   "cell_type": "code",
   "execution_count": 50,
   "id": "de215f08-f089-4127-b6e7-a8aadff27aa8",
   "metadata": {
    "tags": []
   },
   "outputs": [],
   "source": [
    "categorical_columns = ['SITE_NAME', 'DAY_OF_WEEK', 'month', 'year', 'PAY_VOL', 'SHIFT_START_CATEGORY', 'SHIFT_END_CATEGORY']\n",
    "oh = OneHotEncoder(handle_unknown='ignore', drop='first')\n",
    "X1_train_transformed = oh.fit_transform(X1_train[categorical_columns])\n",
    "X1_test_transformed= oh.transform(X1_test[categorical_columns])"
   ]
  },
  {
   "cell_type": "code",
   "execution_count": 51,
   "id": "a80ab12e-a7ad-4d59-92fa-1a6d5de024c9",
   "metadata": {
    "tags": []
   },
   "outputs": [
    {
     "name": "stdout",
     "output_type": "stream",
     "text": [
      "0.42266411837465556\n",
      "0.48353193229186\n"
     ]
    }
   ],
   "source": [
    "lr1 = LinearRegression()\n",
    "lr1.fit(X1_train_transformed, y1_train)\n",
    "print(lr1.score(X1_train_transformed, y1_train))\n",
    "print(lr1.score(X1_test_transformed, y1_test))"
   ]
  },
  {
   "cell_type": "code",
   "execution_count": 47,
   "id": "abaa4776-9b31-4b8a-ab57-88952b14a1d4",
   "metadata": {
    "tags": []
   },
   "outputs": [
    {
     "data": {
      "image/png": "[encoded data removed]",
      "text/plain": [
       "<Figure size 640x480 with 1 Axes>"
      ]
     },
     "metadata": {},
     "output_type": "display_data"
    }
   ],
   "source": [
    "y_preds = lr1.predict(X1_transformed)\n",
    "\n",
    "resids = (y1 - y_preds)\n",
    "\n",
    "# Looking at a Scatterplot to check for equal variance of errors:\n",
    "plt.scatter(y_preds, resids, s=1)\n",
    "plt.title('Plot of Predictions vs Residuals')\n",
    "plt.xlabel('Predicted Number of Inspections')\n",
    "plt.ylabel('Difference in expected vs actual number of inspections')\n",
    "plt.axhline(0, color=\"orange\");"
   ]
  },
  {
   "cell_type": "code",
   "execution_count": null,
   "id": "c936e10a-8ae3-424c-8af6-7fc6e312cd29",
   "metadata": {},
   "outputs": [],
   "source": []
  },
  {
   "cell_type": "code",
   "execution_count": 16,
   "id": "c55b954e-523d-495c-931a-c3c908abbe3b",
   "metadata": {
    "tags": []
   },
   "outputs": [
    {
     "name": "stdout",
     "output_type": "stream",
     "text": [
      "0.7893543495511808\n",
      "0.44322031454391253\n"
     ]
    }
   ],
   "source": [
    "rf1 = RandomForestRegressor()\n",
    "rf1.fit(X1_train_transformed, y1_train)\n",
    "print(rf1.score(X1_train_transformed, y1_train))\n",
    "print(rf1.score(X1_test_transformed, y1_test))    "
   ]
  },
  {
   "cell_type": "code",
   "execution_count": 17,
   "id": "2b72e520-29af-437d-a195-b5a039a0ebc5",
   "metadata": {
    "tags": []
   },
   "outputs": [
    {
     "name": "stdout",
     "output_type": "stream",
     "text": [
      "0.8243313162085231\n",
      "0.20099809447507122\n"
     ]
    }
   ],
   "source": [
    "et1 =ExtraTreesRegressor()\n",
    "et1.fit(X1_train_transformed, y1_train)\n",
    "print(et1.score(X1_train_transformed, y1_train))\n",
    "print(et1.score(X1_test_transformed, y1_test))   "
   ]
  },
  {
   "cell_type": "code",
   "execution_count": null,
   "id": "7c3acc2a-6d87-4e8c-adb9-d6446a87576c",
   "metadata": {},
   "outputs": [],
   "source": []
  },
  {
   "cell_type": "code",
   "execution_count": 52,
   "id": "72f5a5ef-5a57-4771-b0a5-daa3276b882f",
   "metadata": {
    "tags": []
   },
   "outputs": [],
   "source": [
    "df1 = pd.read_csv('data/df1_with_weather1.csv')"
   ]
  },
  {
   "cell_type": "code",
   "execution_count": 53,
   "id": "46a847a8-e8e5-4faf-abc6-b24ea50ccb4b",
   "metadata": {
    "tags": []
   },
   "outputs": [],
   "source": [
    "df1.drop(columns=['TRAILERS'], inplace=True)\n",
    "df1.dropna(inplace=True)"
   ]
  },
  {
   "cell_type": "code",
   "execution_count": 54,
   "id": "55e3d342-8335-4bf5-ab0a-cad47fdddbc0",
   "metadata": {
    "tags": []
   },
   "outputs": [],
   "source": [
    "# Convert 'date1' to datetime\n",
    "df1['DATE'] = pd.to_datetime(df1['DATE1'], format='%Y/%m/%d')\n",
    "\n",
    "# Create 'month' and 'year' columns\n",
    "df1['month'] = df1['DATE'].dt.month\n",
    "df1['year'] = df1['DATE'].dt.year"
   ]
  },
  {
   "cell_type": "code",
   "execution_count": 55,
   "id": "d53c9118-deb0-463e-83f8-348945fb3633",
   "metadata": {
    "tags": []
   },
   "outputs": [],
   "source": [
    "df1.SHIFT_START = pd.to_datetime(df1.SHIFT_START, format='%H:%M')\n",
    "df1.SHIFT_END = pd.to_datetime(df1.SHIFT_END)"
   ]
  },
  {
   "cell_type": "code",
   "execution_count": 56,
   "id": "3a1680a0-e47f-47c6-a526-85bd4558a24f",
   "metadata": {
    "tags": []
   },
   "outputs": [],
   "source": [
    "df1['SHIFT_START_CATEGORY'] = pd.cut(pd.to_datetime(df1['SHIFT_START'], format='%H:%M').dt.hour,\n",
    "                                    bins =[-1, 8, 11, 14, 17, 24],\n",
    "                                    labels=['Early Morning', 'Morning', 'Afternoon', 'Late Afternoon', 'Evening'])\n",
    "           "
   ]
  },
  {
   "cell_type": "code",
   "execution_count": 57,
   "id": "1359f7b7-e493-44cc-b08f-0b8db7ab3c51",
   "metadata": {
    "tags": []
   },
   "outputs": [],
   "source": [
    "df1['SHIFT_END_CATEGORY'] = pd.cut(pd.to_datetime(df1['SHIFT_END'], format='%H:%M').dt.hour,\n",
    "                                    bins =[-1, 8, 11, 14, 17, 19, 24],\n",
    "                                    labels=['Early Morning', 'Morning', 'Afternoon', 'Late Afternoon', 'Evening', 'Night'])\n",
    "                        "
   ]
  },
  {
   "cell_type": "code",
   "execution_count": 58,
   "id": "7132ab4c-6fba-424c-8d69-4ab10602561b",
   "metadata": {
    "tags": []
   },
   "outputs": [],
   "source": [
    "# Taking father's day out of the holiday weekend\n",
    "holiday_list_weekends = ['2021-05-31', '2021-05-29', '2021-05-30', '2021-07-04', '2021-07-03', '2021-07-05', '2021-09-06', '2021-09-04', '2021-09-05',\n",
    "                '2022-05-28', '2022-05-29', '2022-05-30', '2022-07-02', '2022-07-03', '2022-07-04', '2022-09-03', '2022-09-04',\n",
    "                '2023-05-29', '2023-05-27', '2023-05-28', '2023-07-01', '2023-07-02', '2023-07-04', '2023-09-02', '2023-09-03', '2023-09-04']\n",
    "df1['holiday']= np.where(df1['DATE'].isin(holiday_list_weekends), 1, 0)"
   ]
  },
  {
   "cell_type": "code",
   "execution_count": 59,
   "id": "018923d8-bcd0-4862-aaa6-17c1460e52a8",
   "metadata": {
    "tags": []
   },
   "outputs": [],
   "source": [
    "X1 = df1.drop(columns=['DATE1', 'TOWN', 'WATERBODY', 'INSPECTOR_ID', 'TOTALINSP', 'DATE', 'SHIFT_START', 'SHIFT_END'])\n",
    "y1 = df1.TOTALINSP            \n",
    "\n",
    "X1_train, X1_test, y1_train, y1_test = train_test_split(X1, y1, random_state=42, test_size=.2)"
   ]
  },
  {
   "cell_type": "code",
   "execution_count": 60,
   "id": "e36ae089-3970-4215-9954-b2dbb99a429b",
   "metadata": {
    "tags": []
   },
   "outputs": [],
   "source": [
    "categorical_columns = ['SITE_NAME', 'DAY_OF_WEEK', 'month', 'year', 'PAY_VOL', 'SHIFT_START_CATEGORY', 'SHIFT_END_CATEGORY']\n",
    "oh = OneHotEncoder(handle_unknown='ignore', drop='first')\n",
    "X1_train_transformed = oh.fit_transform(X1_train[categorical_columns])\n",
    "X1_test_transformed= oh.transform(X1_test[categorical_columns])"
   ]
  },
  {
   "cell_type": "code",
   "execution_count": 146,
   "id": "e319df71-a96d-4198-a065-64d3f7823c72",
   "metadata": {
    "tags": []
   },
   "outputs": [],
   "source": [
    "with open('models/one_hot_encoder.pkl', 'wb') as file:\n",
    "    pickle.dump(oh, file)"
   ]
  },
  {
   "cell_type": "code",
   "execution_count": 61,
   "id": "a68066ad-c04c-4758-bae6-dfa35f827975",
   "metadata": {
    "tags": []
   },
   "outputs": [
    {
     "name": "stdout",
     "output_type": "stream",
     "text": [
      "0.42266411837465556\n",
      "0.48353193229186\n"
     ]
    }
   ],
   "source": [
    "lr1 = LinearRegression()\n",
    "lr1.fit(X1_train_transformed, y1_train)\n",
    "print(lr1.score(X1_train_transformed, y1_train))\n",
    "print(lr1.score(X1_test_transformed, y1_test))"
   ]
  },
  {
   "cell_type": "code",
   "execution_count": 62,
   "id": "b2685694-d6b8-4a9e-b7fb-4d138f3f5ab3",
   "metadata": {
    "tags": []
   },
   "outputs": [
    {
     "data": {
      "image/png": "[encoded data removed]",
      "text/plain": [
       "<Figure size 640x480 with 1 Axes>"
      ]
     },
     "metadata": {},
     "output_type": "display_data"
    }
   ],
   "source": [
    "y_preds = lr1.predict(X1_transformed)\n",
    "\n",
    "resids = (y1 - y_preds)\n",
    "\n",
    "# Looking at a Scatterplot to check for equal variance of errors:\n",
    "plt.scatter(y_preds, resids, s=1)\n",
    "plt.title('Plot of Predictions vs Residuals')\n",
    "plt.xlabel('Predicted Number of Inspections')\n",
    "plt.ylabel('Difference in expected vs actual number of inspections')\n",
    "plt.axhline(0, color=\"orange\");"
   ]
  },
  {
   "cell_type": "code",
   "execution_count": 64,
   "id": "1e61175e-a3b6-4b99-bf30-4ad19963cfbf",
   "metadata": {
    "tags": []
   },
   "outputs": [
    {
     "name": "stdout",
     "output_type": "stream",
     "text": [
      "0.7898948665450476\n",
      "0.4360900674046402\n"
     ]
    }
   ],
   "source": [
    "rf1 = RandomForestRegressor()\n",
    "rf1.fit(X1_train_transformed, y1_train)\n",
    "print(rf1.score(X1_train_transformed, y1_train))\n",
    "print(rf1.score(X1_test_transformed, y1_test))   "
   ]
  },
  {
   "cell_type": "code",
   "execution_count": 65,
   "id": "2359f964-262d-4282-bc13-fd87a2b413a9",
   "metadata": {
    "tags": []
   },
   "outputs": [
    {
     "data": {
      "image/png": "[encoded data removed]",
      "text/plain": [
       "<Figure size 640x480 with 1 Axes>"
      ]
     },
     "metadata": {},
     "output_type": "display_data"
    }
   ],
   "source": [
    "y_preds = rf1.predict(X1_transformed)\n",
    "\n",
    "resids = (y1 - y_preds)\n",
    "\n",
    "# Looking at a Scatterplot to check for equal variance of errors:\n",
    "plt.scatter(y_preds, resids, s=1)\n",
    "plt.title('Plot of Predictions vs Residuals')\n",
    "plt.xlabel('Predicted Number of Inspections')\n",
    "plt.ylabel('Difference in expected vs actual number of inspections')\n",
    "plt.axhline(0, color=\"orange\");"
   ]
  },
  {
   "cell_type": "code",
   "execution_count": 24,
   "id": "b8c2ed80-fe28-482c-9bdf-dcf71d9e07c5",
   "metadata": {
    "tags": []
   },
   "outputs": [
    {
     "name": "stdout",
     "output_type": "stream",
     "text": [
      "0.8243313162085231\n",
      "0.20358658024942067\n"
     ]
    }
   ],
   "source": [
    "et1 =ExtraTreesRegressor()\n",
    "et1.fit(X1_train_transformed, y1_train)\n",
    "print(et1.score(X1_train_transformed, y1_train))\n",
    "print(et1.score(X1_test_transformed, y1_test))   "
   ]
  },
  {
   "cell_type": "markdown",
   "id": "b9cf97a0-3581-43f6-be79-c5ab7d7d3a32",
   "metadata": {},
   "source": [
    "### Progress Check-in\n",
    "- Adding the weather data made a signficant improvement\n",
    "    - Need to determine the best way to deal with the missing weather data (drop, backfill, fill with different station- not front fill)\n",
    "- Adding the number of shifts worked by the inspector improved the tree based model\n",
    "    - Should I use more feature engineering and further manipulate this data?\n",
    "- Linear Regression is decent and not overfit: maybe not solid enough yet for a production model?\n",
    "- Tree models very overfit, but random forest has a decent testing R2 and if overfit is reduced this may be a winning model"
   ]
  },
  {
   "cell_type": "code",
   "execution_count": 25,
   "id": "4ed38886-2141-4bd8-a64d-796b8098c6b9",
   "metadata": {
    "tags": []
   },
   "outputs": [
    {
     "name": "stdout",
     "output_type": "stream",
     "text": [
      "0.24823811280031027\n",
      "0.22531614701299718\n"
     ]
    }
   ],
   "source": [
    "ada = AdaBoostRegressor()\n",
    "ada.fit(X1_train_transformed, y1_train)\n",
    "print(ada.score(X1_train_transformed, y1_train))\n",
    "print(ada.score(X1_test_transformed, y1_test))"
   ]
  },
  {
   "cell_type": "code",
   "execution_count": 66,
   "id": "04c4dbd4-0f1a-4120-a0e5-e0cea2479486",
   "metadata": {
    "tags": []
   },
   "outputs": [
    {
     "name": "stdout",
     "output_type": "stream",
     "text": [
      "0.5272917851498473\n",
      "0.5208917615164887\n"
     ]
    }
   ],
   "source": [
    "grad = GradientBoostingRegressor()\n",
    "grad.fit(X1_train_transformed, y1_train)\n",
    "print(grad.score(X1_train_transformed, y1_train))\n",
    "print(grad.score(X1_test_transformed, y1_test))"
   ]
  },
  {
   "cell_type": "code",
   "execution_count": 67,
   "id": "78ded3a2-3f2c-4f15-b709-d64ddd60f4ef",
   "metadata": {},
   "outputs": [
    {
     "data": {
      "image/png": "[encoded data removed]",
      "text/plain": [
       "<Figure size 640x480 with 1 Axes>"
      ]
     },
     "metadata": {},
     "output_type": "display_data"
    }
   ],
   "source": [
    "y_preds = grad.predict(X1_transformed)\n",
    "\n",
    "resids = (y1 - y_preds)\n",
    "\n",
    "# Looking at a Scatterplot to check for equal variance of errors:\n",
    "plt.scatter(y_preds, resids, s=1)\n",
    "plt.title('Plot of Predictions vs Residuals')\n",
    "plt.xlabel('Predicted Number of Inspections')\n",
    "plt.ylabel('Difference in expected vs actual number of inspections')\n",
    "plt.axhline(0, color=\"orange\");"
   ]
  },
  {
   "cell_type": "code",
   "execution_count": null,
   "id": "f8689c3d-10e2-4a3a-9f62-6d9dae5c62d9",
   "metadata": {},
   "outputs": [],
   "source": []
  },
  {
   "cell_type": "code",
   "execution_count": null,
   "id": "113c9c1c-9a8d-4188-920d-46dbc15ddd72",
   "metadata": {},
   "outputs": [],
   "source": [
    "# Try some initial gridsearching/ random searching\n",
    "# rf1 = RandomForestRegressor()\n",
    "# rf1.fit(X1_train_transformed, y1_train)\n",
    "# print(rf1.score(X1_train_transformed, y1_train))\n",
    "# print(rf1.score(X1_test_transformed, y1_test))   \n"
   ]
  },
  {
   "cell_type": "code",
   "execution_count": 23,
   "id": "212d8b5d-eafa-468f-8c83-b2b2f88de66c",
   "metadata": {
    "tags": []
   },
   "outputs": [],
   "source": [
    "grad = GradientBoostingRegressor()\n",
    "\n",
    "pgrid = {\n",
    "    'estimator__learning_rate': [0.1, 1, 10],\n",
    "    'estimator__n_estimators': [10, 100],\n",
    "    'estimator__max_depth': [None, 1, 2, 3]\n",
    "}\n",
    "\n",
    "kf1 = KFold(n_splits=5, shuffle=True, random_state=42)\n",
    "rs1 = RandomizedSearchCV(grad, pgrid, n_iter=500, cv=kf1, n_jobs=-1)"
   ]
  },
  {
   "cell_type": "code",
   "execution_count": 33,
   "id": "4abe352c-8423-4a8a-b660-bdc1f2518124",
   "metadata": {
    "tags": []
   },
   "outputs": [],
   "source": [
    "params = {\n",
    "    'max_features': np.arange(5, X1.shape[1] + 1),\n",
    "    'max_depth': np.append(np.arange(1, 20), None),\n",
    "    'min_samples_leaf': np.append(np.arange(1, 15),   \n",
    "}\n",
    "\n",
    "gb = GradientBoostingRegressor(n_estimators=500, random_state = 42)\n",
    "\n",
    "rs_gb = RandomizedSearchCV(gb, params, n_iter=100, cv = 5, n_jobs = -1, random_state=42)"
   ]
  },
  {
   "cell_type": "code",
   "execution_count": 34,
   "id": "cfa009a4-6fb2-4f94-9550-d22198877a2b",
   "metadata": {
    "tags": []
   },
   "outputs": [
    {
     "name": "stderr",
     "output_type": "stream",
     "text": [
      "C:\\Users\\kaitl\\anaconda3\\Lib\\site-packages\\sklearn\\model_selection\\_validation.py:425: FitFailedWarning: \n",
      "45 fits failed out of a total of 500.\n",
      "The score on these train-test partitions for these parameters will be set to nan.\n",
      "If these failures are not expected, you can try to debug them by setting error_score='raise'.\n",
      "\n",
      "Below are more details about the failures:\n",
      "--------------------------------------------------------------------------------\n",
      "45 fits failed with the following error:\n",
      "Traceback (most recent call last):\n",
      "  File \"C:\\Users\\kaitl\\anaconda3\\Lib\\site-packages\\sklearn\\model_selection\\_validation.py\", line 732, in _fit_and_score\n",
      "    estimator.fit(X_train, y_train, **fit_params)\n",
      "  File \"C:\\Users\\kaitl\\anaconda3\\Lib\\site-packages\\sklearn\\base.py\", line 1144, in wrapper\n",
      "    estimator._validate_params()\n",
      "  File \"C:\\Users\\kaitl\\anaconda3\\Lib\\site-packages\\sklearn\\base.py\", line 637, in _validate_params\n",
      "    validate_parameter_constraints(\n",
      "  File \"C:\\Users\\kaitl\\anaconda3\\Lib\\site-packages\\sklearn\\utils\\_param_validation.py\", line 95, in validate_parameter_constraints\n",
      "    raise InvalidParameterError(\n",
      "sklearn.utils._param_validation.InvalidParameterError: The 'min_samples_leaf' parameter of GradientBoostingRegressor must be an int in the range [1, inf) or a float in the range (0.0, 1.0). Got None instead.\n",
      "\n",
      "  warnings.warn(some_fits_failed_message, FitFailedWarning)\n",
      "C:\\Users\\kaitl\\anaconda3\\Lib\\site-packages\\sklearn\\model_selection\\_search.py:976: UserWarning: One or more of the test scores are non-finite: [0.2810983  0.38138456 0.30471782 0.4395559  0.25666473 0.41913853\n",
      " 0.27445527 0.42987929 0.45688092        nan 0.32861682 0.35848999\n",
      "        nan 0.37269311 0.26012563 0.31174724 0.44087916 0.46239139\n",
      " 0.36510784 0.36745914        nan 0.43863852 0.45943672 0.40187974\n",
      " 0.43850334 0.25416945 0.35992387 0.45003698 0.43989757 0.4420603\n",
      " 0.29131836 0.26369297 0.45981755 0.26399249 0.43921406 0.38069651\n",
      "        nan 0.45573295 0.43579903 0.41154396        nan 0.35935646\n",
      " 0.45723287 0.44807213 0.38839293 0.30468471 0.39878034        nan\n",
      " 0.272783   0.40970574 0.45090136 0.41756343 0.44134835 0.29246436\n",
      " 0.43811238 0.33135189 0.42687135 0.45192648 0.33744736 0.451639\n",
      " 0.46032909 0.46619719 0.38324364 0.43724845 0.35848999 0.42903044\n",
      " 0.43489788 0.36442839 0.37887435 0.46417654        nan 0.34222268\n",
      " 0.28768295 0.26289572 0.36017023 0.44334164 0.34398773 0.39284759\n",
      " 0.36327967 0.33840614 0.41881148 0.24911864        nan 0.35681565\n",
      " 0.36057    0.36147652 0.30328247 0.42470587 0.27054052 0.26961014\n",
      " 0.45492315 0.29832313        nan 0.42408128 0.327293   0.461733\n",
      " 0.32459188 0.40124752 0.44192837 0.25620903]\n",
      "  warnings.warn(\n"
     ]
    },
    {
     "name": "stdout",
     "output_type": "stream",
     "text": [
      "CPU times: total: 1.69 s\n",
      "Wall time: 2min 52s\n"
     ]
    },
    {
     "data": {
      "text/html": [
       "<style>#sk-container-id-3 {color: black;}#sk-container-id-3 pre{padding: 0;}#sk-container-id-3 div.sk-toggleable {background-color: white;}#sk-container-id-3 label.sk-toggleable__label {cursor: pointer;display: block;width: 100%;margin-bottom: 0;padding: 0.3em;box-sizing: border-box;text-align: center;}#sk-container-id-3 label.sk-toggleable__label-arrow:before {content: \"▸\";float: left;margin-right: 0.25em;color: #696969;}#sk-container-id-3 label.sk-toggleable__label-arrow:hover:before {color: black;}#sk-container-id-3 div.sk-estimator:hover label.sk-toggleable__label-arrow:before {color: black;}#sk-container-id-3 div.sk-toggleable__content {max-height: 0;max-width: 0;overflow: hidden;text-align: left;background-color: #f0f8ff;}#sk-container-id-3 div.sk-toggleable__content pre {margin: 0.2em;color: black;border-radius: 0.25em;background-color: #f0f8ff;}#sk-container-id-3 input.sk-toggleable__control:checked~div.sk-toggleable__content {max-height: 200px;max-width: 100%;overflow: auto;}#sk-container-id-3 input.sk-toggleable__control:checked~label.sk-toggleable__label-arrow:before {content: \"▾\";}#sk-container-id-3 div.sk-estimator input.sk-toggleable__control:checked~label.sk-toggleable__label {background-color: #d4ebff;}#sk-container-id-3 div.sk-label input.sk-toggleable__control:checked~label.sk-toggleable__label {background-color: #d4ebff;}#sk-container-id-3 input.sk-hidden--visually {border: 0;clip: rect(1px 1px 1px 1px);clip: rect(1px, 1px, 1px, 1px);height: 1px;margin: -1px;overflow: hidden;padding: 0;position: absolute;width: 1px;}#sk-container-id-3 div.sk-estimator {font-family: monospace;background-color: #f0f8ff;border: 1px dotted black;border-radius: 0.25em;box-sizing: border-box;margin-bottom: 0.5em;}#sk-container-id-3 div.sk-estimator:hover {background-color: #d4ebff;}#sk-container-id-3 div.sk-parallel-item::after {content: \"\";width: 100%;border-bottom: 1px solid gray;flex-grow: 1;}#sk-container-id-3 div.sk-label:hover label.sk-toggleable__label {background-color: #d4ebff;}#sk-container-id-3 div.sk-serial::before {content: \"\";position: absolute;border-left: 1px solid gray;box-sizing: border-box;top: 0;bottom: 0;left: 50%;z-index: 0;}#sk-container-id-3 div.sk-serial {display: flex;flex-direction: column;align-items: center;background-color: white;padding-right: 0.2em;padding-left: 0.2em;position: relative;}#sk-container-id-3 div.sk-item {position: relative;z-index: 1;}#sk-container-id-3 div.sk-parallel {display: flex;align-items: stretch;justify-content: center;background-color: white;position: relative;}#sk-container-id-3 div.sk-item::before, #sk-container-id-3 div.sk-parallel-item::before {content: \"\";position: absolute;border-left: 1px solid gray;box-sizing: border-box;top: 0;bottom: 0;left: 50%;z-index: -1;}#sk-container-id-3 div.sk-parallel-item {display: flex;flex-direction: column;z-index: 1;position: relative;background-color: white;}#sk-container-id-3 div.sk-parallel-item:first-child::after {align-self: flex-end;width: 50%;}#sk-container-id-3 div.sk-parallel-item:last-child::after {align-self: flex-start;width: 50%;}#sk-container-id-3 div.sk-parallel-item:only-child::after {width: 0;}#sk-container-id-3 div.sk-dashed-wrapped {border: 1px dashed gray;margin: 0 0.4em 0.5em 0.4em;box-sizing: border-box;padding-bottom: 0.4em;background-color: white;}#sk-container-id-3 div.sk-label label {font-family: monospace;font-weight: bold;display: inline-block;line-height: 1.2em;}#sk-container-id-3 div.sk-label-container {text-align: center;}#sk-container-id-3 div.sk-container {/* jupyter's `normalize.less` sets `[hidden] { display: none; }` but bootstrap.min.css set `[hidden] { display: none !important; }` so we also need the `!important` here to be able to override the default hidden behavior on the sphinx rendered scikit-learn.org. See: https://github.com/scikit-learn/scikit-learn/issues/21755 */display: inline-block !important;position: relative;}#sk-container-id-3 div.sk-text-repr-fallback {display: none;}</style><div id=\"sk-container-id-3\" class=\"sk-top-container\"><div class=\"sk-text-repr-fallback\"><pre>RandomizedSearchCV(cv=5,\n",
       "                   estimator=GradientBoostingRegressor(n_estimators=500,\n",
       "                                                       random_state=42),\n",
       "                   n_iter=100, n_jobs=-1,\n",
       "                   param_distributions={&#x27;max_depth&#x27;: array([1, 2, 3, 4, 5, 6, 7, 8, 9, 10, 11, 12, 13, 14, 15, 16, 17, 18, 19,\n",
       "       None], dtype=object),\n",
       "                                        &#x27;max_features&#x27;: array([ 5,  6,  7,  8,  9, 10, 11, 12, 13, 14]),\n",
       "                                        &#x27;min_samples_leaf&#x27;: array([1, 2, 3, 4, 5, 6, 7, 8, 9, 10, 11, 12, 13, 14, None], dtype=object)},\n",
       "                   random_state=42)</pre><b>In a Jupyter environment, please rerun this cell to show the HTML representation or trust the notebook. <br />On GitHub, the HTML representation is unable to render, please try loading this page with nbviewer.org.</b></div><div class=\"sk-container\" hidden><div class=\"sk-item sk-dashed-wrapped\"><div class=\"sk-label-container\"><div class=\"sk-label sk-toggleable\"><input class=\"sk-toggleable__control sk-hidden--visually\" id=\"sk-estimator-id-7\" type=\"checkbox\" ><label for=\"sk-estimator-id-7\" class=\"sk-toggleable__label sk-toggleable__label-arrow\">RandomizedSearchCV</label><div class=\"sk-toggleable__content\"><pre>RandomizedSearchCV(cv=5,\n",
       "                   estimator=GradientBoostingRegressor(n_estimators=500,\n",
       "                                                       random_state=42),\n",
       "                   n_iter=100, n_jobs=-1,\n",
       "                   param_distributions={&#x27;max_depth&#x27;: array([1, 2, 3, 4, 5, 6, 7, 8, 9, 10, 11, 12, 13, 14, 15, 16, 17, 18, 19,\n",
       "       None], dtype=object),\n",
       "                                        &#x27;max_features&#x27;: array([ 5,  6,  7,  8,  9, 10, 11, 12, 13, 14]),\n",
       "                                        &#x27;min_samples_leaf&#x27;: array([1, 2, 3, 4, 5, 6, 7, 8, 9, 10, 11, 12, 13, 14, None], dtype=object)},\n",
       "                   random_state=42)</pre></div></div></div><div class=\"sk-parallel\"><div class=\"sk-parallel-item\"><div class=\"sk-item\"><div class=\"sk-label-container\"><div class=\"sk-label sk-toggleable\"><input class=\"sk-toggleable__control sk-hidden--visually\" id=\"sk-estimator-id-8\" type=\"checkbox\" ><label for=\"sk-estimator-id-8\" class=\"sk-toggleable__label sk-toggleable__label-arrow\">estimator: GradientBoostingRegressor</label><div class=\"sk-toggleable__content\"><pre>GradientBoostingRegressor(n_estimators=500, random_state=42)</pre></div></div></div><div class=\"sk-serial\"><div class=\"sk-item\"><div class=\"sk-estimator sk-toggleable\"><input class=\"sk-toggleable__control sk-hidden--visually\" id=\"sk-estimator-id-9\" type=\"checkbox\" ><label for=\"sk-estimator-id-9\" class=\"sk-toggleable__label sk-toggleable__label-arrow\">GradientBoostingRegressor</label><div class=\"sk-toggleable__content\"><pre>GradientBoostingRegressor(n_estimators=500, random_state=42)</pre></div></div></div></div></div></div></div></div></div></div>"
      ],
      "text/plain": [
       "RandomizedSearchCV(cv=5,\n",
       "                   estimator=GradientBoostingRegressor(n_estimators=500,\n",
       "                                                       random_state=42),\n",
       "                   n_iter=100, n_jobs=-1,\n",
       "                   param_distributions={'max_depth': array([1, 2, 3, 4, 5, 6, 7, 8, 9, 10, 11, 12, 13, 14, 15, 16, 17, 18, 19,\n",
       "       None], dtype=object),\n",
       "                                        'max_features': array([ 5,  6,  7,  8,  9, 10, 11, 12, 13, 14]),\n",
       "                                        'min_samples_leaf': array([1, 2, 3, 4, 5, 6, 7, 8, 9, 10, 11, 12, 13, 14, None], dtype=object)},\n",
       "                   random_state=42)"
      ]
     },
     "execution_count": 34,
     "metadata": {},
     "output_type": "execute_result"
    }
   ],
   "source": [
    "%%time\n",
    "rs_gb.fit(X1_train_transformed, y1_train)"
   ]
  },
  {
   "cell_type": "code",
   "execution_count": 35,
   "id": "8b24f777-df8b-449a-826c-869fb14ac847",
   "metadata": {
    "tags": []
   },
   "outputs": [
    {
     "name": "stdout",
     "output_type": "stream",
     "text": [
      "Train Score: 0.6341147952714152\n",
      "Test Score: 0.5488749413800318\n"
     ]
    }
   ],
   "source": [
    "print(f'Train Score: {rs_gb.score(X1_train_transformed, y1_train)}')\n",
    "print(f'Test Score: {rs_gb.score(X1_test_transformed, y1_test)}')"
   ]
  },
  {
   "cell_type": "code",
   "execution_count": 37,
   "id": "86f530e2-b199-4240-ad5b-4b0047baef91",
   "metadata": {
    "tags": []
   },
   "outputs": [
    {
     "data": {
      "text/plain": [
       "{'min_samples_leaf': 13, 'max_features': 5, 'max_depth': 5}"
      ]
     },
     "execution_count": 37,
     "metadata": {},
     "output_type": "execute_result"
    }
   ],
   "source": [
    "rs_gb.best_params_"
   ]
  },
  {
   "cell_type": "code",
   "execution_count": 41,
   "id": "8e9393d9-08b0-4fa5-a9c2-ee1910dc977d",
   "metadata": {
    "tags": []
   },
   "outputs": [],
   "source": [
    "grad_1 = GradientBoostingRegressor(max_features=5, min_samples_leaf=13, max_depth=5, n_estimators=500, random_state=42)"
   ]
  },
  {
   "cell_type": "code",
   "execution_count": 82,
   "id": "41b29dca-6198-4667-9ede-e92b488381ea",
   "metadata": {
    "tags": []
   },
   "outputs": [
    {
     "name": "stdout",
     "output_type": "stream",
     "text": [
      "R2 Score: 0.6310335648218146\n",
      "CPU times: total: 328 ms\n",
      "Wall time: 678 ms\n"
     ]
    }
   ],
   "source": [
    "%%time\n",
    "grad_1.fit(X1_transformed, y1)\n",
    "\n",
    "print(f'R2 Score: {grad_1.score(X1_transformed, y1)}')"
   ]
  },
  {
   "cell_type": "code",
   "execution_count": 145,
   "id": "d77c21d1-e7b5-4a74-9169-061cfa23345b",
   "metadata": {
    "tags": []
   },
   "outputs": [],
   "source": [
    "# Pickling this model so that I can use it for predictions is a different workspace\n",
    "\n",
    "with open('models/grad_1.pkl', 'wb') as file:\n",
    "    pickle.dump(grad_1, file)"
   ]
  },
  {
   "cell_type": "code",
   "execution_count": 68,
   "id": "a13d7dee-4865-4f5d-81cd-738a6b20e5ed",
   "metadata": {
    "tags": []
   },
   "outputs": [
    {
     "data": {
      "image/png": "[encoded data removed]",
      "text/plain": [
       "<Figure size 640x480 with 1 Axes>"
      ]
     },
     "metadata": {},
     "output_type": "display_data"
    }
   ],
   "source": [
    "y_preds = grad_1.predict(X1_transformed)\n",
    "\n",
    "resids = (y1 - y_preds)\n",
    "\n",
    "# Looking at a Scatterplot to check for equal variance of errors:\n",
    "plt.scatter(y_preds, resids, s=1)\n",
    "plt.title('Plot of Predictions vs Residuals')\n",
    "plt.xlabel('Predicted Number of Inspections')\n",
    "plt.ylabel('Difference in expected vs actual number of inspections')\n",
    "plt.axhline(0, color=\"orange\");"
   ]
  },
  {
   "cell_type": "code",
   "execution_count": 69,
   "id": "5d2b46ed-ef1d-4af5-94e8-51951423f82c",
   "metadata": {
    "tags": []
   },
   "outputs": [
    {
     "data": {
      "text/plain": [
       "Text(0, 0.5, 'Actual # Inspections')"
      ]
     },
     "execution_count": 69,
     "metadata": {},
     "output_type": "execute_result"
    },
    {
     "data": {
      "image/png": "[encoded data removed]",
      "text/plain": [
       "<Figure size 640x480 with 1 Axes>"
      ]
     },
     "metadata": {},
     "output_type": "display_data"
    }
   ],
   "source": [
    "# Plot of Predicted vs actual\n",
    "plt.scatter(y_preds, y1, s=1)\n",
    "plt.title('Plot of Predicted Inspections vs Actual Inspections')\n",
    "plt.xlabel('Predicted # Inspections')\n",
    "plt.ylabel('Actual # Inspections')"
   ]
  },
  {
   "cell_type": "code",
   "execution_count": 70,
   "id": "c5f7f0f8-25b8-4e43-8d68-22a8cc4e2a02",
   "metadata": {
    "tags": []
   },
   "outputs": [
    {
     "data": {
      "text/plain": [
       "-7.275957614183426e-11"
      ]
     },
     "execution_count": 70,
     "metadata": {},
     "output_type": "execute_result"
    }
   ],
   "source": [
    "sum(y_preds) - sum(y1)"
   ]
  },
  {
   "cell_type": "code",
   "execution_count": 33,
   "id": "5efb4536-8bba-4f8c-aa98-a8311cfd71e1",
   "metadata": {
    "tags": []
   },
   "outputs": [],
   "source": [
    "params = {\n",
    "    'max_features': np.arange(5, X1.shape[1] + 1),\n",
    "    'max_depth': np.append(np.arange(1, 50), None),\n",
    "    'min_samples_leaf': [2, 3],   \n",
    "    'n_estimators': [50, 100, 200, 400, 600, 800, 1000, 1200, 1400, 1600, 1800, 2000]\n",
    "}\n",
    "\n",
    "rf_gb = GradientBoostingRegressor(random_state = 42)\n",
    "\n",
    "rf_gb_county_cases = RandomizedSearchCV(rf_gb, params, n_iter=100, cv = 5, n_jobs = -1)"
   ]
  },
  {
   "cell_type": "code",
   "execution_count": 34,
   "id": "62876a23-9e10-49ee-8ad9-0a679300ee46",
   "metadata": {
    "tags": []
   },
   "outputs": [
    {
     "name": "stdout",
     "output_type": "stream",
     "text": [
      "CPU times: total: 3.23 s\n",
      "Wall time: 22min 10s\n"
     ]
    },
    {
     "data": {
      "text/html": [
       "<style>#sk-container-id-1 {color: black;}#sk-container-id-1 pre{padding: 0;}#sk-container-id-1 div.sk-toggleable {background-color: white;}#sk-container-id-1 label.sk-toggleable__label {cursor: pointer;display: block;width: 100%;margin-bottom: 0;padding: 0.3em;box-sizing: border-box;text-align: center;}#sk-container-id-1 label.sk-toggleable__label-arrow:before {content: \"▸\";float: left;margin-right: 0.25em;color: #696969;}#sk-container-id-1 label.sk-toggleable__label-arrow:hover:before {color: black;}#sk-container-id-1 div.sk-estimator:hover label.sk-toggleable__label-arrow:before {color: black;}#sk-container-id-1 div.sk-toggleable__content {max-height: 0;max-width: 0;overflow: hidden;text-align: left;background-color: #f0f8ff;}#sk-container-id-1 div.sk-toggleable__content pre {margin: 0.2em;color: black;border-radius: 0.25em;background-color: #f0f8ff;}#sk-container-id-1 input.sk-toggleable__control:checked~div.sk-toggleable__content {max-height: 200px;max-width: 100%;overflow: auto;}#sk-container-id-1 input.sk-toggleable__control:checked~label.sk-toggleable__label-arrow:before {content: \"▾\";}#sk-container-id-1 div.sk-estimator input.sk-toggleable__control:checked~label.sk-toggleable__label {background-color: #d4ebff;}#sk-container-id-1 div.sk-label input.sk-toggleable__control:checked~label.sk-toggleable__label {background-color: #d4ebff;}#sk-container-id-1 input.sk-hidden--visually {border: 0;clip: rect(1px 1px 1px 1px);clip: rect(1px, 1px, 1px, 1px);height: 1px;margin: -1px;overflow: hidden;padding: 0;position: absolute;width: 1px;}#sk-container-id-1 div.sk-estimator {font-family: monospace;background-color: #f0f8ff;border: 1px dotted black;border-radius: 0.25em;box-sizing: border-box;margin-bottom: 0.5em;}#sk-container-id-1 div.sk-estimator:hover {background-color: #d4ebff;}#sk-container-id-1 div.sk-parallel-item::after {content: \"\";width: 100%;border-bottom: 1px solid gray;flex-grow: 1;}#sk-container-id-1 div.sk-label:hover label.sk-toggleable__label {background-color: #d4ebff;}#sk-container-id-1 div.sk-serial::before {content: \"\";position: absolute;border-left: 1px solid gray;box-sizing: border-box;top: 0;bottom: 0;left: 50%;z-index: 0;}#sk-container-id-1 div.sk-serial {display: flex;flex-direction: column;align-items: center;background-color: white;padding-right: 0.2em;padding-left: 0.2em;position: relative;}#sk-container-id-1 div.sk-item {position: relative;z-index: 1;}#sk-container-id-1 div.sk-parallel {display: flex;align-items: stretch;justify-content: center;background-color: white;position: relative;}#sk-container-id-1 div.sk-item::before, #sk-container-id-1 div.sk-parallel-item::before {content: \"\";position: absolute;border-left: 1px solid gray;box-sizing: border-box;top: 0;bottom: 0;left: 50%;z-index: -1;}#sk-container-id-1 div.sk-parallel-item {display: flex;flex-direction: column;z-index: 1;position: relative;background-color: white;}#sk-container-id-1 div.sk-parallel-item:first-child::after {align-self: flex-end;width: 50%;}#sk-container-id-1 div.sk-parallel-item:last-child::after {align-self: flex-start;width: 50%;}#sk-container-id-1 div.sk-parallel-item:only-child::after {width: 0;}#sk-container-id-1 div.sk-dashed-wrapped {border: 1px dashed gray;margin: 0 0.4em 0.5em 0.4em;box-sizing: border-box;padding-bottom: 0.4em;background-color: white;}#sk-container-id-1 div.sk-label label {font-family: monospace;font-weight: bold;display: inline-block;line-height: 1.2em;}#sk-container-id-1 div.sk-label-container {text-align: center;}#sk-container-id-1 div.sk-container {/* jupyter's `normalize.less` sets `[hidden] { display: none; }` but bootstrap.min.css set `[hidden] { display: none !important; }` so we also need the `!important` here to be able to override the default hidden behavior on the sphinx rendered scikit-learn.org. See: https://github.com/scikit-learn/scikit-learn/issues/21755 */display: inline-block !important;position: relative;}#sk-container-id-1 div.sk-text-repr-fallback {display: none;}</style><div id=\"sk-container-id-1\" class=\"sk-top-container\"><div class=\"sk-text-repr-fallback\"><pre>RandomizedSearchCV(cv=5, estimator=GradientBoostingRegressor(random_state=42),\n",
       "                   n_iter=100, n_jobs=-1,\n",
       "                   param_distributions={&#x27;max_depth&#x27;: array([1, 2, 3, 4, 5, 6, 7, 8, 9, 10, 11, 12, 13, 14, 15, 16, 17, 18, 19,\n",
       "       20, 21, 22, 23, 24, 25, 26, 27, 28, 29, 30, 31, 32, 33, 34, 35, 36,\n",
       "       37, 38, 39, 40, 41, 42, 43, 44, 45, 46, 47, 48, 49, None],\n",
       "      dtype=object),\n",
       "                                        &#x27;max_features&#x27;: array([ 5,  6,  7,  8,  9, 10, 11, 12, 13, 14]),\n",
       "                                        &#x27;min_samples_leaf&#x27;: [2, 3],\n",
       "                                        &#x27;n_estimators&#x27;: [50, 100, 200, 400, 600,\n",
       "                                                         800, 1000, 1200, 1400,\n",
       "                                                         1600, 1800, 2000]})</pre><b>In a Jupyter environment, please rerun this cell to show the HTML representation or trust the notebook. <br />On GitHub, the HTML representation is unable to render, please try loading this page with nbviewer.org.</b></div><div class=\"sk-container\" hidden><div class=\"sk-item sk-dashed-wrapped\"><div class=\"sk-label-container\"><div class=\"sk-label sk-toggleable\"><input class=\"sk-toggleable__control sk-hidden--visually\" id=\"sk-estimator-id-1\" type=\"checkbox\" ><label for=\"sk-estimator-id-1\" class=\"sk-toggleable__label sk-toggleable__label-arrow\">RandomizedSearchCV</label><div class=\"sk-toggleable__content\"><pre>RandomizedSearchCV(cv=5, estimator=GradientBoostingRegressor(random_state=42),\n",
       "                   n_iter=100, n_jobs=-1,\n",
       "                   param_distributions={&#x27;max_depth&#x27;: array([1, 2, 3, 4, 5, 6, 7, 8, 9, 10, 11, 12, 13, 14, 15, 16, 17, 18, 19,\n",
       "       20, 21, 22, 23, 24, 25, 26, 27, 28, 29, 30, 31, 32, 33, 34, 35, 36,\n",
       "       37, 38, 39, 40, 41, 42, 43, 44, 45, 46, 47, 48, 49, None],\n",
       "      dtype=object),\n",
       "                                        &#x27;max_features&#x27;: array([ 5,  6,  7,  8,  9, 10, 11, 12, 13, 14]),\n",
       "                                        &#x27;min_samples_leaf&#x27;: [2, 3],\n",
       "                                        &#x27;n_estimators&#x27;: [50, 100, 200, 400, 600,\n",
       "                                                         800, 1000, 1200, 1400,\n",
       "                                                         1600, 1800, 2000]})</pre></div></div></div><div class=\"sk-parallel\"><div class=\"sk-parallel-item\"><div class=\"sk-item\"><div class=\"sk-label-container\"><div class=\"sk-label sk-toggleable\"><input class=\"sk-toggleable__control sk-hidden--visually\" id=\"sk-estimator-id-2\" type=\"checkbox\" ><label for=\"sk-estimator-id-2\" class=\"sk-toggleable__label sk-toggleable__label-arrow\">estimator: GradientBoostingRegressor</label><div class=\"sk-toggleable__content\"><pre>GradientBoostingRegressor(random_state=42)</pre></div></div></div><div class=\"sk-serial\"><div class=\"sk-item\"><div class=\"sk-estimator sk-toggleable\"><input class=\"sk-toggleable__control sk-hidden--visually\" id=\"sk-estimator-id-3\" type=\"checkbox\" ><label for=\"sk-estimator-id-3\" class=\"sk-toggleable__label sk-toggleable__label-arrow\">GradientBoostingRegressor</label><div class=\"sk-toggleable__content\"><pre>GradientBoostingRegressor(random_state=42)</pre></div></div></div></div></div></div></div></div></div></div>"
      ],
      "text/plain": [
       "RandomizedSearchCV(cv=5, estimator=GradientBoostingRegressor(random_state=42),\n",
       "                   n_iter=100, n_jobs=-1,\n",
       "                   param_distributions={'max_depth': array([1, 2, 3, 4, 5, 6, 7, 8, 9, 10, 11, 12, 13, 14, 15, 16, 17, 18, 19,\n",
       "       20, 21, 22, 23, 24, 25, 26, 27, 28, 29, 30, 31, 32, 33, 34, 35, 36,\n",
       "       37, 38, 39, 40, 41, 42, 43, 44, 45, 46, 47, 48, 49, None],\n",
       "      dtype=object),\n",
       "                                        'max_features': array([ 5,  6,  7,  8,  9, 10, 11, 12, 13, 14]),\n",
       "                                        'min_samples_leaf': [2, 3],\n",
       "                                        'n_estimators': [50, 100, 200, 400, 600,\n",
       "                                                         800, 1000, 1200, 1400,\n",
       "                                                         1600, 1800, 2000]})"
      ]
     },
     "execution_count": 34,
     "metadata": {},
     "output_type": "execute_result"
    }
   ],
   "source": [
    "%%time\n",
    "rf_gb.fit(X1_train_transformed, y1_train)"
   ]
  },
  {
   "cell_type": "code",
   "execution_count": 35,
   "id": "19b1573c-e1ac-49ba-8b94-32a9291a832e",
   "metadata": {
    "tags": []
   },
   "outputs": [
    {
     "name": "stdout",
     "output_type": "stream",
     "text": [
      "Train Score: 0.6150099401370822\n",
      "Test Score: 0.5473442855804718\n"
     ]
    }
   ],
   "source": [
    "print(f'Train Score: {rf_gb.score(X1_train_transformed, y1_train)}')\n",
    "print(f'Test Score: {rf_gb.score(X1_test_transformed, y1_test)}')"
   ]
  },
  {
   "cell_type": "code",
   "execution_count": 38,
   "id": "1041b690-f58f-4da9-8ce9-98ee96a981af",
   "metadata": {
    "tags": []
   },
   "outputs": [],
   "source": [
    "# Try retraining on all of the data\n",
    "X1_transformed = oh.fit_transform(X1[categorical_columns])\n"
   ]
  },
  {
   "cell_type": "code",
   "execution_count": 39,
   "id": "2e678389-3e19-4b0c-a83f-a066285bc199",
   "metadata": {
    "tags": []
   },
   "outputs": [
    {
     "ename": "NameError",
     "evalue": "name 'rf_gb' is not defined",
     "output_type": "error",
     "traceback": [
      "\u001b[1;31m---------------------------------------------------------------------------\u001b[0m",
      "\u001b[1;31mNameError\u001b[0m                                 Traceback (most recent call last)",
      "Cell \u001b[1;32mIn[39], line 1\u001b[0m\n\u001b[1;32m----> 1\u001b[0m \u001b[38;5;28mprint\u001b[39m(\u001b[38;5;124mf\u001b[39m\u001b[38;5;124m'\u001b[39m\u001b[38;5;124mTrain Score: \u001b[39m\u001b[38;5;132;01m{\u001b[39;00mrf_gb\u001b[38;5;241m.\u001b[39mscore(X1_transformed,\u001b[38;5;250m \u001b[39my1)\u001b[38;5;132;01m}\u001b[39;00m\u001b[38;5;124m'\u001b[39m)\n",
      "\u001b[1;31mNameError\u001b[0m: name 'rf_gb' is not defined"
     ]
    }
   ],
   "source": [
    "print(f'Train Score: {rf_gb.score(X1_transformed, y1)}')"
   ]
  },
  {
   "cell_type": "code",
   "execution_count": null,
   "id": "887d162c-1dca-4f4c-9f06-044474af5bd8",
   "metadata": {},
   "outputs": [],
   "source": []
  },
  {
   "cell_type": "code",
   "execution_count": 36,
   "id": "06a0dd5a-480f-40d5-9c71-6a552cb8c06a",
   "metadata": {
    "tags": []
   },
   "outputs": [
    {
     "data": {
      "text/plain": [
       "{'n_estimators': 600,\n",
       " 'min_samples_leaf': 2,\n",
       " 'max_features': 10,\n",
       " 'max_depth': 3}"
      ]
     },
     "execution_count": 36,
     "metadata": {},
     "output_type": "execute_result"
    }
   ],
   "source": [
    "rf_gb.best_params_"
   ]
  },
  {
   "cell_type": "code",
   "execution_count": 35,
   "id": "b1c29e76-a24a-49d1-acbb-a7b74066ab78",
   "metadata": {
    "tags": []
   },
   "outputs": [],
   "source": [
    "params = {\n",
    "    'max_features': np.arange(1, X1.shape[1] + 1), \n",
    "    'max_depth': np.append(np.arange(1, 10), None), \n",
    "    'min_samples_leaf': np.arange(1, 31) \n",
    "}\n",
    "kf = KFold(n_splits=5, shuffle=True, random_state=2023)\n",
    "ranfor = RandomForestRegressor(\n",
    "    n_estimators=200,\n",
    "    random_state=2023\n",
    ")\n",
    "\n",
    "rs2 = RandomizedSearchCV(ranfor, params, n_iter=400, cv=kf, n_jobs=-1, random_state=42)"
   ]
  },
  {
   "cell_type": "code",
   "execution_count": 36,
   "id": "046a7fd0-787c-426a-ba83-9b1ee64927bb",
   "metadata": {
    "tags": []
   },
   "outputs": [
    {
     "name": "stdout",
     "output_type": "stream",
     "text": [
      "CPU times: total: 6.89 s\n",
      "Wall time: 3min 45s\n"
     ]
    },
    {
     "data": {
      "text/html": [
       "<style>#sk-container-id-3 {color: black;}#sk-container-id-3 pre{padding: 0;}#sk-container-id-3 div.sk-toggleable {background-color: white;}#sk-container-id-3 label.sk-toggleable__label {cursor: pointer;display: block;width: 100%;margin-bottom: 0;padding: 0.3em;box-sizing: border-box;text-align: center;}#sk-container-id-3 label.sk-toggleable__label-arrow:before {content: \"▸\";float: left;margin-right: 0.25em;color: #696969;}#sk-container-id-3 label.sk-toggleable__label-arrow:hover:before {color: black;}#sk-container-id-3 div.sk-estimator:hover label.sk-toggleable__label-arrow:before {color: black;}#sk-container-id-3 div.sk-toggleable__content {max-height: 0;max-width: 0;overflow: hidden;text-align: left;background-color: #f0f8ff;}#sk-container-id-3 div.sk-toggleable__content pre {margin: 0.2em;color: black;border-radius: 0.25em;background-color: #f0f8ff;}#sk-container-id-3 input.sk-toggleable__control:checked~div.sk-toggleable__content {max-height: 200px;max-width: 100%;overflow: auto;}#sk-container-id-3 input.sk-toggleable__control:checked~label.sk-toggleable__label-arrow:before {content: \"▾\";}#sk-container-id-3 div.sk-estimator input.sk-toggleable__control:checked~label.sk-toggleable__label {background-color: #d4ebff;}#sk-container-id-3 div.sk-label input.sk-toggleable__control:checked~label.sk-toggleable__label {background-color: #d4ebff;}#sk-container-id-3 input.sk-hidden--visually {border: 0;clip: rect(1px 1px 1px 1px);clip: rect(1px, 1px, 1px, 1px);height: 1px;margin: -1px;overflow: hidden;padding: 0;position: absolute;width: 1px;}#sk-container-id-3 div.sk-estimator {font-family: monospace;background-color: #f0f8ff;border: 1px dotted black;border-radius: 0.25em;box-sizing: border-box;margin-bottom: 0.5em;}#sk-container-id-3 div.sk-estimator:hover {background-color: #d4ebff;}#sk-container-id-3 div.sk-parallel-item::after {content: \"\";width: 100%;border-bottom: 1px solid gray;flex-grow: 1;}#sk-container-id-3 div.sk-label:hover label.sk-toggleable__label {background-color: #d4ebff;}#sk-container-id-3 div.sk-serial::before {content: \"\";position: absolute;border-left: 1px solid gray;box-sizing: border-box;top: 0;bottom: 0;left: 50%;z-index: 0;}#sk-container-id-3 div.sk-serial {display: flex;flex-direction: column;align-items: center;background-color: white;padding-right: 0.2em;padding-left: 0.2em;position: relative;}#sk-container-id-3 div.sk-item {position: relative;z-index: 1;}#sk-container-id-3 div.sk-parallel {display: flex;align-items: stretch;justify-content: center;background-color: white;position: relative;}#sk-container-id-3 div.sk-item::before, #sk-container-id-3 div.sk-parallel-item::before {content: \"\";position: absolute;border-left: 1px solid gray;box-sizing: border-box;top: 0;bottom: 0;left: 50%;z-index: -1;}#sk-container-id-3 div.sk-parallel-item {display: flex;flex-direction: column;z-index: 1;position: relative;background-color: white;}#sk-container-id-3 div.sk-parallel-item:first-child::after {align-self: flex-end;width: 50%;}#sk-container-id-3 div.sk-parallel-item:last-child::after {align-self: flex-start;width: 50%;}#sk-container-id-3 div.sk-parallel-item:only-child::after {width: 0;}#sk-container-id-3 div.sk-dashed-wrapped {border: 1px dashed gray;margin: 0 0.4em 0.5em 0.4em;box-sizing: border-box;padding-bottom: 0.4em;background-color: white;}#sk-container-id-3 div.sk-label label {font-family: monospace;font-weight: bold;display: inline-block;line-height: 1.2em;}#sk-container-id-3 div.sk-label-container {text-align: center;}#sk-container-id-3 div.sk-container {/* jupyter's `normalize.less` sets `[hidden] { display: none; }` but bootstrap.min.css set `[hidden] { display: none !important; }` so we also need the `!important` here to be able to override the default hidden behavior on the sphinx rendered scikit-learn.org. See: https://github.com/scikit-learn/scikit-learn/issues/21755 */display: inline-block !important;position: relative;}#sk-container-id-3 div.sk-text-repr-fallback {display: none;}</style><div id=\"sk-container-id-3\" class=\"sk-top-container\"><div class=\"sk-text-repr-fallback\"><pre>RandomizedSearchCV(cv=KFold(n_splits=5, random_state=2023, shuffle=True),\n",
       "                   estimator=RandomForestRegressor(n_estimators=200,\n",
       "                                                   random_state=2023),\n",
       "                   n_iter=400, n_jobs=-1,\n",
       "                   param_distributions={&#x27;max_depth&#x27;: array([1, 2, 3, 4, 5, 6, 7, 8, 9, None], dtype=object),\n",
       "                                        &#x27;max_features&#x27;: array([ 1,  2,  3,  4,  5,  6,  7,  8,  9, 10, 11, 12, 13, 14]),\n",
       "                                        &#x27;min_samples_leaf&#x27;: array([ 1,  2,  3,  4,  5,  6,  7,  8,  9, 10, 11, 12, 13, 14, 15, 16, 17,\n",
       "       18, 19, 20, 21, 22, 23, 24, 25, 26, 27, 28, 29, 30])})</pre><b>In a Jupyter environment, please rerun this cell to show the HTML representation or trust the notebook. <br />On GitHub, the HTML representation is unable to render, please try loading this page with nbviewer.org.</b></div><div class=\"sk-container\" hidden><div class=\"sk-item sk-dashed-wrapped\"><div class=\"sk-label-container\"><div class=\"sk-label sk-toggleable\"><input class=\"sk-toggleable__control sk-hidden--visually\" id=\"sk-estimator-id-7\" type=\"checkbox\" ><label for=\"sk-estimator-id-7\" class=\"sk-toggleable__label sk-toggleable__label-arrow\">RandomizedSearchCV</label><div class=\"sk-toggleable__content\"><pre>RandomizedSearchCV(cv=KFold(n_splits=5, random_state=2023, shuffle=True),\n",
       "                   estimator=RandomForestRegressor(n_estimators=200,\n",
       "                                                   random_state=2023),\n",
       "                   n_iter=400, n_jobs=-1,\n",
       "                   param_distributions={&#x27;max_depth&#x27;: array([1, 2, 3, 4, 5, 6, 7, 8, 9, None], dtype=object),\n",
       "                                        &#x27;max_features&#x27;: array([ 1,  2,  3,  4,  5,  6,  7,  8,  9, 10, 11, 12, 13, 14]),\n",
       "                                        &#x27;min_samples_leaf&#x27;: array([ 1,  2,  3,  4,  5,  6,  7,  8,  9, 10, 11, 12, 13, 14, 15, 16, 17,\n",
       "       18, 19, 20, 21, 22, 23, 24, 25, 26, 27, 28, 29, 30])})</pre></div></div></div><div class=\"sk-parallel\"><div class=\"sk-parallel-item\"><div class=\"sk-item\"><div class=\"sk-label-container\"><div class=\"sk-label sk-toggleable\"><input class=\"sk-toggleable__control sk-hidden--visually\" id=\"sk-estimator-id-8\" type=\"checkbox\" ><label for=\"sk-estimator-id-8\" class=\"sk-toggleable__label sk-toggleable__label-arrow\">estimator: RandomForestRegressor</label><div class=\"sk-toggleable__content\"><pre>RandomForestRegressor(n_estimators=200, random_state=2023)</pre></div></div></div><div class=\"sk-serial\"><div class=\"sk-item\"><div class=\"sk-estimator sk-toggleable\"><input class=\"sk-toggleable__control sk-hidden--visually\" id=\"sk-estimator-id-9\" type=\"checkbox\" ><label for=\"sk-estimator-id-9\" class=\"sk-toggleable__label sk-toggleable__label-arrow\">RandomForestRegressor</label><div class=\"sk-toggleable__content\"><pre>RandomForestRegressor(n_estimators=200, random_state=2023)</pre></div></div></div></div></div></div></div></div></div></div>"
      ],
      "text/plain": [
       "RandomizedSearchCV(cv=KFold(n_splits=5, random_state=2023, shuffle=True),\n",
       "                   estimator=RandomForestRegressor(n_estimators=200,\n",
       "                                                   random_state=2023),\n",
       "                   n_iter=400, n_jobs=-1,\n",
       "                   param_distributions={'max_depth': array([1, 2, 3, 4, 5, 6, 7, 8, 9, None], dtype=object),\n",
       "                                        'max_features': array([ 1,  2,  3,  4,  5,  6,  7,  8,  9, 10, 11, 12, 13, 14]),\n",
       "                                        'min_samples_leaf': array([ 1,  2,  3,  4,  5,  6,  7,  8,  9, 10, 11, 12, 13, 14, 15, 16, 17,\n",
       "       18, 19, 20, 21, 22, 23, 24, 25, 26, 27, 28, 29, 30])})"
      ]
     },
     "execution_count": 36,
     "metadata": {},
     "output_type": "execute_result"
    }
   ],
   "source": [
    "%%time\n",
    "rs2.fit(X1_train_transformed, y1_train)"
   ]
  },
  {
   "cell_type": "code",
   "execution_count": 37,
   "id": "d795c3d8-42ae-4043-aaf1-6f22247689bb",
   "metadata": {},
   "outputs": [
    {
     "name": "stdout",
     "output_type": "stream",
     "text": [
      "0.6234446377700327\n",
      "0.5191355632175731\n"
     ]
    }
   ],
   "source": [
    "print(rs2.score(X1_train_transformed, y1_train))\n",
    "print(rs2.score(X1_test_transformed, y1_test))"
   ]
  },
  {
   "cell_type": "code",
   "execution_count": 30,
   "id": "56f09bbd-8817-470f-9b73-5bdee7876729",
   "metadata": {},
   "outputs": [
    {
     "data": {
      "text/plain": [
       "{'min_samples_leaf': 4, 'max_features': 14, 'max_depth': 7}"
      ]
     },
     "execution_count": 30,
     "metadata": {},
     "output_type": "execute_result"
    }
   ],
   "source": [
    "rs2.best_params_"
   ]
  },
  {
   "cell_type": "code",
   "execution_count": 38,
   "id": "6419201b-64df-4a8d-95ad-435b74f7c051",
   "metadata": {
    "tags": []
   },
   "outputs": [
    {
     "data": {
      "text/plain": [
       "{'min_samples_leaf': 3, 'max_features': 14, 'max_depth': None}"
      ]
     },
     "execution_count": 38,
     "metadata": {},
     "output_type": "execute_result"
    }
   ],
   "source": [
    "rs2.best_params_"
   ]
  },
  {
   "cell_type": "code",
   "execution_count": 39,
   "id": "6b88cbb3-e86d-42ef-b2cb-f32c6b3a705d",
   "metadata": {
    "tags": []
   },
   "outputs": [],
   "source": [
    "params = {\n",
    "    'max_features': np.arange(1, X1.shape[1] + 1), \n",
    "    'max_depth': np.append(np.arange(1, 10), None), \n",
    "    'min_samples_leaf': np.arange(1, 31) \n",
    "}\n",
    "kf = KFold(n_splits=5, shuffle=True, random_state=2023)\n",
    "ranfor = ExtraTreesRegressor(\n",
    "    n_estimators=200,\n",
    "    random_state=2023\n",
    ")\n",
    "\n",
    "rs3 = RandomizedSearchCV(ranfor, params, n_iter=100, cv=kf, n_jobs=-1, random_state=42)"
   ]
  },
  {
   "cell_type": "code",
   "execution_count": 41,
   "id": "e35a9111-7d81-4468-b76f-50f1c25435e2",
   "metadata": {
    "tags": []
   },
   "outputs": [
    {
     "data": {
      "text/html": [
       "<style>#sk-container-id-4 {color: black;}#sk-container-id-4 pre{padding: 0;}#sk-container-id-4 div.sk-toggleable {background-color: white;}#sk-container-id-4 label.sk-toggleable__label {cursor: pointer;display: block;width: 100%;margin-bottom: 0;padding: 0.3em;box-sizing: border-box;text-align: center;}#sk-container-id-4 label.sk-toggleable__label-arrow:before {content: \"▸\";float: left;margin-right: 0.25em;color: #696969;}#sk-container-id-4 label.sk-toggleable__label-arrow:hover:before {color: black;}#sk-container-id-4 div.sk-estimator:hover label.sk-toggleable__label-arrow:before {color: black;}#sk-container-id-4 div.sk-toggleable__content {max-height: 0;max-width: 0;overflow: hidden;text-align: left;background-color: #f0f8ff;}#sk-container-id-4 div.sk-toggleable__content pre {margin: 0.2em;color: black;border-radius: 0.25em;background-color: #f0f8ff;}#sk-container-id-4 input.sk-toggleable__control:checked~div.sk-toggleable__content {max-height: 200px;max-width: 100%;overflow: auto;}#sk-container-id-4 input.sk-toggleable__control:checked~label.sk-toggleable__label-arrow:before {content: \"▾\";}#sk-container-id-4 div.sk-estimator input.sk-toggleable__control:checked~label.sk-toggleable__label {background-color: #d4ebff;}#sk-container-id-4 div.sk-label input.sk-toggleable__control:checked~label.sk-toggleable__label {background-color: #d4ebff;}#sk-container-id-4 input.sk-hidden--visually {border: 0;clip: rect(1px 1px 1px 1px);clip: rect(1px, 1px, 1px, 1px);height: 1px;margin: -1px;overflow: hidden;padding: 0;position: absolute;width: 1px;}#sk-container-id-4 div.sk-estimator {font-family: monospace;background-color: #f0f8ff;border: 1px dotted black;border-radius: 0.25em;box-sizing: border-box;margin-bottom: 0.5em;}#sk-container-id-4 div.sk-estimator:hover {background-color: #d4ebff;}#sk-container-id-4 div.sk-parallel-item::after {content: \"\";width: 100%;border-bottom: 1px solid gray;flex-grow: 1;}#sk-container-id-4 div.sk-label:hover label.sk-toggleable__label {background-color: #d4ebff;}#sk-container-id-4 div.sk-serial::before {content: \"\";position: absolute;border-left: 1px solid gray;box-sizing: border-box;top: 0;bottom: 0;left: 50%;z-index: 0;}#sk-container-id-4 div.sk-serial {display: flex;flex-direction: column;align-items: center;background-color: white;padding-right: 0.2em;padding-left: 0.2em;position: relative;}#sk-container-id-4 div.sk-item {position: relative;z-index: 1;}#sk-container-id-4 div.sk-parallel {display: flex;align-items: stretch;justify-content: center;background-color: white;position: relative;}#sk-container-id-4 div.sk-item::before, #sk-container-id-4 div.sk-parallel-item::before {content: \"\";position: absolute;border-left: 1px solid gray;box-sizing: border-box;top: 0;bottom: 0;left: 50%;z-index: -1;}#sk-container-id-4 div.sk-parallel-item {display: flex;flex-direction: column;z-index: 1;position: relative;background-color: white;}#sk-container-id-4 div.sk-parallel-item:first-child::after {align-self: flex-end;width: 50%;}#sk-container-id-4 div.sk-parallel-item:last-child::after {align-self: flex-start;width: 50%;}#sk-container-id-4 div.sk-parallel-item:only-child::after {width: 0;}#sk-container-id-4 div.sk-dashed-wrapped {border: 1px dashed gray;margin: 0 0.4em 0.5em 0.4em;box-sizing: border-box;padding-bottom: 0.4em;background-color: white;}#sk-container-id-4 div.sk-label label {font-family: monospace;font-weight: bold;display: inline-block;line-height: 1.2em;}#sk-container-id-4 div.sk-label-container {text-align: center;}#sk-container-id-4 div.sk-container {/* jupyter's `normalize.less` sets `[hidden] { display: none; }` but bootstrap.min.css set `[hidden] { display: none !important; }` so we also need the `!important` here to be able to override the default hidden behavior on the sphinx rendered scikit-learn.org. See: https://github.com/scikit-learn/scikit-learn/issues/21755 */display: inline-block !important;position: relative;}#sk-container-id-4 div.sk-text-repr-fallback {display: none;}</style><div id=\"sk-container-id-4\" class=\"sk-top-container\"><div class=\"sk-text-repr-fallback\"><pre>RandomizedSearchCV(cv=KFold(n_splits=5, random_state=2023, shuffle=True),\n",
       "                   estimator=ExtraTreesRegressor(n_estimators=200,\n",
       "                                                 random_state=2023),\n",
       "                   n_iter=100, n_jobs=-1,\n",
       "                   param_distributions={&#x27;max_depth&#x27;: array([1, 2, 3, 4, 5, 6, 7, 8, 9, None], dtype=object),\n",
       "                                        &#x27;max_features&#x27;: array([ 1,  2,  3,  4,  5,  6,  7,  8,  9, 10, 11, 12, 13, 14]),\n",
       "                                        &#x27;min_samples_leaf&#x27;: array([ 1,  2,  3,  4,  5,  6,  7,  8,  9, 10, 11, 12, 13, 14, 15, 16, 17,\n",
       "       18, 19, 20, 21, 22, 23, 24, 25, 26, 27, 28, 29, 30])},\n",
       "                   random_state=42)</pre><b>In a Jupyter environment, please rerun this cell to show the HTML representation or trust the notebook. <br />On GitHub, the HTML representation is unable to render, please try loading this page with nbviewer.org.</b></div><div class=\"sk-container\" hidden><div class=\"sk-item sk-dashed-wrapped\"><div class=\"sk-label-container\"><div class=\"sk-label sk-toggleable\"><input class=\"sk-toggleable__control sk-hidden--visually\" id=\"sk-estimator-id-10\" type=\"checkbox\" ><label for=\"sk-estimator-id-10\" class=\"sk-toggleable__label sk-toggleable__label-arrow\">RandomizedSearchCV</label><div class=\"sk-toggleable__content\"><pre>RandomizedSearchCV(cv=KFold(n_splits=5, random_state=2023, shuffle=True),\n",
       "                   estimator=ExtraTreesRegressor(n_estimators=200,\n",
       "                                                 random_state=2023),\n",
       "                   n_iter=100, n_jobs=-1,\n",
       "                   param_distributions={&#x27;max_depth&#x27;: array([1, 2, 3, 4, 5, 6, 7, 8, 9, None], dtype=object),\n",
       "                                        &#x27;max_features&#x27;: array([ 1,  2,  3,  4,  5,  6,  7,  8,  9, 10, 11, 12, 13, 14]),\n",
       "                                        &#x27;min_samples_leaf&#x27;: array([ 1,  2,  3,  4,  5,  6,  7,  8,  9, 10, 11, 12, 13, 14, 15, 16, 17,\n",
       "       18, 19, 20, 21, 22, 23, 24, 25, 26, 27, 28, 29, 30])},\n",
       "                   random_state=42)</pre></div></div></div><div class=\"sk-parallel\"><div class=\"sk-parallel-item\"><div class=\"sk-item\"><div class=\"sk-label-container\"><div class=\"sk-label sk-toggleable\"><input class=\"sk-toggleable__control sk-hidden--visually\" id=\"sk-estimator-id-11\" type=\"checkbox\" ><label for=\"sk-estimator-id-11\" class=\"sk-toggleable__label sk-toggleable__label-arrow\">estimator: ExtraTreesRegressor</label><div class=\"sk-toggleable__content\"><pre>ExtraTreesRegressor(n_estimators=200, random_state=2023)</pre></div></div></div><div class=\"sk-serial\"><div class=\"sk-item\"><div class=\"sk-estimator sk-toggleable\"><input class=\"sk-toggleable__control sk-hidden--visually\" id=\"sk-estimator-id-12\" type=\"checkbox\" ><label for=\"sk-estimator-id-12\" class=\"sk-toggleable__label sk-toggleable__label-arrow\">ExtraTreesRegressor</label><div class=\"sk-toggleable__content\"><pre>ExtraTreesRegressor(n_estimators=200, random_state=2023)</pre></div></div></div></div></div></div></div></div></div></div>"
      ],
      "text/plain": [
       "RandomizedSearchCV(cv=KFold(n_splits=5, random_state=2023, shuffle=True),\n",
       "                   estimator=ExtraTreesRegressor(n_estimators=200,\n",
       "                                                 random_state=2023),\n",
       "                   n_iter=100, n_jobs=-1,\n",
       "                   param_distributions={'max_depth': array([1, 2, 3, 4, 5, 6, 7, 8, 9, None], dtype=object),\n",
       "                                        'max_features': array([ 1,  2,  3,  4,  5,  6,  7,  8,  9, 10, 11, 12, 13, 14]),\n",
       "                                        'min_samples_leaf': array([ 1,  2,  3,  4,  5,  6,  7,  8,  9, 10, 11, 12, 13, 14, 15, 16, 17,\n",
       "       18, 19, 20, 21, 22, 23, 24, 25, 26, 27, 28, 29, 30])},\n",
       "                   random_state=42)"
      ]
     },
     "execution_count": 41,
     "metadata": {},
     "output_type": "execute_result"
    }
   ],
   "source": [
    "rs3.fit(X1_train_transformed, y1_train)"
   ]
  },
  {
   "cell_type": "code",
   "execution_count": 43,
   "id": "da2d5363-2e00-4bab-9cfb-fb7f3c6d47d8",
   "metadata": {
    "tags": []
   },
   "outputs": [
    {
     "name": "stdout",
     "output_type": "stream",
     "text": [
      "0.5159039609428526\n",
      "0.4949398686056966\n"
     ]
    }
   ],
   "source": [
    "print(rs3.score(X1_train_transformed, y1_train))\n",
    "print(rs3.score(X1_test_transformed, y1_test))"
   ]
  },
  {
   "cell_type": "code",
   "execution_count": null,
   "id": "a1c081cc-ce9f-4839-b2bf-9bc462660422",
   "metadata": {},
   "outputs": [],
   "source": []
  },
  {
   "cell_type": "code",
   "execution_count": 25,
   "id": "fb12062f-4918-488a-bde5-3dbd2bfb6feb",
   "metadata": {
    "tags": []
   },
   "outputs": [],
   "source": [
    "# More modeling after fixing issues with SITE_NAME\n",
    "df2 = pd.read_csv('data/df2_with_weather.csv')\n",
    "df2.drop(columns=['TRAILERS'], inplace=True)\n",
    "df2.dropna(inplace=True)"
   ]
  },
  {
   "cell_type": "code",
   "execution_count": 26,
   "id": "c57466ad-c631-445f-a904-353f7ee3df98",
   "metadata": {
    "tags": []
   },
   "outputs": [],
   "source": [
    "X2 = df2.drop(columns=['DATE1', 'TOWN', 'WATERBODY', 'INSPECTOR_ID', 'TOTALINSP', 'DATE', 'SHIFT_START', 'SHIFT_END'])\n",
    "y2 = df2.TOTALINSP            \n",
    "\n",
    "X2_train, X2_test, y2_train, y2_test = train_test_split(X2, y2, random_state=42, test_size=.2)"
   ]
  },
  {
   "cell_type": "code",
   "execution_count": 27,
   "id": "dbcf610a-ea00-40ef-be5c-9374f3bb18f0",
   "metadata": {
    "tags": []
   },
   "outputs": [],
   "source": [
    "categorical_columns = ['SITE_NAME', 'DAY_OF_WEEK', 'month', 'year', 'PAY_VOL', 'SHIFT_START_CATEGORY', 'SHIFT_END_CATEGORY']\n",
    "oh = OneHotEncoder(handle_unknown='ignore', drop='first')\n",
    "X2_train_transformed = oh.fit_transform(X2_train[categorical_columns])\n",
    "X2_test_transformed= oh.transform(X2_test[categorical_columns])"
   ]
  },
  {
   "cell_type": "code",
   "execution_count": 109,
   "id": "0828e2a3-108a-4711-a06b-44e2be67541a",
   "metadata": {
    "tags": []
   },
   "outputs": [
    {
     "name": "stdout",
     "output_type": "stream",
     "text": [
      "0.41892295489341824\n",
      "0.3945029779824951\n"
     ]
    }
   ],
   "source": [
    "lr2 = LinearRegression()\n",
    "lr2.fit(X2_train_transformed, y2_train)\n",
    "print(lr2.score(X2_train_transformed, y2_train))\n",
    "print(lr2.score(X2_test_transformed, y2_test))"
   ]
  },
  {
   "cell_type": "code",
   "execution_count": 110,
   "id": "2462a21f-e301-49b3-abd2-2b40cfc3bbd2",
   "metadata": {
    "tags": []
   },
   "outputs": [
    {
     "name": "stdout",
     "output_type": "stream",
     "text": [
      "0.7686827904670492\n",
      "0.38907189776765183\n"
     ]
    }
   ],
   "source": [
    "rf2 = RandomForestRegressor()\n",
    "rf2.fit(X2_train_transformed, y2_train)\n",
    "print(rf2.score(X2_train_transformed, y2_train))\n",
    "print(rf2.score(X2_test_transformed, y2_test))    "
   ]
  },
  {
   "cell_type": "code",
   "execution_count": 111,
   "id": "1e4b4e49-fdc9-4f4e-a95f-aa50cc68e62f",
   "metadata": {
    "tags": []
   },
   "outputs": [
    {
     "name": "stdout",
     "output_type": "stream",
     "text": [
      "0.5142276335273501\n",
      "0.4618525960583473\n"
     ]
    }
   ],
   "source": [
    "grad = GradientBoostingRegressor()\n",
    "grad.fit(X2_train_transformed, y2_train)\n",
    "print(grad.score(X2_train_transformed, y2_train))\n",
    "print(grad.score(X2_test_transformed, y2_test))"
   ]
  },
  {
   "cell_type": "code",
   "execution_count": 112,
   "id": "87ab0ccc-00ea-4c79-bb7e-35cd71ab598f",
   "metadata": {
    "tags": []
   },
   "outputs": [],
   "source": [
    "grad_1 = GradientBoostingRegressor(max_features=5, min_samples_leaf=13, max_depth=5, n_estimators=500, random_state=42)"
   ]
  },
  {
   "cell_type": "code",
   "execution_count": 28,
   "id": "5f902b5c-c0bc-4e80-93c4-4a9c808913a3",
   "metadata": {
    "tags": []
   },
   "outputs": [],
   "source": [
    "X2_transformed = oh.fit_transform(X2[categorical_columns])"
   ]
  },
  {
   "cell_type": "code",
   "execution_count": 114,
   "id": "533879e5-5eb1-46af-8906-833b4c37b008",
   "metadata": {
    "tags": []
   },
   "outputs": [
    {
     "name": "stdout",
     "output_type": "stream",
     "text": [
      "R2 Score: 0.6313783856715871\n",
      "CPU times: total: 500 ms\n",
      "Wall time: 608 ms\n"
     ]
    }
   ],
   "source": [
    "%%time\n",
    "grad_1.fit(X2_transformed, y2)\n",
    "\n",
    "print(f'R2 Score: {grad_1.score(X2_transformed, y2)}')"
   ]
  },
  {
   "cell_type": "code",
   "execution_count": 125,
   "id": "957643e1-6fee-4a64-ab69-0bf284c96277",
   "metadata": {
    "tags": []
   },
   "outputs": [],
   "source": [
    "from sklearn.compose import make_column_transformer, make_column_selector\n",
    "from sklearn.pipeline import Pipeline\n",
    "from scipy.stats import uniform\n",
    "from sklearn.compose import ColumnTransformer"
   ]
  },
  {
   "cell_type": "code",
   "execution_count": 129,
   "id": "b94578cc-8f53-4b80-89f9-2e695197cd49",
   "metadata": {
    "tags": []
   },
   "outputs": [
    {
     "name": "stdout",
     "output_type": "stream",
     "text": [
      "Best Parameters: {'regressor__positive': False, 'regressor__fit_intercept': True, 'poly__degree': 1}\n",
      "Best R^2 Score: 0.44578806734809734\n",
      "Test Set R^2 Score: 0.4224033322296722\n"
     ]
    },
    {
     "name": "stderr",
     "output_type": "stream",
     "text": [
      "C:\\Users\\kaitl\\anaconda3\\Lib\\site-packages\\sklearn\\model_selection\\_validation.py:425: FitFailedWarning: \n",
      "20 fits failed out of a total of 50.\n",
      "The score on these train-test partitions for these parameters will be set to nan.\n",
      "If these failures are not expected, you can try to debug them by setting error_score='raise'.\n",
      "\n",
      "Below are more details about the failures:\n",
      "--------------------------------------------------------------------------------\n",
      "20 fits failed with the following error:\n",
      "Traceback (most recent call last):\n",
      "  File \"C:\\Users\\kaitl\\anaconda3\\Lib\\site-packages\\sklearn\\model_selection\\_validation.py\", line 732, in _fit_and_score\n",
      "    estimator.fit(X_train, y_train, **fit_params)\n",
      "  File \"C:\\Users\\kaitl\\anaconda3\\Lib\\site-packages\\sklearn\\base.py\", line 1151, in wrapper\n",
      "    return fit_method(estimator, *args, **kwargs)\n",
      "           ^^^^^^^^^^^^^^^^^^^^^^^^^^^^^^^^^^^^^^\n",
      "  File \"C:\\Users\\kaitl\\anaconda3\\Lib\\site-packages\\sklearn\\pipeline.py\", line 420, in fit\n",
      "    self._final_estimator.fit(Xt, y, **fit_params_last_step)\n",
      "  File \"C:\\Users\\kaitl\\anaconda3\\Lib\\site-packages\\sklearn\\base.py\", line 1151, in wrapper\n",
      "    return fit_method(estimator, *args, **kwargs)\n",
      "           ^^^^^^^^^^^^^^^^^^^^^^^^^^^^^^^^^^^^^^\n",
      "  File \"C:\\Users\\kaitl\\anaconda3\\Lib\\site-packages\\sklearn\\linear_model\\_base.py\", line 678, in fit\n",
      "    X, y = self._validate_data(\n",
      "           ^^^^^^^^^^^^^^^^^^^^\n",
      "  File \"C:\\Users\\kaitl\\anaconda3\\Lib\\site-packages\\sklearn\\base.py\", line 621, in _validate_data\n",
      "    X, y = check_X_y(X, y, **check_params)\n",
      "           ^^^^^^^^^^^^^^^^^^^^^^^^^^^^^^^\n",
      "  File \"C:\\Users\\kaitl\\anaconda3\\Lib\\site-packages\\sklearn\\utils\\validation.py\", line 1147, in check_X_y\n",
      "    X = check_array(\n",
      "        ^^^^^^^^^^^^\n",
      "  File \"C:\\Users\\kaitl\\anaconda3\\Lib\\site-packages\\sklearn\\utils\\validation.py\", line 883, in check_array\n",
      "    array = _ensure_sparse_format(\n",
      "            ^^^^^^^^^^^^^^^^^^^^^^\n",
      "  File \"C:\\Users\\kaitl\\anaconda3\\Lib\\site-packages\\sklearn\\utils\\validation.py\", line 534, in _ensure_sparse_format\n",
      "    raise TypeError(\n",
      "TypeError: A sparse matrix was passed, but dense data is required. Use X.toarray() to convert to a dense numpy array.\n",
      "\n",
      "  warnings.warn(some_fits_failed_message, FitFailedWarning)\n",
      "C:\\Users\\kaitl\\anaconda3\\Lib\\site-packages\\sklearn\\model_selection\\_search.py:976: UserWarning: One or more of the test scores are non-finite: [        nan  0.44578807  0.2505845          nan -0.77506232 -5.23395932\n",
      "         nan -5.26984393         nan -0.76001407]\n",
      "  warnings.warn(\n"
     ]
    }
   ],
   "source": [
    "df2 = pd.read_csv('data/df2_with_weather.csv')\n",
    "df2.drop(columns=['TRAILERS'], inplace=True)\n",
    "df2.dropna(inplace=True)\n",
    "\n",
    "# Assume df1 is meant to be df2 in your provided code\n",
    "X2 = df2.drop(columns=['DATE1', 'TOWN', 'WATERBODY', 'INSPECTOR_ID', 'TOTALINSP', 'DATE', 'SHIFT_START', 'SHIFT_END'])\n",
    "y2 = df2['TOTALINSP']\n",
    "\n",
    "# Specify categorical columns\n",
    "categorical_columns = ['SITE_NAME', 'DAY_OF_WEEK', 'month', 'year', 'PAY_VOL', 'SHIFT_START_CATEGORY', 'SHIFT_END_CATEGORY']\n",
    "\n",
    "# Specify numerical columns\n",
    "numerical_columns = [col for col in X2.columns if col not in categorical_columns]\n",
    "\n",
    "# Split the data into training and testing sets\n",
    "X2_train, X2_test, y2_train, y2_test = train_test_split(X2, y2, random_state=42, test_size=.2)\n",
    "\n",
    "# Create a ColumnTransformer\n",
    "preprocessor = ColumnTransformer(\n",
    "    transformers=[\n",
    "        ('numerical', StandardScaler(), numerical_columns),\n",
    "        ('categorical', OneHotEncoder(handle_unknown='ignore', drop='first'), categorical_columns)\n",
    "    ],\n",
    "    remainder='passthrough'  # Keep columns not specified in transformers as they are\n",
    ")\n",
    "\n",
    "# Create a pipeline\n",
    "pipeline = Pipeline([\n",
    "    ('preprocessor', preprocessor),\n",
    "    ('poly', PolynomialFeatures()),\n",
    "    ('regressor', LinearRegression())\n",
    "])\n",
    "\n",
    "# Define hyperparameters for RandomizedSearchCV\n",
    "param_dist = {\n",
    "    'poly__degree': [1, 2, 3, 4],\n",
    "    'regressor__fit_intercept': [True, False],\n",
    "    'regressor__positive': [True, False]\n",
    "}\n",
    "\n",
    "# Create and fit the RandomizedSearchCV\n",
    "random_search = RandomizedSearchCV(\n",
    "    pipeline,\n",
    "    param_distributions=param_dist,\n",
    "    n_iter=10,\n",
    "    scoring='r2',\n",
    "    cv=5,\n",
    "    random_state=42\n",
    ")\n",
    "\n",
    "random_search.fit(X2_train, y2_train)\n",
    "\n",
    "# Print the best parameters and the corresponding R^2 score\n",
    "print(\"Best Parameters:\", random_search.best_params_)\n",
    "print(\"Best R^2 Score:\", random_search.best_score_)\n",
    "\n",
    "# Evaluate the model on the test set\n",
    "test_score = random_search.score(X2_test, y2_test)\n",
    "print(\"Test Set R^2 Score:\", test_score)"
   ]
  },
  {
   "cell_type": "code",
   "execution_count": 136,
   "id": "a2ffdf11-119c-4011-9839-fce89954b637",
   "metadata": {
    "tags": []
   },
   "outputs": [
    {
     "name": "stderr",
     "output_type": "stream",
     "text": [
      "C:\\Users\\kaitl\\anaconda3\\Lib\\site-packages\\sklearn\\linear_model\\_coordinate_descent.py:589: ConvergenceWarning: Objective did not converge. You might want to increase the number of iterations. Duality gap: 19678.658039495, tolerance: 44.02013820754718\n",
      "  model = cd_fast.sparse_enet_coordinate_descent(\n",
      "C:\\Users\\kaitl\\anaconda3\\Lib\\site-packages\\sklearn\\linear_model\\_coordinate_descent.py:589: ConvergenceWarning: Objective did not converge. You might want to increase the number of iterations. Duality gap: 2626.79212445367, tolerance: 42.158122035040435\n",
      "  model = cd_fast.sparse_enet_coordinate_descent(\n",
      "C:\\Users\\kaitl\\anaconda3\\Lib\\site-packages\\sklearn\\linear_model\\_coordinate_descent.py:589: ConvergenceWarning: Objective did not converge. You might want to increase the number of iterations. Duality gap: 2321.9325536328834, tolerance: 43.43145417789758\n",
      "  model = cd_fast.sparse_enet_coordinate_descent(\n",
      "C:\\Users\\kaitl\\anaconda3\\Lib\\site-packages\\sklearn\\linear_model\\_coordinate_descent.py:589: ConvergenceWarning: Objective did not converge. You might want to increase the number of iterations. Duality gap: 5872.875344640634, tolerance: 44.3850167115903\n",
      "  model = cd_fast.sparse_enet_coordinate_descent(\n",
      "C:\\Users\\kaitl\\anaconda3\\Lib\\site-packages\\sklearn\\linear_model\\_coordinate_descent.py:589: ConvergenceWarning: Objective did not converge. You might want to increase the number of iterations. Duality gap: 37792.54554654457, tolerance: 43.196718867924524\n",
      "  model = cd_fast.sparse_enet_coordinate_descent(\n",
      "C:\\Users\\kaitl\\anaconda3\\Lib\\site-packages\\sklearn\\linear_model\\_coordinate_descent.py:589: ConvergenceWarning: Objective did not converge. You might want to increase the number of iterations. Duality gap: 12202.021777532675, tolerance: 44.02013820754718\n",
      "  model = cd_fast.sparse_enet_coordinate_descent(\n",
      "C:\\Users\\kaitl\\anaconda3\\Lib\\site-packages\\sklearn\\linear_model\\_coordinate_descent.py:589: ConvergenceWarning: Objective did not converge. You might want to increase the number of iterations. Duality gap: 2738.9648112934374, tolerance: 42.158122035040435\n",
      "  model = cd_fast.sparse_enet_coordinate_descent(\n",
      "C:\\Users\\kaitl\\anaconda3\\Lib\\site-packages\\sklearn\\linear_model\\_coordinate_descent.py:589: ConvergenceWarning: Objective did not converge. You might want to increase the number of iterations. Duality gap: 2348.5315332517785, tolerance: 43.43145417789758\n",
      "  model = cd_fast.sparse_enet_coordinate_descent(\n",
      "C:\\Users\\kaitl\\anaconda3\\Lib\\site-packages\\sklearn\\linear_model\\_coordinate_descent.py:589: ConvergenceWarning: Objective did not converge. You might want to increase the number of iterations. Duality gap: 20449.88410833353, tolerance: 44.3850167115903\n",
      "  model = cd_fast.sparse_enet_coordinate_descent(\n",
      "C:\\Users\\kaitl\\anaconda3\\Lib\\site-packages\\sklearn\\linear_model\\_coordinate_descent.py:589: ConvergenceWarning: Objective did not converge. You might want to increase the number of iterations. Duality gap: 48625.83148828065, tolerance: 43.196718867924524\n",
      "  model = cd_fast.sparse_enet_coordinate_descent(\n",
      "C:\\Users\\kaitl\\anaconda3\\Lib\\site-packages\\sklearn\\linear_model\\_coordinate_descent.py:589: ConvergenceWarning: Objective did not converge. You might want to increase the number of iterations. Duality gap: 11211.104684929567, tolerance: 44.02013820754718\n",
      "  model = cd_fast.sparse_enet_coordinate_descent(\n",
      "C:\\Users\\kaitl\\anaconda3\\Lib\\site-packages\\sklearn\\linear_model\\_coordinate_descent.py:589: ConvergenceWarning: Objective did not converge. You might want to increase the number of iterations. Duality gap: 4676.417493333109, tolerance: 42.158122035040435\n",
      "  model = cd_fast.sparse_enet_coordinate_descent(\n",
      "C:\\Users\\kaitl\\anaconda3\\Lib\\site-packages\\sklearn\\linear_model\\_coordinate_descent.py:589: ConvergenceWarning: Objective did not converge. You might want to increase the number of iterations. Duality gap: 2229.3934179238568, tolerance: 43.43145417789758\n",
      "  model = cd_fast.sparse_enet_coordinate_descent(\n",
      "C:\\Users\\kaitl\\anaconda3\\Lib\\site-packages\\sklearn\\linear_model\\_coordinate_descent.py:589: ConvergenceWarning: Objective did not converge. You might want to increase the number of iterations. Duality gap: 28699.28078663294, tolerance: 44.3850167115903\n",
      "  model = cd_fast.sparse_enet_coordinate_descent(\n",
      "C:\\Users\\kaitl\\anaconda3\\Lib\\site-packages\\sklearn\\linear_model\\_coordinate_descent.py:589: ConvergenceWarning: Objective did not converge. You might want to increase the number of iterations. Duality gap: 60228.17679500323, tolerance: 43.196718867924524\n",
      "  model = cd_fast.sparse_enet_coordinate_descent(\n",
      "C:\\Users\\kaitl\\anaconda3\\Lib\\site-packages\\sklearn\\linear_model\\_coordinate_descent.py:589: ConvergenceWarning: Objective did not converge. You might want to increase the number of iterations. Duality gap: 54214.15043913588, tolerance: 44.02013820754718\n",
      "  model = cd_fast.sparse_enet_coordinate_descent(\n",
      "C:\\Users\\kaitl\\anaconda3\\Lib\\site-packages\\sklearn\\linear_model\\_coordinate_descent.py:589: ConvergenceWarning: Objective did not converge. You might want to increase the number of iterations. Duality gap: 73824.0610450904, tolerance: 42.158122035040435\n",
      "  model = cd_fast.sparse_enet_coordinate_descent(\n",
      "C:\\Users\\kaitl\\anaconda3\\Lib\\site-packages\\sklearn\\linear_model\\_coordinate_descent.py:589: ConvergenceWarning: Objective did not converge. You might want to increase the number of iterations. Duality gap: 26499.682108147186, tolerance: 43.43145417789758\n",
      "  model = cd_fast.sparse_enet_coordinate_descent(\n",
      "C:\\Users\\kaitl\\anaconda3\\Lib\\site-packages\\sklearn\\linear_model\\_coordinate_descent.py:589: ConvergenceWarning: Objective did not converge. You might want to increase the number of iterations. Duality gap: 86080.32823324637, tolerance: 44.3850167115903\n",
      "  model = cd_fast.sparse_enet_coordinate_descent(\n",
      "C:\\Users\\kaitl\\anaconda3\\Lib\\site-packages\\sklearn\\linear_model\\_coordinate_descent.py:589: ConvergenceWarning: Objective did not converge. You might want to increase the number of iterations. Duality gap: 87846.68032929745, tolerance: 43.196718867924524\n",
      "  model = cd_fast.sparse_enet_coordinate_descent(\n",
      "C:\\Users\\kaitl\\anaconda3\\Lib\\site-packages\\sklearn\\linear_model\\_coordinate_descent.py:589: ConvergenceWarning: Objective did not converge. You might want to increase the number of iterations. Duality gap: 2332.6412189507973, tolerance: 44.02013820754718\n",
      "  model = cd_fast.sparse_enet_coordinate_descent(\n",
      "C:\\Users\\kaitl\\anaconda3\\Lib\\site-packages\\sklearn\\linear_model\\_coordinate_descent.py:589: ConvergenceWarning: Objective did not converge. You might want to increase the number of iterations. Duality gap: 1812.3180669670692, tolerance: 42.158122035040435\n",
      "  model = cd_fast.sparse_enet_coordinate_descent(\n",
      "C:\\Users\\kaitl\\anaconda3\\Lib\\site-packages\\sklearn\\linear_model\\_coordinate_descent.py:589: ConvergenceWarning: Objective did not converge. You might want to increase the number of iterations. Duality gap: 1417.9294988852052, tolerance: 43.43145417789758\n",
      "  model = cd_fast.sparse_enet_coordinate_descent(\n",
      "C:\\Users\\kaitl\\anaconda3\\Lib\\site-packages\\sklearn\\linear_model\\_coordinate_descent.py:589: ConvergenceWarning: Objective did not converge. You might want to increase the number of iterations. Duality gap: 3905.9356716546754, tolerance: 44.3850167115903\n",
      "  model = cd_fast.sparse_enet_coordinate_descent(\n",
      "C:\\Users\\kaitl\\anaconda3\\Lib\\site-packages\\sklearn\\linear_model\\_coordinate_descent.py:589: ConvergenceWarning: Objective did not converge. You might want to increase the number of iterations. Duality gap: 6672.864450929745, tolerance: 43.196718867924524\n",
      "  model = cd_fast.sparse_enet_coordinate_descent(\n",
      "C:\\Users\\kaitl\\anaconda3\\Lib\\site-packages\\sklearn\\linear_model\\_coordinate_descent.py:589: ConvergenceWarning: Objective did not converge. You might want to increase the number of iterations. Duality gap: 6116.092916002133, tolerance: 44.02013820754718\n",
      "  model = cd_fast.sparse_enet_coordinate_descent(\n",
      "C:\\Users\\kaitl\\anaconda3\\Lib\\site-packages\\sklearn\\linear_model\\_coordinate_descent.py:589: ConvergenceWarning: Objective did not converge. You might want to increase the number of iterations. Duality gap: 63598.252468845894, tolerance: 42.158122035040435\n",
      "  model = cd_fast.sparse_enet_coordinate_descent(\n",
      "C:\\Users\\kaitl\\anaconda3\\Lib\\site-packages\\sklearn\\linear_model\\_coordinate_descent.py:589: ConvergenceWarning: Objective did not converge. You might want to increase the number of iterations. Duality gap: 17611.873977853378, tolerance: 43.43145417789758\n",
      "  model = cd_fast.sparse_enet_coordinate_descent(\n",
      "C:\\Users\\kaitl\\anaconda3\\Lib\\site-packages\\sklearn\\linear_model\\_coordinate_descent.py:589: ConvergenceWarning: Objective did not converge. You might want to increase the number of iterations. Duality gap: 74783.39447934351, tolerance: 44.3850167115903\n",
      "  model = cd_fast.sparse_enet_coordinate_descent(\n",
      "C:\\Users\\kaitl\\anaconda3\\Lib\\site-packages\\sklearn\\linear_model\\_coordinate_descent.py:589: ConvergenceWarning: Objective did not converge. You might want to increase the number of iterations. Duality gap: 69616.87014786838, tolerance: 43.196718867924524\n",
      "  model = cd_fast.sparse_enet_coordinate_descent(\n",
      "C:\\Users\\kaitl\\anaconda3\\Lib\\site-packages\\sklearn\\linear_model\\_coordinate_descent.py:589: ConvergenceWarning: Objective did not converge. You might want to increase the number of iterations. Duality gap: 749.492774561164, tolerance: 44.3850167115903\n",
      "  model = cd_fast.sparse_enet_coordinate_descent(\n",
      "C:\\Users\\kaitl\\anaconda3\\Lib\\site-packages\\sklearn\\linear_model\\_coordinate_descent.py:589: ConvergenceWarning: Objective did not converge. You might want to increase the number of iterations. Duality gap: 16259.219208615046, tolerance: 44.02013820754718\n",
      "  model = cd_fast.sparse_enet_coordinate_descent(\n",
      "C:\\Users\\kaitl\\anaconda3\\Lib\\site-packages\\sklearn\\linear_model\\_coordinate_descent.py:589: ConvergenceWarning: Objective did not converge. You might want to increase the number of iterations. Duality gap: 3986.20157359881, tolerance: 42.158122035040435\n",
      "  model = cd_fast.sparse_enet_coordinate_descent(\n",
      "C:\\Users\\kaitl\\anaconda3\\Lib\\site-packages\\sklearn\\linear_model\\_coordinate_descent.py:589: ConvergenceWarning: Objective did not converge. You might want to increase the number of iterations. Duality gap: 2174.755281168851, tolerance: 43.43145417789758\n",
      "  model = cd_fast.sparse_enet_coordinate_descent(\n",
      "C:\\Users\\kaitl\\anaconda3\\Lib\\site-packages\\sklearn\\linear_model\\_coordinate_descent.py:589: ConvergenceWarning: Objective did not converge. You might want to increase the number of iterations. Duality gap: 17704.43939820421, tolerance: 44.3850167115903\n",
      "  model = cd_fast.sparse_enet_coordinate_descent(\n",
      "C:\\Users\\kaitl\\anaconda3\\Lib\\site-packages\\sklearn\\linear_model\\_coordinate_descent.py:589: ConvergenceWarning: Objective did not converge. You might want to increase the number of iterations. Duality gap: 29951.30588135186, tolerance: 43.196718867924524\n",
      "  model = cd_fast.sparse_enet_coordinate_descent(\n",
      "C:\\Users\\kaitl\\anaconda3\\Lib\\site-packages\\sklearn\\linear_model\\_coordinate_descent.py:589: ConvergenceWarning: Objective did not converge. You might want to increase the number of iterations. Duality gap: 55559.09794365928, tolerance: 44.02013820754718\n",
      "  model = cd_fast.sparse_enet_coordinate_descent(\n",
      "C:\\Users\\kaitl\\anaconda3\\Lib\\site-packages\\sklearn\\linear_model\\_coordinate_descent.py:589: ConvergenceWarning: Objective did not converge. You might want to increase the number of iterations. Duality gap: 74972.08762371785, tolerance: 42.158122035040435\n",
      "  model = cd_fast.sparse_enet_coordinate_descent(\n",
      "C:\\Users\\kaitl\\anaconda3\\Lib\\site-packages\\sklearn\\linear_model\\_coordinate_descent.py:589: ConvergenceWarning: Objective did not converge. You might want to increase the number of iterations. Duality gap: 25946.745354237544, tolerance: 43.43145417789758\n",
      "  model = cd_fast.sparse_enet_coordinate_descent(\n",
      "C:\\Users\\kaitl\\anaconda3\\Lib\\site-packages\\sklearn\\linear_model\\_coordinate_descent.py:589: ConvergenceWarning: Objective did not converge. You might want to increase the number of iterations. Duality gap: 86777.19769851875, tolerance: 44.3850167115903\n",
      "  model = cd_fast.sparse_enet_coordinate_descent(\n",
      "C:\\Users\\kaitl\\anaconda3\\Lib\\site-packages\\sklearn\\linear_model\\_coordinate_descent.py:589: ConvergenceWarning: Objective did not converge. You might want to increase the number of iterations. Duality gap: 89369.08154026212, tolerance: 43.196718867924524\n",
      "  model = cd_fast.sparse_enet_coordinate_descent(\n",
      "C:\\Users\\kaitl\\anaconda3\\Lib\\site-packages\\sklearn\\linear_model\\_coordinate_descent.py:589: ConvergenceWarning: Objective did not converge. You might want to increase the number of iterations. Duality gap: 11360.999097900465, tolerance: 44.02013820754718\n",
      "  model = cd_fast.sparse_enet_coordinate_descent(\n",
      "C:\\Users\\kaitl\\anaconda3\\Lib\\site-packages\\sklearn\\linear_model\\_coordinate_descent.py:589: ConvergenceWarning: Objective did not converge. You might want to increase the number of iterations. Duality gap: 4687.309640723164, tolerance: 42.158122035040435\n",
      "  model = cd_fast.sparse_enet_coordinate_descent(\n",
      "C:\\Users\\kaitl\\anaconda3\\Lib\\site-packages\\sklearn\\linear_model\\_coordinate_descent.py:589: ConvergenceWarning: Objective did not converge. You might want to increase the number of iterations. Duality gap: 2250.325224879867, tolerance: 43.43145417789758\n",
      "  model = cd_fast.sparse_enet_coordinate_descent(\n",
      "C:\\Users\\kaitl\\anaconda3\\Lib\\site-packages\\sklearn\\linear_model\\_coordinate_descent.py:589: ConvergenceWarning: Objective did not converge. You might want to increase the number of iterations. Duality gap: 27943.359284509803, tolerance: 44.3850167115903\n",
      "  model = cd_fast.sparse_enet_coordinate_descent(\n",
      "C:\\Users\\kaitl\\anaconda3\\Lib\\site-packages\\sklearn\\linear_model\\_coordinate_descent.py:589: ConvergenceWarning: Objective did not converge. You might want to increase the number of iterations. Duality gap: 58772.64327257946, tolerance: 43.196718867924524\n",
      "  model = cd_fast.sparse_enet_coordinate_descent(\n",
      "C:\\Users\\kaitl\\anaconda3\\Lib\\site-packages\\sklearn\\linear_model\\_coordinate_descent.py:589: ConvergenceWarning: Objective did not converge. You might want to increase the number of iterations. Duality gap: 338.114079466206, tolerance: 43.43145417789758\n",
      "  model = cd_fast.sparse_enet_coordinate_descent(\n",
      "C:\\Users\\kaitl\\anaconda3\\Lib\\site-packages\\sklearn\\linear_model\\_coordinate_descent.py:589: ConvergenceWarning: Objective did not converge. You might want to increase the number of iterations. Duality gap: 1243.3882790164207, tolerance: 44.3850167115903\n",
      "  model = cd_fast.sparse_enet_coordinate_descent(\n",
      "C:\\Users\\kaitl\\anaconda3\\Lib\\site-packages\\sklearn\\linear_model\\_coordinate_descent.py:589: ConvergenceWarning: Objective did not converge. You might want to increase the number of iterations. Duality gap: 196.2600243720517, tolerance: 42.158122035040435\n",
      "  model = cd_fast.sparse_enet_coordinate_descent(\n",
      "C:\\Users\\kaitl\\anaconda3\\Lib\\site-packages\\sklearn\\linear_model\\_coordinate_descent.py:589: ConvergenceWarning: Objective did not converge. You might want to increase the number of iterations. Duality gap: 322.2562677496171, tolerance: 43.43145417789758\n",
      "  model = cd_fast.sparse_enet_coordinate_descent(\n",
      "C:\\Users\\kaitl\\anaconda3\\Lib\\site-packages\\sklearn\\linear_model\\_coordinate_descent.py:589: ConvergenceWarning: Objective did not converge. You might want to increase the number of iterations. Duality gap: 1861.039513944619, tolerance: 44.3850167115903\n",
      "  model = cd_fast.sparse_enet_coordinate_descent(\n",
      "C:\\Users\\kaitl\\anaconda3\\Lib\\site-packages\\sklearn\\linear_model\\_coordinate_descent.py:589: ConvergenceWarning: Objective did not converge. You might want to increase the number of iterations. Duality gap: 5952.826728717133, tolerance: 43.196718867924524\n",
      "  model = cd_fast.sparse_enet_coordinate_descent(\n",
      "C:\\Users\\kaitl\\anaconda3\\Lib\\site-packages\\sklearn\\linear_model\\_coordinate_descent.py:589: ConvergenceWarning: Objective did not converge. You might want to increase the number of iterations. Duality gap: 559.7656810584886, tolerance: 44.02013820754718\n",
      "  model = cd_fast.sparse_enet_coordinate_descent(\n",
      "C:\\Users\\kaitl\\anaconda3\\Lib\\site-packages\\sklearn\\linear_model\\_coordinate_descent.py:589: ConvergenceWarning: Objective did not converge. You might want to increase the number of iterations. Duality gap: 68977.99563122555, tolerance: 42.158122035040435\n",
      "  model = cd_fast.sparse_enet_coordinate_descent(\n",
      "C:\\Users\\kaitl\\anaconda3\\Lib\\site-packages\\sklearn\\linear_model\\_coordinate_descent.py:589: ConvergenceWarning: Objective did not converge. You might want to increase the number of iterations. Duality gap: 1654.5561593172752, tolerance: 43.43145417789758\n",
      "  model = cd_fast.sparse_enet_coordinate_descent(\n",
      "C:\\Users\\kaitl\\anaconda3\\Lib\\site-packages\\sklearn\\linear_model\\_coordinate_descent.py:589: ConvergenceWarning: Objective did not converge. You might want to increase the number of iterations. Duality gap: 44227.616600247864, tolerance: 44.3850167115903\n",
      "  model = cd_fast.sparse_enet_coordinate_descent(\n",
      "C:\\Users\\kaitl\\anaconda3\\Lib\\site-packages\\sklearn\\linear_model\\_coordinate_descent.py:589: ConvergenceWarning: Objective did not converge. You might want to increase the number of iterations. Duality gap: 66723.82630281617, tolerance: 43.196718867924524\n",
      "  model = cd_fast.sparse_enet_coordinate_descent(\n",
      "C:\\Users\\kaitl\\anaconda3\\Lib\\site-packages\\sklearn\\linear_model\\_coordinate_descent.py:589: ConvergenceWarning: Objective did not converge. You might want to increase the number of iterations. Duality gap: 405.7109558507509, tolerance: 43.43145417789758\n",
      "  model = cd_fast.sparse_enet_coordinate_descent(\n",
      "C:\\Users\\kaitl\\anaconda3\\Lib\\site-packages\\sklearn\\linear_model\\_coordinate_descent.py:589: ConvergenceWarning: Objective did not converge. You might want to increase the number of iterations. Duality gap: 1497.548257305898, tolerance: 44.3850167115903\n",
      "  model = cd_fast.sparse_enet_coordinate_descent(\n",
      "C:\\Users\\kaitl\\anaconda3\\Lib\\site-packages\\sklearn\\linear_model\\_coordinate_descent.py:589: ConvergenceWarning: Objective did not converge. You might want to increase the number of iterations. Duality gap: 12545.542830348102, tolerance: 44.02013820754718\n",
      "  model = cd_fast.sparse_enet_coordinate_descent(\n",
      "C:\\Users\\kaitl\\anaconda3\\Lib\\site-packages\\sklearn\\linear_model\\_coordinate_descent.py:589: ConvergenceWarning: Objective did not converge. You might want to increase the number of iterations. Duality gap: 2906.012613512081, tolerance: 42.158122035040435\n",
      "  model = cd_fast.sparse_enet_coordinate_descent(\n",
      "C:\\Users\\kaitl\\anaconda3\\Lib\\site-packages\\sklearn\\linear_model\\_coordinate_descent.py:589: ConvergenceWarning: Objective did not converge. You might want to increase the number of iterations. Duality gap: 2711.173563124583, tolerance: 43.43145417789758\n",
      "  model = cd_fast.sparse_enet_coordinate_descent(\n",
      "C:\\Users\\kaitl\\anaconda3\\Lib\\site-packages\\sklearn\\linear_model\\_coordinate_descent.py:589: ConvergenceWarning: Objective did not converge. You might want to increase the number of iterations. Duality gap: 14909.611525408283, tolerance: 44.3850167115903\n",
      "  model = cd_fast.sparse_enet_coordinate_descent(\n",
      "C:\\Users\\kaitl\\anaconda3\\Lib\\site-packages\\sklearn\\linear_model\\_coordinate_descent.py:589: ConvergenceWarning: Objective did not converge. You might want to increase the number of iterations. Duality gap: 45482.023335605074, tolerance: 43.196718867924524\n",
      "  model = cd_fast.sparse_enet_coordinate_descent(\n",
      "C:\\Users\\kaitl\\anaconda3\\Lib\\site-packages\\sklearn\\linear_model\\_coordinate_descent.py:589: ConvergenceWarning: Objective did not converge. You might want to increase the number of iterations. Duality gap: 70457.22896536639, tolerance: 44.02013820754718\n",
      "  model = cd_fast.sparse_enet_coordinate_descent(\n",
      "C:\\Users\\kaitl\\anaconda3\\Lib\\site-packages\\sklearn\\linear_model\\_coordinate_descent.py:589: ConvergenceWarning: Objective did not converge. You might want to increase the number of iterations. Duality gap: 64541.58061069215, tolerance: 42.158122035040435\n",
      "  model = cd_fast.sparse_enet_coordinate_descent(\n",
      "C:\\Users\\kaitl\\anaconda3\\Lib\\site-packages\\sklearn\\linear_model\\_coordinate_descent.py:589: ConvergenceWarning: Objective did not converge. You might want to increase the number of iterations. Duality gap: 63769.99052013876, tolerance: 43.43145417789758\n",
      "  model = cd_fast.sparse_enet_coordinate_descent(\n",
      "C:\\Users\\kaitl\\anaconda3\\Lib\\site-packages\\sklearn\\linear_model\\_coordinate_descent.py:589: ConvergenceWarning: Objective did not converge. You might want to increase the number of iterations. Duality gap: 78926.2468109758, tolerance: 44.3850167115903\n",
      "  model = cd_fast.sparse_enet_coordinate_descent(\n",
      "C:\\Users\\kaitl\\anaconda3\\Lib\\site-packages\\sklearn\\linear_model\\_coordinate_descent.py:589: ConvergenceWarning: Objective did not converge. You might want to increase the number of iterations. Duality gap: 74611.31429700853, tolerance: 43.196718867924524\n",
      "  model = cd_fast.sparse_enet_coordinate_descent(\n",
      "C:\\Users\\kaitl\\anaconda3\\Lib\\site-packages\\sklearn\\linear_model\\_coordinate_descent.py:589: ConvergenceWarning: Objective did not converge. You might want to increase the number of iterations. Duality gap: 31331.716330772837, tolerance: 44.02013820754718\n",
      "  model = cd_fast.sparse_enet_coordinate_descent(\n",
      "C:\\Users\\kaitl\\anaconda3\\Lib\\site-packages\\sklearn\\linear_model\\_coordinate_descent.py:589: ConvergenceWarning: Objective did not converge. You might want to increase the number of iterations. Duality gap: 29951.20020772209, tolerance: 42.158122035040435\n",
      "  model = cd_fast.sparse_enet_coordinate_descent(\n",
      "C:\\Users\\kaitl\\anaconda3\\Lib\\site-packages\\sklearn\\linear_model\\_coordinate_descent.py:589: ConvergenceWarning: Objective did not converge. You might want to increase the number of iterations. Duality gap: 31300.32643742088, tolerance: 43.43145417789758\n",
      "  model = cd_fast.sparse_enet_coordinate_descent(\n",
      "C:\\Users\\kaitl\\anaconda3\\Lib\\site-packages\\sklearn\\linear_model\\_coordinate_descent.py:589: ConvergenceWarning: Objective did not converge. You might want to increase the number of iterations. Duality gap: 28774.419118611382, tolerance: 44.3850167115903\n",
      "  model = cd_fast.sparse_enet_coordinate_descent(\n",
      "C:\\Users\\kaitl\\anaconda3\\Lib\\site-packages\\sklearn\\linear_model\\_coordinate_descent.py:589: ConvergenceWarning: Objective did not converge. You might want to increase the number of iterations. Duality gap: 33017.21822217793, tolerance: 43.196718867924524\n",
      "  model = cd_fast.sparse_enet_coordinate_descent(\n",
      "C:\\Users\\kaitl\\anaconda3\\Lib\\site-packages\\sklearn\\linear_model\\_coordinate_descent.py:589: ConvergenceWarning: Objective did not converge. You might want to increase the number of iterations. Duality gap: 254.63848279273952, tolerance: 42.158122035040435\n",
      "  model = cd_fast.sparse_enet_coordinate_descent(\n",
      "C:\\Users\\kaitl\\anaconda3\\Lib\\site-packages\\sklearn\\linear_model\\_coordinate_descent.py:589: ConvergenceWarning: Objective did not converge. You might want to increase the number of iterations. Duality gap: 849.6284241866961, tolerance: 43.43145417789758\n",
      "  model = cd_fast.sparse_enet_coordinate_descent(\n",
      "C:\\Users\\kaitl\\anaconda3\\Lib\\site-packages\\sklearn\\linear_model\\_coordinate_descent.py:589: ConvergenceWarning: Objective did not converge. You might want to increase the number of iterations. Duality gap: 1533.572224849835, tolerance: 44.3850167115903\n",
      "  model = cd_fast.sparse_enet_coordinate_descent(\n",
      "C:\\Users\\kaitl\\anaconda3\\Lib\\site-packages\\sklearn\\linear_model\\_coordinate_descent.py:589: ConvergenceWarning: Objective did not converge. You might want to increase the number of iterations. Duality gap: 680.5689791144687, tolerance: 43.43145417789758\n",
      "  model = cd_fast.sparse_enet_coordinate_descent(\n",
      "C:\\Users\\kaitl\\anaconda3\\Lib\\site-packages\\sklearn\\linear_model\\_coordinate_descent.py:589: ConvergenceWarning: Objective did not converge. You might want to increase the number of iterations. Duality gap: 1193.0983290229924, tolerance: 44.3850167115903\n",
      "  model = cd_fast.sparse_enet_coordinate_descent(\n",
      "C:\\Users\\kaitl\\anaconda3\\Lib\\site-packages\\sklearn\\linear_model\\_coordinate_descent.py:589: ConvergenceWarning: Objective did not converge. You might want to increase the number of iterations. Duality gap: 289.6664699057292, tolerance: 44.3850167115903\n",
      "  model = cd_fast.sparse_enet_coordinate_descent(\n",
      "C:\\Users\\kaitl\\anaconda3\\Lib\\site-packages\\sklearn\\linear_model\\_coordinate_descent.py:589: ConvergenceWarning: Objective did not converge. You might want to increase the number of iterations. Duality gap: 327.3861137234344, tolerance: 43.196718867924524\n",
      "  model = cd_fast.sparse_enet_coordinate_descent(\n",
      "C:\\Users\\kaitl\\anaconda3\\Lib\\site-packages\\sklearn\\linear_model\\_coordinate_descent.py:589: ConvergenceWarning: Objective did not converge. You might want to increase the number of iterations. Duality gap: 33856.47223224555, tolerance: 44.02013820754718\n",
      "  model = cd_fast.sparse_enet_coordinate_descent(\n",
      "C:\\Users\\kaitl\\anaconda3\\Lib\\site-packages\\sklearn\\linear_model\\_coordinate_descent.py:589: ConvergenceWarning: Objective did not converge. You might want to increase the number of iterations. Duality gap: 26173.13172863794, tolerance: 42.158122035040435\n",
      "  model = cd_fast.sparse_enet_coordinate_descent(\n",
      "C:\\Users\\kaitl\\anaconda3\\Lib\\site-packages\\sklearn\\linear_model\\_coordinate_descent.py:589: ConvergenceWarning: Objective did not converge. You might want to increase the number of iterations. Duality gap: 30768.35640056611, tolerance: 43.43145417789758\n",
      "  model = cd_fast.sparse_enet_coordinate_descent(\n",
      "C:\\Users\\kaitl\\anaconda3\\Lib\\site-packages\\sklearn\\linear_model\\_coordinate_descent.py:589: ConvergenceWarning: Objective did not converge. You might want to increase the number of iterations. Duality gap: 37822.284989652486, tolerance: 44.3850167115903\n",
      "  model = cd_fast.sparse_enet_coordinate_descent(\n",
      "C:\\Users\\kaitl\\anaconda3\\Lib\\site-packages\\sklearn\\linear_model\\_coordinate_descent.py:589: ConvergenceWarning: Objective did not converge. You might want to increase the number of iterations. Duality gap: 35640.85093599125, tolerance: 43.196718867924524\n",
      "  model = cd_fast.sparse_enet_coordinate_descent(\n",
      "C:\\Users\\kaitl\\anaconda3\\Lib\\site-packages\\sklearn\\linear_model\\_coordinate_descent.py:589: ConvergenceWarning: Objective did not converge. You might want to increase the number of iterations. Duality gap: 334.5298195289506, tolerance: 44.02013820754718\n",
      "  model = cd_fast.sparse_enet_coordinate_descent(\n",
      "C:\\Users\\kaitl\\anaconda3\\Lib\\site-packages\\sklearn\\linear_model\\_coordinate_descent.py:589: ConvergenceWarning: Objective did not converge. You might want to increase the number of iterations. Duality gap: 62390.56575993106, tolerance: 42.158122035040435\n",
      "  model = cd_fast.sparse_enet_coordinate_descent(\n",
      "C:\\Users\\kaitl\\anaconda3\\Lib\\site-packages\\sklearn\\linear_model\\_coordinate_descent.py:589: ConvergenceWarning: Objective did not converge. You might want to increase the number of iterations. Duality gap: 2550.855155908401, tolerance: 43.43145417789758\n",
      "  model = cd_fast.sparse_enet_coordinate_descent(\n",
      "C:\\Users\\kaitl\\anaconda3\\Lib\\site-packages\\sklearn\\linear_model\\_coordinate_descent.py:589: ConvergenceWarning: Objective did not converge. You might want to increase the number of iterations. Duality gap: 57722.29327457273, tolerance: 44.3850167115903\n",
      "  model = cd_fast.sparse_enet_coordinate_descent(\n",
      "C:\\Users\\kaitl\\anaconda3\\Lib\\site-packages\\sklearn\\linear_model\\_coordinate_descent.py:589: ConvergenceWarning: Objective did not converge. You might want to increase the number of iterations. Duality gap: 51329.88279312258, tolerance: 43.196718867924524\n",
      "  model = cd_fast.sparse_enet_coordinate_descent(\n",
      "C:\\Users\\kaitl\\anaconda3\\Lib\\site-packages\\sklearn\\linear_model\\_coordinate_descent.py:589: ConvergenceWarning: Objective did not converge. You might want to increase the number of iterations. Duality gap: 183.65687628320302, tolerance: 42.158122035040435\n",
      "  model = cd_fast.sparse_enet_coordinate_descent(\n",
      "C:\\Users\\kaitl\\anaconda3\\Lib\\site-packages\\sklearn\\linear_model\\_coordinate_descent.py:589: ConvergenceWarning: Objective did not converge. You might want to increase the number of iterations. Duality gap: 340.6891583875986, tolerance: 43.43145417789758\n",
      "  model = cd_fast.sparse_enet_coordinate_descent(\n",
      "C:\\Users\\kaitl\\anaconda3\\Lib\\site-packages\\sklearn\\linear_model\\_coordinate_descent.py:589: ConvergenceWarning: Objective did not converge. You might want to increase the number of iterations. Duality gap: 1857.6430798513466, tolerance: 44.3850167115903\n",
      "  model = cd_fast.sparse_enet_coordinate_descent(\n",
      "C:\\Users\\kaitl\\anaconda3\\Lib\\site-packages\\sklearn\\linear_model\\_coordinate_descent.py:589: ConvergenceWarning: Objective did not converge. You might want to increase the number of iterations. Duality gap: 7107.641665665753, tolerance: 43.196718867924524\n",
      "  model = cd_fast.sparse_enet_coordinate_descent(\n",
      "C:\\Users\\kaitl\\anaconda3\\Lib\\site-packages\\sklearn\\linear_model\\_coordinate_descent.py:589: ConvergenceWarning: Objective did not converge. You might want to increase the number of iterations. Duality gap: 66670.87716731655, tolerance: 44.02013820754718\n",
      "  model = cd_fast.sparse_enet_coordinate_descent(\n",
      "C:\\Users\\kaitl\\anaconda3\\Lib\\site-packages\\sklearn\\linear_model\\_coordinate_descent.py:589: ConvergenceWarning: Objective did not converge. You might want to increase the number of iterations. Duality gap: 53428.18773865596, tolerance: 42.158122035040435\n",
      "  model = cd_fast.sparse_enet_coordinate_descent(\n",
      "C:\\Users\\kaitl\\anaconda3\\Lib\\site-packages\\sklearn\\linear_model\\_coordinate_descent.py:589: ConvergenceWarning: Objective did not converge. You might want to increase the number of iterations. Duality gap: 17856.923540777978, tolerance: 43.43145417789758\n",
      "  model = cd_fast.sparse_enet_coordinate_descent(\n",
      "C:\\Users\\kaitl\\anaconda3\\Lib\\site-packages\\sklearn\\linear_model\\_coordinate_descent.py:589: ConvergenceWarning: Objective did not converge. You might want to increase the number of iterations. Duality gap: 87555.06586542958, tolerance: 44.3850167115903\n",
      "  model = cd_fast.sparse_enet_coordinate_descent(\n",
      "C:\\Users\\kaitl\\anaconda3\\Lib\\site-packages\\sklearn\\linear_model\\_coordinate_descent.py:589: ConvergenceWarning: Objective did not converge. You might want to increase the number of iterations. Duality gap: 86821.2609672814, tolerance: 43.196718867924524\n",
      "  model = cd_fast.sparse_enet_coordinate_descent(\n",
      "C:\\Users\\kaitl\\anaconda3\\Lib\\site-packages\\sklearn\\linear_model\\_coordinate_descent.py:589: ConvergenceWarning: Objective did not converge. You might want to increase the number of iterations. Duality gap: 65412.65293130268, tolerance: 44.02013820754718\n",
      "  model = cd_fast.sparse_enet_coordinate_descent(\n",
      "C:\\Users\\kaitl\\anaconda3\\Lib\\site-packages\\sklearn\\linear_model\\_coordinate_descent.py:589: ConvergenceWarning: Objective did not converge. You might want to increase the number of iterations. Duality gap: 65386.64678174573, tolerance: 42.158122035040435\n",
      "  model = cd_fast.sparse_enet_coordinate_descent(\n",
      "C:\\Users\\kaitl\\anaconda3\\Lib\\site-packages\\sklearn\\linear_model\\_coordinate_descent.py:589: ConvergenceWarning: Objective did not converge. You might want to increase the number of iterations. Duality gap: 19365.920509385804, tolerance: 43.43145417789758\n",
      "  model = cd_fast.sparse_enet_coordinate_descent(\n",
      "C:\\Users\\kaitl\\anaconda3\\Lib\\site-packages\\sklearn\\linear_model\\_coordinate_descent.py:589: ConvergenceWarning: Objective did not converge. You might want to increase the number of iterations. Duality gap: 87767.59707978388, tolerance: 44.3850167115903\n",
      "  model = cd_fast.sparse_enet_coordinate_descent(\n",
      "C:\\Users\\kaitl\\anaconda3\\Lib\\site-packages\\sklearn\\linear_model\\_coordinate_descent.py:589: ConvergenceWarning: Objective did not converge. You might want to increase the number of iterations. Duality gap: 87596.87972450496, tolerance: 43.196718867924524\n",
      "  model = cd_fast.sparse_enet_coordinate_descent(\n",
      "C:\\Users\\kaitl\\anaconda3\\Lib\\site-packages\\sklearn\\linear_model\\_coordinate_descent.py:589: ConvergenceWarning: Objective did not converge. You might want to increase the number of iterations. Duality gap: 444.3198637996684, tolerance: 43.43145417789758\n",
      "  model = cd_fast.sparse_enet_coordinate_descent(\n",
      "C:\\Users\\kaitl\\anaconda3\\Lib\\site-packages\\sklearn\\linear_model\\_coordinate_descent.py:589: ConvergenceWarning: Objective did not converge. You might want to increase the number of iterations. Duality gap: 1547.6280671713757, tolerance: 44.3850167115903\n",
      "  model = cd_fast.sparse_enet_coordinate_descent(\n",
      "C:\\Users\\kaitl\\anaconda3\\Lib\\site-packages\\sklearn\\linear_model\\_coordinate_descent.py:589: ConvergenceWarning: Objective did not converge. You might want to increase the number of iterations. Duality gap: 12918.253495446392, tolerance: 44.02013820754718\n",
      "  model = cd_fast.sparse_enet_coordinate_descent(\n",
      "C:\\Users\\kaitl\\anaconda3\\Lib\\site-packages\\sklearn\\linear_model\\_coordinate_descent.py:589: ConvergenceWarning: Objective did not converge. You might want to increase the number of iterations. Duality gap: 24240.446793835552, tolerance: 42.158122035040435\n",
      "  model = cd_fast.sparse_enet_coordinate_descent(\n",
      "C:\\Users\\kaitl\\anaconda3\\Lib\\site-packages\\sklearn\\linear_model\\_coordinate_descent.py:589: ConvergenceWarning: Objective did not converge. You might want to increase the number of iterations. Duality gap: 4183.598799647676, tolerance: 43.43145417789758\n",
      "  model = cd_fast.sparse_enet_coordinate_descent(\n",
      "C:\\Users\\kaitl\\anaconda3\\Lib\\site-packages\\sklearn\\linear_model\\_coordinate_descent.py:589: ConvergenceWarning: Objective did not converge. You might want to increase the number of iterations. Duality gap: 53024.02794951325, tolerance: 44.3850167115903\n",
      "  model = cd_fast.sparse_enet_coordinate_descent(\n",
      "C:\\Users\\kaitl\\anaconda3\\Lib\\site-packages\\sklearn\\linear_model\\_coordinate_descent.py:589: ConvergenceWarning: Objective did not converge. You might want to increase the number of iterations. Duality gap: 73468.17978340406, tolerance: 43.196718867924524\n",
      "  model = cd_fast.sparse_enet_coordinate_descent(\n",
      "C:\\Users\\kaitl\\anaconda3\\Lib\\site-packages\\sklearn\\linear_model\\_coordinate_descent.py:589: ConvergenceWarning: Objective did not converge. You might want to increase the number of iterations. Duality gap: 627.9581017161545, tolerance: 42.158122035040435\n",
      "  model = cd_fast.sparse_enet_coordinate_descent(\n",
      "C:\\Users\\kaitl\\anaconda3\\Lib\\site-packages\\sklearn\\linear_model\\_coordinate_descent.py:589: ConvergenceWarning: Objective did not converge. You might want to increase the number of iterations. Duality gap: 594.8410719093226, tolerance: 43.43145417789758\n",
      "  model = cd_fast.sparse_enet_coordinate_descent(\n",
      "C:\\Users\\kaitl\\anaconda3\\Lib\\site-packages\\sklearn\\linear_model\\_coordinate_descent.py:589: ConvergenceWarning: Objective did not converge. You might want to increase the number of iterations. Duality gap: 2372.539578108408, tolerance: 44.3850167115903\n",
      "  model = cd_fast.sparse_enet_coordinate_descent(\n",
      "C:\\Users\\kaitl\\anaconda3\\Lib\\site-packages\\sklearn\\linear_model\\_coordinate_descent.py:589: ConvergenceWarning: Objective did not converge. You might want to increase the number of iterations. Duality gap: 4690.794186971878, tolerance: 43.196718867924524\n",
      "  model = cd_fast.sparse_enet_coordinate_descent(\n",
      "C:\\Users\\kaitl\\anaconda3\\Lib\\site-packages\\sklearn\\linear_model\\_coordinate_descent.py:589: ConvergenceWarning: Objective did not converge. You might want to increase the number of iterations. Duality gap: 57788.7359040596, tolerance: 44.02013820754718\n",
      "  model = cd_fast.sparse_enet_coordinate_descent(\n",
      "C:\\Users\\kaitl\\anaconda3\\Lib\\site-packages\\sklearn\\linear_model\\_coordinate_descent.py:589: ConvergenceWarning: Objective did not converge. You might want to increase the number of iterations. Duality gap: 78635.9105358469, tolerance: 42.158122035040435\n",
      "  model = cd_fast.sparse_enet_coordinate_descent(\n",
      "C:\\Users\\kaitl\\anaconda3\\Lib\\site-packages\\sklearn\\linear_model\\_coordinate_descent.py:589: ConvergenceWarning: Objective did not converge. You might want to increase the number of iterations. Duality gap: 26365.412156036822, tolerance: 43.43145417789758\n",
      "  model = cd_fast.sparse_enet_coordinate_descent(\n",
      "C:\\Users\\kaitl\\anaconda3\\Lib\\site-packages\\sklearn\\linear_model\\_coordinate_descent.py:589: ConvergenceWarning: Objective did not converge. You might want to increase the number of iterations. Duality gap: 87469.12591903517, tolerance: 44.3850167115903\n",
      "  model = cd_fast.sparse_enet_coordinate_descent(\n",
      "C:\\Users\\kaitl\\anaconda3\\Lib\\site-packages\\sklearn\\linear_model\\_coordinate_descent.py:589: ConvergenceWarning: Objective did not converge. You might want to increase the number of iterations. Duality gap: 91530.0497569063, tolerance: 43.196718867924524\n",
      "  model = cd_fast.sparse_enet_coordinate_descent(\n",
      "C:\\Users\\kaitl\\anaconda3\\Lib\\site-packages\\sklearn\\linear_model\\_coordinate_descent.py:589: ConvergenceWarning: Objective did not converge. You might want to increase the number of iterations. Duality gap: 26050.576247600846, tolerance: 44.02013820754718\n",
      "  model = cd_fast.sparse_enet_coordinate_descent(\n",
      "C:\\Users\\kaitl\\anaconda3\\Lib\\site-packages\\sklearn\\linear_model\\_coordinate_descent.py:589: ConvergenceWarning: Objective did not converge. You might want to increase the number of iterations. Duality gap: 25007.64672520956, tolerance: 42.158122035040435\n",
      "  model = cd_fast.sparse_enet_coordinate_descent(\n",
      "C:\\Users\\kaitl\\anaconda3\\Lib\\site-packages\\sklearn\\linear_model\\_coordinate_descent.py:589: ConvergenceWarning: Objective did not converge. You might want to increase the number of iterations. Duality gap: 23580.755153192833, tolerance: 43.43145417789758\n",
      "  model = cd_fast.sparse_enet_coordinate_descent(\n",
      "C:\\Users\\kaitl\\anaconda3\\Lib\\site-packages\\sklearn\\linear_model\\_coordinate_descent.py:589: ConvergenceWarning: Objective did not converge. You might want to increase the number of iterations. Duality gap: 28532.441718814945, tolerance: 44.3850167115903\n",
      "  model = cd_fast.sparse_enet_coordinate_descent(\n",
      "C:\\Users\\kaitl\\anaconda3\\Lib\\site-packages\\sklearn\\linear_model\\_coordinate_descent.py:589: ConvergenceWarning: Objective did not converge. You might want to increase the number of iterations. Duality gap: 21659.625251317568, tolerance: 43.196718867924524\n",
      "  model = cd_fast.sparse_enet_coordinate_descent(\n",
      "C:\\Users\\kaitl\\anaconda3\\Lib\\site-packages\\sklearn\\linear_model\\_coordinate_descent.py:589: ConvergenceWarning: Objective did not converge. You might want to increase the number of iterations. Duality gap: 398.5418514596822, tolerance: 44.02013820754718\n",
      "  model = cd_fast.sparse_enet_coordinate_descent(\n",
      "C:\\Users\\kaitl\\anaconda3\\Lib\\site-packages\\sklearn\\linear_model\\_coordinate_descent.py:589: ConvergenceWarning: Objective did not converge. You might want to increase the number of iterations. Duality gap: 71556.60852962533, tolerance: 42.158122035040435\n",
      "  model = cd_fast.sparse_enet_coordinate_descent(\n",
      "C:\\Users\\kaitl\\anaconda3\\Lib\\site-packages\\sklearn\\linear_model\\_coordinate_descent.py:589: ConvergenceWarning: Objective did not converge. You might want to increase the number of iterations. Duality gap: 616.8454531057214, tolerance: 43.43145417789758\n",
      "  model = cd_fast.sparse_enet_coordinate_descent(\n",
      "C:\\Users\\kaitl\\anaconda3\\Lib\\site-packages\\sklearn\\linear_model\\_coordinate_descent.py:589: ConvergenceWarning: Objective did not converge. You might want to increase the number of iterations. Duality gap: 28574.77592470363, tolerance: 44.3850167115903\n",
      "  model = cd_fast.sparse_enet_coordinate_descent(\n",
      "C:\\Users\\kaitl\\anaconda3\\Lib\\site-packages\\sklearn\\linear_model\\_coordinate_descent.py:589: ConvergenceWarning: Objective did not converge. You might want to increase the number of iterations. Duality gap: 56462.35722293465, tolerance: 43.196718867924524\n",
      "  model = cd_fast.sparse_enet_coordinate_descent(\n"
     ]
    },
    {
     "name": "stdout",
     "output_type": "stream",
     "text": [
      "Best Parameters: {'poly__degree': 2, 'regressor__alpha': 0.01919705161662965, 'regressor__l1_ratio': 0.1}\n",
      "Best R^2 Score: 0.5850595480781158\n",
      "Test Set R^2 Score: 0.5873801164767164\n",
      "CPU times: total: 10h 35min 8s\n",
      "Wall time: 8h 18min 50s\n"
     ]
    }
   ],
   "source": [
    "%%time\n",
    "\n",
    "#Re-run with regularization\n",
    "\n",
    "# Load your data\n",
    "df2 = pd.read_csv('data/df2_with_weather.csv')\n",
    "\n",
    "df2.drop(columns=['TRAILERS'], inplace=True)\n",
    "df2.dropna(inplace=True)\n",
    "\n",
    "# Assume df1 is meant to be df2 in your provided code\n",
    "X2 = df2.drop(columns=['DATE1', 'TOWN', 'WATERBODY', 'INSPECTOR_ID', 'TOTALINSP', 'DATE', 'SHIFT_START', 'SHIFT_END'])\n",
    "y2 = df2['TOTALINSP']\n",
    "\n",
    "# Specify categorical columns\n",
    "categorical_columns = ['SITE_NAME', 'DAY_OF_WEEK', 'month', 'year', 'PAY_VOL', 'SHIFT_START_CATEGORY', 'SHIFT_END_CATEGORY']\n",
    "\n",
    "# Specify numerical columns\n",
    "numerical_columns = [col for col in X2.columns if col not in categorical_columns]\n",
    "\n",
    "# Split the data into training and testing sets\n",
    "X2_train, X2_test, y2_train, y2_test = train_test_split(X2, y2, random_state=42, test_size=.2)\n",
    "\n",
    "# Create a ColumnTransformer\n",
    "preprocessor = ColumnTransformer(\n",
    "    transformers=[\n",
    "        ('numerical', StandardScaler(), numerical_columns),\n",
    "        ('categorical', OneHotEncoder(handle_unknown='ignore', drop='first'), categorical_columns)\n",
    "    ],\n",
    "    remainder='passthrough'  # Keep columns not specified in transformers as they are\n",
    ")\n",
    "\n",
    "# Create a pipeline\n",
    "pipeline = Pipeline([\n",
    "    ('preprocessor', preprocessor),\n",
    "    ('poly', PolynomialFeatures()),\n",
    "    ('regressor', ElasticNet(max_iter=1000))\n",
    "])\n",
    "\n",
    "# Define hyperparameters for RandomizedSearchCV\n",
    "param_dist = {\n",
    "    'poly__degree': [1, 2, 3, 4],\n",
    "    'regressor__alpha': uniform(loc=0.01, scale=1.0),  # Regularization strength\n",
    "    'regressor__l1_ratio': [0.1, 0.5, 0.7, .8, 0.9]\n",
    "}\n",
    "\n",
    "# Create and fit the RandomizedSearchCV\n",
    "random_search = RandomizedSearchCV(\n",
    "    pipeline,\n",
    "    param_distributions=param_dist,\n",
    "    n_iter=100,\n",
    "    scoring='r2',\n",
    "    cv=5,\n",
    "    random_state=42\n",
    ")\n",
    "\n",
    "random_search.fit(X2_train, y2_train)\n",
    "\n",
    "# Print the best parameters and the corresponding R^2 score\n",
    "print(\"Best Parameters:\", random_search.best_params_)\n",
    "print(\"Best R^2 Score:\", random_search.best_score_)\n",
    "\n",
    "# Evaluate the model on the test set\n",
    "test_score = random_search.score(X2_test, y2_test)\n",
    "print(\"Test Set R^2 Score:\", test_score)"
   ]
  },
  {
   "cell_type": "markdown",
   "id": "e25315d6-f458-43e8-b7b1-379d10097f0c",
   "metadata": {},
   "source": [
    "The above cell took 8h18 min to run without parallelization. \n",
    "Best Parameters: {'poly__degree': 2, 'regressor__alpha': 0.01919705161662965, 'regressor__l1_ratio': 0.1}\n",
    "Best R^2 Score: 0.5850595480781158\n",
    "Test Set R^2 Score: 0.5873801164767164\n",
    "CPU times: total: 10h 35min 8s\n",
    "Wall time: 8h 18min 50s\n",
    "\n",
    "Adding polynomial features and regularization is a significant improvement over the basic linear model."
   ]
  },
  {
   "cell_type": "code",
   "execution_count": 139,
   "id": "065eec10-3955-4b87-98c8-1e6576795ede",
   "metadata": {
    "tags": []
   },
   "outputs": [
    {
     "ename": "AttributeError",
     "evalue": "'RandomizedSearchCV' object has no attribute 'best_params_'",
     "output_type": "error",
     "traceback": [
      "\u001b[1;31m---------------------------------------------------------------------------\u001b[0m",
      "\u001b[1;31mAttributeError\u001b[0m                            Traceback (most recent call last)",
      "Cell \u001b[1;32mIn[139], line 2\u001b[0m\n\u001b[0;32m      1\u001b[0m \u001b[38;5;66;03m# Print the best parameters and the corresponding R^2 score\u001b[39;00m\n\u001b[1;32m----> 2\u001b[0m \u001b[38;5;28mprint\u001b[39m(\u001b[38;5;124m\"\u001b[39m\u001b[38;5;124mBest Parameters:\u001b[39m\u001b[38;5;124m\"\u001b[39m, random_search\u001b[38;5;241m.\u001b[39mbest_params_)\n\u001b[0;32m      3\u001b[0m \u001b[38;5;28mprint\u001b[39m(\u001b[38;5;124m\"\u001b[39m\u001b[38;5;124mBest R^2 Score:\u001b[39m\u001b[38;5;124m\"\u001b[39m, random_search\u001b[38;5;241m.\u001b[39mbest_score_)\n\u001b[0;32m      5\u001b[0m \u001b[38;5;66;03m# Evaluate the model on the test set\u001b[39;00m\n",
      "\u001b[1;31mAttributeError\u001b[0m: 'RandomizedSearchCV' object has no attribute 'best_params_'"
     ]
    }
   ],
   "source": [
    "# Print the best parameters and the corresponding R^2 score\n",
    "print(\"Best Parameters:\", random_search.best_params_)\n",
    "print(\"Best R^2 Score:\", random_search.best_score_)\n",
    "\n",
    "# Evaluate the model on the test set\n",
    "test_score = random_search.score(X2_test, y2_test)\n",
    "print(\"Test Set R^2 Score:\", test_score)"
   ]
  },
  {
   "cell_type": "code",
   "execution_count": 140,
   "id": "aeb24f87-b533-4c2c-b7f5-cb232d430e7f",
   "metadata": {
    "tags": []
   },
   "outputs": [
    {
     "name": "stdout",
     "output_type": "stream",
     "text": [
      "Best Parameters: {'poly__degree': 2, 'regressor__alpha': 0.05651157902710026, 'regressor__l1_ratio': 0.7}\n",
      "Best R^2 Score: 0.5551055926149194\n",
      "Test Set R^2 Score: 0.5526398756335907\n",
      "CPU times: total: 5.56 s\n",
      "Wall time: 47min 25s\n"
     ]
    },
    {
     "name": "stderr",
     "output_type": "stream",
     "text": [
      "C:\\Users\\kaitl\\anaconda3\\Lib\\site-packages\\sklearn\\linear_model\\_coordinate_descent.py:589: ConvergenceWarning: Objective did not converge. You might want to increase the number of iterations. Duality gap: 107495.8671887767, tolerance: 54.29999223719676\n",
      "  model = cd_fast.sparse_enet_coordinate_descent(\n"
     ]
    }
   ],
   "source": [
    "%%time\n",
    "\n",
    "#Re-run with regularization\n",
    "\n",
    "# Load your data\n",
    "df2 = pd.read_csv('data/df2_with_weather.csv')\n",
    "\n",
    "df2.drop(columns=['TRAILERS'], inplace=True)\n",
    "df2.dropna(inplace=True)\n",
    "\n",
    "# Assume df1 is meant to be df2 in your provided code\n",
    "X2 = df2.drop(columns=['DATE1', 'TOWN', 'WATERBODY', 'INSPECTOR_ID', 'TOTALINSP', 'DATE', 'SHIFT_START', 'SHIFT_END'])\n",
    "y2 = df2['TOTALINSP']\n",
    "\n",
    "# Specify categorical columns\n",
    "categorical_columns = ['SITE_NAME', 'DAY_OF_WEEK', 'month', 'year', 'PAY_VOL', 'SHIFT_START_CATEGORY', 'SHIFT_END_CATEGORY']\n",
    "\n",
    "# Specify numerical columns\n",
    "numerical_columns = [col for col in X2.columns if col not in categorical_columns]\n",
    "\n",
    "# Split the data into training and testing sets\n",
    "X2_train, X2_test, y2_train, y2_test = train_test_split(X2, y2, random_state=42, test_size=.2)\n",
    "\n",
    "# Create a ColumnTransformer\n",
    "preprocessor = ColumnTransformer(\n",
    "    transformers=[\n",
    "        ('categorical', OneHotEncoder(handle_unknown='ignore', drop='first'), categorical_columns)\n",
    "    ],\n",
    "    remainder='passthrough'  # Keep columns not specified in transformers as they are\n",
    ")\n",
    "\n",
    "# Create a pipeline\n",
    "pipeline = Pipeline([\n",
    "    ('preprocessor', preprocessor),\n",
    "    ('poly', PolynomialFeatures()),\n",
    "    ('regressor', ElasticNet(max_iter=3000, selection='random'))\n",
    "])\n",
    "\n",
    "# Define hyperparameters for RandomizedSearchCV\n",
    "param_dist = {\n",
    "    'poly__degree': [1, 2, 3, 4],\n",
    "    'regressor__alpha': uniform(loc=0.0001, scale=1.0),\n",
    "    'regressor__l1_ratio': [.001, 0.1, 0.5, 0.7]\n",
    "}\n",
    "\n",
    "# Create and fit the RandomizedSearchCV\n",
    "random_search = RandomizedSearchCV(\n",
    "    pipeline,\n",
    "    param_distributions=param_dist,\n",
    "    n_iter=10,\n",
    "    scoring='r2',\n",
    "    cv=5,\n",
    "    random_state=42,\n",
    "    n_jobs=-1\n",
    ")\n",
    "\n",
    "random_search.fit(X2_train, y2_train)\n",
    "\n",
    "# Print the best parameters and the corresponding R^2 score\n",
    "print(\"Best Parameters:\", random_search.best_params_)\n",
    "print(\"Best R^2 Score:\", random_search.best_score_)\n",
    "\n",
    "# Evaluate the model on the test set\n",
    "test_score = random_search.score(X2_test, y2_test)\n",
    "print(\"Test Set R^2 Score:\", test_score)"
   ]
  },
  {
   "cell_type": "code",
   "execution_count": 33,
   "id": "098aa37f-93ff-4cd6-aaa0-96c950308da2",
   "metadata": {
    "tags": []
   },
   "outputs": [
    {
     "name": "stdout",
     "output_type": "stream",
     "text": [
      "Fitting 5 folds for each of 500 candidates, totalling 2500 fits\n",
      "Best Parameters: {'n_estimators': 229, 'min_samples_split': 9, 'min_samples_leaf': 1, 'max_features': 'sqrt', 'max_depth': 80, 'bootstrap': True}\n",
      "Best R^2 Score: 0.42942538216464277\n",
      "CPU times: total: 4.58 s\n",
      "Wall time: 17min 53s\n"
     ]
    }
   ],
   "source": [
    "%%time\n",
    "\n",
    "param_dist = {\n",
    "    'n_estimators': np.arange(10, 400),\n",
    "    'max_features': ['sqrt', 'log2', None],  # Use 'sqrt' instead of 'auto'\n",
    "    'max_depth': [None, 3, 5, 7, 9, 10, 20, 30, 40, 50, 60, 70, 80, 90, 100, 110],\n",
    "    'min_samples_split': np.arange(2, 20),\n",
    "    'min_samples_leaf': np.arange(1, 20),\n",
    "    'bootstrap': [True, False]\n",
    "}\n",
    "\n",
    "# Create a Random Forest Regressor\n",
    "rf = RandomForestRegressor()\n",
    "\n",
    "# Create RandomizedSearchCV object\n",
    "random_search = RandomizedSearchCV(\n",
    "    rf, \n",
    "    param_distributions=param_dist, \n",
    "    n_iter=500,  # Number of parameter settings that are sampled\n",
    "    cv=5,  # Number of folds in a (Stratified)KFold\n",
    "    scoring='r2',  # Scoring metric\n",
    "    verbose=1, \n",
    "    n_jobs=3  # Use all available CPU cores\n",
    ")\n",
    "\n",
    "# Fit the RandomizedSearchCV object to the data\n",
    "random_search.fit(X2_train_transformed, y2_train)\n",
    "\n",
    "# Print the best parameters and R^2 score\n",
    "print(\"Best Parameters:\", random_search.best_params_)\n",
    "print(\"Best R^2 Score:\", random_search.best_score_)\n",
    "\n",
    "# You can access the best model using random_search.best_estimator_\n",
    "best_rf_model = random_search.best_estimator_"
   ]
  },
  {
   "cell_type": "code",
   "execution_count": 40,
   "id": "1a4019aa-8322-4c03-9168-58248ed9e9f1",
   "metadata": {
    "tags": []
   },
   "outputs": [],
   "source": [
    "grad = GradientBoostingRegressor()\n",
    "\n",
    "pgrid = {\n",
    "    'estimator__learning_rate': [0.1, 1, 10],\n",
    "    'estimator__n_estimators': [10, 100],\n",
    "    'estimator__max_depth': [None, 1, 2, 3]\n",
    "}\n",
    "\n",
    "kf1 = KFold(n_splits=5, shuffle=True, random_state=42)\n",
    "rs1 = RandomizedSearchCV(grad, pgrid, n_iter=500, cv=kf1, n_jobs=2)"
   ]
  },
  {
   "cell_type": "code",
   "execution_count": 37,
   "id": "6dfd6d30-28af-479c-8427-8c7b476bdc55",
   "metadata": {
    "tags": []
   },
   "outputs": [],
   "source": [
    "params = {\n",
    "    'max_features': np.arange(5, X2.shape[1] + 1),\n",
    "    'max_depth': np.append(np.arange(1, 50), None),\n",
    "    'min_samples_leaf': [2, 3],   \n",
    "    'n_estimators': [50, 100, 200, 400, 600, 800, 1000, 1200, 1400, 1600, 1800, 2000]\n",
    "}\n",
    "\n",
    "rf_gb = GradientBoostingRegressor(random_state = 42)\n",
    "\n",
    "rf_gb = RandomizedSearchCV(rf_gb, params, n_iter=100, cv = 5, n_jobs = 2)"
   ]
  },
  {
   "cell_type": "code",
   "execution_count": 38,
   "id": "f60a26cc-8d45-48a9-8141-c9639d2ff254",
   "metadata": {
    "tags": []
   },
   "outputs": [
    {
     "name": "stdout",
     "output_type": "stream",
     "text": [
      "0.5930505722039463\n",
      "0.5117579050003868\n",
      "CPU times: total: 1.06 s\n",
      "Wall time: 34min 13s\n"
     ]
    }
   ],
   "source": [
    "%%time\n",
    "rf_gb.fit(X2_train_transformed, y2_train)\n",
    "print(rf_gb.score(X2_train_transformed, y2_train))\n",
    "print(rf_gb.score(X2_test_transformed, y2_test))"
   ]
  },
  {
   "cell_type": "code",
   "execution_count": 42,
   "id": "c2c1131d-40fc-4880-b2d8-d9f6bcab3001",
   "metadata": {},
   "outputs": [
    {
     "name": "stderr",
     "output_type": "stream",
     "text": [
      "C:\\Users\\kaitl\\anaconda3\\Lib\\site-packages\\sklearn\\model_selection\\_search.py:307: UserWarning: The total space of parameters 24 is smaller than n_iter=500. Running 24 iterations. For exhaustive searches, use GridSearchCV.\n",
      "  warnings.warn(\n"
     ]
    },
    {
     "ename": "ValueError",
     "evalue": "Invalid parameter 'estimator' for estimator GradientBoostingRegressor(). Valid parameters are: ['alpha', 'ccp_alpha', 'criterion', 'init', 'learning_rate', 'loss', 'max_depth', 'max_features', 'max_leaf_nodes', 'min_impurity_decrease', 'min_samples_leaf', 'min_samples_split', 'min_weight_fraction_leaf', 'n_estimators', 'n_iter_no_change', 'random_state', 'subsample', 'tol', 'validation_fraction', 'verbose', 'warm_start'].",
     "output_type": "error",
     "traceback": [
      "\u001b[1;31m---------------------------------------------------------------------------\u001b[0m",
      "\u001b[1;31m_RemoteTraceback\u001b[0m                          Traceback (most recent call last)",
      "\u001b[1;31m_RemoteTraceback\u001b[0m: \n\"\"\"\nTraceback (most recent call last):\n  File \"C:\\Users\\kaitl\\anaconda3\\Lib\\site-packages\\joblib\\externals\\loky\\process_executor.py\", line 428, in _process_worker\n    r = call_item()\n        ^^^^^^^^^^^\n  File \"C:\\Users\\kaitl\\anaconda3\\Lib\\site-packages\\joblib\\externals\\loky\\process_executor.py\", line 275, in __call__\n    return self.fn(*self.args, **self.kwargs)\n           ^^^^^^^^^^^^^^^^^^^^^^^^^^^^^^^^^^\n  File \"C:\\Users\\kaitl\\anaconda3\\Lib\\site-packages\\joblib\\_parallel_backends.py\", line 620, in __call__\n    return self.func(*args, **kwargs)\n           ^^^^^^^^^^^^^^^^^^^^^^^^^^\n  File \"C:\\Users\\kaitl\\anaconda3\\Lib\\site-packages\\joblib\\parallel.py\", line 288, in __call__\n    return [func(*args, **kwargs)\n           ^^^^^^^^^^^^^^^^^^^^^^\n  File \"C:\\Users\\kaitl\\anaconda3\\Lib\\site-packages\\joblib\\parallel.py\", line 288, in <listcomp>\n    return [func(*args, **kwargs)\n            ^^^^^^^^^^^^^^^^^^^^^\n  File \"C:\\Users\\kaitl\\anaconda3\\Lib\\site-packages\\sklearn\\utils\\parallel.py\", line 127, in __call__\n    return self.function(*args, **kwargs)\n           ^^^^^^^^^^^^^^^^^^^^^^^^^^^^^^\n  File \"C:\\Users\\kaitl\\anaconda3\\Lib\\site-packages\\sklearn\\model_selection\\_validation.py\", line 720, in _fit_and_score\n    estimator = estimator.set_params(**cloned_parameters)\n                ^^^^^^^^^^^^^^^^^^^^^^^^^^^^^^^^^^^^^^^^^\n  File \"C:\\Users\\kaitl\\anaconda3\\Lib\\site-packages\\sklearn\\base.py\", line 229, in set_params\n    raise ValueError(\nValueError: Invalid parameter 'estimator' for estimator GradientBoostingRegressor(). Valid parameters are: ['alpha', 'ccp_alpha', 'criterion', 'init', 'learning_rate', 'loss', 'max_depth', 'max_features', 'max_leaf_nodes', 'min_impurity_decrease', 'min_samples_leaf', 'min_samples_split', 'min_weight_fraction_leaf', 'n_estimators', 'n_iter_no_change', 'random_state', 'subsample', 'tol', 'validation_fraction', 'verbose', 'warm_start'].\n\"\"\"",
      "\nThe above exception was the direct cause of the following exception:\n",
      "\u001b[1;31mValueError\u001b[0m                                Traceback (most recent call last)",
      "File \u001b[1;32m<timed exec>:1\u001b[0m\n",
      "File \u001b[1;32m~\\anaconda3\\Lib\\site-packages\\sklearn\\base.py:1151\u001b[0m, in \u001b[0;36m_fit_context.<locals>.decorator.<locals>.wrapper\u001b[1;34m(estimator, *args, **kwargs)\u001b[0m\n\u001b[0;32m   1144\u001b[0m     estimator\u001b[38;5;241m.\u001b[39m_validate_params()\n\u001b[0;32m   1146\u001b[0m \u001b[38;5;28;01mwith\u001b[39;00m config_context(\n\u001b[0;32m   1147\u001b[0m     skip_parameter_validation\u001b[38;5;241m=\u001b[39m(\n\u001b[0;32m   1148\u001b[0m         prefer_skip_nested_validation \u001b[38;5;129;01mor\u001b[39;00m global_skip_validation\n\u001b[0;32m   1149\u001b[0m     )\n\u001b[0;32m   1150\u001b[0m ):\n\u001b[1;32m-> 1151\u001b[0m     \u001b[38;5;28;01mreturn\u001b[39;00m fit_method(estimator, \u001b[38;5;241m*\u001b[39margs, \u001b[38;5;241m*\u001b[39m\u001b[38;5;241m*\u001b[39mkwargs)\n",
      "File \u001b[1;32m~\\anaconda3\\Lib\\site-packages\\sklearn\\model_selection\\_search.py:898\u001b[0m, in \u001b[0;36mBaseSearchCV.fit\u001b[1;34m(self, X, y, groups, **fit_params)\u001b[0m\n\u001b[0;32m    892\u001b[0m     results \u001b[38;5;241m=\u001b[39m \u001b[38;5;28mself\u001b[39m\u001b[38;5;241m.\u001b[39m_format_results(\n\u001b[0;32m    893\u001b[0m         all_candidate_params, n_splits, all_out, all_more_results\n\u001b[0;32m    894\u001b[0m     )\n\u001b[0;32m    896\u001b[0m     \u001b[38;5;28;01mreturn\u001b[39;00m results\n\u001b[1;32m--> 898\u001b[0m \u001b[38;5;28mself\u001b[39m\u001b[38;5;241m.\u001b[39m_run_search(evaluate_candidates)\n\u001b[0;32m    900\u001b[0m \u001b[38;5;66;03m# multimetric is determined here because in the case of a callable\u001b[39;00m\n\u001b[0;32m    901\u001b[0m \u001b[38;5;66;03m# self.scoring the return type is only known after calling\u001b[39;00m\n\u001b[0;32m    902\u001b[0m first_test_score \u001b[38;5;241m=\u001b[39m all_out[\u001b[38;5;241m0\u001b[39m][\u001b[38;5;124m\"\u001b[39m\u001b[38;5;124mtest_scores\u001b[39m\u001b[38;5;124m\"\u001b[39m]\n",
      "File \u001b[1;32m~\\anaconda3\\Lib\\site-packages\\sklearn\\model_selection\\_search.py:1806\u001b[0m, in \u001b[0;36mRandomizedSearchCV._run_search\u001b[1;34m(self, evaluate_candidates)\u001b[0m\n\u001b[0;32m   1804\u001b[0m \u001b[38;5;28;01mdef\u001b[39;00m \u001b[38;5;21m_run_search\u001b[39m(\u001b[38;5;28mself\u001b[39m, evaluate_candidates):\n\u001b[0;32m   1805\u001b[0m \u001b[38;5;250m    \u001b[39m\u001b[38;5;124;03m\"\"\"Search n_iter candidates from param_distributions\"\"\"\u001b[39;00m\n\u001b[1;32m-> 1806\u001b[0m     evaluate_candidates(\n\u001b[0;32m   1807\u001b[0m         ParameterSampler(\n\u001b[0;32m   1808\u001b[0m             \u001b[38;5;28mself\u001b[39m\u001b[38;5;241m.\u001b[39mparam_distributions, \u001b[38;5;28mself\u001b[39m\u001b[38;5;241m.\u001b[39mn_iter, random_state\u001b[38;5;241m=\u001b[39m\u001b[38;5;28mself\u001b[39m\u001b[38;5;241m.\u001b[39mrandom_state\n\u001b[0;32m   1809\u001b[0m         )\n\u001b[0;32m   1810\u001b[0m     )\n",
      "File \u001b[1;32m~\\anaconda3\\Lib\\site-packages\\sklearn\\model_selection\\_search.py:845\u001b[0m, in \u001b[0;36mBaseSearchCV.fit.<locals>.evaluate_candidates\u001b[1;34m(candidate_params, cv, more_results)\u001b[0m\n\u001b[0;32m    837\u001b[0m \u001b[38;5;28;01mif\u001b[39;00m \u001b[38;5;28mself\u001b[39m\u001b[38;5;241m.\u001b[39mverbose \u001b[38;5;241m>\u001b[39m \u001b[38;5;241m0\u001b[39m:\n\u001b[0;32m    838\u001b[0m     \u001b[38;5;28mprint\u001b[39m(\n\u001b[0;32m    839\u001b[0m         \u001b[38;5;124m\"\u001b[39m\u001b[38;5;124mFitting \u001b[39m\u001b[38;5;132;01m{0}\u001b[39;00m\u001b[38;5;124m folds for each of \u001b[39m\u001b[38;5;132;01m{1}\u001b[39;00m\u001b[38;5;124m candidates,\u001b[39m\u001b[38;5;124m\"\u001b[39m\n\u001b[0;32m    840\u001b[0m         \u001b[38;5;124m\"\u001b[39m\u001b[38;5;124m totalling \u001b[39m\u001b[38;5;132;01m{2}\u001b[39;00m\u001b[38;5;124m fits\u001b[39m\u001b[38;5;124m\"\u001b[39m\u001b[38;5;241m.\u001b[39mformat(\n\u001b[0;32m    841\u001b[0m             n_splits, n_candidates, n_candidates \u001b[38;5;241m*\u001b[39m n_splits\n\u001b[0;32m    842\u001b[0m         )\n\u001b[0;32m    843\u001b[0m     )\n\u001b[1;32m--> 845\u001b[0m out \u001b[38;5;241m=\u001b[39m parallel(\n\u001b[0;32m    846\u001b[0m     delayed(_fit_and_score)(\n\u001b[0;32m    847\u001b[0m         clone(base_estimator),\n\u001b[0;32m    848\u001b[0m         X,\n\u001b[0;32m    849\u001b[0m         y,\n\u001b[0;32m    850\u001b[0m         train\u001b[38;5;241m=\u001b[39mtrain,\n\u001b[0;32m    851\u001b[0m         test\u001b[38;5;241m=\u001b[39mtest,\n\u001b[0;32m    852\u001b[0m         parameters\u001b[38;5;241m=\u001b[39mparameters,\n\u001b[0;32m    853\u001b[0m         split_progress\u001b[38;5;241m=\u001b[39m(split_idx, n_splits),\n\u001b[0;32m    854\u001b[0m         candidate_progress\u001b[38;5;241m=\u001b[39m(cand_idx, n_candidates),\n\u001b[0;32m    855\u001b[0m         \u001b[38;5;241m*\u001b[39m\u001b[38;5;241m*\u001b[39mfit_and_score_kwargs,\n\u001b[0;32m    856\u001b[0m     )\n\u001b[0;32m    857\u001b[0m     \u001b[38;5;28;01mfor\u001b[39;00m (cand_idx, parameters), (split_idx, (train, test)) \u001b[38;5;129;01min\u001b[39;00m product(\n\u001b[0;32m    858\u001b[0m         \u001b[38;5;28menumerate\u001b[39m(candidate_params), \u001b[38;5;28menumerate\u001b[39m(cv\u001b[38;5;241m.\u001b[39msplit(X, y, groups))\n\u001b[0;32m    859\u001b[0m     )\n\u001b[0;32m    860\u001b[0m )\n\u001b[0;32m    862\u001b[0m \u001b[38;5;28;01mif\u001b[39;00m \u001b[38;5;28mlen\u001b[39m(out) \u001b[38;5;241m<\u001b[39m \u001b[38;5;241m1\u001b[39m:\n\u001b[0;32m    863\u001b[0m     \u001b[38;5;28;01mraise\u001b[39;00m \u001b[38;5;167;01mValueError\u001b[39;00m(\n\u001b[0;32m    864\u001b[0m         \u001b[38;5;124m\"\u001b[39m\u001b[38;5;124mNo fits were performed. \u001b[39m\u001b[38;5;124m\"\u001b[39m\n\u001b[0;32m    865\u001b[0m         \u001b[38;5;124m\"\u001b[39m\u001b[38;5;124mWas the CV iterator empty? \u001b[39m\u001b[38;5;124m\"\u001b[39m\n\u001b[0;32m    866\u001b[0m         \u001b[38;5;124m\"\u001b[39m\u001b[38;5;124mWere there no candidates?\u001b[39m\u001b[38;5;124m\"\u001b[39m\n\u001b[0;32m    867\u001b[0m     )\n",
      "File \u001b[1;32m~\\anaconda3\\Lib\\site-packages\\sklearn\\utils\\parallel.py:65\u001b[0m, in \u001b[0;36mParallel.__call__\u001b[1;34m(self, iterable)\u001b[0m\n\u001b[0;32m     60\u001b[0m config \u001b[38;5;241m=\u001b[39m get_config()\n\u001b[0;32m     61\u001b[0m iterable_with_config \u001b[38;5;241m=\u001b[39m (\n\u001b[0;32m     62\u001b[0m     (_with_config(delayed_func, config), args, kwargs)\n\u001b[0;32m     63\u001b[0m     \u001b[38;5;28;01mfor\u001b[39;00m delayed_func, args, kwargs \u001b[38;5;129;01min\u001b[39;00m iterable\n\u001b[0;32m     64\u001b[0m )\n\u001b[1;32m---> 65\u001b[0m \u001b[38;5;28;01mreturn\u001b[39;00m \u001b[38;5;28msuper\u001b[39m()\u001b[38;5;241m.\u001b[39m\u001b[38;5;21m__call__\u001b[39m(iterable_with_config)\n",
      "File \u001b[1;32m~\\anaconda3\\Lib\\site-packages\\joblib\\parallel.py:1098\u001b[0m, in \u001b[0;36mParallel.__call__\u001b[1;34m(self, iterable)\u001b[0m\n\u001b[0;32m   1095\u001b[0m     \u001b[38;5;28mself\u001b[39m\u001b[38;5;241m.\u001b[39m_iterating \u001b[38;5;241m=\u001b[39m \u001b[38;5;28;01mFalse\u001b[39;00m\n\u001b[0;32m   1097\u001b[0m \u001b[38;5;28;01mwith\u001b[39;00m \u001b[38;5;28mself\u001b[39m\u001b[38;5;241m.\u001b[39m_backend\u001b[38;5;241m.\u001b[39mretrieval_context():\n\u001b[1;32m-> 1098\u001b[0m     \u001b[38;5;28mself\u001b[39m\u001b[38;5;241m.\u001b[39mretrieve()\n\u001b[0;32m   1099\u001b[0m \u001b[38;5;66;03m# Make sure that we get a last message telling us we are done\u001b[39;00m\n\u001b[0;32m   1100\u001b[0m elapsed_time \u001b[38;5;241m=\u001b[39m time\u001b[38;5;241m.\u001b[39mtime() \u001b[38;5;241m-\u001b[39m \u001b[38;5;28mself\u001b[39m\u001b[38;5;241m.\u001b[39m_start_time\n",
      "File \u001b[1;32m~\\anaconda3\\Lib\\site-packages\\joblib\\parallel.py:975\u001b[0m, in \u001b[0;36mParallel.retrieve\u001b[1;34m(self)\u001b[0m\n\u001b[0;32m    973\u001b[0m \u001b[38;5;28;01mtry\u001b[39;00m:\n\u001b[0;32m    974\u001b[0m     \u001b[38;5;28;01mif\u001b[39;00m \u001b[38;5;28mgetattr\u001b[39m(\u001b[38;5;28mself\u001b[39m\u001b[38;5;241m.\u001b[39m_backend, \u001b[38;5;124m'\u001b[39m\u001b[38;5;124msupports_timeout\u001b[39m\u001b[38;5;124m'\u001b[39m, \u001b[38;5;28;01mFalse\u001b[39;00m):\n\u001b[1;32m--> 975\u001b[0m         \u001b[38;5;28mself\u001b[39m\u001b[38;5;241m.\u001b[39m_output\u001b[38;5;241m.\u001b[39mextend(job\u001b[38;5;241m.\u001b[39mget(timeout\u001b[38;5;241m=\u001b[39m\u001b[38;5;28mself\u001b[39m\u001b[38;5;241m.\u001b[39mtimeout))\n\u001b[0;32m    976\u001b[0m     \u001b[38;5;28;01melse\u001b[39;00m:\n\u001b[0;32m    977\u001b[0m         \u001b[38;5;28mself\u001b[39m\u001b[38;5;241m.\u001b[39m_output\u001b[38;5;241m.\u001b[39mextend(job\u001b[38;5;241m.\u001b[39mget())\n",
      "File \u001b[1;32m~\\anaconda3\\Lib\\site-packages\\joblib\\_parallel_backends.py:567\u001b[0m, in \u001b[0;36mLokyBackend.wrap_future_result\u001b[1;34m(future, timeout)\u001b[0m\n\u001b[0;32m    564\u001b[0m \u001b[38;5;250m\u001b[39m\u001b[38;5;124;03m\"\"\"Wrapper for Future.result to implement the same behaviour as\u001b[39;00m\n\u001b[0;32m    565\u001b[0m \u001b[38;5;124;03mAsyncResults.get from multiprocessing.\"\"\"\u001b[39;00m\n\u001b[0;32m    566\u001b[0m \u001b[38;5;28;01mtry\u001b[39;00m:\n\u001b[1;32m--> 567\u001b[0m     \u001b[38;5;28;01mreturn\u001b[39;00m future\u001b[38;5;241m.\u001b[39mresult(timeout\u001b[38;5;241m=\u001b[39mtimeout)\n\u001b[0;32m    568\u001b[0m \u001b[38;5;28;01mexcept\u001b[39;00m CfTimeoutError \u001b[38;5;28;01mas\u001b[39;00m e:\n\u001b[0;32m    569\u001b[0m     \u001b[38;5;28;01mraise\u001b[39;00m \u001b[38;5;167;01mTimeoutError\u001b[39;00m \u001b[38;5;28;01mfrom\u001b[39;00m \u001b[38;5;21;01me\u001b[39;00m\n",
      "File \u001b[1;32m~\\anaconda3\\Lib\\concurrent\\futures\\_base.py:456\u001b[0m, in \u001b[0;36mFuture.result\u001b[1;34m(self, timeout)\u001b[0m\n\u001b[0;32m    454\u001b[0m     \u001b[38;5;28;01mraise\u001b[39;00m CancelledError()\n\u001b[0;32m    455\u001b[0m \u001b[38;5;28;01melif\u001b[39;00m \u001b[38;5;28mself\u001b[39m\u001b[38;5;241m.\u001b[39m_state \u001b[38;5;241m==\u001b[39m FINISHED:\n\u001b[1;32m--> 456\u001b[0m     \u001b[38;5;28;01mreturn\u001b[39;00m \u001b[38;5;28mself\u001b[39m\u001b[38;5;241m.\u001b[39m__get_result()\n\u001b[0;32m    457\u001b[0m \u001b[38;5;28;01melse\u001b[39;00m:\n\u001b[0;32m    458\u001b[0m     \u001b[38;5;28;01mraise\u001b[39;00m \u001b[38;5;167;01mTimeoutError\u001b[39;00m()\n",
      "File \u001b[1;32m~\\anaconda3\\Lib\\concurrent\\futures\\_base.py:401\u001b[0m, in \u001b[0;36mFuture.__get_result\u001b[1;34m(self)\u001b[0m\n\u001b[0;32m    399\u001b[0m \u001b[38;5;28;01mif\u001b[39;00m \u001b[38;5;28mself\u001b[39m\u001b[38;5;241m.\u001b[39m_exception:\n\u001b[0;32m    400\u001b[0m     \u001b[38;5;28;01mtry\u001b[39;00m:\n\u001b[1;32m--> 401\u001b[0m         \u001b[38;5;28;01mraise\u001b[39;00m \u001b[38;5;28mself\u001b[39m\u001b[38;5;241m.\u001b[39m_exception\n\u001b[0;32m    402\u001b[0m     \u001b[38;5;28;01mfinally\u001b[39;00m:\n\u001b[0;32m    403\u001b[0m         \u001b[38;5;66;03m# Break a reference cycle with the exception in self._exception\u001b[39;00m\n\u001b[0;32m    404\u001b[0m         \u001b[38;5;28mself\u001b[39m \u001b[38;5;241m=\u001b[39m \u001b[38;5;28;01mNone\u001b[39;00m\n",
      "\u001b[1;31mValueError\u001b[0m: Invalid parameter 'estimator' for estimator GradientBoostingRegressor(). Valid parameters are: ['alpha', 'ccp_alpha', 'criterion', 'init', 'learning_rate', 'loss', 'max_depth', 'max_features', 'max_leaf_nodes', 'min_impurity_decrease', 'min_samples_leaf', 'min_samples_split', 'min_weight_fraction_leaf', 'n_estimators', 'n_iter_no_change', 'random_state', 'subsample', 'tol', 'validation_fraction', 'verbose', 'warm_start']."
     ]
    }
   ],
   "source": [
    "%%time \n",
    "rs1.fit(X2_train_transformed, y2_train)\n",
    "print(rs1.score(X2_train_transformed, y_train))\n",
    "print(rs1.score(X2_test_transformed, y2_test))"
   ]
  },
  {
   "cell_type": "code",
   "execution_count": 18,
   "id": "c3bd83f8-31cd-4ffb-9454-3d2bbe0eb255",
   "metadata": {
    "tags": []
   },
   "outputs": [],
   "source": [
    "df = pd.read_csv('data/df3_with_weather.csv')"
   ]
  },
  {
   "cell_type": "code",
   "execution_count": 19,
   "id": "91228102-748d-43ce-8f95-75a16447c4b3",
   "metadata": {
    "tags": []
   },
   "outputs": [],
   "source": [
    "df.drop(columns=['TRAILERS'], inplace=True)\n",
    "df.dropna(inplace=True)"
   ]
  },
  {
   "cell_type": "code",
   "execution_count": 20,
   "id": "1fa40b03-847a-4b93-b14e-66e6108fe7bd",
   "metadata": {
    "tags": []
   },
   "outputs": [],
   "source": [
    "X3 = df.drop(columns=['DATE1', 'TOWN', 'WATERBODY', 'INSPECTOR_ID', 'TOTALINSP', 'DATE', 'SHIFT_START', 'SHIFT_END'])\n",
    "y3 = df.TOTALINSP            \n",
    "\n",
    "X3_train, X3_test, y3_train, y3_test = train_test_split(X3, y3, random_state=42, test_size=.2)"
   ]
  },
  {
   "cell_type": "code",
   "execution_count": 21,
   "id": "4bcce47b-6c21-4bfe-979f-23976e949f47",
   "metadata": {
    "tags": []
   },
   "outputs": [],
   "source": [
    "categorical_columns = ['SITE_NAME', 'DAY_OF_WEEK', 'month', 'year', 'PAY_VOL', 'SHIFT_START_CATEGORY', 'SHIFT_END_CATEGORY']\n",
    "oh = OneHotEncoder(handle_unknown='ignore', drop='first')\n",
    "X3_train_transformed = oh.fit_transform(X3_train[categorical_columns])\n",
    "X3_test_transformed= oh.transform(X3_test[categorical_columns])"
   ]
  },
  {
   "cell_type": "code",
   "execution_count": 22,
   "id": "67b98588-a5fe-4fa0-b419-64fd764170a9",
   "metadata": {
    "tags": []
   },
   "outputs": [
    {
     "data": {
      "text/html": [
       "<style>#sk-container-id-2 {color: black;}#sk-container-id-2 pre{padding: 0;}#sk-container-id-2 div.sk-toggleable {background-color: white;}#sk-container-id-2 label.sk-toggleable__label {cursor: pointer;display: block;width: 100%;margin-bottom: 0;padding: 0.3em;box-sizing: border-box;text-align: center;}#sk-container-id-2 label.sk-toggleable__label-arrow:before {content: \"▸\";float: left;margin-right: 0.25em;color: #696969;}#sk-container-id-2 label.sk-toggleable__label-arrow:hover:before {color: black;}#sk-container-id-2 div.sk-estimator:hover label.sk-toggleable__label-arrow:before {color: black;}#sk-container-id-2 div.sk-toggleable__content {max-height: 0;max-width: 0;overflow: hidden;text-align: left;background-color: #f0f8ff;}#sk-container-id-2 div.sk-toggleable__content pre {margin: 0.2em;color: black;border-radius: 0.25em;background-color: #f0f8ff;}#sk-container-id-2 input.sk-toggleable__control:checked~div.sk-toggleable__content {max-height: 200px;max-width: 100%;overflow: auto;}#sk-container-id-2 input.sk-toggleable__control:checked~label.sk-toggleable__label-arrow:before {content: \"▾\";}#sk-container-id-2 div.sk-estimator input.sk-toggleable__control:checked~label.sk-toggleable__label {background-color: #d4ebff;}#sk-container-id-2 div.sk-label input.sk-toggleable__control:checked~label.sk-toggleable__label {background-color: #d4ebff;}#sk-container-id-2 input.sk-hidden--visually {border: 0;clip: rect(1px 1px 1px 1px);clip: rect(1px, 1px, 1px, 1px);height: 1px;margin: -1px;overflow: hidden;padding: 0;position: absolute;width: 1px;}#sk-container-id-2 div.sk-estimator {font-family: monospace;background-color: #f0f8ff;border: 1px dotted black;border-radius: 0.25em;box-sizing: border-box;margin-bottom: 0.5em;}#sk-container-id-2 div.sk-estimator:hover {background-color: #d4ebff;}#sk-container-id-2 div.sk-parallel-item::after {content: \"\";width: 100%;border-bottom: 1px solid gray;flex-grow: 1;}#sk-container-id-2 div.sk-label:hover label.sk-toggleable__label {background-color: #d4ebff;}#sk-container-id-2 div.sk-serial::before {content: \"\";position: absolute;border-left: 1px solid gray;box-sizing: border-box;top: 0;bottom: 0;left: 50%;z-index: 0;}#sk-container-id-2 div.sk-serial {display: flex;flex-direction: column;align-items: center;background-color: white;padding-right: 0.2em;padding-left: 0.2em;position: relative;}#sk-container-id-2 div.sk-item {position: relative;z-index: 1;}#sk-container-id-2 div.sk-parallel {display: flex;align-items: stretch;justify-content: center;background-color: white;position: relative;}#sk-container-id-2 div.sk-item::before, #sk-container-id-2 div.sk-parallel-item::before {content: \"\";position: absolute;border-left: 1px solid gray;box-sizing: border-box;top: 0;bottom: 0;left: 50%;z-index: -1;}#sk-container-id-2 div.sk-parallel-item {display: flex;flex-direction: column;z-index: 1;position: relative;background-color: white;}#sk-container-id-2 div.sk-parallel-item:first-child::after {align-self: flex-end;width: 50%;}#sk-container-id-2 div.sk-parallel-item:last-child::after {align-self: flex-start;width: 50%;}#sk-container-id-2 div.sk-parallel-item:only-child::after {width: 0;}#sk-container-id-2 div.sk-dashed-wrapped {border: 1px dashed gray;margin: 0 0.4em 0.5em 0.4em;box-sizing: border-box;padding-bottom: 0.4em;background-color: white;}#sk-container-id-2 div.sk-label label {font-family: monospace;font-weight: bold;display: inline-block;line-height: 1.2em;}#sk-container-id-2 div.sk-label-container {text-align: center;}#sk-container-id-2 div.sk-container {/* jupyter's `normalize.less` sets `[hidden] { display: none; }` but bootstrap.min.css set `[hidden] { display: none !important; }` so we also need the `!important` here to be able to override the default hidden behavior on the sphinx rendered scikit-learn.org. See: https://github.com/scikit-learn/scikit-learn/issues/21755 */display: inline-block !important;position: relative;}#sk-container-id-2 div.sk-text-repr-fallback {display: none;}</style><div id=\"sk-container-id-2\" class=\"sk-top-container\"><div class=\"sk-text-repr-fallback\"><pre>Pipeline(steps=[(&#x27;poly&#x27;, PolynomialFeatures()),\n",
       "                (&#x27;regressor&#x27;,\n",
       "                 ElasticNet(alpha=0.01919705161662965, l1_ratio=0.1))])</pre><b>In a Jupyter environment, please rerun this cell to show the HTML representation or trust the notebook. <br />On GitHub, the HTML representation is unable to render, please try loading this page with nbviewer.org.</b></div><div class=\"sk-container\" hidden><div class=\"sk-item sk-dashed-wrapped\"><div class=\"sk-label-container\"><div class=\"sk-label sk-toggleable\"><input class=\"sk-toggleable__control sk-hidden--visually\" id=\"sk-estimator-id-4\" type=\"checkbox\" ><label for=\"sk-estimator-id-4\" class=\"sk-toggleable__label sk-toggleable__label-arrow\">Pipeline</label><div class=\"sk-toggleable__content\"><pre>Pipeline(steps=[(&#x27;poly&#x27;, PolynomialFeatures()),\n",
       "                (&#x27;regressor&#x27;,\n",
       "                 ElasticNet(alpha=0.01919705161662965, l1_ratio=0.1))])</pre></div></div></div><div class=\"sk-serial\"><div class=\"sk-item\"><div class=\"sk-estimator sk-toggleable\"><input class=\"sk-toggleable__control sk-hidden--visually\" id=\"sk-estimator-id-5\" type=\"checkbox\" ><label for=\"sk-estimator-id-5\" class=\"sk-toggleable__label sk-toggleable__label-arrow\">PolynomialFeatures</label><div class=\"sk-toggleable__content\"><pre>PolynomialFeatures()</pre></div></div></div><div class=\"sk-item\"><div class=\"sk-estimator sk-toggleable\"><input class=\"sk-toggleable__control sk-hidden--visually\" id=\"sk-estimator-id-6\" type=\"checkbox\" ><label for=\"sk-estimator-id-6\" class=\"sk-toggleable__label sk-toggleable__label-arrow\">ElasticNet</label><div class=\"sk-toggleable__content\"><pre>ElasticNet(alpha=0.01919705161662965, l1_ratio=0.1)</pre></div></div></div></div></div></div></div>"
      ],
      "text/plain": [
       "Pipeline(steps=[('poly', PolynomialFeatures()),\n",
       "                ('regressor',\n",
       "                 ElasticNet(alpha=0.01919705161662965, l1_ratio=0.1))])"
      ]
     },
     "execution_count": 22,
     "metadata": {},
     "output_type": "execute_result"
    }
   ],
   "source": [
    "pipeline = Pipeline([\n",
    "    ('poly', PolynomialFeatures(degree=2)),\n",
    "    ('regressor', ElasticNet(alpha=0.01919705161662965, l1_ratio=0.1))\n",
    "])\n",
    "\n",
    "# Fit the model on the training data\n",
    "pipeline.fit(X3_train_transformed, y3_train)"
   ]
  },
  {
   "cell_type": "code",
   "execution_count": 23,
   "id": "df7fa299-e5f6-4881-91ec-afb2cf16e3d4",
   "metadata": {
    "tags": []
   },
   "outputs": [
    {
     "name": "stdout",
     "output_type": "stream",
     "text": [
      "0.5345644705129942\n",
      "0.48352970779111637\n"
     ]
    }
   ],
   "source": [
    "print(pipeline.score(X3_train_transformed, y3_train))\n",
    "print(pipeline.score(X3_test_transformed, y3_test))"
   ]
  },
  {
   "cell_type": "code",
   "execution_count": 24,
   "id": "2d847981-89ad-4dbe-a010-d0c7a740e0de",
   "metadata": {
    "tags": []
   },
   "outputs": [
    {
     "name": "stdout",
     "output_type": "stream",
     "text": [
      "0.5142276335273501\n",
      "0.4618525960583473\n"
     ]
    }
   ],
   "source": [
    "grad = GradientBoostingRegressor()\n",
    "\n",
    "grad.fit(X3_train_transformed, y3_train)\n",
    "\n",
    "print(grad.score(X3_train_transformed, y3_train))\n",
    "print(grad.score(X3_test_transformed, y3_test))"
   ]
  },
  {
   "cell_type": "code",
   "execution_count": null,
   "id": "14d11886-772c-4b5a-acfb-a0761b00e8f4",
   "metadata": {},
   "outputs": [],
   "source": []
  },
  {
   "cell_type": "code",
   "execution_count": null,
   "id": "2fa6617b-724e-4384-8c91-0e111be1042a",
   "metadata": {},
   "outputs": [],
   "source": []
  },
  {
   "cell_type": "code",
   "execution_count": null,
   "id": "6a0362f7-fd7a-4b4b-ac8b-a19d3408e5ce",
   "metadata": {},
   "outputs": [],
   "source": []
  }
 ],
 "metadata": {
  "kernelspec": {
   "display_name": "Python 3 (ipykernel)",
   "language": "python",
   "name": "python3"
  },
  "language_info": {
   "codemirror_mode": {
    "name": "ipython",
    "version": 3
   },
   "file_extension": ".py",
   "mimetype": "text/x-python",
   "name": "python",
   "nbconvert_exporter": "python",
   "pygments_lexer": "ipython3",
   "version": "3.11.4"
  }
 },
 "nbformat": 4,
 "nbformat_minor": 5
}
