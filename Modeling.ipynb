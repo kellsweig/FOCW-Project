{
 "cells": [
  {
   "cell_type": "code",
   "execution_count": 38,
   "id": "61c4b192-eb67-4c49-aba9-0c1d4871be46",
   "metadata": {
    "tags": []
   },
   "outputs": [],
   "source": [
    "# Imports\n",
    "\n",
    "import numpy as np\n",
    "import pandas as pd\n",
    "import matplotlib.pyplot as plt\n",
    "\n",
    "from sklearn.linear_model import LinearRegression\n",
    "from sklearn.model_selection import train_test_split, cross_val_score, GridSearchCV, RandomizedSearchCV, KFold\n",
    "from sklearn import metrics\n",
    "import statsmodels.api as sm\n",
    "\n",
    "from sklearn.preprocessing import OneHotEncoder\n",
    "\n",
    "from sklearn.neighbors import KNeighborsRegressor\n",
    "\n",
    "from sklearn.preprocessing import StandardScaler\n",
    "\n",
    "from sklearn.tree import DecisionTreeRegressor, plot_tree\n",
    "from sklearn.ensemble import BaggingRegressor, VotingRegressor\n",
    "\n",
    "from sklearn.ensemble import RandomForestRegressor, ExtraTreesRegressor\n",
    "from sklearn.ensemble import AdaBoostRegressor, GradientBoostingRegressor"
   ]
  },
  {
   "cell_type": "code",
   "execution_count": 2,
   "id": "b5f78b67-e9c4-4a61-8730-a7d1b90619de",
   "metadata": {
    "tags": []
   },
   "outputs": [],
   "source": [
    "shift_df = pd.read_csv('data/shift_details.csv')"
   ]
  },
  {
   "cell_type": "code",
   "execution_count": 3,
   "id": "11b17ade-a8f3-4bcc-b7de-58f11783d21b",
   "metadata": {
    "tags": []
   },
   "outputs": [
    {
     "data": {
      "text/html": [
       "<div>\n",
       "<style scoped>\n",
       "    .dataframe tbody tr th:only-of-type {\n",
       "        vertical-align: middle;\n",
       "    }\n",
       "\n",
       "    .dataframe tbody tr th {\n",
       "        vertical-align: top;\n",
       "    }\n",
       "\n",
       "    .dataframe thead th {\n",
       "        text-align: right;\n",
       "    }\n",
       "</style>\n",
       "<table border=\"1\" class=\"dataframe\">\n",
       "  <thead>\n",
       "    <tr style=\"text-align: right;\">\n",
       "      <th></th>\n",
       "      <th>SITE_NAME</th>\n",
       "      <th>DATE1</th>\n",
       "      <th>DAY_OF_WEEK</th>\n",
       "      <th>INSPECTOR_ID</th>\n",
       "      <th>PAY_VOL</th>\n",
       "      <th>SHIFT_START</th>\n",
       "      <th>SHIFT_END</th>\n",
       "      <th>TOTALINSP</th>\n",
       "      <th>NUMINVASIVE</th>\n",
       "      <th>TOWN</th>\n",
       "      <th>WATERBODY</th>\n",
       "      <th>SHIFT_LENGTH</th>\n",
       "      <th>DATE</th>\n",
       "      <th>month</th>\n",
       "      <th>year</th>\n",
       "    </tr>\n",
       "  </thead>\n",
       "  <tbody>\n",
       "    <tr>\n",
       "      <th>0</th>\n",
       "      <td>Launch Drive</td>\n",
       "      <td>05/28/2021</td>\n",
       "      <td>Fri</td>\n",
       "      <td>4771</td>\n",
       "      <td>1</td>\n",
       "      <td>12:00</td>\n",
       "      <td>18:00</td>\n",
       "      <td>33.0</td>\n",
       "      <td>0.0</td>\n",
       "      <td>Launch Drive</td>\n",
       "      <td>Cobbosseecontee Lake</td>\n",
       "      <td>360.0</td>\n",
       "      <td>2021-05-28</td>\n",
       "      <td>5</td>\n",
       "      <td>2021</td>\n",
       "    </tr>\n",
       "    <tr>\n",
       "      <th>1</th>\n",
       "      <td>East Winthrop</td>\n",
       "      <td>05/28/2021</td>\n",
       "      <td>Fri</td>\n",
       "      <td>4485</td>\n",
       "      <td>1</td>\n",
       "      <td>12:00</td>\n",
       "      <td>18:00</td>\n",
       "      <td>2.0</td>\n",
       "      <td>0.0</td>\n",
       "      <td>Winthrop</td>\n",
       "      <td>Cobbosseecontee Lake</td>\n",
       "      <td>360.0</td>\n",
       "      <td>2021-05-28</td>\n",
       "      <td>5</td>\n",
       "      <td>2021</td>\n",
       "    </tr>\n",
       "    <tr>\n",
       "      <th>2</th>\n",
       "      <td>Augusta West Kampground</td>\n",
       "      <td>05/28/2021</td>\n",
       "      <td>Fri</td>\n",
       "      <td>4769</td>\n",
       "      <td>1</td>\n",
       "      <td>12:00</td>\n",
       "      <td>18:00</td>\n",
       "      <td>1.0</td>\n",
       "      <td>0.0</td>\n",
       "      <td>Winthrop</td>\n",
       "      <td>Annabessacook Lake</td>\n",
       "      <td>360.0</td>\n",
       "      <td>2021-05-28</td>\n",
       "      <td>5</td>\n",
       "      <td>2021</td>\n",
       "    </tr>\n",
       "    <tr>\n",
       "      <th>3</th>\n",
       "      <td>Whippoorwill Road</td>\n",
       "      <td>05/28/2021</td>\n",
       "      <td>Fri</td>\n",
       "      <td>4174</td>\n",
       "      <td>1</td>\n",
       "      <td>12:00</td>\n",
       "      <td>18:00</td>\n",
       "      <td>13.0</td>\n",
       "      <td>0.0</td>\n",
       "      <td>Litchfield</td>\n",
       "      <td>Woodbury Pond</td>\n",
       "      <td>360.0</td>\n",
       "      <td>2021-05-28</td>\n",
       "      <td>5</td>\n",
       "      <td>2021</td>\n",
       "    </tr>\n",
       "    <tr>\n",
       "      <th>4</th>\n",
       "      <td>Thorofare Rd</td>\n",
       "      <td>05/29/2021</td>\n",
       "      <td>Sat</td>\n",
       "      <td>4944</td>\n",
       "      <td>1</td>\n",
       "      <td>07:00</td>\n",
       "      <td>17:00</td>\n",
       "      <td>11.0</td>\n",
       "      <td>0.0</td>\n",
       "      <td>Litchfield</td>\n",
       "      <td>Pleasant Pond</td>\n",
       "      <td>600.0</td>\n",
       "      <td>2021-05-29</td>\n",
       "      <td>5</td>\n",
       "      <td>2021</td>\n",
       "    </tr>\n",
       "  </tbody>\n",
       "</table>\n",
       "</div>"
      ],
      "text/plain": [
       "                 SITE_NAME       DATE1 DAY_OF_WEEK  INSPECTOR_ID  PAY_VOL  \\\n",
       "0             Launch Drive  05/28/2021         Fri          4771        1   \n",
       "1            East Winthrop  05/28/2021         Fri          4485        1   \n",
       "2  Augusta West Kampground  05/28/2021         Fri          4769        1   \n",
       "3        Whippoorwill Road  05/28/2021         Fri          4174        1   \n",
       "4             Thorofare Rd  05/29/2021         Sat          4944        1   \n",
       "\n",
       "  SHIFT_START SHIFT_END  TOTALINSP  NUMINVASIVE          TOWN  \\\n",
       "0       12:00     18:00       33.0          0.0  Launch Drive   \n",
       "1       12:00     18:00        2.0          0.0      Winthrop   \n",
       "2       12:00     18:00        1.0          0.0      Winthrop   \n",
       "3       12:00     18:00       13.0          0.0    Litchfield   \n",
       "4       07:00     17:00       11.0          0.0    Litchfield   \n",
       "\n",
       "              WATERBODY  SHIFT_LENGTH        DATE  month  year  \n",
       "0  Cobbosseecontee Lake         360.0  2021-05-28      5  2021  \n",
       "1  Cobbosseecontee Lake         360.0  2021-05-28      5  2021  \n",
       "2    Annabessacook Lake         360.0  2021-05-28      5  2021  \n",
       "3         Woodbury Pond         360.0  2021-05-28      5  2021  \n",
       "4         Pleasant Pond         600.0  2021-05-29      5  2021  "
      ]
     },
     "execution_count": 3,
     "metadata": {},
     "output_type": "execute_result"
    }
   ],
   "source": [
    "shift_df.head()"
   ]
  },
  {
   "cell_type": "code",
   "execution_count": 4,
   "id": "70de58d2-64c0-430b-ae76-3cf11eb361ea",
   "metadata": {
    "tags": []
   },
   "outputs": [],
   "source": [
    "y = shift_df['TOTALINSP']\n",
    "X = shift_df.drop(columns=['DATE1', 'TOTALINSP', 'NUMINVASIVE', 'TOWN', 'WATERBODY', 'DATE', 'INSPECTOR_ID'])"
   ]
  },
  {
   "cell_type": "code",
   "execution_count": 5,
   "id": "4f93b44a-8a78-4812-b05d-797d433341de",
   "metadata": {
    "tags": []
   },
   "outputs": [],
   "source": [
    "X_train, X_test, y_train, y_test = train_test_split(X, y, random_state=42, test_size=.3)"
   ]
  },
  {
   "cell_type": "code",
   "execution_count": 37,
   "id": "f2da001d-56e5-4146-a3db-cb2830686bac",
   "metadata": {
    "tags": []
   },
   "outputs": [
    {
     "data": {
      "text/html": [
       "<div>\n",
       "<style scoped>\n",
       "    .dataframe tbody tr th:only-of-type {\n",
       "        vertical-align: middle;\n",
       "    }\n",
       "\n",
       "    .dataframe tbody tr th {\n",
       "        vertical-align: top;\n",
       "    }\n",
       "\n",
       "    .dataframe thead th {\n",
       "        text-align: right;\n",
       "    }\n",
       "</style>\n",
       "<table border=\"1\" class=\"dataframe\">\n",
       "  <thead>\n",
       "    <tr style=\"text-align: right;\">\n",
       "      <th></th>\n",
       "      <th>SITE_NAME</th>\n",
       "      <th>DAY_OF_WEEK</th>\n",
       "      <th>PAY_VOL</th>\n",
       "      <th>SHIFT_START</th>\n",
       "      <th>SHIFT_END</th>\n",
       "      <th>SHIFT_LENGTH</th>\n",
       "      <th>month</th>\n",
       "      <th>year</th>\n",
       "    </tr>\n",
       "  </thead>\n",
       "  <tbody>\n",
       "    <tr>\n",
       "      <th>1510</th>\n",
       "      <td>Old Kents Hill Road</td>\n",
       "      <td>Mon</td>\n",
       "      <td>1</td>\n",
       "      <td>09:00</td>\n",
       "      <td>19:00</td>\n",
       "      <td>600.0</td>\n",
       "      <td>5</td>\n",
       "      <td>2023</td>\n",
       "    </tr>\n",
       "    <tr>\n",
       "      <th>1061</th>\n",
       "      <td>Launch Drive Cobbosseecontee</td>\n",
       "      <td>Sun</td>\n",
       "      <td>1</td>\n",
       "      <td>13:00</td>\n",
       "      <td>19:00</td>\n",
       "      <td>360.0</td>\n",
       "      <td>7</td>\n",
       "      <td>2022</td>\n",
       "    </tr>\n",
       "    <tr>\n",
       "      <th>2040</th>\n",
       "      <td>East Winthrop Cobbosseecontee</td>\n",
       "      <td>Thu</td>\n",
       "      <td>1</td>\n",
       "      <td>13:00</td>\n",
       "      <td>19:00</td>\n",
       "      <td>360.0</td>\n",
       "      <td>8</td>\n",
       "      <td>2023</td>\n",
       "    </tr>\n",
       "    <tr>\n",
       "      <th>123</th>\n",
       "      <td>Whippoorwill Road</td>\n",
       "      <td>Sun</td>\n",
       "      <td>1</td>\n",
       "      <td>13:00</td>\n",
       "      <td>19:00</td>\n",
       "      <td>360.0</td>\n",
       "      <td>6</td>\n",
       "      <td>2021</td>\n",
       "    </tr>\n",
       "    <tr>\n",
       "      <th>729</th>\n",
       "      <td>Rt 41 North Basin Maranacook</td>\n",
       "      <td>Sun</td>\n",
       "      <td>1</td>\n",
       "      <td>13:00</td>\n",
       "      <td>19:00</td>\n",
       "      <td>360.0</td>\n",
       "      <td>6</td>\n",
       "      <td>2022</td>\n",
       "    </tr>\n",
       "    <tr>\n",
       "      <th>...</th>\n",
       "      <td>...</td>\n",
       "      <td>...</td>\n",
       "      <td>...</td>\n",
       "      <td>...</td>\n",
       "      <td>...</td>\n",
       "      <td>...</td>\n",
       "      <td>...</td>\n",
       "      <td>...</td>\n",
       "    </tr>\n",
       "    <tr>\n",
       "      <th>1638</th>\n",
       "      <td>East Winthrop Cobbosseecontee</td>\n",
       "      <td>Tue</td>\n",
       "      <td>1</td>\n",
       "      <td>13:00</td>\n",
       "      <td>19:00</td>\n",
       "      <td>360.0</td>\n",
       "      <td>6</td>\n",
       "      <td>2023</td>\n",
       "    </tr>\n",
       "    <tr>\n",
       "      <th>1095</th>\n",
       "      <td>Launch Drive Cobbosseecontee</td>\n",
       "      <td>Fri</td>\n",
       "      <td>1</td>\n",
       "      <td>07:00</td>\n",
       "      <td>13:00</td>\n",
       "      <td>360.0</td>\n",
       "      <td>7</td>\n",
       "      <td>2022</td>\n",
       "    </tr>\n",
       "    <tr>\n",
       "      <th>1130</th>\n",
       "      <td>Rt 41 North Basin Maranacook</td>\n",
       "      <td>Sun</td>\n",
       "      <td>1</td>\n",
       "      <td>07:00</td>\n",
       "      <td>13:00</td>\n",
       "      <td>360.0</td>\n",
       "      <td>7</td>\n",
       "      <td>2022</td>\n",
       "    </tr>\n",
       "    <tr>\n",
       "      <th>1294</th>\n",
       "      <td>Rt 41 North Basin Maranacook</td>\n",
       "      <td>Sun</td>\n",
       "      <td>1</td>\n",
       "      <td>13:00</td>\n",
       "      <td>19:00</td>\n",
       "      <td>360.0</td>\n",
       "      <td>8</td>\n",
       "      <td>2022</td>\n",
       "    </tr>\n",
       "    <tr>\n",
       "      <th>860</th>\n",
       "      <td>Thorofare Rd</td>\n",
       "      <td>Sat</td>\n",
       "      <td>1</td>\n",
       "      <td>07:00</td>\n",
       "      <td>13:00</td>\n",
       "      <td>360.0</td>\n",
       "      <td>7</td>\n",
       "      <td>2022</td>\n",
       "    </tr>\n",
       "  </tbody>\n",
       "</table>\n",
       "<p>1596 rows × 8 columns</p>\n",
       "</div>"
      ],
      "text/plain": [
       "                          SITE_NAME DAY_OF_WEEK  PAY_VOL SHIFT_START  \\\n",
       "1510            Old Kents Hill Road         Mon        1       09:00   \n",
       "1061   Launch Drive Cobbosseecontee         Sun        1       13:00   \n",
       "2040  East Winthrop Cobbosseecontee         Thu        1       13:00   \n",
       "123               Whippoorwill Road         Sun        1       13:00   \n",
       "729    Rt 41 North Basin Maranacook         Sun        1       13:00   \n",
       "...                             ...         ...      ...         ...   \n",
       "1638  East Winthrop Cobbosseecontee         Tue        1       13:00   \n",
       "1095   Launch Drive Cobbosseecontee         Fri        1       07:00   \n",
       "1130   Rt 41 North Basin Maranacook         Sun        1       07:00   \n",
       "1294   Rt 41 North Basin Maranacook         Sun        1       13:00   \n",
       "860                    Thorofare Rd         Sat        1       07:00   \n",
       "\n",
       "     SHIFT_END  SHIFT_LENGTH  month  year  \n",
       "1510     19:00         600.0      5  2023  \n",
       "1061     19:00         360.0      7  2022  \n",
       "2040     19:00         360.0      8  2023  \n",
       "123      19:00         360.0      6  2021  \n",
       "729      19:00         360.0      6  2022  \n",
       "...        ...           ...    ...   ...  \n",
       "1638     19:00         360.0      6  2023  \n",
       "1095     13:00         360.0      7  2022  \n",
       "1130     13:00         360.0      7  2022  \n",
       "1294     19:00         360.0      8  2022  \n",
       "860      13:00         360.0      7  2022  \n",
       "\n",
       "[1596 rows x 8 columns]"
      ]
     },
     "execution_count": 37,
     "metadata": {},
     "output_type": "execute_result"
    }
   ],
   "source": [
    "X_train"
   ]
  },
  {
   "cell_type": "code",
   "execution_count": 12,
   "id": "92f245f2-3744-4753-ac3d-82342ec5c683",
   "metadata": {
    "tags": []
   },
   "outputs": [],
   "source": [
    "# Calculate the baseline r**2\n",
    "shift_df['y_preds'] = np.mean(shift_df.TOTALINSP)"
   ]
  },
  {
   "cell_type": "code",
   "execution_count": 13,
   "id": "fbae059a-f884-4879-9949-747832de013f",
   "metadata": {
    "tags": []
   },
   "outputs": [
    {
     "data": {
      "text/plain": [
       "294.8412280701754"
      ]
     },
     "execution_count": 13,
     "metadata": {},
     "output_type": "execute_result"
    }
   ],
   "source": [
    "metrics.mean_squared_error(shift_df.TOTALINSP, shift_df.y_preds)"
   ]
  },
  {
   "cell_type": "code",
   "execution_count": 15,
   "id": "842ac5d4-dca1-4bd7-96d6-611ab3d2bca1",
   "metadata": {
    "tags": []
   },
   "outputs": [
    {
     "data": {
      "text/plain": [
       "0.0"
      ]
     },
     "execution_count": 15,
     "metadata": {},
     "output_type": "execute_result"
    }
   ],
   "source": [
    "metrics.r2_score(shift_df.TOTALINSP, shift_df.y_preds)"
   ]
  },
  {
   "cell_type": "code",
   "execution_count": null,
   "id": "3d286aec-2877-4c58-993f-42596b9103e0",
   "metadata": {},
   "outputs": [],
   "source": [
    "# The baseline r2 is very low- 0"
   ]
  },
  {
   "cell_type": "code",
   "execution_count": 6,
   "id": "91a83b0c-70a1-464d-9db0-643b6c91ae59",
   "metadata": {
    "tags": []
   },
   "outputs": [],
   "source": [
    "categorical_columns = ['SITE_NAME', 'DAY_OF_WEEK', 'month', 'year']\n",
    "oh = OneHotEncoder(handle_unknown='ignore', drop='first')\n",
    "X_train_transformed = oh.fit_transform(X_train[categorical_columns])\n",
    "X_test_transformed= oh.transform(X_test[categorical_columns])"
   ]
  },
  {
   "cell_type": "code",
   "execution_count": 43,
   "id": "46f509bf-4cb6-4676-96a7-da8c172530d2",
   "metadata": {
    "tags": []
   },
   "outputs": [
    {
     "data": {
      "text/html": [
       "<style>#sk-container-id-1 {color: black;}#sk-container-id-1 pre{padding: 0;}#sk-container-id-1 div.sk-toggleable {background-color: white;}#sk-container-id-1 label.sk-toggleable__label {cursor: pointer;display: block;width: 100%;margin-bottom: 0;padding: 0.3em;box-sizing: border-box;text-align: center;}#sk-container-id-1 label.sk-toggleable__label-arrow:before {content: \"▸\";float: left;margin-right: 0.25em;color: #696969;}#sk-container-id-1 label.sk-toggleable__label-arrow:hover:before {color: black;}#sk-container-id-1 div.sk-estimator:hover label.sk-toggleable__label-arrow:before {color: black;}#sk-container-id-1 div.sk-toggleable__content {max-height: 0;max-width: 0;overflow: hidden;text-align: left;background-color: #f0f8ff;}#sk-container-id-1 div.sk-toggleable__content pre {margin: 0.2em;color: black;border-radius: 0.25em;background-color: #f0f8ff;}#sk-container-id-1 input.sk-toggleable__control:checked~div.sk-toggleable__content {max-height: 200px;max-width: 100%;overflow: auto;}#sk-container-id-1 input.sk-toggleable__control:checked~label.sk-toggleable__label-arrow:before {content: \"▾\";}#sk-container-id-1 div.sk-estimator input.sk-toggleable__control:checked~label.sk-toggleable__label {background-color: #d4ebff;}#sk-container-id-1 div.sk-label input.sk-toggleable__control:checked~label.sk-toggleable__label {background-color: #d4ebff;}#sk-container-id-1 input.sk-hidden--visually {border: 0;clip: rect(1px 1px 1px 1px);clip: rect(1px, 1px, 1px, 1px);height: 1px;margin: -1px;overflow: hidden;padding: 0;position: absolute;width: 1px;}#sk-container-id-1 div.sk-estimator {font-family: monospace;background-color: #f0f8ff;border: 1px dotted black;border-radius: 0.25em;box-sizing: border-box;margin-bottom: 0.5em;}#sk-container-id-1 div.sk-estimator:hover {background-color: #d4ebff;}#sk-container-id-1 div.sk-parallel-item::after {content: \"\";width: 100%;border-bottom: 1px solid gray;flex-grow: 1;}#sk-container-id-1 div.sk-label:hover label.sk-toggleable__label {background-color: #d4ebff;}#sk-container-id-1 div.sk-serial::before {content: \"\";position: absolute;border-left: 1px solid gray;box-sizing: border-box;top: 0;bottom: 0;left: 50%;z-index: 0;}#sk-container-id-1 div.sk-serial {display: flex;flex-direction: column;align-items: center;background-color: white;padding-right: 0.2em;padding-left: 0.2em;position: relative;}#sk-container-id-1 div.sk-item {position: relative;z-index: 1;}#sk-container-id-1 div.sk-parallel {display: flex;align-items: stretch;justify-content: center;background-color: white;position: relative;}#sk-container-id-1 div.sk-item::before, #sk-container-id-1 div.sk-parallel-item::before {content: \"\";position: absolute;border-left: 1px solid gray;box-sizing: border-box;top: 0;bottom: 0;left: 50%;z-index: -1;}#sk-container-id-1 div.sk-parallel-item {display: flex;flex-direction: column;z-index: 1;position: relative;background-color: white;}#sk-container-id-1 div.sk-parallel-item:first-child::after {align-self: flex-end;width: 50%;}#sk-container-id-1 div.sk-parallel-item:last-child::after {align-self: flex-start;width: 50%;}#sk-container-id-1 div.sk-parallel-item:only-child::after {width: 0;}#sk-container-id-1 div.sk-dashed-wrapped {border: 1px dashed gray;margin: 0 0.4em 0.5em 0.4em;box-sizing: border-box;padding-bottom: 0.4em;background-color: white;}#sk-container-id-1 div.sk-label label {font-family: monospace;font-weight: bold;display: inline-block;line-height: 1.2em;}#sk-container-id-1 div.sk-label-container {text-align: center;}#sk-container-id-1 div.sk-container {/* jupyter's `normalize.less` sets `[hidden] { display: none; }` but bootstrap.min.css set `[hidden] { display: none !important; }` so we also need the `!important` here to be able to override the default hidden behavior on the sphinx rendered scikit-learn.org. See: https://github.com/scikit-learn/scikit-learn/issues/21755 */display: inline-block !important;position: relative;}#sk-container-id-1 div.sk-text-repr-fallback {display: none;}</style><div id=\"sk-container-id-1\" class=\"sk-top-container\"><div class=\"sk-text-repr-fallback\"><pre>LinearRegression()</pre><b>In a Jupyter environment, please rerun this cell to show the HTML representation or trust the notebook. <br />On GitHub, the HTML representation is unable to render, please try loading this page with nbviewer.org.</b></div><div class=\"sk-container\" hidden><div class=\"sk-item\"><div class=\"sk-estimator sk-toggleable\"><input class=\"sk-toggleable__control sk-hidden--visually\" id=\"sk-estimator-id-1\" type=\"checkbox\" checked><label for=\"sk-estimator-id-1\" class=\"sk-toggleable__label sk-toggleable__label-arrow\">LinearRegression</label><div class=\"sk-toggleable__content\"><pre>LinearRegression()</pre></div></div></div></div></div>"
      ],
      "text/plain": [
       "LinearRegression()"
      ]
     },
     "execution_count": 43,
     "metadata": {},
     "output_type": "execute_result"
    }
   ],
   "source": [
    "# Basic Linear Regression Model\n",
    "lr = LinearRegression()\n",
    "lr.fit(X_train_transformed, y_train)"
   ]
  },
  {
   "cell_type": "code",
   "execution_count": 44,
   "id": "0c542433-111b-4375-a30b-c19d7e983ad5",
   "metadata": {
    "tags": []
   },
   "outputs": [
    {
     "data": {
      "text/plain": [
       "0.3142477893028155"
      ]
     },
     "execution_count": 44,
     "metadata": {},
     "output_type": "execute_result"
    }
   ],
   "source": [
    "lr.score(X_train_transformed, y_train)"
   ]
  },
  {
   "cell_type": "code",
   "execution_count": 46,
   "id": "2217d7a7-5d9d-4984-a1be-3983cc17a928",
   "metadata": {
    "tags": []
   },
   "outputs": [
    {
     "data": {
      "text/plain": [
       "0.26526984756509553"
      ]
     },
     "execution_count": 46,
     "metadata": {},
     "output_type": "execute_result"
    }
   ],
   "source": [
    "lr.score(X_test_transformed, y_test)"
   ]
  },
  {
   "cell_type": "code",
   "execution_count": null,
   "id": "53a069d3-76b2-4da6-aa93-6dd5d002792c",
   "metadata": {},
   "outputs": [],
   "source": []
  },
  {
   "cell_type": "code",
   "execution_count": 16,
   "id": "9c9208c7-b135-4bea-9124-2a722447485b",
   "metadata": {
    "tags": []
   },
   "outputs": [
    {
     "name": "stdout",
     "output_type": "stream",
     "text": [
      "0.5823881813796656\n",
      "0.28061943955375523\n"
     ]
    }
   ],
   "source": [
    "# Random forest model\n",
    "rf = RandomForestRegressor(n_estimators=100, n_jobs=2, random_state=42, oob_score=True)\n",
    "rf.fit(X_train_transformed, y_train)\n",
    "print(rf.score(X_train_transformed, y_train))\n",
    "print(rf.score(X_test_transformed, y_test))"
   ]
  },
  {
   "cell_type": "code",
   "execution_count": null,
   "id": "2d3edde8-a874-429f-9738-f6ce7ff558cd",
   "metadata": {},
   "outputs": [],
   "source": []
  },
  {
   "cell_type": "code",
   "execution_count": 17,
   "id": "94be441e-da3e-4422-99b3-17c77db4e7a7",
   "metadata": {
    "tags": []
   },
   "outputs": [
    {
     "name": "stdout",
     "output_type": "stream",
     "text": [
      "0.5982039094617482\n",
      "0.19747301885075785\n"
     ]
    }
   ],
   "source": [
    "# Extra Trees model\n",
    "et = ExtraTreesRegressor(n_estimators=100, n_jobs=2, random_state=42)\n",
    "et.fit(X_train_transformed, y_train)\n",
    "print(et.score(X_train_transformed, y_train))\n",
    "print(et.score(X_test_transformed, y_test))"
   ]
  },
  {
   "cell_type": "markdown",
   "id": "8b27b17a-62b4-4e21-9239-c1c5db9a6adc",
   "metadata": {},
   "source": [
    "Both tree models are very ovefit- adding regularization and gridsearching over to find best params could improve the models and improve the testing r2. However, despite being overfit, the random forest model with an r2 of .28 is promising. Both models are potentially decent starting points and using a combination of new data (weather) and feature engineering (holidays and inspector experience) could further improve the models' success. "
   ]
  },
  {
   "cell_type": "code",
   "execution_count": 20,
   "id": "e850db90-1a2f-4a2c-b739-73f5f7e817c4",
   "metadata": {
    "tags": []
   },
   "outputs": [
    {
     "name": "stdout",
     "output_type": "stream",
     "text": [
      "0.1631178499776783\n",
      "0.057888955598118574\n"
     ]
    }
   ],
   "source": [
    "# AdaBoost Model\n",
    "ada = AdaBoostRegressor()\n",
    "ada.fit(X_train_transformed, y_train)\n",
    "print(ada.score(X_train_transformed, y_train))\n",
    "print(ada.score(X_test_transformed, y_test))"
   ]
  },
  {
   "cell_type": "code",
   "execution_count": 22,
   "id": "c168fe7e-0803-4afa-9ae1-547826dc49de",
   "metadata": {
    "tags": []
   },
   "outputs": [
    {
     "name": "stdout",
     "output_type": "stream",
     "text": [
      "0.4110300421256725\n",
      "0.2711720175379255\n"
     ]
    }
   ],
   "source": [
    "# Gradient Boost Model\n",
    "grad = GradientBoostingRegressor()\n",
    "grad.fit(X_train_transformed, y_train)\n",
    "print(grad.score(X_train_transformed, y_train))\n",
    "print(grad.score(X_test_transformed, y_test))"
   ]
  },
  {
   "cell_type": "code",
   "execution_count": 27,
   "id": "bd8217b6-eb76-43e6-b627-c775734dbb23",
   "metadata": {
    "tags": []
   },
   "outputs": [
    {
     "ename": "ValueError",
     "evalue": "Cannot center sparse matrices: pass `with_mean=False` instead. See docstring for motivation and alternatives.",
     "output_type": "error",
     "traceback": [
      "\u001b[1;31m---------------------------------------------------------------------------\u001b[0m",
      "\u001b[1;31mValueError\u001b[0m                                Traceback (most recent call last)",
      "Cell \u001b[1;32mIn[27], line 3\u001b[0m\n\u001b[0;32m      1\u001b[0m \u001b[38;5;66;03m# KNN model\u001b[39;00m\n\u001b[0;32m      2\u001b[0m sc \u001b[38;5;241m=\u001b[39m StandardScaler(with_mean\u001b[38;5;241m=\u001b[39m\u001b[38;5;28;01mTrue\u001b[39;00m)\n\u001b[1;32m----> 3\u001b[0m sc\u001b[38;5;241m.\u001b[39mfit(X_train_transformed)\n\u001b[0;32m      4\u001b[0m X_train_sc \u001b[38;5;241m=\u001b[39m sc\u001b[38;5;241m.\u001b[39mtranform(X_train_transformed)\n\u001b[0;32m      5\u001b[0m X_test_sc \u001b[38;5;241m=\u001b[39m sc\u001b[38;5;241m.\u001b[39mtransform(X_test_transformed)\n",
      "File \u001b[1;32m~\\anaconda3\\Lib\\site-packages\\sklearn\\preprocessing\\_data.py:837\u001b[0m, in \u001b[0;36mStandardScaler.fit\u001b[1;34m(self, X, y, sample_weight)\u001b[0m\n\u001b[0;32m    835\u001b[0m \u001b[38;5;66;03m# Reset internal state before fitting\u001b[39;00m\n\u001b[0;32m    836\u001b[0m \u001b[38;5;28mself\u001b[39m\u001b[38;5;241m.\u001b[39m_reset()\n\u001b[1;32m--> 837\u001b[0m \u001b[38;5;28;01mreturn\u001b[39;00m \u001b[38;5;28mself\u001b[39m\u001b[38;5;241m.\u001b[39mpartial_fit(X, y, sample_weight)\n",
      "File \u001b[1;32m~\\anaconda3\\Lib\\site-packages\\sklearn\\base.py:1151\u001b[0m, in \u001b[0;36m_fit_context.<locals>.decorator.<locals>.wrapper\u001b[1;34m(estimator, *args, **kwargs)\u001b[0m\n\u001b[0;32m   1144\u001b[0m     estimator\u001b[38;5;241m.\u001b[39m_validate_params()\n\u001b[0;32m   1146\u001b[0m \u001b[38;5;28;01mwith\u001b[39;00m config_context(\n\u001b[0;32m   1147\u001b[0m     skip_parameter_validation\u001b[38;5;241m=\u001b[39m(\n\u001b[0;32m   1148\u001b[0m         prefer_skip_nested_validation \u001b[38;5;129;01mor\u001b[39;00m global_skip_validation\n\u001b[0;32m   1149\u001b[0m     )\n\u001b[0;32m   1150\u001b[0m ):\n\u001b[1;32m-> 1151\u001b[0m     \u001b[38;5;28;01mreturn\u001b[39;00m fit_method(estimator, \u001b[38;5;241m*\u001b[39margs, \u001b[38;5;241m*\u001b[39m\u001b[38;5;241m*\u001b[39mkwargs)\n",
      "File \u001b[1;32m~\\anaconda3\\Lib\\site-packages\\sklearn\\preprocessing\\_data.py:901\u001b[0m, in \u001b[0;36mStandardScaler.partial_fit\u001b[1;34m(self, X, y, sample_weight)\u001b[0m\n\u001b[0;32m    899\u001b[0m \u001b[38;5;28;01mif\u001b[39;00m sparse\u001b[38;5;241m.\u001b[39missparse(X):\n\u001b[0;32m    900\u001b[0m     \u001b[38;5;28;01mif\u001b[39;00m \u001b[38;5;28mself\u001b[39m\u001b[38;5;241m.\u001b[39mwith_mean:\n\u001b[1;32m--> 901\u001b[0m         \u001b[38;5;28;01mraise\u001b[39;00m \u001b[38;5;167;01mValueError\u001b[39;00m(\n\u001b[0;32m    902\u001b[0m             \u001b[38;5;124m\"\u001b[39m\u001b[38;5;124mCannot center sparse matrices: pass `with_mean=False` \u001b[39m\u001b[38;5;124m\"\u001b[39m\n\u001b[0;32m    903\u001b[0m             \u001b[38;5;124m\"\u001b[39m\u001b[38;5;124minstead. See docstring for motivation and alternatives.\u001b[39m\u001b[38;5;124m\"\u001b[39m\n\u001b[0;32m    904\u001b[0m         )\n\u001b[0;32m    905\u001b[0m     sparse_constructor \u001b[38;5;241m=\u001b[39m (\n\u001b[0;32m    906\u001b[0m         sparse\u001b[38;5;241m.\u001b[39mcsr_matrix \u001b[38;5;28;01mif\u001b[39;00m X\u001b[38;5;241m.\u001b[39mformat \u001b[38;5;241m==\u001b[39m \u001b[38;5;124m\"\u001b[39m\u001b[38;5;124mcsr\u001b[39m\u001b[38;5;124m\"\u001b[39m \u001b[38;5;28;01melse\u001b[39;00m sparse\u001b[38;5;241m.\u001b[39mcsc_matrix\n\u001b[0;32m    907\u001b[0m     )\n\u001b[0;32m    909\u001b[0m     \u001b[38;5;28;01mif\u001b[39;00m \u001b[38;5;28mself\u001b[39m\u001b[38;5;241m.\u001b[39mwith_std:\n\u001b[0;32m    910\u001b[0m         \u001b[38;5;66;03m# First pass\u001b[39;00m\n",
      "\u001b[1;31mValueError\u001b[0m: Cannot center sparse matrices: pass `with_mean=False` instead. See docstring for motivation and alternatives."
     ]
    }
   ],
   "source": [
    "# KNN model\n",
    "sc = StandardScaler()\n",
    "sc.fit(X_train_transformed)\n",
    "X_train_sc = sc.tranform(X_train_transformed)\n",
    "X_test_sc = sc.transform(X_test_transformed)\n",
    "\n",
    "knn = KNeighborsRegressor()\n",
    "knn.fit(X_train_sc, y_train)\n",
    "print(knn.score(X_train_sc, y_train))\n",
    "print(knn.score(X_test_sc, y_test))"
   ]
  },
  {
   "cell_type": "code",
   "execution_count": null,
   "id": "433104e9-fc78-483e-955c-d028ae3120e9",
   "metadata": {},
   "outputs": [],
   "source": []
  },
  {
   "cell_type": "code",
   "execution_count": null,
   "id": "2702ca4d-d23e-418d-b050-fe17c993e575",
   "metadata": {},
   "outputs": [],
   "source": []
  },
  {
   "cell_type": "code",
   "execution_count": 2,
   "id": "c52a266a-2b6b-4202-be6b-07e3b428ce9e",
   "metadata": {},
   "outputs": [],
   "source": [
    "# Initial model with weather\n",
    "\n",
    "df = pd.read_csv('data/df_with_weather.csv')"
   ]
  },
  {
   "cell_type": "code",
   "execution_count": 3,
   "id": "7306d7ea-22a1-4493-85b6-e417c0b0956d",
   "metadata": {
    "tags": []
   },
   "outputs": [
    {
     "data": {
      "text/html": [
       "<div>\n",
       "<style scoped>\n",
       "    .dataframe tbody tr th:only-of-type {\n",
       "        vertical-align: middle;\n",
       "    }\n",
       "\n",
       "    .dataframe tbody tr th {\n",
       "        vertical-align: top;\n",
       "    }\n",
       "\n",
       "    .dataframe thead th {\n",
       "        text-align: right;\n",
       "    }\n",
       "</style>\n",
       "<table border=\"1\" class=\"dataframe\">\n",
       "  <thead>\n",
       "    <tr style=\"text-align: right;\">\n",
       "      <th></th>\n",
       "      <th>DATE1</th>\n",
       "      <th>DAY_OF_WEEK</th>\n",
       "      <th>SITE_NAME</th>\n",
       "      <th>TOWN</th>\n",
       "      <th>WATERBODY</th>\n",
       "      <th>INSPECTOR_ID</th>\n",
       "      <th>PAY_VOL</th>\n",
       "      <th>SHIFT_START</th>\n",
       "      <th>TRAILERS</th>\n",
       "      <th>SHIFT_END</th>\n",
       "      <th>SHIFT_LENGTH</th>\n",
       "      <th>TOTALINSP</th>\n",
       "      <th>PRCP</th>\n",
       "      <th>TMAX</th>\n",
       "      <th>TMIN</th>\n",
       "      <th>TOBS</th>\n",
       "    </tr>\n",
       "  </thead>\n",
       "  <tbody>\n",
       "    <tr>\n",
       "      <th>0</th>\n",
       "      <td>2021-05-28</td>\n",
       "      <td>Fri</td>\n",
       "      <td>Launch Drive</td>\n",
       "      <td>Monmouth</td>\n",
       "      <td>Cobbosseecontee Lake</td>\n",
       "      <td>4771</td>\n",
       "      <td>Paid</td>\n",
       "      <td>12:00</td>\n",
       "      <td>10.0</td>\n",
       "      <td>18:00</td>\n",
       "      <td>360</td>\n",
       "      <td>33.0</td>\n",
       "      <td>0.00</td>\n",
       "      <td>72.0</td>\n",
       "      <td>45.0</td>\n",
       "      <td>49.0</td>\n",
       "    </tr>\n",
       "    <tr>\n",
       "      <th>1</th>\n",
       "      <td>2021-05-28</td>\n",
       "      <td>Fri</td>\n",
       "      <td>Whippoorwill Road</td>\n",
       "      <td>Litchfield</td>\n",
       "      <td>Woodbury Pond</td>\n",
       "      <td>4174</td>\n",
       "      <td>Paid</td>\n",
       "      <td>12:00</td>\n",
       "      <td>1.0</td>\n",
       "      <td>18:00</td>\n",
       "      <td>360</td>\n",
       "      <td>13.0</td>\n",
       "      <td>0.00</td>\n",
       "      <td>72.0</td>\n",
       "      <td>45.0</td>\n",
       "      <td>49.0</td>\n",
       "    </tr>\n",
       "    <tr>\n",
       "      <th>2</th>\n",
       "      <td>2021-05-28</td>\n",
       "      <td>Fri</td>\n",
       "      <td>Augusta West Kampground</td>\n",
       "      <td>Winthrop</td>\n",
       "      <td>Annabessacook Lake</td>\n",
       "      <td>4769</td>\n",
       "      <td>Paid</td>\n",
       "      <td>12:00</td>\n",
       "      <td>0.0</td>\n",
       "      <td>18:00</td>\n",
       "      <td>360</td>\n",
       "      <td>1.0</td>\n",
       "      <td>0.00</td>\n",
       "      <td>72.0</td>\n",
       "      <td>45.0</td>\n",
       "      <td>49.0</td>\n",
       "    </tr>\n",
       "    <tr>\n",
       "      <th>3</th>\n",
       "      <td>2021-05-28</td>\n",
       "      <td>Fri</td>\n",
       "      <td>East Winthrop</td>\n",
       "      <td>Winthrop</td>\n",
       "      <td>Cobbosseecontee Lake</td>\n",
       "      <td>4485</td>\n",
       "      <td>Paid</td>\n",
       "      <td>12:00</td>\n",
       "      <td>1.0</td>\n",
       "      <td>18:00</td>\n",
       "      <td>360</td>\n",
       "      <td>2.0</td>\n",
       "      <td>0.00</td>\n",
       "      <td>72.0</td>\n",
       "      <td>45.0</td>\n",
       "      <td>49.0</td>\n",
       "    </tr>\n",
       "    <tr>\n",
       "      <th>4</th>\n",
       "      <td>2021-05-29</td>\n",
       "      <td>Sat</td>\n",
       "      <td>Thorofare Rd</td>\n",
       "      <td>Litchfield</td>\n",
       "      <td>Pleasant Pond</td>\n",
       "      <td>4944</td>\n",
       "      <td>Paid</td>\n",
       "      <td>7:00</td>\n",
       "      <td>1.0</td>\n",
       "      <td>17:00</td>\n",
       "      <td>600</td>\n",
       "      <td>11.0</td>\n",
       "      <td>0.02</td>\n",
       "      <td>62.0</td>\n",
       "      <td>45.0</td>\n",
       "      <td>46.0</td>\n",
       "    </tr>\n",
       "  </tbody>\n",
       "</table>\n",
       "</div>"
      ],
      "text/plain": [
       "        DATE1 DAY_OF_WEEK                SITE_NAME        TOWN  \\\n",
       "0  2021-05-28         Fri             Launch Drive    Monmouth   \n",
       "1  2021-05-28         Fri        Whippoorwill Road  Litchfield   \n",
       "2  2021-05-28         Fri  Augusta West Kampground    Winthrop   \n",
       "3  2021-05-28         Fri            East Winthrop    Winthrop   \n",
       "4  2021-05-29         Sat             Thorofare Rd  Litchfield   \n",
       "\n",
       "              WATERBODY  INSPECTOR_ID PAY_VOL SHIFT_START  TRAILERS SHIFT_END  \\\n",
       "0  Cobbosseecontee Lake          4771    Paid       12:00      10.0     18:00   \n",
       "1         Woodbury Pond          4174    Paid       12:00       1.0     18:00   \n",
       "2    Annabessacook Lake          4769    Paid       12:00       0.0     18:00   \n",
       "3  Cobbosseecontee Lake          4485    Paid       12:00       1.0     18:00   \n",
       "4         Pleasant Pond          4944    Paid        7:00       1.0     17:00   \n",
       "\n",
       "   SHIFT_LENGTH  TOTALINSP  PRCP  TMAX  TMIN  TOBS  \n",
       "0           360       33.0  0.00  72.0  45.0  49.0  \n",
       "1           360       13.0  0.00  72.0  45.0  49.0  \n",
       "2           360        1.0  0.00  72.0  45.0  49.0  \n",
       "3           360        2.0  0.00  72.0  45.0  49.0  \n",
       "4           600       11.0  0.02  62.0  45.0  46.0  "
      ]
     },
     "execution_count": 3,
     "metadata": {},
     "output_type": "execute_result"
    }
   ],
   "source": [
    "df.head()"
   ]
  },
  {
   "cell_type": "code",
   "execution_count": 96,
   "id": "53d6fa3a-864e-4e62-8818-94042504e08d",
   "metadata": {
    "tags": []
   },
   "outputs": [],
   "source": [
    "df.drop(columns=['TRAILERS'], inplace=True)"
   ]
  },
  {
   "cell_type": "code",
   "execution_count": 97,
   "id": "4b8e4bf7-9aa1-470c-a7b7-5070c2a4fa20",
   "metadata": {
    "tags": []
   },
   "outputs": [
    {
     "data": {
      "text/plain": [
       "DATE1            0\n",
       "DAY_OF_WEEK      0\n",
       "SITE_NAME        0\n",
       "TOWN             0\n",
       "WATERBODY        0\n",
       "INSPECTOR_ID     0\n",
       "PAY_VOL          0\n",
       "SHIFT_START      0\n",
       "SHIFT_END        0\n",
       "SHIFT_LENGTH     0\n",
       "TOTALINSP        2\n",
       "PRCP            27\n",
       "TMAX            91\n",
       "TMIN            95\n",
       "TOBS            55\n",
       "dtype: int64"
      ]
     },
     "execution_count": 97,
     "metadata": {},
     "output_type": "execute_result"
    }
   ],
   "source": [
    "df.isna().sum()"
   ]
  },
  {
   "cell_type": "code",
   "execution_count": 98,
   "id": "4acce550-45ee-41f2-94a8-48af5899121c",
   "metadata": {
    "tags": []
   },
   "outputs": [
    {
     "data": {
      "text/plain": [
       "(2669, 15)"
      ]
     },
     "execution_count": 98,
     "metadata": {},
     "output_type": "execute_result"
    }
   ],
   "source": [
    "df.shape"
   ]
  },
  {
   "cell_type": "code",
   "execution_count": 99,
   "id": "3e3416dc-0a38-4072-aab3-4fc88d9d94b8",
   "metadata": {
    "tags": []
   },
   "outputs": [],
   "source": [
    "df.dropna(inplace=True)"
   ]
  },
  {
   "cell_type": "code",
   "execution_count": 100,
   "id": "5be123fd-4aef-4d8b-b984-cb93c7d810b1",
   "metadata": {
    "tags": []
   },
   "outputs": [
    {
     "data": {
      "text/plain": [
       "DATE1           0\n",
       "DAY_OF_WEEK     0\n",
       "SITE_NAME       0\n",
       "TOWN            0\n",
       "WATERBODY       0\n",
       "INSPECTOR_ID    0\n",
       "PAY_VOL         0\n",
       "SHIFT_START     0\n",
       "SHIFT_END       0\n",
       "SHIFT_LENGTH    0\n",
       "TOTALINSP       0\n",
       "PRCP            0\n",
       "TMAX            0\n",
       "TMIN            0\n",
       "TOBS            0\n",
       "dtype: int64"
      ]
     },
     "execution_count": 100,
     "metadata": {},
     "output_type": "execute_result"
    }
   ],
   "source": [
    "df.isna().sum()"
   ]
  },
  {
   "cell_type": "code",
   "execution_count": 101,
   "id": "cc984333-1a09-4690-b294-c3f5f1f83a27",
   "metadata": {
    "tags": []
   },
   "outputs": [
    {
     "data": {
      "text/plain": [
       "(2565, 15)"
      ]
     },
     "execution_count": 101,
     "metadata": {},
     "output_type": "execute_result"
    }
   ],
   "source": [
    "df.shape"
   ]
  },
  {
   "cell_type": "code",
   "execution_count": 102,
   "id": "3563a2bb-08ab-4c0f-8c3d-325183999f7f",
   "metadata": {
    "tags": []
   },
   "outputs": [
    {
     "data": {
      "text/html": [
       "<div>\n",
       "<style scoped>\n",
       "    .dataframe tbody tr th:only-of-type {\n",
       "        vertical-align: middle;\n",
       "    }\n",
       "\n",
       "    .dataframe tbody tr th {\n",
       "        vertical-align: top;\n",
       "    }\n",
       "\n",
       "    .dataframe thead th {\n",
       "        text-align: right;\n",
       "    }\n",
       "</style>\n",
       "<table border=\"1\" class=\"dataframe\">\n",
       "  <thead>\n",
       "    <tr style=\"text-align: right;\">\n",
       "      <th></th>\n",
       "      <th>DATE1</th>\n",
       "      <th>DAY_OF_WEEK</th>\n",
       "      <th>SITE_NAME</th>\n",
       "      <th>TOWN</th>\n",
       "      <th>WATERBODY</th>\n",
       "      <th>INSPECTOR_ID</th>\n",
       "      <th>PAY_VOL</th>\n",
       "      <th>SHIFT_START</th>\n",
       "      <th>SHIFT_END</th>\n",
       "      <th>SHIFT_LENGTH</th>\n",
       "      <th>TOTALINSP</th>\n",
       "      <th>PRCP</th>\n",
       "      <th>TMAX</th>\n",
       "      <th>TMIN</th>\n",
       "      <th>TOBS</th>\n",
       "    </tr>\n",
       "  </thead>\n",
       "  <tbody>\n",
       "    <tr>\n",
       "      <th>0</th>\n",
       "      <td>2021-05-28</td>\n",
       "      <td>Fri</td>\n",
       "      <td>Launch Drive</td>\n",
       "      <td>Monmouth</td>\n",
       "      <td>Cobbosseecontee Lake</td>\n",
       "      <td>4771</td>\n",
       "      <td>Paid</td>\n",
       "      <td>12:00</td>\n",
       "      <td>18:00</td>\n",
       "      <td>360</td>\n",
       "      <td>33.0</td>\n",
       "      <td>0.00</td>\n",
       "      <td>72.0</td>\n",
       "      <td>45.0</td>\n",
       "      <td>49.0</td>\n",
       "    </tr>\n",
       "    <tr>\n",
       "      <th>1</th>\n",
       "      <td>2021-05-28</td>\n",
       "      <td>Fri</td>\n",
       "      <td>Whippoorwill Road</td>\n",
       "      <td>Litchfield</td>\n",
       "      <td>Woodbury Pond</td>\n",
       "      <td>4174</td>\n",
       "      <td>Paid</td>\n",
       "      <td>12:00</td>\n",
       "      <td>18:00</td>\n",
       "      <td>360</td>\n",
       "      <td>13.0</td>\n",
       "      <td>0.00</td>\n",
       "      <td>72.0</td>\n",
       "      <td>45.0</td>\n",
       "      <td>49.0</td>\n",
       "    </tr>\n",
       "    <tr>\n",
       "      <th>2</th>\n",
       "      <td>2021-05-28</td>\n",
       "      <td>Fri</td>\n",
       "      <td>Augusta West Kampground</td>\n",
       "      <td>Winthrop</td>\n",
       "      <td>Annabessacook Lake</td>\n",
       "      <td>4769</td>\n",
       "      <td>Paid</td>\n",
       "      <td>12:00</td>\n",
       "      <td>18:00</td>\n",
       "      <td>360</td>\n",
       "      <td>1.0</td>\n",
       "      <td>0.00</td>\n",
       "      <td>72.0</td>\n",
       "      <td>45.0</td>\n",
       "      <td>49.0</td>\n",
       "    </tr>\n",
       "    <tr>\n",
       "      <th>3</th>\n",
       "      <td>2021-05-28</td>\n",
       "      <td>Fri</td>\n",
       "      <td>East Winthrop</td>\n",
       "      <td>Winthrop</td>\n",
       "      <td>Cobbosseecontee Lake</td>\n",
       "      <td>4485</td>\n",
       "      <td>Paid</td>\n",
       "      <td>12:00</td>\n",
       "      <td>18:00</td>\n",
       "      <td>360</td>\n",
       "      <td>2.0</td>\n",
       "      <td>0.00</td>\n",
       "      <td>72.0</td>\n",
       "      <td>45.0</td>\n",
       "      <td>49.0</td>\n",
       "    </tr>\n",
       "    <tr>\n",
       "      <th>4</th>\n",
       "      <td>2021-05-29</td>\n",
       "      <td>Sat</td>\n",
       "      <td>Thorofare Rd</td>\n",
       "      <td>Litchfield</td>\n",
       "      <td>Pleasant Pond</td>\n",
       "      <td>4944</td>\n",
       "      <td>Paid</td>\n",
       "      <td>7:00</td>\n",
       "      <td>17:00</td>\n",
       "      <td>600</td>\n",
       "      <td>11.0</td>\n",
       "      <td>0.02</td>\n",
       "      <td>62.0</td>\n",
       "      <td>45.0</td>\n",
       "      <td>46.0</td>\n",
       "    </tr>\n",
       "  </tbody>\n",
       "</table>\n",
       "</div>"
      ],
      "text/plain": [
       "        DATE1 DAY_OF_WEEK                SITE_NAME        TOWN  \\\n",
       "0  2021-05-28         Fri             Launch Drive    Monmouth   \n",
       "1  2021-05-28         Fri        Whippoorwill Road  Litchfield   \n",
       "2  2021-05-28         Fri  Augusta West Kampground    Winthrop   \n",
       "3  2021-05-28         Fri            East Winthrop    Winthrop   \n",
       "4  2021-05-29         Sat             Thorofare Rd  Litchfield   \n",
       "\n",
       "              WATERBODY  INSPECTOR_ID PAY_VOL SHIFT_START SHIFT_END  \\\n",
       "0  Cobbosseecontee Lake          4771    Paid       12:00     18:00   \n",
       "1         Woodbury Pond          4174    Paid       12:00     18:00   \n",
       "2    Annabessacook Lake          4769    Paid       12:00     18:00   \n",
       "3  Cobbosseecontee Lake          4485    Paid       12:00     18:00   \n",
       "4         Pleasant Pond          4944    Paid        7:00     17:00   \n",
       "\n",
       "   SHIFT_LENGTH  TOTALINSP  PRCP  TMAX  TMIN  TOBS  \n",
       "0           360       33.0  0.00  72.0  45.0  49.0  \n",
       "1           360       13.0  0.00  72.0  45.0  49.0  \n",
       "2           360        1.0  0.00  72.0  45.0  49.0  \n",
       "3           360        2.0  0.00  72.0  45.0  49.0  \n",
       "4           600       11.0  0.02  62.0  45.0  46.0  "
      ]
     },
     "execution_count": 102,
     "metadata": {},
     "output_type": "execute_result"
    }
   ],
   "source": [
    "df.head()"
   ]
  },
  {
   "cell_type": "code",
   "execution_count": 103,
   "id": "76a934c0-15ee-452b-b927-54724c464eb2",
   "metadata": {
    "tags": []
   },
   "outputs": [],
   "source": [
    "# Convert 'date1' to datetime\n",
    "df['DATE'] = pd.to_datetime(df['DATE1'], format='%Y/%m/%d')\n",
    "\n",
    "# Create 'month' and 'year' columns\n",
    "df['month'] = df['DATE'].dt.month\n",
    "df['year'] = df['DATE'].dt.year"
   ]
  },
  {
   "cell_type": "code",
   "execution_count": 104,
   "id": "08643394-b41d-4d20-8a7e-076ef5b24629",
   "metadata": {
    "tags": []
   },
   "outputs": [
    {
     "data": {
      "text/html": [
       "<div>\n",
       "<style scoped>\n",
       "    .dataframe tbody tr th:only-of-type {\n",
       "        vertical-align: middle;\n",
       "    }\n",
       "\n",
       "    .dataframe tbody tr th {\n",
       "        vertical-align: top;\n",
       "    }\n",
       "\n",
       "    .dataframe thead th {\n",
       "        text-align: right;\n",
       "    }\n",
       "</style>\n",
       "<table border=\"1\" class=\"dataframe\">\n",
       "  <thead>\n",
       "    <tr style=\"text-align: right;\">\n",
       "      <th></th>\n",
       "      <th>DATE1</th>\n",
       "      <th>DAY_OF_WEEK</th>\n",
       "      <th>SITE_NAME</th>\n",
       "      <th>TOWN</th>\n",
       "      <th>WATERBODY</th>\n",
       "      <th>INSPECTOR_ID</th>\n",
       "      <th>PAY_VOL</th>\n",
       "      <th>SHIFT_START</th>\n",
       "      <th>SHIFT_END</th>\n",
       "      <th>SHIFT_LENGTH</th>\n",
       "      <th>TOTALINSP</th>\n",
       "      <th>PRCP</th>\n",
       "      <th>TMAX</th>\n",
       "      <th>TMIN</th>\n",
       "      <th>TOBS</th>\n",
       "      <th>DATE</th>\n",
       "      <th>month</th>\n",
       "      <th>year</th>\n",
       "    </tr>\n",
       "  </thead>\n",
       "  <tbody>\n",
       "    <tr>\n",
       "      <th>0</th>\n",
       "      <td>2021-05-28</td>\n",
       "      <td>Fri</td>\n",
       "      <td>Launch Drive</td>\n",
       "      <td>Monmouth</td>\n",
       "      <td>Cobbosseecontee Lake</td>\n",
       "      <td>4771</td>\n",
       "      <td>Paid</td>\n",
       "      <td>12:00</td>\n",
       "      <td>18:00</td>\n",
       "      <td>360</td>\n",
       "      <td>33.0</td>\n",
       "      <td>0.00</td>\n",
       "      <td>72.0</td>\n",
       "      <td>45.0</td>\n",
       "      <td>49.0</td>\n",
       "      <td>2021-05-28</td>\n",
       "      <td>5</td>\n",
       "      <td>2021</td>\n",
       "    </tr>\n",
       "    <tr>\n",
       "      <th>1</th>\n",
       "      <td>2021-05-28</td>\n",
       "      <td>Fri</td>\n",
       "      <td>Whippoorwill Road</td>\n",
       "      <td>Litchfield</td>\n",
       "      <td>Woodbury Pond</td>\n",
       "      <td>4174</td>\n",
       "      <td>Paid</td>\n",
       "      <td>12:00</td>\n",
       "      <td>18:00</td>\n",
       "      <td>360</td>\n",
       "      <td>13.0</td>\n",
       "      <td>0.00</td>\n",
       "      <td>72.0</td>\n",
       "      <td>45.0</td>\n",
       "      <td>49.0</td>\n",
       "      <td>2021-05-28</td>\n",
       "      <td>5</td>\n",
       "      <td>2021</td>\n",
       "    </tr>\n",
       "    <tr>\n",
       "      <th>2</th>\n",
       "      <td>2021-05-28</td>\n",
       "      <td>Fri</td>\n",
       "      <td>Augusta West Kampground</td>\n",
       "      <td>Winthrop</td>\n",
       "      <td>Annabessacook Lake</td>\n",
       "      <td>4769</td>\n",
       "      <td>Paid</td>\n",
       "      <td>12:00</td>\n",
       "      <td>18:00</td>\n",
       "      <td>360</td>\n",
       "      <td>1.0</td>\n",
       "      <td>0.00</td>\n",
       "      <td>72.0</td>\n",
       "      <td>45.0</td>\n",
       "      <td>49.0</td>\n",
       "      <td>2021-05-28</td>\n",
       "      <td>5</td>\n",
       "      <td>2021</td>\n",
       "    </tr>\n",
       "    <tr>\n",
       "      <th>3</th>\n",
       "      <td>2021-05-28</td>\n",
       "      <td>Fri</td>\n",
       "      <td>East Winthrop</td>\n",
       "      <td>Winthrop</td>\n",
       "      <td>Cobbosseecontee Lake</td>\n",
       "      <td>4485</td>\n",
       "      <td>Paid</td>\n",
       "      <td>12:00</td>\n",
       "      <td>18:00</td>\n",
       "      <td>360</td>\n",
       "      <td>2.0</td>\n",
       "      <td>0.00</td>\n",
       "      <td>72.0</td>\n",
       "      <td>45.0</td>\n",
       "      <td>49.0</td>\n",
       "      <td>2021-05-28</td>\n",
       "      <td>5</td>\n",
       "      <td>2021</td>\n",
       "    </tr>\n",
       "    <tr>\n",
       "      <th>4</th>\n",
       "      <td>2021-05-29</td>\n",
       "      <td>Sat</td>\n",
       "      <td>Thorofare Rd</td>\n",
       "      <td>Litchfield</td>\n",
       "      <td>Pleasant Pond</td>\n",
       "      <td>4944</td>\n",
       "      <td>Paid</td>\n",
       "      <td>7:00</td>\n",
       "      <td>17:00</td>\n",
       "      <td>600</td>\n",
       "      <td>11.0</td>\n",
       "      <td>0.02</td>\n",
       "      <td>62.0</td>\n",
       "      <td>45.0</td>\n",
       "      <td>46.0</td>\n",
       "      <td>2021-05-29</td>\n",
       "      <td>5</td>\n",
       "      <td>2021</td>\n",
       "    </tr>\n",
       "  </tbody>\n",
       "</table>\n",
       "</div>"
      ],
      "text/plain": [
       "        DATE1 DAY_OF_WEEK                SITE_NAME        TOWN  \\\n",
       "0  2021-05-28         Fri             Launch Drive    Monmouth   \n",
       "1  2021-05-28         Fri        Whippoorwill Road  Litchfield   \n",
       "2  2021-05-28         Fri  Augusta West Kampground    Winthrop   \n",
       "3  2021-05-28         Fri            East Winthrop    Winthrop   \n",
       "4  2021-05-29         Sat             Thorofare Rd  Litchfield   \n",
       "\n",
       "              WATERBODY  INSPECTOR_ID PAY_VOL SHIFT_START SHIFT_END  \\\n",
       "0  Cobbosseecontee Lake          4771    Paid       12:00     18:00   \n",
       "1         Woodbury Pond          4174    Paid       12:00     18:00   \n",
       "2    Annabessacook Lake          4769    Paid       12:00     18:00   \n",
       "3  Cobbosseecontee Lake          4485    Paid       12:00     18:00   \n",
       "4         Pleasant Pond          4944    Paid        7:00     17:00   \n",
       "\n",
       "   SHIFT_LENGTH  TOTALINSP  PRCP  TMAX  TMIN  TOBS       DATE  month  year  \n",
       "0           360       33.0  0.00  72.0  45.0  49.0 2021-05-28      5  2021  \n",
       "1           360       13.0  0.00  72.0  45.0  49.0 2021-05-28      5  2021  \n",
       "2           360        1.0  0.00  72.0  45.0  49.0 2021-05-28      5  2021  \n",
       "3           360        2.0  0.00  72.0  45.0  49.0 2021-05-28      5  2021  \n",
       "4           600       11.0  0.02  62.0  45.0  46.0 2021-05-29      5  2021  "
      ]
     },
     "execution_count": 104,
     "metadata": {},
     "output_type": "execute_result"
    }
   ],
   "source": [
    "df.head()"
   ]
  },
  {
   "cell_type": "code",
   "execution_count": 105,
   "id": "d5214dd4-8d2a-4851-bf6c-953ca1fd1ce5",
   "metadata": {
    "tags": []
   },
   "outputs": [],
   "source": [
    "df.SHIFT_START = pd.to_datetime(df.SHIFT_START, format='%H:%M')"
   ]
  },
  {
   "cell_type": "code",
   "execution_count": 106,
   "id": "efb4160b-d9a7-4a8e-ac0e-b75321fecb18",
   "metadata": {
    "tags": []
   },
   "outputs": [],
   "source": [
    "df.SHIFT_END = pd.to_datetime(df.SHIFT_END)"
   ]
  },
  {
   "cell_type": "code",
   "execution_count": 107,
   "id": "1f90cb88-33c7-4517-a613-a42588a0a0d5",
   "metadata": {
    "tags": []
   },
   "outputs": [],
   "source": [
    "X = df.drop(columns=['DATE1', 'TOWN', 'WATERBODY', 'INSPECTOR_ID', 'TOTALINSP', 'TOBS', 'DATE'])\n",
    "y = df.TOTALINSP            "
   ]
  },
  {
   "cell_type": "code",
   "execution_count": 108,
   "id": "16f15fd8-b02a-49bf-8dd7-4ebce55079ec",
   "metadata": {
    "tags": []
   },
   "outputs": [],
   "source": [
    "X_train, X_test, y_train, y_test = train_test_split(X, y, random_state=42, test_size=.2)"
   ]
  },
  {
   "cell_type": "code",
   "execution_count": 109,
   "id": "9e6a3498-f143-456b-bea8-bc3124718a38",
   "metadata": {
    "tags": []
   },
   "outputs": [],
   "source": [
    "categorical_columns = ['SITE_NAME', 'DAY_OF_WEEK', 'month', 'year', 'PAY_VOL']\n",
    "oh = OneHotEncoder(handle_unknown='ignore', drop='first')\n",
    "X_train_transformed = oh.fit_transform(X_train[categorical_columns])\n",
    "X_test_transformed= oh.transform(X_test[categorical_columns])"
   ]
  },
  {
   "cell_type": "code",
   "execution_count": 110,
   "id": "0ae5ba6d-c369-4ace-a250-b8b7ec052f14",
   "metadata": {
    "tags": []
   },
   "outputs": [
    {
     "name": "stdout",
     "output_type": "stream",
     "text": [
      "0.3513358726642821\n",
      "0.33841873049366566\n"
     ]
    }
   ],
   "source": [
    "lr = LinearRegression()\n",
    "lr.fit(X_train_transformed, y_train)\n",
    "print(lr.score(X_train_transformed, y_train))\n",
    "print(lr.score(X_test_transformed, y_test))"
   ]
  },
  {
   "cell_type": "code",
   "execution_count": 111,
   "id": "780afcbe-adb9-44a6-baba-2c2e729b4e51",
   "metadata": {
    "tags": []
   },
   "outputs": [
    {
     "name": "stdout",
     "output_type": "stream",
     "text": [
      "0.6434682293497731\n",
      "0.3232590228474176\n"
     ]
    }
   ],
   "source": [
    "rf = RandomForestRegressor()\n",
    "rf.fit(X_train_transformed, y_train)\n",
    "print(rf.score(X_train_transformed, y_train))\n",
    "print(rf.score(X_test_transformed, y_test))      "
   ]
  },
  {
   "cell_type": "code",
   "execution_count": 112,
   "id": "b0dc4878-af9e-4b0d-bccd-c0daaba62015",
   "metadata": {
    "tags": []
   },
   "outputs": [
    {
     "name": "stdout",
     "output_type": "stream",
     "text": [
      "0.6573212547527139\n",
      "0.25420966053172644\n"
     ]
    }
   ],
   "source": [
    "et = ExtraTreesRegressor()\n",
    "et.fit(X_train_transformed, y_train)\n",
    "print(et.score(X_train_transformed, y_train))\n",
    "print(et.score(X_test_transformed, y_test))"
   ]
  },
  {
   "cell_type": "markdown",
   "id": "d353607d-cd94-46e3-a175-c46c608e2c34",
   "metadata": {},
   "source": [
    "From these initial models, adding weather data seems to improve the model performance significantly. The models become significantly less overgit. The next step will be to try to add in the holidays as another column, and then to use feature engineering with shift length, shift start and shift end to attempt to somehow capture time of day.\n",
    "\n",
    "The models were all less overfit, however the tree models are still overfit. Parameter optimization could help reduce the overfit as well to balance out the metrics of the tree based models between the training and test scores. "
   ]
  },
  {
   "cell_type": "markdown",
   "id": "b01056f5-dadb-4e32-a143-c69fc7f86d81",
   "metadata": {},
   "source": [
    "#### Feature Engineering Options:\n",
    "- Transform the shift_start and end_shift columns from numbers to a categorical column of morning, late morning, afternoon, late afternoon, and evening\n",
    "- Interaction variables?\n",
    "- Holidays"
   ]
  },
  {
   "cell_type": "code",
   "execution_count": 113,
   "id": "2229035a-566f-4b51-8e37-9c2b1b1e77aa",
   "metadata": {},
   "outputs": [
    {
     "data": {
      "text/html": [
       "<div>\n",
       "<style scoped>\n",
       "    .dataframe tbody tr th:only-of-type {\n",
       "        vertical-align: middle;\n",
       "    }\n",
       "\n",
       "    .dataframe tbody tr th {\n",
       "        vertical-align: top;\n",
       "    }\n",
       "\n",
       "    .dataframe thead th {\n",
       "        text-align: right;\n",
       "    }\n",
       "</style>\n",
       "<table border=\"1\" class=\"dataframe\">\n",
       "  <thead>\n",
       "    <tr style=\"text-align: right;\">\n",
       "      <th></th>\n",
       "      <th>DATE1</th>\n",
       "      <th>DAY_OF_WEEK</th>\n",
       "      <th>SITE_NAME</th>\n",
       "      <th>TOWN</th>\n",
       "      <th>WATERBODY</th>\n",
       "      <th>INSPECTOR_ID</th>\n",
       "      <th>PAY_VOL</th>\n",
       "      <th>SHIFT_START</th>\n",
       "      <th>SHIFT_END</th>\n",
       "      <th>SHIFT_LENGTH</th>\n",
       "      <th>TOTALINSP</th>\n",
       "      <th>PRCP</th>\n",
       "      <th>TMAX</th>\n",
       "      <th>TMIN</th>\n",
       "      <th>TOBS</th>\n",
       "      <th>DATE</th>\n",
       "      <th>month</th>\n",
       "      <th>year</th>\n",
       "    </tr>\n",
       "  </thead>\n",
       "  <tbody>\n",
       "    <tr>\n",
       "      <th>0</th>\n",
       "      <td>2021-05-28</td>\n",
       "      <td>Fri</td>\n",
       "      <td>Launch Drive</td>\n",
       "      <td>Monmouth</td>\n",
       "      <td>Cobbosseecontee Lake</td>\n",
       "      <td>4771</td>\n",
       "      <td>Paid</td>\n",
       "      <td>1900-01-01 12:00:00</td>\n",
       "      <td>2023-12-03 18:00:00</td>\n",
       "      <td>360</td>\n",
       "      <td>33.0</td>\n",
       "      <td>0.0</td>\n",
       "      <td>72.0</td>\n",
       "      <td>45.0</td>\n",
       "      <td>49.0</td>\n",
       "      <td>2021-05-28</td>\n",
       "      <td>5</td>\n",
       "      <td>2021</td>\n",
       "    </tr>\n",
       "  </tbody>\n",
       "</table>\n",
       "</div>"
      ],
      "text/plain": [
       "        DATE1 DAY_OF_WEEK     SITE_NAME      TOWN             WATERBODY  \\\n",
       "0  2021-05-28         Fri  Launch Drive  Monmouth  Cobbosseecontee Lake   \n",
       "\n",
       "   INSPECTOR_ID PAY_VOL         SHIFT_START           SHIFT_END  SHIFT_LENGTH  \\\n",
       "0          4771    Paid 1900-01-01 12:00:00 2023-12-03 18:00:00           360   \n",
       "\n",
       "   TOTALINSP  PRCP  TMAX  TMIN  TOBS       DATE  month  year  \n",
       "0       33.0   0.0  72.0  45.0  49.0 2021-05-28      5  2021  "
      ]
     },
     "execution_count": 113,
     "metadata": {},
     "output_type": "execute_result"
    }
   ],
   "source": [
    "# Converting times to 'time of day'\n",
    "df.head(1)"
   ]
  },
  {
   "cell_type": "code",
   "execution_count": 114,
   "id": "514432b6-a53b-4a92-a3a0-f33e40a8b8ff",
   "metadata": {
    "tags": []
   },
   "outputs": [
    {
     "data": {
      "text/plain": [
       "1900-01-01 07:00:00    902\n",
       "1900-01-01 13:00:00    604\n",
       "1900-01-01 09:00:00    241\n",
       "1900-01-01 12:00:00    164\n",
       "1900-01-01 08:00:00    119\n",
       "                      ... \n",
       "1900-01-01 08:17:00      1\n",
       "1900-01-01 07:40:00      1\n",
       "1900-01-01 04:41:00      1\n",
       "1900-01-01 12:55:00      1\n",
       "1900-01-01 09:40:00      1\n",
       "Name: SHIFT_START, Length: 139, dtype: int64"
      ]
     },
     "execution_count": 114,
     "metadata": {},
     "output_type": "execute_result"
    }
   ],
   "source": [
    "df.SHIFT_START.value_counts()"
   ]
  },
  {
   "cell_type": "code",
   "execution_count": 115,
   "id": "e89879d3-ebdd-4546-8e5b-df1ac3f7675f",
   "metadata": {
    "tags": []
   },
   "outputs": [
    {
     "data": {
      "text/plain": [
       "DATE1                   object\n",
       "DAY_OF_WEEK             object\n",
       "SITE_NAME               object\n",
       "TOWN                    object\n",
       "WATERBODY               object\n",
       "INSPECTOR_ID             int64\n",
       "PAY_VOL                 object\n",
       "SHIFT_START     datetime64[ns]\n",
       "SHIFT_END       datetime64[ns]\n",
       "SHIFT_LENGTH             int64\n",
       "TOTALINSP              float64\n",
       "PRCP                   float64\n",
       "TMAX                   float64\n",
       "TMIN                   float64\n",
       "TOBS                   float64\n",
       "DATE            datetime64[ns]\n",
       "month                    int64\n",
       "year                     int64\n",
       "dtype: object"
      ]
     },
     "execution_count": 115,
     "metadata": {},
     "output_type": "execute_result"
    }
   ],
   "source": [
    "df.dtypes"
   ]
  },
  {
   "cell_type": "code",
   "execution_count": 116,
   "id": "c9bd8461-14d1-481e-b3de-d839dfa2061b",
   "metadata": {
    "tags": []
   },
   "outputs": [],
   "source": [
    "df['SHIFT_START_CATEGORY'] = pd.cut(pd.to_datetime(df['SHIFT_START'], format='%H:%M').dt.hour,\n",
    "                                    bins =[-1, 8, 11, 14, 17, 24],\n",
    "                                    labels=['Early Morning', 'Morning', 'Afternoon', 'Late Afternoon', 'Evening'])\n",
    "                        "
   ]
  },
  {
   "cell_type": "code",
   "execution_count": 117,
   "id": "0a93b20a-0829-463d-a52d-81098252a017",
   "metadata": {
    "tags": []
   },
   "outputs": [
    {
     "data": {
      "text/plain": [
       "DATE1                   0\n",
       "DAY_OF_WEEK             0\n",
       "SITE_NAME               0\n",
       "TOWN                    0\n",
       "WATERBODY               0\n",
       "INSPECTOR_ID            0\n",
       "PAY_VOL                 0\n",
       "SHIFT_START             0\n",
       "SHIFT_END               0\n",
       "SHIFT_LENGTH            0\n",
       "TOTALINSP               0\n",
       "PRCP                    0\n",
       "TMAX                    0\n",
       "TMIN                    0\n",
       "TOBS                    0\n",
       "DATE                    0\n",
       "month                   0\n",
       "year                    0\n",
       "SHIFT_START_CATEGORY    0\n",
       "dtype: int64"
      ]
     },
     "execution_count": 117,
     "metadata": {},
     "output_type": "execute_result"
    }
   ],
   "source": [
    "df.isna().sum()"
   ]
  },
  {
   "cell_type": "code",
   "execution_count": 118,
   "id": "5603d8e0-9ac1-4d91-8016-92a737ad52a2",
   "metadata": {
    "tags": []
   },
   "outputs": [
    {
     "data": {
      "text/plain": [
       "Early Morning     1202\n",
       "Afternoon          871\n",
       "Morning            371\n",
       "Late Afternoon     105\n",
       "Evening             16\n",
       "Name: SHIFT_START_CATEGORY, dtype: int64"
      ]
     },
     "execution_count": 118,
     "metadata": {},
     "output_type": "execute_result"
    }
   ],
   "source": [
    "df.SHIFT_START_CATEGORY.value_counts()"
   ]
  },
  {
   "cell_type": "code",
   "execution_count": 119,
   "id": "0611a30e-3551-4394-be17-386a584526da",
   "metadata": {
    "tags": []
   },
   "outputs": [],
   "source": [
    "df['SHIFT_END_CATEGORY'] = pd.cut(pd.to_datetime(df['SHIFT_END'], format='%H:%M').dt.hour,\n",
    "                                    bins =[-1, 8, 11, 14, 17, 19, 24],\n",
    "                                    labels=['Early Morning', 'Morning', 'Afternoon', 'Late Afternoon', 'Evening', 'Night'])\n",
    "                        "
   ]
  },
  {
   "cell_type": "code",
   "execution_count": 120,
   "id": "4b3de237-1788-414f-a38d-09453ffd8ac7",
   "metadata": {
    "tags": []
   },
   "outputs": [
    {
     "data": {
      "text/plain": [
       "Evening           1004\n",
       "Afternoon          810\n",
       "Late Afternoon     511\n",
       "Morning            108\n",
       "Early Morning       88\n",
       "Night               44\n",
       "Name: SHIFT_END_CATEGORY, dtype: int64"
      ]
     },
     "execution_count": 120,
     "metadata": {},
     "output_type": "execute_result"
    }
   ],
   "source": [
    "df.SHIFT_END_CATEGORY.value_counts()"
   ]
  },
  {
   "cell_type": "code",
   "execution_count": 121,
   "id": "bbc031bd-96ee-4a9b-a7eb-d9afda3dc4c9",
   "metadata": {
    "tags": []
   },
   "outputs": [],
   "source": [
    "X1 = df.drop(columns=['DATE1', 'TOWN', 'WATERBODY', 'INSPECTOR_ID', 'TOTALINSP', 'TOBS', 'DATE', 'SHIFT_START', 'SHIFT_END'])\n",
    "y1 = df.TOTALINSP            \n",
    "\n",
    "X1_train, X1_test, y1_train, y1_test = train_test_split(X1, y1, random_state=42, test_size=.2)"
   ]
  },
  {
   "cell_type": "code",
   "execution_count": 122,
   "id": "9b778fe8-18b6-4c60-9571-a2baa5e2c38f",
   "metadata": {
    "tags": []
   },
   "outputs": [],
   "source": [
    "categorical_columns = ['SITE_NAME', 'DAY_OF_WEEK', 'month', 'year', 'PAY_VOL', 'SHIFT_START_CATEGORY', 'SHIFT_END_CATEGORY']\n",
    "oh = OneHotEncoder(handle_unknown='ignore', drop='first')\n",
    "X1_train_transformed = oh.fit_transform(X1_train[categorical_columns])\n",
    "X1_test_transformed= oh.transform(X1_test[categorical_columns])"
   ]
  },
  {
   "cell_type": "code",
   "execution_count": 123,
   "id": "05de4d6f-347a-4627-8027-57ac15466636",
   "metadata": {
    "tags": []
   },
   "outputs": [
    {
     "name": "stdout",
     "output_type": "stream",
     "text": [
      "0.43299897430845313\n",
      "0.45589238044822944\n"
     ]
    }
   ],
   "source": [
    "lr1 = LinearRegression()\n",
    "lr1.fit(X1_train_transformed, y1_train)\n",
    "print(lr1.score(X1_train_transformed, y1_train))\n",
    "print(lr1.score(X1_test_transformed, y1_test))"
   ]
  },
  {
   "cell_type": "code",
   "execution_count": 124,
   "id": "e7020d39-14ff-478b-bcad-89b65c15f507",
   "metadata": {
    "tags": []
   },
   "outputs": [
    {
     "name": "stdout",
     "output_type": "stream",
     "text": [
      "0.7985128527367691\n",
      "0.3845439939140577\n"
     ]
    }
   ],
   "source": [
    "rf1 = RandomForestRegressor()\n",
    "rf1.fit(X1_train_transformed, y1_train)\n",
    "print(rf1.score(X1_train_transformed, y1_train))\n",
    "print(rf1.score(X1_test_transformed, y1_test))     "
   ]
  },
  {
   "cell_type": "code",
   "execution_count": 125,
   "id": "d4a00175-366a-4555-b744-e2305a130ab0",
   "metadata": {
    "tags": []
   },
   "outputs": [
    {
     "name": "stdout",
     "output_type": "stream",
     "text": [
      "0.8333177482959641\n",
      "0.18467138568428598\n"
     ]
    }
   ],
   "source": [
    "et1 =ExtraTreesRegressor()\n",
    "et1.fit(X1_train_transformed, y1_train)\n",
    "print(et1.score(X1_train_transformed, y1_train))\n",
    "print(et1.score(X1_test_transformed, y1_test))      "
   ]
  },
  {
   "cell_type": "code",
   "execution_count": 126,
   "id": "f1330b66-7293-4791-91aa-9aee9970a064",
   "metadata": {
    "tags": []
   },
   "outputs": [],
   "source": [
    "# List of holidays\n",
    "# 2021: Monday, May 31 Memorial Day, Sunday July 4 (Observed Monday), Monday September 6 (Labor Day), Sunday May 9 (Mother's Day), Father's Day (Sunday, June 20)\n",
    "# 2022: Sunday May 08, Mother's Day, 'Monday May 30 Memorial Day, Monday September 5 Labor Day, Monday July 4, Sunday June 19 Father's Day\n",
    "# 2023: Monday, May 29 Memorial Day, Monday June19 Juneteenth, Tuesday, July 04, Monday September 04 Labor Day, Mother's Day Sunday May 14, Father's Day Sunday June 18\n",
    "#'2021-05-09', '2022-05-30', , '2023-06-19'\n",
    "holiday_list = ['2021-05-31', '2021-07-04', '2021-09-06', '2021-06-20',\n",
    "                '2022-05-08', '2022-05-30', '2022-07-04', '2022-06-19',\n",
    "                '2023-05-29', '2023-07-04', '2023-09-04', '2023-06-18']\n"
   ]
  },
  {
   "cell_type": "code",
   "execution_count": 127,
   "id": "2dbf4c0e-e4ed-4069-b0bf-e4d5f1b74dbf",
   "metadata": {
    "tags": []
   },
   "outputs": [],
   "source": [
    "df['holiday']= np.where(df['DATE'].isin(holiday_list), 1, 0)"
   ]
  },
  {
   "cell_type": "code",
   "execution_count": 128,
   "id": "5e8e5cfe-b92b-404c-b19a-33eaa3d55f13",
   "metadata": {
    "tags": []
   },
   "outputs": [
    {
     "data": {
      "text/html": [
       "<div>\n",
       "<style scoped>\n",
       "    .dataframe tbody tr th:only-of-type {\n",
       "        vertical-align: middle;\n",
       "    }\n",
       "\n",
       "    .dataframe tbody tr th {\n",
       "        vertical-align: top;\n",
       "    }\n",
       "\n",
       "    .dataframe thead th {\n",
       "        text-align: right;\n",
       "    }\n",
       "</style>\n",
       "<table border=\"1\" class=\"dataframe\">\n",
       "  <thead>\n",
       "    <tr style=\"text-align: right;\">\n",
       "      <th></th>\n",
       "      <th>DATE1</th>\n",
       "      <th>DAY_OF_WEEK</th>\n",
       "      <th>SITE_NAME</th>\n",
       "      <th>TOWN</th>\n",
       "      <th>WATERBODY</th>\n",
       "      <th>INSPECTOR_ID</th>\n",
       "      <th>PAY_VOL</th>\n",
       "      <th>SHIFT_START</th>\n",
       "      <th>SHIFT_END</th>\n",
       "      <th>SHIFT_LENGTH</th>\n",
       "      <th>...</th>\n",
       "      <th>PRCP</th>\n",
       "      <th>TMAX</th>\n",
       "      <th>TMIN</th>\n",
       "      <th>TOBS</th>\n",
       "      <th>DATE</th>\n",
       "      <th>month</th>\n",
       "      <th>year</th>\n",
       "      <th>SHIFT_START_CATEGORY</th>\n",
       "      <th>SHIFT_END_CATEGORY</th>\n",
       "      <th>holiday</th>\n",
       "    </tr>\n",
       "  </thead>\n",
       "  <tbody>\n",
       "    <tr>\n",
       "      <th>272</th>\n",
       "      <td>2021-07-16</td>\n",
       "      <td>Fri</td>\n",
       "      <td>Augusta West Kampground</td>\n",
       "      <td>Winthrop</td>\n",
       "      <td>Annabessacook Lake</td>\n",
       "      <td>4769</td>\n",
       "      <td>Paid</td>\n",
       "      <td>1900-01-01 12:00:00</td>\n",
       "      <td>2023-12-03 18:00:00</td>\n",
       "      <td>360</td>\n",
       "      <td>...</td>\n",
       "      <td>0.00</td>\n",
       "      <td>88.0</td>\n",
       "      <td>67.0</td>\n",
       "      <td>74.0</td>\n",
       "      <td>2021-07-16</td>\n",
       "      <td>7</td>\n",
       "      <td>2021</td>\n",
       "      <td>Afternoon</td>\n",
       "      <td>Evening</td>\n",
       "      <td>0</td>\n",
       "    </tr>\n",
       "    <tr>\n",
       "      <th>1523</th>\n",
       "      <td>2022-08-28</td>\n",
       "      <td>Sun</td>\n",
       "      <td>Launch Drive Cobbosseecontee</td>\n",
       "      <td>Monmouth</td>\n",
       "      <td>Cobbosseecontee Lake</td>\n",
       "      <td>5580</td>\n",
       "      <td>Paid</td>\n",
       "      <td>1900-01-01 07:00:00</td>\n",
       "      <td>2023-12-03 13:00:00</td>\n",
       "      <td>360</td>\n",
       "      <td>...</td>\n",
       "      <td>0.00</td>\n",
       "      <td>78.0</td>\n",
       "      <td>62.0</td>\n",
       "      <td>67.0</td>\n",
       "      <td>2022-08-28</td>\n",
       "      <td>8</td>\n",
       "      <td>2022</td>\n",
       "      <td>Early Morning</td>\n",
       "      <td>Afternoon</td>\n",
       "      <td>0</td>\n",
       "    </tr>\n",
       "    <tr>\n",
       "      <th>1671</th>\n",
       "      <td>2022-09-17</td>\n",
       "      <td>Sat</td>\n",
       "      <td>East Winthrop Cobbosseecontee</td>\n",
       "      <td>Winthrop</td>\n",
       "      <td>Cobbosseecontee Lake</td>\n",
       "      <td>3504</td>\n",
       "      <td>Paid</td>\n",
       "      <td>1900-01-01 13:00:00</td>\n",
       "      <td>2023-12-03 19:00:00</td>\n",
       "      <td>360</td>\n",
       "      <td>...</td>\n",
       "      <td>0.00</td>\n",
       "      <td>67.0</td>\n",
       "      <td>44.0</td>\n",
       "      <td>50.0</td>\n",
       "      <td>2022-09-17</td>\n",
       "      <td>9</td>\n",
       "      <td>2022</td>\n",
       "      <td>Afternoon</td>\n",
       "      <td>Evening</td>\n",
       "      <td>0</td>\n",
       "    </tr>\n",
       "    <tr>\n",
       "      <th>2043</th>\n",
       "      <td>2023-07-09</td>\n",
       "      <td>Sun</td>\n",
       "      <td>Holmes Road Annabessacook</td>\n",
       "      <td>Winthrop</td>\n",
       "      <td>Annabessacook Lake</td>\n",
       "      <td>5648</td>\n",
       "      <td>Paid</td>\n",
       "      <td>1900-01-01 13:00:00</td>\n",
       "      <td>2023-12-03 19:00:00</td>\n",
       "      <td>360</td>\n",
       "      <td>...</td>\n",
       "      <td>0.01</td>\n",
       "      <td>79.0</td>\n",
       "      <td>68.0</td>\n",
       "      <td>70.0</td>\n",
       "      <td>2023-07-09</td>\n",
       "      <td>7</td>\n",
       "      <td>2023</td>\n",
       "      <td>Afternoon</td>\n",
       "      <td>Evening</td>\n",
       "      <td>0</td>\n",
       "    </tr>\n",
       "    <tr>\n",
       "      <th>2199</th>\n",
       "      <td>2023-07-26</td>\n",
       "      <td>Wed</td>\n",
       "      <td>East Winthrop Cobbosseecontee</td>\n",
       "      <td>Winthrop</td>\n",
       "      <td>Cobbosseecontee Lake</td>\n",
       "      <td>5670</td>\n",
       "      <td>Paid</td>\n",
       "      <td>1900-01-01 07:00:00</td>\n",
       "      <td>2023-12-03 13:00:00</td>\n",
       "      <td>360</td>\n",
       "      <td>...</td>\n",
       "      <td>1.24</td>\n",
       "      <td>88.0</td>\n",
       "      <td>65.0</td>\n",
       "      <td>71.0</td>\n",
       "      <td>2023-07-26</td>\n",
       "      <td>7</td>\n",
       "      <td>2023</td>\n",
       "      <td>Early Morning</td>\n",
       "      <td>Afternoon</td>\n",
       "      <td>0</td>\n",
       "    </tr>\n",
       "    <tr>\n",
       "      <th>361</th>\n",
       "      <td>2021-07-31</td>\n",
       "      <td>Sat</td>\n",
       "      <td>East Winthrop</td>\n",
       "      <td>Winthrop</td>\n",
       "      <td>Cobbosseecontee Lake</td>\n",
       "      <td>5367</td>\n",
       "      <td>Paid</td>\n",
       "      <td>1900-01-01 07:00:00</td>\n",
       "      <td>2023-12-03 13:00:00</td>\n",
       "      <td>360</td>\n",
       "      <td>...</td>\n",
       "      <td>0.00</td>\n",
       "      <td>75.0</td>\n",
       "      <td>56.0</td>\n",
       "      <td>63.0</td>\n",
       "      <td>2021-07-31</td>\n",
       "      <td>7</td>\n",
       "      <td>2021</td>\n",
       "      <td>Early Morning</td>\n",
       "      <td>Afternoon</td>\n",
       "      <td>0</td>\n",
       "    </tr>\n",
       "    <tr>\n",
       "      <th>561</th>\n",
       "      <td>2021-08-28</td>\n",
       "      <td>Sat</td>\n",
       "      <td>Wilson Pond Road</td>\n",
       "      <td>Monmouth</td>\n",
       "      <td>Wilson Pond</td>\n",
       "      <td>4770</td>\n",
       "      <td>Paid</td>\n",
       "      <td>1900-01-01 07:00:00</td>\n",
       "      <td>2023-12-03 17:00:00</td>\n",
       "      <td>600</td>\n",
       "      <td>...</td>\n",
       "      <td>0.00</td>\n",
       "      <td>84.0</td>\n",
       "      <td>54.0</td>\n",
       "      <td>62.0</td>\n",
       "      <td>2021-08-28</td>\n",
       "      <td>8</td>\n",
       "      <td>2021</td>\n",
       "      <td>Early Morning</td>\n",
       "      <td>Late Afternoon</td>\n",
       "      <td>0</td>\n",
       "    </tr>\n",
       "    <tr>\n",
       "      <th>484</th>\n",
       "      <td>2021-08-15</td>\n",
       "      <td>Sun</td>\n",
       "      <td>Augusta West Kampground</td>\n",
       "      <td>Winthrop</td>\n",
       "      <td>Annabessacook Lake</td>\n",
       "      <td>4769</td>\n",
       "      <td>Paid</td>\n",
       "      <td>1900-01-01 08:00:00</td>\n",
       "      <td>2023-12-03 18:00:00</td>\n",
       "      <td>600</td>\n",
       "      <td>...</td>\n",
       "      <td>0.34</td>\n",
       "      <td>89.0</td>\n",
       "      <td>60.0</td>\n",
       "      <td>65.0</td>\n",
       "      <td>2021-08-15</td>\n",
       "      <td>8</td>\n",
       "      <td>2021</td>\n",
       "      <td>Early Morning</td>\n",
       "      <td>Evening</td>\n",
       "      <td>0</td>\n",
       "    </tr>\n",
       "    <tr>\n",
       "      <th>570</th>\n",
       "      <td>2021-08-28</td>\n",
       "      <td>Sat</td>\n",
       "      <td>Old Kents Hill Road</td>\n",
       "      <td>Readfield</td>\n",
       "      <td>Torsey Lake</td>\n",
       "      <td>5451</td>\n",
       "      <td>Volunteer</td>\n",
       "      <td>1900-01-01 15:00:00</td>\n",
       "      <td>2023-12-03 17:00:00</td>\n",
       "      <td>120</td>\n",
       "      <td>...</td>\n",
       "      <td>0.00</td>\n",
       "      <td>84.0</td>\n",
       "      <td>54.0</td>\n",
       "      <td>62.0</td>\n",
       "      <td>2021-08-28</td>\n",
       "      <td>8</td>\n",
       "      <td>2021</td>\n",
       "      <td>Late Afternoon</td>\n",
       "      <td>Late Afternoon</td>\n",
       "      <td>0</td>\n",
       "    </tr>\n",
       "    <tr>\n",
       "      <th>744</th>\n",
       "      <td>2022-06-12</td>\n",
       "      <td>Sun</td>\n",
       "      <td>Launch Drive Cobbosseecontee</td>\n",
       "      <td>Monmouth</td>\n",
       "      <td>Cobbosseecontee Lake</td>\n",
       "      <td>5005</td>\n",
       "      <td>Paid</td>\n",
       "      <td>1900-01-01 13:00:00</td>\n",
       "      <td>2023-12-03 19:00:00</td>\n",
       "      <td>360</td>\n",
       "      <td>...</td>\n",
       "      <td>0.01</td>\n",
       "      <td>78.0</td>\n",
       "      <td>53.0</td>\n",
       "      <td>68.0</td>\n",
       "      <td>2022-06-12</td>\n",
       "      <td>6</td>\n",
       "      <td>2022</td>\n",
       "      <td>Afternoon</td>\n",
       "      <td>Evening</td>\n",
       "      <td>0</td>\n",
       "    </tr>\n",
       "    <tr>\n",
       "      <th>2483</th>\n",
       "      <td>2023-08-11</td>\n",
       "      <td>Fri</td>\n",
       "      <td>Lakeside Marina Cobbosseecontee</td>\n",
       "      <td>Winthrop</td>\n",
       "      <td>Cobbosseecontee Lake</td>\n",
       "      <td>5652</td>\n",
       "      <td>Paid</td>\n",
       "      <td>1900-01-01 15:00:00</td>\n",
       "      <td>2023-12-03 17:00:00</td>\n",
       "      <td>120</td>\n",
       "      <td>...</td>\n",
       "      <td>0.24</td>\n",
       "      <td>86.0</td>\n",
       "      <td>63.0</td>\n",
       "      <td>69.0</td>\n",
       "      <td>2023-08-11</td>\n",
       "      <td>8</td>\n",
       "      <td>2023</td>\n",
       "      <td>Late Afternoon</td>\n",
       "      <td>Late Afternoon</td>\n",
       "      <td>0</td>\n",
       "    </tr>\n",
       "    <tr>\n",
       "      <th>2479</th>\n",
       "      <td>2023-08-06</td>\n",
       "      <td>Sun</td>\n",
       "      <td>Lakeside Marina Cobbosseecontee</td>\n",
       "      <td>Winthrop</td>\n",
       "      <td>Cobbosseecontee Lake</td>\n",
       "      <td>5652</td>\n",
       "      <td>Paid</td>\n",
       "      <td>1900-01-01 10:00:00</td>\n",
       "      <td>2023-12-03 11:00:00</td>\n",
       "      <td>60</td>\n",
       "      <td>...</td>\n",
       "      <td>0.03</td>\n",
       "      <td>80.0</td>\n",
       "      <td>57.0</td>\n",
       "      <td>65.0</td>\n",
       "      <td>2023-08-06</td>\n",
       "      <td>8</td>\n",
       "      <td>2023</td>\n",
       "      <td>Morning</td>\n",
       "      <td>Morning</td>\n",
       "      <td>0</td>\n",
       "    </tr>\n",
       "    <tr>\n",
       "      <th>282</th>\n",
       "      <td>2021-07-17</td>\n",
       "      <td>Sat</td>\n",
       "      <td>East Winthrop</td>\n",
       "      <td>Winthrop</td>\n",
       "      <td>Cobbosseecontee Lake</td>\n",
       "      <td>3504</td>\n",
       "      <td>Paid</td>\n",
       "      <td>1900-01-01 13:00:00</td>\n",
       "      <td>2023-12-03 19:00:00</td>\n",
       "      <td>360</td>\n",
       "      <td>...</td>\n",
       "      <td>0.00</td>\n",
       "      <td>89.0</td>\n",
       "      <td>66.0</td>\n",
       "      <td>69.0</td>\n",
       "      <td>2021-07-17</td>\n",
       "      <td>7</td>\n",
       "      <td>2021</td>\n",
       "      <td>Afternoon</td>\n",
       "      <td>Evening</td>\n",
       "      <td>0</td>\n",
       "    </tr>\n",
       "    <tr>\n",
       "      <th>1116</th>\n",
       "      <td>2022-07-21</td>\n",
       "      <td>Thu</td>\n",
       "      <td>East Winthrop Cobbosseecontee</td>\n",
       "      <td>Winthrop</td>\n",
       "      <td>Cobbosseecontee Lake</td>\n",
       "      <td>5670</td>\n",
       "      <td>Paid</td>\n",
       "      <td>1900-01-01 13:00:00</td>\n",
       "      <td>2023-12-03 19:00:00</td>\n",
       "      <td>360</td>\n",
       "      <td>...</td>\n",
       "      <td>0.00</td>\n",
       "      <td>92.0</td>\n",
       "      <td>69.0</td>\n",
       "      <td>75.0</td>\n",
       "      <td>2022-07-21</td>\n",
       "      <td>7</td>\n",
       "      <td>2022</td>\n",
       "      <td>Afternoon</td>\n",
       "      <td>Evening</td>\n",
       "      <td>0</td>\n",
       "    </tr>\n",
       "    <tr>\n",
       "      <th>835</th>\n",
       "      <td>2022-06-26</td>\n",
       "      <td>Sun</td>\n",
       "      <td>East Winthrop Cobbosseecontee</td>\n",
       "      <td>Winthrop</td>\n",
       "      <td>Cobbosseecontee Lake</td>\n",
       "      <td>5305</td>\n",
       "      <td>Paid</td>\n",
       "      <td>1900-01-01 07:00:00</td>\n",
       "      <td>2023-12-03 13:00:00</td>\n",
       "      <td>360</td>\n",
       "      <td>...</td>\n",
       "      <td>0.00</td>\n",
       "      <td>92.0</td>\n",
       "      <td>64.0</td>\n",
       "      <td>76.0</td>\n",
       "      <td>2022-06-26</td>\n",
       "      <td>6</td>\n",
       "      <td>2022</td>\n",
       "      <td>Early Morning</td>\n",
       "      <td>Afternoon</td>\n",
       "      <td>0</td>\n",
       "    </tr>\n",
       "    <tr>\n",
       "      <th>2546</th>\n",
       "      <td>2023-06-15</td>\n",
       "      <td>Thu</td>\n",
       "      <td>Lakeside Marina Cobbosseecontee</td>\n",
       "      <td>Winthrop</td>\n",
       "      <td>Cobbosseecontee Lake</td>\n",
       "      <td>5652</td>\n",
       "      <td>Paid</td>\n",
       "      <td>1900-01-01 11:00:00</td>\n",
       "      <td>2023-12-03 16:00:00</td>\n",
       "      <td>300</td>\n",
       "      <td>...</td>\n",
       "      <td>0.08</td>\n",
       "      <td>75.0</td>\n",
       "      <td>58.0</td>\n",
       "      <td>60.0</td>\n",
       "      <td>2023-06-15</td>\n",
       "      <td>6</td>\n",
       "      <td>2023</td>\n",
       "      <td>Morning</td>\n",
       "      <td>Late Afternoon</td>\n",
       "      <td>0</td>\n",
       "    </tr>\n",
       "    <tr>\n",
       "      <th>1942</th>\n",
       "      <td>2023-06-30</td>\n",
       "      <td>Fri</td>\n",
       "      <td>East Winthrop Cobbosseecontee</td>\n",
       "      <td>Winthrop</td>\n",
       "      <td>Cobbosseecontee Lake</td>\n",
       "      <td>5006</td>\n",
       "      <td>Paid</td>\n",
       "      <td>1900-01-01 07:00:00</td>\n",
       "      <td>2023-12-03 13:00:00</td>\n",
       "      <td>360</td>\n",
       "      <td>...</td>\n",
       "      <td>0.34</td>\n",
       "      <td>81.0</td>\n",
       "      <td>65.0</td>\n",
       "      <td>66.0</td>\n",
       "      <td>2023-06-30</td>\n",
       "      <td>6</td>\n",
       "      <td>2023</td>\n",
       "      <td>Early Morning</td>\n",
       "      <td>Afternoon</td>\n",
       "      <td>0</td>\n",
       "    </tr>\n",
       "    <tr>\n",
       "      <th>1580</th>\n",
       "      <td>2022-09-03</td>\n",
       "      <td>Sat</td>\n",
       "      <td>Rt 41 North Basin Maranacook</td>\n",
       "      <td>Readfield</td>\n",
       "      <td>Maranacook Lake</td>\n",
       "      <td>5644</td>\n",
       "      <td>Paid</td>\n",
       "      <td>1900-01-01 07:00:00</td>\n",
       "      <td>2023-12-03 13:00:00</td>\n",
       "      <td>360</td>\n",
       "      <td>...</td>\n",
       "      <td>0.00</td>\n",
       "      <td>77.0</td>\n",
       "      <td>50.0</td>\n",
       "      <td>57.0</td>\n",
       "      <td>2022-09-03</td>\n",
       "      <td>9</td>\n",
       "      <td>2022</td>\n",
       "      <td>Early Morning</td>\n",
       "      <td>Afternoon</td>\n",
       "      <td>0</td>\n",
       "    </tr>\n",
       "    <tr>\n",
       "      <th>1741</th>\n",
       "      <td>2023-06-02</td>\n",
       "      <td>Fri</td>\n",
       "      <td>Launch Drive Cobbosseecontee</td>\n",
       "      <td>Monmouth</td>\n",
       "      <td>Cobbosseecontee Lake</td>\n",
       "      <td>5714</td>\n",
       "      <td>Paid</td>\n",
       "      <td>1900-01-01 09:00:00</td>\n",
       "      <td>2023-12-03 19:00:00</td>\n",
       "      <td>600</td>\n",
       "      <td>...</td>\n",
       "      <td>0.00</td>\n",
       "      <td>95.0</td>\n",
       "      <td>63.0</td>\n",
       "      <td>78.0</td>\n",
       "      <td>2023-06-02</td>\n",
       "      <td>6</td>\n",
       "      <td>2023</td>\n",
       "      <td>Morning</td>\n",
       "      <td>Evening</td>\n",
       "      <td>0</td>\n",
       "    </tr>\n",
       "    <tr>\n",
       "      <th>1344</th>\n",
       "      <td>2022-08-08</td>\n",
       "      <td>Mon</td>\n",
       "      <td>Launch Drive Cobbosseecontee</td>\n",
       "      <td>Monmouth</td>\n",
       "      <td>Cobbosseecontee Lake</td>\n",
       "      <td>5305</td>\n",
       "      <td>Paid</td>\n",
       "      <td>1900-01-01 07:00:00</td>\n",
       "      <td>2023-12-03 13:00:00</td>\n",
       "      <td>360</td>\n",
       "      <td>...</td>\n",
       "      <td>0.03</td>\n",
       "      <td>91.0</td>\n",
       "      <td>72.0</td>\n",
       "      <td>75.0</td>\n",
       "      <td>2022-08-08</td>\n",
       "      <td>8</td>\n",
       "      <td>2022</td>\n",
       "      <td>Early Morning</td>\n",
       "      <td>Afternoon</td>\n",
       "      <td>0</td>\n",
       "    </tr>\n",
       "    <tr>\n",
       "      <th>1639</th>\n",
       "      <td>2022-09-09</td>\n",
       "      <td>Fri</td>\n",
       "      <td>Launch Drive Cobbosseecontee</td>\n",
       "      <td>Monmouth</td>\n",
       "      <td>Cobbosseecontee Lake</td>\n",
       "      <td>5714</td>\n",
       "      <td>Paid</td>\n",
       "      <td>1900-01-01 07:00:00</td>\n",
       "      <td>2023-12-03 13:00:00</td>\n",
       "      <td>360</td>\n",
       "      <td>...</td>\n",
       "      <td>0.00</td>\n",
       "      <td>79.0</td>\n",
       "      <td>52.0</td>\n",
       "      <td>58.0</td>\n",
       "      <td>2022-09-09</td>\n",
       "      <td>9</td>\n",
       "      <td>2022</td>\n",
       "      <td>Early Morning</td>\n",
       "      <td>Afternoon</td>\n",
       "      <td>0</td>\n",
       "    </tr>\n",
       "    <tr>\n",
       "      <th>29</th>\n",
       "      <td>2021-06-04</td>\n",
       "      <td>Fri</td>\n",
       "      <td>Thorofare Rd</td>\n",
       "      <td>Litchfield</td>\n",
       "      <td>Pleasant Pond</td>\n",
       "      <td>3504</td>\n",
       "      <td>Paid</td>\n",
       "      <td>1900-01-01 12:00:00</td>\n",
       "      <td>2023-12-03 18:00:00</td>\n",
       "      <td>360</td>\n",
       "      <td>...</td>\n",
       "      <td>0.08</td>\n",
       "      <td>77.0</td>\n",
       "      <td>63.0</td>\n",
       "      <td>67.0</td>\n",
       "      <td>2021-06-04</td>\n",
       "      <td>6</td>\n",
       "      <td>2021</td>\n",
       "      <td>Afternoon</td>\n",
       "      <td>Evening</td>\n",
       "      <td>0</td>\n",
       "    </tr>\n",
       "    <tr>\n",
       "      <th>2446</th>\n",
       "      <td>2023-08-24</td>\n",
       "      <td>Thu</td>\n",
       "      <td>Launch Drive Cobbosseecontee</td>\n",
       "      <td>Monmouth</td>\n",
       "      <td>Cobbosseecontee Lake</td>\n",
       "      <td>5987</td>\n",
       "      <td>Paid</td>\n",
       "      <td>1900-01-01 07:00:00</td>\n",
       "      <td>2023-12-03 13:00:00</td>\n",
       "      <td>360</td>\n",
       "      <td>...</td>\n",
       "      <td>0.00</td>\n",
       "      <td>81.0</td>\n",
       "      <td>55.0</td>\n",
       "      <td>60.0</td>\n",
       "      <td>2023-08-24</td>\n",
       "      <td>8</td>\n",
       "      <td>2023</td>\n",
       "      <td>Early Morning</td>\n",
       "      <td>Afternoon</td>\n",
       "      <td>0</td>\n",
       "    </tr>\n",
       "    <tr>\n",
       "      <th>477</th>\n",
       "      <td>2021-08-15</td>\n",
       "      <td>Sun</td>\n",
       "      <td>Thorofare Rd</td>\n",
       "      <td>Litchfield</td>\n",
       "      <td>Pleasant Pond</td>\n",
       "      <td>4944</td>\n",
       "      <td>Paid</td>\n",
       "      <td>1900-01-01 07:00:00</td>\n",
       "      <td>2023-12-03 13:00:00</td>\n",
       "      <td>360</td>\n",
       "      <td>...</td>\n",
       "      <td>0.34</td>\n",
       "      <td>89.0</td>\n",
       "      <td>60.0</td>\n",
       "      <td>65.0</td>\n",
       "      <td>2021-08-15</td>\n",
       "      <td>8</td>\n",
       "      <td>2021</td>\n",
       "      <td>Early Morning</td>\n",
       "      <td>Afternoon</td>\n",
       "      <td>0</td>\n",
       "    </tr>\n",
       "    <tr>\n",
       "      <th>817</th>\n",
       "      <td>2022-06-25</td>\n",
       "      <td>Sat</td>\n",
       "      <td>Launch Drive Cobbosseecontee</td>\n",
       "      <td>Monmouth</td>\n",
       "      <td>Cobbosseecontee Lake</td>\n",
       "      <td>3796</td>\n",
       "      <td>Paid</td>\n",
       "      <td>1900-01-01 13:00:00</td>\n",
       "      <td>2023-12-03 19:00:00</td>\n",
       "      <td>360</td>\n",
       "      <td>...</td>\n",
       "      <td>0.00</td>\n",
       "      <td>83.0</td>\n",
       "      <td>58.0</td>\n",
       "      <td>73.0</td>\n",
       "      <td>2022-06-25</td>\n",
       "      <td>6</td>\n",
       "      <td>2022</td>\n",
       "      <td>Afternoon</td>\n",
       "      <td>Evening</td>\n",
       "      <td>0</td>\n",
       "    </tr>\n",
       "  </tbody>\n",
       "</table>\n",
       "<p>25 rows × 21 columns</p>\n",
       "</div>"
      ],
      "text/plain": [
       "           DATE1 DAY_OF_WEEK                        SITE_NAME        TOWN  \\\n",
       "272   2021-07-16         Fri          Augusta West Kampground    Winthrop   \n",
       "1523  2022-08-28         Sun     Launch Drive Cobbosseecontee    Monmouth   \n",
       "1671  2022-09-17         Sat    East Winthrop Cobbosseecontee    Winthrop   \n",
       "2043  2023-07-09         Sun        Holmes Road Annabessacook    Winthrop   \n",
       "2199  2023-07-26         Wed    East Winthrop Cobbosseecontee    Winthrop   \n",
       "361   2021-07-31         Sat                    East Winthrop    Winthrop   \n",
       "561   2021-08-28         Sat                 Wilson Pond Road    Monmouth   \n",
       "484   2021-08-15         Sun          Augusta West Kampground    Winthrop   \n",
       "570   2021-08-28         Sat              Old Kents Hill Road   Readfield   \n",
       "744   2022-06-12         Sun     Launch Drive Cobbosseecontee    Monmouth   \n",
       "2483  2023-08-11         Fri  Lakeside Marina Cobbosseecontee    Winthrop   \n",
       "2479  2023-08-06         Sun  Lakeside Marina Cobbosseecontee    Winthrop   \n",
       "282   2021-07-17         Sat                    East Winthrop    Winthrop   \n",
       "1116  2022-07-21         Thu    East Winthrop Cobbosseecontee    Winthrop   \n",
       "835   2022-06-26         Sun    East Winthrop Cobbosseecontee    Winthrop   \n",
       "2546  2023-06-15         Thu  Lakeside Marina Cobbosseecontee    Winthrop   \n",
       "1942  2023-06-30         Fri    East Winthrop Cobbosseecontee    Winthrop   \n",
       "1580  2022-09-03         Sat     Rt 41 North Basin Maranacook   Readfield   \n",
       "1741  2023-06-02         Fri     Launch Drive Cobbosseecontee    Monmouth   \n",
       "1344  2022-08-08         Mon     Launch Drive Cobbosseecontee    Monmouth   \n",
       "1639  2022-09-09         Fri     Launch Drive Cobbosseecontee    Monmouth   \n",
       "29    2021-06-04         Fri                     Thorofare Rd  Litchfield   \n",
       "2446  2023-08-24         Thu     Launch Drive Cobbosseecontee    Monmouth   \n",
       "477   2021-08-15         Sun                     Thorofare Rd  Litchfield   \n",
       "817   2022-06-25         Sat     Launch Drive Cobbosseecontee    Monmouth   \n",
       "\n",
       "                 WATERBODY  INSPECTOR_ID    PAY_VOL         SHIFT_START  \\\n",
       "272     Annabessacook Lake          4769       Paid 1900-01-01 12:00:00   \n",
       "1523  Cobbosseecontee Lake          5580       Paid 1900-01-01 07:00:00   \n",
       "1671  Cobbosseecontee Lake          3504       Paid 1900-01-01 13:00:00   \n",
       "2043    Annabessacook Lake          5648       Paid 1900-01-01 13:00:00   \n",
       "2199  Cobbosseecontee Lake          5670       Paid 1900-01-01 07:00:00   \n",
       "361   Cobbosseecontee Lake          5367       Paid 1900-01-01 07:00:00   \n",
       "561            Wilson Pond          4770       Paid 1900-01-01 07:00:00   \n",
       "484     Annabessacook Lake          4769       Paid 1900-01-01 08:00:00   \n",
       "570            Torsey Lake          5451  Volunteer 1900-01-01 15:00:00   \n",
       "744   Cobbosseecontee Lake          5005       Paid 1900-01-01 13:00:00   \n",
       "2483  Cobbosseecontee Lake          5652       Paid 1900-01-01 15:00:00   \n",
       "2479  Cobbosseecontee Lake          5652       Paid 1900-01-01 10:00:00   \n",
       "282   Cobbosseecontee Lake          3504       Paid 1900-01-01 13:00:00   \n",
       "1116  Cobbosseecontee Lake          5670       Paid 1900-01-01 13:00:00   \n",
       "835   Cobbosseecontee Lake          5305       Paid 1900-01-01 07:00:00   \n",
       "2546  Cobbosseecontee Lake          5652       Paid 1900-01-01 11:00:00   \n",
       "1942  Cobbosseecontee Lake          5006       Paid 1900-01-01 07:00:00   \n",
       "1580       Maranacook Lake          5644       Paid 1900-01-01 07:00:00   \n",
       "1741  Cobbosseecontee Lake          5714       Paid 1900-01-01 09:00:00   \n",
       "1344  Cobbosseecontee Lake          5305       Paid 1900-01-01 07:00:00   \n",
       "1639  Cobbosseecontee Lake          5714       Paid 1900-01-01 07:00:00   \n",
       "29           Pleasant Pond          3504       Paid 1900-01-01 12:00:00   \n",
       "2446  Cobbosseecontee Lake          5987       Paid 1900-01-01 07:00:00   \n",
       "477          Pleasant Pond          4944       Paid 1900-01-01 07:00:00   \n",
       "817   Cobbosseecontee Lake          3796       Paid 1900-01-01 13:00:00   \n",
       "\n",
       "               SHIFT_END  SHIFT_LENGTH  ...  PRCP  TMAX  TMIN  TOBS  \\\n",
       "272  2023-12-03 18:00:00           360  ...  0.00  88.0  67.0  74.0   \n",
       "1523 2023-12-03 13:00:00           360  ...  0.00  78.0  62.0  67.0   \n",
       "1671 2023-12-03 19:00:00           360  ...  0.00  67.0  44.0  50.0   \n",
       "2043 2023-12-03 19:00:00           360  ...  0.01  79.0  68.0  70.0   \n",
       "2199 2023-12-03 13:00:00           360  ...  1.24  88.0  65.0  71.0   \n",
       "361  2023-12-03 13:00:00           360  ...  0.00  75.0  56.0  63.0   \n",
       "561  2023-12-03 17:00:00           600  ...  0.00  84.0  54.0  62.0   \n",
       "484  2023-12-03 18:00:00           600  ...  0.34  89.0  60.0  65.0   \n",
       "570  2023-12-03 17:00:00           120  ...  0.00  84.0  54.0  62.0   \n",
       "744  2023-12-03 19:00:00           360  ...  0.01  78.0  53.0  68.0   \n",
       "2483 2023-12-03 17:00:00           120  ...  0.24  86.0  63.0  69.0   \n",
       "2479 2023-12-03 11:00:00            60  ...  0.03  80.0  57.0  65.0   \n",
       "282  2023-12-03 19:00:00           360  ...  0.00  89.0  66.0  69.0   \n",
       "1116 2023-12-03 19:00:00           360  ...  0.00  92.0  69.0  75.0   \n",
       "835  2023-12-03 13:00:00           360  ...  0.00  92.0  64.0  76.0   \n",
       "2546 2023-12-03 16:00:00           300  ...  0.08  75.0  58.0  60.0   \n",
       "1942 2023-12-03 13:00:00           360  ...  0.34  81.0  65.0  66.0   \n",
       "1580 2023-12-03 13:00:00           360  ...  0.00  77.0  50.0  57.0   \n",
       "1741 2023-12-03 19:00:00           600  ...  0.00  95.0  63.0  78.0   \n",
       "1344 2023-12-03 13:00:00           360  ...  0.03  91.0  72.0  75.0   \n",
       "1639 2023-12-03 13:00:00           360  ...  0.00  79.0  52.0  58.0   \n",
       "29   2023-12-03 18:00:00           360  ...  0.08  77.0  63.0  67.0   \n",
       "2446 2023-12-03 13:00:00           360  ...  0.00  81.0  55.0  60.0   \n",
       "477  2023-12-03 13:00:00           360  ...  0.34  89.0  60.0  65.0   \n",
       "817  2023-12-03 19:00:00           360  ...  0.00  83.0  58.0  73.0   \n",
       "\n",
       "           DATE month  year  SHIFT_START_CATEGORY SHIFT_END_CATEGORY holiday  \n",
       "272  2021-07-16     7  2021             Afternoon            Evening       0  \n",
       "1523 2022-08-28     8  2022         Early Morning          Afternoon       0  \n",
       "1671 2022-09-17     9  2022             Afternoon            Evening       0  \n",
       "2043 2023-07-09     7  2023             Afternoon            Evening       0  \n",
       "2199 2023-07-26     7  2023         Early Morning          Afternoon       0  \n",
       "361  2021-07-31     7  2021         Early Morning          Afternoon       0  \n",
       "561  2021-08-28     8  2021         Early Morning     Late Afternoon       0  \n",
       "484  2021-08-15     8  2021         Early Morning            Evening       0  \n",
       "570  2021-08-28     8  2021        Late Afternoon     Late Afternoon       0  \n",
       "744  2022-06-12     6  2022             Afternoon            Evening       0  \n",
       "2483 2023-08-11     8  2023        Late Afternoon     Late Afternoon       0  \n",
       "2479 2023-08-06     8  2023               Morning            Morning       0  \n",
       "282  2021-07-17     7  2021             Afternoon            Evening       0  \n",
       "1116 2022-07-21     7  2022             Afternoon            Evening       0  \n",
       "835  2022-06-26     6  2022         Early Morning          Afternoon       0  \n",
       "2546 2023-06-15     6  2023               Morning     Late Afternoon       0  \n",
       "1942 2023-06-30     6  2023         Early Morning          Afternoon       0  \n",
       "1580 2022-09-03     9  2022         Early Morning          Afternoon       0  \n",
       "1741 2023-06-02     6  2023               Morning            Evening       0  \n",
       "1344 2022-08-08     8  2022         Early Morning          Afternoon       0  \n",
       "1639 2022-09-09     9  2022         Early Morning          Afternoon       0  \n",
       "29   2021-06-04     6  2021             Afternoon            Evening       0  \n",
       "2446 2023-08-24     8  2023         Early Morning          Afternoon       0  \n",
       "477  2021-08-15     8  2021         Early Morning          Afternoon       0  \n",
       "817  2022-06-25     6  2022             Afternoon            Evening       0  \n",
       "\n",
       "[25 rows x 21 columns]"
      ]
     },
     "execution_count": 128,
     "metadata": {},
     "output_type": "execute_result"
    }
   ],
   "source": [
    "df.sample(25)"
   ]
  },
  {
   "cell_type": "code",
   "execution_count": 129,
   "id": "613ed277-120d-4443-a917-671c59d2fb2d",
   "metadata": {
    "tags": []
   },
   "outputs": [],
   "source": [
    "X2 = df.drop(columns=['DATE1', 'TOWN', 'WATERBODY', 'INSPECTOR_ID', 'TOTALINSP', 'TOBS', 'DATE', 'SHIFT_START', 'SHIFT_END'])\n",
    "y2 = df.TOTALINSP            \n",
    "\n",
    "X2_train, X2_test, y2_train, y2_test = train_test_split(X2, y2, random_state=42, test_size=.2)"
   ]
  },
  {
   "cell_type": "code",
   "execution_count": 130,
   "id": "715ddaad-b278-4514-a99a-26e72e27af8a",
   "metadata": {
    "tags": []
   },
   "outputs": [],
   "source": [
    "categorical_columns = ['SITE_NAME', 'DAY_OF_WEEK', 'month', 'year', 'PAY_VOL', 'SHIFT_START_CATEGORY', 'SHIFT_END_CATEGORY']\n",
    "oh = OneHotEncoder(handle_unknown='ignore', drop='first')\n",
    "X2_train_transformed = oh.fit_transform(X2_train[categorical_columns])\n",
    "X2_test_transformed= oh.transform(X2_test[categorical_columns])"
   ]
  },
  {
   "cell_type": "code",
   "execution_count": 131,
   "id": "11b41c9b-acd4-47bc-afa5-c9f1bd588d07",
   "metadata": {
    "tags": []
   },
   "outputs": [
    {
     "name": "stdout",
     "output_type": "stream",
     "text": [
      "0.43299897430845313\n",
      "0.45589238044822944\n"
     ]
    }
   ],
   "source": [
    "lr2 = LinearRegression()\n",
    "lr2.fit(X2_train_transformed, y2_train)\n",
    "print(lr2.score(X2_train_transformed, y2_train))\n",
    "print(lr2.score(X2_test_transformed, y2_test))"
   ]
  },
  {
   "cell_type": "code",
   "execution_count": 132,
   "id": "0bf347bf-8609-472c-a106-20413631c271",
   "metadata": {
    "tags": []
   },
   "outputs": [
    {
     "name": "stdout",
     "output_type": "stream",
     "text": [
      "0.7988425326030364\n",
      "0.3845439939140577\n"
     ]
    }
   ],
   "source": [
    "rf2 = RandomForestRegressor()\n",
    "rf2.fit(X2_train_transformed, y2_train)\n",
    "print(rf2.score(X2_train_transformed, y2_train))\n",
    "print(rf1.score(X2_test_transformed, y2_test))    "
   ]
  },
  {
   "cell_type": "code",
   "execution_count": 133,
   "id": "8506b11e-c80f-41b3-9db2-fbe00c5cced8",
   "metadata": {
    "tags": []
   },
   "outputs": [
    {
     "name": "stdout",
     "output_type": "stream",
     "text": [
      "0.8333177482959641\n",
      "0.18351178227378473\n"
     ]
    }
   ],
   "source": [
    "et2 =ExtraTreesRegressor()\n",
    "et2.fit(X2_train_transformed, y2_train)\n",
    "print(et2.score(X2_train_transformed, y2_train))\n",
    "print(et2.score(X2_test_transformed, y2_test))     "
   ]
  },
  {
   "cell_type": "code",
   "execution_count": 134,
   "id": "6856be61-e36c-4d62-a330-b54dafbb9f67",
   "metadata": {},
   "outputs": [],
   "source": [
    "# List of holidays\n",
    "# 2021: Monday, May 31 Memorial Day, Sunday July 4 (Observed Monday), Monday September 6 (Labor Day), Sunday May 9 (Mother's Day), Father's Day (Sunday, June 20)\n",
    "# 2022: Sunday May 08, Mother's Day, 'Monday May 30 Memorial Day, Monday September 5 Labor Day, Monday July 4, Sunday June 19 Father's Day\n",
    "# 2023: Monday, May 29 Memorial Day, Monday June19 Juneteenth, Tuesday, July 04, Monday September 04 Labor Day, Mother's Day Sunday May 14, Father's Day Sunday June 18\n",
    "#'2021-05-09', '2022-05-08', , '2023-06-19'\n",
    "holiday_list_weekends = ['2021-05-31', '2021-05-29', '2021-05-30', '2021-07-04', '2021-07-03', '2021-07-05', '2021-09-06', '2021-09-04', '2021-09-05', '2021-06-19', '2021-06-20',\n",
    "                '2022-05-28', '2022-05-29', '2022-05-30', '2022-07-02', '2022-07-03', '2022-07-04', '2022-06-19', '2022-09-03', '2022-09-04', '2022-06-18',\n",
    "                '2023-05-29', '2023-05-27', '2023-05-28', '2023-07-01', '2023-07-02', '2023-07-04', '2023-09-02', '2023-09-03', '2023-09-04', '2023-06-18', '2023-06-17']"
   ]
  },
  {
   "cell_type": "code",
   "execution_count": 135,
   "id": "85e66ce0-d716-4236-9ed0-dc9276b7dd55",
   "metadata": {
    "tags": []
   },
   "outputs": [],
   "source": [
    "df['holiday']= np.where(df['DATE'].isin(holiday_list_weekends), 1, 0)"
   ]
  },
  {
   "cell_type": "code",
   "execution_count": 136,
   "id": "060bd833-f733-41ee-9c56-af97441c884f",
   "metadata": {
    "tags": []
   },
   "outputs": [],
   "source": [
    "X3 = df.drop(columns=['DATE1', 'TOWN', 'WATERBODY', 'INSPECTOR_ID', 'TOTALINSP', 'TOBS', 'DATE', 'SHIFT_START', 'SHIFT_END'])\n",
    "y3 = df.TOTALINSP            \n",
    "\n",
    "X3_train, X3_test, y3_train, y3_test = train_test_split(X3, y3, random_state=42, test_size=.2)"
   ]
  },
  {
   "cell_type": "code",
   "execution_count": 137,
   "id": "0cac1148-1799-4a27-a327-9cf1d34cd646",
   "metadata": {
    "tags": []
   },
   "outputs": [],
   "source": [
    "categorical_columns = ['SITE_NAME', 'DAY_OF_WEEK', 'month', 'year', 'PAY_VOL', 'SHIFT_START_CATEGORY', 'SHIFT_END_CATEGORY']\n",
    "oh = OneHotEncoder(handle_unknown='ignore', drop='first')\n",
    "X3_train_transformed = oh.fit_transform(X3_train[categorical_columns])\n",
    "X3_test_transformed= oh.transform(X3_test[categorical_columns])"
   ]
  },
  {
   "cell_type": "code",
   "execution_count": 138,
   "id": "0ff59fd4-c2fc-4c8b-89d9-6d3540ecc491",
   "metadata": {
    "tags": []
   },
   "outputs": [
    {
     "name": "stdout",
     "output_type": "stream",
     "text": [
      "0.43299897430845313\n",
      "0.45589238044822944\n"
     ]
    }
   ],
   "source": [
    "lr3 = LinearRegression()\n",
    "lr3.fit(X3_train_transformed, y3_train)\n",
    "print(lr3.score(X3_train_transformed, y3_train))\n",
    "print(lr3.score(X3_test_transformed, y3_test))"
   ]
  },
  {
   "cell_type": "code",
   "execution_count": 139,
   "id": "89b89897-fd89-43fd-874f-d535950811a2",
   "metadata": {
    "tags": []
   },
   "outputs": [
    {
     "name": "stdout",
     "output_type": "stream",
     "text": [
      "0.7988694185175699\n",
      "0.3861419926788837\n"
     ]
    }
   ],
   "source": [
    "rf3 = RandomForestRegressor()\n",
    "rf3.fit(X3_train_transformed, y3_train)\n",
    "print(rf3.score(X3_train_transformed, y3_train))\n",
    "print(rf3.score(X3_test_transformed, y3_test))    "
   ]
  },
  {
   "cell_type": "code",
   "execution_count": 140,
   "id": "7868093f-9b36-4d7c-9708-56b7105c9b80",
   "metadata": {
    "tags": []
   },
   "outputs": [
    {
     "name": "stdout",
     "output_type": "stream",
     "text": [
      "0.8333177482959641\n",
      "0.187679792316212\n"
     ]
    }
   ],
   "source": [
    "et3 =ExtraTreesRegressor()\n",
    "et3.fit(X3_train_transformed, y3_train)\n",
    "print(et3.score(X3_train_transformed, y3_train))\n",
    "print(et3.score(X3_test_transformed, y3_test))     "
   ]
  },
  {
   "cell_type": "code",
   "execution_count": 46,
   "id": "d01e0e00-c423-4377-a11a-cd665971eac3",
   "metadata": {
    "tags": []
   },
   "outputs": [
    {
     "data": {
      "text/plain": [
       "0    2139\n",
       "1     426\n",
       "Name: holiday, dtype: int64"
      ]
     },
     "execution_count": 46,
     "metadata": {},
     "output_type": "execute_result"
    }
   ],
   "source": [
    "df['holiday'].value_counts()"
   ]
  },
  {
   "cell_type": "code",
   "execution_count": null,
   "id": "68168f7d-dbbb-4c90-a0e8-481a35fb5077",
   "metadata": {},
   "outputs": [],
   "source": [
    "# Filling in the weather data using forward fill rather than dropping made the models worse not better.\n",
    "# Filling in the weather data using back fill was better than forward fil- compare to dropping and compare to fill using other station if possible"
   ]
  },
  {
   "cell_type": "code",
   "execution_count": 4,
   "id": "2277fe10-e4aa-45a1-bc95-4ef493eedb7b",
   "metadata": {
    "tags": []
   },
   "outputs": [],
   "source": [
    "df1 = pd.read_csv('data/df1_with_weather1.csv')"
   ]
  },
  {
   "cell_type": "code",
   "execution_count": 5,
   "id": "3bc4593d-dc91-4a21-9696-0908eac825f5",
   "metadata": {
    "tags": []
   },
   "outputs": [
    {
     "data": {
      "text/html": [
       "<div>\n",
       "<style scoped>\n",
       "    .dataframe tbody tr th:only-of-type {\n",
       "        vertical-align: middle;\n",
       "    }\n",
       "\n",
       "    .dataframe tbody tr th {\n",
       "        vertical-align: top;\n",
       "    }\n",
       "\n",
       "    .dataframe thead th {\n",
       "        text-align: right;\n",
       "    }\n",
       "</style>\n",
       "<table border=\"1\" class=\"dataframe\">\n",
       "  <thead>\n",
       "    <tr style=\"text-align: right;\">\n",
       "      <th></th>\n",
       "      <th>DATE1</th>\n",
       "      <th>DAY_OF_WEEK</th>\n",
       "      <th>SITE_NAME</th>\n",
       "      <th>TOWN</th>\n",
       "      <th>WATERBODY</th>\n",
       "      <th>INSPECTOR_ID</th>\n",
       "      <th>PAY_VOL</th>\n",
       "      <th>SHIFT_START</th>\n",
       "      <th>TRAILERS</th>\n",
       "      <th>SHIFT_END</th>\n",
       "      <th>SHIFT_LENGTH</th>\n",
       "      <th>TOTALINSP</th>\n",
       "      <th>NAME</th>\n",
       "      <th>PRCP</th>\n",
       "      <th>TMAX</th>\n",
       "      <th>TMIN</th>\n",
       "      <th>ID_COUNT</th>\n",
       "    </tr>\n",
       "  </thead>\n",
       "  <tbody>\n",
       "    <tr>\n",
       "      <th>0</th>\n",
       "      <td>2021-05-28</td>\n",
       "      <td>Fri</td>\n",
       "      <td>Launch Drive</td>\n",
       "      <td>Monmouth</td>\n",
       "      <td>Cobbosseecontee Lake</td>\n",
       "      <td>4771</td>\n",
       "      <td>Paid</td>\n",
       "      <td>12:00</td>\n",
       "      <td>10.0</td>\n",
       "      <td>18:00</td>\n",
       "      <td>360</td>\n",
       "      <td>33.0</td>\n",
       "      <td>WINTHROP, ME US</td>\n",
       "      <td>0.00</td>\n",
       "      <td>72.0</td>\n",
       "      <td>45.0</td>\n",
       "      <td>55</td>\n",
       "    </tr>\n",
       "    <tr>\n",
       "      <th>1</th>\n",
       "      <td>2021-05-28</td>\n",
       "      <td>Fri</td>\n",
       "      <td>Whippoorwill Road</td>\n",
       "      <td>Litchfield</td>\n",
       "      <td>Woodbury Pond</td>\n",
       "      <td>4174</td>\n",
       "      <td>Paid</td>\n",
       "      <td>12:00</td>\n",
       "      <td>1.0</td>\n",
       "      <td>18:00</td>\n",
       "      <td>360</td>\n",
       "      <td>13.0</td>\n",
       "      <td>WINTHROP, ME US</td>\n",
       "      <td>0.00</td>\n",
       "      <td>72.0</td>\n",
       "      <td>45.0</td>\n",
       "      <td>131</td>\n",
       "    </tr>\n",
       "    <tr>\n",
       "      <th>2</th>\n",
       "      <td>2021-05-28</td>\n",
       "      <td>Fri</td>\n",
       "      <td>Augusta West Kampground</td>\n",
       "      <td>Winthrop</td>\n",
       "      <td>Annabessacook Lake</td>\n",
       "      <td>4769</td>\n",
       "      <td>Paid</td>\n",
       "      <td>12:00</td>\n",
       "      <td>0.0</td>\n",
       "      <td>18:00</td>\n",
       "      <td>360</td>\n",
       "      <td>1.0</td>\n",
       "      <td>WINTHROP, ME US</td>\n",
       "      <td>0.00</td>\n",
       "      <td>72.0</td>\n",
       "      <td>45.0</td>\n",
       "      <td>56</td>\n",
       "    </tr>\n",
       "    <tr>\n",
       "      <th>3</th>\n",
       "      <td>2021-05-28</td>\n",
       "      <td>Fri</td>\n",
       "      <td>East Winthrop</td>\n",
       "      <td>Winthrop</td>\n",
       "      <td>Cobbosseecontee Lake</td>\n",
       "      <td>4485</td>\n",
       "      <td>Paid</td>\n",
       "      <td>12:00</td>\n",
       "      <td>1.0</td>\n",
       "      <td>18:00</td>\n",
       "      <td>360</td>\n",
       "      <td>2.0</td>\n",
       "      <td>WINTHROP, ME US</td>\n",
       "      <td>0.00</td>\n",
       "      <td>72.0</td>\n",
       "      <td>45.0</td>\n",
       "      <td>16</td>\n",
       "    </tr>\n",
       "    <tr>\n",
       "      <th>4</th>\n",
       "      <td>2021-05-29</td>\n",
       "      <td>Sat</td>\n",
       "      <td>Thorofare Rd</td>\n",
       "      <td>Litchfield</td>\n",
       "      <td>Pleasant Pond</td>\n",
       "      <td>4944</td>\n",
       "      <td>Paid</td>\n",
       "      <td>7:00</td>\n",
       "      <td>1.0</td>\n",
       "      <td>17:00</td>\n",
       "      <td>600</td>\n",
       "      <td>11.0</td>\n",
       "      <td>WINTHROP, ME US</td>\n",
       "      <td>0.02</td>\n",
       "      <td>62.0</td>\n",
       "      <td>45.0</td>\n",
       "      <td>57</td>\n",
       "    </tr>\n",
       "  </tbody>\n",
       "</table>\n",
       "</div>"
      ],
      "text/plain": [
       "        DATE1 DAY_OF_WEEK                SITE_NAME        TOWN  \\\n",
       "0  2021-05-28         Fri             Launch Drive    Monmouth   \n",
       "1  2021-05-28         Fri        Whippoorwill Road  Litchfield   \n",
       "2  2021-05-28         Fri  Augusta West Kampground    Winthrop   \n",
       "3  2021-05-28         Fri            East Winthrop    Winthrop   \n",
       "4  2021-05-29         Sat             Thorofare Rd  Litchfield   \n",
       "\n",
       "              WATERBODY  INSPECTOR_ID PAY_VOL SHIFT_START  TRAILERS SHIFT_END  \\\n",
       "0  Cobbosseecontee Lake          4771    Paid       12:00      10.0     18:00   \n",
       "1         Woodbury Pond          4174    Paid       12:00       1.0     18:00   \n",
       "2    Annabessacook Lake          4769    Paid       12:00       0.0     18:00   \n",
       "3  Cobbosseecontee Lake          4485    Paid       12:00       1.0     18:00   \n",
       "4         Pleasant Pond          4944    Paid        7:00       1.0     17:00   \n",
       "\n",
       "   SHIFT_LENGTH  TOTALINSP             NAME  PRCP  TMAX  TMIN  ID_COUNT  \n",
       "0           360       33.0  WINTHROP, ME US  0.00  72.0  45.0        55  \n",
       "1           360       13.0  WINTHROP, ME US  0.00  72.0  45.0       131  \n",
       "2           360        1.0  WINTHROP, ME US  0.00  72.0  45.0        56  \n",
       "3           360        2.0  WINTHROP, ME US  0.00  72.0  45.0        16  \n",
       "4           600       11.0  WINTHROP, ME US  0.02  62.0  45.0        57  "
      ]
     },
     "execution_count": 5,
     "metadata": {},
     "output_type": "execute_result"
    }
   ],
   "source": [
    "df1.head()"
   ]
  },
  {
   "cell_type": "code",
   "execution_count": 6,
   "id": "4e7ecc73-57e8-47b9-99a4-d0109f0090df",
   "metadata": {
    "tags": []
   },
   "outputs": [],
   "source": [
    "df1.drop(columns=['TRAILERS'], inplace=True)\n",
    "df1.dropna(inplace=True)"
   ]
  },
  {
   "cell_type": "code",
   "execution_count": 7,
   "id": "f1668f71-6a95-4d33-9fe3-9ed26b287021",
   "metadata": {
    "tags": []
   },
   "outputs": [],
   "source": [
    "# Convert 'date1' to datetime\n",
    "df1['DATE'] = pd.to_datetime(df1['DATE1'], format='%Y/%m/%d')\n",
    "\n",
    "# Create 'month' and 'year' columns\n",
    "df1['month'] = df1['DATE'].dt.month\n",
    "df1['year'] = df1['DATE'].dt.year"
   ]
  },
  {
   "cell_type": "code",
   "execution_count": 8,
   "id": "00e08479-68b8-4b42-acfd-f6ada10a506f",
   "metadata": {
    "tags": []
   },
   "outputs": [],
   "source": [
    "df1.SHIFT_START = pd.to_datetime(df1.SHIFT_START, format='%H:%M')\n",
    "df1.SHIFT_END = pd.to_datetime(df1.SHIFT_END)"
   ]
  },
  {
   "cell_type": "code",
   "execution_count": 9,
   "id": "fa55d658-85af-4947-a952-56dfe2748488",
   "metadata": {
    "tags": []
   },
   "outputs": [],
   "source": [
    "df1['SHIFT_START_CATEGORY'] = pd.cut(pd.to_datetime(df1['SHIFT_START'], format='%H:%M').dt.hour,\n",
    "                                    bins =[-1, 8, 11, 14, 17, 24],\n",
    "                                    labels=['Early Morning', 'Morning', 'Afternoon', 'Late Afternoon', 'Evening'])\n",
    "           "
   ]
  },
  {
   "cell_type": "code",
   "execution_count": 10,
   "id": "73c738e2-b469-43b9-80bc-e6aa394a2cdc",
   "metadata": {
    "tags": []
   },
   "outputs": [],
   "source": [
    "df1['SHIFT_END_CATEGORY'] = pd.cut(pd.to_datetime(df1['SHIFT_END'], format='%H:%M').dt.hour,\n",
    "                                    bins =[-1, 8, 11, 14, 17, 19, 24],\n",
    "                                    labels=['Early Morning', 'Morning', 'Afternoon', 'Late Afternoon', 'Evening', 'Night'])\n",
    "                        "
   ]
  },
  {
   "cell_type": "code",
   "execution_count": 11,
   "id": "ba505b30-c472-48cc-a4de-62bcf1d840bc",
   "metadata": {
    "tags": []
   },
   "outputs": [],
   "source": [
    "holiday_list_weekends = ['2021-05-31', '2021-05-29', '2021-05-30', '2021-07-04', '2021-07-03', '2021-07-05', '2021-09-06', '2021-09-04', '2021-09-05', '2021-06-19', '2021-06-20',\n",
    "                '2022-05-28', '2022-05-29', '2022-05-30', '2022-07-02', '2022-07-03', '2022-07-04', '2022-06-19', '2022-09-03', '2022-09-04', '2022-06-18',\n",
    "                '2023-05-29', '2023-05-27', '2023-05-28', '2023-07-01', '2023-07-02', '2023-07-04', '2023-09-02', '2023-09-03', '2023-09-04', '2023-06-18', '2023-06-17']\n",
    "df1['holiday']= np.where(df1['DATE'].isin(holiday_list_weekends), 1, 0)"
   ]
  },
  {
   "cell_type": "code",
   "execution_count": 13,
   "id": "b47ce5b2-3107-41a3-be99-666c69514a6f",
   "metadata": {
    "tags": []
   },
   "outputs": [],
   "source": [
    "X1 = df1.drop(columns=['DATE1', 'TOWN', 'WATERBODY', 'INSPECTOR_ID', 'TOTALINSP', 'DATE', 'SHIFT_START', 'SHIFT_END'])\n",
    "y1 = df1.TOTALINSP            \n",
    "\n",
    "X1_train, X1_test, y1_train, y1_test = train_test_split(X1, y1, random_state=42, test_size=.2)"
   ]
  },
  {
   "cell_type": "code",
   "execution_count": 14,
   "id": "de215f08-f089-4127-b6e7-a8aadff27aa8",
   "metadata": {
    "tags": []
   },
   "outputs": [],
   "source": [
    "categorical_columns = ['SITE_NAME', 'DAY_OF_WEEK', 'month', 'year', 'PAY_VOL', 'SHIFT_START_CATEGORY', 'SHIFT_END_CATEGORY']\n",
    "oh = OneHotEncoder(handle_unknown='ignore', drop='first')\n",
    "X1_train_transformed = oh.fit_transform(X1_train[categorical_columns])\n",
    "X1_test_transformed= oh.transform(X1_test[categorical_columns])"
   ]
  },
  {
   "cell_type": "code",
   "execution_count": 15,
   "id": "a80ab12e-a7ad-4d59-92fa-1a6d5de024c9",
   "metadata": {
    "tags": []
   },
   "outputs": [
    {
     "name": "stdout",
     "output_type": "stream",
     "text": [
      "0.42266411837465556\n",
      "0.48353193229186\n"
     ]
    }
   ],
   "source": [
    "lr1 = LinearRegression()\n",
    "lr1.fit(X1_train_transformed, y1_train)\n",
    "print(lr1.score(X1_train_transformed, y1_train))\n",
    "print(lr1.score(X1_test_transformed, y1_test))"
   ]
  },
  {
   "cell_type": "code",
   "execution_count": 16,
   "id": "c55b954e-523d-495c-931a-c3c908abbe3b",
   "metadata": {
    "tags": []
   },
   "outputs": [
    {
     "name": "stdout",
     "output_type": "stream",
     "text": [
      "0.7893543495511808\n",
      "0.44322031454391253\n"
     ]
    }
   ],
   "source": [
    "rf1 = RandomForestRegressor()\n",
    "rf1.fit(X1_train_transformed, y1_train)\n",
    "print(rf1.score(X1_train_transformed, y1_train))\n",
    "print(rf1.score(X1_test_transformed, y1_test))    "
   ]
  },
  {
   "cell_type": "code",
   "execution_count": 17,
   "id": "2b72e520-29af-437d-a195-b5a039a0ebc5",
   "metadata": {
    "tags": []
   },
   "outputs": [
    {
     "name": "stdout",
     "output_type": "stream",
     "text": [
      "0.8243313162085231\n",
      "0.20099809447507122\n"
     ]
    }
   ],
   "source": [
    "et1 =ExtraTreesRegressor()\n",
    "et1.fit(X1_train_transformed, y1_train)\n",
    "print(et1.score(X1_train_transformed, y1_train))\n",
    "print(et1.score(X1_test_transformed, y1_test))   "
   ]
  },
  {
   "cell_type": "code",
   "execution_count": null,
   "id": "7c3acc2a-6d87-4e8c-adb9-d6446a87576c",
   "metadata": {},
   "outputs": [],
   "source": []
  },
  {
   "cell_type": "code",
   "execution_count": 18,
   "id": "72f5a5ef-5a57-4771-b0a5-daa3276b882f",
   "metadata": {
    "tags": []
   },
   "outputs": [],
   "source": [
    "df1 = pd.read_csv('data/df1_with_weather1.csv')"
   ]
  },
  {
   "cell_type": "code",
   "execution_count": 19,
   "id": "46a847a8-e8e5-4faf-abc6-b24ea50ccb4b",
   "metadata": {
    "tags": []
   },
   "outputs": [],
   "source": [
    "df1.drop(columns=['TRAILERS'], inplace=True)\n",
    "df1.dropna(inplace=True)"
   ]
  },
  {
   "cell_type": "code",
   "execution_count": 20,
   "id": "55e3d342-8335-4bf5-ab0a-cad47fdddbc0",
   "metadata": {
    "tags": []
   },
   "outputs": [],
   "source": [
    "# Convert 'date1' to datetime\n",
    "df1['DATE'] = pd.to_datetime(df1['DATE1'], format='%Y/%m/%d')\n",
    "\n",
    "# Create 'month' and 'year' columns\n",
    "df1['month'] = df1['DATE'].dt.month\n",
    "df1['year'] = df1['DATE'].dt.year"
   ]
  },
  {
   "cell_type": "code",
   "execution_count": 21,
   "id": "d53c9118-deb0-463e-83f8-348945fb3633",
   "metadata": {
    "tags": []
   },
   "outputs": [],
   "source": [
    "df1.SHIFT_START = pd.to_datetime(df1.SHIFT_START, format='%H:%M')\n",
    "df1.SHIFT_END = pd.to_datetime(df1.SHIFT_END)"
   ]
  },
  {
   "cell_type": "code",
   "execution_count": 22,
   "id": "3a1680a0-e47f-47c6-a526-85bd4558a24f",
   "metadata": {
    "tags": []
   },
   "outputs": [],
   "source": [
    "df1['SHIFT_START_CATEGORY'] = pd.cut(pd.to_datetime(df1['SHIFT_START'], format='%H:%M').dt.hour,\n",
    "                                    bins =[-1, 8, 11, 14, 17, 24],\n",
    "                                    labels=['Early Morning', 'Morning', 'Afternoon', 'Late Afternoon', 'Evening'])\n",
    "           "
   ]
  },
  {
   "cell_type": "code",
   "execution_count": 23,
   "id": "1359f7b7-e493-44cc-b08f-0b8db7ab3c51",
   "metadata": {
    "tags": []
   },
   "outputs": [],
   "source": [
    "df1['SHIFT_END_CATEGORY'] = pd.cut(pd.to_datetime(df1['SHIFT_END'], format='%H:%M').dt.hour,\n",
    "                                    bins =[-1, 8, 11, 14, 17, 19, 24],\n",
    "                                    labels=['Early Morning', 'Morning', 'Afternoon', 'Late Afternoon', 'Evening', 'Night'])\n",
    "                        "
   ]
  },
  {
   "cell_type": "code",
   "execution_count": 24,
   "id": "7132ab4c-6fba-424c-8d69-4ab10602561b",
   "metadata": {
    "tags": []
   },
   "outputs": [],
   "source": [
    "# Taking father's day out of the holiday weekend\n",
    "holiday_list_weekends = ['2021-05-31', '2021-05-29', '2021-05-30', '2021-07-04', '2021-07-03', '2021-07-05', '2021-09-06', '2021-09-04', '2021-09-05',\n",
    "                '2022-05-28', '2022-05-29', '2022-05-30', '2022-07-02', '2022-07-03', '2022-07-04', '2022-09-03', '2022-09-04',\n",
    "                '2023-05-29', '2023-05-27', '2023-05-28', '2023-07-01', '2023-07-02', '2023-07-04', '2023-09-02', '2023-09-03', '2023-09-04']\n",
    "df1['holiday']= np.where(df1['DATE'].isin(holiday_list_weekends), 1, 0)"
   ]
  },
  {
   "cell_type": "code",
   "execution_count": 25,
   "id": "018923d8-bcd0-4862-aaa6-17c1460e52a8",
   "metadata": {
    "tags": []
   },
   "outputs": [],
   "source": [
    "X1 = df1.drop(columns=['DATE1', 'TOWN', 'WATERBODY', 'INSPECTOR_ID', 'TOTALINSP', 'DATE', 'SHIFT_START', 'SHIFT_END'])\n",
    "y1 = df1.TOTALINSP            \n",
    "\n",
    "X1_train, X1_test, y1_train, y1_test = train_test_split(X1, y1, random_state=42, test_size=.2)"
   ]
  },
  {
   "cell_type": "code",
   "execution_count": 26,
   "id": "e36ae089-3970-4215-9954-b2dbb99a429b",
   "metadata": {
    "tags": []
   },
   "outputs": [],
   "source": [
    "categorical_columns = ['SITE_NAME', 'DAY_OF_WEEK', 'month', 'year', 'PAY_VOL', 'SHIFT_START_CATEGORY', 'SHIFT_END_CATEGORY']\n",
    "oh = OneHotEncoder(handle_unknown='ignore', drop='first')\n",
    "X1_train_transformed = oh.fit_transform(X1_train[categorical_columns])\n",
    "X1_test_transformed= oh.transform(X1_test[categorical_columns])"
   ]
  },
  {
   "cell_type": "code",
   "execution_count": 27,
   "id": "a68066ad-c04c-4758-bae6-dfa35f827975",
   "metadata": {
    "tags": []
   },
   "outputs": [
    {
     "name": "stdout",
     "output_type": "stream",
     "text": [
      "0.42266411837465556\n",
      "0.48353193229186\n"
     ]
    }
   ],
   "source": [
    "lr1 = LinearRegression()\n",
    "lr1.fit(X1_train_transformed, y1_train)\n",
    "print(lr1.score(X1_train_transformed, y1_train))\n",
    "print(lr1.score(X1_test_transformed, y1_test))"
   ]
  },
  {
   "cell_type": "code",
   "execution_count": 28,
   "id": "1e61175e-a3b6-4b99-bf30-4ad19963cfbf",
   "metadata": {
    "tags": []
   },
   "outputs": [
    {
     "name": "stdout",
     "output_type": "stream",
     "text": [
      "0.7903965289224963\n",
      "0.44141685599080527\n"
     ]
    }
   ],
   "source": [
    "rf1 = RandomForestRegressor()\n",
    "rf1.fit(X1_train_transformed, y1_train)\n",
    "print(rf1.score(X1_train_transformed, y1_train))\n",
    "print(rf1.score(X1_test_transformed, y1_test))   "
   ]
  },
  {
   "cell_type": "code",
   "execution_count": 29,
   "id": "b8c2ed80-fe28-482c-9bdf-dcf71d9e07c5",
   "metadata": {
    "tags": []
   },
   "outputs": [
    {
     "name": "stdout",
     "output_type": "stream",
     "text": [
      "0.8243313162085231\n",
      "0.20093195438709655\n"
     ]
    }
   ],
   "source": [
    "et1 =ExtraTreesRegressor()\n",
    "et1.fit(X1_train_transformed, y1_train)\n",
    "print(et1.score(X1_train_transformed, y1_train))\n",
    "print(et1.score(X1_test_transformed, y1_test))   "
   ]
  },
  {
   "cell_type": "markdown",
   "id": "b9cf97a0-3581-43f6-be79-c5ab7d7d3a32",
   "metadata": {},
   "source": [
    "### Progress Check-in\n",
    "- Adding the weather data made a signficant improvement\n",
    "    - Need to determine the best way to deal with the missing weather data (drop, backfill, fill with different station- not front fill)\n",
    "- Adding the number of shifts worked by the inspector improved the tree based model\n",
    "    - Should I use more feature engineering and further manipulate this data?\n",
    "- Linear Regression is decent and not overfit: maybe not solid enough yet for a production model?\n",
    "- Tree models very overfit, but random forest has a decent testing R2 and if overfit is reduced this may be a winning model"
   ]
  },
  {
   "cell_type": "code",
   "execution_count": 30,
   "id": "4ed38886-2141-4bd8-a64d-796b8098c6b9",
   "metadata": {
    "tags": []
   },
   "outputs": [
    {
     "name": "stdout",
     "output_type": "stream",
     "text": [
      "0.23092726105173633\n",
      "0.2081944617287067\n"
     ]
    }
   ],
   "source": [
    "ada = AdaBoostRegressor()\n",
    "ada.fit(X1_train_transformed, y1_train)\n",
    "print(ada.score(X1_train_transformed, y1_train))\n",
    "print(ada.score(X1_test_transformed, y1_test))"
   ]
  },
  {
   "cell_type": "code",
   "execution_count": 31,
   "id": "04c4dbd4-0f1a-4120-a0e5-e0cea2479486",
   "metadata": {
    "tags": []
   },
   "outputs": [
    {
     "name": "stdout",
     "output_type": "stream",
     "text": [
      "0.5272917851498473\n",
      "0.5208917615164887\n"
     ]
    }
   ],
   "source": [
    "grad = GradientBoostingRegressor()\n",
    "grad.fit(X1_train_transformed, y1_train)\n",
    "print(grad.score(X1_train_transformed, y1_train))\n",
    "print(grad.score(X1_test_transformed, y1_test))"
   ]
  },
  {
   "cell_type": "code",
   "execution_count": null,
   "id": "78ded3a2-3f2c-4f15-b709-d64ddd60f4ef",
   "metadata": {},
   "outputs": [],
   "source": []
  },
  {
   "cell_type": "code",
   "execution_count": null,
   "id": "113c9c1c-9a8d-4188-920d-46dbc15ddd72",
   "metadata": {},
   "outputs": [],
   "source": [
    "# Try some initial gridsearching\n",
    "rf1 = RandomForestRegressor()\n",
    "rf1.fit(X1_train_transformed, y1_train)\n",
    "print(rf1.score(X1_train_transformed, y1_train))\n",
    "print(rf1.score(X1_test_transformed, y1_test))   \n"
   ]
  },
  {
   "cell_type": "code",
   "execution_count": null,
   "id": "58ad3377-8289-4bf7-a645-a7598f03a33b",
   "metadata": {},
   "outputs": [],
   "source": []
  },
  {
   "cell_type": "code",
   "execution_count": null,
   "id": "f7955d90-951d-44e1-acb3-581f038c7eda",
   "metadata": {},
   "outputs": [],
   "source": []
  },
  {
   "cell_type": "code",
   "execution_count": 32,
   "id": "212d8b5d-eafa-468f-8c83-b2b2f88de66c",
   "metadata": {
    "tags": []
   },
   "outputs": [
    {
     "ename": "NameError",
     "evalue": "name 'KFold' is not defined",
     "output_type": "error",
     "traceback": [
      "\u001b[1;31m---------------------------------------------------------------------------\u001b[0m",
      "\u001b[1;31mNameError\u001b[0m                                 Traceback (most recent call last)",
      "Cell \u001b[1;32mIn[32], line 9\u001b[0m\n\u001b[0;32m      1\u001b[0m grad \u001b[38;5;241m=\u001b[39m GradientBoostingRegressor()\n\u001b[0;32m      3\u001b[0m pgrid \u001b[38;5;241m=\u001b[39m {\n\u001b[0;32m      4\u001b[0m     \u001b[38;5;124m'\u001b[39m\u001b[38;5;124mestimator__learning_rate\u001b[39m\u001b[38;5;124m'\u001b[39m: [\u001b[38;5;241m0.1\u001b[39m, \u001b[38;5;241m1\u001b[39m, \u001b[38;5;241m10\u001b[39m],\n\u001b[0;32m      5\u001b[0m     \u001b[38;5;124m'\u001b[39m\u001b[38;5;124mestimator__n_estimators\u001b[39m\u001b[38;5;124m'\u001b[39m: [\u001b[38;5;241m10\u001b[39m, \u001b[38;5;241m100\u001b[39m],\n\u001b[0;32m      6\u001b[0m     \u001b[38;5;124m'\u001b[39m\u001b[38;5;124mestimator__max_depth\u001b[39m\u001b[38;5;124m'\u001b[39m: [\u001b[38;5;28;01mNone\u001b[39;00m, \u001b[38;5;241m1\u001b[39m, \u001b[38;5;241m2\u001b[39m, \u001b[38;5;241m3\u001b[39m]\n\u001b[0;32m      7\u001b[0m }\n\u001b[1;32m----> 9\u001b[0m kf1 \u001b[38;5;241m=\u001b[39m KFold(n_splits\u001b[38;5;241m=\u001b[39m\u001b[38;5;241m10\u001b[39m, shuffle\u001b[38;5;241m=\u001b[39m\u001b[38;5;28;01mTrue\u001b[39;00m, random_state\u001b[38;5;241m=\u001b[39m\u001b[38;5;241m42\u001b[39m)\n\u001b[0;32m     10\u001b[0m gs1 \u001b[38;5;241m=\u001b[39m GridSearchCV(grad, pgrid, cv\u001b[38;5;241m=\u001b[39mkf1, n_jobs\u001b[38;5;241m=\u001b[39m\u001b[38;5;241m-\u001b[39m\u001b[38;5;241m1\u001b[39m)\n",
      "\u001b[1;31mNameError\u001b[0m: name 'KFold' is not defined"
     ]
    }
   ],
   "source": [
    "grad = GradientBoostingRegressor()\n",
    "\n",
    "pgrid = {\n",
    "    'estimator__learning_rate': [0.1, 1, 10],\n",
    "    'estimator__n_estimators': [10, 100],\n",
    "    'estimator__max_depth': [None, 1, 2, 3]\n",
    "}\n",
    "\n",
    "kf1 = KFold(n_splits=10, shuffle=True, random_state=42)\n",
    "gs1 = GridSearchCV(grad, pgrid, cv=kf1, n_jobs=-1)"
   ]
  },
  {
   "cell_type": "code",
   "execution_count": 33,
   "id": "5efb4536-8bba-4f8c-aa98-a8311cfd71e1",
   "metadata": {
    "tags": []
   },
   "outputs": [],
   "source": [
    "params = {\n",
    "    'max_features': np.arange(5, X1.shape[1] + 1),\n",
    "    'max_depth': np.append(np.arange(1, 50), None),\n",
    "    'min_samples_leaf': [2, 3],   \n",
    "    'n_estimators': [50, 100, 200, 400, 600, 800, 1000, 1200, 1400, 1600, 1800, 2000]\n",
    "}\n",
    "\n",
    "rf_gb = GradientBoostingRegressor(random_state = 42)\n",
    "\n",
    "rf_gb_county_cases = RandomizedSearchCV(rf_gb, params, n_iter=100, cv = 5, n_jobs = -1)"
   ]
  },
  {
   "cell_type": "code",
   "execution_count": 34,
   "id": "62876a23-9e10-49ee-8ad9-0a679300ee46",
   "metadata": {
    "tags": []
   },
   "outputs": [
    {
     "name": "stdout",
     "output_type": "stream",
     "text": [
      "CPU times: total: 3.23 s\n",
      "Wall time: 22min 10s\n"
     ]
    },
    {
     "data": {
      "text/html": [
       "<style>#sk-container-id-1 {color: black;}#sk-container-id-1 pre{padding: 0;}#sk-container-id-1 div.sk-toggleable {background-color: white;}#sk-container-id-1 label.sk-toggleable__label {cursor: pointer;display: block;width: 100%;margin-bottom: 0;padding: 0.3em;box-sizing: border-box;text-align: center;}#sk-container-id-1 label.sk-toggleable__label-arrow:before {content: \"▸\";float: left;margin-right: 0.25em;color: #696969;}#sk-container-id-1 label.sk-toggleable__label-arrow:hover:before {color: black;}#sk-container-id-1 div.sk-estimator:hover label.sk-toggleable__label-arrow:before {color: black;}#sk-container-id-1 div.sk-toggleable__content {max-height: 0;max-width: 0;overflow: hidden;text-align: left;background-color: #f0f8ff;}#sk-container-id-1 div.sk-toggleable__content pre {margin: 0.2em;color: black;border-radius: 0.25em;background-color: #f0f8ff;}#sk-container-id-1 input.sk-toggleable__control:checked~div.sk-toggleable__content {max-height: 200px;max-width: 100%;overflow: auto;}#sk-container-id-1 input.sk-toggleable__control:checked~label.sk-toggleable__label-arrow:before {content: \"▾\";}#sk-container-id-1 div.sk-estimator input.sk-toggleable__control:checked~label.sk-toggleable__label {background-color: #d4ebff;}#sk-container-id-1 div.sk-label input.sk-toggleable__control:checked~label.sk-toggleable__label {background-color: #d4ebff;}#sk-container-id-1 input.sk-hidden--visually {border: 0;clip: rect(1px 1px 1px 1px);clip: rect(1px, 1px, 1px, 1px);height: 1px;margin: -1px;overflow: hidden;padding: 0;position: absolute;width: 1px;}#sk-container-id-1 div.sk-estimator {font-family: monospace;background-color: #f0f8ff;border: 1px dotted black;border-radius: 0.25em;box-sizing: border-box;margin-bottom: 0.5em;}#sk-container-id-1 div.sk-estimator:hover {background-color: #d4ebff;}#sk-container-id-1 div.sk-parallel-item::after {content: \"\";width: 100%;border-bottom: 1px solid gray;flex-grow: 1;}#sk-container-id-1 div.sk-label:hover label.sk-toggleable__label {background-color: #d4ebff;}#sk-container-id-1 div.sk-serial::before {content: \"\";position: absolute;border-left: 1px solid gray;box-sizing: border-box;top: 0;bottom: 0;left: 50%;z-index: 0;}#sk-container-id-1 div.sk-serial {display: flex;flex-direction: column;align-items: center;background-color: white;padding-right: 0.2em;padding-left: 0.2em;position: relative;}#sk-container-id-1 div.sk-item {position: relative;z-index: 1;}#sk-container-id-1 div.sk-parallel {display: flex;align-items: stretch;justify-content: center;background-color: white;position: relative;}#sk-container-id-1 div.sk-item::before, #sk-container-id-1 div.sk-parallel-item::before {content: \"\";position: absolute;border-left: 1px solid gray;box-sizing: border-box;top: 0;bottom: 0;left: 50%;z-index: -1;}#sk-container-id-1 div.sk-parallel-item {display: flex;flex-direction: column;z-index: 1;position: relative;background-color: white;}#sk-container-id-1 div.sk-parallel-item:first-child::after {align-self: flex-end;width: 50%;}#sk-container-id-1 div.sk-parallel-item:last-child::after {align-self: flex-start;width: 50%;}#sk-container-id-1 div.sk-parallel-item:only-child::after {width: 0;}#sk-container-id-1 div.sk-dashed-wrapped {border: 1px dashed gray;margin: 0 0.4em 0.5em 0.4em;box-sizing: border-box;padding-bottom: 0.4em;background-color: white;}#sk-container-id-1 div.sk-label label {font-family: monospace;font-weight: bold;display: inline-block;line-height: 1.2em;}#sk-container-id-1 div.sk-label-container {text-align: center;}#sk-container-id-1 div.sk-container {/* jupyter's `normalize.less` sets `[hidden] { display: none; }` but bootstrap.min.css set `[hidden] { display: none !important; }` so we also need the `!important` here to be able to override the default hidden behavior on the sphinx rendered scikit-learn.org. See: https://github.com/scikit-learn/scikit-learn/issues/21755 */display: inline-block !important;position: relative;}#sk-container-id-1 div.sk-text-repr-fallback {display: none;}</style><div id=\"sk-container-id-1\" class=\"sk-top-container\"><div class=\"sk-text-repr-fallback\"><pre>RandomizedSearchCV(cv=5, estimator=GradientBoostingRegressor(random_state=42),\n",
       "                   n_iter=100, n_jobs=-1,\n",
       "                   param_distributions={&#x27;max_depth&#x27;: array([1, 2, 3, 4, 5, 6, 7, 8, 9, 10, 11, 12, 13, 14, 15, 16, 17, 18, 19,\n",
       "       20, 21, 22, 23, 24, 25, 26, 27, 28, 29, 30, 31, 32, 33, 34, 35, 36,\n",
       "       37, 38, 39, 40, 41, 42, 43, 44, 45, 46, 47, 48, 49, None],\n",
       "      dtype=object),\n",
       "                                        &#x27;max_features&#x27;: array([ 5,  6,  7,  8,  9, 10, 11, 12, 13, 14]),\n",
       "                                        &#x27;min_samples_leaf&#x27;: [2, 3],\n",
       "                                        &#x27;n_estimators&#x27;: [50, 100, 200, 400, 600,\n",
       "                                                         800, 1000, 1200, 1400,\n",
       "                                                         1600, 1800, 2000]})</pre><b>In a Jupyter environment, please rerun this cell to show the HTML representation or trust the notebook. <br />On GitHub, the HTML representation is unable to render, please try loading this page with nbviewer.org.</b></div><div class=\"sk-container\" hidden><div class=\"sk-item sk-dashed-wrapped\"><div class=\"sk-label-container\"><div class=\"sk-label sk-toggleable\"><input class=\"sk-toggleable__control sk-hidden--visually\" id=\"sk-estimator-id-1\" type=\"checkbox\" ><label for=\"sk-estimator-id-1\" class=\"sk-toggleable__label sk-toggleable__label-arrow\">RandomizedSearchCV</label><div class=\"sk-toggleable__content\"><pre>RandomizedSearchCV(cv=5, estimator=GradientBoostingRegressor(random_state=42),\n",
       "                   n_iter=100, n_jobs=-1,\n",
       "                   param_distributions={&#x27;max_depth&#x27;: array([1, 2, 3, 4, 5, 6, 7, 8, 9, 10, 11, 12, 13, 14, 15, 16, 17, 18, 19,\n",
       "       20, 21, 22, 23, 24, 25, 26, 27, 28, 29, 30, 31, 32, 33, 34, 35, 36,\n",
       "       37, 38, 39, 40, 41, 42, 43, 44, 45, 46, 47, 48, 49, None],\n",
       "      dtype=object),\n",
       "                                        &#x27;max_features&#x27;: array([ 5,  6,  7,  8,  9, 10, 11, 12, 13, 14]),\n",
       "                                        &#x27;min_samples_leaf&#x27;: [2, 3],\n",
       "                                        &#x27;n_estimators&#x27;: [50, 100, 200, 400, 600,\n",
       "                                                         800, 1000, 1200, 1400,\n",
       "                                                         1600, 1800, 2000]})</pre></div></div></div><div class=\"sk-parallel\"><div class=\"sk-parallel-item\"><div class=\"sk-item\"><div class=\"sk-label-container\"><div class=\"sk-label sk-toggleable\"><input class=\"sk-toggleable__control sk-hidden--visually\" id=\"sk-estimator-id-2\" type=\"checkbox\" ><label for=\"sk-estimator-id-2\" class=\"sk-toggleable__label sk-toggleable__label-arrow\">estimator: GradientBoostingRegressor</label><div class=\"sk-toggleable__content\"><pre>GradientBoostingRegressor(random_state=42)</pre></div></div></div><div class=\"sk-serial\"><div class=\"sk-item\"><div class=\"sk-estimator sk-toggleable\"><input class=\"sk-toggleable__control sk-hidden--visually\" id=\"sk-estimator-id-3\" type=\"checkbox\" ><label for=\"sk-estimator-id-3\" class=\"sk-toggleable__label sk-toggleable__label-arrow\">GradientBoostingRegressor</label><div class=\"sk-toggleable__content\"><pre>GradientBoostingRegressor(random_state=42)</pre></div></div></div></div></div></div></div></div></div></div>"
      ],
      "text/plain": [
       "RandomizedSearchCV(cv=5, estimator=GradientBoostingRegressor(random_state=42),\n",
       "                   n_iter=100, n_jobs=-1,\n",
       "                   param_distributions={'max_depth': array([1, 2, 3, 4, 5, 6, 7, 8, 9, 10, 11, 12, 13, 14, 15, 16, 17, 18, 19,\n",
       "       20, 21, 22, 23, 24, 25, 26, 27, 28, 29, 30, 31, 32, 33, 34, 35, 36,\n",
       "       37, 38, 39, 40, 41, 42, 43, 44, 45, 46, 47, 48, 49, None],\n",
       "      dtype=object),\n",
       "                                        'max_features': array([ 5,  6,  7,  8,  9, 10, 11, 12, 13, 14]),\n",
       "                                        'min_samples_leaf': [2, 3],\n",
       "                                        'n_estimators': [50, 100, 200, 400, 600,\n",
       "                                                         800, 1000, 1200, 1400,\n",
       "                                                         1600, 1800, 2000]})"
      ]
     },
     "execution_count": 34,
     "metadata": {},
     "output_type": "execute_result"
    }
   ],
   "source": [
    "%%time\n",
    "rf_gb.fit(X1_train_transformed, y1_train)"
   ]
  },
  {
   "cell_type": "code",
   "execution_count": 35,
   "id": "19b1573c-e1ac-49ba-8b94-32a9291a832e",
   "metadata": {
    "tags": []
   },
   "outputs": [
    {
     "name": "stdout",
     "output_type": "stream",
     "text": [
      "Train Score: 0.6150099401370822\n",
      "Test Score: 0.5473442855804718\n"
     ]
    }
   ],
   "source": [
    "print(f'Train Score: {rf_gb.score(X1_train_transformed, y1_train)}')\n",
    "print(f'Test Score: {rf_gb.score(X1_test_transformed, y1_test)}')"
   ]
  },
  {
   "cell_type": "code",
   "execution_count": 36,
   "id": "06a0dd5a-480f-40d5-9c71-6a552cb8c06a",
   "metadata": {
    "tags": []
   },
   "outputs": [
    {
     "data": {
      "text/plain": [
       "{'n_estimators': 600,\n",
       " 'min_samples_leaf': 2,\n",
       " 'max_features': 10,\n",
       " 'max_depth': 3}"
      ]
     },
     "execution_count": 36,
     "metadata": {},
     "output_type": "execute_result"
    }
   ],
   "source": [
    "rf_gb.best_params_"
   ]
  },
  {
   "cell_type": "code",
   "execution_count": 39,
   "id": "b1c29e76-a24a-49d1-acbb-a7b74066ab78",
   "metadata": {
    "tags": []
   },
   "outputs": [],
   "source": [
    "params = {\n",
    "    'max_features': np.arange(1, X1.shape[1] + 1), \n",
    "    'max_depth': np.append(np.arange(1, 10), None), \n",
    "    'min_samples_leaf': np.arange(1, 31) \n",
    "}\n",
    "kf = KFold(n_splits=10, shuffle=True, random_state=2023)\n",
    "ranfor = RandomForestRegressor(\n",
    "    n_estimators=100,\n",
    "    random_state=2023\n",
    ")\n",
    "\n",
    "gs2 = GridSearchCV(ranfor, params, cv=kf, n_jobs=2)"
   ]
  },
  {
   "cell_type": "code",
   "execution_count": 40,
   "id": "046a7fd0-787c-426a-ba83-9b1ee64927bb",
   "metadata": {
    "tags": []
   },
   "outputs": [
    {
     "ename": "KeyboardInterrupt",
     "evalue": "",
     "output_type": "error",
     "traceback": [
      "\u001b[1;31m---------------------------------------------------------------------------\u001b[0m",
      "\u001b[1;31mKeyboardInterrupt\u001b[0m                         Traceback (most recent call last)",
      "File \u001b[1;32m<timed eval>:1\u001b[0m\n",
      "File \u001b[1;32m~\\anaconda3\\Lib\\site-packages\\sklearn\\base.py:1151\u001b[0m, in \u001b[0;36m_fit_context.<locals>.decorator.<locals>.wrapper\u001b[1;34m(estimator, *args, **kwargs)\u001b[0m\n\u001b[0;32m   1144\u001b[0m     estimator\u001b[38;5;241m.\u001b[39m_validate_params()\n\u001b[0;32m   1146\u001b[0m \u001b[38;5;28;01mwith\u001b[39;00m config_context(\n\u001b[0;32m   1147\u001b[0m     skip_parameter_validation\u001b[38;5;241m=\u001b[39m(\n\u001b[0;32m   1148\u001b[0m         prefer_skip_nested_validation \u001b[38;5;129;01mor\u001b[39;00m global_skip_validation\n\u001b[0;32m   1149\u001b[0m     )\n\u001b[0;32m   1150\u001b[0m ):\n\u001b[1;32m-> 1151\u001b[0m     \u001b[38;5;28;01mreturn\u001b[39;00m fit_method(estimator, \u001b[38;5;241m*\u001b[39margs, \u001b[38;5;241m*\u001b[39m\u001b[38;5;241m*\u001b[39mkwargs)\n",
      "File \u001b[1;32m~\\anaconda3\\Lib\\site-packages\\sklearn\\model_selection\\_search.py:898\u001b[0m, in \u001b[0;36mBaseSearchCV.fit\u001b[1;34m(self, X, y, groups, **fit_params)\u001b[0m\n\u001b[0;32m    892\u001b[0m     results \u001b[38;5;241m=\u001b[39m \u001b[38;5;28mself\u001b[39m\u001b[38;5;241m.\u001b[39m_format_results(\n\u001b[0;32m    893\u001b[0m         all_candidate_params, n_splits, all_out, all_more_results\n\u001b[0;32m    894\u001b[0m     )\n\u001b[0;32m    896\u001b[0m     \u001b[38;5;28;01mreturn\u001b[39;00m results\n\u001b[1;32m--> 898\u001b[0m \u001b[38;5;28mself\u001b[39m\u001b[38;5;241m.\u001b[39m_run_search(evaluate_candidates)\n\u001b[0;32m    900\u001b[0m \u001b[38;5;66;03m# multimetric is determined here because in the case of a callable\u001b[39;00m\n\u001b[0;32m    901\u001b[0m \u001b[38;5;66;03m# self.scoring the return type is only known after calling\u001b[39;00m\n\u001b[0;32m    902\u001b[0m first_test_score \u001b[38;5;241m=\u001b[39m all_out[\u001b[38;5;241m0\u001b[39m][\u001b[38;5;124m\"\u001b[39m\u001b[38;5;124mtest_scores\u001b[39m\u001b[38;5;124m\"\u001b[39m]\n",
      "File \u001b[1;32m~\\anaconda3\\Lib\\site-packages\\sklearn\\model_selection\\_search.py:1419\u001b[0m, in \u001b[0;36mGridSearchCV._run_search\u001b[1;34m(self, evaluate_candidates)\u001b[0m\n\u001b[0;32m   1417\u001b[0m \u001b[38;5;28;01mdef\u001b[39;00m \u001b[38;5;21m_run_search\u001b[39m(\u001b[38;5;28mself\u001b[39m, evaluate_candidates):\n\u001b[0;32m   1418\u001b[0m \u001b[38;5;250m    \u001b[39m\u001b[38;5;124;03m\"\"\"Search all candidates in param_grid\"\"\"\u001b[39;00m\n\u001b[1;32m-> 1419\u001b[0m     evaluate_candidates(ParameterGrid(\u001b[38;5;28mself\u001b[39m\u001b[38;5;241m.\u001b[39mparam_grid))\n",
      "File \u001b[1;32m~\\anaconda3\\Lib\\site-packages\\sklearn\\model_selection\\_search.py:845\u001b[0m, in \u001b[0;36mBaseSearchCV.fit.<locals>.evaluate_candidates\u001b[1;34m(candidate_params, cv, more_results)\u001b[0m\n\u001b[0;32m    837\u001b[0m \u001b[38;5;28;01mif\u001b[39;00m \u001b[38;5;28mself\u001b[39m\u001b[38;5;241m.\u001b[39mverbose \u001b[38;5;241m>\u001b[39m \u001b[38;5;241m0\u001b[39m:\n\u001b[0;32m    838\u001b[0m     \u001b[38;5;28mprint\u001b[39m(\n\u001b[0;32m    839\u001b[0m         \u001b[38;5;124m\"\u001b[39m\u001b[38;5;124mFitting \u001b[39m\u001b[38;5;132;01m{0}\u001b[39;00m\u001b[38;5;124m folds for each of \u001b[39m\u001b[38;5;132;01m{1}\u001b[39;00m\u001b[38;5;124m candidates,\u001b[39m\u001b[38;5;124m\"\u001b[39m\n\u001b[0;32m    840\u001b[0m         \u001b[38;5;124m\"\u001b[39m\u001b[38;5;124m totalling \u001b[39m\u001b[38;5;132;01m{2}\u001b[39;00m\u001b[38;5;124m fits\u001b[39m\u001b[38;5;124m\"\u001b[39m\u001b[38;5;241m.\u001b[39mformat(\n\u001b[0;32m    841\u001b[0m             n_splits, n_candidates, n_candidates \u001b[38;5;241m*\u001b[39m n_splits\n\u001b[0;32m    842\u001b[0m         )\n\u001b[0;32m    843\u001b[0m     )\n\u001b[1;32m--> 845\u001b[0m out \u001b[38;5;241m=\u001b[39m parallel(\n\u001b[0;32m    846\u001b[0m     delayed(_fit_and_score)(\n\u001b[0;32m    847\u001b[0m         clone(base_estimator),\n\u001b[0;32m    848\u001b[0m         X,\n\u001b[0;32m    849\u001b[0m         y,\n\u001b[0;32m    850\u001b[0m         train\u001b[38;5;241m=\u001b[39mtrain,\n\u001b[0;32m    851\u001b[0m         test\u001b[38;5;241m=\u001b[39mtest,\n\u001b[0;32m    852\u001b[0m         parameters\u001b[38;5;241m=\u001b[39mparameters,\n\u001b[0;32m    853\u001b[0m         split_progress\u001b[38;5;241m=\u001b[39m(split_idx, n_splits),\n\u001b[0;32m    854\u001b[0m         candidate_progress\u001b[38;5;241m=\u001b[39m(cand_idx, n_candidates),\n\u001b[0;32m    855\u001b[0m         \u001b[38;5;241m*\u001b[39m\u001b[38;5;241m*\u001b[39mfit_and_score_kwargs,\n\u001b[0;32m    856\u001b[0m     )\n\u001b[0;32m    857\u001b[0m     \u001b[38;5;28;01mfor\u001b[39;00m (cand_idx, parameters), (split_idx, (train, test)) \u001b[38;5;129;01min\u001b[39;00m product(\n\u001b[0;32m    858\u001b[0m         \u001b[38;5;28menumerate\u001b[39m(candidate_params), \u001b[38;5;28menumerate\u001b[39m(cv\u001b[38;5;241m.\u001b[39msplit(X, y, groups))\n\u001b[0;32m    859\u001b[0m     )\n\u001b[0;32m    860\u001b[0m )\n\u001b[0;32m    862\u001b[0m \u001b[38;5;28;01mif\u001b[39;00m \u001b[38;5;28mlen\u001b[39m(out) \u001b[38;5;241m<\u001b[39m \u001b[38;5;241m1\u001b[39m:\n\u001b[0;32m    863\u001b[0m     \u001b[38;5;28;01mraise\u001b[39;00m \u001b[38;5;167;01mValueError\u001b[39;00m(\n\u001b[0;32m    864\u001b[0m         \u001b[38;5;124m\"\u001b[39m\u001b[38;5;124mNo fits were performed. \u001b[39m\u001b[38;5;124m\"\u001b[39m\n\u001b[0;32m    865\u001b[0m         \u001b[38;5;124m\"\u001b[39m\u001b[38;5;124mWas the CV iterator empty? \u001b[39m\u001b[38;5;124m\"\u001b[39m\n\u001b[0;32m    866\u001b[0m         \u001b[38;5;124m\"\u001b[39m\u001b[38;5;124mWere there no candidates?\u001b[39m\u001b[38;5;124m\"\u001b[39m\n\u001b[0;32m    867\u001b[0m     )\n",
      "File \u001b[1;32m~\\anaconda3\\Lib\\site-packages\\sklearn\\utils\\parallel.py:65\u001b[0m, in \u001b[0;36mParallel.__call__\u001b[1;34m(self, iterable)\u001b[0m\n\u001b[0;32m     60\u001b[0m config \u001b[38;5;241m=\u001b[39m get_config()\n\u001b[0;32m     61\u001b[0m iterable_with_config \u001b[38;5;241m=\u001b[39m (\n\u001b[0;32m     62\u001b[0m     (_with_config(delayed_func, config), args, kwargs)\n\u001b[0;32m     63\u001b[0m     \u001b[38;5;28;01mfor\u001b[39;00m delayed_func, args, kwargs \u001b[38;5;129;01min\u001b[39;00m iterable\n\u001b[0;32m     64\u001b[0m )\n\u001b[1;32m---> 65\u001b[0m \u001b[38;5;28;01mreturn\u001b[39;00m \u001b[38;5;28msuper\u001b[39m()\u001b[38;5;241m.\u001b[39m\u001b[38;5;21m__call__\u001b[39m(iterable_with_config)\n",
      "File \u001b[1;32m~\\anaconda3\\Lib\\site-packages\\joblib\\parallel.py:1098\u001b[0m, in \u001b[0;36mParallel.__call__\u001b[1;34m(self, iterable)\u001b[0m\n\u001b[0;32m   1095\u001b[0m     \u001b[38;5;28mself\u001b[39m\u001b[38;5;241m.\u001b[39m_iterating \u001b[38;5;241m=\u001b[39m \u001b[38;5;28;01mFalse\u001b[39;00m\n\u001b[0;32m   1097\u001b[0m \u001b[38;5;28;01mwith\u001b[39;00m \u001b[38;5;28mself\u001b[39m\u001b[38;5;241m.\u001b[39m_backend\u001b[38;5;241m.\u001b[39mretrieval_context():\n\u001b[1;32m-> 1098\u001b[0m     \u001b[38;5;28mself\u001b[39m\u001b[38;5;241m.\u001b[39mretrieve()\n\u001b[0;32m   1099\u001b[0m \u001b[38;5;66;03m# Make sure that we get a last message telling us we are done\u001b[39;00m\n\u001b[0;32m   1100\u001b[0m elapsed_time \u001b[38;5;241m=\u001b[39m time\u001b[38;5;241m.\u001b[39mtime() \u001b[38;5;241m-\u001b[39m \u001b[38;5;28mself\u001b[39m\u001b[38;5;241m.\u001b[39m_start_time\n",
      "File \u001b[1;32m~\\anaconda3\\Lib\\site-packages\\joblib\\parallel.py:975\u001b[0m, in \u001b[0;36mParallel.retrieve\u001b[1;34m(self)\u001b[0m\n\u001b[0;32m    973\u001b[0m \u001b[38;5;28;01mtry\u001b[39;00m:\n\u001b[0;32m    974\u001b[0m     \u001b[38;5;28;01mif\u001b[39;00m \u001b[38;5;28mgetattr\u001b[39m(\u001b[38;5;28mself\u001b[39m\u001b[38;5;241m.\u001b[39m_backend, \u001b[38;5;124m'\u001b[39m\u001b[38;5;124msupports_timeout\u001b[39m\u001b[38;5;124m'\u001b[39m, \u001b[38;5;28;01mFalse\u001b[39;00m):\n\u001b[1;32m--> 975\u001b[0m         \u001b[38;5;28mself\u001b[39m\u001b[38;5;241m.\u001b[39m_output\u001b[38;5;241m.\u001b[39mextend(job\u001b[38;5;241m.\u001b[39mget(timeout\u001b[38;5;241m=\u001b[39m\u001b[38;5;28mself\u001b[39m\u001b[38;5;241m.\u001b[39mtimeout))\n\u001b[0;32m    976\u001b[0m     \u001b[38;5;28;01melse\u001b[39;00m:\n\u001b[0;32m    977\u001b[0m         \u001b[38;5;28mself\u001b[39m\u001b[38;5;241m.\u001b[39m_output\u001b[38;5;241m.\u001b[39mextend(job\u001b[38;5;241m.\u001b[39mget())\n",
      "File \u001b[1;32m~\\anaconda3\\Lib\\site-packages\\joblib\\_parallel_backends.py:567\u001b[0m, in \u001b[0;36mLokyBackend.wrap_future_result\u001b[1;34m(future, timeout)\u001b[0m\n\u001b[0;32m    564\u001b[0m \u001b[38;5;250m\u001b[39m\u001b[38;5;124;03m\"\"\"Wrapper for Future.result to implement the same behaviour as\u001b[39;00m\n\u001b[0;32m    565\u001b[0m \u001b[38;5;124;03mAsyncResults.get from multiprocessing.\"\"\"\u001b[39;00m\n\u001b[0;32m    566\u001b[0m \u001b[38;5;28;01mtry\u001b[39;00m:\n\u001b[1;32m--> 567\u001b[0m     \u001b[38;5;28;01mreturn\u001b[39;00m future\u001b[38;5;241m.\u001b[39mresult(timeout\u001b[38;5;241m=\u001b[39mtimeout)\n\u001b[0;32m    568\u001b[0m \u001b[38;5;28;01mexcept\u001b[39;00m CfTimeoutError \u001b[38;5;28;01mas\u001b[39;00m e:\n\u001b[0;32m    569\u001b[0m     \u001b[38;5;28;01mraise\u001b[39;00m \u001b[38;5;167;01mTimeoutError\u001b[39;00m \u001b[38;5;28;01mfrom\u001b[39;00m \u001b[38;5;21;01me\u001b[39;00m\n",
      "File \u001b[1;32m~\\anaconda3\\Lib\\concurrent\\futures\\_base.py:451\u001b[0m, in \u001b[0;36mFuture.result\u001b[1;34m(self, timeout)\u001b[0m\n\u001b[0;32m    448\u001b[0m \u001b[38;5;28;01melif\u001b[39;00m \u001b[38;5;28mself\u001b[39m\u001b[38;5;241m.\u001b[39m_state \u001b[38;5;241m==\u001b[39m FINISHED:\n\u001b[0;32m    449\u001b[0m     \u001b[38;5;28;01mreturn\u001b[39;00m \u001b[38;5;28mself\u001b[39m\u001b[38;5;241m.\u001b[39m__get_result()\n\u001b[1;32m--> 451\u001b[0m \u001b[38;5;28mself\u001b[39m\u001b[38;5;241m.\u001b[39m_condition\u001b[38;5;241m.\u001b[39mwait(timeout)\n\u001b[0;32m    453\u001b[0m \u001b[38;5;28;01mif\u001b[39;00m \u001b[38;5;28mself\u001b[39m\u001b[38;5;241m.\u001b[39m_state \u001b[38;5;129;01min\u001b[39;00m [CANCELLED, CANCELLED_AND_NOTIFIED]:\n\u001b[0;32m    454\u001b[0m     \u001b[38;5;28;01mraise\u001b[39;00m CancelledError()\n",
      "File \u001b[1;32m~\\anaconda3\\Lib\\threading.py:320\u001b[0m, in \u001b[0;36mCondition.wait\u001b[1;34m(self, timeout)\u001b[0m\n\u001b[0;32m    318\u001b[0m \u001b[38;5;28;01mtry\u001b[39;00m:    \u001b[38;5;66;03m# restore state no matter what (e.g., KeyboardInterrupt)\u001b[39;00m\n\u001b[0;32m    319\u001b[0m     \u001b[38;5;28;01mif\u001b[39;00m timeout \u001b[38;5;129;01mis\u001b[39;00m \u001b[38;5;28;01mNone\u001b[39;00m:\n\u001b[1;32m--> 320\u001b[0m         waiter\u001b[38;5;241m.\u001b[39macquire()\n\u001b[0;32m    321\u001b[0m         gotit \u001b[38;5;241m=\u001b[39m \u001b[38;5;28;01mTrue\u001b[39;00m\n\u001b[0;32m    322\u001b[0m     \u001b[38;5;28;01melse\u001b[39;00m:\n",
      "\u001b[1;31mKeyboardInterrupt\u001b[0m: "
     ]
    }
   ],
   "source": [
    "%%time\n",
    "gs2.fit(X1_train_transformed, y1_train)"
   ]
  },
  {
   "cell_type": "code",
   "execution_count": null,
   "id": "d795c3d8-42ae-4043-aaf1-6f22247689bb",
   "metadata": {},
   "outputs": [],
   "source": [
    "print(gs2.score(X1_train_transformed, y1_train))\n",
    "print(gs2.score(X1_test_transformed, y1_test))"
   ]
  },
  {
   "cell_type": "code",
   "execution_count": null,
   "id": "56f09bbd-8817-470f-9b73-5bdee7876729",
   "metadata": {},
   "outputs": [],
   "source": [
    "gs2.best_params_"
   ]
  }
 ],
 "metadata": {
  "kernelspec": {
   "display_name": "Python 3 (ipykernel)",
   "language": "python",
   "name": "python3"
  },
  "language_info": {
   "codemirror_mode": {
    "name": "ipython",
    "version": 3
   },
   "file_extension": ".py",
   "mimetype": "text/x-python",
   "name": "python",
   "nbconvert_exporter": "python",
   "pygments_lexer": "ipython3",
   "version": "3.11.4"
  }
 },
 "nbformat": 4,
 "nbformat_minor": 5
}
