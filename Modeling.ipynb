{
 "cells": [
  {
   "cell_type": "code",
   "execution_count": 13,
   "id": "61c4b192-eb67-4c49-aba9-0c1d4871be46",
   "metadata": {
    "tags": []
   },
   "outputs": [],
   "source": [
    "import numpy as np\n",
    "import pandas as pd\n",
    "import matplotlib.pyplot as plt\n",
    "\n",
    "from sklearn.linear_model import LinearRegression\n",
    "from sklearn.model_selection import train_test_split, cross_val_score, GridSearchCV, RandomizedSearchCV\n",
    "from sklearn import metrics\n",
    "import statsmodels.api as sm\n",
    "\n",
    "from sklearn.preprocessing import OneHotEncoder\n",
    "\n",
    "from sklearn.neighbors import KNeighborsRegressor\n",
    "\n",
    "from sklearn.preprocessing import StandardScaler\n",
    "\n",
    "from sklearn.tree import DecisionTreeRegressor, plot_tree\n",
    "from sklearn.ensemble import BaggingRegressor, VotingRegressor\n",
    "\n",
    "from sklearn.ensemble import RandomForestRegressor, ExtraTreesRegressor\n",
    "from sklearn.ensemble import AdaBoostRegressor, GradientBoostingRegressor"
   ]
  },
  {
   "cell_type": "code",
   "execution_count": 14,
   "id": "b5f78b67-e9c4-4a61-8730-a7d1b90619de",
   "metadata": {
    "tags": []
   },
   "outputs": [],
   "source": [
    "shift_df = pd.read_csv('data/shift_details.csv')"
   ]
  },
  {
   "cell_type": "code",
   "execution_count": 15,
   "id": "11b17ade-a8f3-4bcc-b7de-58f11783d21b",
   "metadata": {
    "tags": []
   },
   "outputs": [
    {
     "data": {
      "text/html": [
       "<div>\n",
       "<style scoped>\n",
       "    .dataframe tbody tr th:only-of-type {\n",
       "        vertical-align: middle;\n",
       "    }\n",
       "\n",
       "    .dataframe tbody tr th {\n",
       "        vertical-align: top;\n",
       "    }\n",
       "\n",
       "    .dataframe thead th {\n",
       "        text-align: right;\n",
       "    }\n",
       "</style>\n",
       "<table border=\"1\" class=\"dataframe\">\n",
       "  <thead>\n",
       "    <tr style=\"text-align: right;\">\n",
       "      <th></th>\n",
       "      <th>SITE_NAME</th>\n",
       "      <th>DATE1</th>\n",
       "      <th>DAY_OF_WEEK</th>\n",
       "      <th>INSPECTOR_ID</th>\n",
       "      <th>PAY_VOL</th>\n",
       "      <th>SHIFT_START</th>\n",
       "      <th>SHIFT_END</th>\n",
       "      <th>TOTALINSP</th>\n",
       "      <th>NUMINVASIVE</th>\n",
       "      <th>TOWN</th>\n",
       "      <th>WATERBODY</th>\n",
       "      <th>SHIFT_LENGTH</th>\n",
       "      <th>DATE</th>\n",
       "      <th>month</th>\n",
       "      <th>year</th>\n",
       "    </tr>\n",
       "  </thead>\n",
       "  <tbody>\n",
       "    <tr>\n",
       "      <th>0</th>\n",
       "      <td>Launch Drive</td>\n",
       "      <td>05/28/2021</td>\n",
       "      <td>Fri</td>\n",
       "      <td>4771</td>\n",
       "      <td>1</td>\n",
       "      <td>12:00</td>\n",
       "      <td>18:00</td>\n",
       "      <td>33.0</td>\n",
       "      <td>0.0</td>\n",
       "      <td>Launch Drive</td>\n",
       "      <td>Cobbosseecontee Lake</td>\n",
       "      <td>360.0</td>\n",
       "      <td>2021-05-28</td>\n",
       "      <td>5</td>\n",
       "      <td>2021</td>\n",
       "    </tr>\n",
       "    <tr>\n",
       "      <th>1</th>\n",
       "      <td>East Winthrop</td>\n",
       "      <td>05/28/2021</td>\n",
       "      <td>Fri</td>\n",
       "      <td>4485</td>\n",
       "      <td>1</td>\n",
       "      <td>12:00</td>\n",
       "      <td>18:00</td>\n",
       "      <td>2.0</td>\n",
       "      <td>0.0</td>\n",
       "      <td>Winthrop</td>\n",
       "      <td>Cobbosseecontee Lake</td>\n",
       "      <td>360.0</td>\n",
       "      <td>2021-05-28</td>\n",
       "      <td>5</td>\n",
       "      <td>2021</td>\n",
       "    </tr>\n",
       "    <tr>\n",
       "      <th>2</th>\n",
       "      <td>Augusta West Kampground</td>\n",
       "      <td>05/28/2021</td>\n",
       "      <td>Fri</td>\n",
       "      <td>4769</td>\n",
       "      <td>1</td>\n",
       "      <td>12:00</td>\n",
       "      <td>18:00</td>\n",
       "      <td>1.0</td>\n",
       "      <td>0.0</td>\n",
       "      <td>Winthrop</td>\n",
       "      <td>Annabessacook Lake</td>\n",
       "      <td>360.0</td>\n",
       "      <td>2021-05-28</td>\n",
       "      <td>5</td>\n",
       "      <td>2021</td>\n",
       "    </tr>\n",
       "    <tr>\n",
       "      <th>3</th>\n",
       "      <td>Whippoorwill Road</td>\n",
       "      <td>05/28/2021</td>\n",
       "      <td>Fri</td>\n",
       "      <td>4174</td>\n",
       "      <td>1</td>\n",
       "      <td>12:00</td>\n",
       "      <td>18:00</td>\n",
       "      <td>13.0</td>\n",
       "      <td>0.0</td>\n",
       "      <td>Litchfield</td>\n",
       "      <td>Woodbury Pond</td>\n",
       "      <td>360.0</td>\n",
       "      <td>2021-05-28</td>\n",
       "      <td>5</td>\n",
       "      <td>2021</td>\n",
       "    </tr>\n",
       "    <tr>\n",
       "      <th>4</th>\n",
       "      <td>Thorofare Rd</td>\n",
       "      <td>05/29/2021</td>\n",
       "      <td>Sat</td>\n",
       "      <td>4944</td>\n",
       "      <td>1</td>\n",
       "      <td>07:00</td>\n",
       "      <td>17:00</td>\n",
       "      <td>11.0</td>\n",
       "      <td>0.0</td>\n",
       "      <td>Litchfield</td>\n",
       "      <td>Pleasant Pond</td>\n",
       "      <td>600.0</td>\n",
       "      <td>2021-05-29</td>\n",
       "      <td>5</td>\n",
       "      <td>2021</td>\n",
       "    </tr>\n",
       "  </tbody>\n",
       "</table>\n",
       "</div>"
      ],
      "text/plain": [
       "                 SITE_NAME       DATE1 DAY_OF_WEEK  INSPECTOR_ID  PAY_VOL  \\\n",
       "0             Launch Drive  05/28/2021         Fri          4771        1   \n",
       "1            East Winthrop  05/28/2021         Fri          4485        1   \n",
       "2  Augusta West Kampground  05/28/2021         Fri          4769        1   \n",
       "3        Whippoorwill Road  05/28/2021         Fri          4174        1   \n",
       "4             Thorofare Rd  05/29/2021         Sat          4944        1   \n",
       "\n",
       "  SHIFT_START SHIFT_END  TOTALINSP  NUMINVASIVE          TOWN  \\\n",
       "0       12:00     18:00       33.0          0.0  Launch Drive   \n",
       "1       12:00     18:00        2.0          0.0      Winthrop   \n",
       "2       12:00     18:00        1.0          0.0      Winthrop   \n",
       "3       12:00     18:00       13.0          0.0    Litchfield   \n",
       "4       07:00     17:00       11.0          0.0    Litchfield   \n",
       "\n",
       "              WATERBODY  SHIFT_LENGTH        DATE  month  year  \n",
       "0  Cobbosseecontee Lake         360.0  2021-05-28      5  2021  \n",
       "1  Cobbosseecontee Lake         360.0  2021-05-28      5  2021  \n",
       "2    Annabessacook Lake         360.0  2021-05-28      5  2021  \n",
       "3         Woodbury Pond         360.0  2021-05-28      5  2021  \n",
       "4         Pleasant Pond         600.0  2021-05-29      5  2021  "
      ]
     },
     "execution_count": 15,
     "metadata": {},
     "output_type": "execute_result"
    }
   ],
   "source": [
    "shift_df.head()"
   ]
  },
  {
   "cell_type": "code",
   "execution_count": 35,
   "id": "70de58d2-64c0-430b-ae76-3cf11eb361ea",
   "metadata": {
    "tags": []
   },
   "outputs": [],
   "source": [
    "y = shift_df['TOTALINSP']\n",
    "X = shift_df.drop(columns=['DATE1', 'TOTALINSP', 'NUMINVASIVE', 'TOWN', 'WATERBODY', 'DATE', 'INSPECTOR_ID'])"
   ]
  },
  {
   "cell_type": "code",
   "execution_count": 36,
   "id": "4f93b44a-8a78-4812-b05d-797d433341de",
   "metadata": {
    "tags": []
   },
   "outputs": [],
   "source": [
    "X_train, X_test, y_train, y_test = train_test_split(X, y, random_state=42, test_size=.3)"
   ]
  },
  {
   "cell_type": "code",
   "execution_count": 37,
   "id": "f2da001d-56e5-4146-a3db-cb2830686bac",
   "metadata": {
    "tags": []
   },
   "outputs": [
    {
     "data": {
      "text/html": [
       "<div>\n",
       "<style scoped>\n",
       "    .dataframe tbody tr th:only-of-type {\n",
       "        vertical-align: middle;\n",
       "    }\n",
       "\n",
       "    .dataframe tbody tr th {\n",
       "        vertical-align: top;\n",
       "    }\n",
       "\n",
       "    .dataframe thead th {\n",
       "        text-align: right;\n",
       "    }\n",
       "</style>\n",
       "<table border=\"1\" class=\"dataframe\">\n",
       "  <thead>\n",
       "    <tr style=\"text-align: right;\">\n",
       "      <th></th>\n",
       "      <th>SITE_NAME</th>\n",
       "      <th>DAY_OF_WEEK</th>\n",
       "      <th>PAY_VOL</th>\n",
       "      <th>SHIFT_START</th>\n",
       "      <th>SHIFT_END</th>\n",
       "      <th>SHIFT_LENGTH</th>\n",
       "      <th>month</th>\n",
       "      <th>year</th>\n",
       "    </tr>\n",
       "  </thead>\n",
       "  <tbody>\n",
       "    <tr>\n",
       "      <th>1510</th>\n",
       "      <td>Old Kents Hill Road</td>\n",
       "      <td>Mon</td>\n",
       "      <td>1</td>\n",
       "      <td>09:00</td>\n",
       "      <td>19:00</td>\n",
       "      <td>600.0</td>\n",
       "      <td>5</td>\n",
       "      <td>2023</td>\n",
       "    </tr>\n",
       "    <tr>\n",
       "      <th>1061</th>\n",
       "      <td>Launch Drive Cobbosseecontee</td>\n",
       "      <td>Sun</td>\n",
       "      <td>1</td>\n",
       "      <td>13:00</td>\n",
       "      <td>19:00</td>\n",
       "      <td>360.0</td>\n",
       "      <td>7</td>\n",
       "      <td>2022</td>\n",
       "    </tr>\n",
       "    <tr>\n",
       "      <th>2040</th>\n",
       "      <td>East Winthrop Cobbosseecontee</td>\n",
       "      <td>Thu</td>\n",
       "      <td>1</td>\n",
       "      <td>13:00</td>\n",
       "      <td>19:00</td>\n",
       "      <td>360.0</td>\n",
       "      <td>8</td>\n",
       "      <td>2023</td>\n",
       "    </tr>\n",
       "    <tr>\n",
       "      <th>123</th>\n",
       "      <td>Whippoorwill Road</td>\n",
       "      <td>Sun</td>\n",
       "      <td>1</td>\n",
       "      <td>13:00</td>\n",
       "      <td>19:00</td>\n",
       "      <td>360.0</td>\n",
       "      <td>6</td>\n",
       "      <td>2021</td>\n",
       "    </tr>\n",
       "    <tr>\n",
       "      <th>729</th>\n",
       "      <td>Rt 41 North Basin Maranacook</td>\n",
       "      <td>Sun</td>\n",
       "      <td>1</td>\n",
       "      <td>13:00</td>\n",
       "      <td>19:00</td>\n",
       "      <td>360.0</td>\n",
       "      <td>6</td>\n",
       "      <td>2022</td>\n",
       "    </tr>\n",
       "    <tr>\n",
       "      <th>...</th>\n",
       "      <td>...</td>\n",
       "      <td>...</td>\n",
       "      <td>...</td>\n",
       "      <td>...</td>\n",
       "      <td>...</td>\n",
       "      <td>...</td>\n",
       "      <td>...</td>\n",
       "      <td>...</td>\n",
       "    </tr>\n",
       "    <tr>\n",
       "      <th>1638</th>\n",
       "      <td>East Winthrop Cobbosseecontee</td>\n",
       "      <td>Tue</td>\n",
       "      <td>1</td>\n",
       "      <td>13:00</td>\n",
       "      <td>19:00</td>\n",
       "      <td>360.0</td>\n",
       "      <td>6</td>\n",
       "      <td>2023</td>\n",
       "    </tr>\n",
       "    <tr>\n",
       "      <th>1095</th>\n",
       "      <td>Launch Drive Cobbosseecontee</td>\n",
       "      <td>Fri</td>\n",
       "      <td>1</td>\n",
       "      <td>07:00</td>\n",
       "      <td>13:00</td>\n",
       "      <td>360.0</td>\n",
       "      <td>7</td>\n",
       "      <td>2022</td>\n",
       "    </tr>\n",
       "    <tr>\n",
       "      <th>1130</th>\n",
       "      <td>Rt 41 North Basin Maranacook</td>\n",
       "      <td>Sun</td>\n",
       "      <td>1</td>\n",
       "      <td>07:00</td>\n",
       "      <td>13:00</td>\n",
       "      <td>360.0</td>\n",
       "      <td>7</td>\n",
       "      <td>2022</td>\n",
       "    </tr>\n",
       "    <tr>\n",
       "      <th>1294</th>\n",
       "      <td>Rt 41 North Basin Maranacook</td>\n",
       "      <td>Sun</td>\n",
       "      <td>1</td>\n",
       "      <td>13:00</td>\n",
       "      <td>19:00</td>\n",
       "      <td>360.0</td>\n",
       "      <td>8</td>\n",
       "      <td>2022</td>\n",
       "    </tr>\n",
       "    <tr>\n",
       "      <th>860</th>\n",
       "      <td>Thorofare Rd</td>\n",
       "      <td>Sat</td>\n",
       "      <td>1</td>\n",
       "      <td>07:00</td>\n",
       "      <td>13:00</td>\n",
       "      <td>360.0</td>\n",
       "      <td>7</td>\n",
       "      <td>2022</td>\n",
       "    </tr>\n",
       "  </tbody>\n",
       "</table>\n",
       "<p>1596 rows × 8 columns</p>\n",
       "</div>"
      ],
      "text/plain": [
       "                          SITE_NAME DAY_OF_WEEK  PAY_VOL SHIFT_START  \\\n",
       "1510            Old Kents Hill Road         Mon        1       09:00   \n",
       "1061   Launch Drive Cobbosseecontee         Sun        1       13:00   \n",
       "2040  East Winthrop Cobbosseecontee         Thu        1       13:00   \n",
       "123               Whippoorwill Road         Sun        1       13:00   \n",
       "729    Rt 41 North Basin Maranacook         Sun        1       13:00   \n",
       "...                             ...         ...      ...         ...   \n",
       "1638  East Winthrop Cobbosseecontee         Tue        1       13:00   \n",
       "1095   Launch Drive Cobbosseecontee         Fri        1       07:00   \n",
       "1130   Rt 41 North Basin Maranacook         Sun        1       07:00   \n",
       "1294   Rt 41 North Basin Maranacook         Sun        1       13:00   \n",
       "860                    Thorofare Rd         Sat        1       07:00   \n",
       "\n",
       "     SHIFT_END  SHIFT_LENGTH  month  year  \n",
       "1510     19:00         600.0      5  2023  \n",
       "1061     19:00         360.0      7  2022  \n",
       "2040     19:00         360.0      8  2023  \n",
       "123      19:00         360.0      6  2021  \n",
       "729      19:00         360.0      6  2022  \n",
       "...        ...           ...    ...   ...  \n",
       "1638     19:00         360.0      6  2023  \n",
       "1095     13:00         360.0      7  2022  \n",
       "1130     13:00         360.0      7  2022  \n",
       "1294     19:00         360.0      8  2022  \n",
       "860      13:00         360.0      7  2022  \n",
       "\n",
       "[1596 rows x 8 columns]"
      ]
     },
     "execution_count": 37,
     "metadata": {},
     "output_type": "execute_result"
    }
   ],
   "source": [
    "X_train"
   ]
  },
  {
   "cell_type": "code",
   "execution_count": 42,
   "id": "91a83b0c-70a1-464d-9db0-643b6c91ae59",
   "metadata": {
    "tags": []
   },
   "outputs": [],
   "source": [
    "categorical_columns = ['SITE_NAME', 'DAY_OF_WEEK', 'month', 'year']\n",
    "oh = OneHotEncoder(handle_unknown='ignore', drop='first')\n",
    "X_train_transformed = oh.fit_transform(X_train[categorical_columns])\n",
    "X_test_transformed= oh.transform(X_test[categorical_columns])"
   ]
  },
  {
   "cell_type": "code",
   "execution_count": 43,
   "id": "46f509bf-4cb6-4676-96a7-da8c172530d2",
   "metadata": {
    "tags": []
   },
   "outputs": [
    {
     "data": {
      "text/html": [
       "<style>#sk-container-id-1 {color: black;}#sk-container-id-1 pre{padding: 0;}#sk-container-id-1 div.sk-toggleable {background-color: white;}#sk-container-id-1 label.sk-toggleable__label {cursor: pointer;display: block;width: 100%;margin-bottom: 0;padding: 0.3em;box-sizing: border-box;text-align: center;}#sk-container-id-1 label.sk-toggleable__label-arrow:before {content: \"▸\";float: left;margin-right: 0.25em;color: #696969;}#sk-container-id-1 label.sk-toggleable__label-arrow:hover:before {color: black;}#sk-container-id-1 div.sk-estimator:hover label.sk-toggleable__label-arrow:before {color: black;}#sk-container-id-1 div.sk-toggleable__content {max-height: 0;max-width: 0;overflow: hidden;text-align: left;background-color: #f0f8ff;}#sk-container-id-1 div.sk-toggleable__content pre {margin: 0.2em;color: black;border-radius: 0.25em;background-color: #f0f8ff;}#sk-container-id-1 input.sk-toggleable__control:checked~div.sk-toggleable__content {max-height: 200px;max-width: 100%;overflow: auto;}#sk-container-id-1 input.sk-toggleable__control:checked~label.sk-toggleable__label-arrow:before {content: \"▾\";}#sk-container-id-1 div.sk-estimator input.sk-toggleable__control:checked~label.sk-toggleable__label {background-color: #d4ebff;}#sk-container-id-1 div.sk-label input.sk-toggleable__control:checked~label.sk-toggleable__label {background-color: #d4ebff;}#sk-container-id-1 input.sk-hidden--visually {border: 0;clip: rect(1px 1px 1px 1px);clip: rect(1px, 1px, 1px, 1px);height: 1px;margin: -1px;overflow: hidden;padding: 0;position: absolute;width: 1px;}#sk-container-id-1 div.sk-estimator {font-family: monospace;background-color: #f0f8ff;border: 1px dotted black;border-radius: 0.25em;box-sizing: border-box;margin-bottom: 0.5em;}#sk-container-id-1 div.sk-estimator:hover {background-color: #d4ebff;}#sk-container-id-1 div.sk-parallel-item::after {content: \"\";width: 100%;border-bottom: 1px solid gray;flex-grow: 1;}#sk-container-id-1 div.sk-label:hover label.sk-toggleable__label {background-color: #d4ebff;}#sk-container-id-1 div.sk-serial::before {content: \"\";position: absolute;border-left: 1px solid gray;box-sizing: border-box;top: 0;bottom: 0;left: 50%;z-index: 0;}#sk-container-id-1 div.sk-serial {display: flex;flex-direction: column;align-items: center;background-color: white;padding-right: 0.2em;padding-left: 0.2em;position: relative;}#sk-container-id-1 div.sk-item {position: relative;z-index: 1;}#sk-container-id-1 div.sk-parallel {display: flex;align-items: stretch;justify-content: center;background-color: white;position: relative;}#sk-container-id-1 div.sk-item::before, #sk-container-id-1 div.sk-parallel-item::before {content: \"\";position: absolute;border-left: 1px solid gray;box-sizing: border-box;top: 0;bottom: 0;left: 50%;z-index: -1;}#sk-container-id-1 div.sk-parallel-item {display: flex;flex-direction: column;z-index: 1;position: relative;background-color: white;}#sk-container-id-1 div.sk-parallel-item:first-child::after {align-self: flex-end;width: 50%;}#sk-container-id-1 div.sk-parallel-item:last-child::after {align-self: flex-start;width: 50%;}#sk-container-id-1 div.sk-parallel-item:only-child::after {width: 0;}#sk-container-id-1 div.sk-dashed-wrapped {border: 1px dashed gray;margin: 0 0.4em 0.5em 0.4em;box-sizing: border-box;padding-bottom: 0.4em;background-color: white;}#sk-container-id-1 div.sk-label label {font-family: monospace;font-weight: bold;display: inline-block;line-height: 1.2em;}#sk-container-id-1 div.sk-label-container {text-align: center;}#sk-container-id-1 div.sk-container {/* jupyter's `normalize.less` sets `[hidden] { display: none; }` but bootstrap.min.css set `[hidden] { display: none !important; }` so we also need the `!important` here to be able to override the default hidden behavior on the sphinx rendered scikit-learn.org. See: https://github.com/scikit-learn/scikit-learn/issues/21755 */display: inline-block !important;position: relative;}#sk-container-id-1 div.sk-text-repr-fallback {display: none;}</style><div id=\"sk-container-id-1\" class=\"sk-top-container\"><div class=\"sk-text-repr-fallback\"><pre>LinearRegression()</pre><b>In a Jupyter environment, please rerun this cell to show the HTML representation or trust the notebook. <br />On GitHub, the HTML representation is unable to render, please try loading this page with nbviewer.org.</b></div><div class=\"sk-container\" hidden><div class=\"sk-item\"><div class=\"sk-estimator sk-toggleable\"><input class=\"sk-toggleable__control sk-hidden--visually\" id=\"sk-estimator-id-1\" type=\"checkbox\" checked><label for=\"sk-estimator-id-1\" class=\"sk-toggleable__label sk-toggleable__label-arrow\">LinearRegression</label><div class=\"sk-toggleable__content\"><pre>LinearRegression()</pre></div></div></div></div></div>"
      ],
      "text/plain": [
       "LinearRegression()"
      ]
     },
     "execution_count": 43,
     "metadata": {},
     "output_type": "execute_result"
    }
   ],
   "source": [
    "lr = LinearRegression()\n",
    "lr.fit(X_train_transformed, y_train)"
   ]
  },
  {
   "cell_type": "code",
   "execution_count": 44,
   "id": "0c542433-111b-4375-a30b-c19d7e983ad5",
   "metadata": {
    "tags": []
   },
   "outputs": [
    {
     "data": {
      "text/plain": [
       "0.3142477893028155"
      ]
     },
     "execution_count": 44,
     "metadata": {},
     "output_type": "execute_result"
    }
   ],
   "source": [
    "lr.score(X_train_transformed, y_train)"
   ]
  },
  {
   "cell_type": "code",
   "execution_count": 46,
   "id": "2217d7a7-5d9d-4984-a1be-3983cc17a928",
   "metadata": {
    "tags": []
   },
   "outputs": [
    {
     "data": {
      "text/plain": [
       "0.26526984756509553"
      ]
     },
     "execution_count": 46,
     "metadata": {},
     "output_type": "execute_result"
    }
   ],
   "source": [
    "lr.score(X_test_transformed, y_test)"
   ]
  },
  {
   "cell_type": "code",
   "execution_count": null,
   "id": "53a069d3-76b2-4da6-aa93-6dd5d002792c",
   "metadata": {},
   "outputs": [],
   "source": []
  }
 ],
 "metadata": {
  "kernelspec": {
   "display_name": "Python 3 (ipykernel)",
   "language": "python",
   "name": "python3"
  },
  "language_info": {
   "codemirror_mode": {
    "name": "ipython",
    "version": 3
   },
   "file_extension": ".py",
   "mimetype": "text/x-python",
   "name": "python",
   "nbconvert_exporter": "python",
   "pygments_lexer": "ipython3",
   "version": "3.11.4"
  }
 },
 "nbformat": 4,
 "nbformat_minor": 5
}
