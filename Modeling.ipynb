{
 "cells": [
  {
   "cell_type": "code",
   "execution_count": 1,
   "id": "61c4b192-eb67-4c49-aba9-0c1d4871be46",
   "metadata": {
    "tags": []
   },
   "outputs": [],
   "source": [
    "# Imports\n",
    "\n",
    "import numpy as np\n",
    "import pandas as pd\n",
    "import matplotlib.pyplot as plt\n",
    "\n",
    "from sklearn.linear_model import LinearRegression\n",
    "from sklearn.model_selection import train_test_split, cross_val_score, GridSearchCV, RandomizedSearchCV\n",
    "from sklearn import metrics\n",
    "import statsmodels.api as sm\n",
    "\n",
    "from sklearn.preprocessing import OneHotEncoder\n",
    "\n",
    "from sklearn.neighbors import KNeighborsRegressor\n",
    "\n",
    "from sklearn.preprocessing import StandardScaler\n",
    "\n",
    "from sklearn.tree import DecisionTreeRegressor, plot_tree\n",
    "from sklearn.ensemble import BaggingRegressor, VotingRegressor\n",
    "\n",
    "from sklearn.ensemble import RandomForestRegressor, ExtraTreesRegressor\n",
    "from sklearn.ensemble import AdaBoostRegressor, GradientBoostingRegressor"
   ]
  },
  {
   "cell_type": "code",
   "execution_count": 2,
   "id": "b5f78b67-e9c4-4a61-8730-a7d1b90619de",
   "metadata": {
    "tags": []
   },
   "outputs": [],
   "source": [
    "shift_df = pd.read_csv('data/shift_details.csv')"
   ]
  },
  {
   "cell_type": "code",
   "execution_count": 3,
   "id": "11b17ade-a8f3-4bcc-b7de-58f11783d21b",
   "metadata": {
    "tags": []
   },
   "outputs": [
    {
     "data": {
      "text/html": [
       "<div>\n",
       "<style scoped>\n",
       "    .dataframe tbody tr th:only-of-type {\n",
       "        vertical-align: middle;\n",
       "    }\n",
       "\n",
       "    .dataframe tbody tr th {\n",
       "        vertical-align: top;\n",
       "    }\n",
       "\n",
       "    .dataframe thead th {\n",
       "        text-align: right;\n",
       "    }\n",
       "</style>\n",
       "<table border=\"1\" class=\"dataframe\">\n",
       "  <thead>\n",
       "    <tr style=\"text-align: right;\">\n",
       "      <th></th>\n",
       "      <th>SITE_NAME</th>\n",
       "      <th>DATE1</th>\n",
       "      <th>DAY_OF_WEEK</th>\n",
       "      <th>INSPECTOR_ID</th>\n",
       "      <th>PAY_VOL</th>\n",
       "      <th>SHIFT_START</th>\n",
       "      <th>SHIFT_END</th>\n",
       "      <th>TOTALINSP</th>\n",
       "      <th>NUMINVASIVE</th>\n",
       "      <th>TOWN</th>\n",
       "      <th>WATERBODY</th>\n",
       "      <th>SHIFT_LENGTH</th>\n",
       "      <th>DATE</th>\n",
       "      <th>month</th>\n",
       "      <th>year</th>\n",
       "    </tr>\n",
       "  </thead>\n",
       "  <tbody>\n",
       "    <tr>\n",
       "      <th>0</th>\n",
       "      <td>Launch Drive</td>\n",
       "      <td>05/28/2021</td>\n",
       "      <td>Fri</td>\n",
       "      <td>4771</td>\n",
       "      <td>1</td>\n",
       "      <td>12:00</td>\n",
       "      <td>18:00</td>\n",
       "      <td>33.0</td>\n",
       "      <td>0.0</td>\n",
       "      <td>Launch Drive</td>\n",
       "      <td>Cobbosseecontee Lake</td>\n",
       "      <td>360.0</td>\n",
       "      <td>2021-05-28</td>\n",
       "      <td>5</td>\n",
       "      <td>2021</td>\n",
       "    </tr>\n",
       "    <tr>\n",
       "      <th>1</th>\n",
       "      <td>East Winthrop</td>\n",
       "      <td>05/28/2021</td>\n",
       "      <td>Fri</td>\n",
       "      <td>4485</td>\n",
       "      <td>1</td>\n",
       "      <td>12:00</td>\n",
       "      <td>18:00</td>\n",
       "      <td>2.0</td>\n",
       "      <td>0.0</td>\n",
       "      <td>Winthrop</td>\n",
       "      <td>Cobbosseecontee Lake</td>\n",
       "      <td>360.0</td>\n",
       "      <td>2021-05-28</td>\n",
       "      <td>5</td>\n",
       "      <td>2021</td>\n",
       "    </tr>\n",
       "    <tr>\n",
       "      <th>2</th>\n",
       "      <td>Augusta West Kampground</td>\n",
       "      <td>05/28/2021</td>\n",
       "      <td>Fri</td>\n",
       "      <td>4769</td>\n",
       "      <td>1</td>\n",
       "      <td>12:00</td>\n",
       "      <td>18:00</td>\n",
       "      <td>1.0</td>\n",
       "      <td>0.0</td>\n",
       "      <td>Winthrop</td>\n",
       "      <td>Annabessacook Lake</td>\n",
       "      <td>360.0</td>\n",
       "      <td>2021-05-28</td>\n",
       "      <td>5</td>\n",
       "      <td>2021</td>\n",
       "    </tr>\n",
       "    <tr>\n",
       "      <th>3</th>\n",
       "      <td>Whippoorwill Road</td>\n",
       "      <td>05/28/2021</td>\n",
       "      <td>Fri</td>\n",
       "      <td>4174</td>\n",
       "      <td>1</td>\n",
       "      <td>12:00</td>\n",
       "      <td>18:00</td>\n",
       "      <td>13.0</td>\n",
       "      <td>0.0</td>\n",
       "      <td>Litchfield</td>\n",
       "      <td>Woodbury Pond</td>\n",
       "      <td>360.0</td>\n",
       "      <td>2021-05-28</td>\n",
       "      <td>5</td>\n",
       "      <td>2021</td>\n",
       "    </tr>\n",
       "    <tr>\n",
       "      <th>4</th>\n",
       "      <td>Thorofare Rd</td>\n",
       "      <td>05/29/2021</td>\n",
       "      <td>Sat</td>\n",
       "      <td>4944</td>\n",
       "      <td>1</td>\n",
       "      <td>07:00</td>\n",
       "      <td>17:00</td>\n",
       "      <td>11.0</td>\n",
       "      <td>0.0</td>\n",
       "      <td>Litchfield</td>\n",
       "      <td>Pleasant Pond</td>\n",
       "      <td>600.0</td>\n",
       "      <td>2021-05-29</td>\n",
       "      <td>5</td>\n",
       "      <td>2021</td>\n",
       "    </tr>\n",
       "  </tbody>\n",
       "</table>\n",
       "</div>"
      ],
      "text/plain": [
       "                 SITE_NAME       DATE1 DAY_OF_WEEK  INSPECTOR_ID  PAY_VOL  \\\n",
       "0             Launch Drive  05/28/2021         Fri          4771        1   \n",
       "1            East Winthrop  05/28/2021         Fri          4485        1   \n",
       "2  Augusta West Kampground  05/28/2021         Fri          4769        1   \n",
       "3        Whippoorwill Road  05/28/2021         Fri          4174        1   \n",
       "4             Thorofare Rd  05/29/2021         Sat          4944        1   \n",
       "\n",
       "  SHIFT_START SHIFT_END  TOTALINSP  NUMINVASIVE          TOWN  \\\n",
       "0       12:00     18:00       33.0          0.0  Launch Drive   \n",
       "1       12:00     18:00        2.0          0.0      Winthrop   \n",
       "2       12:00     18:00        1.0          0.0      Winthrop   \n",
       "3       12:00     18:00       13.0          0.0    Litchfield   \n",
       "4       07:00     17:00       11.0          0.0    Litchfield   \n",
       "\n",
       "              WATERBODY  SHIFT_LENGTH        DATE  month  year  \n",
       "0  Cobbosseecontee Lake         360.0  2021-05-28      5  2021  \n",
       "1  Cobbosseecontee Lake         360.0  2021-05-28      5  2021  \n",
       "2    Annabessacook Lake         360.0  2021-05-28      5  2021  \n",
       "3         Woodbury Pond         360.0  2021-05-28      5  2021  \n",
       "4         Pleasant Pond         600.0  2021-05-29      5  2021  "
      ]
     },
     "execution_count": 3,
     "metadata": {},
     "output_type": "execute_result"
    }
   ],
   "source": [
    "shift_df.head()"
   ]
  },
  {
   "cell_type": "code",
   "execution_count": 4,
   "id": "70de58d2-64c0-430b-ae76-3cf11eb361ea",
   "metadata": {
    "tags": []
   },
   "outputs": [],
   "source": [
    "y = shift_df['TOTALINSP']\n",
    "X = shift_df.drop(columns=['DATE1', 'TOTALINSP', 'NUMINVASIVE', 'TOWN', 'WATERBODY', 'DATE', 'INSPECTOR_ID'])"
   ]
  },
  {
   "cell_type": "code",
   "execution_count": 5,
   "id": "4f93b44a-8a78-4812-b05d-797d433341de",
   "metadata": {
    "tags": []
   },
   "outputs": [],
   "source": [
    "X_train, X_test, y_train, y_test = train_test_split(X, y, random_state=42, test_size=.3)"
   ]
  },
  {
   "cell_type": "code",
   "execution_count": 37,
   "id": "f2da001d-56e5-4146-a3db-cb2830686bac",
   "metadata": {
    "tags": []
   },
   "outputs": [
    {
     "data": {
      "text/html": [
       "<div>\n",
       "<style scoped>\n",
       "    .dataframe tbody tr th:only-of-type {\n",
       "        vertical-align: middle;\n",
       "    }\n",
       "\n",
       "    .dataframe tbody tr th {\n",
       "        vertical-align: top;\n",
       "    }\n",
       "\n",
       "    .dataframe thead th {\n",
       "        text-align: right;\n",
       "    }\n",
       "</style>\n",
       "<table border=\"1\" class=\"dataframe\">\n",
       "  <thead>\n",
       "    <tr style=\"text-align: right;\">\n",
       "      <th></th>\n",
       "      <th>SITE_NAME</th>\n",
       "      <th>DAY_OF_WEEK</th>\n",
       "      <th>PAY_VOL</th>\n",
       "      <th>SHIFT_START</th>\n",
       "      <th>SHIFT_END</th>\n",
       "      <th>SHIFT_LENGTH</th>\n",
       "      <th>month</th>\n",
       "      <th>year</th>\n",
       "    </tr>\n",
       "  </thead>\n",
       "  <tbody>\n",
       "    <tr>\n",
       "      <th>1510</th>\n",
       "      <td>Old Kents Hill Road</td>\n",
       "      <td>Mon</td>\n",
       "      <td>1</td>\n",
       "      <td>09:00</td>\n",
       "      <td>19:00</td>\n",
       "      <td>600.0</td>\n",
       "      <td>5</td>\n",
       "      <td>2023</td>\n",
       "    </tr>\n",
       "    <tr>\n",
       "      <th>1061</th>\n",
       "      <td>Launch Drive Cobbosseecontee</td>\n",
       "      <td>Sun</td>\n",
       "      <td>1</td>\n",
       "      <td>13:00</td>\n",
       "      <td>19:00</td>\n",
       "      <td>360.0</td>\n",
       "      <td>7</td>\n",
       "      <td>2022</td>\n",
       "    </tr>\n",
       "    <tr>\n",
       "      <th>2040</th>\n",
       "      <td>East Winthrop Cobbosseecontee</td>\n",
       "      <td>Thu</td>\n",
       "      <td>1</td>\n",
       "      <td>13:00</td>\n",
       "      <td>19:00</td>\n",
       "      <td>360.0</td>\n",
       "      <td>8</td>\n",
       "      <td>2023</td>\n",
       "    </tr>\n",
       "    <tr>\n",
       "      <th>123</th>\n",
       "      <td>Whippoorwill Road</td>\n",
       "      <td>Sun</td>\n",
       "      <td>1</td>\n",
       "      <td>13:00</td>\n",
       "      <td>19:00</td>\n",
       "      <td>360.0</td>\n",
       "      <td>6</td>\n",
       "      <td>2021</td>\n",
       "    </tr>\n",
       "    <tr>\n",
       "      <th>729</th>\n",
       "      <td>Rt 41 North Basin Maranacook</td>\n",
       "      <td>Sun</td>\n",
       "      <td>1</td>\n",
       "      <td>13:00</td>\n",
       "      <td>19:00</td>\n",
       "      <td>360.0</td>\n",
       "      <td>6</td>\n",
       "      <td>2022</td>\n",
       "    </tr>\n",
       "    <tr>\n",
       "      <th>...</th>\n",
       "      <td>...</td>\n",
       "      <td>...</td>\n",
       "      <td>...</td>\n",
       "      <td>...</td>\n",
       "      <td>...</td>\n",
       "      <td>...</td>\n",
       "      <td>...</td>\n",
       "      <td>...</td>\n",
       "    </tr>\n",
       "    <tr>\n",
       "      <th>1638</th>\n",
       "      <td>East Winthrop Cobbosseecontee</td>\n",
       "      <td>Tue</td>\n",
       "      <td>1</td>\n",
       "      <td>13:00</td>\n",
       "      <td>19:00</td>\n",
       "      <td>360.0</td>\n",
       "      <td>6</td>\n",
       "      <td>2023</td>\n",
       "    </tr>\n",
       "    <tr>\n",
       "      <th>1095</th>\n",
       "      <td>Launch Drive Cobbosseecontee</td>\n",
       "      <td>Fri</td>\n",
       "      <td>1</td>\n",
       "      <td>07:00</td>\n",
       "      <td>13:00</td>\n",
       "      <td>360.0</td>\n",
       "      <td>7</td>\n",
       "      <td>2022</td>\n",
       "    </tr>\n",
       "    <tr>\n",
       "      <th>1130</th>\n",
       "      <td>Rt 41 North Basin Maranacook</td>\n",
       "      <td>Sun</td>\n",
       "      <td>1</td>\n",
       "      <td>07:00</td>\n",
       "      <td>13:00</td>\n",
       "      <td>360.0</td>\n",
       "      <td>7</td>\n",
       "      <td>2022</td>\n",
       "    </tr>\n",
       "    <tr>\n",
       "      <th>1294</th>\n",
       "      <td>Rt 41 North Basin Maranacook</td>\n",
       "      <td>Sun</td>\n",
       "      <td>1</td>\n",
       "      <td>13:00</td>\n",
       "      <td>19:00</td>\n",
       "      <td>360.0</td>\n",
       "      <td>8</td>\n",
       "      <td>2022</td>\n",
       "    </tr>\n",
       "    <tr>\n",
       "      <th>860</th>\n",
       "      <td>Thorofare Rd</td>\n",
       "      <td>Sat</td>\n",
       "      <td>1</td>\n",
       "      <td>07:00</td>\n",
       "      <td>13:00</td>\n",
       "      <td>360.0</td>\n",
       "      <td>7</td>\n",
       "      <td>2022</td>\n",
       "    </tr>\n",
       "  </tbody>\n",
       "</table>\n",
       "<p>1596 rows × 8 columns</p>\n",
       "</div>"
      ],
      "text/plain": [
       "                          SITE_NAME DAY_OF_WEEK  PAY_VOL SHIFT_START  \\\n",
       "1510            Old Kents Hill Road         Mon        1       09:00   \n",
       "1061   Launch Drive Cobbosseecontee         Sun        1       13:00   \n",
       "2040  East Winthrop Cobbosseecontee         Thu        1       13:00   \n",
       "123               Whippoorwill Road         Sun        1       13:00   \n",
       "729    Rt 41 North Basin Maranacook         Sun        1       13:00   \n",
       "...                             ...         ...      ...         ...   \n",
       "1638  East Winthrop Cobbosseecontee         Tue        1       13:00   \n",
       "1095   Launch Drive Cobbosseecontee         Fri        1       07:00   \n",
       "1130   Rt 41 North Basin Maranacook         Sun        1       07:00   \n",
       "1294   Rt 41 North Basin Maranacook         Sun        1       13:00   \n",
       "860                    Thorofare Rd         Sat        1       07:00   \n",
       "\n",
       "     SHIFT_END  SHIFT_LENGTH  month  year  \n",
       "1510     19:00         600.0      5  2023  \n",
       "1061     19:00         360.0      7  2022  \n",
       "2040     19:00         360.0      8  2023  \n",
       "123      19:00         360.0      6  2021  \n",
       "729      19:00         360.0      6  2022  \n",
       "...        ...           ...    ...   ...  \n",
       "1638     19:00         360.0      6  2023  \n",
       "1095     13:00         360.0      7  2022  \n",
       "1130     13:00         360.0      7  2022  \n",
       "1294     19:00         360.0      8  2022  \n",
       "860      13:00         360.0      7  2022  \n",
       "\n",
       "[1596 rows x 8 columns]"
      ]
     },
     "execution_count": 37,
     "metadata": {},
     "output_type": "execute_result"
    }
   ],
   "source": [
    "X_train"
   ]
  },
  {
   "cell_type": "code",
   "execution_count": 12,
   "id": "92f245f2-3744-4753-ac3d-82342ec5c683",
   "metadata": {
    "tags": []
   },
   "outputs": [],
   "source": [
    "# Calculate the baseline r**2\n",
    "shift_df['y_preds'] = np.mean(shift_df.TOTALINSP)"
   ]
  },
  {
   "cell_type": "code",
   "execution_count": 13,
   "id": "fbae059a-f884-4879-9949-747832de013f",
   "metadata": {
    "tags": []
   },
   "outputs": [
    {
     "data": {
      "text/plain": [
       "294.8412280701754"
      ]
     },
     "execution_count": 13,
     "metadata": {},
     "output_type": "execute_result"
    }
   ],
   "source": [
    "metrics.mean_squared_error(shift_df.TOTALINSP, shift_df.y_preds)"
   ]
  },
  {
   "cell_type": "code",
   "execution_count": 15,
   "id": "842ac5d4-dca1-4bd7-96d6-611ab3d2bca1",
   "metadata": {
    "tags": []
   },
   "outputs": [
    {
     "data": {
      "text/plain": [
       "0.0"
      ]
     },
     "execution_count": 15,
     "metadata": {},
     "output_type": "execute_result"
    }
   ],
   "source": [
    "metrics.r2_score(shift_df.TOTALINSP, shift_df.y_preds)"
   ]
  },
  {
   "cell_type": "code",
   "execution_count": null,
   "id": "3d286aec-2877-4c58-993f-42596b9103e0",
   "metadata": {},
   "outputs": [],
   "source": [
    "# The baseline r2 is very low- 0"
   ]
  },
  {
   "cell_type": "code",
   "execution_count": 6,
   "id": "91a83b0c-70a1-464d-9db0-643b6c91ae59",
   "metadata": {
    "tags": []
   },
   "outputs": [],
   "source": [
    "categorical_columns = ['SITE_NAME', 'DAY_OF_WEEK', 'month', 'year']\n",
    "oh = OneHotEncoder(handle_unknown='ignore', drop='first')\n",
    "X_train_transformed = oh.fit_transform(X_train[categorical_columns])\n",
    "X_test_transformed= oh.transform(X_test[categorical_columns])"
   ]
  },
  {
   "cell_type": "code",
   "execution_count": 43,
   "id": "46f509bf-4cb6-4676-96a7-da8c172530d2",
   "metadata": {
    "tags": []
   },
   "outputs": [
    {
     "data": {
      "text/html": [
       "<style>#sk-container-id-1 {color: black;}#sk-container-id-1 pre{padding: 0;}#sk-container-id-1 div.sk-toggleable {background-color: white;}#sk-container-id-1 label.sk-toggleable__label {cursor: pointer;display: block;width: 100%;margin-bottom: 0;padding: 0.3em;box-sizing: border-box;text-align: center;}#sk-container-id-1 label.sk-toggleable__label-arrow:before {content: \"▸\";float: left;margin-right: 0.25em;color: #696969;}#sk-container-id-1 label.sk-toggleable__label-arrow:hover:before {color: black;}#sk-container-id-1 div.sk-estimator:hover label.sk-toggleable__label-arrow:before {color: black;}#sk-container-id-1 div.sk-toggleable__content {max-height: 0;max-width: 0;overflow: hidden;text-align: left;background-color: #f0f8ff;}#sk-container-id-1 div.sk-toggleable__content pre {margin: 0.2em;color: black;border-radius: 0.25em;background-color: #f0f8ff;}#sk-container-id-1 input.sk-toggleable__control:checked~div.sk-toggleable__content {max-height: 200px;max-width: 100%;overflow: auto;}#sk-container-id-1 input.sk-toggleable__control:checked~label.sk-toggleable__label-arrow:before {content: \"▾\";}#sk-container-id-1 div.sk-estimator input.sk-toggleable__control:checked~label.sk-toggleable__label {background-color: #d4ebff;}#sk-container-id-1 div.sk-label input.sk-toggleable__control:checked~label.sk-toggleable__label {background-color: #d4ebff;}#sk-container-id-1 input.sk-hidden--visually {border: 0;clip: rect(1px 1px 1px 1px);clip: rect(1px, 1px, 1px, 1px);height: 1px;margin: -1px;overflow: hidden;padding: 0;position: absolute;width: 1px;}#sk-container-id-1 div.sk-estimator {font-family: monospace;background-color: #f0f8ff;border: 1px dotted black;border-radius: 0.25em;box-sizing: border-box;margin-bottom: 0.5em;}#sk-container-id-1 div.sk-estimator:hover {background-color: #d4ebff;}#sk-container-id-1 div.sk-parallel-item::after {content: \"\";width: 100%;border-bottom: 1px solid gray;flex-grow: 1;}#sk-container-id-1 div.sk-label:hover label.sk-toggleable__label {background-color: #d4ebff;}#sk-container-id-1 div.sk-serial::before {content: \"\";position: absolute;border-left: 1px solid gray;box-sizing: border-box;top: 0;bottom: 0;left: 50%;z-index: 0;}#sk-container-id-1 div.sk-serial {display: flex;flex-direction: column;align-items: center;background-color: white;padding-right: 0.2em;padding-left: 0.2em;position: relative;}#sk-container-id-1 div.sk-item {position: relative;z-index: 1;}#sk-container-id-1 div.sk-parallel {display: flex;align-items: stretch;justify-content: center;background-color: white;position: relative;}#sk-container-id-1 div.sk-item::before, #sk-container-id-1 div.sk-parallel-item::before {content: \"\";position: absolute;border-left: 1px solid gray;box-sizing: border-box;top: 0;bottom: 0;left: 50%;z-index: -1;}#sk-container-id-1 div.sk-parallel-item {display: flex;flex-direction: column;z-index: 1;position: relative;background-color: white;}#sk-container-id-1 div.sk-parallel-item:first-child::after {align-self: flex-end;width: 50%;}#sk-container-id-1 div.sk-parallel-item:last-child::after {align-self: flex-start;width: 50%;}#sk-container-id-1 div.sk-parallel-item:only-child::after {width: 0;}#sk-container-id-1 div.sk-dashed-wrapped {border: 1px dashed gray;margin: 0 0.4em 0.5em 0.4em;box-sizing: border-box;padding-bottom: 0.4em;background-color: white;}#sk-container-id-1 div.sk-label label {font-family: monospace;font-weight: bold;display: inline-block;line-height: 1.2em;}#sk-container-id-1 div.sk-label-container {text-align: center;}#sk-container-id-1 div.sk-container {/* jupyter's `normalize.less` sets `[hidden] { display: none; }` but bootstrap.min.css set `[hidden] { display: none !important; }` so we also need the `!important` here to be able to override the default hidden behavior on the sphinx rendered scikit-learn.org. See: https://github.com/scikit-learn/scikit-learn/issues/21755 */display: inline-block !important;position: relative;}#sk-container-id-1 div.sk-text-repr-fallback {display: none;}</style><div id=\"sk-container-id-1\" class=\"sk-top-container\"><div class=\"sk-text-repr-fallback\"><pre>LinearRegression()</pre><b>In a Jupyter environment, please rerun this cell to show the HTML representation or trust the notebook. <br />On GitHub, the HTML representation is unable to render, please try loading this page with nbviewer.org.</b></div><div class=\"sk-container\" hidden><div class=\"sk-item\"><div class=\"sk-estimator sk-toggleable\"><input class=\"sk-toggleable__control sk-hidden--visually\" id=\"sk-estimator-id-1\" type=\"checkbox\" checked><label for=\"sk-estimator-id-1\" class=\"sk-toggleable__label sk-toggleable__label-arrow\">LinearRegression</label><div class=\"sk-toggleable__content\"><pre>LinearRegression()</pre></div></div></div></div></div>"
      ],
      "text/plain": [
       "LinearRegression()"
      ]
     },
     "execution_count": 43,
     "metadata": {},
     "output_type": "execute_result"
    }
   ],
   "source": [
    "# Basic Linear Regression Model\n",
    "lr = LinearRegression()\n",
    "lr.fit(X_train_transformed, y_train)"
   ]
  },
  {
   "cell_type": "code",
   "execution_count": 44,
   "id": "0c542433-111b-4375-a30b-c19d7e983ad5",
   "metadata": {
    "tags": []
   },
   "outputs": [
    {
     "data": {
      "text/plain": [
       "0.3142477893028155"
      ]
     },
     "execution_count": 44,
     "metadata": {},
     "output_type": "execute_result"
    }
   ],
   "source": [
    "lr.score(X_train_transformed, y_train)"
   ]
  },
  {
   "cell_type": "code",
   "execution_count": 46,
   "id": "2217d7a7-5d9d-4984-a1be-3983cc17a928",
   "metadata": {
    "tags": []
   },
   "outputs": [
    {
     "data": {
      "text/plain": [
       "0.26526984756509553"
      ]
     },
     "execution_count": 46,
     "metadata": {},
     "output_type": "execute_result"
    }
   ],
   "source": [
    "lr.score(X_test_transformed, y_test)"
   ]
  },
  {
   "cell_type": "code",
   "execution_count": null,
   "id": "53a069d3-76b2-4da6-aa93-6dd5d002792c",
   "metadata": {},
   "outputs": [],
   "source": []
  },
  {
   "cell_type": "code",
   "execution_count": 16,
   "id": "9c9208c7-b135-4bea-9124-2a722447485b",
   "metadata": {
    "tags": []
   },
   "outputs": [
    {
     "name": "stdout",
     "output_type": "stream",
     "text": [
      "0.5823881813796656\n",
      "0.28061943955375523\n"
     ]
    }
   ],
   "source": [
    "# Random forest model\n",
    "rf = RandomForestRegressor(n_estimators=100, n_jobs=2, random_state=42, oob_score=True)\n",
    "rf.fit(X_train_transformed, y_train)\n",
    "print(rf.score(X_train_transformed, y_train))\n",
    "print(rf.score(X_test_transformed, y_test))"
   ]
  },
  {
   "cell_type": "code",
   "execution_count": null,
   "id": "2d3edde8-a874-429f-9738-f6ce7ff558cd",
   "metadata": {},
   "outputs": [],
   "source": []
  },
  {
   "cell_type": "code",
   "execution_count": 17,
   "id": "94be441e-da3e-4422-99b3-17c77db4e7a7",
   "metadata": {
    "tags": []
   },
   "outputs": [
    {
     "name": "stdout",
     "output_type": "stream",
     "text": [
      "0.5982039094617482\n",
      "0.19747301885075785\n"
     ]
    }
   ],
   "source": [
    "# Extra Trees model\n",
    "et = ExtraTreesRegressor(n_estimators=100, n_jobs=2, random_state=42)\n",
    "et.fit(X_train_transformed, y_train)\n",
    "print(et.score(X_train_transformed, y_train))\n",
    "print(et.score(X_test_transformed, y_test))"
   ]
  },
  {
   "cell_type": "markdown",
   "id": "8b27b17a-62b4-4e21-9239-c1c5db9a6adc",
   "metadata": {},
   "source": [
    "Both tree models are very ovefit- adding regularization and gridsearching over to find best params could improve the models and improve the testing r2. However, despite being overfit, the random forest model with an r2 of .28 is promising. Both models are potentially decent starting points and using a combination of new data (weather) and feature engineering (holidays and inspector experience) could further improve the models' success. "
   ]
  },
  {
   "cell_type": "code",
   "execution_count": 20,
   "id": "e850db90-1a2f-4a2c-b739-73f5f7e817c4",
   "metadata": {
    "tags": []
   },
   "outputs": [
    {
     "name": "stdout",
     "output_type": "stream",
     "text": [
      "0.1631178499776783\n",
      "0.057888955598118574\n"
     ]
    }
   ],
   "source": [
    "# AdaBoost Model\n",
    "ada = AdaBoostRegressor()\n",
    "ada.fit(X_train_transformed, y_train)\n",
    "print(ada.score(X_train_transformed, y_train))\n",
    "print(ada.score(X_test_transformed, y_test))"
   ]
  },
  {
   "cell_type": "code",
   "execution_count": 22,
   "id": "c168fe7e-0803-4afa-9ae1-547826dc49de",
   "metadata": {
    "tags": []
   },
   "outputs": [
    {
     "name": "stdout",
     "output_type": "stream",
     "text": [
      "0.4110300421256725\n",
      "0.2711720175379255\n"
     ]
    }
   ],
   "source": [
    "# Gradient Boost Model\n",
    "grad = GradientBoostingRegressor()\n",
    "grad.fit(X_train_transformed, y_train)\n",
    "print(grad.score(X_train_transformed, y_train))\n",
    "print(grad.score(X_test_transformed, y_test))"
   ]
  },
  {
   "cell_type": "code",
   "execution_count": 27,
   "id": "bd8217b6-eb76-43e6-b627-c775734dbb23",
   "metadata": {
    "tags": []
   },
   "outputs": [
    {
     "ename": "ValueError",
     "evalue": "Cannot center sparse matrices: pass `with_mean=False` instead. See docstring for motivation and alternatives.",
     "output_type": "error",
     "traceback": [
      "\u001b[1;31m---------------------------------------------------------------------------\u001b[0m",
      "\u001b[1;31mValueError\u001b[0m                                Traceback (most recent call last)",
      "Cell \u001b[1;32mIn[27], line 3\u001b[0m\n\u001b[0;32m      1\u001b[0m \u001b[38;5;66;03m# KNN model\u001b[39;00m\n\u001b[0;32m      2\u001b[0m sc \u001b[38;5;241m=\u001b[39m StandardScaler(with_mean\u001b[38;5;241m=\u001b[39m\u001b[38;5;28;01mTrue\u001b[39;00m)\n\u001b[1;32m----> 3\u001b[0m sc\u001b[38;5;241m.\u001b[39mfit(X_train_transformed)\n\u001b[0;32m      4\u001b[0m X_train_sc \u001b[38;5;241m=\u001b[39m sc\u001b[38;5;241m.\u001b[39mtranform(X_train_transformed)\n\u001b[0;32m      5\u001b[0m X_test_sc \u001b[38;5;241m=\u001b[39m sc\u001b[38;5;241m.\u001b[39mtransform(X_test_transformed)\n",
      "File \u001b[1;32m~\\anaconda3\\Lib\\site-packages\\sklearn\\preprocessing\\_data.py:837\u001b[0m, in \u001b[0;36mStandardScaler.fit\u001b[1;34m(self, X, y, sample_weight)\u001b[0m\n\u001b[0;32m    835\u001b[0m \u001b[38;5;66;03m# Reset internal state before fitting\u001b[39;00m\n\u001b[0;32m    836\u001b[0m \u001b[38;5;28mself\u001b[39m\u001b[38;5;241m.\u001b[39m_reset()\n\u001b[1;32m--> 837\u001b[0m \u001b[38;5;28;01mreturn\u001b[39;00m \u001b[38;5;28mself\u001b[39m\u001b[38;5;241m.\u001b[39mpartial_fit(X, y, sample_weight)\n",
      "File \u001b[1;32m~\\anaconda3\\Lib\\site-packages\\sklearn\\base.py:1151\u001b[0m, in \u001b[0;36m_fit_context.<locals>.decorator.<locals>.wrapper\u001b[1;34m(estimator, *args, **kwargs)\u001b[0m\n\u001b[0;32m   1144\u001b[0m     estimator\u001b[38;5;241m.\u001b[39m_validate_params()\n\u001b[0;32m   1146\u001b[0m \u001b[38;5;28;01mwith\u001b[39;00m config_context(\n\u001b[0;32m   1147\u001b[0m     skip_parameter_validation\u001b[38;5;241m=\u001b[39m(\n\u001b[0;32m   1148\u001b[0m         prefer_skip_nested_validation \u001b[38;5;129;01mor\u001b[39;00m global_skip_validation\n\u001b[0;32m   1149\u001b[0m     )\n\u001b[0;32m   1150\u001b[0m ):\n\u001b[1;32m-> 1151\u001b[0m     \u001b[38;5;28;01mreturn\u001b[39;00m fit_method(estimator, \u001b[38;5;241m*\u001b[39margs, \u001b[38;5;241m*\u001b[39m\u001b[38;5;241m*\u001b[39mkwargs)\n",
      "File \u001b[1;32m~\\anaconda3\\Lib\\site-packages\\sklearn\\preprocessing\\_data.py:901\u001b[0m, in \u001b[0;36mStandardScaler.partial_fit\u001b[1;34m(self, X, y, sample_weight)\u001b[0m\n\u001b[0;32m    899\u001b[0m \u001b[38;5;28;01mif\u001b[39;00m sparse\u001b[38;5;241m.\u001b[39missparse(X):\n\u001b[0;32m    900\u001b[0m     \u001b[38;5;28;01mif\u001b[39;00m \u001b[38;5;28mself\u001b[39m\u001b[38;5;241m.\u001b[39mwith_mean:\n\u001b[1;32m--> 901\u001b[0m         \u001b[38;5;28;01mraise\u001b[39;00m \u001b[38;5;167;01mValueError\u001b[39;00m(\n\u001b[0;32m    902\u001b[0m             \u001b[38;5;124m\"\u001b[39m\u001b[38;5;124mCannot center sparse matrices: pass `with_mean=False` \u001b[39m\u001b[38;5;124m\"\u001b[39m\n\u001b[0;32m    903\u001b[0m             \u001b[38;5;124m\"\u001b[39m\u001b[38;5;124minstead. See docstring for motivation and alternatives.\u001b[39m\u001b[38;5;124m\"\u001b[39m\n\u001b[0;32m    904\u001b[0m         )\n\u001b[0;32m    905\u001b[0m     sparse_constructor \u001b[38;5;241m=\u001b[39m (\n\u001b[0;32m    906\u001b[0m         sparse\u001b[38;5;241m.\u001b[39mcsr_matrix \u001b[38;5;28;01mif\u001b[39;00m X\u001b[38;5;241m.\u001b[39mformat \u001b[38;5;241m==\u001b[39m \u001b[38;5;124m\"\u001b[39m\u001b[38;5;124mcsr\u001b[39m\u001b[38;5;124m\"\u001b[39m \u001b[38;5;28;01melse\u001b[39;00m sparse\u001b[38;5;241m.\u001b[39mcsc_matrix\n\u001b[0;32m    907\u001b[0m     )\n\u001b[0;32m    909\u001b[0m     \u001b[38;5;28;01mif\u001b[39;00m \u001b[38;5;28mself\u001b[39m\u001b[38;5;241m.\u001b[39mwith_std:\n\u001b[0;32m    910\u001b[0m         \u001b[38;5;66;03m# First pass\u001b[39;00m\n",
      "\u001b[1;31mValueError\u001b[0m: Cannot center sparse matrices: pass `with_mean=False` instead. See docstring for motivation and alternatives."
     ]
    }
   ],
   "source": [
    "# KNN model\n",
    "sc = StandardScaler()\n",
    "sc.fit(X_train_transformed)\n",
    "X_train_sc = sc.tranform(X_train_transformed)\n",
    "X_test_sc = sc.transform(X_test_transformed)\n",
    "\n",
    "knn = KNeighborsRegressor()\n",
    "knn.fit(X_train_sc, y_train)\n",
    "print(knn.score(X_train_sc, y_train))\n",
    "print(knn.score(X_test_sc, y_test))"
   ]
  },
  {
   "cell_type": "code",
   "execution_count": null,
   "id": "433104e9-fc78-483e-955c-d028ae3120e9",
   "metadata": {},
   "outputs": [],
   "source": []
  },
  {
   "cell_type": "code",
   "execution_count": null,
   "id": "2702ca4d-d23e-418d-b050-fe17c993e575",
   "metadata": {},
   "outputs": [],
   "source": []
  },
  {
   "cell_type": "code",
   "execution_count": 43,
   "id": "c52a266a-2b6b-4202-be6b-07e3b428ce9e",
   "metadata": {},
   "outputs": [],
   "source": [
    "# Initial model with weather\n",
    "\n",
    "df = pd.read_csv('data/df_with_weather.csv')"
   ]
  },
  {
   "cell_type": "code",
   "execution_count": 44,
   "id": "7306d7ea-22a1-4493-85b6-e417c0b0956d",
   "metadata": {
    "tags": []
   },
   "outputs": [
    {
     "data": {
      "text/html": [
       "<div>\n",
       "<style scoped>\n",
       "    .dataframe tbody tr th:only-of-type {\n",
       "        vertical-align: middle;\n",
       "    }\n",
       "\n",
       "    .dataframe tbody tr th {\n",
       "        vertical-align: top;\n",
       "    }\n",
       "\n",
       "    .dataframe thead th {\n",
       "        text-align: right;\n",
       "    }\n",
       "</style>\n",
       "<table border=\"1\" class=\"dataframe\">\n",
       "  <thead>\n",
       "    <tr style=\"text-align: right;\">\n",
       "      <th></th>\n",
       "      <th>DATE1</th>\n",
       "      <th>DAY_OF_WEEK</th>\n",
       "      <th>SITE_NAME</th>\n",
       "      <th>TOWN</th>\n",
       "      <th>WATERBODY</th>\n",
       "      <th>INSPECTOR_ID</th>\n",
       "      <th>PAY_VOL</th>\n",
       "      <th>SHIFT_START</th>\n",
       "      <th>TRAILERS</th>\n",
       "      <th>SHIFT_END</th>\n",
       "      <th>SHIFT_LENGTH</th>\n",
       "      <th>TOTALINSP</th>\n",
       "      <th>PRCP</th>\n",
       "      <th>TMAX</th>\n",
       "      <th>TMIN</th>\n",
       "      <th>TOBS</th>\n",
       "    </tr>\n",
       "  </thead>\n",
       "  <tbody>\n",
       "    <tr>\n",
       "      <th>0</th>\n",
       "      <td>2021-05-28</td>\n",
       "      <td>Fri</td>\n",
       "      <td>Launch Drive</td>\n",
       "      <td>Monmouth</td>\n",
       "      <td>Cobbosseecontee Lake</td>\n",
       "      <td>4771</td>\n",
       "      <td>Paid</td>\n",
       "      <td>12:00</td>\n",
       "      <td>10.0</td>\n",
       "      <td>18:00</td>\n",
       "      <td>360</td>\n",
       "      <td>33.0</td>\n",
       "      <td>0.00</td>\n",
       "      <td>72.0</td>\n",
       "      <td>45.0</td>\n",
       "      <td>49.0</td>\n",
       "    </tr>\n",
       "    <tr>\n",
       "      <th>1</th>\n",
       "      <td>2021-05-28</td>\n",
       "      <td>Fri</td>\n",
       "      <td>Whippoorwill Road</td>\n",
       "      <td>Litchfield</td>\n",
       "      <td>Woodbury Pond</td>\n",
       "      <td>4174</td>\n",
       "      <td>Paid</td>\n",
       "      <td>12:00</td>\n",
       "      <td>1.0</td>\n",
       "      <td>18:00</td>\n",
       "      <td>360</td>\n",
       "      <td>13.0</td>\n",
       "      <td>0.00</td>\n",
       "      <td>72.0</td>\n",
       "      <td>45.0</td>\n",
       "      <td>49.0</td>\n",
       "    </tr>\n",
       "    <tr>\n",
       "      <th>2</th>\n",
       "      <td>2021-05-28</td>\n",
       "      <td>Fri</td>\n",
       "      <td>Augusta West Kampground</td>\n",
       "      <td>Winthrop</td>\n",
       "      <td>Annabessacook Lake</td>\n",
       "      <td>4769</td>\n",
       "      <td>Paid</td>\n",
       "      <td>12:00</td>\n",
       "      <td>0.0</td>\n",
       "      <td>18:00</td>\n",
       "      <td>360</td>\n",
       "      <td>1.0</td>\n",
       "      <td>0.00</td>\n",
       "      <td>72.0</td>\n",
       "      <td>45.0</td>\n",
       "      <td>49.0</td>\n",
       "    </tr>\n",
       "    <tr>\n",
       "      <th>3</th>\n",
       "      <td>2021-05-28</td>\n",
       "      <td>Fri</td>\n",
       "      <td>East Winthrop</td>\n",
       "      <td>Winthrop</td>\n",
       "      <td>Cobbosseecontee Lake</td>\n",
       "      <td>4485</td>\n",
       "      <td>Paid</td>\n",
       "      <td>12:00</td>\n",
       "      <td>1.0</td>\n",
       "      <td>18:00</td>\n",
       "      <td>360</td>\n",
       "      <td>2.0</td>\n",
       "      <td>0.00</td>\n",
       "      <td>72.0</td>\n",
       "      <td>45.0</td>\n",
       "      <td>49.0</td>\n",
       "    </tr>\n",
       "    <tr>\n",
       "      <th>4</th>\n",
       "      <td>2021-05-29</td>\n",
       "      <td>Sat</td>\n",
       "      <td>Thorofare Rd</td>\n",
       "      <td>Litchfield</td>\n",
       "      <td>Pleasant Pond</td>\n",
       "      <td>4944</td>\n",
       "      <td>Paid</td>\n",
       "      <td>7:00</td>\n",
       "      <td>1.0</td>\n",
       "      <td>17:00</td>\n",
       "      <td>600</td>\n",
       "      <td>11.0</td>\n",
       "      <td>0.02</td>\n",
       "      <td>62.0</td>\n",
       "      <td>45.0</td>\n",
       "      <td>46.0</td>\n",
       "    </tr>\n",
       "  </tbody>\n",
       "</table>\n",
       "</div>"
      ],
      "text/plain": [
       "        DATE1 DAY_OF_WEEK                SITE_NAME        TOWN  \\\n",
       "0  2021-05-28         Fri             Launch Drive    Monmouth   \n",
       "1  2021-05-28         Fri        Whippoorwill Road  Litchfield   \n",
       "2  2021-05-28         Fri  Augusta West Kampground    Winthrop   \n",
       "3  2021-05-28         Fri            East Winthrop    Winthrop   \n",
       "4  2021-05-29         Sat             Thorofare Rd  Litchfield   \n",
       "\n",
       "              WATERBODY  INSPECTOR_ID PAY_VOL SHIFT_START  TRAILERS SHIFT_END  \\\n",
       "0  Cobbosseecontee Lake          4771    Paid       12:00      10.0     18:00   \n",
       "1         Woodbury Pond          4174    Paid       12:00       1.0     18:00   \n",
       "2    Annabessacook Lake          4769    Paid       12:00       0.0     18:00   \n",
       "3  Cobbosseecontee Lake          4485    Paid       12:00       1.0     18:00   \n",
       "4         Pleasant Pond          4944    Paid        7:00       1.0     17:00   \n",
       "\n",
       "   SHIFT_LENGTH  TOTALINSP  PRCP  TMAX  TMIN  TOBS  \n",
       "0           360       33.0  0.00  72.0  45.0  49.0  \n",
       "1           360       13.0  0.00  72.0  45.0  49.0  \n",
       "2           360        1.0  0.00  72.0  45.0  49.0  \n",
       "3           360        2.0  0.00  72.0  45.0  49.0  \n",
       "4           600       11.0  0.02  62.0  45.0  46.0  "
      ]
     },
     "execution_count": 44,
     "metadata": {},
     "output_type": "execute_result"
    }
   ],
   "source": [
    "df.head()"
   ]
  },
  {
   "cell_type": "code",
   "execution_count": 45,
   "id": "53d6fa3a-864e-4e62-8818-94042504e08d",
   "metadata": {
    "tags": []
   },
   "outputs": [],
   "source": [
    "df.drop(columns=['TRAILERS'], inplace=True)"
   ]
  },
  {
   "cell_type": "code",
   "execution_count": 46,
   "id": "4b8e4bf7-9aa1-470c-a7b7-5070c2a4fa20",
   "metadata": {
    "tags": []
   },
   "outputs": [
    {
     "data": {
      "text/plain": [
       "DATE1            0\n",
       "DAY_OF_WEEK      0\n",
       "SITE_NAME        0\n",
       "TOWN             0\n",
       "WATERBODY        0\n",
       "INSPECTOR_ID     0\n",
       "PAY_VOL          0\n",
       "SHIFT_START      0\n",
       "SHIFT_END        0\n",
       "SHIFT_LENGTH     0\n",
       "TOTALINSP        2\n",
       "PRCP            27\n",
       "TMAX            91\n",
       "TMIN            95\n",
       "TOBS            55\n",
       "dtype: int64"
      ]
     },
     "execution_count": 46,
     "metadata": {},
     "output_type": "execute_result"
    }
   ],
   "source": [
    "df.isna().sum()"
   ]
  },
  {
   "cell_type": "code",
   "execution_count": 47,
   "id": "4acce550-45ee-41f2-94a8-48af5899121c",
   "metadata": {
    "tags": []
   },
   "outputs": [
    {
     "data": {
      "text/plain": [
       "(2669, 15)"
      ]
     },
     "execution_count": 47,
     "metadata": {},
     "output_type": "execute_result"
    }
   ],
   "source": [
    "df.shape"
   ]
  },
  {
   "cell_type": "code",
   "execution_count": 48,
   "id": "3e3416dc-0a38-4072-aab3-4fc88d9d94b8",
   "metadata": {
    "tags": []
   },
   "outputs": [],
   "source": [
    "df.dropna(inplace=True)"
   ]
  },
  {
   "cell_type": "code",
   "execution_count": 49,
   "id": "5be123fd-4aef-4d8b-b984-cb93c7d810b1",
   "metadata": {
    "tags": []
   },
   "outputs": [
    {
     "data": {
      "text/plain": [
       "DATE1           0\n",
       "DAY_OF_WEEK     0\n",
       "SITE_NAME       0\n",
       "TOWN            0\n",
       "WATERBODY       0\n",
       "INSPECTOR_ID    0\n",
       "PAY_VOL         0\n",
       "SHIFT_START     0\n",
       "SHIFT_END       0\n",
       "SHIFT_LENGTH    0\n",
       "TOTALINSP       0\n",
       "PRCP            0\n",
       "TMAX            0\n",
       "TMIN            0\n",
       "TOBS            0\n",
       "dtype: int64"
      ]
     },
     "execution_count": 49,
     "metadata": {},
     "output_type": "execute_result"
    }
   ],
   "source": [
    "df.isna().sum()"
   ]
  },
  {
   "cell_type": "code",
   "execution_count": 50,
   "id": "cc984333-1a09-4690-b294-c3f5f1f83a27",
   "metadata": {
    "tags": []
   },
   "outputs": [
    {
     "data": {
      "text/plain": [
       "(2565, 15)"
      ]
     },
     "execution_count": 50,
     "metadata": {},
     "output_type": "execute_result"
    }
   ],
   "source": [
    "df.shape"
   ]
  },
  {
   "cell_type": "code",
   "execution_count": 51,
   "id": "3563a2bb-08ab-4c0f-8c3d-325183999f7f",
   "metadata": {
    "tags": []
   },
   "outputs": [
    {
     "data": {
      "text/html": [
       "<div>\n",
       "<style scoped>\n",
       "    .dataframe tbody tr th:only-of-type {\n",
       "        vertical-align: middle;\n",
       "    }\n",
       "\n",
       "    .dataframe tbody tr th {\n",
       "        vertical-align: top;\n",
       "    }\n",
       "\n",
       "    .dataframe thead th {\n",
       "        text-align: right;\n",
       "    }\n",
       "</style>\n",
       "<table border=\"1\" class=\"dataframe\">\n",
       "  <thead>\n",
       "    <tr style=\"text-align: right;\">\n",
       "      <th></th>\n",
       "      <th>DATE1</th>\n",
       "      <th>DAY_OF_WEEK</th>\n",
       "      <th>SITE_NAME</th>\n",
       "      <th>TOWN</th>\n",
       "      <th>WATERBODY</th>\n",
       "      <th>INSPECTOR_ID</th>\n",
       "      <th>PAY_VOL</th>\n",
       "      <th>SHIFT_START</th>\n",
       "      <th>SHIFT_END</th>\n",
       "      <th>SHIFT_LENGTH</th>\n",
       "      <th>TOTALINSP</th>\n",
       "      <th>PRCP</th>\n",
       "      <th>TMAX</th>\n",
       "      <th>TMIN</th>\n",
       "      <th>TOBS</th>\n",
       "    </tr>\n",
       "  </thead>\n",
       "  <tbody>\n",
       "    <tr>\n",
       "      <th>0</th>\n",
       "      <td>2021-05-28</td>\n",
       "      <td>Fri</td>\n",
       "      <td>Launch Drive</td>\n",
       "      <td>Monmouth</td>\n",
       "      <td>Cobbosseecontee Lake</td>\n",
       "      <td>4771</td>\n",
       "      <td>Paid</td>\n",
       "      <td>12:00</td>\n",
       "      <td>18:00</td>\n",
       "      <td>360</td>\n",
       "      <td>33.0</td>\n",
       "      <td>0.00</td>\n",
       "      <td>72.0</td>\n",
       "      <td>45.0</td>\n",
       "      <td>49.0</td>\n",
       "    </tr>\n",
       "    <tr>\n",
       "      <th>1</th>\n",
       "      <td>2021-05-28</td>\n",
       "      <td>Fri</td>\n",
       "      <td>Whippoorwill Road</td>\n",
       "      <td>Litchfield</td>\n",
       "      <td>Woodbury Pond</td>\n",
       "      <td>4174</td>\n",
       "      <td>Paid</td>\n",
       "      <td>12:00</td>\n",
       "      <td>18:00</td>\n",
       "      <td>360</td>\n",
       "      <td>13.0</td>\n",
       "      <td>0.00</td>\n",
       "      <td>72.0</td>\n",
       "      <td>45.0</td>\n",
       "      <td>49.0</td>\n",
       "    </tr>\n",
       "    <tr>\n",
       "      <th>2</th>\n",
       "      <td>2021-05-28</td>\n",
       "      <td>Fri</td>\n",
       "      <td>Augusta West Kampground</td>\n",
       "      <td>Winthrop</td>\n",
       "      <td>Annabessacook Lake</td>\n",
       "      <td>4769</td>\n",
       "      <td>Paid</td>\n",
       "      <td>12:00</td>\n",
       "      <td>18:00</td>\n",
       "      <td>360</td>\n",
       "      <td>1.0</td>\n",
       "      <td>0.00</td>\n",
       "      <td>72.0</td>\n",
       "      <td>45.0</td>\n",
       "      <td>49.0</td>\n",
       "    </tr>\n",
       "    <tr>\n",
       "      <th>3</th>\n",
       "      <td>2021-05-28</td>\n",
       "      <td>Fri</td>\n",
       "      <td>East Winthrop</td>\n",
       "      <td>Winthrop</td>\n",
       "      <td>Cobbosseecontee Lake</td>\n",
       "      <td>4485</td>\n",
       "      <td>Paid</td>\n",
       "      <td>12:00</td>\n",
       "      <td>18:00</td>\n",
       "      <td>360</td>\n",
       "      <td>2.0</td>\n",
       "      <td>0.00</td>\n",
       "      <td>72.0</td>\n",
       "      <td>45.0</td>\n",
       "      <td>49.0</td>\n",
       "    </tr>\n",
       "    <tr>\n",
       "      <th>4</th>\n",
       "      <td>2021-05-29</td>\n",
       "      <td>Sat</td>\n",
       "      <td>Thorofare Rd</td>\n",
       "      <td>Litchfield</td>\n",
       "      <td>Pleasant Pond</td>\n",
       "      <td>4944</td>\n",
       "      <td>Paid</td>\n",
       "      <td>7:00</td>\n",
       "      <td>17:00</td>\n",
       "      <td>600</td>\n",
       "      <td>11.0</td>\n",
       "      <td>0.02</td>\n",
       "      <td>62.0</td>\n",
       "      <td>45.0</td>\n",
       "      <td>46.0</td>\n",
       "    </tr>\n",
       "  </tbody>\n",
       "</table>\n",
       "</div>"
      ],
      "text/plain": [
       "        DATE1 DAY_OF_WEEK                SITE_NAME        TOWN  \\\n",
       "0  2021-05-28         Fri             Launch Drive    Monmouth   \n",
       "1  2021-05-28         Fri        Whippoorwill Road  Litchfield   \n",
       "2  2021-05-28         Fri  Augusta West Kampground    Winthrop   \n",
       "3  2021-05-28         Fri            East Winthrop    Winthrop   \n",
       "4  2021-05-29         Sat             Thorofare Rd  Litchfield   \n",
       "\n",
       "              WATERBODY  INSPECTOR_ID PAY_VOL SHIFT_START SHIFT_END  \\\n",
       "0  Cobbosseecontee Lake          4771    Paid       12:00     18:00   \n",
       "1         Woodbury Pond          4174    Paid       12:00     18:00   \n",
       "2    Annabessacook Lake          4769    Paid       12:00     18:00   \n",
       "3  Cobbosseecontee Lake          4485    Paid       12:00     18:00   \n",
       "4         Pleasant Pond          4944    Paid        7:00     17:00   \n",
       "\n",
       "   SHIFT_LENGTH  TOTALINSP  PRCP  TMAX  TMIN  TOBS  \n",
       "0           360       33.0  0.00  72.0  45.0  49.0  \n",
       "1           360       13.0  0.00  72.0  45.0  49.0  \n",
       "2           360        1.0  0.00  72.0  45.0  49.0  \n",
       "3           360        2.0  0.00  72.0  45.0  49.0  \n",
       "4           600       11.0  0.02  62.0  45.0  46.0  "
      ]
     },
     "execution_count": 51,
     "metadata": {},
     "output_type": "execute_result"
    }
   ],
   "source": [
    "df.head()"
   ]
  },
  {
   "cell_type": "code",
   "execution_count": 52,
   "id": "76a934c0-15ee-452b-b927-54724c464eb2",
   "metadata": {
    "tags": []
   },
   "outputs": [],
   "source": [
    "# Convert 'date1' to datetime\n",
    "df['DATE'] = pd.to_datetime(df['DATE1'], format='%Y/%m/%d')\n",
    "\n",
    "# Create 'month' and 'year' columns\n",
    "df['month'] = df['DATE'].dt.month\n",
    "df['year'] = df['DATE'].dt.year"
   ]
  },
  {
   "cell_type": "code",
   "execution_count": 53,
   "id": "08643394-b41d-4d20-8a7e-076ef5b24629",
   "metadata": {
    "tags": []
   },
   "outputs": [
    {
     "data": {
      "text/html": [
       "<div>\n",
       "<style scoped>\n",
       "    .dataframe tbody tr th:only-of-type {\n",
       "        vertical-align: middle;\n",
       "    }\n",
       "\n",
       "    .dataframe tbody tr th {\n",
       "        vertical-align: top;\n",
       "    }\n",
       "\n",
       "    .dataframe thead th {\n",
       "        text-align: right;\n",
       "    }\n",
       "</style>\n",
       "<table border=\"1\" class=\"dataframe\">\n",
       "  <thead>\n",
       "    <tr style=\"text-align: right;\">\n",
       "      <th></th>\n",
       "      <th>DATE1</th>\n",
       "      <th>DAY_OF_WEEK</th>\n",
       "      <th>SITE_NAME</th>\n",
       "      <th>TOWN</th>\n",
       "      <th>WATERBODY</th>\n",
       "      <th>INSPECTOR_ID</th>\n",
       "      <th>PAY_VOL</th>\n",
       "      <th>SHIFT_START</th>\n",
       "      <th>SHIFT_END</th>\n",
       "      <th>SHIFT_LENGTH</th>\n",
       "      <th>TOTALINSP</th>\n",
       "      <th>PRCP</th>\n",
       "      <th>TMAX</th>\n",
       "      <th>TMIN</th>\n",
       "      <th>TOBS</th>\n",
       "      <th>DATE</th>\n",
       "      <th>month</th>\n",
       "      <th>year</th>\n",
       "    </tr>\n",
       "  </thead>\n",
       "  <tbody>\n",
       "    <tr>\n",
       "      <th>0</th>\n",
       "      <td>2021-05-28</td>\n",
       "      <td>Fri</td>\n",
       "      <td>Launch Drive</td>\n",
       "      <td>Monmouth</td>\n",
       "      <td>Cobbosseecontee Lake</td>\n",
       "      <td>4771</td>\n",
       "      <td>Paid</td>\n",
       "      <td>12:00</td>\n",
       "      <td>18:00</td>\n",
       "      <td>360</td>\n",
       "      <td>33.0</td>\n",
       "      <td>0.00</td>\n",
       "      <td>72.0</td>\n",
       "      <td>45.0</td>\n",
       "      <td>49.0</td>\n",
       "      <td>2021-05-28</td>\n",
       "      <td>5</td>\n",
       "      <td>2021</td>\n",
       "    </tr>\n",
       "    <tr>\n",
       "      <th>1</th>\n",
       "      <td>2021-05-28</td>\n",
       "      <td>Fri</td>\n",
       "      <td>Whippoorwill Road</td>\n",
       "      <td>Litchfield</td>\n",
       "      <td>Woodbury Pond</td>\n",
       "      <td>4174</td>\n",
       "      <td>Paid</td>\n",
       "      <td>12:00</td>\n",
       "      <td>18:00</td>\n",
       "      <td>360</td>\n",
       "      <td>13.0</td>\n",
       "      <td>0.00</td>\n",
       "      <td>72.0</td>\n",
       "      <td>45.0</td>\n",
       "      <td>49.0</td>\n",
       "      <td>2021-05-28</td>\n",
       "      <td>5</td>\n",
       "      <td>2021</td>\n",
       "    </tr>\n",
       "    <tr>\n",
       "      <th>2</th>\n",
       "      <td>2021-05-28</td>\n",
       "      <td>Fri</td>\n",
       "      <td>Augusta West Kampground</td>\n",
       "      <td>Winthrop</td>\n",
       "      <td>Annabessacook Lake</td>\n",
       "      <td>4769</td>\n",
       "      <td>Paid</td>\n",
       "      <td>12:00</td>\n",
       "      <td>18:00</td>\n",
       "      <td>360</td>\n",
       "      <td>1.0</td>\n",
       "      <td>0.00</td>\n",
       "      <td>72.0</td>\n",
       "      <td>45.0</td>\n",
       "      <td>49.0</td>\n",
       "      <td>2021-05-28</td>\n",
       "      <td>5</td>\n",
       "      <td>2021</td>\n",
       "    </tr>\n",
       "    <tr>\n",
       "      <th>3</th>\n",
       "      <td>2021-05-28</td>\n",
       "      <td>Fri</td>\n",
       "      <td>East Winthrop</td>\n",
       "      <td>Winthrop</td>\n",
       "      <td>Cobbosseecontee Lake</td>\n",
       "      <td>4485</td>\n",
       "      <td>Paid</td>\n",
       "      <td>12:00</td>\n",
       "      <td>18:00</td>\n",
       "      <td>360</td>\n",
       "      <td>2.0</td>\n",
       "      <td>0.00</td>\n",
       "      <td>72.0</td>\n",
       "      <td>45.0</td>\n",
       "      <td>49.0</td>\n",
       "      <td>2021-05-28</td>\n",
       "      <td>5</td>\n",
       "      <td>2021</td>\n",
       "    </tr>\n",
       "    <tr>\n",
       "      <th>4</th>\n",
       "      <td>2021-05-29</td>\n",
       "      <td>Sat</td>\n",
       "      <td>Thorofare Rd</td>\n",
       "      <td>Litchfield</td>\n",
       "      <td>Pleasant Pond</td>\n",
       "      <td>4944</td>\n",
       "      <td>Paid</td>\n",
       "      <td>7:00</td>\n",
       "      <td>17:00</td>\n",
       "      <td>600</td>\n",
       "      <td>11.0</td>\n",
       "      <td>0.02</td>\n",
       "      <td>62.0</td>\n",
       "      <td>45.0</td>\n",
       "      <td>46.0</td>\n",
       "      <td>2021-05-29</td>\n",
       "      <td>5</td>\n",
       "      <td>2021</td>\n",
       "    </tr>\n",
       "  </tbody>\n",
       "</table>\n",
       "</div>"
      ],
      "text/plain": [
       "        DATE1 DAY_OF_WEEK                SITE_NAME        TOWN  \\\n",
       "0  2021-05-28         Fri             Launch Drive    Monmouth   \n",
       "1  2021-05-28         Fri        Whippoorwill Road  Litchfield   \n",
       "2  2021-05-28         Fri  Augusta West Kampground    Winthrop   \n",
       "3  2021-05-28         Fri            East Winthrop    Winthrop   \n",
       "4  2021-05-29         Sat             Thorofare Rd  Litchfield   \n",
       "\n",
       "              WATERBODY  INSPECTOR_ID PAY_VOL SHIFT_START SHIFT_END  \\\n",
       "0  Cobbosseecontee Lake          4771    Paid       12:00     18:00   \n",
       "1         Woodbury Pond          4174    Paid       12:00     18:00   \n",
       "2    Annabessacook Lake          4769    Paid       12:00     18:00   \n",
       "3  Cobbosseecontee Lake          4485    Paid       12:00     18:00   \n",
       "4         Pleasant Pond          4944    Paid        7:00     17:00   \n",
       "\n",
       "   SHIFT_LENGTH  TOTALINSP  PRCP  TMAX  TMIN  TOBS       DATE  month  year  \n",
       "0           360       33.0  0.00  72.0  45.0  49.0 2021-05-28      5  2021  \n",
       "1           360       13.0  0.00  72.0  45.0  49.0 2021-05-28      5  2021  \n",
       "2           360        1.0  0.00  72.0  45.0  49.0 2021-05-28      5  2021  \n",
       "3           360        2.0  0.00  72.0  45.0  49.0 2021-05-28      5  2021  \n",
       "4           600       11.0  0.02  62.0  45.0  46.0 2021-05-29      5  2021  "
      ]
     },
     "execution_count": 53,
     "metadata": {},
     "output_type": "execute_result"
    }
   ],
   "source": [
    "df.head()"
   ]
  },
  {
   "cell_type": "code",
   "execution_count": 54,
   "id": "d5214dd4-8d2a-4851-bf6c-953ca1fd1ce5",
   "metadata": {
    "tags": []
   },
   "outputs": [],
   "source": [
    "df.SHIFT_START = pd.to_datetime(df.SHIFT_START, format='%H:%M')"
   ]
  },
  {
   "cell_type": "code",
   "execution_count": 14,
   "id": "efb4160b-d9a7-4a8e-ac0e-b75321fecb18",
   "metadata": {
    "tags": []
   },
   "outputs": [],
   "source": [
    "#df.SHIFT_END = pd.to_datetime(df.SHIFT_END)"
   ]
  },
  {
   "cell_type": "code",
   "execution_count": 15,
   "id": "1f90cb88-33c7-4517-a613-a42588a0a0d5",
   "metadata": {
    "tags": []
   },
   "outputs": [],
   "source": [
    "X = df.drop(columns=['DATE1', 'TOWN', 'WATERBODY', 'INSPECTOR_ID', 'TOTALINSP', 'TOBS', 'DATE'])\n",
    "y = df.TOTALINSP            "
   ]
  },
  {
   "cell_type": "code",
   "execution_count": 16,
   "id": "16f15fd8-b02a-49bf-8dd7-4ebce55079ec",
   "metadata": {
    "tags": []
   },
   "outputs": [],
   "source": [
    "X_train, X_test, y_train, y_test = train_test_split(X, y, random_state=42, test_size=.2)"
   ]
  },
  {
   "cell_type": "code",
   "execution_count": 17,
   "id": "9e6a3498-f143-456b-bea8-bc3124718a38",
   "metadata": {
    "tags": []
   },
   "outputs": [],
   "source": [
    "categorical_columns = ['SITE_NAME', 'DAY_OF_WEEK', 'month', 'year', 'PAY_VOL']\n",
    "oh = OneHotEncoder(handle_unknown='ignore', drop='first')\n",
    "X_train_transformed = oh.fit_transform(X_train[categorical_columns])\n",
    "X_test_transformed= oh.transform(X_test[categorical_columns])"
   ]
  },
  {
   "cell_type": "code",
   "execution_count": 18,
   "id": "0ae5ba6d-c369-4ace-a250-b8b7ec052f14",
   "metadata": {
    "tags": []
   },
   "outputs": [
    {
     "name": "stdout",
     "output_type": "stream",
     "text": [
      "0.3513358726642821\n",
      "0.33841873049366566\n"
     ]
    }
   ],
   "source": [
    "lr = LinearRegression()\n",
    "lr.fit(X_train_transformed, y_train)\n",
    "print(lr.score(X_train_transformed, y_train))\n",
    "print(lr.score(X_test_transformed, y_test))"
   ]
  },
  {
   "cell_type": "code",
   "execution_count": 19,
   "id": "780afcbe-adb9-44a6-baba-2c2e729b4e51",
   "metadata": {
    "tags": []
   },
   "outputs": [
    {
     "name": "stdout",
     "output_type": "stream",
     "text": [
      "0.6438182757723909\n",
      "0.3199733991337518\n"
     ]
    }
   ],
   "source": [
    "rf = RandomForestRegressor()\n",
    "rf.fit(X_train_transformed, y_train)\n",
    "print(rf.score(X_train_transformed, y_train))\n",
    "print(rf.score(X_test_transformed, y_test))      "
   ]
  },
  {
   "cell_type": "code",
   "execution_count": 20,
   "id": "b0dc4878-af9e-4b0d-bccd-c0daaba62015",
   "metadata": {
    "tags": []
   },
   "outputs": [
    {
     "name": "stdout",
     "output_type": "stream",
     "text": [
      "0.6573212547527139\n",
      "0.2538127489928671\n"
     ]
    }
   ],
   "source": [
    "et = ExtraTreesRegressor()\n",
    "et.fit(X_train_transformed, y_train)\n",
    "print(et.score(X_train_transformed, y_train))\n",
    "print(et.score(X_test_transformed, y_test))"
   ]
  },
  {
   "cell_type": "markdown",
   "id": "d353607d-cd94-46e3-a175-c46c608e2c34",
   "metadata": {},
   "source": [
    "From these initial models, adding weather data seems to improve the model performance significantly. The models become significantly less overgit. The next step will be to try to add in the holidays as another column, and then to use feature engineering with shift length, shift start and shift end to attempt to somehow capture time of day.\n",
    "\n",
    "The models were all less overfit, however the tree models are still overfit. Parameter optimization could help reduce the overfit as well to balance out the metrics of the tree based models between the training and test scores. "
   ]
  },
  {
   "cell_type": "markdown",
   "id": "b01056f5-dadb-4e32-a143-c69fc7f86d81",
   "metadata": {},
   "source": [
    "#### Feature Engineering Options:\n",
    "- Transform the shift_start and end_shift columns from numbers to a categorical column of morning, late morning, afternoon, late afternoon, and evening\n",
    "- Interaction variables?\n",
    "- Holidays"
   ]
  },
  {
   "cell_type": "code",
   "execution_count": 21,
   "id": "2229035a-566f-4b51-8e37-9c2b1b1e77aa",
   "metadata": {},
   "outputs": [
    {
     "data": {
      "text/html": [
       "<div>\n",
       "<style scoped>\n",
       "    .dataframe tbody tr th:only-of-type {\n",
       "        vertical-align: middle;\n",
       "    }\n",
       "\n",
       "    .dataframe tbody tr th {\n",
       "        vertical-align: top;\n",
       "    }\n",
       "\n",
       "    .dataframe thead th {\n",
       "        text-align: right;\n",
       "    }\n",
       "</style>\n",
       "<table border=\"1\" class=\"dataframe\">\n",
       "  <thead>\n",
       "    <tr style=\"text-align: right;\">\n",
       "      <th></th>\n",
       "      <th>DATE1</th>\n",
       "      <th>DAY_OF_WEEK</th>\n",
       "      <th>SITE_NAME</th>\n",
       "      <th>TOWN</th>\n",
       "      <th>WATERBODY</th>\n",
       "      <th>INSPECTOR_ID</th>\n",
       "      <th>PAY_VOL</th>\n",
       "      <th>SHIFT_START</th>\n",
       "      <th>SHIFT_END</th>\n",
       "      <th>SHIFT_LENGTH</th>\n",
       "      <th>TOTALINSP</th>\n",
       "      <th>PRCP</th>\n",
       "      <th>TMAX</th>\n",
       "      <th>TMIN</th>\n",
       "      <th>TOBS</th>\n",
       "      <th>DATE</th>\n",
       "      <th>month</th>\n",
       "      <th>year</th>\n",
       "    </tr>\n",
       "  </thead>\n",
       "  <tbody>\n",
       "    <tr>\n",
       "      <th>0</th>\n",
       "      <td>2021-05-28</td>\n",
       "      <td>Fri</td>\n",
       "      <td>Launch Drive</td>\n",
       "      <td>Monmouth</td>\n",
       "      <td>Cobbosseecontee Lake</td>\n",
       "      <td>4771</td>\n",
       "      <td>Paid</td>\n",
       "      <td>2023-12-03 12:00:00</td>\n",
       "      <td>2023-12-03 18:00:00</td>\n",
       "      <td>360</td>\n",
       "      <td>33.0</td>\n",
       "      <td>0.0</td>\n",
       "      <td>72.0</td>\n",
       "      <td>45.0</td>\n",
       "      <td>49.0</td>\n",
       "      <td>2021-05-28</td>\n",
       "      <td>5</td>\n",
       "      <td>2021</td>\n",
       "    </tr>\n",
       "  </tbody>\n",
       "</table>\n",
       "</div>"
      ],
      "text/plain": [
       "        DATE1 DAY_OF_WEEK     SITE_NAME      TOWN             WATERBODY  \\\n",
       "0  2021-05-28         Fri  Launch Drive  Monmouth  Cobbosseecontee Lake   \n",
       "\n",
       "   INSPECTOR_ID PAY_VOL         SHIFT_START           SHIFT_END  SHIFT_LENGTH  \\\n",
       "0          4771    Paid 2023-12-03 12:00:00 2023-12-03 18:00:00           360   \n",
       "\n",
       "   TOTALINSP  PRCP  TMAX  TMIN  TOBS       DATE  month  year  \n",
       "0       33.0   0.0  72.0  45.0  49.0 2021-05-28      5  2021  "
      ]
     },
     "execution_count": 21,
     "metadata": {},
     "output_type": "execute_result"
    }
   ],
   "source": [
    "# Converting times to 'time of day'\n",
    "df.head(1)"
   ]
  },
  {
   "cell_type": "code",
   "execution_count": 40,
   "id": "514432b6-a53b-4a92-a3a0-f33e40a8b8ff",
   "metadata": {
    "tags": []
   },
   "outputs": [
    {
     "data": {
      "text/plain": [
       "7:00     638\n",
       "13:00    604\n",
       "07:00    264\n",
       "09:00    191\n",
       "12:00    164\n",
       "        ... \n",
       "5:25       1\n",
       "6:10       1\n",
       "6:15       1\n",
       "6:47       1\n",
       "09:40      1\n",
       "Name: SHIFT_START, Length: 155, dtype: int64"
      ]
     },
     "execution_count": 40,
     "metadata": {},
     "output_type": "execute_result"
    }
   ],
   "source": [
    "df.SHIFT_START.value_counts()"
   ]
  },
  {
   "cell_type": "code",
   "execution_count": 41,
   "id": "e89879d3-ebdd-4546-8e5b-df1ac3f7675f",
   "metadata": {
    "tags": []
   },
   "outputs": [
    {
     "data": {
      "text/plain": [
       "DATE1                   object\n",
       "DAY_OF_WEEK             object\n",
       "SITE_NAME               object\n",
       "TOWN                    object\n",
       "WATERBODY               object\n",
       "INSPECTOR_ID             int64\n",
       "PAY_VOL                 object\n",
       "SHIFT_START             object\n",
       "SHIFT_END               object\n",
       "SHIFT_LENGTH             int64\n",
       "TOTALINSP              float64\n",
       "PRCP                   float64\n",
       "TMAX                   float64\n",
       "TMIN                   float64\n",
       "TOBS                   float64\n",
       "DATE            datetime64[ns]\n",
       "month                    int64\n",
       "year                     int64\n",
       "dtype: object"
      ]
     },
     "execution_count": 41,
     "metadata": {},
     "output_type": "execute_result"
    }
   ],
   "source": [
    "df.dtypes"
   ]
  },
  {
   "cell_type": "code",
   "execution_count": 55,
   "id": "c9bd8461-14d1-481e-b3de-d839dfa2061b",
   "metadata": {
    "tags": []
   },
   "outputs": [],
   "source": [
    "df['SHIFT_START_CATEGORY'] = pd.cut(pd.to_datetime(df['SHIFT_START'], format='%H:%M').dt.hour,\n",
    "                                    bins =[-1, 8, 11, 14, 17, 24],\n",
    "                                    labels=['Early Morning', 'Morning', 'Afternoon', 'Late Afternoon', 'Evening'])\n",
    "                        "
   ]
  },
  {
   "cell_type": "code",
   "execution_count": 56,
   "id": "0a93b20a-0829-463d-a52d-81098252a017",
   "metadata": {
    "tags": []
   },
   "outputs": [
    {
     "data": {
      "text/plain": [
       "DATE1                   0\n",
       "DAY_OF_WEEK             0\n",
       "SITE_NAME               0\n",
       "TOWN                    0\n",
       "WATERBODY               0\n",
       "INSPECTOR_ID            0\n",
       "PAY_VOL                 0\n",
       "SHIFT_START             0\n",
       "SHIFT_END               0\n",
       "SHIFT_LENGTH            0\n",
       "TOTALINSP               0\n",
       "PRCP                    0\n",
       "TMAX                    0\n",
       "TMIN                    0\n",
       "TOBS                    0\n",
       "DATE                    0\n",
       "month                   0\n",
       "year                    0\n",
       "SHIFT_START_CATEGORY    0\n",
       "dtype: int64"
      ]
     },
     "execution_count": 56,
     "metadata": {},
     "output_type": "execute_result"
    }
   ],
   "source": [
    "df.isna().sum()"
   ]
  },
  {
   "cell_type": "code",
   "execution_count": 57,
   "id": "5603d8e0-9ac1-4d91-8016-92a737ad52a2",
   "metadata": {
    "tags": []
   },
   "outputs": [
    {
     "data": {
      "text/plain": [
       "Early Morning     1202\n",
       "Afternoon          871\n",
       "Morning            371\n",
       "Late Afternoon     105\n",
       "Evening             16\n",
       "Name: SHIFT_START_CATEGORY, dtype: int64"
      ]
     },
     "execution_count": 57,
     "metadata": {},
     "output_type": "execute_result"
    }
   ],
   "source": [
    "df.SHIFT_START_CATEGORY.value_counts()"
   ]
  },
  {
   "cell_type": "code",
   "execution_count": 61,
   "id": "0611a30e-3551-4394-be17-386a584526da",
   "metadata": {
    "tags": []
   },
   "outputs": [],
   "source": [
    "df['SHIFT_END_CATEGORY'] = pd.cut(pd.to_datetime(df['SHIFT_END'], format='%H:%M').dt.hour,\n",
    "                                    bins =[-1, 8, 11, 14, 17, 19, 24],\n",
    "                                    labels=['Early Morning', 'Morning', 'Afternoon', 'Late Afternoon', 'Evening', 'Night'])\n",
    "                        "
   ]
  },
  {
   "cell_type": "code",
   "execution_count": 63,
   "id": "4b3de237-1788-414f-a38d-09453ffd8ac7",
   "metadata": {
    "tags": []
   },
   "outputs": [
    {
     "data": {
      "text/plain": [
       "Evening           1004\n",
       "Afternoon          810\n",
       "Late Afternoon     511\n",
       "Morning            108\n",
       "Early Morning       88\n",
       "Night               44\n",
       "Name: SHIFT_END_CATEGORY, dtype: int64"
      ]
     },
     "execution_count": 63,
     "metadata": {},
     "output_type": "execute_result"
    }
   ],
   "source": [
    "df.SHIFT_END_CATEGORY.value_counts()"
   ]
  },
  {
   "cell_type": "code",
   "execution_count": 65,
   "id": "bbc031bd-96ee-4a9b-a7eb-d9afda3dc4c9",
   "metadata": {
    "tags": []
   },
   "outputs": [],
   "source": [
    "X1 = df.drop(columns=['DATE1', 'TOWN', 'WATERBODY', 'INSPECTOR_ID', 'TOTALINSP', 'TOBS', 'DATE', 'SHIFT_START', 'SHIFT_END'])\n",
    "y1 = df.TOTALINSP            \n",
    "\n",
    "X1_train, X1_test, y1_train, y1_test = train_test_split(X1, y1, random_state=42, test_size=.2)"
   ]
  },
  {
   "cell_type": "code",
   "execution_count": 66,
   "id": "9b778fe8-18b6-4c60-9571-a2baa5e2c38f",
   "metadata": {
    "tags": []
   },
   "outputs": [],
   "source": [
    "categorical_columns = ['SITE_NAME', 'DAY_OF_WEEK', 'month', 'year', 'PAY_VOL', 'SHIFT_START_CATEGORY', 'SHIFT_END_CATEGORY']\n",
    "oh = OneHotEncoder(handle_unknown='ignore', drop='first')\n",
    "X1_train_transformed = oh.fit_transform(X1_train[categorical_columns])\n",
    "X1_test_transformed= oh.transform(X1_test[categorical_columns])"
   ]
  },
  {
   "cell_type": "code",
   "execution_count": 67,
   "id": "05de4d6f-347a-4627-8027-57ac15466636",
   "metadata": {
    "tags": []
   },
   "outputs": [
    {
     "name": "stdout",
     "output_type": "stream",
     "text": [
      "0.43299897430845313\n",
      "0.45589238044822944\n"
     ]
    }
   ],
   "source": [
    "lr1 = LinearRegression()\n",
    "lr1.fit(X1_train_transformed, y1_train)\n",
    "print(lr1.score(X1_train_transformed, y1_train))\n",
    "print(lr1.score(X1_test_transformed, y1_test))"
   ]
  },
  {
   "cell_type": "code",
   "execution_count": 68,
   "id": "e7020d39-14ff-478b-bcad-89b65c15f507",
   "metadata": {
    "tags": []
   },
   "outputs": [
    {
     "name": "stdout",
     "output_type": "stream",
     "text": [
      "0.7976454375369557\n",
      "0.38356603863290895\n"
     ]
    }
   ],
   "source": [
    "rf1 = RandomForestRegressor()\n",
    "rf1.fit(X1_train_transformed, y1_train)\n",
    "print(rf1.score(X1_train_transformed, y1_train))\n",
    "print(rf1.score(X1_test_transformed, y1_test))     "
   ]
  },
  {
   "cell_type": "code",
   "execution_count": 69,
   "id": "d4a00175-366a-4555-b744-e2305a130ab0",
   "metadata": {
    "tags": []
   },
   "outputs": [
    {
     "name": "stdout",
     "output_type": "stream",
     "text": [
      "0.8333177482959641\n",
      "0.18941843140667491\n"
     ]
    }
   ],
   "source": [
    "et1 =ExtraTreesRegressor()\n",
    "et1.fit(X1_train_transformed, y1_train)\n",
    "print(et1.score(X1_train_transformed, y1_train))\n",
    "print(et1.score(X1_test_transformed, y1_test))      "
   ]
  },
  {
   "cell_type": "code",
   "execution_count": 70,
   "id": "f1330b66-7293-4791-91aa-9aee9970a064",
   "metadata": {
    "tags": []
   },
   "outputs": [],
   "source": [
    "# List of holidays\n",
    "# 2021: Monday, May 31 Memorial Day, Sunday July 4 (Observed Monday), Monday September 6 (Labor Day), Sunday May 9 (Mother's Day), Father's Day (Sunday, June 20)\n",
    "# 2022: Sunday May 08, Mother's Day, 'Monday May 30 Memorial Day, Monday September 5 Labor Day, Monday July 4, Sunday June 19 Father's Day\n",
    "# 2023: Monday, May 29 Memorial Day, Monday June19 Juneteenth, Tuesday, July 04, Monday September 04 Labor Day, Mother's Day Sunday May 14, Father's Day Sunday June 18\n",
    "#'2021-05-09', '2022-05-30', \n",
    "holiday_list = ['2021-05-31', '2021-07-04', '2021-09-06', '2021-06-20',\n",
    "                '2022-05-08', '2022-05-30', '2022-07-04', '2022-06-19',\n",
    "                '2023-05-29', '2023-06-19', '2023-07-04', '2023-09-04', '2023-06-18']\n"
   ]
  },
  {
   "cell_type": "code",
   "execution_count": 72,
   "id": "2dbf4c0e-e4ed-4069-b0bf-e4d5f1b74dbf",
   "metadata": {
    "tags": []
   },
   "outputs": [],
   "source": [
    "df['holiday']= np.where(df['DATE'].isin(holiday_list), 1, 0)"
   ]
  },
  {
   "cell_type": "code",
   "execution_count": 73,
   "id": "5e8e5cfe-b92b-404c-b19a-33eaa3d55f13",
   "metadata": {
    "tags": []
   },
   "outputs": [
    {
     "data": {
      "text/html": [
       "<div>\n",
       "<style scoped>\n",
       "    .dataframe tbody tr th:only-of-type {\n",
       "        vertical-align: middle;\n",
       "    }\n",
       "\n",
       "    .dataframe tbody tr th {\n",
       "        vertical-align: top;\n",
       "    }\n",
       "\n",
       "    .dataframe thead th {\n",
       "        text-align: right;\n",
       "    }\n",
       "</style>\n",
       "<table border=\"1\" class=\"dataframe\">\n",
       "  <thead>\n",
       "    <tr style=\"text-align: right;\">\n",
       "      <th></th>\n",
       "      <th>DATE1</th>\n",
       "      <th>DAY_OF_WEEK</th>\n",
       "      <th>SITE_NAME</th>\n",
       "      <th>TOWN</th>\n",
       "      <th>WATERBODY</th>\n",
       "      <th>INSPECTOR_ID</th>\n",
       "      <th>PAY_VOL</th>\n",
       "      <th>SHIFT_START</th>\n",
       "      <th>SHIFT_END</th>\n",
       "      <th>SHIFT_LENGTH</th>\n",
       "      <th>...</th>\n",
       "      <th>PRCP</th>\n",
       "      <th>TMAX</th>\n",
       "      <th>TMIN</th>\n",
       "      <th>TOBS</th>\n",
       "      <th>DATE</th>\n",
       "      <th>month</th>\n",
       "      <th>year</th>\n",
       "      <th>SHIFT_START_CATEGORY</th>\n",
       "      <th>SHIFT_END_CATEGORY</th>\n",
       "      <th>holiday</th>\n",
       "    </tr>\n",
       "  </thead>\n",
       "  <tbody>\n",
       "    <tr>\n",
       "      <th>624</th>\n",
       "      <td>2021-09-06</td>\n",
       "      <td>Mon</td>\n",
       "      <td>Launch Drive</td>\n",
       "      <td>Monmouth</td>\n",
       "      <td>Cobbosseecontee Lake</td>\n",
       "      <td>3796</td>\n",
       "      <td>Paid</td>\n",
       "      <td>1900-01-01 07:00:00</td>\n",
       "      <td>16:30</td>\n",
       "      <td>570</td>\n",
       "      <td>...</td>\n",
       "      <td>0.06</td>\n",
       "      <td>72.0</td>\n",
       "      <td>50.0</td>\n",
       "      <td>67.0</td>\n",
       "      <td>2021-09-06</td>\n",
       "      <td>9</td>\n",
       "      <td>2021</td>\n",
       "      <td>Early Morning</td>\n",
       "      <td>Late Afternoon</td>\n",
       "      <td>1</td>\n",
       "    </tr>\n",
       "    <tr>\n",
       "      <th>2319</th>\n",
       "      <td>2023-08-07</td>\n",
       "      <td>Mon</td>\n",
       "      <td>East Winthrop Cobbosseecontee</td>\n",
       "      <td>Winthrop</td>\n",
       "      <td>Cobbosseecontee Lake</td>\n",
       "      <td>5987</td>\n",
       "      <td>Paid</td>\n",
       "      <td>1900-01-01 13:00:00</td>\n",
       "      <td>18:00</td>\n",
       "      <td>300</td>\n",
       "      <td>...</td>\n",
       "      <td>0.00</td>\n",
       "      <td>82.0</td>\n",
       "      <td>60.0</td>\n",
       "      <td>68.0</td>\n",
       "      <td>2023-08-07</td>\n",
       "      <td>8</td>\n",
       "      <td>2023</td>\n",
       "      <td>Afternoon</td>\n",
       "      <td>Evening</td>\n",
       "      <td>0</td>\n",
       "    </tr>\n",
       "    <tr>\n",
       "      <th>2360</th>\n",
       "      <td>2023-08-12</td>\n",
       "      <td>Sat</td>\n",
       "      <td>East Winthrop Cobbosseecontee</td>\n",
       "      <td>Winthrop</td>\n",
       "      <td>Cobbosseecontee Lake</td>\n",
       "      <td>5670</td>\n",
       "      <td>Paid</td>\n",
       "      <td>1900-01-01 09:00:00</td>\n",
       "      <td>19:00</td>\n",
       "      <td>600</td>\n",
       "      <td>...</td>\n",
       "      <td>0.00</td>\n",
       "      <td>77.0</td>\n",
       "      <td>59.0</td>\n",
       "      <td>68.0</td>\n",
       "      <td>2023-08-12</td>\n",
       "      <td>8</td>\n",
       "      <td>2023</td>\n",
       "      <td>Morning</td>\n",
       "      <td>Evening</td>\n",
       "      <td>0</td>\n",
       "    </tr>\n",
       "    <tr>\n",
       "      <th>1632</th>\n",
       "      <td>2022-09-06</td>\n",
       "      <td>Tue</td>\n",
       "      <td>Lakeside Marina Cobbosseecontee</td>\n",
       "      <td>Winthrop</td>\n",
       "      <td>Cobbosseecontee Lake</td>\n",
       "      <td>5655</td>\n",
       "      <td>Paid</td>\n",
       "      <td>1900-01-01 14:00:00</td>\n",
       "      <td>17:00</td>\n",
       "      <td>180</td>\n",
       "      <td>...</td>\n",
       "      <td>1.07</td>\n",
       "      <td>60.0</td>\n",
       "      <td>58.0</td>\n",
       "      <td>60.0</td>\n",
       "      <td>2022-09-06</td>\n",
       "      <td>9</td>\n",
       "      <td>2022</td>\n",
       "      <td>Afternoon</td>\n",
       "      <td>Late Afternoon</td>\n",
       "      <td>0</td>\n",
       "    </tr>\n",
       "    <tr>\n",
       "      <th>870</th>\n",
       "      <td>2022-07-01</td>\n",
       "      <td>Fri</td>\n",
       "      <td>Whippoorwill Road</td>\n",
       "      <td>Litchfield</td>\n",
       "      <td>Woodbury Pond</td>\n",
       "      <td>3504</td>\n",
       "      <td>Paid</td>\n",
       "      <td>1900-01-01 12:00:00</td>\n",
       "      <td>18:00</td>\n",
       "      <td>360</td>\n",
       "      <td>...</td>\n",
       "      <td>0.00</td>\n",
       "      <td>79.0</td>\n",
       "      <td>57.0</td>\n",
       "      <td>70.0</td>\n",
       "      <td>2022-07-01</td>\n",
       "      <td>7</td>\n",
       "      <td>2022</td>\n",
       "      <td>Afternoon</td>\n",
       "      <td>Evening</td>\n",
       "      <td>0</td>\n",
       "    </tr>\n",
       "    <tr>\n",
       "      <th>1529</th>\n",
       "      <td>2022-08-28</td>\n",
       "      <td>Sun</td>\n",
       "      <td>Norcross Point South Basin Maranacook</td>\n",
       "      <td>Winthrop</td>\n",
       "      <td>Maranacook Lake</td>\n",
       "      <td>5644</td>\n",
       "      <td>Paid</td>\n",
       "      <td>1900-01-01 07:00:00</td>\n",
       "      <td>17:00</td>\n",
       "      <td>600</td>\n",
       "      <td>...</td>\n",
       "      <td>0.00</td>\n",
       "      <td>78.0</td>\n",
       "      <td>62.0</td>\n",
       "      <td>67.0</td>\n",
       "      <td>2022-08-28</td>\n",
       "      <td>8</td>\n",
       "      <td>2022</td>\n",
       "      <td>Early Morning</td>\n",
       "      <td>Late Afternoon</td>\n",
       "      <td>0</td>\n",
       "    </tr>\n",
       "    <tr>\n",
       "      <th>3</th>\n",
       "      <td>2021-05-28</td>\n",
       "      <td>Fri</td>\n",
       "      <td>East Winthrop</td>\n",
       "      <td>Winthrop</td>\n",
       "      <td>Cobbosseecontee Lake</td>\n",
       "      <td>4485</td>\n",
       "      <td>Paid</td>\n",
       "      <td>1900-01-01 12:00:00</td>\n",
       "      <td>18:00</td>\n",
       "      <td>360</td>\n",
       "      <td>...</td>\n",
       "      <td>0.00</td>\n",
       "      <td>72.0</td>\n",
       "      <td>45.0</td>\n",
       "      <td>49.0</td>\n",
       "      <td>2021-05-28</td>\n",
       "      <td>5</td>\n",
       "      <td>2021</td>\n",
       "      <td>Afternoon</td>\n",
       "      <td>Evening</td>\n",
       "      <td>0</td>\n",
       "    </tr>\n",
       "    <tr>\n",
       "      <th>1625</th>\n",
       "      <td>2022-09-05</td>\n",
       "      <td>Mon</td>\n",
       "      <td>Launch Drive Cobbosseecontee</td>\n",
       "      <td>Monmouth</td>\n",
       "      <td>Cobbosseecontee Lake</td>\n",
       "      <td>5637</td>\n",
       "      <td>Volunteer</td>\n",
       "      <td>1900-01-01 04:56:00</td>\n",
       "      <td>7:06</td>\n",
       "      <td>130</td>\n",
       "      <td>...</td>\n",
       "      <td>0.33</td>\n",
       "      <td>85.0</td>\n",
       "      <td>58.0</td>\n",
       "      <td>59.0</td>\n",
       "      <td>2022-09-05</td>\n",
       "      <td>9</td>\n",
       "      <td>2022</td>\n",
       "      <td>Early Morning</td>\n",
       "      <td>Early Morning</td>\n",
       "      <td>1</td>\n",
       "    </tr>\n",
       "    <tr>\n",
       "      <th>10</th>\n",
       "      <td>2021-05-29</td>\n",
       "      <td>Sat</td>\n",
       "      <td>Wilson Pond Road</td>\n",
       "      <td>Monmouth</td>\n",
       "      <td>Wilson Pond</td>\n",
       "      <td>4770</td>\n",
       "      <td>Paid</td>\n",
       "      <td>1900-01-01 07:00:00</td>\n",
       "      <td>17:00</td>\n",
       "      <td>600</td>\n",
       "      <td>...</td>\n",
       "      <td>0.02</td>\n",
       "      <td>62.0</td>\n",
       "      <td>45.0</td>\n",
       "      <td>46.0</td>\n",
       "      <td>2021-05-29</td>\n",
       "      <td>5</td>\n",
       "      <td>2021</td>\n",
       "      <td>Early Morning</td>\n",
       "      <td>Late Afternoon</td>\n",
       "      <td>0</td>\n",
       "    </tr>\n",
       "    <tr>\n",
       "      <th>1647</th>\n",
       "      <td>2022-09-10</td>\n",
       "      <td>Sat</td>\n",
       "      <td>East Winthrop Cobbosseecontee</td>\n",
       "      <td>Winthrop</td>\n",
       "      <td>Cobbosseecontee Lake</td>\n",
       "      <td>5648</td>\n",
       "      <td>Paid</td>\n",
       "      <td>1900-01-01 07:00:00</td>\n",
       "      <td>13:00</td>\n",
       "      <td>360</td>\n",
       "      <td>...</td>\n",
       "      <td>0.00</td>\n",
       "      <td>83.0</td>\n",
       "      <td>58.0</td>\n",
       "      <td>64.0</td>\n",
       "      <td>2022-09-10</td>\n",
       "      <td>9</td>\n",
       "      <td>2022</td>\n",
       "      <td>Early Morning</td>\n",
       "      <td>Afternoon</td>\n",
       "      <td>0</td>\n",
       "    </tr>\n",
       "    <tr>\n",
       "      <th>398</th>\n",
       "      <td>2021-08-05</td>\n",
       "      <td>Thu</td>\n",
       "      <td>Launch Drive</td>\n",
       "      <td>Monmouth</td>\n",
       "      <td>Cobbosseecontee Lake</td>\n",
       "      <td>5105</td>\n",
       "      <td>Paid</td>\n",
       "      <td>1900-01-01 07:00:00</td>\n",
       "      <td>11:30</td>\n",
       "      <td>270</td>\n",
       "      <td>...</td>\n",
       "      <td>0.01</td>\n",
       "      <td>83.0</td>\n",
       "      <td>63.0</td>\n",
       "      <td>67.0</td>\n",
       "      <td>2021-08-05</td>\n",
       "      <td>8</td>\n",
       "      <td>2021</td>\n",
       "      <td>Early Morning</td>\n",
       "      <td>Morning</td>\n",
       "      <td>0</td>\n",
       "    </tr>\n",
       "    <tr>\n",
       "      <th>2164</th>\n",
       "      <td>2023-07-22</td>\n",
       "      <td>Sat</td>\n",
       "      <td>East Winthrop Cobbosseecontee</td>\n",
       "      <td>Winthrop</td>\n",
       "      <td>Cobbosseecontee Lake</td>\n",
       "      <td>5670</td>\n",
       "      <td>Paid</td>\n",
       "      <td>1900-01-01 09:00:00</td>\n",
       "      <td>19:00</td>\n",
       "      <td>600</td>\n",
       "      <td>...</td>\n",
       "      <td>0.07</td>\n",
       "      <td>77.0</td>\n",
       "      <td>64.0</td>\n",
       "      <td>67.0</td>\n",
       "      <td>2023-07-22</td>\n",
       "      <td>7</td>\n",
       "      <td>2023</td>\n",
       "      <td>Morning</td>\n",
       "      <td>Evening</td>\n",
       "      <td>0</td>\n",
       "    </tr>\n",
       "    <tr>\n",
       "      <th>971</th>\n",
       "      <td>2022-07-08</td>\n",
       "      <td>Fri</td>\n",
       "      <td>Launch Drive Cobbosseecontee</td>\n",
       "      <td>Monmouth</td>\n",
       "      <td>Cobbosseecontee Lake</td>\n",
       "      <td>5637</td>\n",
       "      <td>Paid</td>\n",
       "      <td>1900-01-01 05:00:00</td>\n",
       "      <td>9:00</td>\n",
       "      <td>240</td>\n",
       "      <td>...</td>\n",
       "      <td>0.00</td>\n",
       "      <td>83.0</td>\n",
       "      <td>60.0</td>\n",
       "      <td>71.0</td>\n",
       "      <td>2022-07-08</td>\n",
       "      <td>7</td>\n",
       "      <td>2022</td>\n",
       "      <td>Early Morning</td>\n",
       "      <td>Morning</td>\n",
       "      <td>0</td>\n",
       "    </tr>\n",
       "    <tr>\n",
       "      <th>1161</th>\n",
       "      <td>2022-07-24</td>\n",
       "      <td>Sun</td>\n",
       "      <td>East Winthrop Cobbosseecontee</td>\n",
       "      <td>Winthrop</td>\n",
       "      <td>Cobbosseecontee Lake</td>\n",
       "      <td>5670</td>\n",
       "      <td>Paid</td>\n",
       "      <td>1900-01-01 13:00:00</td>\n",
       "      <td>18:30</td>\n",
       "      <td>330</td>\n",
       "      <td>...</td>\n",
       "      <td>0.00</td>\n",
       "      <td>93.0</td>\n",
       "      <td>66.0</td>\n",
       "      <td>78.0</td>\n",
       "      <td>2022-07-24</td>\n",
       "      <td>7</td>\n",
       "      <td>2022</td>\n",
       "      <td>Afternoon</td>\n",
       "      <td>Evening</td>\n",
       "      <td>0</td>\n",
       "    </tr>\n",
       "    <tr>\n",
       "      <th>920</th>\n",
       "      <td>2022-07-04</td>\n",
       "      <td>Mon</td>\n",
       "      <td>East Winthrop Cobbosseecontee</td>\n",
       "      <td>Winthrop</td>\n",
       "      <td>Cobbosseecontee Lake</td>\n",
       "      <td>5581</td>\n",
       "      <td>Paid</td>\n",
       "      <td>1900-01-01 13:00:00</td>\n",
       "      <td>19:00</td>\n",
       "      <td>360</td>\n",
       "      <td>...</td>\n",
       "      <td>0.00</td>\n",
       "      <td>83.0</td>\n",
       "      <td>56.0</td>\n",
       "      <td>69.0</td>\n",
       "      <td>2022-07-04</td>\n",
       "      <td>7</td>\n",
       "      <td>2022</td>\n",
       "      <td>Afternoon</td>\n",
       "      <td>Evening</td>\n",
       "      <td>1</td>\n",
       "    </tr>\n",
       "    <tr>\n",
       "      <th>1941</th>\n",
       "      <td>2023-06-01</td>\n",
       "      <td>Thu</td>\n",
       "      <td>Lakeside Marina Cobbosseecontee</td>\n",
       "      <td>Winthrop</td>\n",
       "      <td>Cobbosseecontee Lake</td>\n",
       "      <td>5652</td>\n",
       "      <td>Paid</td>\n",
       "      <td>1900-01-01 16:00:00</td>\n",
       "      <td>20:00</td>\n",
       "      <td>240</td>\n",
       "      <td>...</td>\n",
       "      <td>0.00</td>\n",
       "      <td>87.0</td>\n",
       "      <td>52.0</td>\n",
       "      <td>71.0</td>\n",
       "      <td>2023-06-01</td>\n",
       "      <td>6</td>\n",
       "      <td>2023</td>\n",
       "      <td>Late Afternoon</td>\n",
       "      <td>Night</td>\n",
       "      <td>0</td>\n",
       "    </tr>\n",
       "    <tr>\n",
       "      <th>1912</th>\n",
       "      <td>2023-05-13</td>\n",
       "      <td>Sat</td>\n",
       "      <td>Lakeside Marina Cobbosseecontee</td>\n",
       "      <td>Winthrop</td>\n",
       "      <td>Cobbosseecontee Lake</td>\n",
       "      <td>5652</td>\n",
       "      <td>Paid</td>\n",
       "      <td>1900-01-01 09:00:00</td>\n",
       "      <td>15:00</td>\n",
       "      <td>360</td>\n",
       "      <td>...</td>\n",
       "      <td>0.00</td>\n",
       "      <td>80.0</td>\n",
       "      <td>56.0</td>\n",
       "      <td>61.0</td>\n",
       "      <td>2023-05-13</td>\n",
       "      <td>5</td>\n",
       "      <td>2023</td>\n",
       "      <td>Morning</td>\n",
       "      <td>Late Afternoon</td>\n",
       "      <td>0</td>\n",
       "    </tr>\n",
       "    <tr>\n",
       "      <th>87</th>\n",
       "      <td>2021-06-13</td>\n",
       "      <td>Sun</td>\n",
       "      <td>Old Kents Hill Road</td>\n",
       "      <td>Readfield</td>\n",
       "      <td>Torsey Lake</td>\n",
       "      <td>5353</td>\n",
       "      <td>Paid</td>\n",
       "      <td>1900-01-01 13:00:00</td>\n",
       "      <td>19:00</td>\n",
       "      <td>360</td>\n",
       "      <td>...</td>\n",
       "      <td>0.00</td>\n",
       "      <td>81.0</td>\n",
       "      <td>51.0</td>\n",
       "      <td>70.0</td>\n",
       "      <td>2021-06-13</td>\n",
       "      <td>6</td>\n",
       "      <td>2021</td>\n",
       "      <td>Afternoon</td>\n",
       "      <td>Evening</td>\n",
       "      <td>0</td>\n",
       "    </tr>\n",
       "    <tr>\n",
       "      <th>2355</th>\n",
       "      <td>2023-08-12</td>\n",
       "      <td>Sat</td>\n",
       "      <td>Whippoorwill Road</td>\n",
       "      <td>Litchfield</td>\n",
       "      <td>Woodbury Pond</td>\n",
       "      <td>5982</td>\n",
       "      <td>Paid</td>\n",
       "      <td>1900-01-01 07:00:00</td>\n",
       "      <td>13:00</td>\n",
       "      <td>360</td>\n",
       "      <td>...</td>\n",
       "      <td>0.00</td>\n",
       "      <td>77.0</td>\n",
       "      <td>59.0</td>\n",
       "      <td>68.0</td>\n",
       "      <td>2023-08-12</td>\n",
       "      <td>8</td>\n",
       "      <td>2023</td>\n",
       "      <td>Early Morning</td>\n",
       "      <td>Afternoon</td>\n",
       "      <td>0</td>\n",
       "    </tr>\n",
       "    <tr>\n",
       "      <th>2092</th>\n",
       "      <td>2023-07-16</td>\n",
       "      <td>Sun</td>\n",
       "      <td>Old Kents Hill Road</td>\n",
       "      <td>Readfield</td>\n",
       "      <td>Torsey Lake</td>\n",
       "      <td>5006</td>\n",
       "      <td>Paid</td>\n",
       "      <td>1900-01-01 07:00:00</td>\n",
       "      <td>13:00</td>\n",
       "      <td>360</td>\n",
       "      <td>...</td>\n",
       "      <td>0.26</td>\n",
       "      <td>84.0</td>\n",
       "      <td>71.0</td>\n",
       "      <td>73.0</td>\n",
       "      <td>2023-07-16</td>\n",
       "      <td>7</td>\n",
       "      <td>2023</td>\n",
       "      <td>Early Morning</td>\n",
       "      <td>Afternoon</td>\n",
       "      <td>0</td>\n",
       "    </tr>\n",
       "    <tr>\n",
       "      <th>1393</th>\n",
       "      <td>2022-08-13</td>\n",
       "      <td>Sat</td>\n",
       "      <td>Lakeside Marina Cobbosseecontee</td>\n",
       "      <td>Winthrop</td>\n",
       "      <td>Cobbosseecontee Lake</td>\n",
       "      <td>5656</td>\n",
       "      <td>Paid</td>\n",
       "      <td>1900-01-01 11:00:00</td>\n",
       "      <td>12:00</td>\n",
       "      <td>60</td>\n",
       "      <td>...</td>\n",
       "      <td>0.00</td>\n",
       "      <td>77.0</td>\n",
       "      <td>58.0</td>\n",
       "      <td>65.0</td>\n",
       "      <td>2022-08-13</td>\n",
       "      <td>8</td>\n",
       "      <td>2022</td>\n",
       "      <td>Morning</td>\n",
       "      <td>Afternoon</td>\n",
       "      <td>0</td>\n",
       "    </tr>\n",
       "    <tr>\n",
       "      <th>2244</th>\n",
       "      <td>2023-07-29</td>\n",
       "      <td>Sat</td>\n",
       "      <td>Beach Road</td>\n",
       "      <td>Monmouth</td>\n",
       "      <td>Cochnewagon Pond</td>\n",
       "      <td>5306</td>\n",
       "      <td>Paid</td>\n",
       "      <td>1900-01-01 07:00:00</td>\n",
       "      <td>13:00</td>\n",
       "      <td>360</td>\n",
       "      <td>...</td>\n",
       "      <td>0.00</td>\n",
       "      <td>89.0</td>\n",
       "      <td>69.0</td>\n",
       "      <td>76.0</td>\n",
       "      <td>2023-07-29</td>\n",
       "      <td>7</td>\n",
       "      <td>2023</td>\n",
       "      <td>Early Morning</td>\n",
       "      <td>Afternoon</td>\n",
       "      <td>0</td>\n",
       "    </tr>\n",
       "    <tr>\n",
       "      <th>927</th>\n",
       "      <td>2022-07-04</td>\n",
       "      <td>Mon</td>\n",
       "      <td>Launch Drive Cobbosseecontee</td>\n",
       "      <td>Monmouth</td>\n",
       "      <td>Cobbosseecontee Lake</td>\n",
       "      <td>5637</td>\n",
       "      <td>Volunteer</td>\n",
       "      <td>1900-01-01 05:00:00</td>\n",
       "      <td>6:55</td>\n",
       "      <td>115</td>\n",
       "      <td>...</td>\n",
       "      <td>0.00</td>\n",
       "      <td>83.0</td>\n",
       "      <td>56.0</td>\n",
       "      <td>69.0</td>\n",
       "      <td>2022-07-04</td>\n",
       "      <td>7</td>\n",
       "      <td>2022</td>\n",
       "      <td>Early Morning</td>\n",
       "      <td>Early Morning</td>\n",
       "      <td>1</td>\n",
       "    </tr>\n",
       "    <tr>\n",
       "      <th>1583</th>\n",
       "      <td>2022-09-03</td>\n",
       "      <td>Sat</td>\n",
       "      <td>Old Kents Hill Road</td>\n",
       "      <td>Readfield</td>\n",
       "      <td>Torsey Lake</td>\n",
       "      <td>1289</td>\n",
       "      <td>Volunteer</td>\n",
       "      <td>1900-01-01 09:00:00</td>\n",
       "      <td>11:00</td>\n",
       "      <td>120</td>\n",
       "      <td>...</td>\n",
       "      <td>0.00</td>\n",
       "      <td>77.0</td>\n",
       "      <td>50.0</td>\n",
       "      <td>57.0</td>\n",
       "      <td>2022-09-03</td>\n",
       "      <td>9</td>\n",
       "      <td>2022</td>\n",
       "      <td>Morning</td>\n",
       "      <td>Morning</td>\n",
       "      <td>0</td>\n",
       "    </tr>\n",
       "    <tr>\n",
       "      <th>1606</th>\n",
       "      <td>2022-09-04</td>\n",
       "      <td>Sun</td>\n",
       "      <td>Norcross Point South Basin Maranacook</td>\n",
       "      <td>Winthrop</td>\n",
       "      <td>Maranacook Lake</td>\n",
       "      <td>5644</td>\n",
       "      <td>Paid</td>\n",
       "      <td>1900-01-01 07:00:00</td>\n",
       "      <td>17:00</td>\n",
       "      <td>600</td>\n",
       "      <td>...</td>\n",
       "      <td>0.00</td>\n",
       "      <td>78.0</td>\n",
       "      <td>56.0</td>\n",
       "      <td>61.0</td>\n",
       "      <td>2022-09-04</td>\n",
       "      <td>9</td>\n",
       "      <td>2022</td>\n",
       "      <td>Early Morning</td>\n",
       "      <td>Late Afternoon</td>\n",
       "      <td>0</td>\n",
       "    </tr>\n",
       "  </tbody>\n",
       "</table>\n",
       "<p>25 rows × 21 columns</p>\n",
       "</div>"
      ],
      "text/plain": [
       "           DATE1 DAY_OF_WEEK                              SITE_NAME  \\\n",
       "624   2021-09-06         Mon                           Launch Drive   \n",
       "2319  2023-08-07         Mon          East Winthrop Cobbosseecontee   \n",
       "2360  2023-08-12         Sat          East Winthrop Cobbosseecontee   \n",
       "1632  2022-09-06         Tue        Lakeside Marina Cobbosseecontee   \n",
       "870   2022-07-01         Fri                      Whippoorwill Road   \n",
       "1529  2022-08-28         Sun  Norcross Point South Basin Maranacook   \n",
       "3     2021-05-28         Fri                          East Winthrop   \n",
       "1625  2022-09-05         Mon           Launch Drive Cobbosseecontee   \n",
       "10    2021-05-29         Sat                       Wilson Pond Road   \n",
       "1647  2022-09-10         Sat          East Winthrop Cobbosseecontee   \n",
       "398   2021-08-05         Thu                           Launch Drive   \n",
       "2164  2023-07-22         Sat          East Winthrop Cobbosseecontee   \n",
       "971   2022-07-08         Fri           Launch Drive Cobbosseecontee   \n",
       "1161  2022-07-24         Sun          East Winthrop Cobbosseecontee   \n",
       "920   2022-07-04         Mon          East Winthrop Cobbosseecontee   \n",
       "1941  2023-06-01         Thu        Lakeside Marina Cobbosseecontee   \n",
       "1912  2023-05-13         Sat        Lakeside Marina Cobbosseecontee   \n",
       "87    2021-06-13         Sun                    Old Kents Hill Road   \n",
       "2355  2023-08-12         Sat                      Whippoorwill Road   \n",
       "2092  2023-07-16         Sun                    Old Kents Hill Road   \n",
       "1393  2022-08-13         Sat        Lakeside Marina Cobbosseecontee   \n",
       "2244  2023-07-29         Sat                             Beach Road   \n",
       "927   2022-07-04         Mon           Launch Drive Cobbosseecontee   \n",
       "1583  2022-09-03         Sat                    Old Kents Hill Road   \n",
       "1606  2022-09-04         Sun  Norcross Point South Basin Maranacook   \n",
       "\n",
       "            TOWN             WATERBODY  INSPECTOR_ID    PAY_VOL  \\\n",
       "624     Monmouth  Cobbosseecontee Lake          3796       Paid   \n",
       "2319    Winthrop  Cobbosseecontee Lake          5987       Paid   \n",
       "2360    Winthrop  Cobbosseecontee Lake          5670       Paid   \n",
       "1632    Winthrop  Cobbosseecontee Lake          5655       Paid   \n",
       "870   Litchfield         Woodbury Pond          3504       Paid   \n",
       "1529    Winthrop       Maranacook Lake          5644       Paid   \n",
       "3       Winthrop  Cobbosseecontee Lake          4485       Paid   \n",
       "1625    Monmouth  Cobbosseecontee Lake          5637  Volunteer   \n",
       "10      Monmouth           Wilson Pond          4770       Paid   \n",
       "1647    Winthrop  Cobbosseecontee Lake          5648       Paid   \n",
       "398     Monmouth  Cobbosseecontee Lake          5105       Paid   \n",
       "2164    Winthrop  Cobbosseecontee Lake          5670       Paid   \n",
       "971     Monmouth  Cobbosseecontee Lake          5637       Paid   \n",
       "1161    Winthrop  Cobbosseecontee Lake          5670       Paid   \n",
       "920     Winthrop  Cobbosseecontee Lake          5581       Paid   \n",
       "1941    Winthrop  Cobbosseecontee Lake          5652       Paid   \n",
       "1912    Winthrop  Cobbosseecontee Lake          5652       Paid   \n",
       "87     Readfield           Torsey Lake          5353       Paid   \n",
       "2355  Litchfield         Woodbury Pond          5982       Paid   \n",
       "2092   Readfield           Torsey Lake          5006       Paid   \n",
       "1393    Winthrop  Cobbosseecontee Lake          5656       Paid   \n",
       "2244    Monmouth      Cochnewagon Pond          5306       Paid   \n",
       "927     Monmouth  Cobbosseecontee Lake          5637  Volunteer   \n",
       "1583   Readfield           Torsey Lake          1289  Volunteer   \n",
       "1606    Winthrop       Maranacook Lake          5644       Paid   \n",
       "\n",
       "             SHIFT_START SHIFT_END  SHIFT_LENGTH  ...  PRCP  TMAX  TMIN  TOBS  \\\n",
       "624  1900-01-01 07:00:00     16:30           570  ...  0.06  72.0  50.0  67.0   \n",
       "2319 1900-01-01 13:00:00     18:00           300  ...  0.00  82.0  60.0  68.0   \n",
       "2360 1900-01-01 09:00:00     19:00           600  ...  0.00  77.0  59.0  68.0   \n",
       "1632 1900-01-01 14:00:00     17:00           180  ...  1.07  60.0  58.0  60.0   \n",
       "870  1900-01-01 12:00:00     18:00           360  ...  0.00  79.0  57.0  70.0   \n",
       "1529 1900-01-01 07:00:00     17:00           600  ...  0.00  78.0  62.0  67.0   \n",
       "3    1900-01-01 12:00:00     18:00           360  ...  0.00  72.0  45.0  49.0   \n",
       "1625 1900-01-01 04:56:00      7:06           130  ...  0.33  85.0  58.0  59.0   \n",
       "10   1900-01-01 07:00:00     17:00           600  ...  0.02  62.0  45.0  46.0   \n",
       "1647 1900-01-01 07:00:00     13:00           360  ...  0.00  83.0  58.0  64.0   \n",
       "398  1900-01-01 07:00:00     11:30           270  ...  0.01  83.0  63.0  67.0   \n",
       "2164 1900-01-01 09:00:00     19:00           600  ...  0.07  77.0  64.0  67.0   \n",
       "971  1900-01-01 05:00:00      9:00           240  ...  0.00  83.0  60.0  71.0   \n",
       "1161 1900-01-01 13:00:00     18:30           330  ...  0.00  93.0  66.0  78.0   \n",
       "920  1900-01-01 13:00:00     19:00           360  ...  0.00  83.0  56.0  69.0   \n",
       "1941 1900-01-01 16:00:00     20:00           240  ...  0.00  87.0  52.0  71.0   \n",
       "1912 1900-01-01 09:00:00     15:00           360  ...  0.00  80.0  56.0  61.0   \n",
       "87   1900-01-01 13:00:00     19:00           360  ...  0.00  81.0  51.0  70.0   \n",
       "2355 1900-01-01 07:00:00     13:00           360  ...  0.00  77.0  59.0  68.0   \n",
       "2092 1900-01-01 07:00:00     13:00           360  ...  0.26  84.0  71.0  73.0   \n",
       "1393 1900-01-01 11:00:00     12:00            60  ...  0.00  77.0  58.0  65.0   \n",
       "2244 1900-01-01 07:00:00     13:00           360  ...  0.00  89.0  69.0  76.0   \n",
       "927  1900-01-01 05:00:00      6:55           115  ...  0.00  83.0  56.0  69.0   \n",
       "1583 1900-01-01 09:00:00     11:00           120  ...  0.00  77.0  50.0  57.0   \n",
       "1606 1900-01-01 07:00:00     17:00           600  ...  0.00  78.0  56.0  61.0   \n",
       "\n",
       "           DATE month  year  SHIFT_START_CATEGORY SHIFT_END_CATEGORY holiday  \n",
       "624  2021-09-06     9  2021         Early Morning     Late Afternoon       1  \n",
       "2319 2023-08-07     8  2023             Afternoon            Evening       0  \n",
       "2360 2023-08-12     8  2023               Morning            Evening       0  \n",
       "1632 2022-09-06     9  2022             Afternoon     Late Afternoon       0  \n",
       "870  2022-07-01     7  2022             Afternoon            Evening       0  \n",
       "1529 2022-08-28     8  2022         Early Morning     Late Afternoon       0  \n",
       "3    2021-05-28     5  2021             Afternoon            Evening       0  \n",
       "1625 2022-09-05     9  2022         Early Morning      Early Morning       1  \n",
       "10   2021-05-29     5  2021         Early Morning     Late Afternoon       0  \n",
       "1647 2022-09-10     9  2022         Early Morning          Afternoon       0  \n",
       "398  2021-08-05     8  2021         Early Morning            Morning       0  \n",
       "2164 2023-07-22     7  2023               Morning            Evening       0  \n",
       "971  2022-07-08     7  2022         Early Morning            Morning       0  \n",
       "1161 2022-07-24     7  2022             Afternoon            Evening       0  \n",
       "920  2022-07-04     7  2022             Afternoon            Evening       1  \n",
       "1941 2023-06-01     6  2023        Late Afternoon              Night       0  \n",
       "1912 2023-05-13     5  2023               Morning     Late Afternoon       0  \n",
       "87   2021-06-13     6  2021             Afternoon            Evening       0  \n",
       "2355 2023-08-12     8  2023         Early Morning          Afternoon       0  \n",
       "2092 2023-07-16     7  2023         Early Morning          Afternoon       0  \n",
       "1393 2022-08-13     8  2022               Morning          Afternoon       0  \n",
       "2244 2023-07-29     7  2023         Early Morning          Afternoon       0  \n",
       "927  2022-07-04     7  2022         Early Morning      Early Morning       1  \n",
       "1583 2022-09-03     9  2022               Morning            Morning       0  \n",
       "1606 2022-09-04     9  2022         Early Morning     Late Afternoon       0  \n",
       "\n",
       "[25 rows x 21 columns]"
      ]
     },
     "execution_count": 73,
     "metadata": {},
     "output_type": "execute_result"
    }
   ],
   "source": [
    "df.sample(25)"
   ]
  },
  {
   "cell_type": "code",
   "execution_count": 74,
   "id": "613ed277-120d-4443-a917-671c59d2fb2d",
   "metadata": {
    "tags": []
   },
   "outputs": [],
   "source": [
    "X2 = df.drop(columns=['DATE1', 'TOWN', 'WATERBODY', 'INSPECTOR_ID', 'TOTALINSP', 'TOBS', 'DATE', 'SHIFT_START', 'SHIFT_END'])\n",
    "y2 = df.TOTALINSP            \n",
    "\n",
    "X2_train, X2_test, y2_train, y2_test = train_test_split(X2, y2, random_state=42, test_size=.2)"
   ]
  },
  {
   "cell_type": "code",
   "execution_count": 75,
   "id": "715ddaad-b278-4514-a99a-26e72e27af8a",
   "metadata": {
    "tags": []
   },
   "outputs": [],
   "source": [
    "categorical_columns = ['SITE_NAME', 'DAY_OF_WEEK', 'month', 'year', 'PAY_VOL', 'SHIFT_START_CATEGORY', 'SHIFT_END_CATEGORY']\n",
    "oh = OneHotEncoder(handle_unknown='ignore', drop='first')\n",
    "X2_train_transformed = oh.fit_transform(X2_train[categorical_columns])\n",
    "X2_test_transformed= oh.transform(X2_test[categorical_columns])"
   ]
  },
  {
   "cell_type": "code",
   "execution_count": 76,
   "id": "11b41c9b-acd4-47bc-afa5-c9f1bd588d07",
   "metadata": {
    "tags": []
   },
   "outputs": [
    {
     "name": "stdout",
     "output_type": "stream",
     "text": [
      "0.43299897430845313\n",
      "0.45589238044822944\n"
     ]
    }
   ],
   "source": [
    "lr2 = LinearRegression()\n",
    "lr2.fit(X2_train_transformed, y2_train)\n",
    "print(lr2.score(X2_train_transformed, y2_train))\n",
    "print(lr2.score(X2_test_transformed, y2_test))"
   ]
  },
  {
   "cell_type": "code",
   "execution_count": 77,
   "id": "0bf347bf-8609-472c-a106-20413631c271",
   "metadata": {
    "tags": []
   },
   "outputs": [
    {
     "name": "stdout",
     "output_type": "stream",
     "text": [
      "0.800217845750667\n",
      "0.38356603863290895\n"
     ]
    }
   ],
   "source": [
    "rf2 = RandomForestRegressor()\n",
    "rf2.fit(X2_train_transformed, y2_train)\n",
    "print(rf2.score(X2_train_transformed, y2_train))\n",
    "print(rf1.score(X2_test_transformed, y2_test))    "
   ]
  },
  {
   "cell_type": "code",
   "execution_count": 79,
   "id": "8506b11e-c80f-41b3-9db2-fbe00c5cced8",
   "metadata": {
    "tags": []
   },
   "outputs": [
    {
     "name": "stdout",
     "output_type": "stream",
     "text": [
      "0.8333177482959641\n",
      "0.18143892545551887\n"
     ]
    }
   ],
   "source": [
    "et2 =ExtraTreesRegressor()\n",
    "et2.fit(X2_train_transformed, y2_train)\n",
    "print(et2.score(X2_train_transformed, y2_train))\n",
    "print(et2.score(X2_test_transformed, y2_test))     "
   ]
  },
  {
   "cell_type": "code",
   "execution_count": null,
   "id": "6856be61-e36c-4d62-a330-b54dafbb9f67",
   "metadata": {},
   "outputs": [],
   "source": [
    "holiday_list_weekends = ['2021-05-31', '2021-05-09', '2021-07-04', '2021-09-06', '2021-06-20',\n",
    "                '2022-05-08', '2022-05-30', '2022-09-05', '2022-07-04', '2022-06-19',\n",
    "                '2023-05-29', '2023-06-19', '2023-07-04', '2023-09-04', '2023-06-18']\n"
   ]
  }
 ],
 "metadata": {
  "kernelspec": {
   "display_name": "Python 3 (ipykernel)",
   "language": "python",
   "name": "python3"
  },
  "language_info": {
   "codemirror_mode": {
    "name": "ipython",
    "version": 3
   },
   "file_extension": ".py",
   "mimetype": "text/x-python",
   "name": "python",
   "nbconvert_exporter": "python",
   "pygments_lexer": "ipython3",
   "version": "3.11.4"
  }
 },
 "nbformat": 4,
 "nbformat_minor": 5
}
