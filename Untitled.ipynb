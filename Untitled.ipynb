{
 "cells": [
  {
   "cell_type": "code",
   "execution_count": 6,
   "id": "1508860c-8d47-48b3-bbdf-78791c2984e8",
   "metadata": {
    "tags": []
   },
   "outputs": [],
   "source": [
    "import numpy as np\n",
    "import pandas as pd\n",
    "import matplotlib.pyplot as plt\n",
    "import seaborn as sns"
   ]
  },
  {
   "cell_type": "code",
   "execution_count": 7,
   "id": "0abcc460-fa4a-4581-a717-85b25a4f9bf2",
   "metadata": {
    "tags": []
   },
   "outputs": [],
   "source": [
    "df_2022 = pd.read_csv('data/FOCW_CBI_21_22_shift.csv')"
   ]
  },
  {
   "cell_type": "code",
   "execution_count": 8,
   "id": "09ba49f4-c1f6-45f1-87bb-50a67a30d7d8",
   "metadata": {
    "tags": []
   },
   "outputs": [],
   "source": [
    "df_2023 = pd.read_csv(\"data/SHIFTS (2).csv\")"
   ]
  },
  {
   "cell_type": "code",
   "execution_count": 9,
   "id": "01ae540d-d563-44d3-b94d-c38b975e6e26",
   "metadata": {
    "tags": []
   },
   "outputs": [
    {
     "data": {
      "text/html": [
       "<div>\n",
       "<style scoped>\n",
       "    .dataframe tbody tr th:only-of-type {\n",
       "        vertical-align: middle;\n",
       "    }\n",
       "\n",
       "    .dataframe tbody tr th {\n",
       "        vertical-align: top;\n",
       "    }\n",
       "\n",
       "    .dataframe thead th {\n",
       "        text-align: right;\n",
       "    }\n",
       "</style>\n",
       "<table border=\"1\" class=\"dataframe\">\n",
       "  <thead>\n",
       "    <tr style=\"text-align: right;\">\n",
       "      <th></th>\n",
       "      <th>objectid</th>\n",
       "      <th>YEAR</th>\n",
       "      <th>VISIT_DATE</th>\n",
       "      <th>DAY_OF_WEEK</th>\n",
       "      <th>AGENCY_DESC</th>\n",
       "      <th>AGENCY_ID</th>\n",
       "      <th>SITE_NAME</th>\n",
       "      <th>SITE_ID</th>\n",
       "      <th>LAT</th>\n",
       "      <th>LONG</th>\n",
       "      <th>...</th>\n",
       "      <th>PAY_VOL</th>\n",
       "      <th>START_SHIFT</th>\n",
       "      <th>TRAILERS</th>\n",
       "      <th>INSPECTIONS</th>\n",
       "      <th>END_SHIFT</th>\n",
       "      <th>SHIFT_LENGTH</th>\n",
       "      <th>SURVEY</th>\n",
       "      <th>COMMENTS</th>\n",
       "      <th>TOTALINSP</th>\n",
       "      <th>NUMINVASIVE</th>\n",
       "    </tr>\n",
       "  </thead>\n",
       "  <tbody>\n",
       "    <tr>\n",
       "      <th>0</th>\n",
       "      <td>8977</td>\n",
       "      <td>2021</td>\n",
       "      <td>5/28/2021</td>\n",
       "      <td>Fri</td>\n",
       "      <td>FOCW (Friends of the Cobbossee Watershed)</td>\n",
       "      <td>50</td>\n",
       "      <td>Launch Drive</td>\n",
       "      <td>376</td>\n",
       "      <td>44.23825</td>\n",
       "      <td>-69.96728</td>\n",
       "      <td>...</td>\n",
       "      <td>Paid</td>\n",
       "      <td>12:00</td>\n",
       "      <td>10.0</td>\n",
       "      <td>Yes</td>\n",
       "      <td>18:00</td>\n",
       "      <td>360</td>\n",
       "      <td>During shift/at ramp</td>\n",
       "      <td>NaN</td>\n",
       "      <td>33</td>\n",
       "      <td>NaN</td>\n",
       "    </tr>\n",
       "  </tbody>\n",
       "</table>\n",
       "<p>1 rows × 28 columns</p>\n",
       "</div>"
      ],
      "text/plain": [
       "   objectid  YEAR VISIT_DATE DAY_OF_WEEK  \\\n",
       "0      8977  2021  5/28/2021         Fri   \n",
       "\n",
       "                                 AGENCY_DESC  AGENCY_ID     SITE_NAME  \\\n",
       "0  FOCW (Friends of the Cobbossee Watershed)         50  Launch Drive   \n",
       "\n",
       "   SITE_ID       LAT      LONG  ... PAY_VOL  START_SHIFT TRAILERS  \\\n",
       "0      376  44.23825 -69.96728  ...    Paid        12:00     10.0   \n",
       "\n",
       "   INSPECTIONS END_SHIFT SHIFT_LENGTH                SURVEY  COMMENTS  \\\n",
       "0          Yes     18:00          360  During shift/at ramp       NaN   \n",
       "\n",
       "  TOTALINSP NUMINVASIVE  \n",
       "0        33         NaN  \n",
       "\n",
       "[1 rows x 28 columns]"
      ]
     },
     "execution_count": 9,
     "metadata": {},
     "output_type": "execute_result"
    }
   ],
   "source": [
    "df_2022.head(1)"
   ]
  },
  {
   "cell_type": "code",
   "execution_count": 10,
   "id": "a6f38777-88af-435b-8d5c-50a993959af3",
   "metadata": {
    "tags": []
   },
   "outputs": [
    {
     "data": {
      "text/html": [
       "<div>\n",
       "<style scoped>\n",
       "    .dataframe tbody tr th:only-of-type {\n",
       "        vertical-align: middle;\n",
       "    }\n",
       "\n",
       "    .dataframe tbody tr th {\n",
       "        vertical-align: top;\n",
       "    }\n",
       "\n",
       "    .dataframe thead th {\n",
       "        text-align: right;\n",
       "    }\n",
       "</style>\n",
       "<table border=\"1\" class=\"dataframe\">\n",
       "  <thead>\n",
       "    <tr style=\"text-align: right;\">\n",
       "      <th></th>\n",
       "      <th>ObjectID</th>\n",
       "      <th>DATE1</th>\n",
       "      <th>DAY_OF_WEEK</th>\n",
       "      <th>AGENCY_DESC</th>\n",
       "      <th>SITE_NAME</th>\n",
       "      <th>TOWN</th>\n",
       "      <th>WATERBODY</th>\n",
       "      <th>FNAME</th>\n",
       "      <th>LNAME</th>\n",
       "      <th>INSPECTOR_ID</th>\n",
       "      <th>...</th>\n",
       "      <th>SHIFT_LENGTH</th>\n",
       "      <th>TRAILERS</th>\n",
       "      <th>TOTAL_NM</th>\n",
       "      <th>TOTAL_M</th>\n",
       "      <th>TOTALINSP</th>\n",
       "      <th>COMMENTS</th>\n",
       "      <th>NUMINVASIVE</th>\n",
       "      <th>GlobalID</th>\n",
       "      <th>x</th>\n",
       "      <th>y</th>\n",
       "    </tr>\n",
       "  </thead>\n",
       "  <tbody>\n",
       "    <tr>\n",
       "      <th>0</th>\n",
       "      <td>71</td>\n",
       "      <td>5/12/2023</td>\n",
       "      <td>Fri</td>\n",
       "      <td>FOCW (Friends of the Cobbossee Watershed)</td>\n",
       "      <td>Launch Drive Cobbosseecontee</td>\n",
       "      <td>Monmouth</td>\n",
       "      <td>Cobbosseecontee Lake</td>\n",
       "      <td>Emily</td>\n",
       "      <td>Lucas</td>\n",
       "      <td>5305</td>\n",
       "      <td>...</td>\n",
       "      <td>190</td>\n",
       "      <td>2.0</td>\n",
       "      <td>0.0</td>\n",
       "      <td>5</td>\n",
       "      <td>5.0</td>\n",
       "      <td>\\r\\n</td>\n",
       "      <td>0.0</td>\n",
       "      <td>2efd8f58-5a9e-4b75-8e56-4cb720b404ab</td>\n",
       "      <td>-69.96728</td>\n",
       "      <td>44.23825</td>\n",
       "    </tr>\n",
       "  </tbody>\n",
       "</table>\n",
       "<p>1 rows × 23 columns</p>\n",
       "</div>"
      ],
      "text/plain": [
       "   ObjectID      DATE1 DAY_OF_WEEK                                AGENCY_DESC  \\\n",
       "0        71  5/12/2023         Fri  FOCW (Friends of the Cobbossee Watershed)   \n",
       "\n",
       "                      SITE_NAME      TOWN             WATERBODY  FNAME  LNAME  \\\n",
       "0  Launch Drive Cobbosseecontee  Monmouth  Cobbosseecontee Lake  Emily  Lucas   \n",
       "\n",
       "   INSPECTOR_ID  ... SHIFT_LENGTH TRAILERS TOTAL_NM  TOTAL_M  TOTALINSP  \\\n",
       "0          5305  ...          190      2.0      0.0        5        5.0   \n",
       "\n",
       "   COMMENTS  NUMINVASIVE                              GlobalID         x  \\\n",
       "0      \\r\\n          0.0  2efd8f58-5a9e-4b75-8e56-4cb720b404ab -69.96728   \n",
       "\n",
       "          y  \n",
       "0  44.23825  \n",
       "\n",
       "[1 rows x 23 columns]"
      ]
     },
     "execution_count": 10,
     "metadata": {},
     "output_type": "execute_result"
    }
   ],
   "source": [
    "df_2023.head(1)"
   ]
  },
  {
   "cell_type": "code",
   "execution_count": 11,
   "id": "ede59bbe-6f34-49c1-89c6-840d9e16fd4a",
   "metadata": {
    "tags": []
   },
   "outputs": [],
   "source": [
    "df_2022.rename(columns={'objectid': 'ObjectID', 'VISIT_DATE': 'DATE1', 'START_SHIFT': 'SHIFT_START', 'END_SHIFT': 'SHIFT_END'}, inplace=True)"
   ]
  },
  {
   "cell_type": "code",
   "execution_count": 12,
   "id": "3fa8c3e6-8f78-4a55-8aa0-4dd4f6072f97",
   "metadata": {
    "tags": []
   },
   "outputs": [],
   "source": [
    "df_2023.drop(columns=['ObjectID', 'AGENCY_DESC', 'FNAME', 'LNAME', 'NUMINVASIVE', 'TOTAL_NM', 'TOTAL_M', 'COMMENTS', 'GlobalID', 'x', 'y'], inplace=True)"
   ]
  },
  {
   "cell_type": "code",
   "execution_count": 13,
   "id": "85e0e0bf-e48d-47a2-ab47-60b7e246ca62",
   "metadata": {
    "tags": []
   },
   "outputs": [],
   "source": [
    "df_2022.drop(columns=['ObjectID', 'YEAR', 'AGENCY_DESC', 'AGENCY_ID', 'SITE_ID', 'LAT', 'LONG', 'SURVEY', 'COMMENTS', 'NUMINVASIVE'], inplace=True)"
   ]
  },
  {
   "cell_type": "code",
   "execution_count": 14,
   "id": "8257c5d0-d418-4b22-9390-84d75e069bad",
   "metadata": {
    "tags": []
   },
   "outputs": [
    {
     "data": {
      "text/html": [
       "<div>\n",
       "<style scoped>\n",
       "    .dataframe tbody tr th:only-of-type {\n",
       "        vertical-align: middle;\n",
       "    }\n",
       "\n",
       "    .dataframe tbody tr th {\n",
       "        vertical-align: top;\n",
       "    }\n",
       "\n",
       "    .dataframe thead th {\n",
       "        text-align: right;\n",
       "    }\n",
       "</style>\n",
       "<table border=\"1\" class=\"dataframe\">\n",
       "  <thead>\n",
       "    <tr style=\"text-align: right;\">\n",
       "      <th></th>\n",
       "      <th>DATE1</th>\n",
       "      <th>DAY_OF_WEEK</th>\n",
       "      <th>SITE_NAME</th>\n",
       "      <th>TOWN</th>\n",
       "      <th>WATERBODY</th>\n",
       "      <th>INSPECTOR_ID</th>\n",
       "      <th>PAY_VOL</th>\n",
       "      <th>SHIFT_START</th>\n",
       "      <th>SHIFT_END</th>\n",
       "      <th>SHIFT_LENGTH</th>\n",
       "      <th>TRAILERS</th>\n",
       "      <th>TOTALINSP</th>\n",
       "    </tr>\n",
       "  </thead>\n",
       "  <tbody>\n",
       "    <tr>\n",
       "      <th>0</th>\n",
       "      <td>5/12/2023</td>\n",
       "      <td>Fri</td>\n",
       "      <td>Launch Drive Cobbosseecontee</td>\n",
       "      <td>Monmouth</td>\n",
       "      <td>Cobbosseecontee Lake</td>\n",
       "      <td>5305</td>\n",
       "      <td>Paid</td>\n",
       "      <td>08:50</td>\n",
       "      <td>12:00</td>\n",
       "      <td>190</td>\n",
       "      <td>2.0</td>\n",
       "      <td>5.0</td>\n",
       "    </tr>\n",
       "  </tbody>\n",
       "</table>\n",
       "</div>"
      ],
      "text/plain": [
       "       DATE1 DAY_OF_WEEK                     SITE_NAME      TOWN  \\\n",
       "0  5/12/2023         Fri  Launch Drive Cobbosseecontee  Monmouth   \n",
       "\n",
       "              WATERBODY  INSPECTOR_ID PAY_VOL SHIFT_START SHIFT_END  \\\n",
       "0  Cobbosseecontee Lake          5305    Paid       08:50     12:00   \n",
       "\n",
       "   SHIFT_LENGTH  TRAILERS  TOTALINSP  \n",
       "0           190       2.0        5.0  "
      ]
     },
     "execution_count": 14,
     "metadata": {},
     "output_type": "execute_result"
    }
   ],
   "source": [
    "df_2023.head(1)"
   ]
  },
  {
   "cell_type": "code",
   "execution_count": 15,
   "id": "020da766-49cc-4cd5-b26e-af13796c239b",
   "metadata": {
    "tags": []
   },
   "outputs": [
    {
     "data": {
      "text/html": [
       "<div>\n",
       "<style scoped>\n",
       "    .dataframe tbody tr th:only-of-type {\n",
       "        vertical-align: middle;\n",
       "    }\n",
       "\n",
       "    .dataframe tbody tr th {\n",
       "        vertical-align: top;\n",
       "    }\n",
       "\n",
       "    .dataframe thead th {\n",
       "        text-align: right;\n",
       "    }\n",
       "</style>\n",
       "<table border=\"1\" class=\"dataframe\">\n",
       "  <thead>\n",
       "    <tr style=\"text-align: right;\">\n",
       "      <th></th>\n",
       "      <th>DATE1</th>\n",
       "      <th>DAY_OF_WEEK</th>\n",
       "      <th>SITE_NAME</th>\n",
       "      <th>TOWN</th>\n",
       "      <th>WATER_REGION_ID</th>\n",
       "      <th>WATERBODY</th>\n",
       "      <th>MIDAS</th>\n",
       "      <th>NAME_FL</th>\n",
       "      <th>FNAME</th>\n",
       "      <th>LNAME</th>\n",
       "      <th>INSPECTOR_ID</th>\n",
       "      <th>PAY_VOL</th>\n",
       "      <th>SHIFT_START</th>\n",
       "      <th>TRAILERS</th>\n",
       "      <th>INSPECTIONS</th>\n",
       "      <th>SHIFT_END</th>\n",
       "      <th>SHIFT_LENGTH</th>\n",
       "      <th>TOTALINSP</th>\n",
       "    </tr>\n",
       "  </thead>\n",
       "  <tbody>\n",
       "    <tr>\n",
       "      <th>0</th>\n",
       "      <td>5/28/2021</td>\n",
       "      <td>Fri</td>\n",
       "      <td>Launch Drive</td>\n",
       "      <td>Monmouth</td>\n",
       "      <td>698</td>\n",
       "      <td>Cobbosseecontee Lake</td>\n",
       "      <td>5236</td>\n",
       "      <td>Kathryn Ross</td>\n",
       "      <td>Kathryn</td>\n",
       "      <td>Ross</td>\n",
       "      <td>4771</td>\n",
       "      <td>Paid</td>\n",
       "      <td>12:00</td>\n",
       "      <td>10.0</td>\n",
       "      <td>Yes</td>\n",
       "      <td>18:00</td>\n",
       "      <td>360</td>\n",
       "      <td>33</td>\n",
       "    </tr>\n",
       "  </tbody>\n",
       "</table>\n",
       "</div>"
      ],
      "text/plain": [
       "       DATE1 DAY_OF_WEEK     SITE_NAME      TOWN  WATER_REGION_ID  \\\n",
       "0  5/28/2021         Fri  Launch Drive  Monmouth              698   \n",
       "\n",
       "              WATERBODY  MIDAS       NAME_FL    FNAME LNAME  INSPECTOR_ID  \\\n",
       "0  Cobbosseecontee Lake   5236  Kathryn Ross  Kathryn  Ross          4771   \n",
       "\n",
       "  PAY_VOL SHIFT_START  TRAILERS INSPECTIONS SHIFT_END  SHIFT_LENGTH  TOTALINSP  \n",
       "0    Paid       12:00      10.0         Yes     18:00           360         33  "
      ]
     },
     "execution_count": 15,
     "metadata": {},
     "output_type": "execute_result"
    }
   ],
   "source": [
    "df_2022.head(1)"
   ]
  },
  {
   "cell_type": "code",
   "execution_count": 16,
   "id": "2bb1ee0a-7cc2-4968-89f8-e3f13421091e",
   "metadata": {
    "tags": []
   },
   "outputs": [],
   "source": [
    "df_2022.drop(columns=['WATER_REGION_ID', 'MIDAS', 'NAME_FL', 'FNAME', 'LNAME', 'INSPECTIONS'], inplace=True)"
   ]
  },
  {
   "cell_type": "code",
   "execution_count": 17,
   "id": "efa4202d-5949-4a43-b4f6-2722a99472dc",
   "metadata": {
    "tags": []
   },
   "outputs": [
    {
     "data": {
      "text/html": [
       "<div>\n",
       "<style scoped>\n",
       "    .dataframe tbody tr th:only-of-type {\n",
       "        vertical-align: middle;\n",
       "    }\n",
       "\n",
       "    .dataframe tbody tr th {\n",
       "        vertical-align: top;\n",
       "    }\n",
       "\n",
       "    .dataframe thead th {\n",
       "        text-align: right;\n",
       "    }\n",
       "</style>\n",
       "<table border=\"1\" class=\"dataframe\">\n",
       "  <thead>\n",
       "    <tr style=\"text-align: right;\">\n",
       "      <th></th>\n",
       "      <th>DATE1</th>\n",
       "      <th>DAY_OF_WEEK</th>\n",
       "      <th>SITE_NAME</th>\n",
       "      <th>TOWN</th>\n",
       "      <th>WATERBODY</th>\n",
       "      <th>INSPECTOR_ID</th>\n",
       "      <th>PAY_VOL</th>\n",
       "      <th>SHIFT_START</th>\n",
       "      <th>TRAILERS</th>\n",
       "      <th>SHIFT_END</th>\n",
       "      <th>SHIFT_LENGTH</th>\n",
       "      <th>TOTALINSP</th>\n",
       "    </tr>\n",
       "  </thead>\n",
       "  <tbody>\n",
       "    <tr>\n",
       "      <th>0</th>\n",
       "      <td>5/28/2021</td>\n",
       "      <td>Fri</td>\n",
       "      <td>Launch Drive</td>\n",
       "      <td>Monmouth</td>\n",
       "      <td>Cobbosseecontee Lake</td>\n",
       "      <td>4771</td>\n",
       "      <td>Paid</td>\n",
       "      <td>12:00</td>\n",
       "      <td>10.0</td>\n",
       "      <td>18:00</td>\n",
       "      <td>360</td>\n",
       "      <td>33</td>\n",
       "    </tr>\n",
       "  </tbody>\n",
       "</table>\n",
       "</div>"
      ],
      "text/plain": [
       "       DATE1 DAY_OF_WEEK     SITE_NAME      TOWN             WATERBODY  \\\n",
       "0  5/28/2021         Fri  Launch Drive  Monmouth  Cobbosseecontee Lake   \n",
       "\n",
       "   INSPECTOR_ID PAY_VOL SHIFT_START  TRAILERS SHIFT_END  SHIFT_LENGTH  \\\n",
       "0          4771    Paid       12:00      10.0     18:00           360   \n",
       "\n",
       "   TOTALINSP  \n",
       "0         33  "
      ]
     },
     "execution_count": 17,
     "metadata": {},
     "output_type": "execute_result"
    }
   ],
   "source": [
    "df_2022.head(1)"
   ]
  },
  {
   "cell_type": "code",
   "execution_count": 18,
   "id": "f117293d-33e6-4661-85a3-4eaadc88fd10",
   "metadata": {
    "tags": []
   },
   "outputs": [],
   "source": [
    "weather = pd.read_csv('data/weather.csv')"
   ]
  },
  {
   "cell_type": "code",
   "execution_count": 19,
   "id": "61ed8fe5-c18c-43bf-8fce-aca0518b0704",
   "metadata": {
    "tags": []
   },
   "outputs": [
    {
     "data": {
      "text/html": [
       "<div>\n",
       "<style scoped>\n",
       "    .dataframe tbody tr th:only-of-type {\n",
       "        vertical-align: middle;\n",
       "    }\n",
       "\n",
       "    .dataframe tbody tr th {\n",
       "        vertical-align: top;\n",
       "    }\n",
       "\n",
       "    .dataframe thead th {\n",
       "        text-align: right;\n",
       "    }\n",
       "</style>\n",
       "<table border=\"1\" class=\"dataframe\">\n",
       "  <thead>\n",
       "    <tr style=\"text-align: right;\">\n",
       "      <th></th>\n",
       "      <th>STATION</th>\n",
       "      <th>NAME</th>\n",
       "      <th>LATITUDE</th>\n",
       "      <th>LONGITUDE</th>\n",
       "      <th>ELEVATION</th>\n",
       "      <th>DATE</th>\n",
       "      <th>DAPR</th>\n",
       "      <th>MDPR</th>\n",
       "      <th>PRCP</th>\n",
       "      <th>SNOW</th>\n",
       "      <th>SNWD</th>\n",
       "      <th>TMAX</th>\n",
       "      <th>TMIN</th>\n",
       "      <th>TOBS</th>\n",
       "      <th>WT01</th>\n",
       "      <th>WT03</th>\n",
       "      <th>WT04</th>\n",
       "      <th>WT05</th>\n",
       "      <th>WT06</th>\n",
       "      <th>WT11</th>\n",
       "    </tr>\n",
       "  </thead>\n",
       "  <tbody>\n",
       "    <tr>\n",
       "      <th>0</th>\n",
       "      <td>USC00179721</td>\n",
       "      <td>WINTHROP, ME US</td>\n",
       "      <td>44.30656</td>\n",
       "      <td>-69.97016</td>\n",
       "      <td>63.4</td>\n",
       "      <td>2021-01-01</td>\n",
       "      <td>NaN</td>\n",
       "      <td>NaN</td>\n",
       "      <td>0.0</td>\n",
       "      <td>0.0</td>\n",
       "      <td>0.0</td>\n",
       "      <td>42.0</td>\n",
       "      <td>20.0</td>\n",
       "      <td>25.0</td>\n",
       "      <td>NaN</td>\n",
       "      <td>NaN</td>\n",
       "      <td>NaN</td>\n",
       "      <td>NaN</td>\n",
       "      <td>NaN</td>\n",
       "      <td>NaN</td>\n",
       "    </tr>\n",
       "  </tbody>\n",
       "</table>\n",
       "</div>"
      ],
      "text/plain": [
       "       STATION             NAME  LATITUDE  LONGITUDE  ELEVATION        DATE  \\\n",
       "0  USC00179721  WINTHROP, ME US  44.30656  -69.97016       63.4  2021-01-01   \n",
       "\n",
       "   DAPR  MDPR  PRCP  SNOW  SNWD  TMAX  TMIN  TOBS  WT01  WT03  WT04  WT05  \\\n",
       "0   NaN   NaN   0.0   0.0   0.0  42.0  20.0  25.0   NaN   NaN   NaN   NaN   \n",
       "\n",
       "   WT06  WT11  \n",
       "0   NaN   NaN  "
      ]
     },
     "execution_count": 19,
     "metadata": {},
     "output_type": "execute_result"
    }
   ],
   "source": [
    "weather.head(1)"
   ]
  },
  {
   "cell_type": "code",
   "execution_count": 20,
   "id": "63c1f608-a3ca-4820-81ba-c5c48c2539da",
   "metadata": {
    "tags": []
   },
   "outputs": [],
   "source": [
    "weather.drop(columns=['STATION', 'LATITUDE', 'LONGITUDE', 'ELEVATION', 'DAPR', 'MDPR', 'SNWD', 'WT01', 'WT03', 'WT04', 'WT05', 'WT06', 'WT11', 'SNOW', 'TOBS'], inplace=True) "
   ]
  },
  {
   "cell_type": "code",
   "execution_count": 21,
   "id": "f2963576-f571-421a-bc01-b4d95b56cfd7",
   "metadata": {
    "tags": []
   },
   "outputs": [
    {
     "data": {
      "text/html": [
       "<div>\n",
       "<style scoped>\n",
       "    .dataframe tbody tr th:only-of-type {\n",
       "        vertical-align: middle;\n",
       "    }\n",
       "\n",
       "    .dataframe tbody tr th {\n",
       "        vertical-align: top;\n",
       "    }\n",
       "\n",
       "    .dataframe thead th {\n",
       "        text-align: right;\n",
       "    }\n",
       "</style>\n",
       "<table border=\"1\" class=\"dataframe\">\n",
       "  <thead>\n",
       "    <tr style=\"text-align: right;\">\n",
       "      <th></th>\n",
       "      <th>NAME</th>\n",
       "      <th>DATE</th>\n",
       "      <th>PRCP</th>\n",
       "      <th>TMAX</th>\n",
       "      <th>TMIN</th>\n",
       "    </tr>\n",
       "  </thead>\n",
       "  <tbody>\n",
       "    <tr>\n",
       "      <th>0</th>\n",
       "      <td>WINTHROP, ME US</td>\n",
       "      <td>2021-01-01</td>\n",
       "      <td>0.00</td>\n",
       "      <td>42.0</td>\n",
       "      <td>20.0</td>\n",
       "    </tr>\n",
       "    <tr>\n",
       "      <th>1</th>\n",
       "      <td>WINTHROP, ME US</td>\n",
       "      <td>2021-01-03</td>\n",
       "      <td>NaN</td>\n",
       "      <td>NaN</td>\n",
       "      <td>NaN</td>\n",
       "    </tr>\n",
       "    <tr>\n",
       "      <th>2</th>\n",
       "      <td>WINTHROP, ME US</td>\n",
       "      <td>2021-01-04</td>\n",
       "      <td>0.00</td>\n",
       "      <td>34.0</td>\n",
       "      <td>26.0</td>\n",
       "    </tr>\n",
       "    <tr>\n",
       "      <th>3</th>\n",
       "      <td>WINTHROP, ME US</td>\n",
       "      <td>2021-01-05</td>\n",
       "      <td>0.04</td>\n",
       "      <td>35.0</td>\n",
       "      <td>28.0</td>\n",
       "    </tr>\n",
       "    <tr>\n",
       "      <th>4</th>\n",
       "      <td>WINTHROP, ME US</td>\n",
       "      <td>2021-01-06</td>\n",
       "      <td>0.03</td>\n",
       "      <td>32.0</td>\n",
       "      <td>25.0</td>\n",
       "    </tr>\n",
       "  </tbody>\n",
       "</table>\n",
       "</div>"
      ],
      "text/plain": [
       "              NAME        DATE  PRCP  TMAX  TMIN\n",
       "0  WINTHROP, ME US  2021-01-01  0.00  42.0  20.0\n",
       "1  WINTHROP, ME US  2021-01-03   NaN   NaN   NaN\n",
       "2  WINTHROP, ME US  2021-01-04  0.00  34.0  26.0\n",
       "3  WINTHROP, ME US  2021-01-05  0.04  35.0  28.0\n",
       "4  WINTHROP, ME US  2021-01-06  0.03  32.0  25.0"
      ]
     },
     "execution_count": 21,
     "metadata": {},
     "output_type": "execute_result"
    }
   ],
   "source": [
    "weather.head()"
   ]
  },
  {
   "cell_type": "code",
   "execution_count": 22,
   "id": "64b99754-8d05-4047-a3b4-ac7411253a97",
   "metadata": {
    "tags": []
   },
   "outputs": [
    {
     "data": {
      "text/plain": [
       "READFIELD 2.0 NNE, ME US    1050\n",
       "WINTHROP, ME US             1037\n",
       "WAYNE 3.2 SSE, ME US         988\n",
       "WINTHROP 1.8 WSW, ME US      301\n",
       "WINTHROP 5.8 NE, ME US       107\n",
       "Name: NAME, dtype: int64"
      ]
     },
     "execution_count": 22,
     "metadata": {},
     "output_type": "execute_result"
    }
   ],
   "source": [
    "weather.NAME.value_counts()"
   ]
  },
  {
   "cell_type": "code",
   "execution_count": 23,
   "id": "12af89f0-d750-4a92-a36c-fc1e12a16a03",
   "metadata": {
    "tags": []
   },
   "outputs": [
    {
     "data": {
      "text/plain": [
       "NAME       0\n",
       "DATE       0\n",
       "PRCP      44\n",
       "TMAX    2542\n",
       "TMIN    2537\n",
       "dtype: int64"
      ]
     },
     "execution_count": 23,
     "metadata": {},
     "output_type": "execute_result"
    }
   ],
   "source": [
    "weather.isna().sum()"
   ]
  },
  {
   "cell_type": "code",
   "execution_count": 24,
   "id": "207a2957-6c2f-4a07-9469-610f75d28998",
   "metadata": {
    "tags": []
   },
   "outputs": [
    {
     "data": {
      "text/plain": [
       "(3483, 5)"
      ]
     },
     "execution_count": 24,
     "metadata": {},
     "output_type": "execute_result"
    }
   ],
   "source": [
    "weather.shape"
   ]
  },
  {
   "cell_type": "code",
   "execution_count": 25,
   "id": "7abc7315-8837-4100-9e17-344c8fa70107",
   "metadata": {
    "tags": []
   },
   "outputs": [],
   "source": [
    "#weather.dropna(inplace=True)"
   ]
  },
  {
   "cell_type": "code",
   "execution_count": 26,
   "id": "d46876b6-9d79-4414-8e79-01b423b38942",
   "metadata": {
    "tags": []
   },
   "outputs": [],
   "source": [
    "#weather.shape"
   ]
  },
  {
   "cell_type": "code",
   "execution_count": 27,
   "id": "15303e78-b34d-4201-bb37-a3fe15c2699d",
   "metadata": {
    "tags": []
   },
   "outputs": [
    {
     "data": {
      "text/html": [
       "<div>\n",
       "<style scoped>\n",
       "    .dataframe tbody tr th:only-of-type {\n",
       "        vertical-align: middle;\n",
       "    }\n",
       "\n",
       "    .dataframe tbody tr th {\n",
       "        vertical-align: top;\n",
       "    }\n",
       "\n",
       "    .dataframe thead th {\n",
       "        text-align: right;\n",
       "    }\n",
       "</style>\n",
       "<table border=\"1\" class=\"dataframe\">\n",
       "  <thead>\n",
       "    <tr style=\"text-align: right;\">\n",
       "      <th></th>\n",
       "      <th>PRCP</th>\n",
       "      <th>TMAX</th>\n",
       "      <th>TMIN</th>\n",
       "    </tr>\n",
       "  </thead>\n",
       "  <tbody>\n",
       "    <tr>\n",
       "      <th>count</th>\n",
       "      <td>3439.000000</td>\n",
       "      <td>941.000000</td>\n",
       "      <td>946.000000</td>\n",
       "    </tr>\n",
       "    <tr>\n",
       "      <th>mean</th>\n",
       "      <td>0.131329</td>\n",
       "      <td>61.587673</td>\n",
       "      <td>41.734672</td>\n",
       "    </tr>\n",
       "    <tr>\n",
       "      <th>std</th>\n",
       "      <td>0.345630</td>\n",
       "      <td>19.305771</td>\n",
       "      <td>18.332104</td>\n",
       "    </tr>\n",
       "    <tr>\n",
       "      <th>min</th>\n",
       "      <td>0.000000</td>\n",
       "      <td>8.000000</td>\n",
       "      <td>-17.000000</td>\n",
       "    </tr>\n",
       "    <tr>\n",
       "      <th>25%</th>\n",
       "      <td>0.000000</td>\n",
       "      <td>46.000000</td>\n",
       "      <td>28.000000</td>\n",
       "    </tr>\n",
       "    <tr>\n",
       "      <th>50%</th>\n",
       "      <td>0.000000</td>\n",
       "      <td>65.000000</td>\n",
       "      <td>44.500000</td>\n",
       "    </tr>\n",
       "    <tr>\n",
       "      <th>75%</th>\n",
       "      <td>0.080000</td>\n",
       "      <td>78.000000</td>\n",
       "      <td>57.000000</td>\n",
       "    </tr>\n",
       "    <tr>\n",
       "      <th>max</th>\n",
       "      <td>5.150000</td>\n",
       "      <td>95.000000</td>\n",
       "      <td>74.000000</td>\n",
       "    </tr>\n",
       "  </tbody>\n",
       "</table>\n",
       "</div>"
      ],
      "text/plain": [
       "              PRCP        TMAX        TMIN\n",
       "count  3439.000000  941.000000  946.000000\n",
       "mean      0.131329   61.587673   41.734672\n",
       "std       0.345630   19.305771   18.332104\n",
       "min       0.000000    8.000000  -17.000000\n",
       "25%       0.000000   46.000000   28.000000\n",
       "50%       0.000000   65.000000   44.500000\n",
       "75%       0.080000   78.000000   57.000000\n",
       "max       5.150000   95.000000   74.000000"
      ]
     },
     "execution_count": 27,
     "metadata": {},
     "output_type": "execute_result"
    }
   ],
   "source": [
    "weather.describe()"
   ]
  },
  {
   "cell_type": "code",
   "execution_count": 28,
   "id": "7a7aa1f3-3e00-4f60-9d2f-bd4cf7b97c11",
   "metadata": {
    "tags": []
   },
   "outputs": [],
   "source": [
    "weather = weather[weather['NAME']== 'WINTHROP, ME US']"
   ]
  },
  {
   "cell_type": "code",
   "execution_count": 29,
   "id": "71551f86-3f09-4500-861d-cdbf62da4112",
   "metadata": {
    "tags": []
   },
   "outputs": [
    {
     "data": {
      "text/plain": [
       "(1037, 5)"
      ]
     },
     "execution_count": 29,
     "metadata": {},
     "output_type": "execute_result"
    }
   ],
   "source": [
    "weather.shape"
   ]
  },
  {
   "cell_type": "code",
   "execution_count": 30,
   "id": "ac72ac52-abee-4b11-aada-c45536f19490",
   "metadata": {
    "tags": []
   },
   "outputs": [
    {
     "data": {
      "text/plain": [
       "NAME     0\n",
       "DATE     0\n",
       "PRCP    22\n",
       "TMAX    96\n",
       "TMIN    91\n",
       "dtype: int64"
      ]
     },
     "execution_count": 30,
     "metadata": {},
     "output_type": "execute_result"
    }
   ],
   "source": [
    "weather.isna().sum()"
   ]
  },
  {
   "cell_type": "code",
   "execution_count": 31,
   "id": "01a0367d-0352-4cab-9aab-896f494e1aab",
   "metadata": {
    "tags": []
   },
   "outputs": [],
   "source": [
    "weather.fillna(method='bfill', inplace=True)"
   ]
  },
  {
   "cell_type": "code",
   "execution_count": 32,
   "id": "e5cdc504-7aab-47f6-aec5-8d913d4217b6",
   "metadata": {
    "tags": []
   },
   "outputs": [
    {
     "data": {
      "text/plain": [
       "NAME    0\n",
       "DATE    0\n",
       "PRCP    0\n",
       "TMAX    0\n",
       "TMIN    0\n",
       "dtype: int64"
      ]
     },
     "execution_count": 32,
     "metadata": {},
     "output_type": "execute_result"
    }
   ],
   "source": [
    "weather.isna().sum()"
   ]
  },
  {
   "cell_type": "code",
   "execution_count": 33,
   "id": "dc96f741-896d-43fe-907a-de81fd2f71d7",
   "metadata": {
    "tags": []
   },
   "outputs": [
    {
     "data": {
      "text/html": [
       "<div>\n",
       "<style scoped>\n",
       "    .dataframe tbody tr th:only-of-type {\n",
       "        vertical-align: middle;\n",
       "    }\n",
       "\n",
       "    .dataframe tbody tr th {\n",
       "        vertical-align: top;\n",
       "    }\n",
       "\n",
       "    .dataframe thead th {\n",
       "        text-align: right;\n",
       "    }\n",
       "</style>\n",
       "<table border=\"1\" class=\"dataframe\">\n",
       "  <thead>\n",
       "    <tr style=\"text-align: right;\">\n",
       "      <th></th>\n",
       "      <th>NAME</th>\n",
       "      <th>DATE</th>\n",
       "      <th>PRCP</th>\n",
       "      <th>TMAX</th>\n",
       "      <th>TMIN</th>\n",
       "    </tr>\n",
       "  </thead>\n",
       "  <tbody>\n",
       "    <tr>\n",
       "      <th>0</th>\n",
       "      <td>WINTHROP, ME US</td>\n",
       "      <td>2021-01-01</td>\n",
       "      <td>0.00</td>\n",
       "      <td>42.0</td>\n",
       "      <td>20.0</td>\n",
       "    </tr>\n",
       "    <tr>\n",
       "      <th>1</th>\n",
       "      <td>WINTHROP, ME US</td>\n",
       "      <td>2021-01-03</td>\n",
       "      <td>0.00</td>\n",
       "      <td>34.0</td>\n",
       "      <td>26.0</td>\n",
       "    </tr>\n",
       "    <tr>\n",
       "      <th>2</th>\n",
       "      <td>WINTHROP, ME US</td>\n",
       "      <td>2021-01-04</td>\n",
       "      <td>0.00</td>\n",
       "      <td>34.0</td>\n",
       "      <td>26.0</td>\n",
       "    </tr>\n",
       "    <tr>\n",
       "      <th>3</th>\n",
       "      <td>WINTHROP, ME US</td>\n",
       "      <td>2021-01-05</td>\n",
       "      <td>0.04</td>\n",
       "      <td>35.0</td>\n",
       "      <td>28.0</td>\n",
       "    </tr>\n",
       "    <tr>\n",
       "      <th>4</th>\n",
       "      <td>WINTHROP, ME US</td>\n",
       "      <td>2021-01-06</td>\n",
       "      <td>0.03</td>\n",
       "      <td>32.0</td>\n",
       "      <td>25.0</td>\n",
       "    </tr>\n",
       "    <tr>\n",
       "      <th>5</th>\n",
       "      <td>WINTHROP, ME US</td>\n",
       "      <td>2021-01-07</td>\n",
       "      <td>0.00</td>\n",
       "      <td>39.0</td>\n",
       "      <td>25.0</td>\n",
       "    </tr>\n",
       "    <tr>\n",
       "      <th>6</th>\n",
       "      <td>WINTHROP, ME US</td>\n",
       "      <td>2021-01-08</td>\n",
       "      <td>0.00</td>\n",
       "      <td>40.0</td>\n",
       "      <td>23.0</td>\n",
       "    </tr>\n",
       "    <tr>\n",
       "      <th>7</th>\n",
       "      <td>WINTHROP, ME US</td>\n",
       "      <td>2021-01-09</td>\n",
       "      <td>0.00</td>\n",
       "      <td>33.0</td>\n",
       "      <td>15.0</td>\n",
       "    </tr>\n",
       "    <tr>\n",
       "      <th>8</th>\n",
       "      <td>WINTHROP, ME US</td>\n",
       "      <td>2021-01-10</td>\n",
       "      <td>0.00</td>\n",
       "      <td>33.0</td>\n",
       "      <td>15.0</td>\n",
       "    </tr>\n",
       "    <tr>\n",
       "      <th>9</th>\n",
       "      <td>WINTHROP, ME US</td>\n",
       "      <td>2021-01-11</td>\n",
       "      <td>0.00</td>\n",
       "      <td>33.0</td>\n",
       "      <td>15.0</td>\n",
       "    </tr>\n",
       "    <tr>\n",
       "      <th>10</th>\n",
       "      <td>WINTHROP, ME US</td>\n",
       "      <td>2021-01-12</td>\n",
       "      <td>0.01</td>\n",
       "      <td>33.0</td>\n",
       "      <td>15.0</td>\n",
       "    </tr>\n",
       "    <tr>\n",
       "      <th>11</th>\n",
       "      <td>WINTHROP, ME US</td>\n",
       "      <td>2021-01-13</td>\n",
       "      <td>0.00</td>\n",
       "      <td>41.0</td>\n",
       "      <td>25.0</td>\n",
       "    </tr>\n",
       "    <tr>\n",
       "      <th>12</th>\n",
       "      <td>WINTHROP, ME US</td>\n",
       "      <td>2021-01-14</td>\n",
       "      <td>0.00</td>\n",
       "      <td>37.0</td>\n",
       "      <td>22.0</td>\n",
       "    </tr>\n",
       "    <tr>\n",
       "      <th>13</th>\n",
       "      <td>WINTHROP, ME US</td>\n",
       "      <td>2021-01-15</td>\n",
       "      <td>0.00</td>\n",
       "      <td>38.0</td>\n",
       "      <td>24.0</td>\n",
       "    </tr>\n",
       "    <tr>\n",
       "      <th>14</th>\n",
       "      <td>WINTHROP, ME US</td>\n",
       "      <td>2021-01-16</td>\n",
       "      <td>0.00</td>\n",
       "      <td>42.0</td>\n",
       "      <td>27.0</td>\n",
       "    </tr>\n",
       "    <tr>\n",
       "      <th>15</th>\n",
       "      <td>WINTHROP, ME US</td>\n",
       "      <td>2021-01-18</td>\n",
       "      <td>0.00</td>\n",
       "      <td>39.0</td>\n",
       "      <td>17.0</td>\n",
       "    </tr>\n",
       "    <tr>\n",
       "      <th>16</th>\n",
       "      <td>WINTHROP, ME US</td>\n",
       "      <td>2021-01-19</td>\n",
       "      <td>0.00</td>\n",
       "      <td>39.0</td>\n",
       "      <td>17.0</td>\n",
       "    </tr>\n",
       "    <tr>\n",
       "      <th>17</th>\n",
       "      <td>WINTHROP, ME US</td>\n",
       "      <td>2021-01-20</td>\n",
       "      <td>0.00</td>\n",
       "      <td>31.0</td>\n",
       "      <td>19.0</td>\n",
       "    </tr>\n",
       "    <tr>\n",
       "      <th>18</th>\n",
       "      <td>WINTHROP, ME US</td>\n",
       "      <td>2021-01-21</td>\n",
       "      <td>0.00</td>\n",
       "      <td>34.0</td>\n",
       "      <td>12.0</td>\n",
       "    </tr>\n",
       "    <tr>\n",
       "      <th>19</th>\n",
       "      <td>WINTHROP, ME US</td>\n",
       "      <td>2021-01-22</td>\n",
       "      <td>0.03</td>\n",
       "      <td>26.0</td>\n",
       "      <td>14.0</td>\n",
       "    </tr>\n",
       "    <tr>\n",
       "      <th>20</th>\n",
       "      <td>WINTHROP, ME US</td>\n",
       "      <td>2021-01-23</td>\n",
       "      <td>0.00</td>\n",
       "      <td>33.0</td>\n",
       "      <td>21.0</td>\n",
       "    </tr>\n",
       "    <tr>\n",
       "      <th>21</th>\n",
       "      <td>WINTHROP, ME US</td>\n",
       "      <td>2021-01-24</td>\n",
       "      <td>0.00</td>\n",
       "      <td>33.0</td>\n",
       "      <td>10.0</td>\n",
       "    </tr>\n",
       "    <tr>\n",
       "      <th>22</th>\n",
       "      <td>WINTHROP, ME US</td>\n",
       "      <td>2021-01-25</td>\n",
       "      <td>0.00</td>\n",
       "      <td>33.0</td>\n",
       "      <td>10.0</td>\n",
       "    </tr>\n",
       "    <tr>\n",
       "      <th>23</th>\n",
       "      <td>WINTHROP, ME US</td>\n",
       "      <td>2021-01-26</td>\n",
       "      <td>0.00</td>\n",
       "      <td>33.0</td>\n",
       "      <td>10.0</td>\n",
       "    </tr>\n",
       "    <tr>\n",
       "      <th>24</th>\n",
       "      <td>WINTHROP, ME US</td>\n",
       "      <td>2021-01-27</td>\n",
       "      <td>0.18</td>\n",
       "      <td>35.0</td>\n",
       "      <td>12.0</td>\n",
       "    </tr>\n",
       "  </tbody>\n",
       "</table>\n",
       "</div>"
      ],
      "text/plain": [
       "               NAME        DATE  PRCP  TMAX  TMIN\n",
       "0   WINTHROP, ME US  2021-01-01  0.00  42.0  20.0\n",
       "1   WINTHROP, ME US  2021-01-03  0.00  34.0  26.0\n",
       "2   WINTHROP, ME US  2021-01-04  0.00  34.0  26.0\n",
       "3   WINTHROP, ME US  2021-01-05  0.04  35.0  28.0\n",
       "4   WINTHROP, ME US  2021-01-06  0.03  32.0  25.0\n",
       "5   WINTHROP, ME US  2021-01-07  0.00  39.0  25.0\n",
       "6   WINTHROP, ME US  2021-01-08  0.00  40.0  23.0\n",
       "7   WINTHROP, ME US  2021-01-09  0.00  33.0  15.0\n",
       "8   WINTHROP, ME US  2021-01-10  0.00  33.0  15.0\n",
       "9   WINTHROP, ME US  2021-01-11  0.00  33.0  15.0\n",
       "10  WINTHROP, ME US  2021-01-12  0.01  33.0  15.0\n",
       "11  WINTHROP, ME US  2021-01-13  0.00  41.0  25.0\n",
       "12  WINTHROP, ME US  2021-01-14  0.00  37.0  22.0\n",
       "13  WINTHROP, ME US  2021-01-15  0.00  38.0  24.0\n",
       "14  WINTHROP, ME US  2021-01-16  0.00  42.0  27.0\n",
       "15  WINTHROP, ME US  2021-01-18  0.00  39.0  17.0\n",
       "16  WINTHROP, ME US  2021-01-19  0.00  39.0  17.0\n",
       "17  WINTHROP, ME US  2021-01-20  0.00  31.0  19.0\n",
       "18  WINTHROP, ME US  2021-01-21  0.00  34.0  12.0\n",
       "19  WINTHROP, ME US  2021-01-22  0.03  26.0  14.0\n",
       "20  WINTHROP, ME US  2021-01-23  0.00  33.0  21.0\n",
       "21  WINTHROP, ME US  2021-01-24  0.00  33.0  10.0\n",
       "22  WINTHROP, ME US  2021-01-25  0.00  33.0  10.0\n",
       "23  WINTHROP, ME US  2021-01-26  0.00  33.0  10.0\n",
       "24  WINTHROP, ME US  2021-01-27  0.18  35.0  12.0"
      ]
     },
     "execution_count": 33,
     "metadata": {},
     "output_type": "execute_result"
    }
   ],
   "source": [
    "weather.head(25)"
   ]
  },
  {
   "cell_type": "code",
   "execution_count": 34,
   "id": "87b6a83c-01ec-4e37-afe5-b49443765d44",
   "metadata": {
    "tags": []
   },
   "outputs": [],
   "source": [
    "weather.rename(columns={'DATE': 'DATE1'}, inplace=True)"
   ]
  },
  {
   "cell_type": "code",
   "execution_count": 35,
   "id": "3fb4cdae-b2db-4be1-9cb0-d7bb9b102916",
   "metadata": {
    "tags": []
   },
   "outputs": [
    {
     "data": {
      "text/html": [
       "<div>\n",
       "<style scoped>\n",
       "    .dataframe tbody tr th:only-of-type {\n",
       "        vertical-align: middle;\n",
       "    }\n",
       "\n",
       "    .dataframe tbody tr th {\n",
       "        vertical-align: top;\n",
       "    }\n",
       "\n",
       "    .dataframe thead th {\n",
       "        text-align: right;\n",
       "    }\n",
       "</style>\n",
       "<table border=\"1\" class=\"dataframe\">\n",
       "  <thead>\n",
       "    <tr style=\"text-align: right;\">\n",
       "      <th></th>\n",
       "      <th>NAME</th>\n",
       "      <th>DATE1</th>\n",
       "      <th>PRCP</th>\n",
       "      <th>TMAX</th>\n",
       "      <th>TMIN</th>\n",
       "    </tr>\n",
       "  </thead>\n",
       "  <tbody>\n",
       "    <tr>\n",
       "      <th>0</th>\n",
       "      <td>WINTHROP, ME US</td>\n",
       "      <td>2021-01-01</td>\n",
       "      <td>0.0</td>\n",
       "      <td>42.0</td>\n",
       "      <td>20.0</td>\n",
       "    </tr>\n",
       "  </tbody>\n",
       "</table>\n",
       "</div>"
      ],
      "text/plain": [
       "              NAME       DATE1  PRCP  TMAX  TMIN\n",
       "0  WINTHROP, ME US  2021-01-01   0.0  42.0  20.0"
      ]
     },
     "execution_count": 35,
     "metadata": {},
     "output_type": "execute_result"
    }
   ],
   "source": [
    "weather.head(1)"
   ]
  },
  {
   "cell_type": "code",
   "execution_count": 36,
   "id": "31dee370-e3f4-47c5-857a-f95c6fa7afd0",
   "metadata": {
    "tags": []
   },
   "outputs": [],
   "source": [
    "weather['DATE1'] = pd.to_datetime(weather['DATE1'])"
   ]
  },
  {
   "cell_type": "code",
   "execution_count": 37,
   "id": "1a0c1f76-51c8-4dd7-91d8-9c9d4cca4a0b",
   "metadata": {
    "tags": []
   },
   "outputs": [
    {
     "data": {
      "text/html": [
       "<div>\n",
       "<style scoped>\n",
       "    .dataframe tbody tr th:only-of-type {\n",
       "        vertical-align: middle;\n",
       "    }\n",
       "\n",
       "    .dataframe tbody tr th {\n",
       "        vertical-align: top;\n",
       "    }\n",
       "\n",
       "    .dataframe thead th {\n",
       "        text-align: right;\n",
       "    }\n",
       "</style>\n",
       "<table border=\"1\" class=\"dataframe\">\n",
       "  <thead>\n",
       "    <tr style=\"text-align: right;\">\n",
       "      <th></th>\n",
       "      <th>NAME</th>\n",
       "      <th>DATE1</th>\n",
       "      <th>PRCP</th>\n",
       "      <th>TMAX</th>\n",
       "      <th>TMIN</th>\n",
       "    </tr>\n",
       "  </thead>\n",
       "  <tbody>\n",
       "    <tr>\n",
       "      <th>0</th>\n",
       "      <td>WINTHROP, ME US</td>\n",
       "      <td>2021-01-01</td>\n",
       "      <td>0.0</td>\n",
       "      <td>42.0</td>\n",
       "      <td>20.0</td>\n",
       "    </tr>\n",
       "  </tbody>\n",
       "</table>\n",
       "</div>"
      ],
      "text/plain": [
       "              NAME      DATE1  PRCP  TMAX  TMIN\n",
       "0  WINTHROP, ME US 2021-01-01   0.0  42.0  20.0"
      ]
     },
     "execution_count": 37,
     "metadata": {},
     "output_type": "execute_result"
    }
   ],
   "source": [
    "weather.head(1)"
   ]
  },
  {
   "cell_type": "code",
   "execution_count": 38,
   "id": "551a8c99-f4c3-4d13-a4cc-9b1061f809d5",
   "metadata": {
    "tags": []
   },
   "outputs": [],
   "source": [
    "weather['DATE1'] = weather['DATE1'].dt.strftime('%m/%d/%Y')"
   ]
  },
  {
   "cell_type": "code",
   "execution_count": 39,
   "id": "935f4924-07fd-4b76-b84f-f70cc6cea7c2",
   "metadata": {
    "tags": []
   },
   "outputs": [
    {
     "data": {
      "text/html": [
       "<div>\n",
       "<style scoped>\n",
       "    .dataframe tbody tr th:only-of-type {\n",
       "        vertical-align: middle;\n",
       "    }\n",
       "\n",
       "    .dataframe tbody tr th {\n",
       "        vertical-align: top;\n",
       "    }\n",
       "\n",
       "    .dataframe thead th {\n",
       "        text-align: right;\n",
       "    }\n",
       "</style>\n",
       "<table border=\"1\" class=\"dataframe\">\n",
       "  <thead>\n",
       "    <tr style=\"text-align: right;\">\n",
       "      <th></th>\n",
       "      <th>NAME</th>\n",
       "      <th>DATE1</th>\n",
       "      <th>PRCP</th>\n",
       "      <th>TMAX</th>\n",
       "      <th>TMIN</th>\n",
       "    </tr>\n",
       "  </thead>\n",
       "  <tbody>\n",
       "    <tr>\n",
       "      <th>0</th>\n",
       "      <td>WINTHROP, ME US</td>\n",
       "      <td>01/01/2021</td>\n",
       "      <td>0.0</td>\n",
       "      <td>42.0</td>\n",
       "      <td>20.0</td>\n",
       "    </tr>\n",
       "  </tbody>\n",
       "</table>\n",
       "</div>"
      ],
      "text/plain": [
       "              NAME       DATE1  PRCP  TMAX  TMIN\n",
       "0  WINTHROP, ME US  01/01/2021   0.0  42.0  20.0"
      ]
     },
     "execution_count": 39,
     "metadata": {},
     "output_type": "execute_result"
    }
   ],
   "source": [
    "weather.head(1)"
   ]
  },
  {
   "cell_type": "code",
   "execution_count": 40,
   "id": "b7323615-d991-4d00-9430-99865bc10d95",
   "metadata": {
    "tags": []
   },
   "outputs": [],
   "source": [
    "shift_df = pd.concat([df_2022, df_2023], axis=0, ignore_index=False)"
   ]
  },
  {
   "cell_type": "code",
   "execution_count": 41,
   "id": "984fe4f3-8114-431b-88d7-49c6d40e6a00",
   "metadata": {
    "tags": []
   },
   "outputs": [
    {
     "data": {
      "text/plain": [
       "(2669, 12)"
      ]
     },
     "execution_count": 41,
     "metadata": {},
     "output_type": "execute_result"
    }
   ],
   "source": [
    "shift_df.shape"
   ]
  },
  {
   "cell_type": "code",
   "execution_count": 42,
   "id": "984215cc-8a64-42ae-b4f8-9238217cdeae",
   "metadata": {
    "tags": []
   },
   "outputs": [
    {
     "data": {
      "text/plain": [
       "DATE1            object\n",
       "DAY_OF_WEEK      object\n",
       "SITE_NAME        object\n",
       "TOWN             object\n",
       "WATERBODY        object\n",
       "INSPECTOR_ID      int64\n",
       "PAY_VOL          object\n",
       "SHIFT_START      object\n",
       "TRAILERS        float64\n",
       "SHIFT_END        object\n",
       "SHIFT_LENGTH      int64\n",
       "TOTALINSP       float64\n",
       "dtype: object"
      ]
     },
     "execution_count": 42,
     "metadata": {},
     "output_type": "execute_result"
    }
   ],
   "source": [
    "shift_df.dtypes"
   ]
  },
  {
   "cell_type": "code",
   "execution_count": 43,
   "id": "7d0c24d4-9cba-4274-a0c6-522684057b16",
   "metadata": {
    "tags": []
   },
   "outputs": [],
   "source": [
    "shift_df['DATE1'] = pd.to_datetime(shift_df['DATE1'])"
   ]
  },
  {
   "cell_type": "code",
   "execution_count": 44,
   "id": "79d062dd-a461-439c-84ba-fc4111ea96e3",
   "metadata": {
    "tags": []
   },
   "outputs": [
    {
     "data": {
      "text/plain": [
       "DATE1             0\n",
       "DAY_OF_WEEK       0\n",
       "SITE_NAME         0\n",
       "TOWN              0\n",
       "WATERBODY         0\n",
       "INSPECTOR_ID      0\n",
       "PAY_VOL           0\n",
       "SHIFT_START       0\n",
       "TRAILERS        522\n",
       "SHIFT_END         0\n",
       "SHIFT_LENGTH      0\n",
       "TOTALINSP         2\n",
       "dtype: int64"
      ]
     },
     "execution_count": 44,
     "metadata": {},
     "output_type": "execute_result"
    }
   ],
   "source": [
    "shift_df.isna().sum()"
   ]
  },
  {
   "cell_type": "code",
   "execution_count": 45,
   "id": "2ac1308e-9d0b-4275-996c-ff23c496b3b0",
   "metadata": {
    "tags": []
   },
   "outputs": [
    {
     "data": {
      "text/plain": [
       "NAME      object\n",
       "DATE1     object\n",
       "PRCP     float64\n",
       "TMAX     float64\n",
       "TMIN     float64\n",
       "dtype: object"
      ]
     },
     "execution_count": 45,
     "metadata": {},
     "output_type": "execute_result"
    }
   ],
   "source": [
    "weather.dtypes"
   ]
  },
  {
   "cell_type": "code",
   "execution_count": 46,
   "id": "f13702c4-a274-4f63-ab92-6df3d38f6465",
   "metadata": {
    "tags": []
   },
   "outputs": [],
   "source": [
    "weather['DATE1']=pd.to_datetime(weather['DATE1'])"
   ]
  },
  {
   "cell_type": "code",
   "execution_count": 47,
   "id": "19c52869-7e2b-420e-9265-e9000c36f1ba",
   "metadata": {
    "tags": []
   },
   "outputs": [],
   "source": [
    "df = pd.merge(left=shift_df, right=weather, how='left', on='DATE1')"
   ]
  },
  {
   "cell_type": "code",
   "execution_count": 48,
   "id": "25546e4c-056d-4c8b-9e30-eee8c8015e40",
   "metadata": {
    "tags": []
   },
   "outputs": [
    {
     "data": {
      "text/plain": [
       "DATE1             0\n",
       "DAY_OF_WEEK       0\n",
       "SITE_NAME         0\n",
       "TOWN              0\n",
       "WATERBODY         0\n",
       "INSPECTOR_ID      0\n",
       "PAY_VOL           0\n",
       "SHIFT_START       0\n",
       "TRAILERS        522\n",
       "SHIFT_END         0\n",
       "SHIFT_LENGTH      0\n",
       "TOTALINSP         2\n",
       "NAME              0\n",
       "PRCP              0\n",
       "TMAX              0\n",
       "TMIN              0\n",
       "dtype: int64"
      ]
     },
     "execution_count": 48,
     "metadata": {},
     "output_type": "execute_result"
    }
   ],
   "source": [
    "df.isna().sum()"
   ]
  },
  {
   "cell_type": "code",
   "execution_count": 49,
   "id": "b6e876e2-3193-41e1-8e8f-04e7da377850",
   "metadata": {
    "tags": []
   },
   "outputs": [
    {
     "data": {
      "text/html": [
       "<div>\n",
       "<style scoped>\n",
       "    .dataframe tbody tr th:only-of-type {\n",
       "        vertical-align: middle;\n",
       "    }\n",
       "\n",
       "    .dataframe tbody tr th {\n",
       "        vertical-align: top;\n",
       "    }\n",
       "\n",
       "    .dataframe thead th {\n",
       "        text-align: right;\n",
       "    }\n",
       "</style>\n",
       "<table border=\"1\" class=\"dataframe\">\n",
       "  <thead>\n",
       "    <tr style=\"text-align: right;\">\n",
       "      <th></th>\n",
       "      <th>DATE1</th>\n",
       "      <th>DAY_OF_WEEK</th>\n",
       "      <th>SITE_NAME</th>\n",
       "      <th>TOWN</th>\n",
       "      <th>WATERBODY</th>\n",
       "      <th>INSPECTOR_ID</th>\n",
       "      <th>PAY_VOL</th>\n",
       "      <th>SHIFT_START</th>\n",
       "      <th>TRAILERS</th>\n",
       "      <th>SHIFT_END</th>\n",
       "      <th>SHIFT_LENGTH</th>\n",
       "      <th>TOTALINSP</th>\n",
       "      <th>NAME</th>\n",
       "      <th>PRCP</th>\n",
       "      <th>TMAX</th>\n",
       "      <th>TMIN</th>\n",
       "    </tr>\n",
       "  </thead>\n",
       "  <tbody>\n",
       "    <tr>\n",
       "      <th>0</th>\n",
       "      <td>2021-05-28</td>\n",
       "      <td>Fri</td>\n",
       "      <td>Launch Drive</td>\n",
       "      <td>Monmouth</td>\n",
       "      <td>Cobbosseecontee Lake</td>\n",
       "      <td>4771</td>\n",
       "      <td>Paid</td>\n",
       "      <td>12:00</td>\n",
       "      <td>10.0</td>\n",
       "      <td>18:00</td>\n",
       "      <td>360</td>\n",
       "      <td>33.0</td>\n",
       "      <td>WINTHROP, ME US</td>\n",
       "      <td>0.00</td>\n",
       "      <td>72.0</td>\n",
       "      <td>45.0</td>\n",
       "    </tr>\n",
       "    <tr>\n",
       "      <th>1</th>\n",
       "      <td>2021-05-28</td>\n",
       "      <td>Fri</td>\n",
       "      <td>Whippoorwill Road</td>\n",
       "      <td>Litchfield</td>\n",
       "      <td>Woodbury Pond</td>\n",
       "      <td>4174</td>\n",
       "      <td>Paid</td>\n",
       "      <td>12:00</td>\n",
       "      <td>1.0</td>\n",
       "      <td>18:00</td>\n",
       "      <td>360</td>\n",
       "      <td>13.0</td>\n",
       "      <td>WINTHROP, ME US</td>\n",
       "      <td>0.00</td>\n",
       "      <td>72.0</td>\n",
       "      <td>45.0</td>\n",
       "    </tr>\n",
       "    <tr>\n",
       "      <th>2</th>\n",
       "      <td>2021-05-28</td>\n",
       "      <td>Fri</td>\n",
       "      <td>Augusta West Kampground</td>\n",
       "      <td>Winthrop</td>\n",
       "      <td>Annabessacook Lake</td>\n",
       "      <td>4769</td>\n",
       "      <td>Paid</td>\n",
       "      <td>12:00</td>\n",
       "      <td>0.0</td>\n",
       "      <td>18:00</td>\n",
       "      <td>360</td>\n",
       "      <td>1.0</td>\n",
       "      <td>WINTHROP, ME US</td>\n",
       "      <td>0.00</td>\n",
       "      <td>72.0</td>\n",
       "      <td>45.0</td>\n",
       "    </tr>\n",
       "    <tr>\n",
       "      <th>3</th>\n",
       "      <td>2021-05-28</td>\n",
       "      <td>Fri</td>\n",
       "      <td>East Winthrop</td>\n",
       "      <td>Winthrop</td>\n",
       "      <td>Cobbosseecontee Lake</td>\n",
       "      <td>4485</td>\n",
       "      <td>Paid</td>\n",
       "      <td>12:00</td>\n",
       "      <td>1.0</td>\n",
       "      <td>18:00</td>\n",
       "      <td>360</td>\n",
       "      <td>2.0</td>\n",
       "      <td>WINTHROP, ME US</td>\n",
       "      <td>0.00</td>\n",
       "      <td>72.0</td>\n",
       "      <td>45.0</td>\n",
       "    </tr>\n",
       "    <tr>\n",
       "      <th>4</th>\n",
       "      <td>2021-05-29</td>\n",
       "      <td>Sat</td>\n",
       "      <td>Thorofare Rd</td>\n",
       "      <td>Litchfield</td>\n",
       "      <td>Pleasant Pond</td>\n",
       "      <td>4944</td>\n",
       "      <td>Paid</td>\n",
       "      <td>7:00</td>\n",
       "      <td>1.0</td>\n",
       "      <td>17:00</td>\n",
       "      <td>600</td>\n",
       "      <td>11.0</td>\n",
       "      <td>WINTHROP, ME US</td>\n",
       "      <td>0.02</td>\n",
       "      <td>62.0</td>\n",
       "      <td>45.0</td>\n",
       "    </tr>\n",
       "  </tbody>\n",
       "</table>\n",
       "</div>"
      ],
      "text/plain": [
       "       DATE1 DAY_OF_WEEK                SITE_NAME        TOWN  \\\n",
       "0 2021-05-28         Fri             Launch Drive    Monmouth   \n",
       "1 2021-05-28         Fri        Whippoorwill Road  Litchfield   \n",
       "2 2021-05-28         Fri  Augusta West Kampground    Winthrop   \n",
       "3 2021-05-28         Fri            East Winthrop    Winthrop   \n",
       "4 2021-05-29         Sat             Thorofare Rd  Litchfield   \n",
       "\n",
       "              WATERBODY  INSPECTOR_ID PAY_VOL SHIFT_START  TRAILERS SHIFT_END  \\\n",
       "0  Cobbosseecontee Lake          4771    Paid       12:00      10.0     18:00   \n",
       "1         Woodbury Pond          4174    Paid       12:00       1.0     18:00   \n",
       "2    Annabessacook Lake          4769    Paid       12:00       0.0     18:00   \n",
       "3  Cobbosseecontee Lake          4485    Paid       12:00       1.0     18:00   \n",
       "4         Pleasant Pond          4944    Paid        7:00       1.0     17:00   \n",
       "\n",
       "   SHIFT_LENGTH  TOTALINSP             NAME  PRCP  TMAX  TMIN  \n",
       "0           360       33.0  WINTHROP, ME US  0.00  72.0  45.0  \n",
       "1           360       13.0  WINTHROP, ME US  0.00  72.0  45.0  \n",
       "2           360        1.0  WINTHROP, ME US  0.00  72.0  45.0  \n",
       "3           360        2.0  WINTHROP, ME US  0.00  72.0  45.0  \n",
       "4           600       11.0  WINTHROP, ME US  0.02  62.0  45.0  "
      ]
     },
     "execution_count": 49,
     "metadata": {},
     "output_type": "execute_result"
    }
   ],
   "source": [
    "df.head()"
   ]
  },
  {
   "cell_type": "code",
   "execution_count": 56,
   "id": "eb47145c-d9ff-48e8-87d8-a31a3e251a24",
   "metadata": {
    "tags": []
   },
   "outputs": [],
   "source": [
    "df.to_csv('data/df1_with_weather.csv', index=False)"
   ]
  },
  {
   "cell_type": "code",
   "execution_count": 51,
   "id": "b8a5a974-d463-4cd9-96e2-680c376d391a",
   "metadata": {},
   "outputs": [
    {
     "data": {
      "text/html": [
       "<div>\n",
       "<style scoped>\n",
       "    .dataframe tbody tr th:only-of-type {\n",
       "        vertical-align: middle;\n",
       "    }\n",
       "\n",
       "    .dataframe tbody tr th {\n",
       "        vertical-align: top;\n",
       "    }\n",
       "\n",
       "    .dataframe thead th {\n",
       "        text-align: right;\n",
       "    }\n",
       "</style>\n",
       "<table border=\"1\" class=\"dataframe\">\n",
       "  <thead>\n",
       "    <tr style=\"text-align: right;\">\n",
       "      <th></th>\n",
       "      <th>DATE1</th>\n",
       "      <th>DAY_OF_WEEK</th>\n",
       "      <th>SITE_NAME</th>\n",
       "      <th>TOWN</th>\n",
       "      <th>WATERBODY</th>\n",
       "      <th>INSPECTOR_ID</th>\n",
       "      <th>PAY_VOL</th>\n",
       "      <th>SHIFT_START</th>\n",
       "      <th>TRAILERS</th>\n",
       "      <th>SHIFT_END</th>\n",
       "      <th>SHIFT_LENGTH</th>\n",
       "      <th>TOTALINSP</th>\n",
       "      <th>NAME</th>\n",
       "      <th>PRCP</th>\n",
       "      <th>TMAX</th>\n",
       "      <th>TMIN</th>\n",
       "    </tr>\n",
       "  </thead>\n",
       "  <tbody>\n",
       "    <tr>\n",
       "      <th>0</th>\n",
       "      <td>2021-05-28</td>\n",
       "      <td>Fri</td>\n",
       "      <td>Launch Drive</td>\n",
       "      <td>Monmouth</td>\n",
       "      <td>Cobbosseecontee Lake</td>\n",
       "      <td>4771</td>\n",
       "      <td>Paid</td>\n",
       "      <td>12:00</td>\n",
       "      <td>10.0</td>\n",
       "      <td>18:00</td>\n",
       "      <td>360</td>\n",
       "      <td>33.0</td>\n",
       "      <td>WINTHROP, ME US</td>\n",
       "      <td>0.00</td>\n",
       "      <td>72.0</td>\n",
       "      <td>45.0</td>\n",
       "    </tr>\n",
       "    <tr>\n",
       "      <th>1</th>\n",
       "      <td>2021-05-28</td>\n",
       "      <td>Fri</td>\n",
       "      <td>Whippoorwill Road</td>\n",
       "      <td>Litchfield</td>\n",
       "      <td>Woodbury Pond</td>\n",
       "      <td>4174</td>\n",
       "      <td>Paid</td>\n",
       "      <td>12:00</td>\n",
       "      <td>1.0</td>\n",
       "      <td>18:00</td>\n",
       "      <td>360</td>\n",
       "      <td>13.0</td>\n",
       "      <td>WINTHROP, ME US</td>\n",
       "      <td>0.00</td>\n",
       "      <td>72.0</td>\n",
       "      <td>45.0</td>\n",
       "    </tr>\n",
       "    <tr>\n",
       "      <th>2</th>\n",
       "      <td>2021-05-28</td>\n",
       "      <td>Fri</td>\n",
       "      <td>Augusta West Kampground</td>\n",
       "      <td>Winthrop</td>\n",
       "      <td>Annabessacook Lake</td>\n",
       "      <td>4769</td>\n",
       "      <td>Paid</td>\n",
       "      <td>12:00</td>\n",
       "      <td>0.0</td>\n",
       "      <td>18:00</td>\n",
       "      <td>360</td>\n",
       "      <td>1.0</td>\n",
       "      <td>WINTHROP, ME US</td>\n",
       "      <td>0.00</td>\n",
       "      <td>72.0</td>\n",
       "      <td>45.0</td>\n",
       "    </tr>\n",
       "    <tr>\n",
       "      <th>3</th>\n",
       "      <td>2021-05-28</td>\n",
       "      <td>Fri</td>\n",
       "      <td>East Winthrop</td>\n",
       "      <td>Winthrop</td>\n",
       "      <td>Cobbosseecontee Lake</td>\n",
       "      <td>4485</td>\n",
       "      <td>Paid</td>\n",
       "      <td>12:00</td>\n",
       "      <td>1.0</td>\n",
       "      <td>18:00</td>\n",
       "      <td>360</td>\n",
       "      <td>2.0</td>\n",
       "      <td>WINTHROP, ME US</td>\n",
       "      <td>0.00</td>\n",
       "      <td>72.0</td>\n",
       "      <td>45.0</td>\n",
       "    </tr>\n",
       "    <tr>\n",
       "      <th>4</th>\n",
       "      <td>2021-05-29</td>\n",
       "      <td>Sat</td>\n",
       "      <td>Thorofare Rd</td>\n",
       "      <td>Litchfield</td>\n",
       "      <td>Pleasant Pond</td>\n",
       "      <td>4944</td>\n",
       "      <td>Paid</td>\n",
       "      <td>7:00</td>\n",
       "      <td>1.0</td>\n",
       "      <td>17:00</td>\n",
       "      <td>600</td>\n",
       "      <td>11.0</td>\n",
       "      <td>WINTHROP, ME US</td>\n",
       "      <td>0.02</td>\n",
       "      <td>62.0</td>\n",
       "      <td>45.0</td>\n",
       "    </tr>\n",
       "  </tbody>\n",
       "</table>\n",
       "</div>"
      ],
      "text/plain": [
       "       DATE1 DAY_OF_WEEK                SITE_NAME        TOWN  \\\n",
       "0 2021-05-28         Fri             Launch Drive    Monmouth   \n",
       "1 2021-05-28         Fri        Whippoorwill Road  Litchfield   \n",
       "2 2021-05-28         Fri  Augusta West Kampground    Winthrop   \n",
       "3 2021-05-28         Fri            East Winthrop    Winthrop   \n",
       "4 2021-05-29         Sat             Thorofare Rd  Litchfield   \n",
       "\n",
       "              WATERBODY  INSPECTOR_ID PAY_VOL SHIFT_START  TRAILERS SHIFT_END  \\\n",
       "0  Cobbosseecontee Lake          4771    Paid       12:00      10.0     18:00   \n",
       "1         Woodbury Pond          4174    Paid       12:00       1.0     18:00   \n",
       "2    Annabessacook Lake          4769    Paid       12:00       0.0     18:00   \n",
       "3  Cobbosseecontee Lake          4485    Paid       12:00       1.0     18:00   \n",
       "4         Pleasant Pond          4944    Paid        7:00       1.0     17:00   \n",
       "\n",
       "   SHIFT_LENGTH  TOTALINSP             NAME  PRCP  TMAX  TMIN  \n",
       "0           360       33.0  WINTHROP, ME US  0.00  72.0  45.0  \n",
       "1           360       13.0  WINTHROP, ME US  0.00  72.0  45.0  \n",
       "2           360        1.0  WINTHROP, ME US  0.00  72.0  45.0  \n",
       "3           360        2.0  WINTHROP, ME US  0.00  72.0  45.0  \n",
       "4           600       11.0  WINTHROP, ME US  0.02  62.0  45.0  "
      ]
     },
     "execution_count": 51,
     "metadata": {},
     "output_type": "execute_result"
    }
   ],
   "source": [
    "df.head()"
   ]
  },
  {
   "cell_type": "code",
   "execution_count": 52,
   "id": "a5725c36-287e-45ca-8d61-cb8107ac64d6",
   "metadata": {
    "tags": []
   },
   "outputs": [
    {
     "data": {
      "text/plain": [
       "5652    202\n",
       "4174    131\n",
       "5670    116\n",
       "3796    113\n",
       "5006    111\n",
       "       ... \n",
       "5632      1\n",
       "5642      1\n",
       "5368      1\n",
       "5675      1\n",
       "6033      1\n",
       "Name: INSPECTOR_ID, Length: 114, dtype: int64"
      ]
     },
     "execution_count": 52,
     "metadata": {},
     "output_type": "execute_result"
    }
   ],
   "source": [
    "df.INSPECTOR_ID.value_counts()"
   ]
  },
  {
   "cell_type": "code",
   "execution_count": 53,
   "id": "021eb5d7-f1d1-4fae-97ed-ac6cb2d70d44",
   "metadata": {
    "tags": []
   },
   "outputs": [],
   "source": [
    "df['ID_COUNT'] = df.groupby('INSPECTOR_ID')['INSPECTOR_ID'].transform('count')"
   ]
  },
  {
   "cell_type": "code",
   "execution_count": 54,
   "id": "70d0b67c-b2bf-4a3e-98e8-00a73a852337",
   "metadata": {
    "tags": []
   },
   "outputs": [
    {
     "data": {
      "text/html": [
       "<div>\n",
       "<style scoped>\n",
       "    .dataframe tbody tr th:only-of-type {\n",
       "        vertical-align: middle;\n",
       "    }\n",
       "\n",
       "    .dataframe tbody tr th {\n",
       "        vertical-align: top;\n",
       "    }\n",
       "\n",
       "    .dataframe thead th {\n",
       "        text-align: right;\n",
       "    }\n",
       "</style>\n",
       "<table border=\"1\" class=\"dataframe\">\n",
       "  <thead>\n",
       "    <tr style=\"text-align: right;\">\n",
       "      <th></th>\n",
       "      <th>DATE1</th>\n",
       "      <th>DAY_OF_WEEK</th>\n",
       "      <th>SITE_NAME</th>\n",
       "      <th>TOWN</th>\n",
       "      <th>WATERBODY</th>\n",
       "      <th>INSPECTOR_ID</th>\n",
       "      <th>PAY_VOL</th>\n",
       "      <th>SHIFT_START</th>\n",
       "      <th>TRAILERS</th>\n",
       "      <th>SHIFT_END</th>\n",
       "      <th>SHIFT_LENGTH</th>\n",
       "      <th>TOTALINSP</th>\n",
       "      <th>NAME</th>\n",
       "      <th>PRCP</th>\n",
       "      <th>TMAX</th>\n",
       "      <th>TMIN</th>\n",
       "      <th>ID_COUNT</th>\n",
       "    </tr>\n",
       "  </thead>\n",
       "  <tbody>\n",
       "    <tr>\n",
       "      <th>0</th>\n",
       "      <td>2021-05-28</td>\n",
       "      <td>Fri</td>\n",
       "      <td>Launch Drive</td>\n",
       "      <td>Monmouth</td>\n",
       "      <td>Cobbosseecontee Lake</td>\n",
       "      <td>4771</td>\n",
       "      <td>Paid</td>\n",
       "      <td>12:00</td>\n",
       "      <td>10.0</td>\n",
       "      <td>18:00</td>\n",
       "      <td>360</td>\n",
       "      <td>33.0</td>\n",
       "      <td>WINTHROP, ME US</td>\n",
       "      <td>0.00</td>\n",
       "      <td>72.0</td>\n",
       "      <td>45.0</td>\n",
       "      <td>55</td>\n",
       "    </tr>\n",
       "    <tr>\n",
       "      <th>1</th>\n",
       "      <td>2021-05-28</td>\n",
       "      <td>Fri</td>\n",
       "      <td>Whippoorwill Road</td>\n",
       "      <td>Litchfield</td>\n",
       "      <td>Woodbury Pond</td>\n",
       "      <td>4174</td>\n",
       "      <td>Paid</td>\n",
       "      <td>12:00</td>\n",
       "      <td>1.0</td>\n",
       "      <td>18:00</td>\n",
       "      <td>360</td>\n",
       "      <td>13.0</td>\n",
       "      <td>WINTHROP, ME US</td>\n",
       "      <td>0.00</td>\n",
       "      <td>72.0</td>\n",
       "      <td>45.0</td>\n",
       "      <td>131</td>\n",
       "    </tr>\n",
       "    <tr>\n",
       "      <th>2</th>\n",
       "      <td>2021-05-28</td>\n",
       "      <td>Fri</td>\n",
       "      <td>Augusta West Kampground</td>\n",
       "      <td>Winthrop</td>\n",
       "      <td>Annabessacook Lake</td>\n",
       "      <td>4769</td>\n",
       "      <td>Paid</td>\n",
       "      <td>12:00</td>\n",
       "      <td>0.0</td>\n",
       "      <td>18:00</td>\n",
       "      <td>360</td>\n",
       "      <td>1.0</td>\n",
       "      <td>WINTHROP, ME US</td>\n",
       "      <td>0.00</td>\n",
       "      <td>72.0</td>\n",
       "      <td>45.0</td>\n",
       "      <td>56</td>\n",
       "    </tr>\n",
       "    <tr>\n",
       "      <th>3</th>\n",
       "      <td>2021-05-28</td>\n",
       "      <td>Fri</td>\n",
       "      <td>East Winthrop</td>\n",
       "      <td>Winthrop</td>\n",
       "      <td>Cobbosseecontee Lake</td>\n",
       "      <td>4485</td>\n",
       "      <td>Paid</td>\n",
       "      <td>12:00</td>\n",
       "      <td>1.0</td>\n",
       "      <td>18:00</td>\n",
       "      <td>360</td>\n",
       "      <td>2.0</td>\n",
       "      <td>WINTHROP, ME US</td>\n",
       "      <td>0.00</td>\n",
       "      <td>72.0</td>\n",
       "      <td>45.0</td>\n",
       "      <td>16</td>\n",
       "    </tr>\n",
       "    <tr>\n",
       "      <th>4</th>\n",
       "      <td>2021-05-29</td>\n",
       "      <td>Sat</td>\n",
       "      <td>Thorofare Rd</td>\n",
       "      <td>Litchfield</td>\n",
       "      <td>Pleasant Pond</td>\n",
       "      <td>4944</td>\n",
       "      <td>Paid</td>\n",
       "      <td>7:00</td>\n",
       "      <td>1.0</td>\n",
       "      <td>17:00</td>\n",
       "      <td>600</td>\n",
       "      <td>11.0</td>\n",
       "      <td>WINTHROP, ME US</td>\n",
       "      <td>0.02</td>\n",
       "      <td>62.0</td>\n",
       "      <td>45.0</td>\n",
       "      <td>57</td>\n",
       "    </tr>\n",
       "  </tbody>\n",
       "</table>\n",
       "</div>"
      ],
      "text/plain": [
       "       DATE1 DAY_OF_WEEK                SITE_NAME        TOWN  \\\n",
       "0 2021-05-28         Fri             Launch Drive    Monmouth   \n",
       "1 2021-05-28         Fri        Whippoorwill Road  Litchfield   \n",
       "2 2021-05-28         Fri  Augusta West Kampground    Winthrop   \n",
       "3 2021-05-28         Fri            East Winthrop    Winthrop   \n",
       "4 2021-05-29         Sat             Thorofare Rd  Litchfield   \n",
       "\n",
       "              WATERBODY  INSPECTOR_ID PAY_VOL SHIFT_START  TRAILERS SHIFT_END  \\\n",
       "0  Cobbosseecontee Lake          4771    Paid       12:00      10.0     18:00   \n",
       "1         Woodbury Pond          4174    Paid       12:00       1.0     18:00   \n",
       "2    Annabessacook Lake          4769    Paid       12:00       0.0     18:00   \n",
       "3  Cobbosseecontee Lake          4485    Paid       12:00       1.0     18:00   \n",
       "4         Pleasant Pond          4944    Paid        7:00       1.0     17:00   \n",
       "\n",
       "   SHIFT_LENGTH  TOTALINSP             NAME  PRCP  TMAX  TMIN  ID_COUNT  \n",
       "0           360       33.0  WINTHROP, ME US  0.00  72.0  45.0        55  \n",
       "1           360       13.0  WINTHROP, ME US  0.00  72.0  45.0       131  \n",
       "2           360        1.0  WINTHROP, ME US  0.00  72.0  45.0        56  \n",
       "3           360        2.0  WINTHROP, ME US  0.00  72.0  45.0        16  \n",
       "4           600       11.0  WINTHROP, ME US  0.02  62.0  45.0        57  "
      ]
     },
     "execution_count": 54,
     "metadata": {},
     "output_type": "execute_result"
    }
   ],
   "source": [
    "df.head()"
   ]
  },
  {
   "cell_type": "code",
   "execution_count": null,
   "id": "33320676-d56f-4f53-bf3b-5e41d72cd6c0",
   "metadata": {},
   "outputs": [],
   "source": [
    "df.to_csv('data/df1_with_weather1.csv', index=False)"
   ]
  },
  {
   "cell_type": "code",
   "execution_count": 57,
   "id": "bf13a4c0-dafa-4a78-b56f-28bf6b460acb",
   "metadata": {
    "tags": []
   },
   "outputs": [
    {
     "data": {
      "text/html": [
       "<div>\n",
       "<style scoped>\n",
       "    .dataframe tbody tr th:only-of-type {\n",
       "        vertical-align: middle;\n",
       "    }\n",
       "\n",
       "    .dataframe tbody tr th {\n",
       "        vertical-align: top;\n",
       "    }\n",
       "\n",
       "    .dataframe thead th {\n",
       "        text-align: right;\n",
       "    }\n",
       "</style>\n",
       "<table border=\"1\" class=\"dataframe\">\n",
       "  <thead>\n",
       "    <tr style=\"text-align: right;\">\n",
       "      <th></th>\n",
       "      <th>INSPECTOR_ID</th>\n",
       "      <th>TRAILERS</th>\n",
       "      <th>SHIFT_LENGTH</th>\n",
       "      <th>TOTALINSP</th>\n",
       "      <th>PRCP</th>\n",
       "      <th>TMAX</th>\n",
       "      <th>TMIN</th>\n",
       "      <th>ID_COUNT</th>\n",
       "    </tr>\n",
       "  </thead>\n",
       "  <tbody>\n",
       "    <tr>\n",
       "      <th>count</th>\n",
       "      <td>2669.000000</td>\n",
       "      <td>2147.000000</td>\n",
       "      <td>2669.000000</td>\n",
       "      <td>2667.000000</td>\n",
       "      <td>2669.000000</td>\n",
       "      <td>2669.000000</td>\n",
       "      <td>2669.000000</td>\n",
       "      <td>2669.000000</td>\n",
       "    </tr>\n",
       "    <tr>\n",
       "      <th>mean</th>\n",
       "      <td>5043.566879</td>\n",
       "      <td>4.359106</td>\n",
       "      <td>360.351068</td>\n",
       "      <td>14.864642</td>\n",
       "      <td>0.124474</td>\n",
       "      <td>79.460847</td>\n",
       "      <td>59.086175</td>\n",
       "      <td>67.032222</td>\n",
       "    </tr>\n",
       "    <tr>\n",
       "      <th>std</th>\n",
       "      <td>1059.959536</td>\n",
       "      <td>28.594394</td>\n",
       "      <td>153.414576</td>\n",
       "      <td>16.561012</td>\n",
       "      <td>0.315526</td>\n",
       "      <td>8.676235</td>\n",
       "      <td>6.890343</td>\n",
       "      <td>53.860220</td>\n",
       "    </tr>\n",
       "    <tr>\n",
       "      <th>min</th>\n",
       "      <td>1103.000000</td>\n",
       "      <td>0.000000</td>\n",
       "      <td>1.000000</td>\n",
       "      <td>0.000000</td>\n",
       "      <td>0.000000</td>\n",
       "      <td>50.000000</td>\n",
       "      <td>32.000000</td>\n",
       "      <td>1.000000</td>\n",
       "    </tr>\n",
       "    <tr>\n",
       "      <th>25%</th>\n",
       "      <td>4770.000000</td>\n",
       "      <td>1.000000</td>\n",
       "      <td>300.000000</td>\n",
       "      <td>3.000000</td>\n",
       "      <td>0.000000</td>\n",
       "      <td>74.000000</td>\n",
       "      <td>54.000000</td>\n",
       "      <td>26.000000</td>\n",
       "    </tr>\n",
       "    <tr>\n",
       "      <th>50%</th>\n",
       "      <td>5579.000000</td>\n",
       "      <td>2.000000</td>\n",
       "      <td>360.000000</td>\n",
       "      <td>9.000000</td>\n",
       "      <td>0.000000</td>\n",
       "      <td>81.000000</td>\n",
       "      <td>59.000000</td>\n",
       "      <td>56.000000</td>\n",
       "    </tr>\n",
       "    <tr>\n",
       "      <th>75%</th>\n",
       "      <td>5654.000000</td>\n",
       "      <td>5.000000</td>\n",
       "      <td>375.000000</td>\n",
       "      <td>20.000000</td>\n",
       "      <td>0.080000</td>\n",
       "      <td>86.000000</td>\n",
       "      <td>64.000000</td>\n",
       "      <td>111.000000</td>\n",
       "    </tr>\n",
       "    <tr>\n",
       "      <th>max</th>\n",
       "      <td>6112.000000</td>\n",
       "      <td>1300.000000</td>\n",
       "      <td>780.000000</td>\n",
       "      <td>105.000000</td>\n",
       "      <td>2.320000</td>\n",
       "      <td>95.000000</td>\n",
       "      <td>73.000000</td>\n",
       "      <td>202.000000</td>\n",
       "    </tr>\n",
       "  </tbody>\n",
       "</table>\n",
       "</div>"
      ],
      "text/plain": [
       "       INSPECTOR_ID     TRAILERS  SHIFT_LENGTH    TOTALINSP         PRCP  \\\n",
       "count   2669.000000  2147.000000   2669.000000  2667.000000  2669.000000   \n",
       "mean    5043.566879     4.359106    360.351068    14.864642     0.124474   \n",
       "std     1059.959536    28.594394    153.414576    16.561012     0.315526   \n",
       "min     1103.000000     0.000000      1.000000     0.000000     0.000000   \n",
       "25%     4770.000000     1.000000    300.000000     3.000000     0.000000   \n",
       "50%     5579.000000     2.000000    360.000000     9.000000     0.000000   \n",
       "75%     5654.000000     5.000000    375.000000    20.000000     0.080000   \n",
       "max     6112.000000  1300.000000    780.000000   105.000000     2.320000   \n",
       "\n",
       "              TMAX         TMIN     ID_COUNT  \n",
       "count  2669.000000  2669.000000  2669.000000  \n",
       "mean     79.460847    59.086175    67.032222  \n",
       "std       8.676235     6.890343    53.860220  \n",
       "min      50.000000    32.000000     1.000000  \n",
       "25%      74.000000    54.000000    26.000000  \n",
       "50%      81.000000    59.000000    56.000000  \n",
       "75%      86.000000    64.000000   111.000000  \n",
       "max      95.000000    73.000000   202.000000  "
      ]
     },
     "execution_count": 57,
     "metadata": {},
     "output_type": "execute_result"
    }
   ],
   "source": [
    "df.describe()"
   ]
  },
  {
   "cell_type": "code",
   "execution_count": null,
   "id": "5b18fee0-5ea8-41c4-8008-c433f82ad597",
   "metadata": {},
   "outputs": [],
   "source": []
  }
 ],
 "metadata": {
  "kernelspec": {
   "display_name": "Python 3 (ipykernel)",
   "language": "python",
   "name": "python3"
  },
  "language_info": {
   "codemirror_mode": {
    "name": "ipython",
    "version": 3
   },
   "file_extension": ".py",
   "mimetype": "text/x-python",
   "name": "python",
   "nbconvert_exporter": "python",
   "pygments_lexer": "ipython3",
   "version": "3.11.4"
  }
 },
 "nbformat": 4,
 "nbformat_minor": 5
}
