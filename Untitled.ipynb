{
 "cells": [
  {
   "cell_type": "code",
   "execution_count": 1,
   "id": "1508860c-8d47-48b3-bbdf-78791c2984e8",
   "metadata": {
    "tags": []
   },
   "outputs": [],
   "source": [
    "import numpy as np\n",
    "import pandas as pd\n",
    "import matplotlib.pyplot as plt\n",
    "import seaborn as sns"
   ]
  },
  {
   "cell_type": "code",
   "execution_count": 17,
   "id": "0abcc460-fa4a-4581-a717-85b25a4f9bf2",
   "metadata": {
    "tags": []
   },
   "outputs": [],
   "source": [
    "df_2022 = pd.read_csv('FOCW_CBI_21_22_shift.csv')"
   ]
  },
  {
   "cell_type": "code",
   "execution_count": 18,
   "id": "09ba49f4-c1f6-45f1-87bb-50a67a30d7d8",
   "metadata": {
    "tags": []
   },
   "outputs": [],
   "source": [
    "df_2023 = pd.read_csv(\"SHIFTS (2).csv\")"
   ]
  },
  {
   "cell_type": "code",
   "execution_count": 19,
   "id": "01ae540d-d563-44d3-b94d-c38b975e6e26",
   "metadata": {
    "tags": []
   },
   "outputs": [
    {
     "data": {
      "text/html": [
       "<div>\n",
       "<style scoped>\n",
       "    .dataframe tbody tr th:only-of-type {\n",
       "        vertical-align: middle;\n",
       "    }\n",
       "\n",
       "    .dataframe tbody tr th {\n",
       "        vertical-align: top;\n",
       "    }\n",
       "\n",
       "    .dataframe thead th {\n",
       "        text-align: right;\n",
       "    }\n",
       "</style>\n",
       "<table border=\"1\" class=\"dataframe\">\n",
       "  <thead>\n",
       "    <tr style=\"text-align: right;\">\n",
       "      <th></th>\n",
       "      <th>objectid</th>\n",
       "      <th>YEAR</th>\n",
       "      <th>VISIT_DATE</th>\n",
       "      <th>DAY_OF_WEEK</th>\n",
       "      <th>AGENCY_DESC</th>\n",
       "      <th>AGENCY_ID</th>\n",
       "      <th>SITE_NAME</th>\n",
       "      <th>SITE_ID</th>\n",
       "      <th>LAT</th>\n",
       "      <th>LONG</th>\n",
       "      <th>...</th>\n",
       "      <th>PAY_VOL</th>\n",
       "      <th>START_SHIFT</th>\n",
       "      <th>TRAILERS</th>\n",
       "      <th>INSPECTIONS</th>\n",
       "      <th>END_SHIFT</th>\n",
       "      <th>SHIFT_LENGTH</th>\n",
       "      <th>SURVEY</th>\n",
       "      <th>COMMENTS</th>\n",
       "      <th>TOTALINSP</th>\n",
       "      <th>NUMINVASIVE</th>\n",
       "    </tr>\n",
       "  </thead>\n",
       "  <tbody>\n",
       "    <tr>\n",
       "      <th>0</th>\n",
       "      <td>8977</td>\n",
       "      <td>2021</td>\n",
       "      <td>5/28/2021</td>\n",
       "      <td>Fri</td>\n",
       "      <td>FOCW (Friends of the Cobbossee Watershed)</td>\n",
       "      <td>50</td>\n",
       "      <td>Launch Drive</td>\n",
       "      <td>376</td>\n",
       "      <td>44.23825</td>\n",
       "      <td>-69.96728</td>\n",
       "      <td>...</td>\n",
       "      <td>Paid</td>\n",
       "      <td>12:00</td>\n",
       "      <td>10.0</td>\n",
       "      <td>Yes</td>\n",
       "      <td>18:00</td>\n",
       "      <td>360</td>\n",
       "      <td>During shift/at ramp</td>\n",
       "      <td>NaN</td>\n",
       "      <td>33</td>\n",
       "      <td>NaN</td>\n",
       "    </tr>\n",
       "  </tbody>\n",
       "</table>\n",
       "<p>1 rows × 28 columns</p>\n",
       "</div>"
      ],
      "text/plain": [
       "   objectid  YEAR VISIT_DATE DAY_OF_WEEK  \\\n",
       "0      8977  2021  5/28/2021         Fri   \n",
       "\n",
       "                                 AGENCY_DESC  AGENCY_ID     SITE_NAME  \\\n",
       "0  FOCW (Friends of the Cobbossee Watershed)         50  Launch Drive   \n",
       "\n",
       "   SITE_ID       LAT      LONG  ... PAY_VOL  START_SHIFT TRAILERS  \\\n",
       "0      376  44.23825 -69.96728  ...    Paid        12:00     10.0   \n",
       "\n",
       "   INSPECTIONS END_SHIFT SHIFT_LENGTH                SURVEY  COMMENTS  \\\n",
       "0          Yes     18:00          360  During shift/at ramp       NaN   \n",
       "\n",
       "  TOTALINSP NUMINVASIVE  \n",
       "0        33         NaN  \n",
       "\n",
       "[1 rows x 28 columns]"
      ]
     },
     "execution_count": 19,
     "metadata": {},
     "output_type": "execute_result"
    }
   ],
   "source": [
    "df_2022.head(1)"
   ]
  },
  {
   "cell_type": "code",
   "execution_count": 20,
   "id": "a6f38777-88af-435b-8d5c-50a993959af3",
   "metadata": {
    "tags": []
   },
   "outputs": [
    {
     "data": {
      "text/html": [
       "<div>\n",
       "<style scoped>\n",
       "    .dataframe tbody tr th:only-of-type {\n",
       "        vertical-align: middle;\n",
       "    }\n",
       "\n",
       "    .dataframe tbody tr th {\n",
       "        vertical-align: top;\n",
       "    }\n",
       "\n",
       "    .dataframe thead th {\n",
       "        text-align: right;\n",
       "    }\n",
       "</style>\n",
       "<table border=\"1\" class=\"dataframe\">\n",
       "  <thead>\n",
       "    <tr style=\"text-align: right;\">\n",
       "      <th></th>\n",
       "      <th>ObjectID</th>\n",
       "      <th>DATE1</th>\n",
       "      <th>DAY_OF_WEEK</th>\n",
       "      <th>AGENCY_DESC</th>\n",
       "      <th>SITE_NAME</th>\n",
       "      <th>TOWN</th>\n",
       "      <th>WATERBODY</th>\n",
       "      <th>FNAME</th>\n",
       "      <th>LNAME</th>\n",
       "      <th>INSPECTOR_ID</th>\n",
       "      <th>...</th>\n",
       "      <th>SHIFT_LENGTH</th>\n",
       "      <th>TRAILERS</th>\n",
       "      <th>TOTAL_NM</th>\n",
       "      <th>TOTAL_M</th>\n",
       "      <th>TOTALINSP</th>\n",
       "      <th>COMMENTS</th>\n",
       "      <th>NUMINVASIVE</th>\n",
       "      <th>GlobalID</th>\n",
       "      <th>x</th>\n",
       "      <th>y</th>\n",
       "    </tr>\n",
       "  </thead>\n",
       "  <tbody>\n",
       "    <tr>\n",
       "      <th>0</th>\n",
       "      <td>71</td>\n",
       "      <td>5/12/2023</td>\n",
       "      <td>Fri</td>\n",
       "      <td>FOCW (Friends of the Cobbossee Watershed)</td>\n",
       "      <td>Launch Drive Cobbosseecontee</td>\n",
       "      <td>Monmouth</td>\n",
       "      <td>Cobbosseecontee Lake</td>\n",
       "      <td>Emily</td>\n",
       "      <td>Lucas</td>\n",
       "      <td>5305</td>\n",
       "      <td>...</td>\n",
       "      <td>190</td>\n",
       "      <td>2.0</td>\n",
       "      <td>0.0</td>\n",
       "      <td>5</td>\n",
       "      <td>5.0</td>\n",
       "      <td>\\r\\n</td>\n",
       "      <td>0.0</td>\n",
       "      <td>2efd8f58-5a9e-4b75-8e56-4cb720b404ab</td>\n",
       "      <td>-69.96728</td>\n",
       "      <td>44.23825</td>\n",
       "    </tr>\n",
       "  </tbody>\n",
       "</table>\n",
       "<p>1 rows × 23 columns</p>\n",
       "</div>"
      ],
      "text/plain": [
       "   ObjectID      DATE1 DAY_OF_WEEK                                AGENCY_DESC  \\\n",
       "0        71  5/12/2023         Fri  FOCW (Friends of the Cobbossee Watershed)   \n",
       "\n",
       "                      SITE_NAME      TOWN             WATERBODY  FNAME  LNAME  \\\n",
       "0  Launch Drive Cobbosseecontee  Monmouth  Cobbosseecontee Lake  Emily  Lucas   \n",
       "\n",
       "   INSPECTOR_ID  ... SHIFT_LENGTH TRAILERS TOTAL_NM  TOTAL_M  TOTALINSP  \\\n",
       "0          5305  ...          190      2.0      0.0        5        5.0   \n",
       "\n",
       "   COMMENTS  NUMINVASIVE                              GlobalID         x  \\\n",
       "0      \\r\\n          0.0  2efd8f58-5a9e-4b75-8e56-4cb720b404ab -69.96728   \n",
       "\n",
       "          y  \n",
       "0  44.23825  \n",
       "\n",
       "[1 rows x 23 columns]"
      ]
     },
     "execution_count": 20,
     "metadata": {},
     "output_type": "execute_result"
    }
   ],
   "source": [
    "df_2023.head(1)"
   ]
  },
  {
   "cell_type": "code",
   "execution_count": 21,
   "id": "ede59bbe-6f34-49c1-89c6-840d9e16fd4a",
   "metadata": {
    "tags": []
   },
   "outputs": [],
   "source": [
    "df_2022.rename(columns={'objectid': 'ObjectID', 'VISIT_DATE': 'DATE1', 'START_SHIFT': 'SHIFT_START', 'END_SHIFT': 'SHIFT_END'}, inplace=True)"
   ]
  },
  {
   "cell_type": "code",
   "execution_count": 22,
   "id": "3fa8c3e6-8f78-4a55-8aa0-4dd4f6072f97",
   "metadata": {
    "tags": []
   },
   "outputs": [],
   "source": [
    "df_2023.drop(columns=['ObjectID', 'AGENCY_DESC', 'FNAME', 'LNAME', 'NUMINVASIVE', 'TOTAL_NM', 'TOTAL_M', 'COMMENTS', 'GlobalID', 'x', 'y'], inplace=True)"
   ]
  },
  {
   "cell_type": "code",
   "execution_count": 23,
   "id": "85e0e0bf-e48d-47a2-ab47-60b7e246ca62",
   "metadata": {
    "tags": []
   },
   "outputs": [],
   "source": [
    "df_2022.drop(columns=['ObjectID', 'YEAR', 'AGENCY_DESC', 'AGENCY_ID', 'SITE_ID', 'LAT', 'LONG', 'SURVEY', 'COMMENTS', 'NUMINVASIVE'], inplace=True)"
   ]
  },
  {
   "cell_type": "code",
   "execution_count": 24,
   "id": "8257c5d0-d418-4b22-9390-84d75e069bad",
   "metadata": {
    "tags": []
   },
   "outputs": [
    {
     "data": {
      "text/html": [
       "<div>\n",
       "<style scoped>\n",
       "    .dataframe tbody tr th:only-of-type {\n",
       "        vertical-align: middle;\n",
       "    }\n",
       "\n",
       "    .dataframe tbody tr th {\n",
       "        vertical-align: top;\n",
       "    }\n",
       "\n",
       "    .dataframe thead th {\n",
       "        text-align: right;\n",
       "    }\n",
       "</style>\n",
       "<table border=\"1\" class=\"dataframe\">\n",
       "  <thead>\n",
       "    <tr style=\"text-align: right;\">\n",
       "      <th></th>\n",
       "      <th>DATE1</th>\n",
       "      <th>DAY_OF_WEEK</th>\n",
       "      <th>SITE_NAME</th>\n",
       "      <th>TOWN</th>\n",
       "      <th>WATERBODY</th>\n",
       "      <th>INSPECTOR_ID</th>\n",
       "      <th>PAY_VOL</th>\n",
       "      <th>SHIFT_START</th>\n",
       "      <th>SHIFT_END</th>\n",
       "      <th>SHIFT_LENGTH</th>\n",
       "      <th>TRAILERS</th>\n",
       "      <th>TOTALINSP</th>\n",
       "    </tr>\n",
       "  </thead>\n",
       "  <tbody>\n",
       "    <tr>\n",
       "      <th>0</th>\n",
       "      <td>5/12/2023</td>\n",
       "      <td>Fri</td>\n",
       "      <td>Launch Drive Cobbosseecontee</td>\n",
       "      <td>Monmouth</td>\n",
       "      <td>Cobbosseecontee Lake</td>\n",
       "      <td>5305</td>\n",
       "      <td>Paid</td>\n",
       "      <td>08:50</td>\n",
       "      <td>12:00</td>\n",
       "      <td>190</td>\n",
       "      <td>2.0</td>\n",
       "      <td>5.0</td>\n",
       "    </tr>\n",
       "  </tbody>\n",
       "</table>\n",
       "</div>"
      ],
      "text/plain": [
       "       DATE1 DAY_OF_WEEK                     SITE_NAME      TOWN  \\\n",
       "0  5/12/2023         Fri  Launch Drive Cobbosseecontee  Monmouth   \n",
       "\n",
       "              WATERBODY  INSPECTOR_ID PAY_VOL SHIFT_START SHIFT_END  \\\n",
       "0  Cobbosseecontee Lake          5305    Paid       08:50     12:00   \n",
       "\n",
       "   SHIFT_LENGTH  TRAILERS  TOTALINSP  \n",
       "0           190       2.0        5.0  "
      ]
     },
     "execution_count": 24,
     "metadata": {},
     "output_type": "execute_result"
    }
   ],
   "source": [
    "df_2023.head(1)"
   ]
  },
  {
   "cell_type": "code",
   "execution_count": 25,
   "id": "020da766-49cc-4cd5-b26e-af13796c239b",
   "metadata": {
    "tags": []
   },
   "outputs": [
    {
     "data": {
      "text/html": [
       "<div>\n",
       "<style scoped>\n",
       "    .dataframe tbody tr th:only-of-type {\n",
       "        vertical-align: middle;\n",
       "    }\n",
       "\n",
       "    .dataframe tbody tr th {\n",
       "        vertical-align: top;\n",
       "    }\n",
       "\n",
       "    .dataframe thead th {\n",
       "        text-align: right;\n",
       "    }\n",
       "</style>\n",
       "<table border=\"1\" class=\"dataframe\">\n",
       "  <thead>\n",
       "    <tr style=\"text-align: right;\">\n",
       "      <th></th>\n",
       "      <th>DATE1</th>\n",
       "      <th>DAY_OF_WEEK</th>\n",
       "      <th>SITE_NAME</th>\n",
       "      <th>TOWN</th>\n",
       "      <th>WATER_REGION_ID</th>\n",
       "      <th>WATERBODY</th>\n",
       "      <th>MIDAS</th>\n",
       "      <th>NAME_FL</th>\n",
       "      <th>FNAME</th>\n",
       "      <th>LNAME</th>\n",
       "      <th>INSPECTOR_ID</th>\n",
       "      <th>PAY_VOL</th>\n",
       "      <th>SHIFT_START</th>\n",
       "      <th>TRAILERS</th>\n",
       "      <th>INSPECTIONS</th>\n",
       "      <th>SHIFT_END</th>\n",
       "      <th>SHIFT_LENGTH</th>\n",
       "      <th>TOTALINSP</th>\n",
       "    </tr>\n",
       "  </thead>\n",
       "  <tbody>\n",
       "    <tr>\n",
       "      <th>0</th>\n",
       "      <td>5/28/2021</td>\n",
       "      <td>Fri</td>\n",
       "      <td>Launch Drive</td>\n",
       "      <td>Monmouth</td>\n",
       "      <td>698</td>\n",
       "      <td>Cobbosseecontee Lake</td>\n",
       "      <td>5236</td>\n",
       "      <td>Kathryn Ross</td>\n",
       "      <td>Kathryn</td>\n",
       "      <td>Ross</td>\n",
       "      <td>4771</td>\n",
       "      <td>Paid</td>\n",
       "      <td>12:00</td>\n",
       "      <td>10.0</td>\n",
       "      <td>Yes</td>\n",
       "      <td>18:00</td>\n",
       "      <td>360</td>\n",
       "      <td>33</td>\n",
       "    </tr>\n",
       "  </tbody>\n",
       "</table>\n",
       "</div>"
      ],
      "text/plain": [
       "       DATE1 DAY_OF_WEEK     SITE_NAME      TOWN  WATER_REGION_ID  \\\n",
       "0  5/28/2021         Fri  Launch Drive  Monmouth              698   \n",
       "\n",
       "              WATERBODY  MIDAS       NAME_FL    FNAME LNAME  INSPECTOR_ID  \\\n",
       "0  Cobbosseecontee Lake   5236  Kathryn Ross  Kathryn  Ross          4771   \n",
       "\n",
       "  PAY_VOL SHIFT_START  TRAILERS INSPECTIONS SHIFT_END  SHIFT_LENGTH  TOTALINSP  \n",
       "0    Paid       12:00      10.0         Yes     18:00           360         33  "
      ]
     },
     "execution_count": 25,
     "metadata": {},
     "output_type": "execute_result"
    }
   ],
   "source": [
    "df_2022.head(1)"
   ]
  },
  {
   "cell_type": "code",
   "execution_count": 26,
   "id": "2bb1ee0a-7cc2-4968-89f8-e3f13421091e",
   "metadata": {
    "tags": []
   },
   "outputs": [],
   "source": [
    "df_2022.drop(columns=['WATER_REGION_ID', 'MIDAS', 'NAME_FL', 'FNAME', 'LNAME', 'INSPECTIONS'], inplace=True)"
   ]
  },
  {
   "cell_type": "code",
   "execution_count": 27,
   "id": "efa4202d-5949-4a43-b4f6-2722a99472dc",
   "metadata": {
    "tags": []
   },
   "outputs": [
    {
     "data": {
      "text/html": [
       "<div>\n",
       "<style scoped>\n",
       "    .dataframe tbody tr th:only-of-type {\n",
       "        vertical-align: middle;\n",
       "    }\n",
       "\n",
       "    .dataframe tbody tr th {\n",
       "        vertical-align: top;\n",
       "    }\n",
       "\n",
       "    .dataframe thead th {\n",
       "        text-align: right;\n",
       "    }\n",
       "</style>\n",
       "<table border=\"1\" class=\"dataframe\">\n",
       "  <thead>\n",
       "    <tr style=\"text-align: right;\">\n",
       "      <th></th>\n",
       "      <th>DATE1</th>\n",
       "      <th>DAY_OF_WEEK</th>\n",
       "      <th>SITE_NAME</th>\n",
       "      <th>TOWN</th>\n",
       "      <th>WATERBODY</th>\n",
       "      <th>INSPECTOR_ID</th>\n",
       "      <th>PAY_VOL</th>\n",
       "      <th>SHIFT_START</th>\n",
       "      <th>TRAILERS</th>\n",
       "      <th>SHIFT_END</th>\n",
       "      <th>SHIFT_LENGTH</th>\n",
       "      <th>TOTALINSP</th>\n",
       "    </tr>\n",
       "  </thead>\n",
       "  <tbody>\n",
       "    <tr>\n",
       "      <th>0</th>\n",
       "      <td>5/28/2021</td>\n",
       "      <td>Fri</td>\n",
       "      <td>Launch Drive</td>\n",
       "      <td>Monmouth</td>\n",
       "      <td>Cobbosseecontee Lake</td>\n",
       "      <td>4771</td>\n",
       "      <td>Paid</td>\n",
       "      <td>12:00</td>\n",
       "      <td>10.0</td>\n",
       "      <td>18:00</td>\n",
       "      <td>360</td>\n",
       "      <td>33</td>\n",
       "    </tr>\n",
       "  </tbody>\n",
       "</table>\n",
       "</div>"
      ],
      "text/plain": [
       "       DATE1 DAY_OF_WEEK     SITE_NAME      TOWN             WATERBODY  \\\n",
       "0  5/28/2021         Fri  Launch Drive  Monmouth  Cobbosseecontee Lake   \n",
       "\n",
       "   INSPECTOR_ID PAY_VOL SHIFT_START  TRAILERS SHIFT_END  SHIFT_LENGTH  \\\n",
       "0          4771    Paid       12:00      10.0     18:00           360   \n",
       "\n",
       "   TOTALINSP  \n",
       "0         33  "
      ]
     },
     "execution_count": 27,
     "metadata": {},
     "output_type": "execute_result"
    }
   ],
   "source": [
    "df_2022.head(1)"
   ]
  },
  {
   "cell_type": "code",
   "execution_count": 58,
   "id": "f117293d-33e6-4661-85a3-4eaadc88fd10",
   "metadata": {
    "tags": []
   },
   "outputs": [],
   "source": [
    "weather = pd.read_csv('weather.csv')"
   ]
  },
  {
   "cell_type": "code",
   "execution_count": 29,
   "id": "61ed8fe5-c18c-43bf-8fce-aca0518b0704",
   "metadata": {
    "tags": []
   },
   "outputs": [
    {
     "data": {
      "text/html": [
       "<div>\n",
       "<style scoped>\n",
       "    .dataframe tbody tr th:only-of-type {\n",
       "        vertical-align: middle;\n",
       "    }\n",
       "\n",
       "    .dataframe tbody tr th {\n",
       "        vertical-align: top;\n",
       "    }\n",
       "\n",
       "    .dataframe thead th {\n",
       "        text-align: right;\n",
       "    }\n",
       "</style>\n",
       "<table border=\"1\" class=\"dataframe\">\n",
       "  <thead>\n",
       "    <tr style=\"text-align: right;\">\n",
       "      <th></th>\n",
       "      <th>STATION</th>\n",
       "      <th>NAME</th>\n",
       "      <th>LATITUDE</th>\n",
       "      <th>LONGITUDE</th>\n",
       "      <th>ELEVATION</th>\n",
       "      <th>DATE</th>\n",
       "      <th>DAPR</th>\n",
       "      <th>MDPR</th>\n",
       "      <th>PRCP</th>\n",
       "      <th>SNOW</th>\n",
       "      <th>SNWD</th>\n",
       "      <th>TMAX</th>\n",
       "      <th>TMIN</th>\n",
       "      <th>TOBS</th>\n",
       "      <th>WT01</th>\n",
       "      <th>WT03</th>\n",
       "      <th>WT04</th>\n",
       "      <th>WT05</th>\n",
       "      <th>WT06</th>\n",
       "      <th>WT11</th>\n",
       "    </tr>\n",
       "  </thead>\n",
       "  <tbody>\n",
       "    <tr>\n",
       "      <th>0</th>\n",
       "      <td>USC00179721</td>\n",
       "      <td>WINTHROP, ME US</td>\n",
       "      <td>44.30656</td>\n",
       "      <td>-69.97016</td>\n",
       "      <td>63.4</td>\n",
       "      <td>2021-01-01</td>\n",
       "      <td>NaN</td>\n",
       "      <td>NaN</td>\n",
       "      <td>0.0</td>\n",
       "      <td>0.0</td>\n",
       "      <td>0.0</td>\n",
       "      <td>42.0</td>\n",
       "      <td>20.0</td>\n",
       "      <td>25.0</td>\n",
       "      <td>NaN</td>\n",
       "      <td>NaN</td>\n",
       "      <td>NaN</td>\n",
       "      <td>NaN</td>\n",
       "      <td>NaN</td>\n",
       "      <td>NaN</td>\n",
       "    </tr>\n",
       "  </tbody>\n",
       "</table>\n",
       "</div>"
      ],
      "text/plain": [
       "       STATION             NAME  LATITUDE  LONGITUDE  ELEVATION        DATE  \\\n",
       "0  USC00179721  WINTHROP, ME US  44.30656  -69.97016       63.4  2021-01-01   \n",
       "\n",
       "   DAPR  MDPR  PRCP  SNOW  SNWD  TMAX  TMIN  TOBS  WT01  WT03  WT04  WT05  \\\n",
       "0   NaN   NaN   0.0   0.0   0.0  42.0  20.0  25.0   NaN   NaN   NaN   NaN   \n",
       "\n",
       "   WT06  WT11  \n",
       "0   NaN   NaN  "
      ]
     },
     "execution_count": 29,
     "metadata": {},
     "output_type": "execute_result"
    }
   ],
   "source": [
    "weather.head(1)"
   ]
  },
  {
   "cell_type": "code",
   "execution_count": 59,
   "id": "63c1f608-a3ca-4820-81ba-c5c48c2539da",
   "metadata": {
    "tags": []
   },
   "outputs": [],
   "source": [
    "weather.drop(columns=['STATION', 'LATITUDE', 'LONGITUDE', 'ELEVATION', 'DAPR', 'MDPR', 'SNWD', 'WT01', 'WT03', 'WT04', 'WT05', 'WT06', 'WT11'], inplace=True) "
   ]
  },
  {
   "cell_type": "code",
   "execution_count": 32,
   "id": "f2963576-f571-421a-bc01-b4d95b56cfd7",
   "metadata": {
    "tags": []
   },
   "outputs": [
    {
     "data": {
      "text/html": [
       "<div>\n",
       "<style scoped>\n",
       "    .dataframe tbody tr th:only-of-type {\n",
       "        vertical-align: middle;\n",
       "    }\n",
       "\n",
       "    .dataframe tbody tr th {\n",
       "        vertical-align: top;\n",
       "    }\n",
       "\n",
       "    .dataframe thead th {\n",
       "        text-align: right;\n",
       "    }\n",
       "</style>\n",
       "<table border=\"1\" class=\"dataframe\">\n",
       "  <thead>\n",
       "    <tr style=\"text-align: right;\">\n",
       "      <th></th>\n",
       "      <th>NAME</th>\n",
       "      <th>DATE</th>\n",
       "      <th>PRCP</th>\n",
       "      <th>SNOW</th>\n",
       "      <th>TMAX</th>\n",
       "      <th>TMIN</th>\n",
       "      <th>TOBS</th>\n",
       "    </tr>\n",
       "  </thead>\n",
       "  <tbody>\n",
       "    <tr>\n",
       "      <th>0</th>\n",
       "      <td>WINTHROP, ME US</td>\n",
       "      <td>2021-01-01</td>\n",
       "      <td>0.0</td>\n",
       "      <td>0.0</td>\n",
       "      <td>42.0</td>\n",
       "      <td>20.0</td>\n",
       "      <td>25.0</td>\n",
       "    </tr>\n",
       "  </tbody>\n",
       "</table>\n",
       "</div>"
      ],
      "text/plain": [
       "              NAME        DATE  PRCP  SNOW  TMAX  TMIN  TOBS\n",
       "0  WINTHROP, ME US  2021-01-01   0.0   0.0  42.0  20.0  25.0"
      ]
     },
     "execution_count": 32,
     "metadata": {},
     "output_type": "execute_result"
    }
   ],
   "source": [
    "weather.head(1)"
   ]
  },
  {
   "cell_type": "code",
   "execution_count": 34,
   "id": "64b99754-8d05-4047-a3b4-ac7411253a97",
   "metadata": {
    "tags": []
   },
   "outputs": [
    {
     "data": {
      "text/plain": [
       "READFIELD 2.0 NNE, ME US    1050\n",
       "WINTHROP, ME US             1037\n",
       "WAYNE 3.2 SSE, ME US         988\n",
       "WINTHROP 1.8 WSW, ME US      301\n",
       "WINTHROP 5.8 NE, ME US       107\n",
       "Name: NAME, dtype: int64"
      ]
     },
     "execution_count": 34,
     "metadata": {},
     "output_type": "execute_result"
    }
   ],
   "source": [
    "weather.NAME.value_counts()"
   ]
  },
  {
   "cell_type": "code",
   "execution_count": 35,
   "id": "15303e78-b34d-4201-bb37-a3fe15c2699d",
   "metadata": {
    "tags": []
   },
   "outputs": [
    {
     "data": {
      "text/html": [
       "<div>\n",
       "<style scoped>\n",
       "    .dataframe tbody tr th:only-of-type {\n",
       "        vertical-align: middle;\n",
       "    }\n",
       "\n",
       "    .dataframe tbody tr th {\n",
       "        vertical-align: top;\n",
       "    }\n",
       "\n",
       "    .dataframe thead th {\n",
       "        text-align: right;\n",
       "    }\n",
       "</style>\n",
       "<table border=\"1\" class=\"dataframe\">\n",
       "  <thead>\n",
       "    <tr style=\"text-align: right;\">\n",
       "      <th></th>\n",
       "      <th>PRCP</th>\n",
       "      <th>SNOW</th>\n",
       "      <th>TMAX</th>\n",
       "      <th>TMIN</th>\n",
       "      <th>TOBS</th>\n",
       "    </tr>\n",
       "  </thead>\n",
       "  <tbody>\n",
       "    <tr>\n",
       "      <th>count</th>\n",
       "      <td>3439.000000</td>\n",
       "      <td>2985.000000</td>\n",
       "      <td>941.000000</td>\n",
       "      <td>946.000000</td>\n",
       "      <td>979.000000</td>\n",
       "    </tr>\n",
       "    <tr>\n",
       "      <th>mean</th>\n",
       "      <td>0.131329</td>\n",
       "      <td>0.159598</td>\n",
       "      <td>61.587673</td>\n",
       "      <td>41.734672</td>\n",
       "      <td>47.755873</td>\n",
       "    </tr>\n",
       "    <tr>\n",
       "      <th>std</th>\n",
       "      <td>0.345630</td>\n",
       "      <td>0.871466</td>\n",
       "      <td>19.305771</td>\n",
       "      <td>18.332104</td>\n",
       "      <td>18.561969</td>\n",
       "    </tr>\n",
       "    <tr>\n",
       "      <th>min</th>\n",
       "      <td>0.000000</td>\n",
       "      <td>0.000000</td>\n",
       "      <td>8.000000</td>\n",
       "      <td>-17.000000</td>\n",
       "      <td>-9.000000</td>\n",
       "    </tr>\n",
       "    <tr>\n",
       "      <th>25%</th>\n",
       "      <td>0.000000</td>\n",
       "      <td>0.000000</td>\n",
       "      <td>46.000000</td>\n",
       "      <td>28.000000</td>\n",
       "      <td>33.000000</td>\n",
       "    </tr>\n",
       "    <tr>\n",
       "      <th>50%</th>\n",
       "      <td>0.000000</td>\n",
       "      <td>0.000000</td>\n",
       "      <td>65.000000</td>\n",
       "      <td>44.500000</td>\n",
       "      <td>50.000000</td>\n",
       "    </tr>\n",
       "    <tr>\n",
       "      <th>75%</th>\n",
       "      <td>0.080000</td>\n",
       "      <td>0.000000</td>\n",
       "      <td>78.000000</td>\n",
       "      <td>57.000000</td>\n",
       "      <td>63.000000</td>\n",
       "    </tr>\n",
       "    <tr>\n",
       "      <th>max</th>\n",
       "      <td>5.150000</td>\n",
       "      <td>13.000000</td>\n",
       "      <td>95.000000</td>\n",
       "      <td>74.000000</td>\n",
       "      <td>85.000000</td>\n",
       "    </tr>\n",
       "  </tbody>\n",
       "</table>\n",
       "</div>"
      ],
      "text/plain": [
       "              PRCP         SNOW        TMAX        TMIN        TOBS\n",
       "count  3439.000000  2985.000000  941.000000  946.000000  979.000000\n",
       "mean      0.131329     0.159598   61.587673   41.734672   47.755873\n",
       "std       0.345630     0.871466   19.305771   18.332104   18.561969\n",
       "min       0.000000     0.000000    8.000000  -17.000000   -9.000000\n",
       "25%       0.000000     0.000000   46.000000   28.000000   33.000000\n",
       "50%       0.000000     0.000000   65.000000   44.500000   50.000000\n",
       "75%       0.080000     0.000000   78.000000   57.000000   63.000000\n",
       "max       5.150000    13.000000   95.000000   74.000000   85.000000"
      ]
     },
     "execution_count": 35,
     "metadata": {},
     "output_type": "execute_result"
    }
   ],
   "source": [
    "weather.describe()"
   ]
  },
  {
   "cell_type": "code",
   "execution_count": 60,
   "id": "7a7aa1f3-3e00-4f60-9d2f-bd4cf7b97c11",
   "metadata": {
    "tags": []
   },
   "outputs": [],
   "source": [
    "weather = weather[weather['NAME']== 'WINTHROP, ME US']"
   ]
  },
  {
   "cell_type": "code",
   "execution_count": 61,
   "id": "71551f86-3f09-4500-861d-cdbf62da4112",
   "metadata": {
    "tags": []
   },
   "outputs": [
    {
     "data": {
      "text/plain": [
       "(1037, 7)"
      ]
     },
     "execution_count": 61,
     "metadata": {},
     "output_type": "execute_result"
    }
   ],
   "source": [
    "weather.shape"
   ]
  },
  {
   "cell_type": "code",
   "execution_count": 62,
   "id": "16b94498-57cf-4de6-84b3-188c3f82da88",
   "metadata": {
    "tags": []
   },
   "outputs": [],
   "source": [
    "weather.drop(columns=['SNOW', 'NAME'], inplace=True)"
   ]
  },
  {
   "cell_type": "code",
   "execution_count": 63,
   "id": "87b6a83c-01ec-4e37-afe5-b49443765d44",
   "metadata": {
    "tags": []
   },
   "outputs": [],
   "source": [
    "weather.rename(columns={'DATE': 'DATE1'}, inplace=True)"
   ]
  },
  {
   "cell_type": "code",
   "execution_count": 64,
   "id": "3fb4cdae-b2db-4be1-9cb0-d7bb9b102916",
   "metadata": {
    "tags": []
   },
   "outputs": [
    {
     "data": {
      "text/html": [
       "<div>\n",
       "<style scoped>\n",
       "    .dataframe tbody tr th:only-of-type {\n",
       "        vertical-align: middle;\n",
       "    }\n",
       "\n",
       "    .dataframe tbody tr th {\n",
       "        vertical-align: top;\n",
       "    }\n",
       "\n",
       "    .dataframe thead th {\n",
       "        text-align: right;\n",
       "    }\n",
       "</style>\n",
       "<table border=\"1\" class=\"dataframe\">\n",
       "  <thead>\n",
       "    <tr style=\"text-align: right;\">\n",
       "      <th></th>\n",
       "      <th>DATE1</th>\n",
       "      <th>PRCP</th>\n",
       "      <th>TMAX</th>\n",
       "      <th>TMIN</th>\n",
       "      <th>TOBS</th>\n",
       "    </tr>\n",
       "  </thead>\n",
       "  <tbody>\n",
       "    <tr>\n",
       "      <th>0</th>\n",
       "      <td>2021-01-01</td>\n",
       "      <td>0.0</td>\n",
       "      <td>42.0</td>\n",
       "      <td>20.0</td>\n",
       "      <td>25.0</td>\n",
       "    </tr>\n",
       "  </tbody>\n",
       "</table>\n",
       "</div>"
      ],
      "text/plain": [
       "        DATE1  PRCP  TMAX  TMIN  TOBS\n",
       "0  2021-01-01   0.0  42.0  20.0  25.0"
      ]
     },
     "execution_count": 64,
     "metadata": {},
     "output_type": "execute_result"
    }
   ],
   "source": [
    "weather.head(1)"
   ]
  },
  {
   "cell_type": "code",
   "execution_count": 65,
   "id": "31dee370-e3f4-47c5-857a-f95c6fa7afd0",
   "metadata": {
    "tags": []
   },
   "outputs": [],
   "source": [
    "weather['DATE1'] = pd.to_datetime(weather['DATE1'])"
   ]
  },
  {
   "cell_type": "code",
   "execution_count": 66,
   "id": "1a0c1f76-51c8-4dd7-91d8-9c9d4cca4a0b",
   "metadata": {
    "tags": []
   },
   "outputs": [
    {
     "data": {
      "text/html": [
       "<div>\n",
       "<style scoped>\n",
       "    .dataframe tbody tr th:only-of-type {\n",
       "        vertical-align: middle;\n",
       "    }\n",
       "\n",
       "    .dataframe tbody tr th {\n",
       "        vertical-align: top;\n",
       "    }\n",
       "\n",
       "    .dataframe thead th {\n",
       "        text-align: right;\n",
       "    }\n",
       "</style>\n",
       "<table border=\"1\" class=\"dataframe\">\n",
       "  <thead>\n",
       "    <tr style=\"text-align: right;\">\n",
       "      <th></th>\n",
       "      <th>DATE1</th>\n",
       "      <th>PRCP</th>\n",
       "      <th>TMAX</th>\n",
       "      <th>TMIN</th>\n",
       "      <th>TOBS</th>\n",
       "    </tr>\n",
       "  </thead>\n",
       "  <tbody>\n",
       "    <tr>\n",
       "      <th>0</th>\n",
       "      <td>2021-01-01</td>\n",
       "      <td>0.0</td>\n",
       "      <td>42.0</td>\n",
       "      <td>20.0</td>\n",
       "      <td>25.0</td>\n",
       "    </tr>\n",
       "  </tbody>\n",
       "</table>\n",
       "</div>"
      ],
      "text/plain": [
       "       DATE1  PRCP  TMAX  TMIN  TOBS\n",
       "0 2021-01-01   0.0  42.0  20.0  25.0"
      ]
     },
     "execution_count": 66,
     "metadata": {},
     "output_type": "execute_result"
    }
   ],
   "source": [
    "weather.head(1)"
   ]
  },
  {
   "cell_type": "code",
   "execution_count": 67,
   "id": "551a8c99-f4c3-4d13-a4cc-9b1061f809d5",
   "metadata": {
    "tags": []
   },
   "outputs": [],
   "source": [
    "weather['DATE1'] = weather['DATE1'].dt.strftime('%m/%d/%Y')"
   ]
  },
  {
   "cell_type": "code",
   "execution_count": 68,
   "id": "935f4924-07fd-4b76-b84f-f70cc6cea7c2",
   "metadata": {
    "tags": []
   },
   "outputs": [
    {
     "data": {
      "text/html": [
       "<div>\n",
       "<style scoped>\n",
       "    .dataframe tbody tr th:only-of-type {\n",
       "        vertical-align: middle;\n",
       "    }\n",
       "\n",
       "    .dataframe tbody tr th {\n",
       "        vertical-align: top;\n",
       "    }\n",
       "\n",
       "    .dataframe thead th {\n",
       "        text-align: right;\n",
       "    }\n",
       "</style>\n",
       "<table border=\"1\" class=\"dataframe\">\n",
       "  <thead>\n",
       "    <tr style=\"text-align: right;\">\n",
       "      <th></th>\n",
       "      <th>DATE1</th>\n",
       "      <th>PRCP</th>\n",
       "      <th>TMAX</th>\n",
       "      <th>TMIN</th>\n",
       "      <th>TOBS</th>\n",
       "    </tr>\n",
       "  </thead>\n",
       "  <tbody>\n",
       "    <tr>\n",
       "      <th>0</th>\n",
       "      <td>01/01/2021</td>\n",
       "      <td>0.0</td>\n",
       "      <td>42.0</td>\n",
       "      <td>20.0</td>\n",
       "      <td>25.0</td>\n",
       "    </tr>\n",
       "  </tbody>\n",
       "</table>\n",
       "</div>"
      ],
      "text/plain": [
       "        DATE1  PRCP  TMAX  TMIN  TOBS\n",
       "0  01/01/2021   0.0  42.0  20.0  25.0"
      ]
     },
     "execution_count": 68,
     "metadata": {},
     "output_type": "execute_result"
    }
   ],
   "source": [
    "weather.head(1)"
   ]
  },
  {
   "cell_type": "code",
   "execution_count": 40,
   "id": "b7323615-d991-4d00-9430-99865bc10d95",
   "metadata": {
    "tags": []
   },
   "outputs": [],
   "source": [
    "shift_df = pd.concat([df_2022, df_2023], axis=0, ignore_index=False)"
   ]
  },
  {
   "cell_type": "code",
   "execution_count": 71,
   "id": "984fe4f3-8114-431b-88d7-49c6d40e6a00",
   "metadata": {
    "tags": []
   },
   "outputs": [
    {
     "data": {
      "text/plain": [
       "(2669, 12)"
      ]
     },
     "execution_count": 71,
     "metadata": {},
     "output_type": "execute_result"
    }
   ],
   "source": [
    "shift_df.shape"
   ]
  },
  {
   "cell_type": "code",
   "execution_count": 76,
   "id": "984215cc-8a64-42ae-b4f8-9238217cdeae",
   "metadata": {
    "tags": []
   },
   "outputs": [
    {
     "data": {
      "text/plain": [
       "DATE1           datetime64[ns]\n",
       "DAY_OF_WEEK             object\n",
       "SITE_NAME               object\n",
       "TOWN                    object\n",
       "WATERBODY               object\n",
       "INSPECTOR_ID             int64\n",
       "PAY_VOL                 object\n",
       "SHIFT_START             object\n",
       "TRAILERS               float64\n",
       "SHIFT_END               object\n",
       "SHIFT_LENGTH             int64\n",
       "TOTALINSP              float64\n",
       "dtype: object"
      ]
     },
     "execution_count": 76,
     "metadata": {},
     "output_type": "execute_result"
    }
   ],
   "source": [
    "shift_df.dtypes"
   ]
  },
  {
   "cell_type": "code",
   "execution_count": 75,
   "id": "7d0c24d4-9cba-4274-a0c6-522684057b16",
   "metadata": {
    "tags": []
   },
   "outputs": [],
   "source": [
    "shift_df['DATE1'] = pd.to_datetime(shift_df['DATE1'])"
   ]
  },
  {
   "cell_type": "code",
   "execution_count": 44,
   "id": "79d062dd-a461-439c-84ba-fc4111ea96e3",
   "metadata": {
    "tags": []
   },
   "outputs": [
    {
     "data": {
      "text/plain": [
       "DATE1             0\n",
       "DAY_OF_WEEK       0\n",
       "SITE_NAME         0\n",
       "TOWN              0\n",
       "WATERBODY         0\n",
       "INSPECTOR_ID      0\n",
       "PAY_VOL           0\n",
       "SHIFT_START       0\n",
       "TRAILERS        522\n",
       "SHIFT_END         0\n",
       "SHIFT_LENGTH      0\n",
       "TOTALINSP         2\n",
       "dtype: int64"
      ]
     },
     "execution_count": 44,
     "metadata": {},
     "output_type": "execute_result"
    }
   ],
   "source": [
    "shift_df.isna().sum()"
   ]
  },
  {
   "cell_type": "code",
   "execution_count": 78,
   "id": "2ac1308e-9d0b-4275-996c-ff23c496b3b0",
   "metadata": {
    "tags": []
   },
   "outputs": [
    {
     "data": {
      "text/plain": [
       "DATE1     object\n",
       "PRCP     float64\n",
       "TMAX     float64\n",
       "TMIN     float64\n",
       "TOBS     float64\n",
       "dtype: object"
      ]
     },
     "execution_count": 78,
     "metadata": {},
     "output_type": "execute_result"
    }
   ],
   "source": [
    "weather.dtypes"
   ]
  },
  {
   "cell_type": "code",
   "execution_count": 79,
   "id": "f13702c4-a274-4f63-ab92-6df3d38f6465",
   "metadata": {
    "tags": []
   },
   "outputs": [],
   "source": [
    "weather['DATE1']=pd.to_datetime(weather['DATE1'])"
   ]
  },
  {
   "cell_type": "code",
   "execution_count": 80,
   "id": "19c52869-7e2b-420e-9265-e9000c36f1ba",
   "metadata": {
    "tags": []
   },
   "outputs": [],
   "source": [
    "df = pd.merge(left=shift_df, right=weather, how='left', on='DATE1')"
   ]
  },
  {
   "cell_type": "code",
   "execution_count": 81,
   "id": "25546e4c-056d-4c8b-9e30-eee8c8015e40",
   "metadata": {
    "tags": []
   },
   "outputs": [
    {
     "data": {
      "text/plain": [
       "DATE1             0\n",
       "DAY_OF_WEEK       0\n",
       "SITE_NAME         0\n",
       "TOWN              0\n",
       "WATERBODY         0\n",
       "INSPECTOR_ID      0\n",
       "PAY_VOL           0\n",
       "SHIFT_START       0\n",
       "TRAILERS        522\n",
       "SHIFT_END         0\n",
       "SHIFT_LENGTH      0\n",
       "TOTALINSP         2\n",
       "PRCP             27\n",
       "TMAX             91\n",
       "TMIN             95\n",
       "TOBS             55\n",
       "dtype: int64"
      ]
     },
     "execution_count": 81,
     "metadata": {},
     "output_type": "execute_result"
    }
   ],
   "source": [
    "df.isna().sum()"
   ]
  },
  {
   "cell_type": "code",
   "execution_count": 82,
   "id": "b6e876e2-3193-41e1-8e8f-04e7da377850",
   "metadata": {
    "tags": []
   },
   "outputs": [
    {
     "data": {
      "text/html": [
       "<div>\n",
       "<style scoped>\n",
       "    .dataframe tbody tr th:only-of-type {\n",
       "        vertical-align: middle;\n",
       "    }\n",
       "\n",
       "    .dataframe tbody tr th {\n",
       "        vertical-align: top;\n",
       "    }\n",
       "\n",
       "    .dataframe thead th {\n",
       "        text-align: right;\n",
       "    }\n",
       "</style>\n",
       "<table border=\"1\" class=\"dataframe\">\n",
       "  <thead>\n",
       "    <tr style=\"text-align: right;\">\n",
       "      <th></th>\n",
       "      <th>DATE1</th>\n",
       "      <th>DAY_OF_WEEK</th>\n",
       "      <th>SITE_NAME</th>\n",
       "      <th>TOWN</th>\n",
       "      <th>WATERBODY</th>\n",
       "      <th>INSPECTOR_ID</th>\n",
       "      <th>PAY_VOL</th>\n",
       "      <th>SHIFT_START</th>\n",
       "      <th>TRAILERS</th>\n",
       "      <th>SHIFT_END</th>\n",
       "      <th>SHIFT_LENGTH</th>\n",
       "      <th>TOTALINSP</th>\n",
       "      <th>PRCP</th>\n",
       "      <th>TMAX</th>\n",
       "      <th>TMIN</th>\n",
       "      <th>TOBS</th>\n",
       "    </tr>\n",
       "  </thead>\n",
       "  <tbody>\n",
       "    <tr>\n",
       "      <th>0</th>\n",
       "      <td>2021-05-28</td>\n",
       "      <td>Fri</td>\n",
       "      <td>Launch Drive</td>\n",
       "      <td>Monmouth</td>\n",
       "      <td>Cobbosseecontee Lake</td>\n",
       "      <td>4771</td>\n",
       "      <td>Paid</td>\n",
       "      <td>12:00</td>\n",
       "      <td>10.0</td>\n",
       "      <td>18:00</td>\n",
       "      <td>360</td>\n",
       "      <td>33.0</td>\n",
       "      <td>0.00</td>\n",
       "      <td>72.0</td>\n",
       "      <td>45.0</td>\n",
       "      <td>49.0</td>\n",
       "    </tr>\n",
       "    <tr>\n",
       "      <th>1</th>\n",
       "      <td>2021-05-28</td>\n",
       "      <td>Fri</td>\n",
       "      <td>Whippoorwill Road</td>\n",
       "      <td>Litchfield</td>\n",
       "      <td>Woodbury Pond</td>\n",
       "      <td>4174</td>\n",
       "      <td>Paid</td>\n",
       "      <td>12:00</td>\n",
       "      <td>1.0</td>\n",
       "      <td>18:00</td>\n",
       "      <td>360</td>\n",
       "      <td>13.0</td>\n",
       "      <td>0.00</td>\n",
       "      <td>72.0</td>\n",
       "      <td>45.0</td>\n",
       "      <td>49.0</td>\n",
       "    </tr>\n",
       "    <tr>\n",
       "      <th>2</th>\n",
       "      <td>2021-05-28</td>\n",
       "      <td>Fri</td>\n",
       "      <td>Augusta West Kampground</td>\n",
       "      <td>Winthrop</td>\n",
       "      <td>Annabessacook Lake</td>\n",
       "      <td>4769</td>\n",
       "      <td>Paid</td>\n",
       "      <td>12:00</td>\n",
       "      <td>0.0</td>\n",
       "      <td>18:00</td>\n",
       "      <td>360</td>\n",
       "      <td>1.0</td>\n",
       "      <td>0.00</td>\n",
       "      <td>72.0</td>\n",
       "      <td>45.0</td>\n",
       "      <td>49.0</td>\n",
       "    </tr>\n",
       "    <tr>\n",
       "      <th>3</th>\n",
       "      <td>2021-05-28</td>\n",
       "      <td>Fri</td>\n",
       "      <td>East Winthrop</td>\n",
       "      <td>Winthrop</td>\n",
       "      <td>Cobbosseecontee Lake</td>\n",
       "      <td>4485</td>\n",
       "      <td>Paid</td>\n",
       "      <td>12:00</td>\n",
       "      <td>1.0</td>\n",
       "      <td>18:00</td>\n",
       "      <td>360</td>\n",
       "      <td>2.0</td>\n",
       "      <td>0.00</td>\n",
       "      <td>72.0</td>\n",
       "      <td>45.0</td>\n",
       "      <td>49.0</td>\n",
       "    </tr>\n",
       "    <tr>\n",
       "      <th>4</th>\n",
       "      <td>2021-05-29</td>\n",
       "      <td>Sat</td>\n",
       "      <td>Thorofare Rd</td>\n",
       "      <td>Litchfield</td>\n",
       "      <td>Pleasant Pond</td>\n",
       "      <td>4944</td>\n",
       "      <td>Paid</td>\n",
       "      <td>7:00</td>\n",
       "      <td>1.0</td>\n",
       "      <td>17:00</td>\n",
       "      <td>600</td>\n",
       "      <td>11.0</td>\n",
       "      <td>0.02</td>\n",
       "      <td>62.0</td>\n",
       "      <td>45.0</td>\n",
       "      <td>46.0</td>\n",
       "    </tr>\n",
       "  </tbody>\n",
       "</table>\n",
       "</div>"
      ],
      "text/plain": [
       "       DATE1 DAY_OF_WEEK                SITE_NAME        TOWN  \\\n",
       "0 2021-05-28         Fri             Launch Drive    Monmouth   \n",
       "1 2021-05-28         Fri        Whippoorwill Road  Litchfield   \n",
       "2 2021-05-28         Fri  Augusta West Kampground    Winthrop   \n",
       "3 2021-05-28         Fri            East Winthrop    Winthrop   \n",
       "4 2021-05-29         Sat             Thorofare Rd  Litchfield   \n",
       "\n",
       "              WATERBODY  INSPECTOR_ID PAY_VOL SHIFT_START  TRAILERS SHIFT_END  \\\n",
       "0  Cobbosseecontee Lake          4771    Paid       12:00      10.0     18:00   \n",
       "1         Woodbury Pond          4174    Paid       12:00       1.0     18:00   \n",
       "2    Annabessacook Lake          4769    Paid       12:00       0.0     18:00   \n",
       "3  Cobbosseecontee Lake          4485    Paid       12:00       1.0     18:00   \n",
       "4         Pleasant Pond          4944    Paid        7:00       1.0     17:00   \n",
       "\n",
       "   SHIFT_LENGTH  TOTALINSP  PRCP  TMAX  TMIN  TOBS  \n",
       "0           360       33.0  0.00  72.0  45.0  49.0  \n",
       "1           360       13.0  0.00  72.0  45.0  49.0  \n",
       "2           360        1.0  0.00  72.0  45.0  49.0  \n",
       "3           360        2.0  0.00  72.0  45.0  49.0  \n",
       "4           600       11.0  0.02  62.0  45.0  46.0  "
      ]
     },
     "execution_count": 82,
     "metadata": {},
     "output_type": "execute_result"
    }
   ],
   "source": [
    "df.head()"
   ]
  },
  {
   "cell_type": "code",
   "execution_count": 84,
   "id": "eb47145c-d9ff-48e8-87d8-a31a3e251a24",
   "metadata": {
    "tags": []
   },
   "outputs": [],
   "source": [
    "df.to_csv('df_with_weather.csv', index=False)"
   ]
  },
  {
   "cell_type": "code",
   "execution_count": null,
   "id": "b8a5a974-d463-4cd9-96e2-680c376d391a",
   "metadata": {},
   "outputs": [],
   "source": []
  }
 ],
 "metadata": {
  "kernelspec": {
   "display_name": "Python 3 (ipykernel)",
   "language": "python",
   "name": "python3"
  },
  "language_info": {
   "codemirror_mode": {
    "name": "ipython",
    "version": 3
   },
   "file_extension": ".py",
   "mimetype": "text/x-python",
   "name": "python",
   "nbconvert_exporter": "python",
   "pygments_lexer": "ipython3",
   "version": "3.11.4"
  }
 },
 "nbformat": 4,
 "nbformat_minor": 5
}
